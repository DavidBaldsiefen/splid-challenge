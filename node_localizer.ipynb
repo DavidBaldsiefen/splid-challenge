{
 "cells": [
  {
   "cell_type": "code",
   "execution_count": 1,
   "metadata": {},
   "outputs": [
    {
     "name": "stderr",
     "output_type": "stream",
     "text": [
      "2024-01-20 21:06:50.379980: E external/local_xla/xla/stream_executor/cuda/cuda_dnn.cc:9261] Unable to register cuDNN factory: Attempting to register factory for plugin cuDNN when one has already been registered\n",
      "2024-01-20 21:06:50.380102: E external/local_xla/xla/stream_executor/cuda/cuda_fft.cc:607] Unable to register cuFFT factory: Attempting to register factory for plugin cuFFT when one has already been registered\n",
      "2024-01-20 21:06:50.393134: E external/local_xla/xla/stream_executor/cuda/cuda_blas.cc:1515] Unable to register cuBLAS factory: Attempting to register factory for plugin cuBLAS when one has already been registered\n",
      "2024-01-20 21:06:50.440790: I tensorflow/core/platform/cpu_feature_guard.cc:182] This TensorFlow binary is optimized to use available CPU instructions in performance-critical operations.\n",
      "To enable the following instructions: AVX2 FMA, in other operations, rebuild TensorFlow with the appropriate compiler flags.\n",
      "2024-01-20 21:06:51.612922: W tensorflow/compiler/tf2tensorrt/utils/py_utils.cc:38] TF-TRT Warning: Could not find TensorRT\n"
     ]
    }
   ],
   "source": [
    "import pandas as pd\n",
    "import numpy as np\n",
    "import pickle\n",
    "from pathlib import Path\n",
    "import tensorflow as tf\n",
    "\n",
    "%load_ext autoreload\n",
    "%autoreload 2\n",
    "from base import datahandler, prediction_models, evaluation, utils\n"
   ]
  },
  {
   "cell_type": "code",
   "execution_count": 2,
   "metadata": {},
   "outputs": [],
   "source": [
    "# model_ew = tf.keras.models.load_model('/home/david/Code/splid-challenge/wandb/run-20240112_140537-85ahbucq/files\\model_85ahbucq.hdf5')\n",
    "# model_ew.save('models/ew_localizer.hdf5')\n"
   ]
  },
  {
   "cell_type": "code",
   "execution_count": 3,
   "metadata": {},
   "outputs": [],
   "source": [
    "# Define the directory paths\n",
    "challenge_data_dir = Path('dataset/phase_1/')\n",
    "data_dir = challenge_data_dir / \"train\"\n",
    "labels_dir = challenge_data_dir / 'train_labels.csv'\n",
    "\n",
    "split_dataframes = datahandler.load_and_prepare_dataframes(data_dir, labels_dir)\n",
    "\n",
    "some_dataframes = {df_k : split_dataframes[df_k] for df_k in list(split_dataframes.keys())[:40]}"
   ]
  },
  {
   "cell_type": "code",
   "execution_count": 166,
   "metadata": {},
   "outputs": [
    {
     "name": "stdout",
     "output_type": "stream",
     "text": [
      "=========================Creating Generator=======================\n",
      "Seed: 69\n",
      "nTrain: 200 nVal: 50 (0.80)\n",
      "Padding: none\n",
      "Scaling: True \n",
      "Horizons: 12-12 @ stride 1\n",
      "Sin-Transformed features: ['Argument of Periapsis (deg)']\n",
      "Padding node locations in non-binary fashion ([20.0, 40.0, 60.0, 80.0, 120.0, 80.0, 60.0, 40.0, 20.0])\n",
      "=========================Finished Generator=======================\n"
     ]
    }
   ],
   "source": [
    "input_features = ['Eccentricity', 'Semimajor Axis (m)', 'Inclination (deg)', 'RAAN (deg)',\n",
    "       'Argument of Periapsis (deg)', 'True Anomaly (deg)', 'Latitude (deg)',\n",
    "       'Longitude (deg)', 'Altitude (m)', 'X (m)', 'Y (m)', 'Z (m)',\n",
    "       'Vx (m/s)', 'Vy (m/s)', 'Vz (m/s)']\n",
    "\n",
    "input_features_reduced = ['Eccentricity', 'Semimajor Axis (m)', 'Inclination (deg)', 'RAAN (deg)',\n",
    "       'Argument of Periapsis (deg)', 'True Anomaly (deg)', 'Latitude (deg)',\n",
    "       'Longitude (deg)', 'Altitude (m)']\n",
    "\n",
    "ew_input_features = ['Eccentricity', 'Semimajor Axis (m)', 'Argument of Periapsis (deg)', 'Longitude (deg)', 'Altitude (m)']\n",
    "#ew_input_features = ['Eccentricity', 'Longitude (deg)', 'Latitude (deg)']\n",
    "\n",
    "ns_input_features = ['Eccentricity', 'Semimajor Axis (m)', 'RAAN (deg)', 'Inclination (deg)', 'Latitude (deg)', 'Altitude (m)']\n",
    "\n",
    "\n",
    "utils.set_random_seed(42)\n",
    "ds_gen_ew = datahandler.DatasetGenerator(split_df=split_dataframes, input_features=ew_input_features,\n",
    "                                      with_labels=True, pad_location_labels=0,\n",
    "                                      nonbinary_padding=[120.0, 80.0, 60.0, 40.0, 20.0],\n",
    "                                      train_val_split=0.8, input_stride=1, padding='none',\n",
    "                                      transform_features=True,\n",
    "                                      input_history_steps=12, input_future_steps=12, seed=69)\n",
    "\n",
    "# ds_gen_ns = datahandler.DatasetGenerator(split_df=split_dataframes, input_features=ns_input_features,\n",
    "#                                       with_labels=True, pad_location_labels=2,\n",
    "#                                       train_val_split=0.8, input_stride=4, padding='none',\n",
    "#                                       transform_features=True,\n",
    "#                                       input_history_steps=80, input_future_steps=80, seed=69)"
   ]
  },
  {
   "cell_type": "code",
   "execution_count": null,
   "metadata": {},
   "outputs": [],
   "source": [
    "train_ew, val_ew = ds_gen_ew.get_datasets(512, label_features=['EW_Node_Location'], shuffle=True, stride=1)\n",
    "\n",
    "print(train_ew.element_spec)\n",
    "\n",
    "#dense_model = prediction_models.Dense_NN(train_combined, conv1d_layers=[[64,32],[32,16]], dense_layers=[64,32], l2_reg=0.0001, mixed_dropout=0.1, lr_scheduler=[30000,0.8], seed=0)\n",
    "model_ew = prediction_models.Dense_NN(val_ew, conv1d_layers=[], dense_layers=[256,128,64,32], l2_reg=0.0, mixed_dropout=0.0, lr_scheduler=[], seed=0)\n",
    "#dense_model = prediction_models.CNN(train_combined, conv_layers=[[64,6],[64,3],[64,3]], l2_reg=0.001, mixed_dropout=0.15, lr_scheduler=[20000,0.8], seed=0)\n",
    "#model_ew = prediction_models.LSTM_NN(val_ew, input_dropout=0.0, mixed_dropout=0.1, lstm_layers=[128,64], dense_layers=[32,16], l2_reg=0.0001, lr_scheduler=[], seed=1)\n",
    "\n",
    "train_ew = train_ew.map(lambda x,y:(x,y['EW_Node_Location']))\n",
    "val_ew = val_ew.map(lambda x,y:(x,y['EW_Node_Location'])) # temporary fix to allow class weights\n",
    "\n",
    "model_ew.summary()\n",
    "hist = model_ew.fit(train_ew, val_ds=val_ew, epochs=20, verbose=1, plot_hist=True, \n",
    "                    class_weight={0: 1.0, 1: 2.0}, \n",
    "                    callbacks=[])\n",
    "#model_ew.model.save('models/ew_localizer.hdf5')"
   ]
  },
  {
   "cell_type": "code",
   "execution_count": 189,
   "metadata": {},
   "outputs": [
    {
     "name": "stdout",
     "output_type": "stream",
     "text": [
      "(TensorSpec(shape=(None, 24, 5), dtype=tf.float64, name=None), {'EW_Node_Location_nb': TensorSpec(shape=(None,), dtype=tf.float32, name=None)})\n",
      "Model: \"model_8\"\n",
      "_________________________________________________________________\n",
      " Layer (type)                Output Shape              Param #   \n",
      "=================================================================\n",
      " Input (InputLayer)          [(None, 24, 5)]           0         \n",
      "                                                                 \n",
      " flatten_8 (Flatten)         (None, 120)               0         \n",
      "                                                                 \n",
      " dense_21 (Dense)            (None, 64)                7744      \n",
      "                                                                 \n",
      " dropout_9 (Dropout)         (None, 64)                0         \n",
      "                                                                 \n",
      " dense_22 (Dense)            (None, 32)                2080      \n",
      "                                                                 \n",
      " dropout_10 (Dropout)        (None, 32)                0         \n",
      "                                                                 \n",
      " dense_23 (Dense)            (None, 4)                 132       \n",
      "                                                                 \n",
      " dropout_11 (Dropout)        (None, 4)                 0         \n",
      "                                                                 \n",
      " EW_Node_Location_nb (Dense  (None, 1)                 5         \n",
      " )                                                               \n",
      "                                                                 \n",
      "=================================================================\n",
      "Total params: 9961 (38.91 KB)\n",
      "Trainable params: 9961 (38.91 KB)\n",
      "Non-trainable params: 0 (0.00 Byte)\n",
      "_________________________________________________________________\n",
      "Starting training. Optimizing \"val_accuracy\"\n",
      "Epoch 1/25\n",
      "843/843 [==============================] - 9s 9ms/step - loss: 16.7521 - mse: 16.7521 - mae: 0.3850 - val_loss: 15.7334 - val_mse: 15.7334 - val_mae: 0.4910\n",
      "Epoch 2/25\n",
      "843/843 [==============================] - 7s 8ms/step - loss: 12.2443 - mse: 12.2443 - mae: 0.3253 - val_loss: 12.2125 - val_mse: 12.2125 - val_mae: 0.2926\n",
      "Epoch 3/25\n",
      "843/843 [==============================] - 7s 8ms/step - loss: 10.7867 - mse: 10.7867 - mae: 0.2912 - val_loss: 12.5220 - val_mse: 12.5220 - val_mae: 0.3064\n",
      "Epoch 4/25\n",
      "843/843 [==============================] - 8s 9ms/step - loss: 10.2916 - mse: 10.2916 - mae: 0.2849 - val_loss: 11.8298 - val_mse: 11.8298 - val_mae: 0.3650\n",
      "Epoch 5/25\n",
      "843/843 [==============================] - 8s 9ms/step - loss: 10.0870 - mse: 10.0870 - mae: 0.2828 - val_loss: 12.6711 - val_mse: 12.6711 - val_mae: 0.3314\n",
      "Epoch 6/25\n",
      "843/843 [==============================] - 7s 9ms/step - loss: 9.7901 - mse: 9.7901 - mae: 0.2769 - val_loss: 10.8328 - val_mse: 10.8328 - val_mae: 0.2651\n",
      "Epoch 7/25\n",
      "843/843 [==============================] - 7s 9ms/step - loss: 9.7162 - mse: 9.7162 - mae: 0.2747 - val_loss: 10.9376 - val_mse: 10.9376 - val_mae: 0.2969\n",
      "Epoch 8/25\n",
      "843/843 [==============================] - 7s 9ms/step - loss: 9.5919 - mse: 9.5919 - mae: 0.2725 - val_loss: 12.6055 - val_mse: 12.6055 - val_mae: 0.3700\n",
      "Epoch 9/25\n",
      "843/843 [==============================] - 7s 9ms/step - loss: 9.4176 - mse: 9.4176 - mae: 0.2688 - val_loss: 11.2928 - val_mse: 11.2928 - val_mae: 0.3243\n",
      "Epoch 10/25\n",
      "843/843 [==============================] - 7s 9ms/step - loss: 9.3277 - mse: 9.3277 - mae: 0.2666 - val_loss: 10.7787 - val_mse: 10.7787 - val_mae: 0.3012\n",
      "Epoch 11/25\n",
      "843/843 [==============================] - 7s 9ms/step - loss: 9.2520 - mse: 9.2520 - mae: 0.2656 - val_loss: 9.8789 - val_mse: 9.8789 - val_mae: 0.2369\n",
      "Epoch 12/25\n",
      "843/843 [==============================] - 8s 9ms/step - loss: 9.4234 - mse: 9.4234 - mae: 0.2705 - val_loss: 11.0934 - val_mse: 11.0934 - val_mae: 0.3167\n",
      "Epoch 13/25\n",
      "843/843 [==============================] - 8s 9ms/step - loss: 9.1236 - mse: 9.1236 - mae: 0.2615 - val_loss: 9.6038 - val_mse: 9.6038 - val_mae: 0.2582\n",
      "Epoch 14/25\n",
      "843/843 [==============================] - 7s 9ms/step - loss: 9.0616 - mse: 9.0616 - mae: 0.2605 - val_loss: 9.4340 - val_mse: 9.4340 - val_mae: 0.2301\n",
      "Epoch 15/25\n",
      "843/843 [==============================] - 8s 9ms/step - loss: 9.0386 - mse: 9.0386 - mae: 0.2601 - val_loss: 12.9220 - val_mse: 12.9220 - val_mae: 0.4074\n",
      "Epoch 16/25\n",
      "843/843 [==============================] - 7s 9ms/step - loss: 9.0048 - mse: 9.0048 - mae: 0.2592 - val_loss: 12.6261 - val_mse: 12.6261 - val_mae: 0.3982\n",
      "Epoch 17/25\n",
      "843/843 [==============================] - 7s 9ms/step - loss: 9.0491 - mse: 9.0491 - mae: 0.2591 - val_loss: 9.0897 - val_mse: 9.0897 - val_mae: 0.2264\n",
      "Epoch 18/25\n",
      "843/843 [==============================] - 7s 9ms/step - loss: 9.0040 - mse: 9.0040 - mae: 0.2608 - val_loss: 13.7505 - val_mse: 13.7505 - val_mae: 0.4273\n",
      "Epoch 19/25\n",
      "843/843 [==============================] - 7s 9ms/step - loss: 8.9291 - mse: 8.9291 - mae: 0.2571 - val_loss: 15.0404 - val_mse: 15.0404 - val_mae: 0.4274\n",
      "Epoch 20/25\n",
      "843/843 [==============================] - 7s 8ms/step - loss: 8.9251 - mse: 8.9251 - mae: 0.2566 - val_loss: 9.0894 - val_mse: 9.0894 - val_mae: 0.2411\n",
      "Epoch 21/25\n",
      "843/843 [==============================] - 7s 9ms/step - loss: 8.9135 - mse: 8.9135 - mae: 0.2567 - val_loss: 10.9006 - val_mse: 10.9006 - val_mae: 0.3184\n",
      "Epoch 22/25\n",
      "843/843 [==============================] - 7s 9ms/step - loss: 8.8207 - mse: 8.8207 - mae: 0.2540 - val_loss: 15.2353 - val_mse: 15.2353 - val_mae: 0.4357\n",
      "Epoch 23/25\n",
      "843/843 [==============================] - 8s 9ms/step - loss: 8.7030 - mse: 8.7030 - mae: 0.2505 - val_loss: 8.7030 - val_mse: 8.7030 - val_mae: 0.2155\n",
      "Epoch 24/25\n",
      "843/843 [==============================] - 8s 9ms/step - loss: 8.7674 - mse: 8.7674 - mae: 0.2530 - val_loss: 9.2351 - val_mse: 9.2351 - val_mae: 0.2269\n",
      "Epoch 25/25\n",
      "843/843 [==============================] - 7s 9ms/step - loss: 8.7993 - mse: 8.7993 - mae: 0.2549 - val_loss: 20.1763 - val_mse: 20.1763 - val_mae: 0.6194\n",
      "Finished training after 25 epochs.\n",
      "Evaluating model:\n",
      "843/843 [==============================] - 4s 5ms/step - loss: 18.0522 - mse: 18.0522 - mae: 0.5245\n",
      "211/211 [==============================] - 1s 6ms/step - loss: 20.1763 - mse: 20.1763 - mae: 0.6194\n"
     ]
    },
    {
     "name": "stderr",
     "output_type": "stream",
     "text": [
      "/home/david/Code/splid-challenge/base/prediction_models.py:84: UserWarning: FigureCanvasAgg is non-interactive, and thus cannot be shown\n",
      "  fig.show()\n"
     ]
    },
    {
     "data": {
      "image/png": "[encoded data removed]",
      "text/plain": [
       "<Figure size 600x300 with 2 Axes>"
      ]
     },
     "metadata": {},
     "output_type": "display_data"
    }
   ],
   "source": [
    "train_ew, val_ew = ds_gen_ew.get_datasets(512, label_features=['EW_Node_Location_nb'], shuffle=True, stride=1)\n",
    "# TODO: add a form of stride that keeps all the label fields?\n",
    "print(train_ew.element_spec)\n",
    "\n",
    "model_ew = prediction_models.Dense_NN_regression(val_ew, conv1d_layers=[], dense_layers=[64,32,4],\n",
    "                                                 l2_reg=0.0, mixed_dropout=0.2,\n",
    "                                                 lr_scheduler=[0.001,10000,0.9],\n",
    "                                                 final_activation='relu',\n",
    "                                                 seed=0)\n",
    "\n",
    "model_ew.summary()\n",
    "hist = model_ew.fit(train_ew, val_ds=val_ew, epochs=25, verbose=1, plot_hist=True, callbacks=[])\n"
   ]
  },
  {
   "cell_type": "code",
   "execution_count": 198,
   "metadata": {},
   "outputs": [
    {
     "name": "stdout",
     "output_type": "stream",
     "text": [
      "Starting training. Optimizing \"val_accuracy\"\n",
      "843/843 [==============================] - 8s 10ms/step - loss: 8.7467 - mse: 8.7467 - mae: 0.2516 - val_loss: 11.9520 - val_mse: 11.9520 - val_mae: 0.3580\n",
      "Finished training after 1 epochs.\n",
      "Evaluating model:\n",
      "843/843 [==============================] - 4s 5ms/step - loss: 9.6756 - mse: 9.6756 - mae: 0.2348\n",
      "211/211 [==============================] - 1s 5ms/step - loss: 11.9520 - mse: 11.9520 - mae: 0.3580\n"
     ]
    },
    {
     "name": "stderr",
     "output_type": "stream",
     "text": [
      "/home/david/Code/splid-challenge/base/prediction_models.py:84: UserWarning: FigureCanvasAgg is non-interactive, and thus cannot be shown\n",
      "  fig.show()\n"
     ]
    },
    {
     "data": {
      "image/png": "[encoded data removed]",
      "text/plain": [
       "<Figure size 600x300 with 2 Axes>"
      ]
     },
     "metadata": {},
     "output_type": "display_data"
    }
   ],
   "source": [
    "hist = model_ew.fit(train_ew, val_ds=val_ew, epochs=1, verbose=1, plot_hist=True, callbacks=[])\n"
   ]
  },
  {
   "cell_type": "code",
   "execution_count": 169,
   "metadata": {},
   "outputs": [
    {
     "name": "stdout",
     "output_type": "stream",
     "text": [
      "<tf.Variable 'current_learning_rate:0' shape=() dtype=float32, numpy=0.00090000004>\n"
     ]
    }
   ],
   "source": [
    "print(model_ew.model.optimizer.learning_rate)"
   ]
  },
  {
   "cell_type": "code",
   "execution_count": null,
   "metadata": {},
   "outputs": [],
   "source": [
    "train_ns, val_ns = ds_gen_ns.get_datasets(512, label_features=['NS_Node_Location'], shuffle=True, stride=1)\n",
    "\n",
    "model_ns = prediction_models.Dense_NN(train_ns, conv1d_layers=[], dense_layers=[256, 128,64,32], l2_reg=0.0, mixed_dropout=0.0, lr_scheduler=[], seed=0)\n",
    "train_ns = train_ns.map(lambda x,y:(x,y['NS_Node_Location']))\n",
    "val_ns = val_ns.map(lambda x,y:(x,y['NS_Node_Location'])) # temporary fix to allow class weights\n",
    "\n",
    "model_ns.summary()\n",
    "hist = model_ns.fit(train_ns, val_ds=val_ns, epochs=20, verbose=1, plot_hist=False, class_weight={0: 0.5, 1: 20.0}, callbacks=[])\n",
    "model_ns.model.save('models/ns_localizer.hdf5')\n",
    "\n",
    "model_ns.plot_hist(hist, [k for k in hist.history.keys() if 'loss' in k])\n",
    "model_ns.plot_hist(hist, [k for k in hist.history.keys() if 'accuracy' in k])"
   ]
  },
  {
   "cell_type": "code",
   "execution_count": 12,
   "metadata": {},
   "outputs": [],
   "source": [
    "#model_ew = tf.keras.models.load_model('/home/david/Code/splid-challenge/wandb/run-20240115_185433-iebvf53e/files\\model_iebvf53e.hdf5')\n",
    "#model_ew.save('models/ew_localizer.hdf5')\n",
    "\n",
    "model_ew = tf.keras.models.load_model('/home/david/Code/splid-challenge/wandb/run-20240112_140537-85ahbucq/files\\model_85ahbucq.hdf5')\n",
    "# 25 6 23"
   ]
  },
  {
   "cell_type": "code",
   "execution_count": 201,
   "metadata": {},
   "outputs": [
    {
     "name": "stderr",
     "output_type": "stream",
     "text": [
      "/home/david/miniconda3/envs/splid-gpu/lib/python3.10/site-packages/keras/src/engine/training.py:3103: UserWarning: You are saving your model as an HDF5 file via `model.save()`. This file format is considered legacy. We recommend using instead the native Keras format, e.g. `model.save('my_model.keras')`.\n",
      "  saving_api.save_model(\n"
     ]
    }
   ],
   "source": [
    "model_ew.model.save('submission/models/ew_localizer.hdf5')\n",
    "pickle.dump(ds_gen_ew.scaler, open('submission/models/EW_localizer_scaler.pkl', 'wb'))"
   ]
  },
  {
   "cell_type": "code",
   "execution_count": 199,
   "metadata": {},
   "outputs": [
    {
     "name": "stdout",
     "output_type": "stream",
     "text": [
      "3369/3369 - 7s - 7s/epoch - 2ms/step\n",
      "Evaluator ignoring classifications\n",
      "Precision: 0.96\n",
      "Recall: 0.54\n",
      "F2: 0.59\n",
      "RMSE: 0.6504\n",
      "TP: 26 FP: 1 FN: 22\n"
     ]
    },
    {
     "name": "stderr",
     "output_type": "stream",
     "text": [
      "/home/david/Code/splid-challenge/base/evaluation.py:271: SettingWithCopyWarning: \n",
      "A value is trying to be set on a copy of a slice from a DataFrame.\n",
      "Try using .loc[row_indexer,col_indexer] = value instead\n",
      "\n",
      "See the caveats in the documentation: https://pandas.pydata.org/pandas-docs/stable/user_guide/indexing.html#returning-a-view-versus-a-copy\n",
      "  # Filter rows where any number of consecutive values follow each other\n"
     ]
    }
   ],
   "source": [
    "evaluator, result_df = evaluation.evaluate_localizer(ds_gen_ew,\n",
    "                                                    split_dataframes=split_dataframes,\n",
    "                                                    gt_path=challenge_data_dir / 'train_labels.csv',\n",
    "                                                    model=model_ew,\n",
    "                                                    train=False,\n",
    "                                                    with_initial_node=False,\n",
    "                                                    remove_consecutives=True,\n",
    "                                                    direction='EW',\n",
    "                                                    prediction_threshold=50.0,\n",
    "                                                    return_scores=False)\n",
    "# 50.0: 26 1 22\n",
    "# Idea: with regression approach, instead of using consecutive detection, compute local mean values, apply 2nd threshold? somtehing like that?"
   ]
  },
  {
   "cell_type": "code",
   "execution_count": 191,
   "metadata": {},
   "outputs": [
    {
     "name": "stdout",
     "output_type": "stream",
     "text": [
      "['1', '100', '101', '102', '103', '105', '106', '107', '108', '109', '11', '110', '111', '112', '113', '117', '118', '12', '120', '122', '124', '125', '126', '127', '128', '129', '13', '130', '131', '132', '133', '134', '135', '136', '138', '14', '140', '141', '142', '143', '144', '145', '146', '147', '149', '150', '151', '152', '153', '154', '155', '156', '157', '158', '159', '16', '162', '163', '164', '165', '166', '168', '169', '17', '170', '172', '173', '174', '175', '177', '178', '179', '18', '180', '181', '182', '183', '186', '187', '188', '189', '19', '190', '191', '192', '194', '195', '196', '197', '2', '20', '200', '201', '202', '203', '204', '205', '206', '207', '208', '209', '210', '213', '214', '215', '216', '217', '218', '219', '22', '220', '223', '224', '225', '226', '228', '229', '23', '231', '232', '234', '236', '237', '239', '24', '240', '242', '243', '244', '246', '247', '248', '249', '25', '250', '27', '28', '29', '3', '31', '32', '33', '34', '35', '37', '38', '39', '4', '40', '41', '42', '43', '44', '46', '48', '49', '5', '51', '53', '54', '55', '56', '57', '58', '59', '6', '62', '63', '64', '65', '68', '69', '7', '70', '71', '72', '74', '75', '76', '77', '78', '79', '8', '80', '81', '82', '83', '85', '86', '89', '9', '90', '92', '93', '94', '95', '96', '97', '98', '99']\n"
     ]
    },
    {
     "data": {
      "image/png": "[encoded data removed]",
      "text/plain": [
       "<Figure size 1000x600 with 2 Axes>"
      ]
     },
     "metadata": {},
     "output_type": "display_data"
    }
   ],
   "source": [
    "print(ds_gen_ew.train_keys)\n",
    "evaluator.plot(122)"
   ]
  },
  {
   "cell_type": "code",
   "execution_count": 192,
   "metadata": {},
   "outputs": [
    {
     "name": "stdout",
     "output_type": "stream",
     "text": [
      "        ObjectID  TimeIndex  Location  Location_Pred  Location_Pred_Raw  \\\n",
      "207530       122        121         0              1          41.358292   \n",
      "207531       122        122         0              1          72.189095   \n",
      "207532       122        123         0              1          97.825836   \n",
      "207533       122        124         1              1         122.176582   \n",
      "207534       122        125         0              1         111.815735   \n",
      "207535       122        126         0              1          71.369972   \n",
      "207536       122        127         0              1          46.205509   \n",
      "207537       122        128         0              1          27.297628   \n",
      "207962       122        553         0              1          28.518669   \n",
      "207963       122        554         0              1          71.265884   \n",
      "207964       122        555         0              1         124.096207   \n",
      "207965       122        556         0              1         159.353317   \n",
      "207966       122        557         1              1         143.565063   \n",
      "207967       122        558         0              1          97.765785   \n",
      "207968       122        559         0              1          56.496758   \n",
      "207969       122        560         0              1          30.660849   \n",
      "208190       122        781         0              1          50.013031   \n",
      "208191       122        782         0              1          71.454117   \n",
      "208192       122        783         1              1          84.010628   \n",
      "208193       122        784         0              1          72.016022   \n",
      "208194       122        785         0              1          32.254051   \n",
      "208225       122        816         1              0           0.074569   \n",
      "\n",
      "       Direction  Node  Type  \n",
      "207530        EW  None  None  \n",
      "207531        EW  None  None  \n",
      "207532        EW  None  None  \n",
      "207533        EW  None  None  \n",
      "207534        EW  None  None  \n",
      "207535        EW  None  None  \n",
      "207536        EW  None  None  \n",
      "207537        EW  None  None  \n",
      "207962        EW  None  None  \n",
      "207963        EW  None  None  \n",
      "207964        EW  None  None  \n",
      "207965        EW  None  None  \n",
      "207966        EW  None  None  \n",
      "207967        EW  None  None  \n",
      "207968        EW  None  None  \n",
      "207969        EW  None  None  \n",
      "208190        EW  None  None  \n",
      "208191        EW  None  None  \n",
      "208192        EW  None  None  \n",
      "208193        EW  None  None  \n",
      "208194        EW  None  None  \n",
      "208225        EW  None  None  \n"
     ]
    }
   ],
   "source": [
    "print(result_df.loc[(result_df['ObjectID'] == 122) & ((result_df['Location_Pred'] == True) | (result_df['Location'] == True))])"
   ]
  },
  {
   "cell_type": "code",
   "execution_count": 195,
   "metadata": {},
   "outputs": [
    {
     "name": "stdout",
     "output_type": "stream",
     "text": [
      "        ObjectID  TimeIndex  Location  Location_Pred  Location_Pred_Raw  \\\n",
      "207519       122        110         0              0           0.074569   \n",
      "207520       122        111         0              0           0.074569   \n",
      "207521       122        112         0              0           0.074569   \n",
      "207522       122        113         0              0           0.074569   \n",
      "207523       122        114         0              0           0.074569   \n",
      "207524       122        115         0              0           0.074569   \n",
      "207525       122        116         0              0           0.074569   \n",
      "207526       122        117         0              0           0.074569   \n",
      "207527       122        118         0              0           3.679910   \n",
      "207528       122        119         0              0          10.641794   \n",
      "207529       122        120         0              0          24.258537   \n",
      "207530       122        121         0              1          41.358292   \n",
      "207531       122        122         0              1          72.189095   \n",
      "207532       122        123         0              1          97.825836   \n",
      "207533       122        124         1              1         122.176582   \n",
      "207534       122        125         0              1         111.815735   \n",
      "207535       122        126         0              1          71.369972   \n",
      "207536       122        127         0              1          46.205509   \n",
      "207537       122        128         0              1          27.297628   \n",
      "207538       122        129         0              0           8.021850   \n",
      "207539       122        130         0              0           0.074569   \n",
      "207540       122        131         0              0           0.074569   \n",
      "207541       122        132         0              0           0.074569   \n",
      "207542       122        133         0              0           0.074569   \n",
      "207543       122        134         0              0           0.074569   \n",
      "207544       122        135         0              0           0.244114   \n",
      "207545       122        136         0              0           0.074569   \n",
      "207546       122        137         0              0           0.074569   \n",
      "207547       122        138         0              0           0.074569   \n",
      "207548       122        139         0              0           0.074569   \n",
      "207549       122        140         0              0           0.074569   \n",
      "\n",
      "       Direction  Node  Type  \n",
      "207519        EW  None  None  \n",
      "207520        EW  None  None  \n",
      "207521        EW  None  None  \n",
      "207522        EW  None  None  \n",
      "207523        EW  None  None  \n",
      "207524        EW  None  None  \n",
      "207525        EW  None  None  \n",
      "207526        EW  None  None  \n",
      "207527        EW  None  None  \n",
      "207528        EW  None  None  \n",
      "207529        EW  None  None  \n",
      "207530        EW  None  None  \n",
      "207531        EW  None  None  \n",
      "207532        EW  None  None  \n",
      "207533        EW  None  None  \n",
      "207534        EW  None  None  \n",
      "207535        EW  None  None  \n",
      "207536        EW  None  None  \n",
      "207537        EW  None  None  \n",
      "207538        EW  None  None  \n",
      "207539        EW  None  None  \n",
      "207540        EW  None  None  \n",
      "207541        EW  None  None  \n",
      "207542        EW  None  None  \n",
      "207543        EW  None  None  \n",
      "207544        EW  None  None  \n",
      "207545        EW  None  None  \n",
      "207546        EW  None  None  \n",
      "207547        EW  None  None  \n",
      "207548        EW  None  None  \n",
      "207549        EW  None  None  \n"
     ]
    }
   ],
   "source": [
    "print(result_df.loc[(result_df['ObjectID'] == 122) & (result_df['TimeIndex'] >= 110) & (result_df['TimeIndex'] <= 140)])"
   ]
  },
  {
   "cell_type": "code",
   "execution_count": 20,
   "metadata": {},
   "outputs": [
    {
     "name": "stdout",
     "output_type": "stream",
     "text": [
      "    ObjectID  TimeIndex Direction Node Type\n",
      "0        121        817        EW   IK   HK\n",
      "1        121          0        EW   SS   NK\n",
      "2        121        124        EW   AD   NK\n",
      "3        121        557        EW   AD   NK\n",
      "4        121        783        EW   AD   NK\n",
      "6        122          0        EW   SS   NK\n",
      "7        122        124        EW   AD   NK\n",
      "8        122        557        EW   AD   NK\n",
      "9        122        783        EW   AD   NK\n",
      "10       122        816        EW   IK   HK\n",
      "11       123          0        EW   SS   NK\n",
      "12       123        124        EW   AD   NK\n",
      "13       123        557        EW   AD   NK\n",
      "14       123       1804        EW   AD   NK\n",
      "    ObjectID  TimeIndex Direction Node Type\n",
      "0        121          0        EW   SS   NK\n",
      "1        121        124        EW   AD   NK\n",
      "2        121        557        EW   AD   NK\n",
      "3        121        783        EW   AD   NK\n",
      "4        121        816        EW   IK   HK\n",
      "5        122          0        EW   SS   NK\n",
      "6        122        124        EW   AD   NK\n",
      "7        122        557        EW   AD   NK\n",
      "8        122        783        EW   AD   NK\n",
      "9        122        816        EW   IK   HK\n",
      "10       123          0        EW   SS   NK\n",
      "11       123        124        EW   AD   NK\n",
      "12       123        557        EW   AD   NK\n",
      "13       123       1804        EW   AD   NK\n",
      "Precision: 1.00\n",
      "Recall: 1.00\n",
      "F2: 1.00\n",
      "RMSE: 0.2673\n",
      "TP: 14 FP: 0 FN: 0\n"
     ]
    }
   ],
   "source": [
    "\n",
    "direction = 'EW'\n",
    "ground_truth_from_file = pd.read_csv(labels_dir)\n",
    "ground_truth_from_file = ground_truth_from_file[ground_truth_from_file['ObjectID'].isin([121,122,123])].copy()\n",
    "ground_truth_from_file = ground_truth_from_file[(ground_truth_from_file['Direction'] == direction)]\n",
    "ground_truth_from_file = ground_truth_from_file.sort_values(['ObjectID', 'TimeIndex']).reset_index(drop=True)\n",
    "\n",
    "mergeDf = ground_truth_from_file.copy()\n",
    "mergeDf = mergeDf.drop([4])\n",
    "mergeDf.loc[-1] = [121, 817, 'EW', 'IK', 'HK']  # adding a row\n",
    "mergeDf.index = mergeDf.index + 1  # shifting index\n",
    "mergeDf = mergeDf.sort_index()  # sorting by index\n",
    "print(mergeDf)\n",
    "print(ground_truth_from_file)\n",
    "\n",
    "evaluator = evaluation.NodeDetectionEvaluator(ground_truth_from_file, mergeDf)\n",
    "precision, recall, f2, rmse, total_tp, total_fp, total_fn = evaluator.score()\n",
    "print(f'Precision: {precision:.2f}')\n",
    "print(f'Recall: {recall:.2f}')\n",
    "print(f'F2: {f2:.2f}')\n",
    "print(f'RMSE: {rmse:.4}')\n",
    "print(f'TP: {total_tp} FP: {total_fp} FN: {total_fn}')"
   ]
  },
  {
   "cell_type": "code",
   "execution_count": null,
   "metadata": {},
   "outputs": [
    {
     "name": "stderr",
     "output_type": "stream",
     "text": [
      "2024-01-06 23:47:48.838844: W external/local_tsl/tsl/framework/cpu_allocator_impl.cc:83] Allocation of 1028534400 exceeds 10% of free system memory.\n"
     ]
    }
   ],
   "source": [
    "eval_df = evaluation.localization_eval(ds_gen, challenge_data_dir / 'train_labels.csv', dense_model.model, train=True, add_initial_node=True)"
   ]
  },
  {
   "cell_type": "code",
   "execution_count": 10,
   "metadata": {},
   "outputs": [
    {
     "name": "stdout",
     "output_type": "stream",
     "text": [
      "    ObjectID  TimeIndex  Location  Location_Pred Node Type Direction\n",
      "0        106         69         0              1   AD   NK        EW\n",
      "1        108        179         0              1   SS   NK        EW\n",
      "2        114        201         0              1   AD   NK        EW\n",
      "3        116        201         0              1   AD   NK        EW\n",
      "4        117        461         0              1   AD   NK        EW\n",
      "5        123        125         0              1   AD   NK        EW\n",
      "6        124        367         0              1   AD   NK        EW\n",
      "7        129        972         1              0   IK   CK        EW\n",
      "8        130         86         1              0   IK   CK        EW\n",
      "9        131        155         0              1   AD   NK        EW\n",
      "10       135        936         1              0   IK   CK        EW\n",
      "11       139       1009         1              0   AD   NK        EW\n",
      "12       139       1098         1              0   IK   CK        EW\n",
      "13       141        157         1              0   ID   NK        EW\n",
      "14       143        505         1              0   ID   NK        EW\n",
      "15       146       1297         1              0   ID   NK        EW\n",
      "16       151        157         1              0   ID   NK        EW\n",
      "17       152        301         1              0   ID   NK        EW\n",
      "18       157       1561         1              0   ID   NK        EW\n",
      "19       159       1837         1              0   ID   NK        EW\n",
      "20       175       1069         1              0   ID   NK        EW\n",
      "21       176       1297         1              0   ID   NK        EW\n",
      "22       177       1561         1              0   ID   NK        EW\n",
      "23       178       1717         1              0   ID   NK        EW\n",
      "24       178       1888         1              0   AD   NK        EW\n",
      "25       178       1889         0              1   AD   NK        EW\n",
      "26       181        145         1              0   ID   NK        EW\n",
      "27       181        329         0              1   AD   NK        EW\n",
      "28       183        421         1              0   ID   NK        EW\n",
      "29       185        721         1              0   ID   NK        EW\n",
      "30       185        844         0              1   AD   NK        EW\n",
      "31       188       1249         1              0   ID   NK        EW\n",
      "32       190       1609         1              0   ID   NK        EW\n",
      "33       190       1862         0              1   AD   NK        EW\n",
      "34       191        145         1              0   ID   NK        EW\n",
      "35       194        589         1              0   ID   NK        EW\n",
      "36       199       1381         1              0   ID   NK        EW\n",
      "37       206        889         1              0   ID   NK        EW\n",
      "38       206       1011         0              1   AD   NK        EW\n",
      "39       209       1381         1              0   ID   NK        EW\n",
      "40       215        721         1              0   ID   NK        EW\n",
      "41       215        912         1              0   AD   NK        EW\n",
      "42       215        930         1              0   IK   HK        EW\n",
      "43       217       1165         1              0   ID   NK        EW\n",
      "44       217       1347         0              1   AD   NK        EW\n",
      "45       217       1435         0              1   IK   HK        EW\n",
      "46       219       1381         1              0   ID   NK        EW\n",
      "47       219       1601         0              1   AD   NK        EW\n",
      "48       244        355         1              0   IK   HK        EW\n",
      "49\n",
      "181\n"
     ]
    }
   ],
   "source": [
    "false_preds = eval_df.loc[(eval_df['Location'] != eval_df['Location_Pred'])].sort_values(['ObjectID', 'TimeIndex']).reset_index(drop=True)\n",
    "print(false_preds.head(80))\n",
    "false_preds = eval_df[eval_df['Location'] != eval_df['Location_Pred']]\n",
    "print(len(false_preds))\n",
    "print(len(eval_df))"
   ]
  },
  {
   "cell_type": "code",
   "execution_count": null,
   "metadata": {},
   "outputs": [],
   "source": []
  },
  {
   "cell_type": "code",
   "execution_count": null,
   "metadata": {},
   "outputs": [],
   "source": []
  }
 ],
 "metadata": {
  "kernelspec": {
   "display_name": "splid",
   "language": "python",
   "name": "python3"
  },
  "language_info": {
   "codemirror_mode": {
    "name": "ipython",
    "version": 3
   },
   "file_extension": ".py",
   "mimetype": "text/x-python",
   "name": "python",
   "nbconvert_exporter": "python",
   "pygments_lexer": "ipython3",
   "version": "3.10.13"
  }
 },
 "nbformat": 4,
 "nbformat_minor": 2
}
