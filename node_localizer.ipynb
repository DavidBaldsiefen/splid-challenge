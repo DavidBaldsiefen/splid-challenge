{
 "cells": [
  {
   "cell_type": "code",
   "execution_count": 1,
   "metadata": {},
   "outputs": [
    {
     "name": "stderr",
     "output_type": "stream",
     "text": [
      "2024-01-03 23:16:40.794085: I tensorflow/core/util/port.cc:113] oneDNN custom operations are on. You may see slightly different numerical results due to floating-point round-off errors from different computation orders. To turn them off, set the environment variable `TF_ENABLE_ONEDNN_OPTS=0`.\n",
      "2024-01-03 23:16:40.810643: I external/local_tsl/tsl/cuda/cudart_stub.cc:31] Could not find cuda drivers on your machine, GPU will not be used.\n",
      "2024-01-03 23:16:40.899124: E external/local_xla/xla/stream_executor/cuda/cuda_dnn.cc:9261] Unable to register cuDNN factory: Attempting to register factory for plugin cuDNN when one has already been registered\n",
      "2024-01-03 23:16:40.899176: E external/local_xla/xla/stream_executor/cuda/cuda_fft.cc:607] Unable to register cuFFT factory: Attempting to register factory for plugin cuFFT when one has already been registered\n",
      "2024-01-03 23:16:40.914023: E external/local_xla/xla/stream_executor/cuda/cuda_blas.cc:1515] Unable to register cuBLAS factory: Attempting to register factory for plugin cuBLAS when one has already been registered\n",
      "2024-01-03 23:16:40.946729: I external/local_tsl/tsl/cuda/cudart_stub.cc:31] Could not find cuda drivers on your machine, GPU will not be used.\n",
      "2024-01-03 23:16:40.947410: I tensorflow/core/platform/cpu_feature_guard.cc:182] This TensorFlow binary is optimized to use available CPU instructions in performance-critical operations.\n",
      "To enable the following instructions: AVX2 AVX_VNNI FMA, in other operations, rebuild TensorFlow with the appropriate compiler flags.\n",
      "2024-01-03 23:16:41.516890: W tensorflow/compiler/tf2tensorrt/utils/py_utils.cc:38] TF-TRT Warning: Could not find TensorRT\n"
     ]
    }
   ],
   "source": [
    "import pandas as pd\n",
    "import numpy as np\n",
    "from pathlib import Path\n",
    "\n",
    "%load_ext autoreload\n",
    "%autoreload 2\n",
    "from base import datahandler, prediction_models, evaluation\n"
   ]
  },
  {
   "cell_type": "code",
   "execution_count": 2,
   "metadata": {},
   "outputs": [],
   "source": [
    "# Define the directory paths\n",
    "challenge_data_dir = Path('dataset/phase_1/')\n",
    "data_dir = challenge_data_dir / \"train\"\n",
    "labels_dir = challenge_data_dir / 'train_labels.csv'\n",
    "\n",
    "split_dataframes = datahandler.load_and_prepare_dataframes(data_dir, labels_dir)\n",
    "\n",
    "some_dataframes = {df_k : split_dataframes[df_k] for df_k in list(split_dataframes.keys())[:100]}"
   ]
  },
  {
   "cell_type": "code",
   "execution_count": 3,
   "metadata": {},
   "outputs": [
    {
     "name": "stdout",
     "output_type": "stream",
     "text": [
      "env: TF_GPU_ALLOCATOR=cuda_malloc_async\n"
     ]
    }
   ],
   "source": [
    "from numba import cuda\n",
    "\n",
    "device = cuda.get_current_device()\n",
    "device.reset()\n",
    "\n",
    "%set_env TF_GPU_ALLOCATOR=cuda_malloc_async"
   ]
  },
  {
   "cell_type": "code",
   "execution_count": 3,
   "metadata": {},
   "outputs": [
    {
     "name": "stdout",
     "output_type": "stream",
     "text": [
      "=========================Creating Dataset=========================\n",
      "Seed: 69\n",
      "nTrain: 85 nVal: 15 (0.85)\n",
      "Padding: False\n",
      "Scaling: True\n",
      "Warning: Validation set contains labels which do not occur in training set! Maybe try different seed?\n",
      "Labels: ['EW_Node_Location']\n",
      "Warning: asymmetrical window size leads to slow computation during dataset creation\n"
     ]
    },
    {
     "name": "stderr",
     "output_type": "stream",
     "text": [
      "2024-01-03 23:18:09.738734: I external/local_xla/xla/stream_executor/cuda/cuda_executor.cc:901] successful NUMA node read from SysFS had negative value (-1), but there must be at least one NUMA node, so returning NUMA node zero. See more at https://github.com/torvalds/linux/blob/v6.0/Documentation/ABI/testing/sysfs-bus-pci#L344-L355\n",
      "2024-01-03 23:18:09.739050: W tensorflow/core/common_runtime/gpu/gpu_device.cc:2256] Cannot dlopen some GPU libraries. Please make sure the missing libraries mentioned above are installed properly if you would like to use GPU. Follow the guide at https://www.tensorflow.org/install/gpu for how to download and setup the required libraries for your platform.\n",
      "Skipping registering GPU devices...\n"
     ]
    },
    {
     "name": "stdout",
     "output_type": "stream",
     "text": [
      "Warning: asymmetrical window size leads to slow computation during dataset creation\n",
      "=========================Finished Dataset=========================\n"
     ]
    }
   ],
   "source": [
    "input_features = ['Eccentricity', 'Semimajor Axis (m)', 'Inclination (deg)', 'RAAN (deg)',\n",
    "       'Argument of Periapsis (deg)', 'True Anomaly (deg)', 'Latitude (deg)',\n",
    "       'Longitude (deg)', 'Altitude (m)', 'X (m)', 'Y (m)', 'Z (m)',\n",
    "       'Vx (m/s)', 'Vy (m/s)', 'Vz (m/s)']\n",
    "\n",
    "input_features_reduced = ['Eccentricity', 'Semimajor Axis (m)', 'Inclination (deg)', 'RAAN (deg)',\n",
    "       'Argument of Periapsis (deg)', 'True Anomaly (deg)', 'Latitude (deg)',\n",
    "       'Longitude (deg)', 'Altitude (m)']\n",
    "\n",
    "label_features=['EW_Node_Location']\n",
    "\n",
    "\n",
    "ds_gen = datahandler.DatasetGenerator(split_df=some_dataframes, input_features=input_features_reduced,\n",
    "                                      label_features=label_features,\n",
    "                                      train_val_split=0.85, stride=1, padding=False,\n",
    "                                      input_history_steps=40, input_future_steps=120, seed=69)"
   ]
  },
  {
   "cell_type": "code",
   "execution_count": 4,
   "metadata": {},
   "outputs": [
    {
     "name": "stdout",
     "output_type": "stream",
     "text": [
      "(TensorSpec(shape=(None, 160, 9), dtype=tf.float64, name=None), {'EW_Node_Location': TensorSpec(shape=(None,), dtype=tf.int32, name=None)})\n"
     ]
    }
   ],
   "source": [
    "train_combined, val_combined = ds_gen.get_datasets(512, label_features=label_features, shuffle=True)\n",
    "print(train_combined.element_spec)"
   ]
  },
  {
   "cell_type": "code",
   "execution_count": 5,
   "metadata": {},
   "outputs": [
    {
     "name": "stdout",
     "output_type": "stream",
     "text": [
      "Model: \"model\"\n",
      "_________________________________________________________________\n",
      " Layer (type)                Output Shape              Param #   \n",
      "=================================================================\n",
      " Input (InputLayer)          [(None, 160, 9)]          0         \n",
      "                                                                 \n",
      " conv1d (Conv1D)             (None, 97, 64)            36928     \n",
      "                                                                 \n",
      " conv1d_1 (Conv1D)           (None, 66, 32)            65568     \n",
      "                                                                 \n",
      " flatten (Flatten)           (None, 2112)              0         \n",
      "                                                                 \n",
      " dense (Dense)               (None, 64)                135232    \n",
      "                                                                 \n",
      " dense_1 (Dense)             (None, 32)                2080      \n",
      "                                                                 \n",
      " EW_Node_Location (Dense)    (None, 2)                 66        \n",
      "                                                                 \n",
      "=================================================================\n",
      "Total params: 239874 (937.01 KB)\n",
      "Trainable params: 239874 (937.01 KB)\n",
      "Non-trainable params: 0 (0.00 Byte)\n",
      "_________________________________________________________________\n",
      "Starting training. Optimizing \"val_accuracy\"\n",
      "Epoch 1/50\n",
      "336/336 [==============================] - 21s 59ms/step - loss: 0.0124 - accuracy: 0.9966 - val_loss: 0.0100 - val_accuracy: 0.9994\n",
      "Epoch 2/50\n",
      "336/336 [==============================] - 19s 55ms/step - loss: 0.0037 - accuracy: 0.9995 - val_loss: 0.0165 - val_accuracy: 0.9994\n",
      "Epoch 3/50\n",
      "336/336 [==============================] - 21s 59ms/step - loss: 0.0037 - accuracy: 0.9995 - val_loss: 0.0098 - val_accuracy: 0.9994\n",
      "Epoch 4/50\n",
      "336/336 [==============================] - 21s 59ms/step - loss: 0.0033 - accuracy: 0.9995 - val_loss: 0.0106 - val_accuracy: 0.9994\n",
      "Epoch 5/50\n",
      "336/336 [==============================] - 22s 62ms/step - loss: 0.0031 - accuracy: 0.9995 - val_loss: 0.0091 - val_accuracy: 0.9993\n",
      "Epoch 6/50\n",
      "336/336 [==============================] - 21s 57ms/step - loss: 0.0029 - accuracy: 0.9995 - val_loss: 0.0141 - val_accuracy: 0.9994\n",
      "Epoch 7/50\n",
      "336/336 [==============================] - 19s 55ms/step - loss: 0.0029 - accuracy: 0.9995 - val_loss: 0.0124 - val_accuracy: 0.9995\n",
      "Epoch 8/50\n",
      "336/336 [==============================] - 19s 55ms/step - loss: 0.0027 - accuracy: 0.9995 - val_loss: 0.0065 - val_accuracy: 0.9994\n",
      "Epoch 9/50\n",
      "336/336 [==============================] - 20s 57ms/step - loss: 0.0026 - accuracy: 0.9996 - val_loss: 0.0088 - val_accuracy: 0.9994\n",
      "Epoch 10/50\n",
      "336/336 [==============================] - 20s 57ms/step - loss: 0.0030 - accuracy: 0.9995 - val_loss: 0.0130 - val_accuracy: 0.9994\n",
      "Epoch 11/50\n",
      "336/336 [==============================] - 21s 60ms/step - loss: 0.0028 - accuracy: 0.9995 - val_loss: 0.0071 - val_accuracy: 0.9995\n",
      "Epoch 12/50\n",
      "336/336 [==============================] - 19s 55ms/step - loss: 0.0024 - accuracy: 0.9995 - val_loss: 0.0080 - val_accuracy: 0.9993\n",
      "Epoch 13/50\n",
      "336/336 [==============================] - 20s 57ms/step - loss: 0.0022 - accuracy: 0.9995 - val_loss: 0.0112 - val_accuracy: 0.9994\n",
      "Epoch 14/50\n",
      "336/336 [==============================] - 20s 56ms/step - loss: 0.0023 - accuracy: 0.9995 - val_loss: 0.0159 - val_accuracy: 0.9994\n",
      "Epoch 15/50\n",
      "336/336 [==============================] - 20s 57ms/step - loss: 0.0025 - accuracy: 0.9995 - val_loss: 0.0076 - val_accuracy: 0.9994\n",
      "Epoch 16/50\n",
      "336/336 [==============================] - 19s 56ms/step - loss: 0.0020 - accuracy: 0.9995 - val_loss: 0.0080 - val_accuracy: 0.9994\n",
      "Epoch 17/50\n",
      "336/336 [==============================] - 20s 57ms/step - loss: 0.0022 - accuracy: 0.9995 - val_loss: 0.0094 - val_accuracy: 0.9990\n",
      "Epoch 18/50\n",
      "336/336 [==============================] - 21s 59ms/step - loss: 0.0022 - accuracy: 0.9996 - val_loss: 0.0097 - val_accuracy: 0.9994\n",
      "Epoch 19/50\n",
      "336/336 [==============================] - 20s 58ms/step - loss: 0.0022 - accuracy: 0.9995 - val_loss: 0.0117 - val_accuracy: 0.9994\n",
      "Epoch 20/50\n",
      "336/336 [==============================] - 21s 59ms/step - loss: 0.0020 - accuracy: 0.9995 - val_loss: 0.0158 - val_accuracy: 0.9994\n",
      "Epoch 21/50\n",
      "336/336 [==============================] - 20s 58ms/step - loss: 0.0022 - accuracy: 0.9995 - val_loss: 0.0066 - val_accuracy: 0.9994\n",
      "Epoch 22/50\n",
      "336/336 [==============================] - 20s 56ms/step - loss: 0.0018 - accuracy: 0.9995 - val_loss: 0.0125 - val_accuracy: 0.9994\n",
      "Epoch 23/50\n",
      "336/336 [==============================] - 19s 56ms/step - loss: 0.0021 - accuracy: 0.9995 - val_loss: 0.0091 - val_accuracy: 0.9994\n",
      "Epoch 24/50\n",
      "336/336 [==============================] - 19s 56ms/step - loss: 0.0023 - accuracy: 0.9995 - val_loss: 0.0089 - val_accuracy: 0.9994\n",
      "Epoch 25/50\n",
      "336/336 [==============================] - 20s 57ms/step - loss: 0.0019 - accuracy: 0.9995 - val_loss: 0.0083 - val_accuracy: 0.9994\n",
      "Epoch 26/50\n",
      "336/336 [==============================] - 20s 56ms/step - loss: 0.0018 - accuracy: 0.9996 - val_loss: 0.0067 - val_accuracy: 0.9994\n",
      "Epoch 27/50\n",
      "336/336 [==============================] - 19s 55ms/step - loss: 0.0019 - accuracy: 0.9995 - val_loss: 0.0077 - val_accuracy: 0.9994\n",
      "Epoch 28/50\n",
      "336/336 [==============================] - 20s 57ms/step - loss: 0.0017 - accuracy: 0.9995 - val_loss: 0.0121 - val_accuracy: 0.9994\n",
      "Epoch 29/50\n",
      "336/336 [==============================] - 20s 56ms/step - loss: 0.0018 - accuracy: 0.9995 - val_loss: 0.0101 - val_accuracy: 0.9994\n",
      "Epoch 30/50\n",
      "336/336 [==============================] - 20s 56ms/step - loss: 0.0019 - accuracy: 0.9995 - val_loss: 0.0062 - val_accuracy: 0.9995\n",
      "Epoch 31/50\n",
      "336/336 [==============================] - 20s 57ms/step - loss: 0.0019 - accuracy: 0.9996 - val_loss: 0.0093 - val_accuracy: 0.9994\n",
      "Epoch 32/50\n",
      "336/336 [==============================] - 20s 56ms/step - loss: 0.0017 - accuracy: 0.9995 - val_loss: 0.0105 - val_accuracy: 0.9994\n",
      "Epoch 33/50\n",
      "336/336 [==============================] - 20s 56ms/step - loss: 0.0018 - accuracy: 0.9995 - val_loss: 0.0066 - val_accuracy: 0.9994\n",
      "Epoch 34/50\n",
      "336/336 [==============================] - 20s 56ms/step - loss: 0.0025 - accuracy: 0.9995 - val_loss: 0.0072 - val_accuracy: 0.9994\n",
      "Epoch 35/50\n",
      "336/336 [==============================] - 20s 57ms/step - loss: 0.0018 - accuracy: 0.9995 - val_loss: 0.0068 - val_accuracy: 0.9994\n",
      "Epoch 36/50\n",
      "336/336 [==============================] - 19s 54ms/step - loss: 0.0015 - accuracy: 0.9996 - val_loss: 0.0075 - val_accuracy: 0.9995\n",
      "Epoch 37/50\n",
      "336/336 [==============================] - 19s 55ms/step - loss: 0.0018 - accuracy: 0.9995 - val_loss: 0.0081 - val_accuracy: 0.9994\n",
      "Epoch 38/50\n",
      "336/336 [==============================] - 20s 56ms/step - loss: 0.0015 - accuracy: 0.9996 - val_loss: 0.0088 - val_accuracy: 0.9994\n",
      "Epoch 39/50\n",
      "336/336 [==============================] - 20s 56ms/step - loss: 0.0020 - accuracy: 0.9995 - val_loss: 0.0092 - val_accuracy: 0.9994\n",
      "Epoch 40/50\n",
      "336/336 [==============================] - 20s 56ms/step - loss: 0.0026 - accuracy: 0.9996 - val_loss: 0.0128 - val_accuracy: 0.9993\n",
      "Epoch 41/50\n",
      "336/336 [==============================] - 20s 57ms/step - loss: 0.0019 - accuracy: 0.9995 - val_loss: 0.0092 - val_accuracy: 0.9994\n",
      "Epoch 42/50\n",
      "336/336 [==============================] - 20s 58ms/step - loss: 0.0016 - accuracy: 0.9996 - val_loss: 0.0093 - val_accuracy: 0.9993\n",
      "Epoch 43/50\n",
      "336/336 [==============================] - 20s 57ms/step - loss: 0.0016 - accuracy: 0.9995 - val_loss: 0.0077 - val_accuracy: 0.9994\n",
      "Epoch 44/50\n",
      "336/336 [==============================] - 20s 56ms/step - loss: 0.0015 - accuracy: 0.9997 - val_loss: 0.0105 - val_accuracy: 0.9994\n",
      "Epoch 45/50\n",
      "336/336 [==============================] - 20s 57ms/step - loss: 0.0017 - accuracy: 0.9996 - val_loss: 0.0176 - val_accuracy: 0.9993\n",
      "Epoch 46/50\n",
      "336/336 [==============================] - 20s 56ms/step - loss: 0.0017 - accuracy: 0.9996 - val_loss: 0.0151 - val_accuracy: 0.9995\n",
      "Epoch 47/50\n",
      "336/336 [==============================] - 20s 56ms/step - loss: 0.0036 - accuracy: 0.9996 - val_loss: 0.0070 - val_accuracy: 0.9995\n",
      "Epoch 48/50\n",
      "336/336 [==============================] - 20s 57ms/step - loss: 0.0016 - accuracy: 0.9997 - val_loss: 0.0076 - val_accuracy: 0.9995\n",
      "Epoch 49/50\n",
      "336/336 [==============================] - 20s 57ms/step - loss: 0.0014 - accuracy: 0.9997 - val_loss: 0.0077 - val_accuracy: 0.9995\n",
      "Epoch 50/50\n",
      "336/336 [==============================] - 20s 57ms/step - loss: 0.0013 - accuracy: 0.9996 - val_loss: 0.0089 - val_accuracy: 0.9995\n",
      "Finished training after 50 epochs.\n",
      "Evaluating model:\n",
      "336/336 [==============================] - 8s 21ms/step - loss: 0.0012 - accuracy: 0.9997\n",
      "60/60 [==============================] - 1s 20ms/step - loss: 0.0089 - accuracy: 0.9995\n"
     ]
    },
    {
     "name": "stderr",
     "output_type": "stream",
     "text": [
      "/home/user/Code/splid-challenge/base/prediction_models.py:69: UserWarning: FigureCanvasAgg is non-interactive, and thus cannot be shown\n",
      "  fig.show()\n"
     ]
    },
    {
     "data": {
      "image/png": "[encoded data removed]",
      "text/plain": [
       "<Figure size 400x300 with 1 Axes>"
      ]
     },
     "metadata": {},
     "output_type": "display_data"
    },
    {
     "data": {
      "image/png": "[encoded data removed]",
      "text/plain": [
       "<Figure size 400x300 with 1 Axes>"
      ]
     },
     "metadata": {},
     "output_type": "display_data"
    }
   ],
   "source": [
    "dense_model = prediction_models.Dense_NN(train_combined, conv1d_layers=[[64,64],[32,32]], dense_layers=[64,32], l2_reg=0.0, mixed_dropout=0.0, lr_scheduler=[30000,0.8], seed=0)\n",
    "#dense_model = prediction_models.CNN(train_combined, conv_layers=[[64,6],[64,3],[64,3]], l2_reg=0.001, mixed_dropout=0.15, lr_scheduler=[20000,0.8], seed=0)\n",
    "\n",
    "dense_model.summary()\n",
    "hist = dense_model.fit(train_combined, val_ds=val_combined, epochs=50, verbose=1, plot_hist=False, callbacks=[])\n",
    "dense_model.model.save_weights('tmp_model.hdf5')\n",
    "\n",
    "dense_model.plot_hist(hist, [k for k in hist.history.keys() if 'loss' in k])\n",
    "dense_model.plot_hist(hist, [k for k in hist.history.keys() if 'accuracy' in k])"
   ]
  },
  {
   "cell_type": "code",
   "execution_count": 6,
   "metadata": {},
   "outputs": [],
   "source": [
    "dense_model = prediction_models.Dense_NN(train_combined, conv1d_layers=[[20,32],[10,32]], dense_layers=[128,64], l2_reg=0.0, mixed_dropout=0.0, lr_scheduler=[20000,0.8], seed=0)\n",
    "dense_model._model.load_weights('tmp_model.hdf5')"
   ]
  },
  {
   "cell_type": "code",
   "execution_count": 6,
   "metadata": {},
   "outputs": [],
   "source": [
    "def localization_eval(ds_gen, gt_path, model, train=True, add_initial_node=False):\n",
    "\n",
    "    t_ds, v_ds = ds_gen.get_datasets(512, label_features=label_features, shuffle=False, keep_identifier=True)\n",
    "    ds = t_ds if train else v_ds\n",
    "\n",
    "    ground_truth_labels = pd.concat([split_dataframes[k] for k in ds_gen.train_keys + ds_gen.val_keys])[['ObjectID', 'TimeIndex', 'EW_Node', 'EW_Type']].rename(columns={'EW_Node' : 'Node', 'EW_Type' : 'Type'})\n",
    "    ground_truth_labels['Direction'] = 'EW' # For now just EW, see line above\n",
    "    ground_truth_labels = ground_truth_labels[(ground_truth_labels['Direction'] == 'EW')]\n",
    "\n",
    "    inputs = np.concatenate([element for element in ds.map(lambda x,y,z: x).as_numpy_iterator()])\n",
    "    labels = np.concatenate([element['EW_Node_Location'] for element in ds.map(lambda x,y,z: y).as_numpy_iterator()])\n",
    "    identifiers = np.concatenate([element for element in ds.map(lambda x,y,z: z).as_numpy_iterator()])\n",
    "\n",
    "    # get predictions\n",
    "    preds = model.predict(inputs)\n",
    "    preds_argmax = np.argmax(preds, axis=1)\n",
    "\n",
    "    df = pd.DataFrame(np.concatenate([identifiers.reshape(-1,2)], axis=1), columns=['ObjectID', 'TimeIndex'], dtype=np.int32)\n",
    "    df['Location'] = labels\n",
    "    df[f'Location_Pred'] = preds_argmax\n",
    "\n",
    "    # add initial node prediction\n",
    "    if add_initial_node:\n",
    "        for obj in ds_gen.train_keys if train else ds_gen.val_keys:\n",
    "            df = df.sort_index()\n",
    "            df.loc[-1] = [int(obj), 0, 1, 1] # objid, timeindex, location, location_pred\n",
    "            df.index = df.index + 1\n",
    "            df = df.sort_index()\n",
    "    \n",
    "    df_filtered = df.loc[(df['Location_Pred'] == 1)]\n",
    "    df_filtered = df_filtered.sort_values(['ObjectID', 'TimeIndex']).reset_index(drop=True)    \n",
    "\n",
    "    # now, assign the real label to the locations\n",
    "    mergeDf = df_filtered.merge(ground_truth_labels, how='left', on = ['ObjectID', 'TimeIndex'])\n",
    "\n",
    "    ground_truth_from_file = pd.read_csv(gt_path).sort_values(['ObjectID', 'TimeIndex']).reset_index(drop=True)\n",
    "    ground_truth_from_file = ground_truth_from_file[ground_truth_from_file['ObjectID'].isin(map(int, ds_gen.train_keys if train else ds_gen.val_keys))].copy()\n",
    "    ground_truth_from_file = ground_truth_from_file[(ground_truth_from_file['Direction'] == 'EW')]\n",
    "\n",
    "    evaluator = evaluation.NodeDetectionEvaluator(ground_truth_from_file, mergeDf)\n",
    "    precision, recall, f2, rmse, total_tp, total_fp, total_fn = evaluator.score()\n",
    "    print(f'Precision: {precision:.2f}')\n",
    "    print(f'Recall: {recall:.2f}')\n",
    "    print(f'F2: {f2:.2f}')\n",
    "    print(f'RMSE: {rmse:.4}')\n",
    "    print(f'TP: {total_tp} FP: {total_fp} FN: {total_fn}')\n",
    "\n",
    "    return df.loc[(df['Location'] == 1) | (df['Location_Pred'] == 1)].merge(ground_truth_labels, how='left', on = ['ObjectID', 'TimeIndex'])"
   ]
  },
  {
   "cell_type": "code",
   "execution_count": 7,
   "metadata": {},
   "outputs": [
    {
     "name": "stdout",
     "output_type": "stream",
     "text": [
      "946/946 [==============================] - 2s 2ms/step\n",
      "Precision: 0.91\n",
      "Recall: 0.61\n",
      "F2: 0.65\n",
      "RMSE: 0.0\n",
      "TP: 20 FP: 2 FN: 13\n"
     ]
    }
   ],
   "source": [
    "eval_df = localization_eval(ds_gen, challenge_data_dir / 'train_labels.csv', dense_model.model, train=False, add_initial_node=True)\n",
    "# print(eval_df.head(50))"
   ]
  },
  {
   "cell_type": "code",
   "execution_count": 8,
   "metadata": {},
   "outputs": [
    {
     "name": "stdout",
     "output_type": "stream",
     "text": [
      "5364/5364 [==============================] - 13s 2ms/step\n",
      "Precision: 0.82\n",
      "Recall: 0.78\n",
      "F2: 0.79\n",
      "RMSE: 0.09091\n",
      "TP: 121 FP: 27 FN: 34\n"
     ]
    }
   ],
   "source": [
    "eval_df = localization_eval(ds_gen, challenge_data_dir / 'train_labels.csv', dense_model.model, train=True, add_initial_node=True)"
   ]
  },
  {
   "cell_type": "code",
   "execution_count": 10,
   "metadata": {},
   "outputs": [
    {
     "name": "stdout",
     "output_type": "stream",
     "text": [
      "    ObjectID  TimeIndex  Location  Location_Pred Node Type Direction\n",
      "0        106         69         0              1   AD   NK        EW\n",
      "1        108        179         0              1   SS   NK        EW\n",
      "2        114        201         0              1   AD   NK        EW\n",
      "3        116        201         0              1   AD   NK        EW\n",
      "4        117        461         0              1   AD   NK        EW\n",
      "5        123        125         0              1   AD   NK        EW\n",
      "6        124        367         0              1   AD   NK        EW\n",
      "7        129        972         1              0   IK   CK        EW\n",
      "8        130         86         1              0   IK   CK        EW\n",
      "9        131        155         0              1   AD   NK        EW\n",
      "10       135        936         1              0   IK   CK        EW\n",
      "11       139       1009         1              0   AD   NK        EW\n",
      "12       139       1098         1              0   IK   CK        EW\n",
      "13       141        157         1              0   ID   NK        EW\n",
      "14       143        505         1              0   ID   NK        EW\n",
      "15       146       1297         1              0   ID   NK        EW\n",
      "16       151        157         1              0   ID   NK        EW\n",
      "17       152        301         1              0   ID   NK        EW\n",
      "18       157       1561         1              0   ID   NK        EW\n",
      "19       159       1837         1              0   ID   NK        EW\n",
      "20       175       1069         1              0   ID   NK        EW\n",
      "21       176       1297         1              0   ID   NK        EW\n",
      "22       177       1561         1              0   ID   NK        EW\n",
      "23       178       1717         1              0   ID   NK        EW\n",
      "24       178       1888         1              0   AD   NK        EW\n",
      "25       178       1889         0              1   AD   NK        EW\n",
      "26       181        145         1              0   ID   NK        EW\n",
      "27       181        329         0              1   AD   NK        EW\n",
      "28       183        421         1              0   ID   NK        EW\n",
      "29       185        721         1              0   ID   NK        EW\n",
      "30       185        844         0              1   AD   NK        EW\n",
      "31       188       1249         1              0   ID   NK        EW\n",
      "32       190       1609         1              0   ID   NK        EW\n",
      "33       190       1862         0              1   AD   NK        EW\n",
      "34       191        145         1              0   ID   NK        EW\n",
      "35       194        589         1              0   ID   NK        EW\n",
      "36       199       1381         1              0   ID   NK        EW\n",
      "37       206        889         1              0   ID   NK        EW\n",
      "38       206       1011         0              1   AD   NK        EW\n",
      "39       209       1381         1              0   ID   NK        EW\n",
      "40       215        721         1              0   ID   NK        EW\n",
      "41       215        912         1              0   AD   NK        EW\n",
      "42       215        930         1              0   IK   HK        EW\n",
      "43       217       1165         1              0   ID   NK        EW\n",
      "44       217       1347         0              1   AD   NK        EW\n",
      "45       217       1435         0              1   IK   HK        EW\n",
      "46       219       1381         1              0   ID   NK        EW\n",
      "47       219       1601         0              1   AD   NK        EW\n",
      "48       244        355         1              0   IK   HK        EW\n",
      "49\n",
      "181\n"
     ]
    }
   ],
   "source": [
    "false_preds = eval_df.loc[(eval_df['Location'] != eval_df['Location_Pred'])].sort_values(['ObjectID', 'TimeIndex']).reset_index(drop=True)\n",
    "print(false_preds.head(80))\n",
    "false_preds = eval_df[eval_df['Location'] != eval_df['Location_Pred']]\n",
    "print(len(false_preds))\n",
    "print(len(eval_df))"
   ]
  },
  {
   "cell_type": "code",
   "execution_count": null,
   "metadata": {},
   "outputs": [],
   "source": []
  },
  {
   "cell_type": "code",
   "execution_count": null,
   "metadata": {},
   "outputs": [],
   "source": []
  }
 ],
 "metadata": {
  "kernelspec": {
   "display_name": "splid",
   "language": "python",
   "name": "python3"
  },
  "language_info": {
   "codemirror_mode": {
    "name": "ipython",
    "version": 3
   },
   "file_extension": ".py",
   "mimetype": "text/x-python",
   "name": "python",
   "nbconvert_exporter": "python",
   "pygments_lexer": "ipython3",
   "version": "3.10.13"
  }
 },
 "nbformat": 4,
 "nbformat_minor": 2
}
