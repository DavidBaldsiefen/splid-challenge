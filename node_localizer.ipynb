{
 "cells": [
  {
   "cell_type": "code",
   "execution_count": 1,
   "metadata": {},
   "outputs": [
    {
     "name": "stderr",
     "output_type": "stream",
     "text": [
      "2024-01-31 01:00:18.519914: E external/local_xla/xla/stream_executor/cuda/cuda_dnn.cc:9261] Unable to register cuDNN factory: Attempting to register factory for plugin cuDNN when one has already been registered\n",
      "2024-01-31 01:00:18.519970: E external/local_xla/xla/stream_executor/cuda/cuda_fft.cc:607] Unable to register cuFFT factory: Attempting to register factory for plugin cuFFT when one has already been registered\n",
      "2024-01-31 01:00:18.520820: E external/local_xla/xla/stream_executor/cuda/cuda_blas.cc:1515] Unable to register cuBLAS factory: Attempting to register factory for plugin cuBLAS when one has already been registered\n",
      "2024-01-31 01:00:18.527115: I tensorflow/core/platform/cpu_feature_guard.cc:182] This TensorFlow binary is optimized to use available CPU instructions in performance-critical operations.\n",
      "To enable the following instructions: AVX2 FMA, in other operations, rebuild TensorFlow with the appropriate compiler flags.\n",
      "2024-01-31 01:00:19.336762: W tensorflow/compiler/tf2tensorrt/utils/py_utils.cc:38] TF-TRT Warning: Could not find TensorRT\n"
     ]
    }
   ],
   "source": [
    "import pandas as pd\n",
    "import numpy as np\n",
    "import pickle\n",
    "from pathlib import Path\n",
    "import tensorflow as tf\n",
    "\n",
    "%load_ext autoreload\n",
    "%autoreload 2\n",
    "from base import datahandler, prediction_models, evaluation, utils\n"
   ]
  },
  {
   "cell_type": "code",
   "execution_count": 2,
   "metadata": {},
   "outputs": [],
   "source": [
    "# model_ew = tf.keras.models.load_model('/home/david/Code/splid-challenge/wandb/run-20240112_140537-85ahbucq/files\\model_85ahbucq.hdf5')\n",
    "# model_ew.save('models/ew_localizer.hdf5')\n"
   ]
  },
  {
   "cell_type": "code",
   "execution_count": 3,
   "metadata": {},
   "outputs": [],
   "source": [
    "# Define the directory paths\n",
    "challenge_data_dir = Path('dataset/phase_1_v2/')\n",
    "data_dir = challenge_data_dir / \"train\"\n",
    "labels_dir = challenge_data_dir / 'train_labels.csv'\n",
    "\n",
    "split_dataframes = datahandler.load_and_prepare_dataframes(data_dir, labels_dir)\n",
    "\n",
    "some_dataframes = {df_k : split_dataframes[df_k] for df_k in list(split_dataframes.keys())[:40]}"
   ]
  },
  {
   "cell_type": "code",
   "execution_count": 4,
   "metadata": {},
   "outputs": [
    {
     "name": "stdout",
     "output_type": "stream",
     "text": [
      "=========================Creating Generator=======================\n",
      "Seed: 69\n",
      "nTrain: 1520 nVal: 380 (0.80)\n",
      "Padding: none\n",
      "Scaling: True \n",
      "Horizons: 12-12 @ stride 1\n",
      "Sin-Transformed features: ['Argument of Periapsis (deg)']\n",
      "Padding node locations in non-binary fashion ([20.0, 40.0, 60.0, 80.0, 120.0, 80.0, 60.0, 40.0, 20.0])\n",
      "=========================Finished Generator=======================\n"
     ]
    }
   ],
   "source": [
    "input_features = ['Eccentricity', 'Semimajor Axis (m)', 'Inclination (deg)', 'RAAN (deg)',\n",
    "       'Argument of Periapsis (deg)', 'True Anomaly (deg)', 'Latitude (deg)',\n",
    "       'Longitude (deg)', 'Altitude (m)', 'X (m)', 'Y (m)', 'Z (m)',\n",
    "       'Vx (m/s)', 'Vy (m/s)', 'Vz (m/s)']\n",
    "\n",
    "input_features_reduced = ['Eccentricity', 'Semimajor Axis (m)', 'Inclination (deg)', 'RAAN (deg)',\n",
    "       'Argument of Periapsis (deg)', 'True Anomaly (deg)', 'Latitude (deg)',\n",
    "       'Longitude (deg)', 'Altitude (m)']\n",
    "\n",
    "ew_input_features = ['Eccentricity', 'Semimajor Axis (m)', 'Argument of Periapsis (deg)', 'Longitude (deg)', 'Altitude (m)']\n",
    "#ew_input_features = ['Eccentricity', 'Longitude (deg)', 'Latitude (deg)']\n",
    "\n",
    "ns_input_features = ['Eccentricity', 'Semimajor Axis (m)', 'RAAN (deg)', 'Inclination (deg)', 'Latitude (deg)']\n",
    "\n",
    "\n",
    "utils.set_random_seed(42)\n",
    "ds_gen_ew = datahandler.DatasetGenerator(split_df=split_dataframes, input_features=ew_input_features,\n",
    "                                      with_labels=True, pad_location_labels=0,\n",
    "                                      nonbinary_padding=[120.0, 80.0, 60.0, 40.0, 20.0],\n",
    "                                      train_val_split=0.8, input_stride=1, padding='none',\n",
    "                                      transform_features=True,\n",
    "                                      input_history_steps=12, input_future_steps=12, seed=69)\n",
    "\n",
    "# ds_gen_ns = datahandler.DatasetGenerator(split_df=split_dataframes, input_features=ns_input_features,\n",
    "#                                       with_labels=True, pad_location_labels=0,\n",
    "#                                       nonbinary_padding=[120.0, 80.0, 60.0, 40.0, 20.0],\n",
    "#                                       train_val_split=0.8, input_stride=1, padding='none',\n",
    "#                                       transform_features=True,\n",
    "#                                       input_history_steps=12, input_future_steps=12, seed=69)"
   ]
  },
  {
   "cell_type": "code",
   "execution_count": null,
   "metadata": {},
   "outputs": [],
   "source": [
    "train_ew, val_ew = ds_gen_ew.get_datasets(512, label_features=['EW_Node_Location'], shuffle=True, stride=1)\n",
    "\n",
    "print(train_ew.element_spec)\n",
    "\n",
    "#dense_model = prediction_models.Dense_NN(train_combined, conv1d_layers=[[64,32],[32,16]], dense_layers=[64,32], l2_reg=0.0001, mixed_dropout=0.1, lr_scheduler=[30000,0.8], seed=0)\n",
    "model_ew = prediction_models.Dense_NN(val_ew, conv1d_layers=[], dense_layers=[256,128,64,32], l2_reg=0.0, mixed_dropout=0.0, lr_scheduler=[], seed=0)\n",
    "#dense_model = prediction_models.CNN(train_combined, conv_layers=[[64,6],[64,3],[64,3]], l2_reg=0.001, mixed_dropout=0.15, lr_scheduler=[20000,0.8], seed=0)\n",
    "#model_ew = prediction_models.LSTM_NN(val_ew, input_dropout=0.0, mixed_dropout=0.1, lstm_layers=[128,64], dense_layers=[32,16], l2_reg=0.0001, lr_scheduler=[], seed=1)\n",
    "\n",
    "train_ew = train_ew.map(lambda x,y:(x,y['EW_Node_Location']))\n",
    "val_ew = val_ew.map(lambda x,y:(x,y['EW_Node_Location'])) # temporary fix to allow class weights\n",
    "\n",
    "model_ew.summary()\n",
    "hist = model_ew.fit(train_ew, val_ds=val_ew, epochs=20, verbose=1, plot_hist=True, \n",
    "                    class_weight={0: 1.0, 1: 2.0}, \n",
    "                    callbacks=[])\n",
    "#model_ew.model.save('models/ew_localizer.hdf5')"
   ]
  },
  {
   "cell_type": "code",
   "execution_count": 5,
   "metadata": {},
   "outputs": [],
   "source": [
    "train_ew, val_ew = ds_gen_ew.get_datasets(512, label_features=['EW_Node_Location_nb'], shuffle=True, stride=1)\n",
    "# TODO: add a form of stride that keeps all the label fields?\n",
    "print(train_ew.element_spec)\n",
    "\n",
    "model_ew = prediction_models.Dense_NN_regression(val_ew, conv1d_layers=[], dense_layers=[64,32,4],\n",
    "                                                 l2_reg=0.0, mixed_dropout=0.2,\n",
    "                                                 lr_scheduler=[0.001,15000,0.9],\n",
    "                                                 final_activation='relu',\n",
    "                                                 seed=0)\n",
    "\n",
    "model_ew.summary()\n",
    "hist = model_ew.fit(train_ew, val_ds=val_ew, epochs=30, verbose=1, plot_hist=True, callbacks=[])\n"
   ]
  },
  {
   "cell_type": "code",
   "execution_count": 35,
   "metadata": {},
   "outputs": [
    {
     "name": "stdout",
     "output_type": "stream",
     "text": [
      "(TensorSpec(shape=(None, 24, 5), dtype=tf.float64, name=None), {'EW_Node_Location_nb': TensorSpec(shape=(None,), dtype=tf.float32, name=None), 'NS_Node_Location_nb': TensorSpec(shape=(None,), dtype=tf.float32, name=None)})\n",
      "Model: \"model_3\"\n",
      "__________________________________________________________________________________________________\n",
      " Layer (type)                Output Shape                 Param #   Connected to                  \n",
      "==================================================================================================\n",
      " Input (InputLayer)          [(None, 24, 5)]              0         []                            \n",
      "                                                                                                  \n",
      " flatten_3 (Flatten)         (None, 120)                  0         ['Input[0][0]']               \n",
      "                                                                                                  \n",
      " dense_9 (Dense)             (None, 64)                   7744      ['flatten_3[0][0]']           \n",
      "                                                                                                  \n",
      " dropout_9 (Dropout)         (None, 64)                   0         ['dense_9[0][0]']             \n",
      "                                                                                                  \n",
      " dense_10 (Dense)            (None, 32)                   2080      ['dropout_9[0][0]']           \n",
      "                                                                                                  \n",
      " dropout_10 (Dropout)        (None, 32)                   0         ['dense_10[0][0]']            \n",
      "                                                                                                  \n",
      " dense_11 (Dense)            (None, 4)                    132       ['dropout_10[0][0]']          \n",
      "                                                                                                  \n",
      " dropout_11 (Dropout)        (None, 4)                    0         ['dense_11[0][0]']            \n",
      "                                                                                                  \n",
      " EW_Node_Location_nb (Dense  (None, 1)                    5         ['dropout_11[0][0]']          \n",
      " )                                                                                                \n",
      "                                                                                                  \n",
      " NS_Node_Location_nb (Dense  (None, 1)                    5         ['dropout_11[0][0]']          \n",
      " )                                                                                                \n",
      "                                                                                                  \n",
      "==================================================================================================\n",
      "Total params: 9966 (38.93 KB)\n",
      "Trainable params: 9966 (38.93 KB)\n",
      "Non-trainable params: 0 (0.00 Byte)\n",
      "__________________________________________________________________________________________________\n",
      "Starting training. Optimizing \"val_accuracy\"\n",
      "Epoch 1/5\n",
      "135/135 [==============================] - 3s 15ms/step - loss: 45.2380 - EW_Node_Location_nb_loss: 26.2608 - NS_Node_Location_nb_loss: 18.9772 - EW_Node_Location_nb_mse: 26.2608 - EW_Node_Location_nb_mae: 0.5957 - NS_Node_Location_nb_mse: 18.9772 - NS_Node_Location_nb_mae: 0.3062 - val_loss: 21.0654 - val_EW_Node_Location_nb_loss: 9.9894 - val_NS_Node_Location_nb_loss: 11.0760 - val_EW_Node_Location_nb_mse: 9.9894 - val_EW_Node_Location_nb_mae: 0.2963 - val_NS_Node_Location_nb_mse: 11.0760 - val_NS_Node_Location_nb_mae: 0.3175\n",
      "Epoch 2/5\n",
      "135/135 [==============================] - 2s 13ms/step - loss: 39.9647 - EW_Node_Location_nb_loss: 21.0438 - NS_Node_Location_nb_loss: 18.9209 - EW_Node_Location_nb_mse: 21.0438 - EW_Node_Location_nb_mae: 0.4166 - NS_Node_Location_nb_mse: 18.9209 - NS_Node_Location_nb_mae: 0.3596 - val_loss: 17.7352 - val_EW_Node_Location_nb_loss: 6.7622 - val_NS_Node_Location_nb_loss: 10.9730 - val_EW_Node_Location_nb_mse: 6.7622 - val_EW_Node_Location_nb_mae: 0.3098 - val_NS_Node_Location_nb_mse: 10.9730 - val_NS_Node_Location_nb_mae: 0.2474\n",
      "Epoch 3/5\n",
      "135/135 [==============================] - 2s 13ms/step - loss: 35.3638 - EW_Node_Location_nb_loss: 16.4732 - NS_Node_Location_nb_loss: 18.8906 - EW_Node_Location_nb_mse: 16.4732 - EW_Node_Location_nb_mae: 0.3870 - NS_Node_Location_nb_mse: 18.8906 - NS_Node_Location_nb_mae: 0.3747 - val_loss: 17.3498 - val_EW_Node_Location_nb_loss: 6.3937 - val_NS_Node_Location_nb_loss: 10.9560 - val_EW_Node_Location_nb_mse: 6.3937 - val_EW_Node_Location_nb_mae: 0.1816 - val_NS_Node_Location_nb_mse: 10.9560 - val_NS_Node_Location_nb_mae: 0.2850\n",
      "Epoch 4/5\n",
      "135/135 [==============================] - 2s 13ms/step - loss: 34.5152 - EW_Node_Location_nb_loss: 15.6428 - NS_Node_Location_nb_loss: 18.8723 - EW_Node_Location_nb_mse: 15.6428 - EW_Node_Location_nb_mae: 0.3519 - NS_Node_Location_nb_mse: 18.8723 - NS_Node_Location_nb_mae: 0.4089 - val_loss: 17.0777 - val_EW_Node_Location_nb_loss: 6.1227 - val_NS_Node_Location_nb_loss: 10.9550 - val_EW_Node_Location_nb_mse: 6.1227 - val_EW_Node_Location_nb_mae: 0.1905 - val_NS_Node_Location_nb_mse: 10.9550 - val_NS_Node_Location_nb_mae: 0.3162\n",
      "Epoch 5/5\n",
      "135/135 [==============================] - 2s 13ms/step - loss: 34.0637 - EW_Node_Location_nb_loss: 15.2190 - NS_Node_Location_nb_loss: 18.8448 - EW_Node_Location_nb_mse: 15.2190 - EW_Node_Location_nb_mae: 0.3518 - NS_Node_Location_nb_mse: 18.8448 - NS_Node_Location_nb_mae: 0.4382 - val_loss: 16.8683 - val_EW_Node_Location_nb_loss: 5.9346 - val_NS_Node_Location_nb_loss: 10.9337 - val_EW_Node_Location_nb_mse: 5.9346 - val_EW_Node_Location_nb_mae: 0.2009 - val_NS_Node_Location_nb_mse: 10.9337 - val_NS_Node_Location_nb_mae: 0.3401\n",
      "Finished training after 5 epochs.\n",
      "Evaluating model:\n",
      "135/135 [==============================] - 1s 7ms/step - loss: 33.5490 - EW_Node_Location_nb_loss: 14.7469 - NS_Node_Location_nb_loss: 18.8021 - EW_Node_Location_nb_mse: 14.7469 - EW_Node_Location_nb_mae: 0.3503 - NS_Node_Location_nb_mse: 18.8021 - NS_Node_Location_nb_mae: 0.4502\n",
      "34/34 [==============================] - 0s 7ms/step - loss: 16.8683 - EW_Node_Location_nb_loss: 5.9346 - NS_Node_Location_nb_loss: 10.9337 - EW_Node_Location_nb_mse: 5.9346 - EW_Node_Location_nb_mae: 0.2009 - NS_Node_Location_nb_mse: 10.9337 - NS_Node_Location_nb_mae: 0.3401\n"
     ]
    },
    {
     "name": "stderr",
     "output_type": "stream",
     "text": [
      "/home/david/Code/splid-challenge/base/prediction_models.py:84: UserWarning: FigureCanvasAgg is non-interactive, and thus cannot be shown\n",
      "  fig.show()\n"
     ]
    },
    {
     "data": {
      "image/png": "[encoded data removed]",
      "text/plain": [
       "<Figure size 600x300 with 2 Axes>"
      ]
     },
     "metadata": {},
     "output_type": "display_data"
    }
   ],
   "source": [
    "train_ns, val_ns = ds_gen_ns.get_datasets(512, label_features=['EW_Node_Location_nb', 'NS_Node_Location_nb'], shuffle=True, stride=1)\n",
    "# TODO: add a form of stride that keeps all the label fields?\n",
    "print(train_ns.element_spec)\n",
    "\n",
    "model_ns = prediction_models.Dense_NN_regression(val_ns, conv1d_layers=[], dense_layers=[64,32,4],\n",
    "                                                 l2_reg=0.0, mixed_dropout=0.2,\n",
    "                                                 lr_scheduler=[0.001,30000,0.9],\n",
    "                                                 final_activation='relu',\n",
    "                                                 seed=0)\n",
    "\n",
    "model_ns.summary()\n",
    "hist = model_ns.fit(train_ns, val_ds=val_ns, epochs=5, verbose=1, plot_hist=True, callbacks=[])\n"
   ]
  },
  {
   "cell_type": "code",
   "execution_count": 10,
   "metadata": {},
   "outputs": [
    {
     "name": "stdout",
     "output_type": "stream",
     "text": [
      "Starting training. Optimizing \"val_accuracy\"\n",
      "Epoch 1/20\n"
     ]
    },
    {
     "name": "stdout",
     "output_type": "stream",
     "text": [
      "6383/6383 [==============================] - 60s 9ms/step - loss: 16.6613 - mse: 16.6613 - mae: 0.4537 - val_loss: 17.0329 - val_mse: 17.0329 - val_mae: 0.4648\n",
      "Epoch 2/20\n",
      "6383/6383 [==============================] - 61s 10ms/step - loss: 16.6546 - mse: 16.6546 - mae: 0.4536 - val_loss: 17.0293 - val_mse: 17.0293 - val_mae: 0.4651\n",
      "Epoch 3/20\n",
      "6383/6383 [==============================] - 60s 9ms/step - loss: 16.6479 - mse: 16.6479 - mae: 0.4534 - val_loss: 17.0277 - val_mse: 17.0277 - val_mae: 0.4647\n",
      "Epoch 4/20\n",
      "6383/6383 [==============================] - 61s 10ms/step - loss: 16.6444 - mse: 16.6444 - mae: 0.4533 - val_loss: 17.0159 - val_mse: 17.0159 - val_mae: 0.4649\n",
      "Epoch 5/20\n",
      "6383/6383 [==============================] - 59s 9ms/step - loss: 16.6373 - mse: 16.6373 - mae: 0.4534 - val_loss: 17.0163 - val_mse: 17.0163 - val_mae: 0.4652\n",
      "Epoch 6/20\n",
      "6383/6383 [==============================] - 61s 10ms/step - loss: 16.6323 - mse: 16.6323 - mae: 0.4531 - val_loss: 17.0145 - val_mse: 17.0145 - val_mae: 0.4662\n",
      "Epoch 7/20\n",
      "6383/6383 [==============================] - 61s 10ms/step - loss: 16.6286 - mse: 16.6286 - mae: 0.4531 - val_loss: 17.0071 - val_mse: 17.0071 - val_mae: 0.4648\n",
      "Epoch 8/20\n",
      "6383/6383 [==============================] - 61s 9ms/step - loss: 16.6244 - mse: 16.6244 - mae: 0.4528 - val_loss: 17.0055 - val_mse: 17.0055 - val_mae: 0.4654\n",
      "Epoch 9/20\n",
      "6383/6383 [==============================] - 61s 10ms/step - loss: 16.6203 - mse: 16.6203 - mae: 0.4532 - val_loss: 16.9926 - val_mse: 16.9926 - val_mae: 0.4649\n",
      "Epoch 10/20\n",
      "6383/6383 [==============================] - 61s 10ms/step - loss: 16.6129 - mse: 16.6129 - mae: 0.4528 - val_loss: 16.9977 - val_mse: 16.9977 - val_mae: 0.4653\n",
      "Epoch 11/20\n",
      "6383/6383 [==============================] - 61s 10ms/step - loss: 16.6084 - mse: 16.6084 - mae: 0.4526 - val_loss: 16.9876 - val_mse: 16.9876 - val_mae: 0.4643\n",
      "Epoch 12/20\n",
      "6383/6383 [==============================] - 61s 10ms/step - loss: 16.6048 - mse: 16.6048 - mae: 0.4526 - val_loss: 16.9937 - val_mse: 16.9937 - val_mae: 0.4652\n",
      "Epoch 13/20\n",
      "6383/6383 [==============================] - 68s 11ms/step - loss: 16.6015 - mse: 16.6015 - mae: 0.4526 - val_loss: 16.9858 - val_mse: 16.9858 - val_mae: 0.4661\n",
      "Epoch 14/20\n",
      "6383/6383 [==============================] - 61s 10ms/step - loss: 16.5935 - mse: 16.5935 - mae: 0.4526 - val_loss: 16.9833 - val_mse: 16.9833 - val_mae: 0.4642\n",
      "Epoch 15/20\n",
      "6383/6383 [==============================] - 65s 10ms/step - loss: 16.5897 - mse: 16.5897 - mae: 0.4522 - val_loss: 16.9789 - val_mse: 16.9789 - val_mae: 0.4643\n",
      "Epoch 16/20\n",
      "6383/6383 [==============================] - 62s 10ms/step - loss: 16.5858 - mse: 16.5858 - mae: 0.4522 - val_loss: 16.9797 - val_mse: 16.9797 - val_mae: 0.4642\n",
      "Epoch 17/20\n",
      "6383/6383 [==============================] - 62s 10ms/step - loss: 16.5820 - mse: 16.5820 - mae: 0.4519 - val_loss: 16.9768 - val_mse: 16.9768 - val_mae: 0.4640\n",
      "Epoch 18/20\n",
      "6383/6383 [==============================] - 63s 10ms/step - loss: 16.5788 - mse: 16.5788 - mae: 0.4509 - val_loss: 16.9680 - val_mse: 16.9680 - val_mae: 0.4623\n",
      "Epoch 19/20\n",
      "6383/6383 [==============================] - 64s 10ms/step - loss: 16.5761 - mse: 16.5761 - mae: 0.4512 - val_loss: 16.9637 - val_mse: 16.9637 - val_mae: 0.4624\n",
      "Epoch 20/20\n",
      "6383/6383 [==============================] - 64s 10ms/step - loss: 16.5709 - mse: 16.5709 - mae: 0.4517 - val_loss: 16.9646 - val_mse: 16.9646 - val_mae: 0.4640\n",
      "Finished training after 20 epochs.\n",
      "Evaluating model:\n",
      "6383/6383 [==============================] - 34s 5ms/step - loss: 16.6673 - mse: 16.6673 - mae: 0.4619\n",
      "1596/1596 [==============================] - 9s 5ms/step - loss: 16.9646 - mse: 16.9646 - mae: 0.4640\n"
     ]
    },
    {
     "data": {
      "image/png": "[encoded data removed]",
      "text/plain": [
       "<Figure size 600x300 with 2 Axes>"
      ]
     },
     "metadata": {},
     "output_type": "display_data"
    }
   ],
   "source": [
    "# train_ns, val_ns = ds_gen_ns.get_datasets(512, label_features=['NS_Node_Location_nb'], shuffle=True, stride=1)\n",
    "# model_ns = prediction_models.Dense_NN_regression(val_ns, conv1d_layers=[], dense_layers=[64,32,4],\n",
    "#                                                  l2_reg=0.0, mixed_dropout=0.2,\n",
    "#                                                  lr_scheduler=[0.001,15000,0.9],\n",
    "#                                                  final_activation='relu',\n",
    "#                                                  seed=0)\n",
    "# model_ns.load_model('submission/models/ns_localizer.hdf5')\n",
    "# model_ns.summary()\n",
    "hist = model_ns.fit(train_ns, val_ds=val_ns, epochs=20, verbose=1, plot_hist=True, callbacks=[])"
   ]
  },
  {
   "cell_type": "code",
   "execution_count": 12,
   "metadata": {},
   "outputs": [],
   "source": [
    "model_ns.model.save('submission/models/ns_localizer.hdf5')\n",
    "pickle.dump(ds_gen_ns.scaler, open('submission/models/NS_localizer_scaler.pkl', 'wb'))"
   ]
  },
  {
   "cell_type": "code",
   "execution_count": 7,
   "metadata": {},
   "outputs": [
    {
     "name": "stdout",
     "output_type": "stream",
     "text": [
      "Starting training. Optimizing \"val_accuracy\"\n",
      "Epoch 1/5\n",
      "   1/6383 [..............................] - ETA: 1:39 - loss: 0.0057 - mse: 0.0057 - mae: 0.0755"
     ]
    },
    {
     "name": "stdout",
     "output_type": "stream",
     "text": [
      "6383/6383 [==============================] - 54s 8ms/step - loss: 7.1303 - mse: 7.1303 - mae: 0.2125 - val_loss: 7.5114 - val_mse: 7.5114 - val_mae: 0.2170\n",
      "Epoch 2/5\n",
      "6383/6383 [==============================] - 51s 8ms/step - loss: 7.1238 - mse: 7.1238 - mae: 0.2122 - val_loss: 7.5023 - val_mse: 7.5023 - val_mae: 0.2171\n",
      "Epoch 3/5\n",
      "6383/6383 [==============================] - 51s 8ms/step - loss: 7.1125 - mse: 7.1125 - mae: 0.2112 - val_loss: 7.4796 - val_mse: 7.4796 - val_mae: 0.2167\n",
      "Epoch 4/5\n",
      "6383/6383 [==============================] - 50s 8ms/step - loss: 7.1057 - mse: 7.1057 - mae: 0.2112 - val_loss: 7.4752 - val_mse: 7.4752 - val_mae: 0.2168\n",
      "Epoch 5/5\n",
      "6383/6383 [==============================] - 53s 8ms/step - loss: 7.0977 - mse: 7.0977 - mae: 0.2107 - val_loss: 7.4521 - val_mse: 7.4521 - val_mae: 0.2165\n",
      "Finished training after 5 epochs.\n",
      "Evaluating model:\n",
      "6383/6383 [==============================] - 34s 5ms/step - loss: 7.2150 - mse: 7.2150 - mae: 0.2113\n",
      "1596/1596 [==============================] - 9s 5ms/step - loss: 7.4521 - mse: 7.4521 - mae: 0.2165\n"
     ]
    },
    {
     "data": {
      "image/png": "[encoded data removed]",
      "text/plain": [
       "<Figure size 600x300 with 2 Axes>"
      ]
     },
     "metadata": {},
     "output_type": "display_data"
    }
   ],
   "source": [
    "hist = model_ew.fit(train_ew, val_ds=val_ew, epochs=5, verbose=1, plot_hist=True, callbacks=[])\n"
   ]
  },
  {
   "cell_type": "code",
   "execution_count": 9,
   "metadata": {},
   "outputs": [
    {
     "name": "stdout",
     "output_type": "stream",
     "text": [
      "<tf.Variable 'current_learning_rate:0' shape=() dtype=float32, numpy=0.000109418936>\n"
     ]
    }
   ],
   "source": [
    "print(model_ns.model.optimizer.learning_rate)"
   ]
  },
  {
   "cell_type": "code",
   "execution_count": null,
   "metadata": {},
   "outputs": [],
   "source": [
    "train_ns, val_ns = ds_gen_ns.get_datasets(512, label_features=['NS_Node_Location'], shuffle=True, stride=1)\n",
    "\n",
    "model_ns = prediction_models.Dense_NN(train_ns, conv1d_layers=[], dense_layers=[256, 128,64,32], l2_reg=0.0, mixed_dropout=0.0, lr_scheduler=[], seed=0)\n",
    "train_ns = train_ns.map(lambda x,y:(x,y['NS_Node_Location']))\n",
    "val_ns = val_ns.map(lambda x,y:(x,y['NS_Node_Location'])) # temporary fix to allow class weights\n",
    "\n",
    "model_ns.summary()\n",
    "hist = model_ns.fit(train_ns, val_ds=val_ns, epochs=20, verbose=1, plot_hist=False, class_weight={0: 0.5, 1: 20.0}, callbacks=[])\n",
    "model_ns.model.save('models/ns_localizer.hdf5')\n",
    "\n",
    "model_ns.plot_hist(hist, [k for k in hist.history.keys() if 'loss' in k])\n",
    "model_ns.plot_hist(hist, [k for k in hist.history.keys() if 'accuracy' in k])"
   ]
  },
  {
   "cell_type": "code",
   "execution_count": 12,
   "metadata": {},
   "outputs": [],
   "source": [
    "#model_ew = tf.keras.models.load_model('/home/david/Code/splid-challenge/wandb/run-20240115_185433-iebvf53e/files\\model_iebvf53e.hdf5')\n",
    "#model_ew.save('models/ew_localizer.hdf5')\n",
    "\n",
    "model_ew = tf.keras.models.load_model('/home/david/Code/splid-challenge/wandb/run-20240112_140537-85ahbucq/files\\model_85ahbucq.hdf5')\n",
    "# 25 6 23"
   ]
  },
  {
   "cell_type": "code",
   "execution_count": 5,
   "metadata": {},
   "outputs": [
    {
     "name": "stderr",
     "output_type": "stream",
     "text": [
      "2024-01-29 18:22:51.113319: I external/local_xla/xla/stream_executor/cuda/cuda_executor.cc:887] could not open file to read NUMA node: /sys/bus/pci/devices/0000:1c:00.0/numa_node\n",
      "Your kernel may have been built without NUMA support.\n",
      "2024-01-29 18:22:51.134439: I external/local_xla/xla/stream_executor/cuda/cuda_executor.cc:887] could not open file to read NUMA node: /sys/bus/pci/devices/0000:1c:00.0/numa_node\n",
      "Your kernel may have been built without NUMA support.\n",
      "2024-01-29 18:22:51.134511: I external/local_xla/xla/stream_executor/cuda/cuda_executor.cc:887] could not open file to read NUMA node: /sys/bus/pci/devices/0000:1c:00.0/numa_node\n",
      "Your kernel may have been built without NUMA support.\n",
      "2024-01-29 18:22:51.136062: I external/local_xla/xla/stream_executor/cuda/cuda_executor.cc:887] could not open file to read NUMA node: /sys/bus/pci/devices/0000:1c:00.0/numa_node\n",
      "Your kernel may have been built without NUMA support.\n",
      "2024-01-29 18:22:51.136155: I external/local_xla/xla/stream_executor/cuda/cuda_executor.cc:887] could not open file to read NUMA node: /sys/bus/pci/devices/0000:1c:00.0/numa_node\n",
      "Your kernel may have been built without NUMA support.\n",
      "2024-01-29 18:22:51.136221: I external/local_xla/xla/stream_executor/cuda/cuda_executor.cc:887] could not open file to read NUMA node: /sys/bus/pci/devices/0000:1c:00.0/numa_node\n",
      "Your kernel may have been built without NUMA support.\n",
      "2024-01-29 18:22:52.718897: I external/local_xla/xla/stream_executor/cuda/cuda_executor.cc:887] could not open file to read NUMA node: /sys/bus/pci/devices/0000:1c:00.0/numa_node\n",
      "Your kernel may have been built without NUMA support.\n",
      "2024-01-29 18:22:52.718983: I external/local_xla/xla/stream_executor/cuda/cuda_executor.cc:887] could not open file to read NUMA node: /sys/bus/pci/devices/0000:1c:00.0/numa_node\n",
      "Your kernel may have been built without NUMA support.\n",
      "2024-01-29 18:22:52.718992: I tensorflow/core/common_runtime/gpu/gpu_device.cc:2022] Could not identify NUMA node of platform GPU id 0, defaulting to 0.  Your kernel may not have been built with NUMA support.\n",
      "2024-01-29 18:22:52.719056: I external/local_xla/xla/stream_executor/cuda/cuda_executor.cc:887] could not open file to read NUMA node: /sys/bus/pci/devices/0000:1c:00.0/numa_node\n",
      "Your kernel may have been built without NUMA support.\n",
      "2024-01-29 18:22:52.719077: I tensorflow/core/common_runtime/gpu/gpu_device.cc:1929] Created device /job:localhost/replica:0/task:0/device:GPU:0 with 4575 MB memory:  -> device: 0, name: NVIDIA GeForce GTX 1060 6GB, pci bus id: 0000:1c:00.0, compute capability: 6.1\n"
     ]
    }
   ],
   "source": [
    "model_ns = tf.keras.models.load_model('submission/models/ns_localizer.hdf5')\n"
   ]
  },
  {
   "cell_type": "code",
   "execution_count": 6,
   "metadata": {},
   "outputs": [
    {
     "name": "stderr",
     "output_type": "stream",
     "text": [
      "2024-01-29 18:22:59.040209: W external/local_tsl/tsl/framework/cpu_allocator_impl.cc:83] Allocation of 3137272320 exceeds 10% of free system memory.\n",
      "2024-01-29 18:23:00.642686: W external/local_tsl/tsl/framework/cpu_allocator_impl.cc:83] Allocation of 3137272320 exceeds 10% of free system memory.\n"
     ]
    },
    {
     "name": "stdout",
     "output_type": "stream",
     "text": [
      "25531/25531 [==============================] - 63s 2ms/step\n",
      "   ObjectID  TimeIndex    NS_Loc\n",
      "0         3         11  0.191206\n",
      "1         3         12  0.191206\n",
      "2         3         13  0.191206\n",
      "3         3         14  0.191206\n",
      "4         3         15  0.191206\n",
      "5         3         16  0.191206\n",
      "6         3         17  0.191206\n",
      "7         3         18  0.191206\n",
      "8         3         19  0.191206\n",
      "9         3         20  0.191206\n",
      "   ObjectID  TimeIndex Direction\n",
      "0       117        480        NS\n",
      "1       393       2155        NS\n",
      "2       412        654        NS\n",
      "3       472       1371        NS\n",
      "4       473       1645        NS\n",
      "5       475        940        NS\n",
      "6       478       1981        NS\n",
      "7       480        675        NS\n",
      "8       482        828        NS\n",
      "9       546        439        NS\n",
      "Evaluator ignoring classifications\n"
     ]
    }
   ],
   "source": [
    "from base import localizer\n",
    "\n",
    "preds_df = localizer.create_prediction_df(ds_gen=ds_gen_ew,\n",
    "                                model=model_ns,\n",
    "                                train=False,\n",
    "                                test=False,\n",
    "                                output_dirs=['EW'],\n",
    "                                verbose=1)\n",
    "\n",
    "subm_df = localizer.postprocess_predictions(preds_df=preds_df,\n",
    "                                            dirs=['EW'],\n",
    "                                            threshold=50.0,\n",
    "                                            add_initial_node=False,\n",
    "                                            clean_consecutives=True)\n",
    "\n",
    "evaluator, sub_df = localizer.evaluate_localizer(subm_df=subm_df,\n",
    "                                                 gt_path=challenge_data_dir / 'train_labels.csv',\n",
    "                                                 object_ids=list(map(int, ds_gen_ew.val_keys)),\n",
    "                                                 dirs=['EW'],\n",
    "                                                 with_initial_node=False,\n",
    "                                                 return_scores=False,\n",
    "                                                 verbose=1)"
   ]
  },
  {
   "cell_type": "code",
   "execution_count": 6,
   "metadata": {},
   "outputs": [
    {
     "name": "stderr",
     "output_type": "stream",
     "text": [
      "2024-01-29 17:19:34.249844: W external/local_tsl/tsl/framework/cpu_allocator_impl.cc:83] Allocation of 3137272320 exceeds 10% of free system memory.\n",
      "2024-01-29 17:19:36.274124: W external/local_tsl/tsl/framework/cpu_allocator_impl.cc:83] Allocation of 3137272320 exceeds 10% of free system memory.\n"
     ]
    },
    {
     "name": "stdout",
     "output_type": "stream",
     "text": [
      "25531/25531 - 59s - 59s/epoch - 2ms/step\n"
     ]
    },
    {
     "name": "stderr",
     "output_type": "stream",
     "text": [
      "/home/david/Code/splid-challenge/base/evaluation.py:271: SettingWithCopyWarning: \n",
      "A value is trying to be set on a copy of a slice from a DataFrame.\n",
      "Try using .loc[row_indexer,col_indexer] = value instead\n",
      "\n",
      "See the caveats in the documentation: https://pandas.pydata.org/pandas-docs/stable/user_guide/indexing.html#returning-a-view-versus-a-copy\n",
      "  df_filtered['consecutive'] = (df_filtered['TimeIndex'] - df_filtered['TimeIndex'].shift(1) != 1).cumsum()\n"
     ]
    },
    {
     "name": "stdout",
     "output_type": "stream",
     "text": [
      "Evaluator ignoring classifications\n",
      "Precision: 0.83\n",
      "Recall: 0.16\n",
      "F2: 0.19\n",
      "RMSE: 1.037\n",
      "TP: 67 FP: 14 FN: 351\n"
     ]
    }
   ],
   "source": [
    "evaluator, result_df = evaluation.evaluate_localizer(ds_gen_ns,\n",
    "                                                    split_dataframes=split_dataframes,\n",
    "                                                    gt_path=challenge_data_dir / 'train_labels.csv',\n",
    "                                                    model=model_ns,\n",
    "                                                    train=False,\n",
    "                                                    with_initial_node=False,\n",
    "                                                    remove_consecutives=True,\n",
    "                                                    direction='NS',\n",
    "                                                    prediction_threshold=50.0,\n",
    "                                                    return_scores=False)\n",
    "# 50.0: 0.96 0.78 0.81 489 22 163\n",
    "# 25.0: 0.96 0.67 0.71 420 19 205\n",
    "# Idea: with regression approach, instead of using consecutive detection, compute local mean values, apply 2nd threshold? somtehing like that?\n"
   ]
  },
  {
   "cell_type": "code",
   "execution_count": null,
   "metadata": {},
   "outputs": [],
   "source": [
    "pickle.dump(ds_gen_ew.scaler, open('submission/models/EW_localizer_scaler.pkl', 'wb'))"
   ]
  },
  {
   "cell_type": "code",
   "execution_count": 191,
   "metadata": {},
   "outputs": [
    {
     "name": "stdout",
     "output_type": "stream",
     "text": [
      "['1', '100', '101', '102', '103', '105', '106', '107', '108', '109', '11', '110', '111', '112', '113', '117', '118', '12', '120', '122', '124', '125', '126', '127', '128', '129', '13', '130', '131', '132', '133', '134', '135', '136', '138', '14', '140', '141', '142', '143', '144', '145', '146', '147', '149', '150', '151', '152', '153', '154', '155', '156', '157', '158', '159', '16', '162', '163', '164', '165', '166', '168', '169', '17', '170', '172', '173', '174', '175', '177', '178', '179', '18', '180', '181', '182', '183', '186', '187', '188', '189', '19', '190', '191', '192', '194', '195', '196', '197', '2', '20', '200', '201', '202', '203', '204', '205', '206', '207', '208', '209', '210', '213', '214', '215', '216', '217', '218', '219', '22', '220', '223', '224', '225', '226', '228', '229', '23', '231', '232', '234', '236', '237', '239', '24', '240', '242', '243', '244', '246', '247', '248', '249', '25', '250', '27', '28', '29', '3', '31', '32', '33', '34', '35', '37', '38', '39', '4', '40', '41', '42', '43', '44', '46', '48', '49', '5', '51', '53', '54', '55', '56', '57', '58', '59', '6', '62', '63', '64', '65', '68', '69', '7', '70', '71', '72', '74', '75', '76', '77', '78', '79', '8', '80', '81', '82', '83', '85', '86', '89', '9', '90', '92', '93', '94', '95', '96', '97', '98', '99']\n"
     ]
    },
    {
     "data": {
      "image/png": "[encoded data removed]",
      "text/plain": [
       "<Figure size 1000x600 with 2 Axes>"
      ]
     },
     "metadata": {},
     "output_type": "display_data"
    }
   ],
   "source": [
    "print(ds_gen_ew.train_keys)\n",
    "evaluator.plot(122)"
   ]
  },
  {
   "cell_type": "code",
   "execution_count": 192,
   "metadata": {},
   "outputs": [
    {
     "name": "stdout",
     "output_type": "stream",
     "text": [
      "        ObjectID  TimeIndex  Location  Location_Pred  Location_Pred_Raw  \\\n",
      "207530       122        121         0              1          41.358292   \n",
      "207531       122        122         0              1          72.189095   \n",
      "207532       122        123         0              1          97.825836   \n",
      "207533       122        124         1              1         122.176582   \n",
      "207534       122        125         0              1         111.815735   \n",
      "207535       122        126         0              1          71.369972   \n",
      "207536       122        127         0              1          46.205509   \n",
      "207537       122        128         0              1          27.297628   \n",
      "207962       122        553         0              1          28.518669   \n",
      "207963       122        554         0              1          71.265884   \n",
      "207964       122        555         0              1         124.096207   \n",
      "207965       122        556         0              1         159.353317   \n",
      "207966       122        557         1              1         143.565063   \n",
      "207967       122        558         0              1          97.765785   \n",
      "207968       122        559         0              1          56.496758   \n",
      "207969       122        560         0              1          30.660849   \n",
      "208190       122        781         0              1          50.013031   \n",
      "208191       122        782         0              1          71.454117   \n",
      "208192       122        783         1              1          84.010628   \n",
      "208193       122        784         0              1          72.016022   \n",
      "208194       122        785         0              1          32.254051   \n",
      "208225       122        816         1              0           0.074569   \n",
      "\n",
      "       Direction  Node  Type  \n",
      "207530        EW  None  None  \n",
      "207531        EW  None  None  \n",
      "207532        EW  None  None  \n",
      "207533        EW  None  None  \n",
      "207534        EW  None  None  \n",
      "207535        EW  None  None  \n",
      "207536        EW  None  None  \n",
      "207537        EW  None  None  \n",
      "207962        EW  None  None  \n",
      "207963        EW  None  None  \n",
      "207964        EW  None  None  \n",
      "207965        EW  None  None  \n",
      "207966        EW  None  None  \n",
      "207967        EW  None  None  \n",
      "207968        EW  None  None  \n",
      "207969        EW  None  None  \n",
      "208190        EW  None  None  \n",
      "208191        EW  None  None  \n",
      "208192        EW  None  None  \n",
      "208193        EW  None  None  \n",
      "208194        EW  None  None  \n",
      "208225        EW  None  None  \n"
     ]
    }
   ],
   "source": [
    "print(result_df.loc[(result_df['ObjectID'] == 122) & ((result_df['Location_Pred'] == True) | (result_df['Location'] == True))])"
   ]
  },
  {
   "cell_type": "code",
   "execution_count": 195,
   "metadata": {},
   "outputs": [
    {
     "name": "stdout",
     "output_type": "stream",
     "text": [
      "        ObjectID  TimeIndex  Location  Location_Pred  Location_Pred_Raw  \\\n",
      "207519       122        110         0              0           0.074569   \n",
      "207520       122        111         0              0           0.074569   \n",
      "207521       122        112         0              0           0.074569   \n",
      "207522       122        113         0              0           0.074569   \n",
      "207523       122        114         0              0           0.074569   \n",
      "207524       122        115         0              0           0.074569   \n",
      "207525       122        116         0              0           0.074569   \n",
      "207526       122        117         0              0           0.074569   \n",
      "207527       122        118         0              0           3.679910   \n",
      "207528       122        119         0              0          10.641794   \n",
      "207529       122        120         0              0          24.258537   \n",
      "207530       122        121         0              1          41.358292   \n",
      "207531       122        122         0              1          72.189095   \n",
      "207532       122        123         0              1          97.825836   \n",
      "207533       122        124         1              1         122.176582   \n",
      "207534       122        125         0              1         111.815735   \n",
      "207535       122        126         0              1          71.369972   \n",
      "207536       122        127         0              1          46.205509   \n",
      "207537       122        128         0              1          27.297628   \n",
      "207538       122        129         0              0           8.021850   \n",
      "207539       122        130         0              0           0.074569   \n",
      "207540       122        131         0              0           0.074569   \n",
      "207541       122        132         0              0           0.074569   \n",
      "207542       122        133         0              0           0.074569   \n",
      "207543       122        134         0              0           0.074569   \n",
      "207544       122        135         0              0           0.244114   \n",
      "207545       122        136         0              0           0.074569   \n",
      "207546       122        137         0              0           0.074569   \n",
      "207547       122        138         0              0           0.074569   \n",
      "207548       122        139         0              0           0.074569   \n",
      "207549       122        140         0              0           0.074569   \n",
      "\n",
      "       Direction  Node  Type  \n",
      "207519        EW  None  None  \n",
      "207520        EW  None  None  \n",
      "207521        EW  None  None  \n",
      "207522        EW  None  None  \n",
      "207523        EW  None  None  \n",
      "207524        EW  None  None  \n",
      "207525        EW  None  None  \n",
      "207526        EW  None  None  \n",
      "207527        EW  None  None  \n",
      "207528        EW  None  None  \n",
      "207529        EW  None  None  \n",
      "207530        EW  None  None  \n",
      "207531        EW  None  None  \n",
      "207532        EW  None  None  \n",
      "207533        EW  None  None  \n",
      "207534        EW  None  None  \n",
      "207535        EW  None  None  \n",
      "207536        EW  None  None  \n",
      "207537        EW  None  None  \n",
      "207538        EW  None  None  \n",
      "207539        EW  None  None  \n",
      "207540        EW  None  None  \n",
      "207541        EW  None  None  \n",
      "207542        EW  None  None  \n",
      "207543        EW  None  None  \n",
      "207544        EW  None  None  \n",
      "207545        EW  None  None  \n",
      "207546        EW  None  None  \n",
      "207547        EW  None  None  \n",
      "207548        EW  None  None  \n",
      "207549        EW  None  None  \n"
     ]
    }
   ],
   "source": [
    "print(result_df.loc[(result_df['ObjectID'] == 122) & (result_df['TimeIndex'] >= 110) & (result_df['TimeIndex'] <= 140)])"
   ]
  },
  {
   "cell_type": "code",
   "execution_count": 20,
   "metadata": {},
   "outputs": [
    {
     "name": "stdout",
     "output_type": "stream",
     "text": [
      "    ObjectID  TimeIndex Direction Node Type\n",
      "0        121        817        EW   IK   HK\n",
      "1        121          0        EW   SS   NK\n",
      "2        121        124        EW   AD   NK\n",
      "3        121        557        EW   AD   NK\n",
      "4        121        783        EW   AD   NK\n",
      "6        122          0        EW   SS   NK\n",
      "7        122        124        EW   AD   NK\n",
      "8        122        557        EW   AD   NK\n",
      "9        122        783        EW   AD   NK\n",
      "10       122        816        EW   IK   HK\n",
      "11       123          0        EW   SS   NK\n",
      "12       123        124        EW   AD   NK\n",
      "13       123        557        EW   AD   NK\n",
      "14       123       1804        EW   AD   NK\n",
      "    ObjectID  TimeIndex Direction Node Type\n",
      "0        121          0        EW   SS   NK\n",
      "1        121        124        EW   AD   NK\n",
      "2        121        557        EW   AD   NK\n",
      "3        121        783        EW   AD   NK\n",
      "4        121        816        EW   IK   HK\n",
      "5        122          0        EW   SS   NK\n",
      "6        122        124        EW   AD   NK\n",
      "7        122        557        EW   AD   NK\n",
      "8        122        783        EW   AD   NK\n",
      "9        122        816        EW   IK   HK\n",
      "10       123          0        EW   SS   NK\n",
      "11       123        124        EW   AD   NK\n",
      "12       123        557        EW   AD   NK\n",
      "13       123       1804        EW   AD   NK\n",
      "Precision: 1.00\n",
      "Recall: 1.00\n",
      "F2: 1.00\n",
      "RMSE: 0.2673\n",
      "TP: 14 FP: 0 FN: 0\n"
     ]
    }
   ],
   "source": [
    "\n",
    "direction = 'EW'\n",
    "ground_truth_from_file = pd.read_csv(labels_dir)\n",
    "ground_truth_from_file = ground_truth_from_file[ground_truth_from_file['ObjectID'].isin([121,122,123])].copy()\n",
    "ground_truth_from_file = ground_truth_from_file[(ground_truth_from_file['Direction'] == direction)]\n",
    "ground_truth_from_file = ground_truth_from_file.sort_values(['ObjectID', 'TimeIndex']).reset_index(drop=True)\n",
    "\n",
    "mergeDf = ground_truth_from_file.copy()\n",
    "mergeDf = mergeDf.drop([4])\n",
    "mergeDf.loc[-1] = [121, 817, 'EW', 'IK', 'HK']  # adding a row\n",
    "mergeDf.index = mergeDf.index + 1  # shifting index\n",
    "mergeDf = mergeDf.sort_index()  # sorting by index\n",
    "print(mergeDf)\n",
    "print(ground_truth_from_file)\n",
    "\n",
    "evaluator = evaluation.NodeDetectionEvaluator(ground_truth_from_file, mergeDf)\n",
    "precision, recall, f2, rmse, total_tp, total_fp, total_fn = evaluator.score()\n",
    "print(f'Precision: {precision:.2f}')\n",
    "print(f'Recall: {recall:.2f}')\n",
    "print(f'F2: {f2:.2f}')\n",
    "print(f'RMSE: {rmse:.4}')\n",
    "print(f'TP: {total_tp} FP: {total_fp} FN: {total_fn}')"
   ]
  },
  {
   "cell_type": "code",
   "execution_count": null,
   "metadata": {},
   "outputs": [
    {
     "name": "stderr",
     "output_type": "stream",
     "text": [
      "2024-01-06 23:47:48.838844: W external/local_tsl/tsl/framework/cpu_allocator_impl.cc:83] Allocation of 1028534400 exceeds 10% of free system memory.\n"
     ]
    }
   ],
   "source": [
    "eval_df = evaluation.localization_eval(ds_gen, challenge_data_dir / 'train_labels.csv', dense_model.model, train=True, add_initial_node=True)"
   ]
  },
  {
   "cell_type": "code",
   "execution_count": 10,
   "metadata": {},
   "outputs": [
    {
     "name": "stdout",
     "output_type": "stream",
     "text": [
      "    ObjectID  TimeIndex  Location  Location_Pred Node Type Direction\n",
      "0        106         69         0              1   AD   NK        EW\n",
      "1        108        179         0              1   SS   NK        EW\n",
      "2        114        201         0              1   AD   NK        EW\n",
      "3        116        201         0              1   AD   NK        EW\n",
      "4        117        461         0              1   AD   NK        EW\n",
      "5        123        125         0              1   AD   NK        EW\n",
      "6        124        367         0              1   AD   NK        EW\n",
      "7        129        972         1              0   IK   CK        EW\n",
      "8        130         86         1              0   IK   CK        EW\n",
      "9        131        155         0              1   AD   NK        EW\n",
      "10       135        936         1              0   IK   CK        EW\n",
      "11       139       1009         1              0   AD   NK        EW\n",
      "12       139       1098         1              0   IK   CK        EW\n",
      "13       141        157         1              0   ID   NK        EW\n",
      "14       143        505         1              0   ID   NK        EW\n",
      "15       146       1297         1              0   ID   NK        EW\n",
      "16       151        157         1              0   ID   NK        EW\n",
      "17       152        301         1              0   ID   NK        EW\n",
      "18       157       1561         1              0   ID   NK        EW\n",
      "19       159       1837         1              0   ID   NK        EW\n",
      "20       175       1069         1              0   ID   NK        EW\n",
      "21       176       1297         1              0   ID   NK        EW\n",
      "22       177       1561         1              0   ID   NK        EW\n",
      "23       178       1717         1              0   ID   NK        EW\n",
      "24       178       1888         1              0   AD   NK        EW\n",
      "25       178       1889         0              1   AD   NK        EW\n",
      "26       181        145         1              0   ID   NK        EW\n",
      "27       181        329         0              1   AD   NK        EW\n",
      "28       183        421         1              0   ID   NK        EW\n",
      "29       185        721         1              0   ID   NK        EW\n",
      "30       185        844         0              1   AD   NK        EW\n",
      "31       188       1249         1              0   ID   NK        EW\n",
      "32       190       1609         1              0   ID   NK        EW\n",
      "33       190       1862         0              1   AD   NK        EW\n",
      "34       191        145         1              0   ID   NK        EW\n",
      "35       194        589         1              0   ID   NK        EW\n",
      "36       199       1381         1              0   ID   NK        EW\n",
      "37       206        889         1              0   ID   NK        EW\n",
      "38       206       1011         0              1   AD   NK        EW\n",
      "39       209       1381         1              0   ID   NK        EW\n",
      "40       215        721         1              0   ID   NK        EW\n",
      "41       215        912         1              0   AD   NK        EW\n",
      "42       215        930         1              0   IK   HK        EW\n",
      "43       217       1165         1              0   ID   NK        EW\n",
      "44       217       1347         0              1   AD   NK        EW\n",
      "45       217       1435         0              1   IK   HK        EW\n",
      "46       219       1381         1              0   ID   NK        EW\n",
      "47       219       1601         0              1   AD   NK        EW\n",
      "48       244        355         1              0   IK   HK        EW\n",
      "49\n",
      "181\n"
     ]
    }
   ],
   "source": [
    "false_preds = eval_df.loc[(eval_df['Location'] != eval_df['Location_Pred'])].sort_values(['ObjectID', 'TimeIndex']).reset_index(drop=True)\n",
    "print(false_preds.head(80))\n",
    "false_preds = eval_df[eval_df['Location'] != eval_df['Location_Pred']]\n",
    "print(len(false_preds))\n",
    "print(len(eval_df))"
   ]
  },
  {
   "cell_type": "code",
   "execution_count": null,
   "metadata": {},
   "outputs": [],
   "source": []
  },
  {
   "cell_type": "code",
   "execution_count": null,
   "metadata": {},
   "outputs": [],
   "source": []
  }
 ],
 "metadata": {
  "kernelspec": {
   "display_name": "splid",
   "language": "python",
   "name": "python3"
  },
  "language_info": {
   "codemirror_mode": {
    "name": "ipython",
    "version": 3
   },
   "file_extension": ".py",
   "mimetype": "text/x-python",
   "name": "python",
   "nbconvert_exporter": "python",
   "pygments_lexer": "ipython3",
   "version": "3.10.13"
  }
 },
 "nbformat": 4,
 "nbformat_minor": 2
}
