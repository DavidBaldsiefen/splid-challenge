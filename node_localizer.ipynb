{
 "cells": [
  {
   "cell_type": "code",
   "execution_count": 1,
   "metadata": {},
   "outputs": [
    {
     "name": "stderr",
     "output_type": "stream",
     "text": [
      "2024-01-31 15:42:53.875939: E external/local_xla/xla/stream_executor/cuda/cuda_dnn.cc:9261] Unable to register cuDNN factory: Attempting to register factory for plugin cuDNN when one has already been registered\n",
      "2024-01-31 15:42:53.876016: E external/local_xla/xla/stream_executor/cuda/cuda_fft.cc:607] Unable to register cuFFT factory: Attempting to register factory for plugin cuFFT when one has already been registered\n",
      "2024-01-31 15:42:53.877274: E external/local_xla/xla/stream_executor/cuda/cuda_blas.cc:1515] Unable to register cuBLAS factory: Attempting to register factory for plugin cuBLAS when one has already been registered\n",
      "2024-01-31 15:42:53.884335: I tensorflow/core/platform/cpu_feature_guard.cc:182] This TensorFlow binary is optimized to use available CPU instructions in performance-critical operations.\n",
      "To enable the following instructions: AVX2 FMA, in other operations, rebuild TensorFlow with the appropriate compiler flags.\n",
      "2024-01-31 15:42:55.306123: W tensorflow/compiler/tf2tensorrt/utils/py_utils.cc:38] TF-TRT Warning: Could not find TensorRT\n"
     ]
    }
   ],
   "source": [
    "import pandas as pd\n",
    "import numpy as np\n",
    "import pickle\n",
    "from pathlib import Path\n",
    "import tensorflow as tf\n",
    "\n",
    "%load_ext autoreload\n",
    "%autoreload 2\n",
    "from base import datahandler, prediction_models, evaluation, utils\n"
   ]
  },
  {
   "cell_type": "code",
   "execution_count": 2,
   "metadata": {},
   "outputs": [],
   "source": [
    "# model_ew = tf.keras.models.load_model('/home/david/Code/splid-challenge/wandb/run-20240112_140537-85ahbucq/files\\model_85ahbucq.hdf5')\n",
    "# model_ew.save('models/ew_localizer.hdf5')\n"
   ]
  },
  {
   "cell_type": "code",
   "execution_count": 3,
   "metadata": {},
   "outputs": [],
   "source": [
    "# Define the directory paths\n",
    "challenge_data_dir = Path('dataset/phase_1_v2_custom/')\n",
    "data_dir = challenge_data_dir / \"train\"\n",
    "labels_dir = challenge_data_dir / 'train_labels.csv'\n",
    "\n",
    "split_dataframes = datahandler.load_and_prepare_dataframes(data_dir, labels_dir)\n",
    "\n",
    "some_dataframes = {df_k : split_dataframes[df_k] for df_k in list(split_dataframes.keys())[:40]}"
   ]
  },
  {
   "cell_type": "code",
   "execution_count": 4,
   "metadata": {},
   "outputs": [
    {
     "name": "stdout",
     "output_type": "stream",
     "text": [
      "=========================Creating Generator=======================\n",
      "Seed: 69\n",
      "nTrain: 1360 nVal: 340 (0.80)\n",
      "Padding: none\n",
      "Scaling: True \n",
      "Horizons: 48-48 @ stride 4\n",
      "Sin-Transformed features: []\n",
      "Padding node locations in non-binary fashion ([20.0, 40.0, 60.0, 80.0, 120.0, 80.0, 60.0, 40.0, 20.0])\n",
      "=========================Finished Generator=======================\n"
     ]
    }
   ],
   "source": [
    "input_features = ['Eccentricity', 'Semimajor Axis (m)', 'Inclination (deg)', 'RAAN (deg)',\n",
    "       'Argument of Periapsis (deg)', 'True Anomaly (deg)', 'Latitude (deg)',\n",
    "       'Longitude (deg)', 'Altitude (m)', 'X (m)', 'Y (m)', 'Z (m)',\n",
    "       'Vx (m/s)', 'Vy (m/s)', 'Vz (m/s)']\n",
    "\n",
    "input_features_reduced = ['Eccentricity', 'Semimajor Axis (m)', 'Inclination (deg)', 'RAAN (deg)',\n",
    "       'Argument of Periapsis (deg)', 'True Anomaly (deg)', 'Latitude (deg)',\n",
    "       'Longitude (deg)', 'Altitude (m)']\n",
    "\n",
    "ew_input_features = ['Eccentricity', 'Semimajor Axis (m)', 'Argument of Periapsis (deg)', 'Longitude (deg)', 'Altitude (m)']\n",
    "#ew_input_features = ['Eccentricity', 'Longitude (deg)', 'Latitude (deg)']\n",
    "\n",
    "ns_input_features = ['Eccentricity', 'Semimajor Axis (m)',  'Inclination (deg)', 'Latitude (deg)', 'Longitude (deg)']\n",
    "\n",
    "\n",
    "utils.set_random_seed(42)\n",
    "# ds_gen_ew = datahandler.DatasetGenerator(split_df=split_dataframes, input_features=ew_input_features,\n",
    "#                                       with_labels=True, pad_location_labels=0,\n",
    "#                                       nonbinary_padding=[120.0, 80.0, 60.0, 40.0, 20.0],\n",
    "#                                       train_val_split=0.8, input_stride=1, padding='none',\n",
    "#                                       transform_features=True,\n",
    "#                                       input_history_steps=12, input_future_steps=12, seed=69)\n",
    "\n",
    "ds_gen_ns = datahandler.DatasetGenerator(split_df=split_dataframes, input_features=ns_input_features,\n",
    "                                      with_labels=True, pad_location_labels=0,\n",
    "                                      nonbinary_padding=[120.0, 80.0, 60.0, 40.0, 20.0],\n",
    "                                      train_val_split=0.8, input_stride=4, padding='none',\n",
    "                                      transform_features=True,\n",
    "                                      input_history_steps=48, input_future_steps=48, seed=69)"
   ]
  },
  {
   "cell_type": "code",
   "execution_count": 5,
   "metadata": {},
   "outputs": [
    {
     "ename": "NameError",
     "evalue": "name 'ds_gen_ew' is not defined",
     "output_type": "error",
     "traceback": [
      "\u001b[0;31m---------------------------------------------------------------------------\u001b[0m",
      "\u001b[0;31mNameError\u001b[0m                                 Traceback (most recent call last)",
      "Cell \u001b[0;32mIn[5], line 1\u001b[0m\n\u001b[0;32m----> 1\u001b[0m train_ew, val_ew \u001b[38;5;241m=\u001b[39m \u001b[43mds_gen_ew\u001b[49m\u001b[38;5;241m.\u001b[39mget_datasets(\u001b[38;5;241m512\u001b[39m, label_features\u001b[38;5;241m=\u001b[39m[\u001b[38;5;124m'\u001b[39m\u001b[38;5;124mEW_Node_Location\u001b[39m\u001b[38;5;124m'\u001b[39m], shuffle\u001b[38;5;241m=\u001b[39m\u001b[38;5;28;01mTrue\u001b[39;00m, stride\u001b[38;5;241m=\u001b[39m\u001b[38;5;241m1\u001b[39m)\n\u001b[1;32m      3\u001b[0m \u001b[38;5;28mprint\u001b[39m(train_ew\u001b[38;5;241m.\u001b[39melement_spec)\n\u001b[1;32m      5\u001b[0m \u001b[38;5;66;03m#dense_model = prediction_models.Dense_NN(train_combined, conv1d_layers=[[64,32],[32,16]], dense_layers=[64,32], l2_reg=0.0001, mixed_dropout=0.1, lr_scheduler=[30000,0.8], seed=0)\u001b[39;00m\n",
      "\u001b[0;31mNameError\u001b[0m: name 'ds_gen_ew' is not defined"
     ]
    }
   ],
   "source": [
    "train_ew, val_ew = ds_gen_ew.get_datasets(512, label_features=['EW_Node_Location'], shuffle=True, stride=1)\n",
    "\n",
    "print(train_ew.element_spec)\n",
    "\n",
    "#dense_model = prediction_models.Dense_NN(train_combined, conv1d_layers=[[64,32],[32,16]], dense_layers=[64,32], l2_reg=0.0001, mixed_dropout=0.1, lr_scheduler=[30000,0.8], seed=0)\n",
    "model_ew = prediction_models.Dense_NN(val_ew, conv1d_layers=[], dense_layers=[256,128,64,32], l2_reg=0.0, mixed_dropout=0.0, lr_scheduler=[], seed=0)\n",
    "#dense_model = prediction_models.CNN(train_combined, conv_layers=[[64,6],[64,3],[64,3]], l2_reg=0.001, mixed_dropout=0.15, lr_scheduler=[20000,0.8], seed=0)\n",
    "#model_ew = prediction_models.LSTM_NN(val_ew, input_dropout=0.0, mixed_dropout=0.1, lstm_layers=[128,64], dense_layers=[32,16], l2_reg=0.0001, lr_scheduler=[], seed=1)\n",
    "\n",
    "train_ew = train_ew.map(lambda x,y:(x,y['EW_Node_Location']))\n",
    "val_ew = val_ew.map(lambda x,y:(x,y['EW_Node_Location'])) # temporary fix to allow class weights\n",
    "\n",
    "model_ew.summary()\n",
    "hist = model_ew.fit(train_ew, val_ds=val_ew, epochs=20, verbose=1, plot_hist=True, \n",
    "                    class_weight={0: 1.0, 1: 2.0}, \n",
    "                    callbacks=[])\n",
    "#model_ew.model.save('models/ew_localizer.hdf5')"
   ]
  },
  {
   "cell_type": "code",
   "execution_count": null,
   "metadata": {},
   "outputs": [],
   "source": [
    "train_ew, val_ew = ds_gen_ew.get_datasets(512, label_features=['EW_Node_Location_nb'], shuffle=True, stride=1)\n",
    "# TODO: add a form of stride that keeps all the label fields?\n",
    "print(train_ew.element_spec)\n",
    "\n",
    "model_ew = prediction_models.Dense_NN_regression(val_ew, conv1d_layers=[], dense_layers=[64,32,4],\n",
    "                                                 l2_reg=0.0, mixed_dropout=0.2,\n",
    "                                                 lr_scheduler=[0.001,15000,0.9],\n",
    "                                                 final_activation='relu',\n",
    "                                                 seed=0)\n",
    "\n",
    "model_ew.summary()\n",
    "hist = model_ew.fit(train_ew, val_ds=val_ew, epochs=30, verbose=1, plot_hist=True, callbacks=[])\n"
   ]
  },
  {
   "cell_type": "code",
   "execution_count": 5,
   "metadata": {},
   "outputs": [
    {
     "name": "stderr",
     "output_type": "stream",
     "text": [
      "2024-01-31 15:36:36.420660: I external/local_xla/xla/stream_executor/cuda/cuda_executor.cc:887] could not open file to read NUMA node: /sys/bus/pci/devices/0000:1c:00.0/numa_node\n",
      "Your kernel may have been built without NUMA support.\n",
      "2024-01-31 15:36:36.644176: I external/local_xla/xla/stream_executor/cuda/cuda_executor.cc:887] could not open file to read NUMA node: /sys/bus/pci/devices/0000:1c:00.0/numa_node\n",
      "Your kernel may have been built without NUMA support.\n",
      "2024-01-31 15:36:36.644251: I external/local_xla/xla/stream_executor/cuda/cuda_executor.cc:887] could not open file to read NUMA node: /sys/bus/pci/devices/0000:1c:00.0/numa_node\n",
      "Your kernel may have been built without NUMA support.\n",
      "2024-01-31 15:36:36.648590: I external/local_xla/xla/stream_executor/cuda/cuda_executor.cc:887] could not open file to read NUMA node: /sys/bus/pci/devices/0000:1c:00.0/numa_node\n",
      "Your kernel may have been built without NUMA support.\n",
      "2024-01-31 15:36:36.648720: I external/local_xla/xla/stream_executor/cuda/cuda_executor.cc:887] could not open file to read NUMA node: /sys/bus/pci/devices/0000:1c:00.0/numa_node\n",
      "Your kernel may have been built without NUMA support.\n",
      "2024-01-31 15:36:36.648779: I external/local_xla/xla/stream_executor/cuda/cuda_executor.cc:887] could not open file to read NUMA node: /sys/bus/pci/devices/0000:1c:00.0/numa_node\n",
      "Your kernel may have been built without NUMA support.\n",
      "2024-01-31 15:36:38.502338: I external/local_xla/xla/stream_executor/cuda/cuda_executor.cc:887] could not open file to read NUMA node: /sys/bus/pci/devices/0000:1c:00.0/numa_node\n",
      "Your kernel may have been built without NUMA support.\n",
      "2024-01-31 15:36:38.502418: I external/local_xla/xla/stream_executor/cuda/cuda_executor.cc:887] could not open file to read NUMA node: /sys/bus/pci/devices/0000:1c:00.0/numa_node\n",
      "Your kernel may have been built without NUMA support.\n",
      "2024-01-31 15:36:38.502428: I tensorflow/core/common_runtime/gpu/gpu_device.cc:2022] Could not identify NUMA node of platform GPU id 0, defaulting to 0.  Your kernel may not have been built with NUMA support.\n",
      "2024-01-31 15:36:38.502489: I external/local_xla/xla/stream_executor/cuda/cuda_executor.cc:887] could not open file to read NUMA node: /sys/bus/pci/devices/0000:1c:00.0/numa_node\n",
      "Your kernel may have been built without NUMA support.\n",
      "2024-01-31 15:36:38.503176: I tensorflow/core/common_runtime/gpu/gpu_device.cc:1929] Created device /job:localhost/replica:0/task:0/device:GPU:0 with 4575 MB memory:  -> device: 0, name: NVIDIA GeForce GTX 1060 6GB, pci bus id: 0000:1c:00.0, compute capability: 6.1\n",
      "2024-01-31 15:36:38.506625: W external/local_tsl/tsl/framework/cpu_allocator_impl.cc:83] Allocation of 2712998400 exceeds 10% of free system memory.\n",
      "2024-01-31 15:36:40.045742: W external/local_tsl/tsl/framework/cpu_allocator_impl.cc:83] Allocation of 2712998400 exceeds 10% of free system memory.\n"
     ]
    },
    {
     "name": "stdout",
     "output_type": "stream",
     "text": [
      "(TensorSpec(shape=(None, 24, 5), dtype=tf.float64, name=None), {'NS_Node_Location_nb': TensorSpec(shape=(None,), dtype=tf.int32, name=None)})\n",
      "Model: \"model\"\n",
      "_________________________________________________________________\n",
      " Layer (type)                Output Shape              Param #   \n",
      "=================================================================\n",
      " Input (InputLayer)          [(None, 24, 5)]           0         \n",
      "                                                                 \n",
      " conv1d (Conv1D)             (None, 19, 32)            992       \n",
      "                                                                 \n",
      " conv1d_1 (Conv1D)           (None, 14, 32)            6176      \n",
      "                                                                 \n",
      " flatten (Flatten)           (None, 448)               0         \n",
      "                                                                 \n",
      " dense (Dense)               (None, 16)                7184      \n",
      "                                                                 \n",
      " dropout (Dropout)           (None, 16)                0         \n",
      "                                                                 \n",
      " dense_1 (Dense)             (None, 4)                 68        \n",
      "                                                                 \n",
      " dropout_1 (Dropout)         (None, 4)                 0         \n",
      "                                                                 \n",
      " NS_Node_Location_nb (Dense  (None, 1)                 5         \n",
      " )                                                               \n",
      "                                                                 \n",
      "=================================================================\n",
      "Total params: 14425 (56.35 KB)\n",
      "Trainable params: 14425 (56.35 KB)\n",
      "Non-trainable params: 0 (0.00 Byte)\n",
      "_________________________________________________________________\n",
      "Starting training. Optimizing \"val_accuracy\"\n"
     ]
    },
    {
     "name": "stderr",
     "output_type": "stream",
     "text": [
      "2024-01-31 15:36:45.227571: W external/local_tsl/tsl/framework/cpu_allocator_impl.cc:83] Allocation of 2712998400 exceeds 10% of free system memory.\n"
     ]
    },
    {
     "name": "stdout",
     "output_type": "stream",
     "text": [
      "Epoch 1/5\n"
     ]
    },
    {
     "name": "stderr",
     "output_type": "stream",
     "text": [
      "2024-01-31 15:36:48.380018: I external/local_xla/xla/stream_executor/cuda/cuda_dnn.cc:454] Loaded cuDNN version 8904\n",
      "2024-01-31 15:36:50.502968: I external/local_xla/xla/service/service.cc:168] XLA service 0x7f72c0099d00 initialized for platform CUDA (this does not guarantee that XLA will be used). Devices:\n",
      "2024-01-31 15:36:50.503025: I external/local_xla/xla/service/service.cc:176]   StreamExecutor device (0): NVIDIA GeForce GTX 1060 6GB, Compute Capability 6.1\n",
      "2024-01-31 15:36:50.521736: I tensorflow/compiler/mlir/tensorflow/utils/dump_mlir_util.cc:269] disabling MLIR crash reproducer, set env var `MLIR_CRASH_REPRODUCER_DIRECTORY` to enable.\n",
      "WARNING: All log messages before absl::InitializeLog() is called are written to STDERR\n",
      "I0000 00:00:1706711810.644044   22175 device_compiler.h:186] Compiled cluster using XLA!  This line is logged at most once for the lifetime of the process.\n"
     ]
    },
    {
     "name": "stdout",
     "output_type": "stream",
     "text": [
      "5520/5520 [==============================] - 64s 10ms/step - loss: 18.9486 - mse: 18.9486 - mae: 0.5047 - val_loss: 18.1531 - val_mse: 18.1531 - val_mae: 0.4458\n",
      "Epoch 2/5\n",
      "5520/5520 [==============================] - 54s 10ms/step - loss: 16.0758 - mse: 16.0758 - mae: 0.4412 - val_loss: 16.8206 - val_mse: 16.8206 - val_mae: 0.4392\n",
      "Epoch 3/5\n",
      "5520/5520 [==============================] - 55s 10ms/step - loss: 15.1523 - mse: 15.1523 - mae: 0.4208 - val_loss: 19.3743 - val_mse: 19.3743 - val_mae: 1.4208\n",
      "Epoch 4/5\n",
      "5520/5520 [==============================] - 55s 10ms/step - loss: 14.7526 - mse: 14.7526 - mae: 0.4096 - val_loss: 15.0362 - val_mse: 15.0362 - val_mae: 0.4181\n",
      "Epoch 5/5\n",
      "5520/5520 [==============================] - 56s 10ms/step - loss: 14.4669 - mse: 14.4669 - mae: 0.3912 - val_loss: 14.9835 - val_mse: 14.9835 - val_mae: 0.4488\n",
      "Finished training after 5 epochs.\n",
      "Evaluating model:\n",
      "5520/5520 [==============================] - 28s 5ms/step - loss: 15.9181 - mse: 15.9181 - mae: 0.4565\n",
      "1381/1381 [==============================] - 8s 6ms/step - loss: 14.9835 - mse: 14.9835 - mae: 0.4488\n"
     ]
    },
    {
     "name": "stderr",
     "output_type": "stream",
     "text": [
      "/home/david/Code/splid-challenge/base/prediction_models.py:84: UserWarning: FigureCanvasAgg is non-interactive, and thus cannot be shown\n",
      "  fig.show()\n"
     ]
    },
    {
     "data": {
      "image/png": "[encoded data removed]",
      "text/plain": [
       "<Figure size 600x300 with 2 Axes>"
      ]
     },
     "metadata": {},
     "output_type": "display_data"
    }
   ],
   "source": [
    "train_ns, val_ns = ds_gen_ns.get_datasets(512, label_features=['NS_Node_Location_nb'], shuffle=True, stride=1)\n",
    "# TODO: add a form of stride that keeps all the label fields?\n",
    "print(train_ns.element_spec)\n",
    "\n",
    "model_ns = prediction_models.Dense_NN_regression(val_ns, conv1d_layers=[[32,6],[32,6]], dense_layers=[16,4],\n",
    "                                                 l2_reg=0.0, mixed_dropout=0.2,\n",
    "                                                 lr_scheduler=[0.002,15000,0.9],\n",
    "                                                 final_activation='relu',\n",
    "                                                 seed=0)\n",
    "\n",
    "model_ns.summary()\n",
    "hist = model_ns.fit(train_ns, val_ds=val_ns, epochs=5, verbose=1, plot_hist=True, callbacks=[])\n"
   ]
  },
  {
   "cell_type": "code",
   "execution_count": null,
   "metadata": {},
   "outputs": [],
   "source": [
    "# train_ns, val_ns = ds_gen_ns.get_datasets(512, label_features=['NS_Node_Location_nb'], shuffle=True, stride=1)\n",
    "# model_ns = prediction_models.Dense_NN_regression(val_ns, conv1d_layers=[], dense_layers=[64,32,4],\n",
    "#                                                  l2_reg=0.0, mixed_dropout=0.2,\n",
    "#                                                  lr_scheduler=[0.001,15000,0.9],\n",
    "#                                                  final_activation='relu',\n",
    "#                                                  seed=0)\n",
    "# model_ns.load_model('submission/models/ns_localizer.hdf5')\n",
    "# model_ns.summary()\n",
    "hist = model_ns.fit(train_ns, val_ds=val_ns, epochs=20, verbose=1, plot_hist=True, callbacks=[])"
   ]
  },
  {
   "cell_type": "code",
   "execution_count": 6,
   "metadata": {},
   "outputs": [
    {
     "name": "stderr",
     "output_type": "stream",
     "text": [
      "/home/david/miniconda3/envs/splid-gpu/lib/python3.10/site-packages/keras/src/engine/training.py:3103: UserWarning: You are saving your model as an HDF5 file via `model.save()`. This file format is considered legacy. We recommend using instead the native Keras format, e.g. `model.save('my_model.keras')`.\n",
      "  saving_api.save_model(\n"
     ]
    }
   ],
   "source": [
    "model_ns.model.save('submission/models/ns_localizer_cnn.hdf5')\n",
    "pickle.dump(ds_gen_ns.scaler, open('submission/models/NS_localizer_scaler_cnn.pkl', 'wb'))"
   ]
  },
  {
   "cell_type": "code",
   "execution_count": 7,
   "metadata": {},
   "outputs": [
    {
     "name": "stdout",
     "output_type": "stream",
     "text": [
      "Starting training. Optimizing \"val_accuracy\"\n",
      "Epoch 1/5\n",
      "   1/6383 [..............................] - ETA: 1:39 - loss: 0.0057 - mse: 0.0057 - mae: 0.0755"
     ]
    },
    {
     "name": "stdout",
     "output_type": "stream",
     "text": [
      "6383/6383 [==============================] - 54s 8ms/step - loss: 7.1303 - mse: 7.1303 - mae: 0.2125 - val_loss: 7.5114 - val_mse: 7.5114 - val_mae: 0.2170\n",
      "Epoch 2/5\n",
      "6383/6383 [==============================] - 51s 8ms/step - loss: 7.1238 - mse: 7.1238 - mae: 0.2122 - val_loss: 7.5023 - val_mse: 7.5023 - val_mae: 0.2171\n",
      "Epoch 3/5\n",
      "6383/6383 [==============================] - 51s 8ms/step - loss: 7.1125 - mse: 7.1125 - mae: 0.2112 - val_loss: 7.4796 - val_mse: 7.4796 - val_mae: 0.2167\n",
      "Epoch 4/5\n",
      "6383/6383 [==============================] - 50s 8ms/step - loss: 7.1057 - mse: 7.1057 - mae: 0.2112 - val_loss: 7.4752 - val_mse: 7.4752 - val_mae: 0.2168\n",
      "Epoch 5/5\n",
      "6383/6383 [==============================] - 53s 8ms/step - loss: 7.0977 - mse: 7.0977 - mae: 0.2107 - val_loss: 7.4521 - val_mse: 7.4521 - val_mae: 0.2165\n",
      "Finished training after 5 epochs.\n",
      "Evaluating model:\n",
      "6383/6383 [==============================] - 34s 5ms/step - loss: 7.2150 - mse: 7.2150 - mae: 0.2113\n",
      "1596/1596 [==============================] - 9s 5ms/step - loss: 7.4521 - mse: 7.4521 - mae: 0.2165\n"
     ]
    },
    {
     "data": {
      "image/png": "[encoded data removed]",
      "text/plain": [
       "<Figure size 600x300 with 2 Axes>"
      ]
     },
     "metadata": {},
     "output_type": "display_data"
    }
   ],
   "source": [
    "hist = model_ew.fit(train_ew, val_ds=val_ew, epochs=5, verbose=1, plot_hist=True, callbacks=[])\n"
   ]
  },
  {
   "cell_type": "code",
   "execution_count": null,
   "metadata": {},
   "outputs": [
    {
     "name": "stdout",
     "output_type": "stream",
     "text": [
      "<tf.Variable 'current_learning_rate:0' shape=() dtype=float32, numpy=0.00065609993>\n"
     ]
    }
   ],
   "source": [
    "print(model_ns.model.optimizer.learning_rate)"
   ]
  },
  {
   "cell_type": "code",
   "execution_count": null,
   "metadata": {},
   "outputs": [],
   "source": [
    "train_ns, val_ns = ds_gen_ns.get_datasets(512, label_features=['NS_Node_Location'], shuffle=True, stride=1)\n",
    "\n",
    "model_ns = prediction_models.Dense_NN(train_ns, conv1d_layers=[], dense_layers=[256, 128,64,32], l2_reg=0.0, mixed_dropout=0.0, lr_scheduler=[], seed=0)\n",
    "train_ns = train_ns.map(lambda x,y:(x,y['NS_Node_Location']))\n",
    "val_ns = val_ns.map(lambda x,y:(x,y['NS_Node_Location'])) # temporary fix to allow class weights\n",
    "\n",
    "model_ns.summary()\n",
    "hist = model_ns.fit(train_ns, val_ds=val_ns, epochs=20, verbose=1, plot_hist=False, class_weight={0: 0.5, 1: 20.0}, callbacks=[])\n",
    "model_ns.model.save('models/ns_localizer.hdf5')\n",
    "\n",
    "model_ns.plot_hist(hist, [k for k in hist.history.keys() if 'loss' in k])\n",
    "model_ns.plot_hist(hist, [k for k in hist.history.keys() if 'accuracy' in k])"
   ]
  },
  {
   "cell_type": "code",
   "execution_count": 12,
   "metadata": {},
   "outputs": [],
   "source": [
    "#model_ew = tf.keras.models.load_model('/home/david/Code/splid-challenge/wandb/run-20240115_185433-iebvf53e/files\\model_iebvf53e.hdf5')\n",
    "#model_ew.save('models/ew_localizer.hdf5')\n",
    "\n",
    "model_ew = tf.keras.models.load_model('/home/david/Code/splid-challenge/wandb/run-20240112_140537-85ahbucq/files\\model_85ahbucq.hdf5')\n",
    "# 25 6 23"
   ]
  },
  {
   "cell_type": "code",
   "execution_count": null,
   "metadata": {},
   "outputs": [],
   "source": [
    "model_ns = tf.keras.models.load_model('submission/models/ns_localizer_cnn.hdf5')\n"
   ]
  },
  {
   "cell_type": "code",
   "execution_count": null,
   "metadata": {},
   "outputs": [
    {
     "name": "stderr",
     "output_type": "stream",
     "text": [
      "2024-01-31 15:42:33.917777: W external/local_tsl/tsl/framework/cpu_allocator_impl.cc:83] Allocation of 2712998400 exceeds 10% of free system memory.\n",
      "2024-01-31 15:42:45.147784: W external/local_tsl/tsl/framework/bfc_allocator.cc:485] Allocator (GPU_0_bfc) ran out of memory trying to allocate 2.53GiB (rounded to 2712998400)requested by op _EagerConst\n",
      "If the cause is memory fragmentation maybe the environment variable 'TF_GPU_ALLOCATOR=cuda_malloc_async' will improve the situation. \n",
      "Current allocation summary follows.\n",
      "Current allocation summary follows.\n",
      "2024-01-31 15:42:45.147813: I external/local_tsl/tsl/framework/bfc_allocator.cc:1039] BFCAllocator dump for GPU_0_bfc\n",
      "2024-01-31 15:42:45.147824: I external/local_tsl/tsl/framework/bfc_allocator.cc:1046] Bin (256): \tTotal Chunks: 102, Chunks in use: 102. 25.5KiB allocated for chunks. 25.5KiB in use in bin. 4.1KiB client-requested in use in bin.\n",
      "2024-01-31 15:42:45.147833: I external/local_tsl/tsl/framework/bfc_allocator.cc:1046] Bin (512): \tTotal Chunks: 0, Chunks in use: 0. 0B allocated for chunks. 0B in use in bin. 0B client-requested in use in bin.\n",
      "2024-01-31 15:42:45.147839: I external/local_tsl/tsl/framework/bfc_allocator.cc:1046] Bin (1024): \tTotal Chunks: 1, Chunks in use: 1. 1.2KiB allocated for chunks. 1.2KiB in use in bin. 1.0KiB client-requested in use in bin.\n",
      "2024-01-31 15:42:45.147846: I external/local_tsl/tsl/framework/bfc_allocator.cc:1046] Bin (2048): \tTotal Chunks: 6, Chunks in use: 6. 22.5KiB allocated for chunks. 22.5KiB in use in bin. 22.5KiB client-requested in use in bin.\n",
      "2024-01-31 15:42:45.147852: I external/local_tsl/tsl/framework/bfc_allocator.cc:1046] Bin (4096): \tTotal Chunks: 1, Chunks in use: 1. 7.2KiB allocated for chunks. 7.2KiB in use in bin. 3.8KiB client-requested in use in bin.\n",
      "2024-01-31 15:42:45.147857: I external/local_tsl/tsl/framework/bfc_allocator.cc:1046] Bin (8192): \tTotal Chunks: 0, Chunks in use: 0. 0B allocated for chunks. 0B in use in bin. 0B client-requested in use in bin.\n",
      "2024-01-31 15:42:45.147864: I external/local_tsl/tsl/framework/bfc_allocator.cc:1046] Bin (16384): \tTotal Chunks: 13, Chunks in use: 12. 344.0KiB allocated for chunks. 316.0KiB in use in bin. 312.0KiB client-requested in use in bin.\n",
      "2024-01-31 15:42:45.147870: I external/local_tsl/tsl/framework/bfc_allocator.cc:1046] Bin (32768): \tTotal Chunks: 2, Chunks in use: 2. 94.2KiB allocated for chunks. 94.2KiB in use in bin. 52.0KiB client-requested in use in bin.\n",
      "2024-01-31 15:42:45.147875: I external/local_tsl/tsl/framework/bfc_allocator.cc:1046] Bin (65536): \tTotal Chunks: 0, Chunks in use: 0. 0B allocated for chunks. 0B in use in bin. 0B client-requested in use in bin.\n",
      "2024-01-31 15:42:45.147880: I external/local_tsl/tsl/framework/bfc_allocator.cc:1046] Bin (131072): \tTotal Chunks: 0, Chunks in use: 0. 0B allocated for chunks. 0B in use in bin. 0B client-requested in use in bin.\n",
      "2024-01-31 15:42:45.147886: I external/local_tsl/tsl/framework/bfc_allocator.cc:1046] Bin (262144): \tTotal Chunks: 0, Chunks in use: 0. 0B allocated for chunks. 0B in use in bin. 0B client-requested in use in bin.\n",
      "2024-01-31 15:42:45.147891: I external/local_tsl/tsl/framework/bfc_allocator.cc:1046] Bin (524288): \tTotal Chunks: 0, Chunks in use: 0. 0B allocated for chunks. 0B in use in bin. 0B client-requested in use in bin.\n",
      "2024-01-31 15:42:45.147896: I external/local_tsl/tsl/framework/bfc_allocator.cc:1046] Bin (1048576): \tTotal Chunks: 0, Chunks in use: 0. 0B allocated for chunks. 0B in use in bin. 0B client-requested in use in bin.\n",
      "2024-01-31 15:42:45.147901: I external/local_tsl/tsl/framework/bfc_allocator.cc:1046] Bin (2097152): \tTotal Chunks: 0, Chunks in use: 0. 0B allocated for chunks. 0B in use in bin. 0B client-requested in use in bin.\n",
      "2024-01-31 15:42:45.147906: I external/local_tsl/tsl/framework/bfc_allocator.cc:1046] Bin (4194304): \tTotal Chunks: 0, Chunks in use: 0. 0B allocated for chunks. 0B in use in bin. 0B client-requested in use in bin.\n",
      "2024-01-31 15:42:45.147911: I external/local_tsl/tsl/framework/bfc_allocator.cc:1046] Bin (8388608): \tTotal Chunks: 0, Chunks in use: 0. 0B allocated for chunks. 0B in use in bin. 0B client-requested in use in bin.\n",
      "2024-01-31 15:42:45.147916: I external/local_tsl/tsl/framework/bfc_allocator.cc:1046] Bin (16777216): \tTotal Chunks: 0, Chunks in use: 0. 0B allocated for chunks. 0B in use in bin. 0B client-requested in use in bin.\n",
      "2024-01-31 15:42:45.147922: I external/local_tsl/tsl/framework/bfc_allocator.cc:1046] Bin (33554432): \tTotal Chunks: 0, Chunks in use: 0. 0B allocated for chunks. 0B in use in bin. 0B client-requested in use in bin.\n",
      "2024-01-31 15:42:45.147927: I external/local_tsl/tsl/framework/bfc_allocator.cc:1046] Bin (67108864): \tTotal Chunks: 0, Chunks in use: 0. 0B allocated for chunks. 0B in use in bin. 0B client-requested in use in bin.\n",
      "2024-01-31 15:42:45.147932: I external/local_tsl/tsl/framework/bfc_allocator.cc:1046] Bin (134217728): \tTotal Chunks: 0, Chunks in use: 0. 0B allocated for chunks. 0B in use in bin. 0B client-requested in use in bin.\n",
      "2024-01-31 15:42:45.147938: I external/local_tsl/tsl/framework/bfc_allocator.cc:1046] Bin (268435456): \tTotal Chunks: 3, Chunks in use: 2. 4.47GiB allocated for chunks. 3.16GiB in use in bin. 3.16GiB client-requested in use in bin.\n",
      "2024-01-31 15:42:45.147944: I external/local_tsl/tsl/framework/bfc_allocator.cc:1062] Bin for 2.53GiB was 256.00MiB, Chunk State: \n",
      "2024-01-31 15:42:45.147954: I external/local_tsl/tsl/framework/bfc_allocator.cc:1068]   Size: 1.31GiB | Requested Size: 128B | in_use: 0 | bin_num: 20, prev:   Size: 28.0KiB | Requested Size: 28.0KiB | in_use: 1 | bin_num: -1\n",
      "2024-01-31 15:42:45.147958: I external/local_tsl/tsl/framework/bfc_allocator.cc:1075] Next region of size 4797235200\n",
      "2024-01-31 15:42:45.147964: I external/local_tsl/tsl/framework/bfc_allocator.cc:1095] InUse at a03c00000 of size 2712998400 next 1\n",
      "2024-01-31 15:42:45.147968: I external/local_tsl/tsl/framework/bfc_allocator.cc:1095] InUse at aa5751200 of size 1280 next 2\n",
      "2024-01-31 15:42:45.147973: I external/local_tsl/tsl/framework/bfc_allocator.cc:1095] InUse at aa5751700 of size 678451200 next 3\n",
      "2024-01-31 15:42:45.147977: I external/local_tsl/tsl/framework/bfc_allocator.cc:1095] InUse at acde56f00 of size 256 next 4\n",
      "2024-01-31 15:42:45.147982: I external/local_tsl/tsl/framework/bfc_allocator.cc:1095] InUse at acde57000 of size 256 next 5\n",
      "2024-01-31 15:42:45.147986: I external/local_tsl/tsl/framework/bfc_allocator.cc:1095] InUse at acde57100 of size 256 next 6\n",
      "2024-01-31 15:42:45.147990: I external/local_tsl/tsl/framework/bfc_allocator.cc:1095] InUse at acde57200 of size 256 next 7\n",
      "2024-01-31 15:42:45.147994: I external/local_tsl/tsl/framework/bfc_allocator.cc:1095] InUse at acde57300 of size 256 next 8\n",
      "2024-01-31 15:42:45.147998: I external/local_tsl/tsl/framework/bfc_allocator.cc:1095] InUse at acde57400 of size 256 next 9\n",
      "2024-01-31 15:42:45.148002: I external/local_tsl/tsl/framework/bfc_allocator.cc:1095] InUse at acde57500 of size 256 next 10\n",
      "2024-01-31 15:42:45.148006: I external/local_tsl/tsl/framework/bfc_allocator.cc:1095] InUse at acde57600 of size 256 next 11\n",
      "2024-01-31 15:42:45.148010: I external/local_tsl/tsl/framework/bfc_allocator.cc:1095] InUse at acde57700 of size 256 next 12\n",
      "2024-01-31 15:42:45.148014: I external/local_tsl/tsl/framework/bfc_allocator.cc:1095] InUse at acde57800 of size 256 next 13\n",
      "2024-01-31 15:42:45.148018: I external/local_tsl/tsl/framework/bfc_allocator.cc:1095] InUse at acde57900 of size 256 next 14\n",
      "2024-01-31 15:42:45.148023: I external/local_tsl/tsl/framework/bfc_allocator.cc:1095] InUse at acde57a00 of size 256 next 16\n",
      "2024-01-31 15:42:45.148055: I external/local_tsl/tsl/framework/bfc_allocator.cc:1095] InUse at acde57b00 of size 256 next 17\n",
      "2024-01-31 15:42:45.148063: I external/local_tsl/tsl/framework/bfc_allocator.cc:1095] InUse at acde57c00 of size 256 next 15\n",
      "2024-01-31 15:42:45.148082: I external/local_tsl/tsl/framework/bfc_allocator.cc:1095] InUse at acde57d00 of size 256 next 18\n",
      "2024-01-31 15:42:45.148092: I external/local_tsl/tsl/framework/bfc_allocator.cc:1095] InUse at acde57e00 of size 256 next 23\n",
      "2024-01-31 15:42:45.148096: I external/local_tsl/tsl/framework/bfc_allocator.cc:1095] InUse at acde57f00 of size 256 next 21\n",
      "2024-01-31 15:42:45.148099: I external/local_tsl/tsl/framework/bfc_allocator.cc:1095] InUse at acde58000 of size 256 next 22\n",
      "2024-01-31 15:42:45.148103: I external/local_tsl/tsl/framework/bfc_allocator.cc:1095] InUse at acde58100 of size 256 next 26\n",
      "2024-01-31 15:42:45.148106: I external/local_tsl/tsl/framework/bfc_allocator.cc:1095] InUse at acde58200 of size 256 next 27\n",
      "2024-01-31 15:42:45.148109: I external/local_tsl/tsl/framework/bfc_allocator.cc:1095] InUse at acde58300 of size 256 next 30\n",
      "2024-01-31 15:42:45.148113: I external/local_tsl/tsl/framework/bfc_allocator.cc:1095] InUse at acde58400 of size 256 next 32\n",
      "2024-01-31 15:42:45.148116: I external/local_tsl/tsl/framework/bfc_allocator.cc:1095] InUse at acde58500 of size 256 next 31\n",
      "2024-01-31 15:42:45.148119: I external/local_tsl/tsl/framework/bfc_allocator.cc:1095] InUse at acde58600 of size 256 next 33\n",
      "2024-01-31 15:42:45.148122: I external/local_tsl/tsl/framework/bfc_allocator.cc:1095] InUse at acde58700 of size 256 next 34\n",
      "2024-01-31 15:42:45.148126: I external/local_tsl/tsl/framework/bfc_allocator.cc:1095] InUse at acde58800 of size 256 next 36\n",
      "2024-01-31 15:42:45.148129: I external/local_tsl/tsl/framework/bfc_allocator.cc:1095] InUse at acde58900 of size 256 next 35\n",
      "2024-01-31 15:42:45.148132: I external/local_tsl/tsl/framework/bfc_allocator.cc:1095] InUse at acde58a00 of size 256 next 37\n",
      "2024-01-31 15:42:45.148135: I external/local_tsl/tsl/framework/bfc_allocator.cc:1095] InUse at acde58b00 of size 256 next 38\n",
      "2024-01-31 15:42:45.148139: I external/local_tsl/tsl/framework/bfc_allocator.cc:1095] InUse at acde58c00 of size 256 next 39\n",
      "2024-01-31 15:42:45.148142: I external/local_tsl/tsl/framework/bfc_allocator.cc:1095] InUse at acde58d00 of size 256 next 40\n",
      "2024-01-31 15:42:45.148145: I external/local_tsl/tsl/framework/bfc_allocator.cc:1095] InUse at acde58e00 of size 256 next 41\n",
      "2024-01-31 15:42:45.148148: I external/local_tsl/tsl/framework/bfc_allocator.cc:1095] InUse at acde58f00 of size 256 next 43\n",
      "2024-01-31 15:42:45.148151: I external/local_tsl/tsl/framework/bfc_allocator.cc:1095] InUse at acde59000 of size 256 next 42\n",
      "2024-01-31 15:42:45.148155: I external/local_tsl/tsl/framework/bfc_allocator.cc:1095] InUse at acde59100 of size 256 next 44\n",
      "2024-01-31 15:42:45.148158: I external/local_tsl/tsl/framework/bfc_allocator.cc:1095] InUse at acde59200 of size 256 next 45\n",
      "2024-01-31 15:42:45.148161: I external/local_tsl/tsl/framework/bfc_allocator.cc:1095] InUse at acde59300 of size 256 next 46\n",
      "2024-01-31 15:42:45.148164: I external/local_tsl/tsl/framework/bfc_allocator.cc:1095] InUse at acde59400 of size 256 next 49\n",
      "2024-01-31 15:42:45.148168: I external/local_tsl/tsl/framework/bfc_allocator.cc:1095] InUse at acde59500 of size 256 next 50\n",
      "2024-01-31 15:42:45.148171: I external/local_tsl/tsl/framework/bfc_allocator.cc:1095] InUse at acde59600 of size 256 next 52\n",
      "2024-01-31 15:42:45.148174: I external/local_tsl/tsl/framework/bfc_allocator.cc:1095] InUse at acde59700 of size 256 next 53\n",
      "2024-01-31 15:42:45.148177: I external/local_tsl/tsl/framework/bfc_allocator.cc:1095] InUse at acde59800 of size 256 next 56\n",
      "2024-01-31 15:42:45.148181: I external/local_tsl/tsl/framework/bfc_allocator.cc:1095] InUse at acde59900 of size 256 next 57\n",
      "2024-01-31 15:42:45.148184: I external/local_tsl/tsl/framework/bfc_allocator.cc:1095] InUse at acde59a00 of size 256 next 19\n",
      "2024-01-31 15:42:45.148187: I external/local_tsl/tsl/framework/bfc_allocator.cc:1095] InUse at acde59b00 of size 3840 next 20\n",
      "2024-01-31 15:42:45.148191: I external/local_tsl/tsl/framework/bfc_allocator.cc:1095] InUse at acde5aa00 of size 24576 next 51\n",
      "2024-01-31 15:42:45.148194: I external/local_tsl/tsl/framework/bfc_allocator.cc:1095] InUse at acde60a00 of size 24576 next 25\n",
      "2024-01-31 15:42:45.148198: I external/local_tsl/tsl/framework/bfc_allocator.cc:1095] InUse at acde66a00 of size 24576 next 24\n",
      "2024-01-31 15:42:45.148201: I external/local_tsl/tsl/framework/bfc_allocator.cc:1095] InUse at acde6ca00 of size 3840 next 47\n",
      "2024-01-31 15:42:45.148204: I external/local_tsl/tsl/framework/bfc_allocator.cc:1095] InUse at acde6d900 of size 3840 next 48\n",
      "2024-01-31 15:42:45.148208: I external/local_tsl/tsl/framework/bfc_allocator.cc:1095] InUse at acde6e800 of size 256 next 58\n",
      "2024-01-31 15:42:45.148211: I external/local_tsl/tsl/framework/bfc_allocator.cc:1095] InUse at acde6e900 of size 256 next 59\n",
      "2024-01-31 15:42:45.148214: I external/local_tsl/tsl/framework/bfc_allocator.cc:1095] InUse at acde6ea00 of size 256 next 60\n",
      "2024-01-31 15:42:45.148218: I external/local_tsl/tsl/framework/bfc_allocator.cc:1095] InUse at acde6eb00 of size 256 next 61\n",
      "2024-01-31 15:42:45.148221: I external/local_tsl/tsl/framework/bfc_allocator.cc:1095] InUse at acde6ec00 of size 256 next 62\n",
      "2024-01-31 15:42:45.148224: I external/local_tsl/tsl/framework/bfc_allocator.cc:1095] InUse at acde6ed00 of size 256 next 63\n",
      "2024-01-31 15:42:45.148227: I external/local_tsl/tsl/framework/bfc_allocator.cc:1095] InUse at acde6ee00 of size 256 next 64\n",
      "2024-01-31 15:42:45.148231: I external/local_tsl/tsl/framework/bfc_allocator.cc:1095] InUse at acde6ef00 of size 256 next 65\n",
      "2024-01-31 15:42:45.148234: I external/local_tsl/tsl/framework/bfc_allocator.cc:1095] InUse at acde6f000 of size 256 next 66\n",
      "2024-01-31 15:42:45.148237: I external/local_tsl/tsl/framework/bfc_allocator.cc:1095] InUse at acde6f100 of size 256 next 67\n",
      "2024-01-31 15:42:45.148241: I external/local_tsl/tsl/framework/bfc_allocator.cc:1095] InUse at acde6f200 of size 256 next 68\n",
      "2024-01-31 15:42:45.148244: I external/local_tsl/tsl/framework/bfc_allocator.cc:1095] InUse at acde6f300 of size 256 next 69\n",
      "2024-01-31 15:42:45.148247: I external/local_tsl/tsl/framework/bfc_allocator.cc:1095] InUse at acde6f400 of size 256 next 70\n",
      "2024-01-31 15:42:45.148250: I external/local_tsl/tsl/framework/bfc_allocator.cc:1095] InUse at acde6f500 of size 256 next 71\n",
      "2024-01-31 15:42:45.148254: I external/local_tsl/tsl/framework/bfc_allocator.cc:1095] InUse at acde6f600 of size 256 next 72\n",
      "2024-01-31 15:42:45.148257: I external/local_tsl/tsl/framework/bfc_allocator.cc:1095] InUse at acde6f700 of size 256 next 73\n",
      "2024-01-31 15:42:45.148260: I external/local_tsl/tsl/framework/bfc_allocator.cc:1095] InUse at acde6f800 of size 256 next 74\n",
      "2024-01-31 15:42:45.148263: I external/local_tsl/tsl/framework/bfc_allocator.cc:1095] InUse at acde6f900 of size 3840 next 75\n",
      "2024-01-31 15:42:45.148267: I external/local_tsl/tsl/framework/bfc_allocator.cc:1095] InUse at acde70800 of size 256 next 78\n",
      "2024-01-31 15:42:45.148270: I external/local_tsl/tsl/framework/bfc_allocator.cc:1095] InUse at acde70900 of size 256 next 79\n",
      "2024-01-31 15:42:45.148273: I external/local_tsl/tsl/framework/bfc_allocator.cc:1095] InUse at acde70a00 of size 256 next 80\n",
      "2024-01-31 15:42:45.148276: I external/local_tsl/tsl/framework/bfc_allocator.cc:1095] InUse at acde70b00 of size 256 next 81\n",
      "2024-01-31 15:42:45.148280: I external/local_tsl/tsl/framework/bfc_allocator.cc:1095] InUse at acde70c00 of size 256 next 84\n",
      "2024-01-31 15:42:45.148283: I external/local_tsl/tsl/framework/bfc_allocator.cc:1095] InUse at acde70d00 of size 256 next 82\n",
      "2024-01-31 15:42:45.148286: I external/local_tsl/tsl/framework/bfc_allocator.cc:1095] InUse at acde70e00 of size 256 next 88\n",
      "2024-01-31 15:42:45.148289: I external/local_tsl/tsl/framework/bfc_allocator.cc:1095] InUse at acde70f00 of size 256 next 97\n",
      "2024-01-31 15:42:45.148293: I external/local_tsl/tsl/framework/bfc_allocator.cc:1095] InUse at acde71000 of size 256 next 93\n",
      "2024-01-31 15:42:45.148296: I external/local_tsl/tsl/framework/bfc_allocator.cc:1095] InUse at acde71100 of size 256 next 102\n",
      "2024-01-31 15:42:45.148299: I external/local_tsl/tsl/framework/bfc_allocator.cc:1095] InUse at acde71200 of size 256 next 98\n",
      "2024-01-31 15:42:45.148303: I external/local_tsl/tsl/framework/bfc_allocator.cc:1095] InUse at acde71300 of size 256 next 85\n",
      "2024-01-31 15:42:45.148306: I external/local_tsl/tsl/framework/bfc_allocator.cc:1095] InUse at acde71400 of size 256 next 99\n",
      "2024-01-31 15:42:45.148309: I external/local_tsl/tsl/framework/bfc_allocator.cc:1095] InUse at acde71500 of size 256 next 89\n",
      "2024-01-31 15:42:45.148313: I external/local_tsl/tsl/framework/bfc_allocator.cc:1095] InUse at acde71600 of size 256 next 91\n",
      "2024-01-31 15:42:45.148316: I external/local_tsl/tsl/framework/bfc_allocator.cc:1095] InUse at acde71700 of size 256 next 109\n",
      "2024-01-31 15:42:45.148319: I external/local_tsl/tsl/framework/bfc_allocator.cc:1095] InUse at acde71800 of size 256 next 107\n",
      "2024-01-31 15:42:45.148323: I external/local_tsl/tsl/framework/bfc_allocator.cc:1095] InUse at acde71900 of size 256 next 113\n",
      "2024-01-31 15:42:45.148326: I external/local_tsl/tsl/framework/bfc_allocator.cc:1095] InUse at acde71a00 of size 256 next 112\n",
      "2024-01-31 15:42:45.148329: I external/local_tsl/tsl/framework/bfc_allocator.cc:1095] InUse at acde71b00 of size 256 next 90\n",
      "2024-01-31 15:42:45.148332: I external/local_tsl/tsl/framework/bfc_allocator.cc:1095] InUse at acde71c00 of size 256 next 92\n",
      "2024-01-31 15:42:45.148336: I external/local_tsl/tsl/framework/bfc_allocator.cc:1095] InUse at acde71d00 of size 7424 next 29\n",
      "2024-01-31 15:42:45.148339: I external/local_tsl/tsl/framework/bfc_allocator.cc:1095] InUse at acde73a00 of size 28672 next 28\n",
      "2024-01-31 15:42:45.148343: I external/local_tsl/tsl/framework/bfc_allocator.cc:1095] InUse at acde7aa00 of size 28672 next 54\n",
      "2024-01-31 15:42:45.148346: I external/local_tsl/tsl/framework/bfc_allocator.cc:1095] InUse at acde81a00 of size 28672 next 55\n",
      "2024-01-31 15:42:45.148349: I external/local_tsl/tsl/framework/bfc_allocator.cc:1095] InUse at acde88a00 of size 24576 next 76\n",
      "2024-01-31 15:42:45.148352: I external/local_tsl/tsl/framework/bfc_allocator.cc:1095] InUse at acde8ea00 of size 28672 next 77\n",
      "2024-01-31 15:42:45.148356: I external/local_tsl/tsl/framework/bfc_allocator.cc:1095] InUse at acde95a00 of size 28672 next 105\n",
      "2024-01-31 15:42:45.148359: I external/local_tsl/tsl/framework/bfc_allocator.cc:1095] InUse at acde9ca00 of size 256 next 95\n",
      "2024-01-31 15:42:45.148362: I external/local_tsl/tsl/framework/bfc_allocator.cc:1095] InUse at acde9cb00 of size 256 next 87\n",
      "2024-01-31 15:42:45.148365: I external/local_tsl/tsl/framework/bfc_allocator.cc:1095] InUse at acde9cc00 of size 256 next 86\n",
      "2024-01-31 15:42:45.148369: I external/local_tsl/tsl/framework/bfc_allocator.cc:1095] InUse at acde9cd00 of size 256 next 101\n",
      "2024-01-31 15:42:45.148372: I external/local_tsl/tsl/framework/bfc_allocator.cc:1095] InUse at acde9ce00 of size 256 next 96\n",
      "2024-01-31 15:42:45.148375: I external/local_tsl/tsl/framework/bfc_allocator.cc:1095] InUse at acde9cf00 of size 3840 next 108\n",
      "2024-01-31 15:42:45.148378: I external/local_tsl/tsl/framework/bfc_allocator.cc:1095] InUse at acde9de00 of size 256 next 128\n",
      "2024-01-31 15:42:45.148382: I external/local_tsl/tsl/framework/bfc_allocator.cc:1095] InUse at acde9df00 of size 256 next 83\n",
      "2024-01-31 15:42:45.148385: I external/local_tsl/tsl/framework/bfc_allocator.cc:1095] InUse at acde9e000 of size 43264 next 110\n",
      "2024-01-31 15:42:45.148389: I external/local_tsl/tsl/framework/bfc_allocator.cc:1095] InUse at acdea8900 of size 28672 next 103\n",
      "2024-01-31 15:42:45.148392: I external/local_tsl/tsl/framework/bfc_allocator.cc:1095] InUse at acdeaf900 of size 256 next 94\n",
      "2024-01-31 15:42:45.148395: I external/local_tsl/tsl/framework/bfc_allocator.cc:1095] InUse at acdeafa00 of size 256 next 106\n",
      "2024-01-31 15:42:45.148399: I external/local_tsl/tsl/framework/bfc_allocator.cc:1095] InUse at acdeafb00 of size 53248 next 114\n",
      "2024-01-31 15:42:45.148402: I external/local_tsl/tsl/framework/bfc_allocator.cc:1095] InUse at acdebcb00 of size 256 next 104\n",
      "2024-01-31 15:42:45.148406: I external/local_tsl/tsl/framework/bfc_allocator.cc:1095] InUse at acdebcc00 of size 256 next 115\n",
      "2024-01-31 15:42:45.148409: I external/local_tsl/tsl/framework/bfc_allocator.cc:1095] InUse at acdebcd00 of size 256 next 116\n",
      "2024-01-31 15:42:45.148412: I external/local_tsl/tsl/framework/bfc_allocator.cc:1095] InUse at acdebce00 of size 256 next 117\n",
      "2024-01-31 15:42:45.148416: I external/local_tsl/tsl/framework/bfc_allocator.cc:1095] InUse at acdebcf00 of size 256 next 118\n",
      "2024-01-31 15:42:45.148419: I external/local_tsl/tsl/framework/bfc_allocator.cc:1095] InUse at acdebd000 of size 256 next 119\n",
      "2024-01-31 15:42:45.148423: I external/local_tsl/tsl/framework/bfc_allocator.cc:1095] InUse at acdebd100 of size 256 next 120\n",
      "2024-01-31 15:42:45.148426: I external/local_tsl/tsl/framework/bfc_allocator.cc:1095] InUse at acdebd200 of size 256 next 121\n",
      "2024-01-31 15:42:45.148429: I external/local_tsl/tsl/framework/bfc_allocator.cc:1095] InUse at acdebd300 of size 256 next 122\n",
      "2024-01-31 15:42:45.148432: I external/local_tsl/tsl/framework/bfc_allocator.cc:1095] InUse at acdebd400 of size 256 next 123\n",
      "2024-01-31 15:42:45.148436: I external/local_tsl/tsl/framework/bfc_allocator.cc:1095] Free  at acdebd500 of size 28672 next 125\n",
      "2024-01-31 15:42:45.148439: I external/local_tsl/tsl/framework/bfc_allocator.cc:1095] InUse at acdec4500 of size 256 next 126\n",
      "2024-01-31 15:42:45.148443: I external/local_tsl/tsl/framework/bfc_allocator.cc:1095] InUse at acdec4600 of size 3840 next 127\n",
      "2024-01-31 15:42:45.148446: I external/local_tsl/tsl/framework/bfc_allocator.cc:1095] InUse at acdec5500 of size 24576 next 111\n",
      "2024-01-31 15:42:45.148450: I external/local_tsl/tsl/framework/bfc_allocator.cc:1095] InUse at acdecb500 of size 28672 next 100\n",
      "2024-01-31 15:42:45.148453: I external/local_tsl/tsl/framework/bfc_allocator.cc:1095] Free  at acded2500 of size 1405278976 next 18446744073709551615\n",
      "2024-01-31 15:42:45.148457: I external/local_tsl/tsl/framework/bfc_allocator.cc:1100]      Summary of in-use Chunks by size: \n",
      "2024-01-31 15:42:45.148462: I external/local_tsl/tsl/framework/bfc_allocator.cc:1103] 102 Chunks of size 256 totalling 25.5KiB\n",
      "2024-01-31 15:42:45.148467: I external/local_tsl/tsl/framework/bfc_allocator.cc:1103] 1 Chunks of size 1280 totalling 1.2KiB\n",
      "2024-01-31 15:42:45.148471: I external/local_tsl/tsl/framework/bfc_allocator.cc:1103] 6 Chunks of size 3840 totalling 22.5KiB\n",
      "2024-01-31 15:42:45.148475: I external/local_tsl/tsl/framework/bfc_allocator.cc:1103] 1 Chunks of size 7424 totalling 7.2KiB\n",
      "2024-01-31 15:42:45.148479: I external/local_tsl/tsl/framework/bfc_allocator.cc:1103] 5 Chunks of size 24576 totalling 120.0KiB\n",
      "2024-01-31 15:42:45.148483: I external/local_tsl/tsl/framework/bfc_allocator.cc:1103] 7 Chunks of size 28672 totalling 196.0KiB\n",
      "2024-01-31 15:42:45.148487: I external/local_tsl/tsl/framework/bfc_allocator.cc:1103] 1 Chunks of size 43264 totalling 42.2KiB\n",
      "2024-01-31 15:42:45.148491: I external/local_tsl/tsl/framework/bfc_allocator.cc:1103] 1 Chunks of size 53248 totalling 52.0KiB\n",
      "2024-01-31 15:42:45.148496: I external/local_tsl/tsl/framework/bfc_allocator.cc:1103] 1 Chunks of size 678451200 totalling 647.02MiB\n",
      "2024-01-31 15:42:45.148500: I external/local_tsl/tsl/framework/bfc_allocator.cc:1103] 1 Chunks of size 2712998400 totalling 2.53GiB\n",
      "2024-01-31 15:42:45.148504: I external/local_tsl/tsl/framework/bfc_allocator.cc:1107] Sum Total of in-use chunks: 3.16GiB\n",
      "2024-01-31 15:42:45.148507: I external/local_tsl/tsl/framework/bfc_allocator.cc:1109] Total bytes in pool: 4797235200 memory_limit_: 4797235200 available bytes: 0 curr_region_allocation_bytes_: 9594470400\n",
      "2024-01-31 15:42:45.148514: I external/local_tsl/tsl/framework/bfc_allocator.cc:1114] Stats: \n",
      "Limit:                      4797235200\n",
      "InUse:                      3391927552\n",
      "MaxInUse:                   3581392640\n",
      "NumAllocs:                     2429651\n",
      "MaxAllocSize:               2712998400\n",
      "Reserved:                            0\n",
      "PeakReserved:                        0\n",
      "LargestFreeBlock:                    0\n",
      "\n",
      "2024-01-31 15:42:45.148521: W external/local_tsl/tsl/framework/bfc_allocator.cc:497] ***********************************************************************_____________________________\n"
     ]
    },
    {
     "ename": "InternalError",
     "evalue": "Failed copying input tensor from /job:localhost/replica:0/task:0/device:CPU:0 to /job:localhost/replica:0/task:0/device:GPU:0 in order to run _EagerConst: Dst tensor is not initialized.",
     "output_type": "error",
     "traceback": [
      "\u001b[0;31m---------------------------------------------------------------------------\u001b[0m",
      "\u001b[0;31mInternalError\u001b[0m                             Traceback (most recent call last)",
      "Cell \u001b[0;32mIn[8], line 3\u001b[0m\n\u001b[1;32m      1\u001b[0m \u001b[38;5;28;01mfrom\u001b[39;00m \u001b[38;5;21;01mbase\u001b[39;00m \u001b[38;5;28;01mimport\u001b[39;00m localizer\n\u001b[0;32m----> 3\u001b[0m preds_df \u001b[38;5;241m=\u001b[39m \u001b[43mlocalizer\u001b[49m\u001b[38;5;241;43m.\u001b[39;49m\u001b[43mcreate_prediction_df\u001b[49m\u001b[43m(\u001b[49m\u001b[43mds_gen\u001b[49m\u001b[38;5;241;43m=\u001b[39;49m\u001b[43mds_gen_ns\u001b[49m\u001b[43m,\u001b[49m\n\u001b[1;32m      4\u001b[0m \u001b[43m                                \u001b[49m\u001b[43mmodel\u001b[49m\u001b[38;5;241;43m=\u001b[39;49m\u001b[43mmodel_ns\u001b[49m\u001b[43m,\u001b[49m\n\u001b[1;32m      5\u001b[0m \u001b[43m                                \u001b[49m\u001b[43mtrain\u001b[49m\u001b[38;5;241;43m=\u001b[39;49m\u001b[38;5;28;43;01mFalse\u001b[39;49;00m\u001b[43m,\u001b[49m\n\u001b[1;32m      6\u001b[0m \u001b[43m                                \u001b[49m\u001b[43mtest\u001b[49m\u001b[38;5;241;43m=\u001b[39;49m\u001b[38;5;28;43;01mFalse\u001b[39;49;00m\u001b[43m,\u001b[49m\n\u001b[1;32m      7\u001b[0m \u001b[43m                                \u001b[49m\u001b[43moutput_dirs\u001b[49m\u001b[38;5;241;43m=\u001b[39;49m\u001b[43m[\u001b[49m\u001b[38;5;124;43m'\u001b[39;49m\u001b[38;5;124;43mNS\u001b[39;49m\u001b[38;5;124;43m'\u001b[39;49m\u001b[43m]\u001b[49m\u001b[43m,\u001b[49m\n\u001b[1;32m      8\u001b[0m \u001b[43m                                \u001b[49m\u001b[43mverbose\u001b[49m\u001b[38;5;241;43m=\u001b[39;49m\u001b[38;5;241;43m1\u001b[39;49m\u001b[43m)\u001b[49m\n",
      "File \u001b[0;32m~/Code/splid-challenge/base/localizer.py:6\u001b[0m, in \u001b[0;36mcreate_prediction_df\u001b[0;34m(ds_gen, model, train, test, output_dirs, verbose)\u001b[0m\n\u001b[1;32m      4\u001b[0m \u001b[38;5;28;01mdef\u001b[39;00m \u001b[38;5;21mcreate_prediction_df\u001b[39m(ds_gen, model, train\u001b[38;5;241m=\u001b[39m\u001b[38;5;28;01mFalse\u001b[39;00m, test\u001b[38;5;241m=\u001b[39m\u001b[38;5;28;01mFalse\u001b[39;00m, output_dirs\u001b[38;5;241m=\u001b[39m[\u001b[38;5;124m'\u001b[39m\u001b[38;5;124mEW\u001b[39m\u001b[38;5;124m'\u001b[39m, \u001b[38;5;124m'\u001b[39m\u001b[38;5;124mNS\u001b[39m\u001b[38;5;124m'\u001b[39m], verbose\u001b[38;5;241m=\u001b[39m\u001b[38;5;241m1\u001b[39m):\n\u001b[0;32m----> 6\u001b[0m     datasets \u001b[38;5;241m=\u001b[39m \u001b[43mds_gen\u001b[49m\u001b[38;5;241;43m.\u001b[39;49m\u001b[43mget_datasets\u001b[49m\u001b[43m(\u001b[49m\u001b[43mbatch_size\u001b[49m\u001b[38;5;241;43m=\u001b[39;49m\u001b[38;5;241;43m512\u001b[39;49m\u001b[43m,\u001b[49m\n\u001b[1;32m      7\u001b[0m \u001b[43m                                     \u001b[49m\u001b[43mlabel_features\u001b[49m\u001b[38;5;241;43m=\u001b[39;49m\u001b[43m[\u001b[49m\u001b[43m]\u001b[49m\u001b[43m,\u001b[49m\n\u001b[1;32m      8\u001b[0m \u001b[43m                                     \u001b[49m\u001b[43mshuffle\u001b[49m\u001b[38;5;241;43m=\u001b[39;49m\u001b[38;5;28;43;01mFalse\u001b[39;49;00m\u001b[43m,\u001b[49m\u001b[43m \u001b[49m\u001b[38;5;66;43;03m# if we dont use the majority method, its enough to just evaluate on nodes\u001b[39;49;00m\n\u001b[1;32m      9\u001b[0m \u001b[43m                                     \u001b[49m\u001b[43mwith_identifier\u001b[49m\u001b[38;5;241;43m=\u001b[39;49m\u001b[38;5;28;43;01mTrue\u001b[39;49;00m\u001b[43m,\u001b[49m\n\u001b[1;32m     10\u001b[0m \u001b[43m                                     \u001b[49m\u001b[43mstride\u001b[49m\u001b[38;5;241;43m=\u001b[39;49m\u001b[38;5;241;43m1\u001b[39;49m\u001b[43m)\u001b[49m\n\u001b[1;32m     11\u001b[0m     ds \u001b[38;5;241m=\u001b[39m (datasets[\u001b[38;5;241m0\u001b[39m] \u001b[38;5;28;01mif\u001b[39;00m train \u001b[38;5;28;01melse\u001b[39;00m datasets[\u001b[38;5;241m1\u001b[39m]) \u001b[38;5;28;01mif\u001b[39;00m \u001b[38;5;129;01mnot\u001b[39;00m test \u001b[38;5;28;01melse\u001b[39;00m datasets\n\u001b[1;32m     13\u001b[0m     inputs \u001b[38;5;241m=\u001b[39m np\u001b[38;5;241m.\u001b[39mconcatenate([element \u001b[38;5;28;01mfor\u001b[39;00m element \u001b[38;5;129;01min\u001b[39;00m ds\u001b[38;5;241m.\u001b[39mmap(\u001b[38;5;28;01mlambda\u001b[39;00m x,y: x)\u001b[38;5;241m.\u001b[39mas_numpy_iterator()])\n",
      "File \u001b[0;32m~/Code/splid-challenge/base/datahandler.py:294\u001b[0m, in \u001b[0;36mDatasetGenerator.get_datasets\u001b[0;34m(self, batch_size, label_features, with_identifier, only_nodes, shuffle, train_keys, val_keys, stride)\u001b[0m\n\u001b[1;32m    292\u001b[0m train_keys \u001b[38;5;241m=\u001b[39m \u001b[38;5;28mself\u001b[39m\u001b[38;5;241m.\u001b[39m_train_keys \u001b[38;5;28;01mif\u001b[39;00m train_keys \u001b[38;5;129;01mis\u001b[39;00m \u001b[38;5;28;01mNone\u001b[39;00m \u001b[38;5;28;01melse\u001b[39;00m train_keys\n\u001b[1;32m    293\u001b[0m val_keys \u001b[38;5;241m=\u001b[39m \u001b[38;5;28mself\u001b[39m\u001b[38;5;241m.\u001b[39m_val_keys \u001b[38;5;28;01mif\u001b[39;00m val_keys \u001b[38;5;129;01mis\u001b[39;00m \u001b[38;5;28;01mNone\u001b[39;00m \u001b[38;5;28;01melse\u001b[39;00m val_keys\n\u001b[0;32m--> 294\u001b[0m train_ds \u001b[38;5;241m=\u001b[39m \u001b[38;5;28;43mself\u001b[39;49m\u001b[38;5;241;43m.\u001b[39;49m\u001b[43mcreate_ds_from_dataframes\u001b[49m\u001b[43m(\u001b[49m\u001b[38;5;28;43mself\u001b[39;49m\u001b[38;5;241;43m.\u001b[39;49m\u001b[43m_preprocessed_dataframes\u001b[49m\u001b[43m,\u001b[49m\n\u001b[1;32m    295\u001b[0m \u001b[43m                                        \u001b[49m\u001b[43mkeys\u001b[49m\u001b[38;5;241;43m=\u001b[39;49m\u001b[43mtrain_keys\u001b[49m\u001b[43m,\u001b[49m\n\u001b[1;32m    296\u001b[0m \u001b[43m                                        \u001b[49m\u001b[43minput_features\u001b[49m\u001b[38;5;241;43m=\u001b[39;49m\u001b[38;5;28;43mself\u001b[39;49m\u001b[38;5;241;43m.\u001b[39;49m\u001b[43m_input_features\u001b[49m\u001b[43m,\u001b[49m\n\u001b[1;32m    297\u001b[0m \u001b[43m                                        \u001b[49m\u001b[43mlabel_features\u001b[49m\u001b[38;5;241;43m=\u001b[39;49m\u001b[43mlabel_features\u001b[49m\u001b[43m,\u001b[49m\n\u001b[1;32m    298\u001b[0m \u001b[43m                                        \u001b[49m\u001b[43monly_nodes\u001b[49m\u001b[38;5;241;43m=\u001b[39;49m\u001b[43monly_nodes\u001b[49m\u001b[43m,\u001b[49m\n\u001b[1;32m    299\u001b[0m \u001b[43m                                        \u001b[49m\u001b[43mwith_identifier\u001b[49m\u001b[38;5;241;43m=\u001b[39;49m\u001b[43mwith_identifier\u001b[49m\u001b[43m,\u001b[49m\n\u001b[1;32m    300\u001b[0m \u001b[43m                                        \u001b[49m\u001b[43minput_history_steps\u001b[49m\u001b[38;5;241;43m=\u001b[39;49m\u001b[38;5;28;43mself\u001b[39;49m\u001b[38;5;241;43m.\u001b[39;49m\u001b[43m_input_history_steps\u001b[49m\u001b[43m,\u001b[49m\n\u001b[1;32m    301\u001b[0m \u001b[43m                                        \u001b[49m\u001b[43minput_future_steps\u001b[49m\u001b[38;5;241;43m=\u001b[39;49m\u001b[38;5;28;43mself\u001b[39;49m\u001b[38;5;241;43m.\u001b[39;49m\u001b[43m_input_future_steps\u001b[49m\u001b[43m,\u001b[49m\n\u001b[1;32m    302\u001b[0m \u001b[43m                                        \u001b[49m\u001b[43mstride\u001b[49m\u001b[38;5;241;43m=\u001b[39;49m\u001b[43mstride\u001b[49m\u001b[43m,\u001b[49m\n\u001b[1;32m    303\u001b[0m \u001b[43m                                        \u001b[49m\u001b[43minput_stride\u001b[49m\u001b[38;5;241;43m=\u001b[39;49m\u001b[38;5;28;43mself\u001b[39;49m\u001b[38;5;241;43m.\u001b[39;49m\u001b[43m_input_stride\u001b[49m\u001b[43m,\u001b[49m\n\u001b[1;32m    304\u001b[0m \u001b[43m                                        \u001b[49m\u001b[43mpadding\u001b[49m\u001b[38;5;241;43m=\u001b[39;49m\u001b[38;5;28;43mself\u001b[39;49m\u001b[38;5;241;43m.\u001b[39;49m\u001b[43m_padding\u001b[49m\u001b[43m)\u001b[49m\n\u001b[1;32m    305\u001b[0m datasets \u001b[38;5;241m=\u001b[39m [train_ds]\n\u001b[1;32m    306\u001b[0m \u001b[38;5;28;01mif\u001b[39;00m val_keys:\n",
      "File \u001b[0;32m~/Code/splid-challenge/base/datahandler.py:276\u001b[0m, in \u001b[0;36mDatasetGenerator.create_ds_from_dataframes\u001b[0;34m(self, split_df, keys, input_features, label_features, only_nodes, with_identifier, input_history_steps, input_future_steps, stride, input_stride, padding)\u001b[0m\n\u001b[1;32m    266\u001b[0m     element_identifiers \u001b[38;5;241m=\u001b[39m element_identifiers[nodes]\n\u001b[1;32m    268\u001b[0m     \u001b[38;5;66;03m# TEMPORARY\u001b[39;00m\n\u001b[1;32m    269\u001b[0m     \u001b[38;5;66;03m#print(\"Warning: temporary change to only use initial nodes in ds!\")\u001b[39;00m\n\u001b[1;32m    270\u001b[0m     \u001b[38;5;66;03m# initial_nodes = np.argwhere(element_identifiers[:,1] == 0)[:,0]\u001b[39;00m\n\u001b[1;32m    271\u001b[0m     \u001b[38;5;66;03m# inputs = inputs[initial_nodes]\u001b[39;00m\n\u001b[1;32m    272\u001b[0m     \u001b[38;5;66;03m# labels = labels[initial_nodes]\u001b[39;00m\n\u001b[1;32m    273\u001b[0m     \u001b[38;5;66;03m# element_identifiers = element_identifiers[initial_nodes]\u001b[39;00m\n\u001b[0;32m--> 276\u001b[0m datasets \u001b[38;5;241m=\u001b[39m [\u001b[43mDataset\u001b[49m\u001b[38;5;241;43m.\u001b[39;49m\u001b[43mfrom_tensor_slices\u001b[49m\u001b[43m(\u001b[49m\u001b[43m(\u001b[49m\u001b[43minputs\u001b[49m\u001b[43m)\u001b[49m\u001b[43m)\u001b[49m]\n\u001b[1;32m    277\u001b[0m \u001b[38;5;28;01mif\u001b[39;00m label_features:\n\u001b[1;32m    278\u001b[0m     datasets \u001b[38;5;241m+\u001b[39m\u001b[38;5;241m=\u001b[39m [Dataset\u001b[38;5;241m.\u001b[39mfrom_tensor_slices(({feature:labels[:,ft_idx] \u001b[38;5;28;01mfor\u001b[39;00m ft_idx, feature \u001b[38;5;129;01min\u001b[39;00m \u001b[38;5;28menumerate\u001b[39m(label_features)}))]\n",
      "File \u001b[0;32m~/miniconda3/envs/splid-gpu/lib/python3.10/site-packages/tensorflow/python/data/ops/dataset_ops.py:825\u001b[0m, in \u001b[0;36mDatasetV2.from_tensor_slices\u001b[0;34m(tensors, name)\u001b[0m\n\u001b[1;32m    821\u001b[0m \u001b[38;5;66;03m# Loaded lazily due to a circular dependency (dataset_ops ->\u001b[39;00m\n\u001b[1;32m    822\u001b[0m \u001b[38;5;66;03m# from_tensor_slices_op -> dataset_ops).\u001b[39;00m\n\u001b[1;32m    823\u001b[0m \u001b[38;5;66;03m# pylint: disable=g-import-not-at-top,protected-access\u001b[39;00m\n\u001b[1;32m    824\u001b[0m \u001b[38;5;28;01mfrom\u001b[39;00m \u001b[38;5;21;01mtensorflow\u001b[39;00m\u001b[38;5;21;01m.\u001b[39;00m\u001b[38;5;21;01mpython\u001b[39;00m\u001b[38;5;21;01m.\u001b[39;00m\u001b[38;5;21;01mdata\u001b[39;00m\u001b[38;5;21;01m.\u001b[39;00m\u001b[38;5;21;01mops\u001b[39;00m \u001b[38;5;28;01mimport\u001b[39;00m from_tensor_slices_op\n\u001b[0;32m--> 825\u001b[0m \u001b[38;5;28;01mreturn\u001b[39;00m \u001b[43mfrom_tensor_slices_op\u001b[49m\u001b[38;5;241;43m.\u001b[39;49m\u001b[43m_from_tensor_slices\u001b[49m\u001b[43m(\u001b[49m\u001b[43mtensors\u001b[49m\u001b[43m,\u001b[49m\u001b[43m \u001b[49m\u001b[43mname\u001b[49m\u001b[43m)\u001b[49m\n",
      "File \u001b[0;32m~/miniconda3/envs/splid-gpu/lib/python3.10/site-packages/tensorflow/python/data/ops/from_tensor_slices_op.py:25\u001b[0m, in \u001b[0;36m_from_tensor_slices\u001b[0;34m(tensors, name)\u001b[0m\n\u001b[1;32m     24\u001b[0m \u001b[38;5;28;01mdef\u001b[39;00m \u001b[38;5;21m_from_tensor_slices\u001b[39m(tensors, name\u001b[38;5;241m=\u001b[39m\u001b[38;5;28;01mNone\u001b[39;00m):\n\u001b[0;32m---> 25\u001b[0m   \u001b[38;5;28;01mreturn\u001b[39;00m \u001b[43m_TensorSliceDataset\u001b[49m\u001b[43m(\u001b[49m\u001b[43mtensors\u001b[49m\u001b[43m,\u001b[49m\u001b[43m \u001b[49m\u001b[43mname\u001b[49m\u001b[38;5;241;43m=\u001b[39;49m\u001b[43mname\u001b[49m\u001b[43m)\u001b[49m\n",
      "File \u001b[0;32m~/miniconda3/envs/splid-gpu/lib/python3.10/site-packages/tensorflow/python/data/ops/from_tensor_slices_op.py:33\u001b[0m, in \u001b[0;36m_TensorSliceDataset.__init__\u001b[0;34m(self, element, is_files, name)\u001b[0m\n\u001b[1;32m     31\u001b[0m \u001b[38;5;28;01mdef\u001b[39;00m \u001b[38;5;21m__init__\u001b[39m(\u001b[38;5;28mself\u001b[39m, element, is_files\u001b[38;5;241m=\u001b[39m\u001b[38;5;28;01mFalse\u001b[39;00m, name\u001b[38;5;241m=\u001b[39m\u001b[38;5;28;01mNone\u001b[39;00m):\n\u001b[1;32m     32\u001b[0m \u001b[38;5;250m  \u001b[39m\u001b[38;5;124;03m\"\"\"See `Dataset.from_tensor_slices` for details.\"\"\"\u001b[39;00m\n\u001b[0;32m---> 33\u001b[0m   element \u001b[38;5;241m=\u001b[39m \u001b[43mstructure\u001b[49m\u001b[38;5;241;43m.\u001b[39;49m\u001b[43mnormalize_element\u001b[49m\u001b[43m(\u001b[49m\u001b[43melement\u001b[49m\u001b[43m)\u001b[49m\n\u001b[1;32m     34\u001b[0m   batched_spec \u001b[38;5;241m=\u001b[39m structure\u001b[38;5;241m.\u001b[39mtype_spec_from_value(element)\n\u001b[1;32m     35\u001b[0m   \u001b[38;5;28mself\u001b[39m\u001b[38;5;241m.\u001b[39m_tensors \u001b[38;5;241m=\u001b[39m structure\u001b[38;5;241m.\u001b[39mto_batched_tensor_list(batched_spec, element)\n",
      "File \u001b[0;32m~/miniconda3/envs/splid-gpu/lib/python3.10/site-packages/tensorflow/python/data/util/structure.py:134\u001b[0m, in \u001b[0;36mnormalize_element\u001b[0;34m(element, element_signature)\u001b[0m\n\u001b[1;32m    131\u001b[0m       \u001b[38;5;28;01melse\u001b[39;00m:\n\u001b[1;32m    132\u001b[0m         dtype \u001b[38;5;241m=\u001b[39m \u001b[38;5;28mgetattr\u001b[39m(spec, \u001b[38;5;124m\"\u001b[39m\u001b[38;5;124mdtype\u001b[39m\u001b[38;5;124m\"\u001b[39m, \u001b[38;5;28;01mNone\u001b[39;00m)\n\u001b[1;32m    133\u001b[0m         normalized_components\u001b[38;5;241m.\u001b[39mappend(\n\u001b[0;32m--> 134\u001b[0m             \u001b[43mops\u001b[49m\u001b[38;5;241;43m.\u001b[39;49m\u001b[43mconvert_to_tensor\u001b[49m\u001b[43m(\u001b[49m\u001b[43mt\u001b[49m\u001b[43m,\u001b[49m\u001b[43m \u001b[49m\u001b[43mname\u001b[49m\u001b[38;5;241;43m=\u001b[39;49m\u001b[38;5;124;43m\"\u001b[39;49m\u001b[38;5;124;43mcomponent_\u001b[39;49m\u001b[38;5;132;43;01m%d\u001b[39;49;00m\u001b[38;5;124;43m\"\u001b[39;49m\u001b[43m \u001b[49m\u001b[38;5;241;43m%\u001b[39;49m\u001b[43m \u001b[49m\u001b[43mi\u001b[49m\u001b[43m,\u001b[49m\u001b[43m \u001b[49m\u001b[43mdtype\u001b[49m\u001b[38;5;241;43m=\u001b[39;49m\u001b[43mdtype\u001b[49m\u001b[43m)\u001b[49m)\n\u001b[1;32m    135\u001b[0m \u001b[38;5;28;01mreturn\u001b[39;00m nest\u001b[38;5;241m.\u001b[39mpack_sequence_as(pack_as, normalized_components)\n",
      "File \u001b[0;32m~/miniconda3/envs/splid-gpu/lib/python3.10/site-packages/tensorflow/python/profiler/trace.py:183\u001b[0m, in \u001b[0;36mtrace_wrapper.<locals>.inner_wrapper.<locals>.wrapped\u001b[0;34m(*args, **kwargs)\u001b[0m\n\u001b[1;32m    181\u001b[0m   \u001b[38;5;28;01mwith\u001b[39;00m Trace(trace_name, \u001b[38;5;241m*\u001b[39m\u001b[38;5;241m*\u001b[39mtrace_kwargs):\n\u001b[1;32m    182\u001b[0m     \u001b[38;5;28;01mreturn\u001b[39;00m func(\u001b[38;5;241m*\u001b[39margs, \u001b[38;5;241m*\u001b[39m\u001b[38;5;241m*\u001b[39mkwargs)\n\u001b[0;32m--> 183\u001b[0m \u001b[38;5;28;01mreturn\u001b[39;00m \u001b[43mfunc\u001b[49m\u001b[43m(\u001b[49m\u001b[38;5;241;43m*\u001b[39;49m\u001b[43margs\u001b[49m\u001b[43m,\u001b[49m\u001b[43m \u001b[49m\u001b[38;5;241;43m*\u001b[39;49m\u001b[38;5;241;43m*\u001b[39;49m\u001b[43mkwargs\u001b[49m\u001b[43m)\u001b[49m\n",
      "File \u001b[0;32m~/miniconda3/envs/splid-gpu/lib/python3.10/site-packages/tensorflow/python/framework/ops.py:696\u001b[0m, in \u001b[0;36mconvert_to_tensor\u001b[0;34m(value, dtype, name, as_ref, preferred_dtype, dtype_hint, ctx, accepted_result_types)\u001b[0m\n\u001b[1;32m    694\u001b[0m \u001b[38;5;66;03m# TODO(b/142518781): Fix all call-sites and remove redundant arg\u001b[39;00m\n\u001b[1;32m    695\u001b[0m preferred_dtype \u001b[38;5;241m=\u001b[39m preferred_dtype \u001b[38;5;129;01mor\u001b[39;00m dtype_hint\n\u001b[0;32m--> 696\u001b[0m \u001b[38;5;28;01mreturn\u001b[39;00m \u001b[43mtensor_conversion_registry\u001b[49m\u001b[38;5;241;43m.\u001b[39;49m\u001b[43mconvert\u001b[49m\u001b[43m(\u001b[49m\n\u001b[1;32m    697\u001b[0m \u001b[43m    \u001b[49m\u001b[43mvalue\u001b[49m\u001b[43m,\u001b[49m\u001b[43m \u001b[49m\u001b[43mdtype\u001b[49m\u001b[43m,\u001b[49m\u001b[43m \u001b[49m\u001b[43mname\u001b[49m\u001b[43m,\u001b[49m\u001b[43m \u001b[49m\u001b[43mas_ref\u001b[49m\u001b[43m,\u001b[49m\u001b[43m \u001b[49m\u001b[43mpreferred_dtype\u001b[49m\u001b[43m,\u001b[49m\u001b[43m \u001b[49m\u001b[43maccepted_result_types\u001b[49m\n\u001b[1;32m    698\u001b[0m \u001b[43m\u001b[49m\u001b[43m)\u001b[49m\n",
      "File \u001b[0;32m~/miniconda3/envs/splid-gpu/lib/python3.10/site-packages/tensorflow/python/framework/tensor_conversion_registry.py:234\u001b[0m, in \u001b[0;36mconvert\u001b[0;34m(value, dtype, name, as_ref, preferred_dtype, accepted_result_types)\u001b[0m\n\u001b[1;32m    225\u001b[0m       \u001b[38;5;28;01mraise\u001b[39;00m \u001b[38;5;167;01mRuntimeError\u001b[39;00m(\n\u001b[1;32m    226\u001b[0m           _add_error_prefix(\n\u001b[1;32m    227\u001b[0m               \u001b[38;5;124mf\u001b[39m\u001b[38;5;124m\"\u001b[39m\u001b[38;5;124mConversion function \u001b[39m\u001b[38;5;132;01m{\u001b[39;00mconversion_func\u001b[38;5;132;01m!r}\u001b[39;00m\u001b[38;5;124m for type \u001b[39m\u001b[38;5;124m\"\u001b[39m\n\u001b[0;32m   (...)\u001b[0m\n\u001b[1;32m    230\u001b[0m               \u001b[38;5;124mf\u001b[39m\u001b[38;5;124m\"\u001b[39m\u001b[38;5;124mactual = \u001b[39m\u001b[38;5;132;01m{\u001b[39;00mret\u001b[38;5;241m.\u001b[39mdtype\u001b[38;5;241m.\u001b[39mbase_dtype\u001b[38;5;241m.\u001b[39mname\u001b[38;5;132;01m}\u001b[39;00m\u001b[38;5;124m\"\u001b[39m,\n\u001b[1;32m    231\u001b[0m               name\u001b[38;5;241m=\u001b[39mname))\n\u001b[1;32m    233\u001b[0m \u001b[38;5;28;01mif\u001b[39;00m ret \u001b[38;5;129;01mis\u001b[39;00m \u001b[38;5;28;01mNone\u001b[39;00m:\n\u001b[0;32m--> 234\u001b[0m   ret \u001b[38;5;241m=\u001b[39m \u001b[43mconversion_func\u001b[49m\u001b[43m(\u001b[49m\u001b[43mvalue\u001b[49m\u001b[43m,\u001b[49m\u001b[43m \u001b[49m\u001b[43mdtype\u001b[49m\u001b[38;5;241;43m=\u001b[39;49m\u001b[43mdtype\u001b[49m\u001b[43m,\u001b[49m\u001b[43m \u001b[49m\u001b[43mname\u001b[49m\u001b[38;5;241;43m=\u001b[39;49m\u001b[43mname\u001b[49m\u001b[43m,\u001b[49m\u001b[43m \u001b[49m\u001b[43mas_ref\u001b[49m\u001b[38;5;241;43m=\u001b[39;49m\u001b[43mas_ref\u001b[49m\u001b[43m)\u001b[49m\n\u001b[1;32m    236\u001b[0m \u001b[38;5;28;01mif\u001b[39;00m ret \u001b[38;5;129;01mis\u001b[39;00m \u001b[38;5;28mNotImplemented\u001b[39m:\n\u001b[1;32m    237\u001b[0m   \u001b[38;5;28;01mcontinue\u001b[39;00m\n",
      "File \u001b[0;32m~/miniconda3/envs/splid-gpu/lib/python3.10/site-packages/tensorflow/python/framework/constant_op.py:335\u001b[0m, in \u001b[0;36m_constant_tensor_conversion_function\u001b[0;34m(v, dtype, name, as_ref)\u001b[0m\n\u001b[1;32m    332\u001b[0m \u001b[38;5;28;01mdef\u001b[39;00m \u001b[38;5;21m_constant_tensor_conversion_function\u001b[39m(v, dtype\u001b[38;5;241m=\u001b[39m\u001b[38;5;28;01mNone\u001b[39;00m, name\u001b[38;5;241m=\u001b[39m\u001b[38;5;28;01mNone\u001b[39;00m,\n\u001b[1;32m    333\u001b[0m                                          as_ref\u001b[38;5;241m=\u001b[39m\u001b[38;5;28;01mFalse\u001b[39;00m):\n\u001b[1;32m    334\u001b[0m   _ \u001b[38;5;241m=\u001b[39m as_ref\n\u001b[0;32m--> 335\u001b[0m   \u001b[38;5;28;01mreturn\u001b[39;00m \u001b[43mconstant\u001b[49m\u001b[43m(\u001b[49m\u001b[43mv\u001b[49m\u001b[43m,\u001b[49m\u001b[43m \u001b[49m\u001b[43mdtype\u001b[49m\u001b[38;5;241;43m=\u001b[39;49m\u001b[43mdtype\u001b[49m\u001b[43m,\u001b[49m\u001b[43m \u001b[49m\u001b[43mname\u001b[49m\u001b[38;5;241;43m=\u001b[39;49m\u001b[43mname\u001b[49m\u001b[43m)\u001b[49m\n",
      "File \u001b[0;32m~/miniconda3/envs/splid-gpu/lib/python3.10/site-packages/tensorflow/python/ops/weak_tensor_ops.py:142\u001b[0m, in \u001b[0;36mweak_tensor_binary_op_wrapper.<locals>.wrapper\u001b[0;34m(*args, **kwargs)\u001b[0m\n\u001b[1;32m    140\u001b[0m \u001b[38;5;28;01mdef\u001b[39;00m \u001b[38;5;21mwrapper\u001b[39m(\u001b[38;5;241m*\u001b[39margs, \u001b[38;5;241m*\u001b[39m\u001b[38;5;241m*\u001b[39mkwargs):\n\u001b[1;32m    141\u001b[0m   \u001b[38;5;28;01mif\u001b[39;00m \u001b[38;5;129;01mnot\u001b[39;00m ops\u001b[38;5;241m.\u001b[39mis_auto_dtype_conversion_enabled():\n\u001b[0;32m--> 142\u001b[0m     \u001b[38;5;28;01mreturn\u001b[39;00m \u001b[43mop\u001b[49m\u001b[43m(\u001b[49m\u001b[38;5;241;43m*\u001b[39;49m\u001b[43margs\u001b[49m\u001b[43m,\u001b[49m\u001b[43m \u001b[49m\u001b[38;5;241;43m*\u001b[39;49m\u001b[38;5;241;43m*\u001b[39;49m\u001b[43mkwargs\u001b[49m\u001b[43m)\u001b[49m\n\u001b[1;32m    143\u001b[0m   bound_arguments \u001b[38;5;241m=\u001b[39m signature\u001b[38;5;241m.\u001b[39mbind(\u001b[38;5;241m*\u001b[39margs, \u001b[38;5;241m*\u001b[39m\u001b[38;5;241m*\u001b[39mkwargs)\n\u001b[1;32m    144\u001b[0m   bound_arguments\u001b[38;5;241m.\u001b[39mapply_defaults()\n",
      "File \u001b[0;32m~/miniconda3/envs/splid-gpu/lib/python3.10/site-packages/tensorflow/python/framework/constant_op.py:271\u001b[0m, in \u001b[0;36mconstant\u001b[0;34m(value, dtype, shape, name)\u001b[0m\n\u001b[1;32m    172\u001b[0m \u001b[38;5;129m@tf_export\u001b[39m(\u001b[38;5;124m\"\u001b[39m\u001b[38;5;124mconstant\u001b[39m\u001b[38;5;124m\"\u001b[39m, v1\u001b[38;5;241m=\u001b[39m[])\n\u001b[1;32m    173\u001b[0m \u001b[38;5;28;01mdef\u001b[39;00m \u001b[38;5;21mconstant\u001b[39m(\n\u001b[1;32m    174\u001b[0m     value, dtype\u001b[38;5;241m=\u001b[39m\u001b[38;5;28;01mNone\u001b[39;00m, shape\u001b[38;5;241m=\u001b[39m\u001b[38;5;28;01mNone\u001b[39;00m, name\u001b[38;5;241m=\u001b[39m\u001b[38;5;124m\"\u001b[39m\u001b[38;5;124mConst\u001b[39m\u001b[38;5;124m\"\u001b[39m\n\u001b[1;32m    175\u001b[0m ) \u001b[38;5;241m-\u001b[39m\u001b[38;5;241m>\u001b[39m Union[ops\u001b[38;5;241m.\u001b[39mOperation, ops\u001b[38;5;241m.\u001b[39m_EagerTensorBase]:\n\u001b[1;32m    176\u001b[0m \u001b[38;5;250m  \u001b[39m\u001b[38;5;124;03m\"\"\"Creates a constant tensor from a tensor-like object.\u001b[39;00m\n\u001b[1;32m    177\u001b[0m \n\u001b[1;32m    178\u001b[0m \u001b[38;5;124;03m  Note: All eager `tf.Tensor` values are immutable (in contrast to\u001b[39;00m\n\u001b[0;32m   (...)\u001b[0m\n\u001b[1;32m    269\u001b[0m \u001b[38;5;124;03m    ValueError: if called on a symbolic tensor.\u001b[39;00m\n\u001b[1;32m    270\u001b[0m \u001b[38;5;124;03m  \"\"\"\u001b[39;00m\n\u001b[0;32m--> 271\u001b[0m   \u001b[38;5;28;01mreturn\u001b[39;00m \u001b[43m_constant_impl\u001b[49m\u001b[43m(\u001b[49m\u001b[43mvalue\u001b[49m\u001b[43m,\u001b[49m\u001b[43m \u001b[49m\u001b[43mdtype\u001b[49m\u001b[43m,\u001b[49m\u001b[43m \u001b[49m\u001b[43mshape\u001b[49m\u001b[43m,\u001b[49m\u001b[43m \u001b[49m\u001b[43mname\u001b[49m\u001b[43m,\u001b[49m\u001b[43m \u001b[49m\u001b[43mverify_shape\u001b[49m\u001b[38;5;241;43m=\u001b[39;49m\u001b[38;5;28;43;01mFalse\u001b[39;49;00m\u001b[43m,\u001b[49m\n\u001b[1;32m    272\u001b[0m \u001b[43m                        \u001b[49m\u001b[43mallow_broadcast\u001b[49m\u001b[38;5;241;43m=\u001b[39;49m\u001b[38;5;28;43;01mTrue\u001b[39;49;00m\u001b[43m)\u001b[49m\n",
      "File \u001b[0;32m~/miniconda3/envs/splid-gpu/lib/python3.10/site-packages/tensorflow/python/framework/constant_op.py:284\u001b[0m, in \u001b[0;36m_constant_impl\u001b[0;34m(value, dtype, shape, name, verify_shape, allow_broadcast)\u001b[0m\n\u001b[1;32m    282\u001b[0m     \u001b[38;5;28;01mwith\u001b[39;00m trace\u001b[38;5;241m.\u001b[39mTrace(\u001b[38;5;124m\"\u001b[39m\u001b[38;5;124mtf.constant\u001b[39m\u001b[38;5;124m\"\u001b[39m):\n\u001b[1;32m    283\u001b[0m       \u001b[38;5;28;01mreturn\u001b[39;00m _constant_eager_impl(ctx, value, dtype, shape, verify_shape)\n\u001b[0;32m--> 284\u001b[0m   \u001b[38;5;28;01mreturn\u001b[39;00m \u001b[43m_constant_eager_impl\u001b[49m\u001b[43m(\u001b[49m\u001b[43mctx\u001b[49m\u001b[43m,\u001b[49m\u001b[43m \u001b[49m\u001b[43mvalue\u001b[49m\u001b[43m,\u001b[49m\u001b[43m \u001b[49m\u001b[43mdtype\u001b[49m\u001b[43m,\u001b[49m\u001b[43m \u001b[49m\u001b[43mshape\u001b[49m\u001b[43m,\u001b[49m\u001b[43m \u001b[49m\u001b[43mverify_shape\u001b[49m\u001b[43m)\u001b[49m\n\u001b[1;32m    286\u001b[0m const_tensor \u001b[38;5;241m=\u001b[39m ops\u001b[38;5;241m.\u001b[39m_create_graph_constant(  \u001b[38;5;66;03m# pylint: disable=protected-access\u001b[39;00m\n\u001b[1;32m    287\u001b[0m     value, dtype, shape, name, verify_shape, allow_broadcast\n\u001b[1;32m    288\u001b[0m )\n\u001b[1;32m    289\u001b[0m \u001b[38;5;28;01mreturn\u001b[39;00m const_tensor\n",
      "File \u001b[0;32m~/miniconda3/envs/splid-gpu/lib/python3.10/site-packages/tensorflow/python/framework/constant_op.py:296\u001b[0m, in \u001b[0;36m_constant_eager_impl\u001b[0;34m(ctx, value, dtype, shape, verify_shape)\u001b[0m\n\u001b[1;32m    292\u001b[0m \u001b[38;5;28;01mdef\u001b[39;00m \u001b[38;5;21m_constant_eager_impl\u001b[39m(\n\u001b[1;32m    293\u001b[0m     ctx, value, dtype, shape, verify_shape\n\u001b[1;32m    294\u001b[0m ) \u001b[38;5;241m-\u001b[39m\u001b[38;5;241m>\u001b[39m ops\u001b[38;5;241m.\u001b[39m_EagerTensorBase:\n\u001b[1;32m    295\u001b[0m \u001b[38;5;250m  \u001b[39m\u001b[38;5;124;03m\"\"\"Creates a constant on the current device.\"\"\"\u001b[39;00m\n\u001b[0;32m--> 296\u001b[0m   t \u001b[38;5;241m=\u001b[39m \u001b[43mconvert_to_eager_tensor\u001b[49m\u001b[43m(\u001b[49m\u001b[43mvalue\u001b[49m\u001b[43m,\u001b[49m\u001b[43m \u001b[49m\u001b[43mctx\u001b[49m\u001b[43m,\u001b[49m\u001b[43m \u001b[49m\u001b[43mdtype\u001b[49m\u001b[43m)\u001b[49m\n\u001b[1;32m    297\u001b[0m   \u001b[38;5;28;01mif\u001b[39;00m shape \u001b[38;5;129;01mis\u001b[39;00m \u001b[38;5;28;01mNone\u001b[39;00m:\n\u001b[1;32m    298\u001b[0m     \u001b[38;5;28;01mreturn\u001b[39;00m t\n",
      "File \u001b[0;32m~/miniconda3/envs/splid-gpu/lib/python3.10/site-packages/tensorflow/python/framework/constant_op.py:103\u001b[0m, in \u001b[0;36mconvert_to_eager_tensor\u001b[0;34m(value, ctx, dtype)\u001b[0m\n\u001b[1;32m    101\u001b[0m     dtype \u001b[38;5;241m=\u001b[39m dtypes\u001b[38;5;241m.\u001b[39mas_dtype(dtype)\u001b[38;5;241m.\u001b[39mas_datatype_enum\n\u001b[1;32m    102\u001b[0m ctx\u001b[38;5;241m.\u001b[39mensure_initialized()\n\u001b[0;32m--> 103\u001b[0m \u001b[38;5;28;01mreturn\u001b[39;00m \u001b[43mops\u001b[49m\u001b[38;5;241;43m.\u001b[39;49m\u001b[43mEagerTensor\u001b[49m\u001b[43m(\u001b[49m\u001b[43mvalue\u001b[49m\u001b[43m,\u001b[49m\u001b[43m \u001b[49m\u001b[43mctx\u001b[49m\u001b[38;5;241;43m.\u001b[39;49m\u001b[43mdevice_name\u001b[49m\u001b[43m,\u001b[49m\u001b[43m \u001b[49m\u001b[43mdtype\u001b[49m\u001b[43m)\u001b[49m\n",
      "\u001b[0;31mInternalError\u001b[0m: Failed copying input tensor from /job:localhost/replica:0/task:0/device:CPU:0 to /job:localhost/replica:0/task:0/device:GPU:0 in order to run _EagerConst: Dst tensor is not initialized."
     ]
    }
   ],
   "source": [
    "from base import localizer\n",
    "\n",
    "preds_df = localizer.create_prediction_df(ds_gen=ds_gen_ns,\n",
    "                                model=model_ns,\n",
    "                                train=False,\n",
    "                                test=False,\n",
    "                                output_dirs=['NS'],\n",
    "                                object_limit=200,\n",
    "                                verbose=1)"
   ]
  },
  {
   "cell_type": "code",
   "execution_count": null,
   "metadata": {},
   "outputs": [
    {
     "name": "stdout",
     "output_type": "stream",
     "text": [
      "True\n",
      "      ObjectID  TimeIndex Direction Node Type\n",
      "3317       225          0        EW   SS   NK\n",
      "3318       225          0        NS   SS   NK\n",
      "3319       225       2171        ES   ES   ES\n",
      "Evaluator ignoring classifications\n",
      "asdfasdfasdfasdfasdfasdf\n",
      "Precision: 0.16\n",
      "Recall: 0.08\n",
      "F2: 0.09\n",
      "RMSE: 0.0\n",
      "TP: 34 FP: 183 FN: 381\n"
     ]
    }
   ],
   "source": [
    "subm_df = localizer.postprocess_predictions(preds_df=preds_df,\n",
    "                                            dirs=['NS'],\n",
    "                                            threshold=130.0,\n",
    "                                            add_initial_node=False,\n",
    "                                            clean_consecutives=True)\n",
    "evaluator, sub_df = localizer.evaluate_localizer(subm_df=subm_df,\n",
    "                                                 gt_path=challenge_data_dir / 'train_labels.csv',\n",
    "                                                 object_ids=list(map(int, ds_gen_ns.val_keys)),\n",
    "                                                 dirs=['NS'],\n",
    "                                                 with_initial_node=False,\n",
    "                                                 return_scores=False,\n",
    "                                                 verbose=1)"
   ]
  },
  {
   "cell_type": "code",
   "execution_count": 6,
   "metadata": {},
   "outputs": [
    {
     "name": "stderr",
     "output_type": "stream",
     "text": [
      "2024-01-29 17:19:34.249844: W external/local_tsl/tsl/framework/cpu_allocator_impl.cc:83] Allocation of 3137272320 exceeds 10% of free system memory.\n",
      "2024-01-29 17:19:36.274124: W external/local_tsl/tsl/framework/cpu_allocator_impl.cc:83] Allocation of 3137272320 exceeds 10% of free system memory.\n"
     ]
    },
    {
     "name": "stdout",
     "output_type": "stream",
     "text": [
      "25531/25531 - 59s - 59s/epoch - 2ms/step\n"
     ]
    },
    {
     "name": "stderr",
     "output_type": "stream",
     "text": [
      "/home/david/Code/splid-challenge/base/evaluation.py:271: SettingWithCopyWarning: \n",
      "A value is trying to be set on a copy of a slice from a DataFrame.\n",
      "Try using .loc[row_indexer,col_indexer] = value instead\n",
      "\n",
      "See the caveats in the documentation: https://pandas.pydata.org/pandas-docs/stable/user_guide/indexing.html#returning-a-view-versus-a-copy\n",
      "  df_filtered['consecutive'] = (df_filtered['TimeIndex'] - df_filtered['TimeIndex'].shift(1) != 1).cumsum()\n"
     ]
    },
    {
     "name": "stdout",
     "output_type": "stream",
     "text": [
      "Evaluator ignoring classifications\n",
      "Precision: 0.83\n",
      "Recall: 0.16\n",
      "F2: 0.19\n",
      "RMSE: 1.037\n",
      "TP: 67 FP: 14 FN: 351\n"
     ]
    }
   ],
   "source": [
    "evaluator, result_df = evaluation.evaluate_localizer(ds_gen_ns,\n",
    "                                                    split_dataframes=split_dataframes,\n",
    "                                                    gt_path=challenge_data_dir / 'train_labels.csv',\n",
    "                                                    model=model_ns,\n",
    "                                                    train=False,\n",
    "                                                    with_initial_node=False,\n",
    "                                                    remove_consecutives=True,\n",
    "                                                    direction='NS',\n",
    "                                                    prediction_threshold=50.0,\n",
    "                                                    return_scores=False)\n",
    "# 50.0: 0.96 0.78 0.81 489 22 163\n",
    "# 25.0: 0.96 0.67 0.71 420 19 205\n",
    "# Idea: with regression approach, instead of using consecutive detection, compute local mean values, apply 2nd threshold? somtehing like that?\n"
   ]
  },
  {
   "cell_type": "code",
   "execution_count": null,
   "metadata": {},
   "outputs": [],
   "source": [
    "pickle.dump(ds_gen_ew.scaler, open('submission/models/EW_localizer_scaler.pkl', 'wb'))"
   ]
  },
  {
   "cell_type": "code",
   "execution_count": 191,
   "metadata": {},
   "outputs": [
    {
     "name": "stdout",
     "output_type": "stream",
     "text": [
      "['1', '100', '101', '102', '103', '105', '106', '107', '108', '109', '11', '110', '111', '112', '113', '117', '118', '12', '120', '122', '124', '125', '126', '127', '128', '129', '13', '130', '131', '132', '133', '134', '135', '136', '138', '14', '140', '141', '142', '143', '144', '145', '146', '147', '149', '150', '151', '152', '153', '154', '155', '156', '157', '158', '159', '16', '162', '163', '164', '165', '166', '168', '169', '17', '170', '172', '173', '174', '175', '177', '178', '179', '18', '180', '181', '182', '183', '186', '187', '188', '189', '19', '190', '191', '192', '194', '195', '196', '197', '2', '20', '200', '201', '202', '203', '204', '205', '206', '207', '208', '209', '210', '213', '214', '215', '216', '217', '218', '219', '22', '220', '223', '224', '225', '226', '228', '229', '23', '231', '232', '234', '236', '237', '239', '24', '240', '242', '243', '244', '246', '247', '248', '249', '25', '250', '27', '28', '29', '3', '31', '32', '33', '34', '35', '37', '38', '39', '4', '40', '41', '42', '43', '44', '46', '48', '49', '5', '51', '53', '54', '55', '56', '57', '58', '59', '6', '62', '63', '64', '65', '68', '69', '7', '70', '71', '72', '74', '75', '76', '77', '78', '79', '8', '80', '81', '82', '83', '85', '86', '89', '9', '90', '92', '93', '94', '95', '96', '97', '98', '99']\n"
     ]
    },
    {
     "data": {
      "image/png": "[encoded data removed]",
      "text/plain": [
       "<Figure size 1000x600 with 2 Axes>"
      ]
     },
     "metadata": {},
     "output_type": "display_data"
    }
   ],
   "source": [
    "print(ds_gen_ew.train_keys)\n",
    "evaluator.plot(122)"
   ]
  },
  {
   "cell_type": "code",
   "execution_count": 192,
   "metadata": {},
   "outputs": [
    {
     "name": "stdout",
     "output_type": "stream",
     "text": [
      "        ObjectID  TimeIndex  Location  Location_Pred  Location_Pred_Raw  \\\n",
      "207530       122        121         0              1          41.358292   \n",
      "207531       122        122         0              1          72.189095   \n",
      "207532       122        123         0              1          97.825836   \n",
      "207533       122        124         1              1         122.176582   \n",
      "207534       122        125         0              1         111.815735   \n",
      "207535       122        126         0              1          71.369972   \n",
      "207536       122        127         0              1          46.205509   \n",
      "207537       122        128         0              1          27.297628   \n",
      "207962       122        553         0              1          28.518669   \n",
      "207963       122        554         0              1          71.265884   \n",
      "207964       122        555         0              1         124.096207   \n",
      "207965       122        556         0              1         159.353317   \n",
      "207966       122        557         1              1         143.565063   \n",
      "207967       122        558         0              1          97.765785   \n",
      "207968       122        559         0              1          56.496758   \n",
      "207969       122        560         0              1          30.660849   \n",
      "208190       122        781         0              1          50.013031   \n",
      "208191       122        782         0              1          71.454117   \n",
      "208192       122        783         1              1          84.010628   \n",
      "208193       122        784         0              1          72.016022   \n",
      "208194       122        785         0              1          32.254051   \n",
      "208225       122        816         1              0           0.074569   \n",
      "\n",
      "       Direction  Node  Type  \n",
      "207530        EW  None  None  \n",
      "207531        EW  None  None  \n",
      "207532        EW  None  None  \n",
      "207533        EW  None  None  \n",
      "207534        EW  None  None  \n",
      "207535        EW  None  None  \n",
      "207536        EW  None  None  \n",
      "207537        EW  None  None  \n",
      "207962        EW  None  None  \n",
      "207963        EW  None  None  \n",
      "207964        EW  None  None  \n",
      "207965        EW  None  None  \n",
      "207966        EW  None  None  \n",
      "207967        EW  None  None  \n",
      "207968        EW  None  None  \n",
      "207969        EW  None  None  \n",
      "208190        EW  None  None  \n",
      "208191        EW  None  None  \n",
      "208192        EW  None  None  \n",
      "208193        EW  None  None  \n",
      "208194        EW  None  None  \n",
      "208225        EW  None  None  \n"
     ]
    }
   ],
   "source": [
    "print(result_df.loc[(result_df['ObjectID'] == 122) & ((result_df['Location_Pred'] == True) | (result_df['Location'] == True))])"
   ]
  },
  {
   "cell_type": "code",
   "execution_count": 195,
   "metadata": {},
   "outputs": [
    {
     "name": "stdout",
     "output_type": "stream",
     "text": [
      "        ObjectID  TimeIndex  Location  Location_Pred  Location_Pred_Raw  \\\n",
      "207519       122        110         0              0           0.074569   \n",
      "207520       122        111         0              0           0.074569   \n",
      "207521       122        112         0              0           0.074569   \n",
      "207522       122        113         0              0           0.074569   \n",
      "207523       122        114         0              0           0.074569   \n",
      "207524       122        115         0              0           0.074569   \n",
      "207525       122        116         0              0           0.074569   \n",
      "207526       122        117         0              0           0.074569   \n",
      "207527       122        118         0              0           3.679910   \n",
      "207528       122        119         0              0          10.641794   \n",
      "207529       122        120         0              0          24.258537   \n",
      "207530       122        121         0              1          41.358292   \n",
      "207531       122        122         0              1          72.189095   \n",
      "207532       122        123         0              1          97.825836   \n",
      "207533       122        124         1              1         122.176582   \n",
      "207534       122        125         0              1         111.815735   \n",
      "207535       122        126         0              1          71.369972   \n",
      "207536       122        127         0              1          46.205509   \n",
      "207537       122        128         0              1          27.297628   \n",
      "207538       122        129         0              0           8.021850   \n",
      "207539       122        130         0              0           0.074569   \n",
      "207540       122        131         0              0           0.074569   \n",
      "207541       122        132         0              0           0.074569   \n",
      "207542       122        133         0              0           0.074569   \n",
      "207543       122        134         0              0           0.074569   \n",
      "207544       122        135         0              0           0.244114   \n",
      "207545       122        136         0              0           0.074569   \n",
      "207546       122        137         0              0           0.074569   \n",
      "207547       122        138         0              0           0.074569   \n",
      "207548       122        139         0              0           0.074569   \n",
      "207549       122        140         0              0           0.074569   \n",
      "\n",
      "       Direction  Node  Type  \n",
      "207519        EW  None  None  \n",
      "207520        EW  None  None  \n",
      "207521        EW  None  None  \n",
      "207522        EW  None  None  \n",
      "207523        EW  None  None  \n",
      "207524        EW  None  None  \n",
      "207525        EW  None  None  \n",
      "207526        EW  None  None  \n",
      "207527        EW  None  None  \n",
      "207528        EW  None  None  \n",
      "207529        EW  None  None  \n",
      "207530        EW  None  None  \n",
      "207531        EW  None  None  \n",
      "207532        EW  None  None  \n",
      "207533        EW  None  None  \n",
      "207534        EW  None  None  \n",
      "207535        EW  None  None  \n",
      "207536        EW  None  None  \n",
      "207537        EW  None  None  \n",
      "207538        EW  None  None  \n",
      "207539        EW  None  None  \n",
      "207540        EW  None  None  \n",
      "207541        EW  None  None  \n",
      "207542        EW  None  None  \n",
      "207543        EW  None  None  \n",
      "207544        EW  None  None  \n",
      "207545        EW  None  None  \n",
      "207546        EW  None  None  \n",
      "207547        EW  None  None  \n",
      "207548        EW  None  None  \n",
      "207549        EW  None  None  \n"
     ]
    }
   ],
   "source": [
    "print(result_df.loc[(result_df['ObjectID'] == 122) & (result_df['TimeIndex'] >= 110) & (result_df['TimeIndex'] <= 140)])"
   ]
  },
  {
   "cell_type": "code",
   "execution_count": 20,
   "metadata": {},
   "outputs": [
    {
     "name": "stdout",
     "output_type": "stream",
     "text": [
      "    ObjectID  TimeIndex Direction Node Type\n",
      "0        121        817        EW   IK   HK\n",
      "1        121          0        EW   SS   NK\n",
      "2        121        124        EW   AD   NK\n",
      "3        121        557        EW   AD   NK\n",
      "4        121        783        EW   AD   NK\n",
      "6        122          0        EW   SS   NK\n",
      "7        122        124        EW   AD   NK\n",
      "8        122        557        EW   AD   NK\n",
      "9        122        783        EW   AD   NK\n",
      "10       122        816        EW   IK   HK\n",
      "11       123          0        EW   SS   NK\n",
      "12       123        124        EW   AD   NK\n",
      "13       123        557        EW   AD   NK\n",
      "14       123       1804        EW   AD   NK\n",
      "    ObjectID  TimeIndex Direction Node Type\n",
      "0        121          0        EW   SS   NK\n",
      "1        121        124        EW   AD   NK\n",
      "2        121        557        EW   AD   NK\n",
      "3        121        783        EW   AD   NK\n",
      "4        121        816        EW   IK   HK\n",
      "5        122          0        EW   SS   NK\n",
      "6        122        124        EW   AD   NK\n",
      "7        122        557        EW   AD   NK\n",
      "8        122        783        EW   AD   NK\n",
      "9        122        816        EW   IK   HK\n",
      "10       123          0        EW   SS   NK\n",
      "11       123        124        EW   AD   NK\n",
      "12       123        557        EW   AD   NK\n",
      "13       123       1804        EW   AD   NK\n",
      "Precision: 1.00\n",
      "Recall: 1.00\n",
      "F2: 1.00\n",
      "RMSE: 0.2673\n",
      "TP: 14 FP: 0 FN: 0\n"
     ]
    }
   ],
   "source": [
    "\n",
    "direction = 'EW'\n",
    "ground_truth_from_file = pd.read_csv(labels_dir)\n",
    "ground_truth_from_file = ground_truth_from_file[ground_truth_from_file['ObjectID'].isin([121,122,123])].copy()\n",
    "ground_truth_from_file = ground_truth_from_file[(ground_truth_from_file['Direction'] == direction)]\n",
    "ground_truth_from_file = ground_truth_from_file.sort_values(['ObjectID', 'TimeIndex']).reset_index(drop=True)\n",
    "\n",
    "mergeDf = ground_truth_from_file.copy()\n",
    "mergeDf = mergeDf.drop([4])\n",
    "mergeDf.loc[-1] = [121, 817, 'EW', 'IK', 'HK']  # adding a row\n",
    "mergeDf.index = mergeDf.index + 1  # shifting index\n",
    "mergeDf = mergeDf.sort_index()  # sorting by index\n",
    "print(mergeDf)\n",
    "print(ground_truth_from_file)\n",
    "\n",
    "evaluator = evaluation.NodeDetectionEvaluator(ground_truth_from_file, mergeDf)\n",
    "precision, recall, f2, rmse, total_tp, total_fp, total_fn = evaluator.score()\n",
    "print(f'Precision: {precision:.2f}')\n",
    "print(f'Recall: {recall:.2f}')\n",
    "print(f'F2: {f2:.2f}')\n",
    "print(f'RMSE: {rmse:.4}')\n",
    "print(f'TP: {total_tp} FP: {total_fp} FN: {total_fn}')"
   ]
  },
  {
   "cell_type": "code",
   "execution_count": null,
   "metadata": {},
   "outputs": [
    {
     "name": "stderr",
     "output_type": "stream",
     "text": [
      "2024-01-06 23:47:48.838844: W external/local_tsl/tsl/framework/cpu_allocator_impl.cc:83] Allocation of 1028534400 exceeds 10% of free system memory.\n"
     ]
    }
   ],
   "source": [
    "eval_df = evaluation.localization_eval(ds_gen, challenge_data_dir / 'train_labels.csv', dense_model.model, train=True, add_initial_node=True)"
   ]
  },
  {
   "cell_type": "code",
   "execution_count": 10,
   "metadata": {},
   "outputs": [
    {
     "name": "stdout",
     "output_type": "stream",
     "text": [
      "    ObjectID  TimeIndex  Location  Location_Pred Node Type Direction\n",
      "0        106         69         0              1   AD   NK        EW\n",
      "1        108        179         0              1   SS   NK        EW\n",
      "2        114        201         0              1   AD   NK        EW\n",
      "3        116        201         0              1   AD   NK        EW\n",
      "4        117        461         0              1   AD   NK        EW\n",
      "5        123        125         0              1   AD   NK        EW\n",
      "6        124        367         0              1   AD   NK        EW\n",
      "7        129        972         1              0   IK   CK        EW\n",
      "8        130         86         1              0   IK   CK        EW\n",
      "9        131        155         0              1   AD   NK        EW\n",
      "10       135        936         1              0   IK   CK        EW\n",
      "11       139       1009         1              0   AD   NK        EW\n",
      "12       139       1098         1              0   IK   CK        EW\n",
      "13       141        157         1              0   ID   NK        EW\n",
      "14       143        505         1              0   ID   NK        EW\n",
      "15       146       1297         1              0   ID   NK        EW\n",
      "16       151        157         1              0   ID   NK        EW\n",
      "17       152        301         1              0   ID   NK        EW\n",
      "18       157       1561         1              0   ID   NK        EW\n",
      "19       159       1837         1              0   ID   NK        EW\n",
      "20       175       1069         1              0   ID   NK        EW\n",
      "21       176       1297         1              0   ID   NK        EW\n",
      "22       177       1561         1              0   ID   NK        EW\n",
      "23       178       1717         1              0   ID   NK        EW\n",
      "24       178       1888         1              0   AD   NK        EW\n",
      "25       178       1889         0              1   AD   NK        EW\n",
      "26       181        145         1              0   ID   NK        EW\n",
      "27       181        329         0              1   AD   NK        EW\n",
      "28       183        421         1              0   ID   NK        EW\n",
      "29       185        721         1              0   ID   NK        EW\n",
      "30       185        844         0              1   AD   NK        EW\n",
      "31       188       1249         1              0   ID   NK        EW\n",
      "32       190       1609         1              0   ID   NK        EW\n",
      "33       190       1862         0              1   AD   NK        EW\n",
      "34       191        145         1              0   ID   NK        EW\n",
      "35       194        589         1              0   ID   NK        EW\n",
      "36       199       1381         1              0   ID   NK        EW\n",
      "37       206        889         1              0   ID   NK        EW\n",
      "38       206       1011         0              1   AD   NK        EW\n",
      "39       209       1381         1              0   ID   NK        EW\n",
      "40       215        721         1              0   ID   NK        EW\n",
      "41       215        912         1              0   AD   NK        EW\n",
      "42       215        930         1              0   IK   HK        EW\n",
      "43       217       1165         1              0   ID   NK        EW\n",
      "44       217       1347         0              1   AD   NK        EW\n",
      "45       217       1435         0              1   IK   HK        EW\n",
      "46       219       1381         1              0   ID   NK        EW\n",
      "47       219       1601         0              1   AD   NK        EW\n",
      "48       244        355         1              0   IK   HK        EW\n",
      "49\n",
      "181\n"
     ]
    }
   ],
   "source": [
    "false_preds = eval_df.loc[(eval_df['Location'] != eval_df['Location_Pred'])].sort_values(['ObjectID', 'TimeIndex']).reset_index(drop=True)\n",
    "print(false_preds.head(80))\n",
    "false_preds = eval_df[eval_df['Location'] != eval_df['Location_Pred']]\n",
    "print(len(false_preds))\n",
    "print(len(eval_df))"
   ]
  },
  {
   "cell_type": "code",
   "execution_count": null,
   "metadata": {},
   "outputs": [],
   "source": []
  },
  {
   "cell_type": "code",
   "execution_count": null,
   "metadata": {},
   "outputs": [],
   "source": []
  }
 ],
 "metadata": {
  "kernelspec": {
   "display_name": "splid",
   "language": "python",
   "name": "python3"
  },
  "language_info": {
   "codemirror_mode": {
    "name": "ipython",
    "version": 3
   },
   "file_extension": ".py",
   "mimetype": "text/x-python",
   "name": "python",
   "nbconvert_exporter": "python",
   "pygments_lexer": "ipython3",
   "version": "3.10.13"
  }
 },
 "nbformat": 4,
 "nbformat_minor": 2
}
