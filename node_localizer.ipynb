{
 "cells": [
  {
   "cell_type": "code",
   "execution_count": 1,
   "metadata": {},
   "outputs": [
    {
     "name": "stderr",
     "output_type": "stream",
     "text": [
      "2024-01-10 12:37:40.499204: E external/local_xla/xla/stream_executor/cuda/cuda_dnn.cc:9261] Unable to register cuDNN factory: Attempting to register factory for plugin cuDNN when one has already been registered\n",
      "2024-01-10 12:37:40.499267: E external/local_xla/xla/stream_executor/cuda/cuda_fft.cc:607] Unable to register cuFFT factory: Attempting to register factory for plugin cuFFT when one has already been registered\n",
      "2024-01-10 12:37:40.500068: E external/local_xla/xla/stream_executor/cuda/cuda_blas.cc:1515] Unable to register cuBLAS factory: Attempting to register factory for plugin cuBLAS when one has already been registered\n",
      "2024-01-10 12:37:40.506016: I tensorflow/core/platform/cpu_feature_guard.cc:182] This TensorFlow binary is optimized to use available CPU instructions in performance-critical operations.\n",
      "To enable the following instructions: AVX2 FMA, in other operations, rebuild TensorFlow with the appropriate compiler flags.\n",
      "2024-01-10 12:37:41.380545: W tensorflow/compiler/tf2tensorrt/utils/py_utils.cc:38] TF-TRT Warning: Could not find TensorRT\n"
     ]
    }
   ],
   "source": [
    "import pandas as pd\n",
    "import numpy as np\n",
    "from pathlib import Path\n",
    "\n",
    "%load_ext autoreload\n",
    "%autoreload 2\n",
    "from base import datahandler, prediction_models, evaluation\n"
   ]
  },
  {
   "cell_type": "code",
   "execution_count": 2,
   "metadata": {},
   "outputs": [],
   "source": [
    "# Define the directory paths\n",
    "challenge_data_dir = Path('dataset/phase_1/')\n",
    "data_dir = challenge_data_dir / \"train\"\n",
    "labels_dir = challenge_data_dir / 'train_labels.csv'\n",
    "\n",
    "split_dataframes = datahandler.load_and_prepare_dataframes(data_dir, labels_dir)\n",
    "\n",
    "some_dataframes = {df_k : split_dataframes[df_k] for df_k in list(split_dataframes.keys())[:100]}"
   ]
  },
  {
   "cell_type": "code",
   "execution_count": 3,
   "metadata": {},
   "outputs": [
    {
     "name": "stdout",
     "output_type": "stream",
     "text": [
      "=========================Creating Dataset=========================\n",
      "Seed: 69\n",
      "nTrain: 200 nVal: 50 (0.80)\n",
      "Padding: False\n",
      "Scaling: True\n",
      "Horizons: 20-20 @ stride 1\n",
      "Sin-Transformed features: ['Argument of Periapsis (deg)']\n",
      "Padding locations (1)\n",
      "Labels: ['EW_Node_Location', 'NS_Node_Location']\n"
     ]
    },
    {
     "name": "stderr",
     "output_type": "stream",
     "text": [
      "2024-01-10 12:38:10.638518: I external/local_xla/xla/stream_executor/cuda/cuda_executor.cc:887] could not open file to read NUMA node: /sys/bus/pci/devices/0000:1c:00.0/numa_node\n",
      "Your kernel may have been built without NUMA support.\n",
      "2024-01-10 12:38:10.661185: I external/local_xla/xla/stream_executor/cuda/cuda_executor.cc:887] could not open file to read NUMA node: /sys/bus/pci/devices/0000:1c:00.0/numa_node\n",
      "Your kernel may have been built without NUMA support.\n",
      "2024-01-10 12:38:10.661255: I external/local_xla/xla/stream_executor/cuda/cuda_executor.cc:887] could not open file to read NUMA node: /sys/bus/pci/devices/0000:1c:00.0/numa_node\n",
      "Your kernel may have been built without NUMA support.\n",
      "2024-01-10 12:38:10.663256: I external/local_xla/xla/stream_executor/cuda/cuda_executor.cc:887] could not open file to read NUMA node: /sys/bus/pci/devices/0000:1c:00.0/numa_node\n",
      "Your kernel may have been built without NUMA support.\n",
      "2024-01-10 12:38:10.663332: I external/local_xla/xla/stream_executor/cuda/cuda_executor.cc:887] could not open file to read NUMA node: /sys/bus/pci/devices/0000:1c:00.0/numa_node\n",
      "Your kernel may have been built without NUMA support.\n",
      "2024-01-10 12:38:10.663383: I external/local_xla/xla/stream_executor/cuda/cuda_executor.cc:887] could not open file to read NUMA node: /sys/bus/pci/devices/0000:1c:00.0/numa_node\n",
      "Your kernel may have been built without NUMA support.\n",
      "2024-01-10 12:38:12.089309: I external/local_xla/xla/stream_executor/cuda/cuda_executor.cc:887] could not open file to read NUMA node: /sys/bus/pci/devices/0000:1c:00.0/numa_node\n",
      "Your kernel may have been built without NUMA support.\n",
      "2024-01-10 12:38:12.089390: I external/local_xla/xla/stream_executor/cuda/cuda_executor.cc:887] could not open file to read NUMA node: /sys/bus/pci/devices/0000:1c:00.0/numa_node\n",
      "Your kernel may have been built without NUMA support.\n",
      "2024-01-10 12:38:12.089416: I tensorflow/core/common_runtime/gpu/gpu_device.cc:2022] Could not identify NUMA node of platform GPU id 0, defaulting to 0.  Your kernel may not have been built with NUMA support.\n",
      "2024-01-10 12:38:12.089562: I external/local_xla/xla/stream_executor/cuda/cuda_executor.cc:887] could not open file to read NUMA node: /sys/bus/pci/devices/0000:1c:00.0/numa_node\n",
      "Your kernel may have been built without NUMA support.\n",
      "2024-01-10 12:38:12.089590: I tensorflow/core/common_runtime/gpu/gpu_device.cc:1929] Created device /job:localhost/replica:0/task:0/device:GPU:0 with 4575 MB memory:  -> device: 0, name: NVIDIA GeForce GTX 1060 6GB, pci bus id: 0000:1c:00.0, compute capability: 6.1\n"
     ]
    },
    {
     "name": "stdout",
     "output_type": "stream",
     "text": [
      "=========================Finished Dataset=========================\n"
     ]
    }
   ],
   "source": [
    "input_features = ['Eccentricity', 'Semimajor Axis (m)', 'Inclination (deg)', 'RAAN (deg)',\n",
    "       'Argument of Periapsis (deg)', 'True Anomaly (deg)', 'Latitude (deg)',\n",
    "       'Longitude (deg)', 'Altitude (m)', 'X (m)', 'Y (m)', 'Z (m)',\n",
    "       'Vx (m/s)', 'Vy (m/s)', 'Vz (m/s)']\n",
    "\n",
    "input_features_reduced = ['Eccentricity', 'Semimajor Axis (m)', 'Inclination (deg)', 'RAAN (deg)',\n",
    "       'Argument of Periapsis (deg)', 'True Anomaly (deg)', 'Latitude (deg)',\n",
    "       'Longitude (deg)', 'Altitude (m)']\n",
    "\n",
    "ew_input_features = ['Eccentricity', 'Semimajor Axis (m)', 'Argument of Periapsis (deg)', 'Longitude (deg)', 'Altitude (m)']\n",
    "\n",
    "label_features=['EW_Node_Location', 'NS_Node_Location']\n",
    "\n",
    "\n",
    "ds_gen = datahandler.DatasetGenerator(split_df=split_dataframes, input_features=ew_input_features,\n",
    "                                      label_features=label_features, pad_location_labels=1,\n",
    "                                      train_val_split=0.8, stride=1, input_stride=1, padding=False,\n",
    "                                      transform_features=True,\n",
    "                                      input_history_steps=20, input_future_steps=20, seed=69)"
   ]
  },
  {
   "cell_type": "code",
   "execution_count": 10,
   "metadata": {},
   "outputs": [
    {
     "name": "stdout",
     "output_type": "stream",
     "text": [
      "(TensorSpec(shape=(None, 40, 5), dtype=tf.float64, name=None), {'EW_Node_Location': TensorSpec(shape=(None,), dtype=tf.int32, name=None)})\n",
      "Model: \"model_2\"\n",
      "_________________________________________________________________\n",
      " Layer (type)                Output Shape              Param #   \n",
      "=================================================================\n",
      " Input (InputLayer)          [(None, 40, 5)]           0         \n",
      "                                                                 \n",
      " flatten_2 (Flatten)         (None, 200)               0         \n",
      "                                                                 \n",
      " dense_8 (Dense)             (None, 256)               51456     \n",
      "                                                                 \n",
      " dense_9 (Dense)             (None, 128)               32896     \n",
      "                                                                 \n",
      " dense_10 (Dense)            (None, 64)                8256      \n",
      "                                                                 \n",
      " dense_11 (Dense)            (None, 32)                2080      \n",
      "                                                                 \n",
      " EW_Node_Location (Dense)    (None, 2)                 66        \n",
      "                                                                 \n",
      "=================================================================\n",
      "Total params: 94754 (370.13 KB)\n",
      "Trainable params: 94754 (370.13 KB)\n",
      "Non-trainable params: 0 (0.00 Byte)\n",
      "_________________________________________________________________\n",
      "Starting training. Optimizing \"val_accuracy\"\n",
      "Epoch 1/40\n",
      "837/837 [==============================] - 19s 21ms/step - loss: 0.1362 - accuracy: 0.9904 - val_loss: 0.0239 - val_accuracy: 0.9987\n",
      "Epoch 2/40\n",
      "837/837 [==============================] - 18s 21ms/step - loss: 0.0936 - accuracy: 0.9963 - val_loss: 0.0194 - val_accuracy: 0.9977\n",
      "Epoch 3/40\n",
      "837/837 [==============================] - 18s 21ms/step - loss: 0.0800 - accuracy: 0.9976 - val_loss: 0.0190 - val_accuracy: 0.9976\n",
      "Epoch 4/40\n",
      "837/837 [==============================] - 17s 21ms/step - loss: 0.0747 - accuracy: 0.9973 - val_loss: 0.0169 - val_accuracy: 0.9972\n",
      "Epoch 5/40\n",
      "837/837 [==============================] - 18s 21ms/step - loss: 0.0695 - accuracy: 0.9978 - val_loss: 0.0184 - val_accuracy: 0.9979\n",
      "Epoch 6/40\n",
      "837/837 [==============================] - 18s 21ms/step - loss: 0.0674 - accuracy: 0.9979 - val_loss: 0.0159 - val_accuracy: 0.9978\n",
      "Epoch 7/40\n",
      "837/837 [==============================] - 17s 21ms/step - loss: 0.0672 - accuracy: 0.9966 - val_loss: 0.0143 - val_accuracy: 0.9981\n",
      "Epoch 8/40\n",
      "837/837 [==============================] - 17s 21ms/step - loss: 0.0677 - accuracy: 0.9978 - val_loss: 0.0216 - val_accuracy: 0.9971\n",
      "Epoch 9/40\n",
      "837/837 [==============================] - 17s 21ms/step - loss: 0.0633 - accuracy: 0.9978 - val_loss: 0.0144 - val_accuracy: 0.9977\n",
      "Epoch 10/40\n",
      "837/837 [==============================] - 17s 21ms/step - loss: 0.0624 - accuracy: 0.9979 - val_loss: 0.0126 - val_accuracy: 0.9986\n",
      "Epoch 11/40\n",
      "837/837 [==============================] - 18s 21ms/step - loss: 0.0623 - accuracy: 0.9980 - val_loss: 0.0138 - val_accuracy: 0.9981\n",
      "Epoch 12/40\n",
      "837/837 [==============================] - 18s 21ms/step - loss: 0.0566 - accuracy: 0.9983 - val_loss: 0.0106 - val_accuracy: 0.9988\n",
      "Epoch 13/40\n",
      "837/837 [==============================] - 18s 21ms/step - loss: 0.0560 - accuracy: 0.9982 - val_loss: 0.0110 - val_accuracy: 0.9985\n",
      "Epoch 14/40\n",
      "837/837 [==============================] - 17s 21ms/step - loss: 0.0541 - accuracy: 0.9980 - val_loss: 0.0122 - val_accuracy: 0.9984\n",
      "Epoch 15/40\n",
      "837/837 [==============================] - 17s 21ms/step - loss: 0.0533 - accuracy: 0.9985 - val_loss: 0.0123 - val_accuracy: 0.9983\n",
      "Epoch 16/40\n",
      "837/837 [==============================] - 18s 21ms/step - loss: 0.0521 - accuracy: 0.9982 - val_loss: 0.0118 - val_accuracy: 0.9989\n",
      "Epoch 17/40\n",
      "837/837 [==============================] - 17s 21ms/step - loss: 0.0529 - accuracy: 0.9984 - val_loss: 0.0132 - val_accuracy: 0.9985\n",
      "Epoch 18/40\n",
      "837/837 [==============================] - 17s 21ms/step - loss: 0.0540 - accuracy: 0.9984 - val_loss: 0.0187 - val_accuracy: 0.9975\n",
      "Epoch 19/40\n",
      "837/837 [==============================] - 18s 21ms/step - loss: 0.0543 - accuracy: 0.9976 - val_loss: 0.0117 - val_accuracy: 0.9986\n",
      "Epoch 20/40\n",
      "837/837 [==============================] - 18s 21ms/step - loss: 0.0508 - accuracy: 0.9984 - val_loss: 0.0117 - val_accuracy: 0.9983\n",
      "Epoch 21/40\n",
      "837/837 [==============================] - 17s 21ms/step - loss: 0.0503 - accuracy: 0.9983 - val_loss: 0.0082 - val_accuracy: 0.9991\n",
      "Epoch 22/40\n",
      "837/837 [==============================] - 18s 21ms/step - loss: 0.0495 - accuracy: 0.9986 - val_loss: 0.0110 - val_accuracy: 0.9986\n",
      "Epoch 23/40\n",
      "837/837 [==============================] - 17s 21ms/step - loss: 0.0552 - accuracy: 0.9980 - val_loss: 0.0106 - val_accuracy: 0.9984\n",
      "Epoch 24/40\n",
      "837/837 [==============================] - 17s 21ms/step - loss: 0.0515 - accuracy: 0.9986 - val_loss: 0.0118 - val_accuracy: 0.9985\n",
      "Epoch 25/40\n",
      "837/837 [==============================] - 18s 21ms/step - loss: 0.0481 - accuracy: 0.9982 - val_loss: 0.0108 - val_accuracy: 0.9989\n",
      "Epoch 26/40\n",
      "837/837 [==============================] - 17s 21ms/step - loss: 0.0508 - accuracy: 0.9986 - val_loss: 0.0149 - val_accuracy: 0.9986\n",
      "Epoch 27/40\n",
      "837/837 [==============================] - 18s 21ms/step - loss: 0.0473 - accuracy: 0.9987 - val_loss: 0.0126 - val_accuracy: 0.9987\n",
      "Epoch 28/40\n",
      "837/837 [==============================] - 18s 21ms/step - loss: 0.0460 - accuracy: 0.9987 - val_loss: 0.0131 - val_accuracy: 0.9984\n",
      "Epoch 29/40\n",
      "837/837 [==============================] - 18s 21ms/step - loss: 0.0469 - accuracy: 0.9984 - val_loss: 0.0143 - val_accuracy: 0.9988\n",
      "Epoch 30/40\n",
      "837/837 [==============================] - 18s 21ms/step - loss: 0.0458 - accuracy: 0.9987 - val_loss: 0.0183 - val_accuracy: 0.9987\n",
      "Epoch 31/40\n",
      "837/837 [==============================] - 18s 21ms/step - loss: 0.0452 - accuracy: 0.9988 - val_loss: 0.0109 - val_accuracy: 0.9988\n",
      "Epoch 32/40\n",
      "837/837 [==============================] - 18s 21ms/step - loss: 0.0514 - accuracy: 0.9987 - val_loss: 0.0135 - val_accuracy: 0.9986\n",
      "Epoch 33/40\n",
      "837/837 [==============================] - 18s 21ms/step - loss: 0.0461 - accuracy: 0.9986 - val_loss: 0.0112 - val_accuracy: 0.9985\n",
      "Epoch 34/40\n",
      "837/837 [==============================] - 17s 21ms/step - loss: 0.0440 - accuracy: 0.9987 - val_loss: 0.0143 - val_accuracy: 0.9984\n",
      "Epoch 35/40\n",
      "837/837 [==============================] - 17s 21ms/step - loss: 0.0519 - accuracy: 0.9980 - val_loss: 0.0104 - val_accuracy: 0.9984\n",
      "Epoch 36/40\n",
      "837/837 [==============================] - 18s 21ms/step - loss: 0.0465 - accuracy: 0.9986 - val_loss: 0.0109 - val_accuracy: 0.9986\n",
      "Epoch 37/40\n",
      "837/837 [==============================] - 18s 21ms/step - loss: 0.0426 - accuracy: 0.9985 - val_loss: 0.0120 - val_accuracy: 0.9985\n",
      "Epoch 38/40\n",
      "837/837 [==============================] - 18s 22ms/step - loss: 0.0426 - accuracy: 0.9985 - val_loss: 0.0116 - val_accuracy: 0.9986\n",
      "Epoch 39/40\n",
      "837/837 [==============================] - 18s 22ms/step - loss: 0.0601 - accuracy: 0.9986 - val_loss: 0.0130 - val_accuracy: 0.9984\n",
      "Epoch 40/40\n",
      "837/837 [==============================] - 18s 21ms/step - loss: 0.0436 - accuracy: 0.9988 - val_loss: 0.0108 - val_accuracy: 0.9986\n",
      "Finished training after 40 epochs.\n",
      "Evaluating model:\n",
      "837/837 [==============================] - 14s 16ms/step - loss: 0.0111 - accuracy: 0.9989\n",
      "209/209 [==============================] - 3s 16ms/step - loss: 0.0108 - accuracy: 0.9986\n"
     ]
    },
    {
     "name": "stderr",
     "output_type": "stream",
     "text": [
      "/home/david/miniconda3/envs/splid-gpu/lib/python3.10/site-packages/keras/src/engine/training.py:3103: UserWarning: You are saving your model as an HDF5 file via `model.save()`. This file format is considered legacy. We recommend using instead the native Keras format, e.g. `model.save('my_model.keras')`.\n",
      "  saving_api.save_model(\n",
      "/home/david/Code/splid-challenge/base/prediction_models.py:69: UserWarning: FigureCanvasAgg is non-interactive, and thus cannot be shown\n",
      "  fig.show()\n"
     ]
    },
    {
     "data": {
      "image/png": "[encoded data removed]",
      "text/plain": [
       "<Figure size 400x300 with 1 Axes>"
      ]
     },
     "metadata": {},
     "output_type": "display_data"
    },
    {
     "data": {
      "image/png": "[encoded data removed]",
      "text/plain": [
       "<Figure size 400x300 with 1 Axes>"
      ]
     },
     "metadata": {},
     "output_type": "display_data"
    }
   ],
   "source": [
    "train_combined, val_combined = ds_gen.get_datasets(512, label_features=['EW_Node_Location'], shuffle=True)\n",
    "\n",
    "print(train_combined.element_spec)\n",
    "\n",
    "#dense_model = prediction_models.Dense_NN(train_combined, conv1d_layers=[[64,32],[32,16]], dense_layers=[64,32], l2_reg=0.0001, mixed_dropout=0.1, lr_scheduler=[30000,0.8], seed=0)\n",
    "dense_model = prediction_models.Dense_NN(train_combined, conv1d_layers=[], dense_layers=[256,128,64,32], l2_reg=0.0, mixed_dropout=0.0, lr_scheduler=[], seed=0)\n",
    "#dense_model = prediction_models.CNN(train_combined, conv_layers=[[64,6],[64,3],[64,3]], l2_reg=0.001, mixed_dropout=0.15, lr_scheduler=[20000,0.8], seed=0)\n",
    "train_combined = train_combined.map(lambda x,y:(x,y['EW_Node_Location']))\n",
    "val_combined = val_combined.map(lambda x,y:(x,y['EW_Node_Location'])) # temporary fix to allow class weights\n",
    "\n",
    "dense_model.summary()\n",
    "hist = dense_model.fit(train_combined, val_ds=val_combined, epochs=40, verbose=1, plot_hist=False, class_weight={0: 1.0, 1: 20.0}, callbacks=[])\n",
    "dense_model.model.save('models/ew_localizer.hdf5')\n",
    "\n",
    "dense_model.plot_hist(hist, [k for k in hist.history.keys() if 'loss' in k])\n",
    "dense_model.plot_hist(hist, [k for k in hist.history.keys() if 'accuracy' in k])"
   ]
  },
  {
   "cell_type": "code",
   "execution_count": 19,
   "metadata": {},
   "outputs": [
    {
     "name": "stdout",
     "output_type": "stream",
     "text": [
      "Starting training. Optimizing \"val_accuracy\"\n",
      "Epoch 1/40\n",
      "837/837 [==============================] - 18s 21ms/step - loss: 0.0452 - accuracy: 0.9982 - val_loss: 0.0132 - val_accuracy: 0.9986\n",
      "Epoch 2/40\n",
      "837/837 [==============================] - 17s 21ms/step - loss: 0.0377 - accuracy: 0.9984 - val_loss: 0.0098 - val_accuracy: 0.9989\n",
      "Epoch 3/40\n",
      "837/837 [==============================] - 18s 21ms/step - loss: 0.0359 - accuracy: 0.9985 - val_loss: 0.0096 - val_accuracy: 0.9991\n",
      "Epoch 4/40\n",
      "837/837 [==============================] - 17s 21ms/step - loss: 0.0440 - accuracy: 0.9982 - val_loss: 0.0105 - val_accuracy: 0.9989\n",
      "Epoch 5/40\n",
      "837/837 [==============================] - 17s 20ms/step - loss: 0.0373 - accuracy: 0.9985 - val_loss: 0.0101 - val_accuracy: 0.9992\n",
      "Epoch 6/40\n",
      "837/837 [==============================] - 18s 21ms/step - loss: 0.0376 - accuracy: 0.9983 - val_loss: 0.0133 - val_accuracy: 0.9983\n",
      "Epoch 7/40\n",
      "837/837 [==============================] - 18s 21ms/step - loss: 0.0412 - accuracy: 0.9983 - val_loss: 0.0096 - val_accuracy: 0.9991\n",
      "Epoch 8/40\n",
      "837/837 [==============================] - 17s 21ms/step - loss: 0.0454 - accuracy: 0.9986 - val_loss: 0.0089 - val_accuracy: 0.9989\n",
      "Epoch 9/40\n",
      "837/837 [==============================] - 17s 21ms/step - loss: 0.0374 - accuracy: 0.9982 - val_loss: 0.0088 - val_accuracy: 0.9993\n",
      "Epoch 10/40\n",
      "837/837 [==============================] - 17s 20ms/step - loss: 0.0355 - accuracy: 0.9986 - val_loss: 0.0111 - val_accuracy: 0.9991\n",
      "Epoch 11/40\n",
      "837/837 [==============================] - 17s 21ms/step - loss: 0.0364 - accuracy: 0.9980 - val_loss: 0.0104 - val_accuracy: 0.9992\n",
      "Epoch 12/40\n",
      "837/837 [==============================] - 18s 21ms/step - loss: 0.0370 - accuracy: 0.9983 - val_loss: 0.0124 - val_accuracy: 0.9989\n",
      "Epoch 13/40\n",
      "837/837 [==============================] - 17s 21ms/step - loss: 0.0371 - accuracy: 0.9984 - val_loss: 0.0115 - val_accuracy: 0.9981\n",
      "Epoch 14/40\n",
      "837/837 [==============================] - 18s 21ms/step - loss: 0.0353 - accuracy: 0.9982 - val_loss: 0.0080 - val_accuracy: 0.9992\n",
      "Epoch 15/40\n",
      "837/837 [==============================] - 17s 20ms/step - loss: 0.0372 - accuracy: 0.9985 - val_loss: 0.0135 - val_accuracy: 0.9988\n",
      "Epoch 16/40\n",
      "837/837 [==============================] - 18s 21ms/step - loss: 0.0394 - accuracy: 0.9983 - val_loss: 0.0089 - val_accuracy: 0.9989\n",
      "Epoch 17/40\n",
      "837/837 [==============================] - 18s 21ms/step - loss: 0.0342 - accuracy: 0.9981 - val_loss: 0.0131 - val_accuracy: 0.9989\n",
      "Epoch 18/40\n",
      "837/837 [==============================] - 18s 21ms/step - loss: 0.0348 - accuracy: 0.9981 - val_loss: 0.0100 - val_accuracy: 0.9991\n",
      "Epoch 19/40\n",
      "837/837 [==============================] - 18s 22ms/step - loss: 0.0345 - accuracy: 0.9982 - val_loss: 0.0161 - val_accuracy: 0.9991\n",
      "Epoch 20/40\n",
      "837/837 [==============================] - 17s 20ms/step - loss: 0.0357 - accuracy: 0.9985 - val_loss: 0.0096 - val_accuracy: 0.9990\n",
      "Epoch 21/40\n",
      "837/837 [==============================] - 17s 20ms/step - loss: 0.0353 - accuracy: 0.9984 - val_loss: 0.0126 - val_accuracy: 0.9992\n",
      "Epoch 22/40\n",
      "837/837 [==============================] - 17s 20ms/step - loss: 0.0391 - accuracy: 0.9983 - val_loss: 0.0084 - val_accuracy: 0.9992\n",
      "Epoch 23/40\n",
      "837/837 [==============================] - 17s 21ms/step - loss: 0.0366 - accuracy: 0.9983 - val_loss: 0.0125 - val_accuracy: 0.9985\n",
      "Epoch 24/40\n",
      "837/837 [==============================] - 18s 21ms/step - loss: 0.0411 - accuracy: 0.9981 - val_loss: 0.0094 - val_accuracy: 0.9991\n",
      "Epoch 25/40\n",
      "837/837 [==============================] - 18s 21ms/step - loss: 0.0339 - accuracy: 0.9985 - val_loss: 0.0107 - val_accuracy: 0.9992\n",
      "Epoch 26/40\n",
      "837/837 [==============================] - 18s 21ms/step - loss: 0.0343 - accuracy: 0.9984 - val_loss: 0.0160 - val_accuracy: 0.9988\n",
      "Epoch 27/40\n",
      "837/837 [==============================] - 18s 21ms/step - loss: 0.0409 - accuracy: 0.9983 - val_loss: 0.0089 - val_accuracy: 0.9992\n",
      "Epoch 28/40\n",
      "837/837 [==============================] - 18s 21ms/step - loss: 0.0360 - accuracy: 0.9983 - val_loss: 0.0091 - val_accuracy: 0.9991\n",
      "Epoch 29/40\n",
      "837/837 [==============================] - 18s 21ms/step - loss: 0.0368 - accuracy: 0.9982 - val_loss: 0.0144 - val_accuracy: 0.9973\n",
      "Epoch 30/40\n",
      "837/837 [==============================] - 18s 21ms/step - loss: 0.0383 - accuracy: 0.9980 - val_loss: 0.0124 - val_accuracy: 0.9990\n",
      "Epoch 31/40\n",
      "837/837 [==============================] - 18s 21ms/step - loss: 0.0367 - accuracy: 0.9982 - val_loss: 0.0104 - val_accuracy: 0.9991\n",
      "Epoch 32/40\n",
      "837/837 [==============================] - 19s 22ms/step - loss: 0.0385 - accuracy: 0.9983 - val_loss: 0.0112 - val_accuracy: 0.9989\n",
      "Epoch 33/40\n",
      "837/837 [==============================] - 19s 22ms/step - loss: 0.0373 - accuracy: 0.9983 - val_loss: 0.0135 - val_accuracy: 0.9989\n",
      "Epoch 34/40\n",
      "837/837 [==============================] - 19s 22ms/step - loss: 0.0562 - accuracy: 0.9981 - val_loss: 0.0213 - val_accuracy: 0.9989\n",
      "Epoch 35/40\n",
      "837/837 [==============================] - 19s 23ms/step - loss: 0.0431 - accuracy: 0.9984 - val_loss: 0.0127 - val_accuracy: 0.9988\n",
      "Epoch 36/40\n",
      "824/837 [============================>.] - ETA: 0s - loss: 0.0378 - accuracy: 0.9977"
     ]
    }
   ],
   "source": [
    "train_combined, val_combined = ds_gen.get_datasets(512, label_features=['EW_Node_Location'], shuffle=True)\n",
    "train_combined = train_combined.map(lambda x,y:(x,y['EW_Node_Location']))\n",
    "val_combined = val_combined.map(lambda x,y:(x,y['EW_Node_Location'])) # temporary fix to allow class weights\n",
    "hist = dense_model.fit(train_combined, val_ds=val_combined, epochs=40, verbose=1, plot_hist=False, class_weight={0: 1.0, 1: 20.0}, callbacks=[])\n"
   ]
  },
  {
   "cell_type": "code",
   "execution_count": null,
   "metadata": {},
   "outputs": [],
   "source": [
    "train_combined, val_combined = ds_gen.get_datasets(512, label_features=['NS_Node_Location'], shuffle=True)\n",
    "dense_model_ns = prediction_models.Dense_NN(train_combined, conv1d_layers=[[64,48],[32,32]], dense_layers=[64,32], l2_reg=0.0, mixed_dropout=0.0, lr_scheduler=[30000,0.8], seed=0)\n",
    "#dense_model = prediction_models.CNN(train_combined, conv_layers=[[64,6],[64,3],[64,3]], l2_reg=0.001, mixed_dropout=0.15, lr_scheduler=[20000,0.8], seed=0)\n",
    "hist = dense_model_ns.fit(train_combined, val_ds=val_combined, epochs=50, verbose=1, plot_hist=False, callbacks=[])\n",
    "dense_model_ns.model.save('models/ns_localizer.hdf5')\n"
   ]
  },
  {
   "cell_type": "code",
   "execution_count": 11,
   "metadata": {},
   "outputs": [],
   "source": [
    "def localization_eval(ds_gen, gt_path, model, train=True, with_initial_node=False, remove_consecutives=True, direction='EW'):\n",
    "\n",
    "    t_ds, v_ds = ds_gen.get_datasets(256, label_features=[f'{direction}_Node_Location'], shuffle=False, keep_identifier=True)\n",
    "    ds = t_ds if train else v_ds\n",
    "\n",
    "    ground_truth_labels = pd.concat([split_dataframes[k] for k in ds_gen.train_keys + ds_gen.val_keys])[['ObjectID', 'TimeIndex', 'EW_Node', 'EW_Type']].rename(columns={f'{direction}_Node' : 'Node', f'{direction}_Type' : 'Type'})\n",
    "    ground_truth_labels['Direction'] = direction # For now just EW, see line above\n",
    "    ground_truth_labels = ground_truth_labels[(ground_truth_labels['Direction'] == direction)]\n",
    "\n",
    "    inputs = np.concatenate([element for element in ds.map(lambda x,y,z: x).as_numpy_iterator()])\n",
    "    labels = np.concatenate([element[f'{direction}_Node_Location'] for element in ds.map(lambda x,y,z: y).as_numpy_iterator()])\n",
    "    identifiers = np.concatenate([element for element in ds.map(lambda x,y,z: z).as_numpy_iterator()])\n",
    "\n",
    "    # get predictions\n",
    "    #model.evaluate(v_ds.map(lambda x,y,z:(x,y)))\n",
    "    preds = model.predict(inputs)\n",
    "    preds_argmax = np.argmax(preds, axis=1)\n",
    "\n",
    "    df = pd.DataFrame(np.concatenate([identifiers.reshape(-1,2)], axis=1), columns=['ObjectID', 'TimeIndex'], dtype=np.int32)\n",
    "    df['Location'] = labels\n",
    "    df[f'Location_Pred'] = preds_argmax\n",
    "\n",
    "    # add initial node prediction\n",
    "    if with_initial_node:\n",
    "        for obj in ds_gen.train_keys if train else ds_gen.val_keys:\n",
    "            df = df.sort_index()\n",
    "            df.loc[-1] = [int(obj), 0, 1, 1] # objid, timeindex, location, location_pred\n",
    "            df.index = df.index + 1\n",
    "            df = df.sort_index()\n",
    "    \n",
    "    df_filtered = df.loc[(df['Location_Pred'] == 1)]\n",
    "    df_filtered = df_filtered.sort_values(['ObjectID', 'TimeIndex']).reset_index(drop=True)\n",
    "\n",
    "    # remove consecutives detections\n",
    "    # TODO: this fails when two consecutive objects have detections at exactly consecutive timeindices - a corner case I ignore for now ;)\n",
    "    if remove_consecutives:\n",
    "        df_filtered['consecutive'] = (df_filtered['TimeIndex'] - df_filtered['TimeIndex'].shift(1) != 1).cumsum()\n",
    "\n",
    "        # Filter rows where any number of consecutive values follow each other\n",
    "        df_filtered=df_filtered.groupby('consecutive').apply(lambda df: df.iloc[int(len(df)/2), :]).reset_index(drop=True).drop(columns=['consecutive'])\n",
    "\n",
    "    # if localizations bundle up, remove the duplicates and choose the center\n",
    "\n",
    "    # now, assign the real label to the locations\n",
    "    mergeDf = df_filtered.merge(ground_truth_labels, how='left', on = ['ObjectID', 'TimeIndex'])\n",
    "\n",
    "    print(mergeDf.head(20))\n",
    "\n",
    "    ground_truth_from_file = pd.read_csv(gt_path).sort_values(['ObjectID', 'TimeIndex']).reset_index(drop=True)\n",
    "    ground_truth_from_file = ground_truth_from_file[ground_truth_from_file['ObjectID'].isin(map(int, ds_gen.train_keys if train else ds_gen.val_keys))].copy()\n",
    "    ground_truth_from_file = ground_truth_from_file[(ground_truth_from_file['Direction'] == direction)]\n",
    "\n",
    "    # remove initial nodes, as they can always be localized anyway\n",
    "    if not with_initial_node:\n",
    "        mergeDf = mergeDf.loc[(mergeDf['TimeIndex'] != 0)]\n",
    "        ground_truth_from_file = ground_truth_from_file.loc[(ground_truth_from_file['TimeIndex'] != 0)]\n",
    "\n",
    "    evaluator = evaluation.NodeDetectionEvaluator(ground_truth_from_file, mergeDf)\n",
    "    precision, recall, f2, rmse, total_tp, total_fp, total_fn = evaluator.score()\n",
    "    print(f'Precision: {precision:.2f}')\n",
    "    print(f'Recall: {recall:.2f}')\n",
    "    print(f'F2: {f2:.2f}')\n",
    "    print(f'RMSE: {rmse:.4}')\n",
    "    print(f'TP: {total_tp} FP: {total_fp} FN: {total_fn}')\n",
    "\n",
    "    return df.loc[(df['Location'] == 1) | (df['Location_Pred'] == 1)].merge(ground_truth_labels, how='left', on = ['ObjectID', 'TimeIndex']), evaluator, mergeDf"
   ]
  },
  {
   "cell_type": "code",
   "execution_count": 18,
   "metadata": {},
   "outputs": [
    {
     "name": "stdout",
     "output_type": "stream",
     "text": [
      "13379/13379 [==============================] - 30s 2ms/step\n",
      "    ObjectID  TimeIndex  Location  Location_Pred Node Type Direction\n",
      "0        103        208         1              1   AD   NK        EW\n",
      "1        103        327         1              1   AD   NK        EW\n",
      "2        103        334         0              1   AD   NK        EW\n",
      "3        103        342         1              1   IK   HK        EW\n",
      "4        105         99         1              1   AD   NK        EW\n",
      "5        105        119         0              1   AD   NK        EW\n",
      "6        106         68         1              1   AD   NK        EW\n",
      "7        106         74         1              1   IK   HK        EW\n",
      "8        107         68         1              1   AD   NK        EW\n",
      "9        107         74         1              1   IK   HK        EW\n",
      "10       108        180         1              1   AD   NK        EW\n",
      "11       108        333         1              1   AD   NK        EW\n",
      "12       109        180         1              1   AD   NK        EW\n",
      "13       109        333         1              1   AD   NK        EW\n",
      "14       110        152         1              1   AD   NK        EW\n",
      "15       110        321         1              1   AD   NK        EW\n",
      "16       110        328         1              1   IK   HK        EW\n",
      "17       111        125         1              1   AD   NK        EW\n",
      "18       111        411         1              1   AD   NK        EW\n",
      "19       111        418         1              1   IK   HK        EW\n",
      "Precision: 0.88\n",
      "Recall: 0.58\n",
      "F2: 0.62\n",
      "RMSE: 0.5045\n",
      "TP: 110 FP: 15 FN: 79\n"
     ]
    }
   ],
   "source": [
    "eval_df, evaluator, mergeDf = evaluation.evaluate_localizer(ds_gen, split_dataframes=split_dataframes, gt_path=challenge_data_dir / 'train_labels.csv', model=dense_model.model, train=True, with_initial_node=False, remove_consecutives=True, direction='EW', return_scores=False)\n",
    "#eval_df = localization_eval(ds_gen, challenge_data_dir / 'train_labels.csv', dense_model_ns.model, train=False, add_initial_node=True)\n",
    "# TODO: the problem is that I need to remove consecutive detections & replace them with a single one\n",
    "# print(eval_df.head(50))\n",
    "# 1-1: 52 9 35 0.64 | 9 0 5 0.69\n",
    "# 1-5: 48 48 29 0.59 | 7 4 5 0.59\n",
    "# 1-2 56 13 30 0.68 | 8 1 6 0.62"
   ]
  },
  {
   "cell_type": "code",
   "execution_count": 40,
   "metadata": {},
   "outputs": [
    {
     "name": "stdout",
     "output_type": "stream",
     "text": [
      "['200', '189', '213', '128', '2', '13', '27', '247', '159', '83', '133', '40', '41', '7', '129', '209', '55', '99', '196', '14', '49', '95', '56', '12', '37', '191', '181', '32', '188', '23', '109', '29', '154', '183', '43', '132', '158', '25', '62', '92', '6', '96', '35', '225', '117', '94', '250', '142', '194', '219', '162', '145', '38', '166', '39', '75', '113', '18', '3', '168', '134', '118', '80', '111', '243', '57', '242', '172', '140', '179', '231', '124', '192', '174', '81', '249', '68', '70', '146', '163', '206', '89', '31', '203', '149', '195', '103', '232', '182', '64', '152', '141', '207', '108', '125', '126', '101', '151', '77', '186', '110', '16', '226', '169', '79', '59', '17', '138', '72', '180', '1', '144', '178', '246', '127', '46', '244', '130', '106', '90', '34', '175', '102', '22', '164', '112', '190', '65', '136', '156', '228', '85', '234', '217', '93', '143', '53', '131', '173', '177', '147', '150', '204', '20', '216', '155', '42', '197', '201', '135', '24', '237', '218', '58', '63', '153', '157', '220', '170', '165', '19', '11', '208', '97', '9', '105', '51', '205', '48', '44', '8', '122', '214', '78', '187', '98', '107', '239', '28', '71', '229', '120', '86', '33', '54', '5', '202', '236', '100', '240', '4', '69', '82', '74', '224', '210', '248', '215', '223', '76']\n",
      "Empty DataFrame\n",
      "Columns: [ObjectID, TimeIndex, Location, Location_Pred, Node, Type, Direction]\n",
      "Index: []\n"
     ]
    }
   ],
   "source": [
    "print(eval_df.loc[(eval_df['ObjectID']==212)].head(20))"
   ]
  },
  {
   "cell_type": "code",
   "execution_count": 16,
   "metadata": {},
   "outputs": [
    {
     "name": "stdout",
     "output_type": "stream",
     "text": [
      "['200', '189', '213', '128', '2', '13', '27', '247', '159', '83', '133', '40', '41', '7', '129', '209', '55', '99', '196', '14', '49', '95', '56', '12', '37', '191', '181', '32', '188', '23', '109', '29', '154', '183', '43', '132', '158', '25', '62', '92', '6', '96', '35', '225', '117', '94', '250', '142', '194', '219', '162', '145', '38', '166', '39', '75', '113', '18', '3', '168', '134', '118', '80', '111', '243', '57', '242', '172', '140', '179', '231', '124', '192', '174', '81', '249', '68', '70', '146', '163', '206', '89', '31', '203', '149', '195', '103', '232', '182', '64', '152', '141', '207', '108', '125', '126', '101', '151', '77', '186', '110', '16', '226', '169', '79', '59', '17', '138', '72', '180', '1', '144', '178', '246', '127', '46', '244', '130', '106', '90', '34', '175', '102', '22', '164', '112', '190', '65', '136', '156', '228', '85', '234', '217', '93', '143', '53', '131', '173', '177', '147', '150', '204', '20', '216', '155', '42', '197', '201', '135', '24', '237', '218', '58', '63', '153', '157', '220', '170', '165', '19', '11', '208', '97', '9', '105', '51', '205', '48', '44', '8', '122', '214', '78', '187', '98', '107', '239', '28', '71', '229', '120', '86', '33', '54', '5', '202', '236', '100', '240', '4', '69', '82', '74', '224', '210', '248', '215', '223', '76']\n"
     ]
    },
    {
     "data": {
      "image/png": "[encoded data removed]",
      "text/plain": [
       "<Figure size 1000x600 with 2 Axes>"
      ]
     },
     "metadata": {},
     "output_type": "display_data"
    }
   ],
   "source": [
    "print(ds_gen.train_keys)\n",
    "evaluator.plot(183)"
   ]
  },
  {
   "cell_type": "code",
   "execution_count": 20,
   "metadata": {},
   "outputs": [
    {
     "name": "stdout",
     "output_type": "stream",
     "text": [
      "    ObjectID  TimeIndex Direction Node Type\n",
      "0        121        817        EW   IK   HK\n",
      "1        121          0        EW   SS   NK\n",
      "2        121        124        EW   AD   NK\n",
      "3        121        557        EW   AD   NK\n",
      "4        121        783        EW   AD   NK\n",
      "6        122          0        EW   SS   NK\n",
      "7        122        124        EW   AD   NK\n",
      "8        122        557        EW   AD   NK\n",
      "9        122        783        EW   AD   NK\n",
      "10       122        816        EW   IK   HK\n",
      "11       123          0        EW   SS   NK\n",
      "12       123        124        EW   AD   NK\n",
      "13       123        557        EW   AD   NK\n",
      "14       123       1804        EW   AD   NK\n",
      "    ObjectID  TimeIndex Direction Node Type\n",
      "0        121          0        EW   SS   NK\n",
      "1        121        124        EW   AD   NK\n",
      "2        121        557        EW   AD   NK\n",
      "3        121        783        EW   AD   NK\n",
      "4        121        816        EW   IK   HK\n",
      "5        122          0        EW   SS   NK\n",
      "6        122        124        EW   AD   NK\n",
      "7        122        557        EW   AD   NK\n",
      "8        122        783        EW   AD   NK\n",
      "9        122        816        EW   IK   HK\n",
      "10       123          0        EW   SS   NK\n",
      "11       123        124        EW   AD   NK\n",
      "12       123        557        EW   AD   NK\n",
      "13       123       1804        EW   AD   NK\n",
      "Precision: 1.00\n",
      "Recall: 1.00\n",
      "F2: 1.00\n",
      "RMSE: 0.2673\n",
      "TP: 14 FP: 0 FN: 0\n"
     ]
    }
   ],
   "source": [
    "\n",
    "direction = 'EW'\n",
    "ground_truth_from_file = pd.read_csv(labels_dir)\n",
    "ground_truth_from_file = ground_truth_from_file[ground_truth_from_file['ObjectID'].isin([121,122,123])].copy()\n",
    "ground_truth_from_file = ground_truth_from_file[(ground_truth_from_file['Direction'] == direction)]\n",
    "ground_truth_from_file = ground_truth_from_file.sort_values(['ObjectID', 'TimeIndex']).reset_index(drop=True)\n",
    "\n",
    "mergeDf = ground_truth_from_file.copy()\n",
    "mergeDf = mergeDf.drop([4])\n",
    "mergeDf.loc[-1] = [121, 817, 'EW', 'IK', 'HK']  # adding a row\n",
    "mergeDf.index = mergeDf.index + 1  # shifting index\n",
    "mergeDf = mergeDf.sort_index()  # sorting by index\n",
    "print(mergeDf)\n",
    "print(ground_truth_from_file)\n",
    "\n",
    "evaluator = evaluation.NodeDetectionEvaluator(ground_truth_from_file, mergeDf)\n",
    "precision, recall, f2, rmse, total_tp, total_fp, total_fn = evaluator.score()\n",
    "print(f'Precision: {precision:.2f}')\n",
    "print(f'Recall: {recall:.2f}')\n",
    "print(f'F2: {f2:.2f}')\n",
    "print(f'RMSE: {rmse:.4}')\n",
    "print(f'TP: {total_tp} FP: {total_fp} FN: {total_fn}')"
   ]
  },
  {
   "cell_type": "code",
   "execution_count": null,
   "metadata": {},
   "outputs": [
    {
     "name": "stderr",
     "output_type": "stream",
     "text": [
      "2024-01-06 23:47:48.838844: W external/local_tsl/tsl/framework/cpu_allocator_impl.cc:83] Allocation of 1028534400 exceeds 10% of free system memory.\n"
     ]
    }
   ],
   "source": [
    "eval_df = localization_eval(ds_gen, challenge_data_dir / 'train_labels.csv', dense_model.model, train=True, add_initial_node=True)"
   ]
  },
  {
   "cell_type": "code",
   "execution_count": 10,
   "metadata": {},
   "outputs": [
    {
     "name": "stdout",
     "output_type": "stream",
     "text": [
      "    ObjectID  TimeIndex  Location  Location_Pred Node Type Direction\n",
      "0        106         69         0              1   AD   NK        EW\n",
      "1        108        179         0              1   SS   NK        EW\n",
      "2        114        201         0              1   AD   NK        EW\n",
      "3        116        201         0              1   AD   NK        EW\n",
      "4        117        461         0              1   AD   NK        EW\n",
      "5        123        125         0              1   AD   NK        EW\n",
      "6        124        367         0              1   AD   NK        EW\n",
      "7        129        972         1              0   IK   CK        EW\n",
      "8        130         86         1              0   IK   CK        EW\n",
      "9        131        155         0              1   AD   NK        EW\n",
      "10       135        936         1              0   IK   CK        EW\n",
      "11       139       1009         1              0   AD   NK        EW\n",
      "12       139       1098         1              0   IK   CK        EW\n",
      "13       141        157         1              0   ID   NK        EW\n",
      "14       143        505         1              0   ID   NK        EW\n",
      "15       146       1297         1              0   ID   NK        EW\n",
      "16       151        157         1              0   ID   NK        EW\n",
      "17       152        301         1              0   ID   NK        EW\n",
      "18       157       1561         1              0   ID   NK        EW\n",
      "19       159       1837         1              0   ID   NK        EW\n",
      "20       175       1069         1              0   ID   NK        EW\n",
      "21       176       1297         1              0   ID   NK        EW\n",
      "22       177       1561         1              0   ID   NK        EW\n",
      "23       178       1717         1              0   ID   NK        EW\n",
      "24       178       1888         1              0   AD   NK        EW\n",
      "25       178       1889         0              1   AD   NK        EW\n",
      "26       181        145         1              0   ID   NK        EW\n",
      "27       181        329         0              1   AD   NK        EW\n",
      "28       183        421         1              0   ID   NK        EW\n",
      "29       185        721         1              0   ID   NK        EW\n",
      "30       185        844         0              1   AD   NK        EW\n",
      "31       188       1249         1              0   ID   NK        EW\n",
      "32       190       1609         1              0   ID   NK        EW\n",
      "33       190       1862         0              1   AD   NK        EW\n",
      "34       191        145         1              0   ID   NK        EW\n",
      "35       194        589         1              0   ID   NK        EW\n",
      "36       199       1381         1              0   ID   NK        EW\n",
      "37       206        889         1              0   ID   NK        EW\n",
      "38       206       1011         0              1   AD   NK        EW\n",
      "39       209       1381         1              0   ID   NK        EW\n",
      "40       215        721         1              0   ID   NK        EW\n",
      "41       215        912         1              0   AD   NK        EW\n",
      "42       215        930         1              0   IK   HK        EW\n",
      "43       217       1165         1              0   ID   NK        EW\n",
      "44       217       1347         0              1   AD   NK        EW\n",
      "45       217       1435         0              1   IK   HK        EW\n",
      "46       219       1381         1              0   ID   NK        EW\n",
      "47       219       1601         0              1   AD   NK        EW\n",
      "48       244        355         1              0   IK   HK        EW\n",
      "49\n",
      "181\n"
     ]
    }
   ],
   "source": [
    "false_preds = eval_df.loc[(eval_df['Location'] != eval_df['Location_Pred'])].sort_values(['ObjectID', 'TimeIndex']).reset_index(drop=True)\n",
    "print(false_preds.head(80))\n",
    "false_preds = eval_df[eval_df['Location'] != eval_df['Location_Pred']]\n",
    "print(len(false_preds))\n",
    "print(len(eval_df))"
   ]
  },
  {
   "cell_type": "code",
   "execution_count": null,
   "metadata": {},
   "outputs": [],
   "source": []
  },
  {
   "cell_type": "code",
   "execution_count": null,
   "metadata": {},
   "outputs": [],
   "source": []
  }
 ],
 "metadata": {
  "kernelspec": {
   "display_name": "splid",
   "language": "python",
   "name": "python3"
  },
  "language_info": {
   "codemirror_mode": {
    "name": "ipython",
    "version": 3
   },
   "file_extension": ".py",
   "mimetype": "text/x-python",
   "name": "python",
   "nbconvert_exporter": "python",
   "pygments_lexer": "ipython3",
   "version": "3.10.13"
  }
 },
 "nbformat": 4,
 "nbformat_minor": 2
}
