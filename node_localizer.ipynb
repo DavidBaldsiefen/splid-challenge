{
 "cells": [
  {
   "cell_type": "code",
   "execution_count": 1,
   "metadata": {},
   "outputs": [
    {
     "name": "stderr",
     "output_type": "stream",
     "text": [
      "2024-01-31 19:03:27.317575: E external/local_xla/xla/stream_executor/cuda/cuda_dnn.cc:9261] Unable to register cuDNN factory: Attempting to register factory for plugin cuDNN when one has already been registered\n",
      "2024-01-31 19:03:27.317639: E external/local_xla/xla/stream_executor/cuda/cuda_fft.cc:607] Unable to register cuFFT factory: Attempting to register factory for plugin cuFFT when one has already been registered\n",
      "2024-01-31 19:03:27.318838: E external/local_xla/xla/stream_executor/cuda/cuda_blas.cc:1515] Unable to register cuBLAS factory: Attempting to register factory for plugin cuBLAS when one has already been registered\n",
      "2024-01-31 19:03:27.327232: I tensorflow/core/platform/cpu_feature_guard.cc:182] This TensorFlow binary is optimized to use available CPU instructions in performance-critical operations.\n",
      "To enable the following instructions: AVX2 FMA, in other operations, rebuild TensorFlow with the appropriate compiler flags.\n",
      "2024-01-31 19:03:28.242110: W tensorflow/compiler/tf2tensorrt/utils/py_utils.cc:38] TF-TRT Warning: Could not find TensorRT\n"
     ]
    }
   ],
   "source": [
    "import pandas as pd\n",
    "import numpy as np\n",
    "import pickle\n",
    "from pathlib import Path\n",
    "import tensorflow as tf\n",
    "\n",
    "%load_ext autoreload\n",
    "%autoreload 2\n",
    "from base import datahandler, prediction_models, evaluation, utils\n"
   ]
  },
  {
   "cell_type": "code",
   "execution_count": 2,
   "metadata": {},
   "outputs": [],
   "source": [
    "# model_ew = tf.keras.models.load_model('/home/david/Code/splid-challenge/wandb/run-20240112_140537-85ahbucq/files\\model_85ahbucq.hdf5')\n",
    "# model_ew.save('models/ew_localizer.hdf5')\n"
   ]
  },
  {
   "cell_type": "code",
   "execution_count": 3,
   "metadata": {},
   "outputs": [],
   "source": [
    "# Define the directory paths\n",
    "challenge_data_dir = Path('dataset/phase_1_v2_custom/')\n",
    "data_dir = challenge_data_dir / \"train\"\n",
    "labels_dir = challenge_data_dir / 'train_labels.csv'\n",
    "\n",
    "split_dataframes = datahandler.load_and_prepare_dataframes(data_dir, labels_dir)\n",
    "\n",
    "some_dataframes = {df_k : split_dataframes[df_k] for df_k in list(split_dataframes.keys())[:40]}"
   ]
  },
  {
   "cell_type": "code",
   "execution_count": null,
   "metadata": {},
   "outputs": [
    {
     "name": "stdout",
     "output_type": "stream",
     "text": [
      "=========================Creating Generator=======================\n",
      "Seed: 69\n",
      "nTrain: 1360 nVal: 340 (0.80)\n",
      "Padding: none\n",
      "Scaling: True \n",
      "Horizons: 48-48 @ stride 4\n",
      "Sin-Transformed features: ['Argument of Periapsis (deg)']\n",
      "Padding node locations in non-binary fashion ([20.0, 40.0, 60.0, 80.0, 120.0, 80.0, 60.0, 40.0, 20.0])\n",
      "=========================Finished Generator=======================\n"
     ]
    }
   ],
   "source": [
    "input_features = ['Eccentricity', 'Semimajor Axis (m)', 'Inclination (deg)', 'RAAN (deg)',\n",
    "       'Argument of Periapsis (deg)', 'True Anomaly (deg)', 'Latitude (deg)',\n",
    "       'Longitude (deg)', 'Altitude (m)', 'X (m)', 'Y (m)', 'Z (m)',\n",
    "       'Vx (m/s)', 'Vy (m/s)', 'Vz (m/s)']\n",
    "\n",
    "input_features_reduced = ['Eccentricity', 'Semimajor Axis (m)', 'Inclination (deg)', 'RAAN (deg)',\n",
    "       'Argument of Periapsis (deg)', 'True Anomaly (deg)', 'Latitude (deg)',\n",
    "       'Longitude (deg)', 'Altitude (m)']\n",
    "\n",
    "ew_input_features = ['Eccentricity', 'Semimajor Axis (m)', 'Argument of Periapsis (deg)', 'Longitude (deg)', 'Altitude (m)']\n",
    "#ew_input_features = ['Eccentricity', 'Longitude (deg)', 'Latitude (deg)']\n",
    "\n",
    "ns_input_features = ['Eccentricity', 'Semimajor Axis (m)',  'Inclination (deg)', 'Latitude (deg)', 'Longitude (deg)']\n",
    "\n",
    "\n",
    "utils.set_random_seed(42)\n",
    "# ds_gen_ew = datahandler.DatasetGenerator(split_df=split_dataframes, input_features=ew_input_features,\n",
    "#                                       with_labels=True, pad_location_labels=0,\n",
    "#                                       nonbinary_padding=[120.0, 80.0, 60.0, 40.0, 20.0],\n",
    "#                                       train_val_split=0.8, input_stride=4, padding='none',\n",
    "#                                       transform_features=True,\n",
    "#                                       input_history_steps=48, input_future_steps=48, seed=69)\n",
    "\n",
    "ds_gen_ns = datahandler.DatasetGenerator(split_df=split_dataframes, input_features=ns_input_features,\n",
    "                                      with_labels=True, pad_location_labels=0,\n",
    "                                      nonbinary_padding=[120.0, 80.0, 60.0, 40.0, 20.0],\n",
    "                                      train_val_split=0.8, input_stride=4, padding='none',\n",
    "                                      transform_features=True,\n",
    "                                      input_history_steps=64, input_future_steps=64, seed=69)"
   ]
  },
  {
   "cell_type": "code",
   "execution_count": null,
   "metadata": {},
   "outputs": [],
   "source": [
    "train_ew, val_ew = ds_gen_ew.get_datasets(512, label_features=['EW_Node_Location'], shuffle=True, stride=1)\n",
    "\n",
    "print(train_ew.element_spec)\n",
    "\n",
    "#dense_model = prediction_models.Dense_NN(train_combined, conv1d_layers=[[64,32],[32,16]], dense_layers=[64,32], l2_reg=0.0001, mixed_dropout=0.1, lr_scheduler=[30000,0.8], seed=0)\n",
    "model_ew = prediction_models.Dense_NN(val_ew, conv1d_layers=[], dense_layers=[256,128,64,32], l2_reg=0.0, mixed_dropout=0.0, lr_scheduler=[], seed=0)\n",
    "#dense_model = prediction_models.CNN(train_combined, conv_layers=[[64,6],[64,3],[64,3]], l2_reg=0.001, mixed_dropout=0.15, lr_scheduler=[20000,0.8], seed=0)\n",
    "#model_ew = prediction_models.LSTM_NN(val_ew, input_dropout=0.0, mixed_dropout=0.1, lstm_layers=[128,64], dense_layers=[32,16], l2_reg=0.0001, lr_scheduler=[], seed=1)\n",
    "\n",
    "train_ew = train_ew.map(lambda x,y:(x,y['EW_Node_Location']))\n",
    "val_ew = val_ew.map(lambda x,y:(x,y['EW_Node_Location'])) # temporary fix to allow class weights\n",
    "\n",
    "model_ew.summary()\n",
    "hist = model_ew.fit(train_ew, val_ds=val_ew, epochs=20, verbose=1, plot_hist=True, \n",
    "                    class_weight={0: 1.0, 1: 2.0}, \n",
    "                    callbacks=[])\n",
    "#model_ew.model.save('models/ew_localizer.hdf5')"
   ]
  },
  {
   "cell_type": "code",
   "execution_count": 5,
   "metadata": {},
   "outputs": [
    {
     "name": "stderr",
     "output_type": "stream",
     "text": [
      "2024-01-31 17:49:40.295423: I external/local_xla/xla/stream_executor/cuda/cuda_executor.cc:887] could not open file to read NUMA node: /sys/bus/pci/devices/0000:1c:00.0/numa_node\n",
      "Your kernel may have been built without NUMA support.\n",
      "2024-01-31 17:49:40.331325: I external/local_xla/xla/stream_executor/cuda/cuda_executor.cc:887] could not open file to read NUMA node: /sys/bus/pci/devices/0000:1c:00.0/numa_node\n",
      "Your kernel may have been built without NUMA support.\n",
      "2024-01-31 17:49:40.331399: I external/local_xla/xla/stream_executor/cuda/cuda_executor.cc:887] could not open file to read NUMA node: /sys/bus/pci/devices/0000:1c:00.0/numa_node\n",
      "Your kernel may have been built without NUMA support.\n",
      "2024-01-31 17:49:40.333396: I external/local_xla/xla/stream_executor/cuda/cuda_executor.cc:887] could not open file to read NUMA node: /sys/bus/pci/devices/0000:1c:00.0/numa_node\n",
      "Your kernel may have been built without NUMA support.\n",
      "2024-01-31 17:49:40.333466: I external/local_xla/xla/stream_executor/cuda/cuda_executor.cc:887] could not open file to read NUMA node: /sys/bus/pci/devices/0000:1c:00.0/numa_node\n",
      "Your kernel may have been built without NUMA support.\n",
      "2024-01-31 17:49:40.333517: I external/local_xla/xla/stream_executor/cuda/cuda_executor.cc:887] could not open file to read NUMA node: /sys/bus/pci/devices/0000:1c:00.0/numa_node\n",
      "Your kernel may have been built without NUMA support.\n",
      "2024-01-31 17:49:42.026648: I external/local_xla/xla/stream_executor/cuda/cuda_executor.cc:887] could not open file to read NUMA node: /sys/bus/pci/devices/0000:1c:00.0/numa_node\n",
      "Your kernel may have been built without NUMA support.\n",
      "2024-01-31 17:49:42.026767: I external/local_xla/xla/stream_executor/cuda/cuda_executor.cc:887] could not open file to read NUMA node: /sys/bus/pci/devices/0000:1c:00.0/numa_node\n",
      "Your kernel may have been built without NUMA support.\n",
      "2024-01-31 17:49:42.026784: I tensorflow/core/common_runtime/gpu/gpu_device.cc:2022] Could not identify NUMA node of platform GPU id 0, defaulting to 0.  Your kernel may not have been built with NUMA support.\n",
      "2024-01-31 17:49:42.026886: I external/local_xla/xla/stream_executor/cuda/cuda_executor.cc:887] could not open file to read NUMA node: /sys/bus/pci/devices/0000:1c:00.0/numa_node\n",
      "Your kernel may have been built without NUMA support.\n",
      "2024-01-31 17:49:42.026921: I tensorflow/core/common_runtime/gpu/gpu_device.cc:1929] Created device /job:localhost/replica:0/task:0/device:GPU:0 with 4575 MB memory:  -> device: 0, name: NVIDIA GeForce GTX 1060 6GB, pci bus id: 0000:1c:00.0, compute capability: 6.1\n",
      "2024-01-31 17:49:42.030228: W external/local_tsl/tsl/framework/cpu_allocator_impl.cc:83] Allocation of 2712998400 exceeds 10% of free system memory.\n",
      "2024-01-31 17:49:43.692770: W external/local_tsl/tsl/framework/cpu_allocator_impl.cc:83] Allocation of 2712998400 exceeds 10% of free system memory.\n"
     ]
    },
    {
     "name": "stdout",
     "output_type": "stream",
     "text": [
      "(TensorSpec(shape=(None, 24, 5), dtype=tf.float64, name=None), {'EW_Node_Location_nb': TensorSpec(shape=(None,), dtype=tf.float32, name=None)})\n",
      "Model: \"model\"\n",
      "_________________________________________________________________\n",
      " Layer (type)                Output Shape              Param #   \n",
      "=================================================================\n",
      " Input (InputLayer)          [(None, 24, 5)]           0         \n",
      "                                                                 \n",
      " conv1d (Conv1D)             (None, 19, 32)            992       \n",
      "                                                                 \n",
      " conv1d_1 (Conv1D)           (None, 14, 32)            6176      \n",
      "                                                                 \n",
      " flatten (Flatten)           (None, 448)               0         \n",
      "                                                                 \n",
      " dense (Dense)               (None, 16)                7184      \n",
      "                                                                 \n",
      " dropout (Dropout)           (None, 16)                0         \n",
      "                                                                 \n",
      " dense_1 (Dense)             (None, 4)                 68        \n",
      "                                                                 \n",
      " dropout_1 (Dropout)         (None, 4)                 0         \n",
      "                                                                 \n",
      " EW_Node_Location_nb (Dense  (None, 1)                 5         \n",
      " )                                                               \n",
      "                                                                 \n",
      "=================================================================\n",
      "Total params: 14425 (56.35 KB)\n",
      "Trainable params: 14425 (56.35 KB)\n",
      "Non-trainable params: 0 (0.00 Byte)\n",
      "_________________________________________________________________\n",
      "Starting training. Optimizing \"val_accuracy\"\n"
     ]
    },
    {
     "name": "stderr",
     "output_type": "stream",
     "text": [
      "2024-01-31 17:49:47.783201: W external/local_tsl/tsl/framework/cpu_allocator_impl.cc:83] Allocation of 2712998400 exceeds 10% of free system memory.\n"
     ]
    },
    {
     "name": "stdout",
     "output_type": "stream",
     "text": [
      "Epoch 1/15\n"
     ]
    },
    {
     "name": "stderr",
     "output_type": "stream",
     "text": [
      "2024-01-31 17:49:50.294025: I external/local_xla/xla/stream_executor/cuda/cuda_dnn.cc:454] Loaded cuDNN version 8904\n",
      "2024-01-31 17:49:51.771847: I external/local_xla/xla/service/service.cc:168] XLA service 0x9cdfdec0 initialized for platform CUDA (this does not guarantee that XLA will be used). Devices:\n",
      "2024-01-31 17:49:51.771900: I external/local_xla/xla/service/service.cc:176]   StreamExecutor device (0): NVIDIA GeForce GTX 1060 6GB, Compute Capability 6.1\n",
      "2024-01-31 17:49:51.778324: I tensorflow/compiler/mlir/tensorflow/utils/dump_mlir_util.cc:269] disabling MLIR crash reproducer, set env var `MLIR_CRASH_REPRODUCER_DIRECTORY` to enable.\n",
      "WARNING: All log messages before absl::InitializeLog() is called are written to STDERR\n",
      "I0000 00:00:1706719791.875380   45266 device_compiler.h:186] Compiled cluster using XLA!  This line is logged at most once for the lifetime of the process.\n"
     ]
    },
    {
     "name": "stdout",
     "output_type": "stream",
     "text": [
      "5520/5520 [==============================] - 60s 10ms/step - loss: 14.5316 - mse: 14.5316 - mae: 0.4052 - val_loss: 15.0304 - val_mse: 15.0304 - val_mae: 0.3213\n",
      "Epoch 2/15\n",
      "5520/5520 [==============================] - 55s 10ms/step - loss: 14.3255 - mse: 14.3255 - mae: 0.4113 - val_loss: 14.1402 - val_mse: 14.1402 - val_mae: 0.3014\n",
      "Epoch 3/15\n",
      "5520/5520 [==============================] - 54s 10ms/step - loss: 13.8496 - mse: 13.8496 - mae: 0.3983 - val_loss: 13.9034 - val_mse: 13.9034 - val_mae: 0.2976\n",
      "Epoch 4/15\n",
      "5520/5520 [==============================] - 55s 10ms/step - loss: 12.9412 - mse: 12.9412 - mae: 0.3758 - val_loss: 10.6206 - val_mse: 10.6206 - val_mae: 0.2521\n",
      "Epoch 5/15\n",
      "5520/5520 [==============================] - 54s 10ms/step - loss: 10.2588 - mse: 10.2588 - mae: 0.3030 - val_loss: 10.3055 - val_mse: 10.3055 - val_mae: 0.2467\n",
      "Epoch 6/15\n",
      "5520/5520 [==============================] - 53s 10ms/step - loss: 9.9079 - mse: 9.9079 - mae: 0.2941 - val_loss: 10.1020 - val_mse: 10.1020 - val_mae: 0.2402\n",
      "Epoch 7/15\n",
      "5520/5520 [==============================] - 54s 10ms/step - loss: 9.7549 - mse: 9.7549 - mae: 0.2903 - val_loss: 9.9192 - val_mse: 9.9192 - val_mae: 0.2376\n",
      "Epoch 8/15\n",
      "5520/5520 [==============================] - 54s 10ms/step - loss: 9.5198 - mse: 9.5198 - mae: 0.2847 - val_loss: 9.8513 - val_mse: 9.8513 - val_mae: 0.2362\n",
      "Epoch 9/15\n",
      "5520/5520 [==============================] - 54s 10ms/step - loss: 9.3364 - mse: 9.3364 - mae: 0.2811 - val_loss: 9.7342 - val_mse: 9.7342 - val_mae: 0.2354\n",
      "Epoch 10/15\n",
      "5520/5520 [==============================] - 54s 10ms/step - loss: 9.1935 - mse: 9.1935 - mae: 0.2769 - val_loss: 9.7692 - val_mse: 9.7692 - val_mae: 0.2355\n",
      "Epoch 11/15\n",
      "5520/5520 [==============================] - 54s 10ms/step - loss: 9.0340 - mse: 9.0340 - mae: 0.2729 - val_loss: 9.3456 - val_mse: 9.3456 - val_mae: 0.2301\n",
      "Epoch 12/15\n",
      "5520/5520 [==============================] - 52s 9ms/step - loss: 8.8421 - mse: 8.8421 - mae: 0.2690 - val_loss: 9.2677 - val_mse: 9.2677 - val_mae: 0.2268\n",
      "Epoch 13/15\n",
      "5520/5520 [==============================] - 54s 10ms/step - loss: 8.6932 - mse: 8.6932 - mae: 0.2646 - val_loss: 8.8437 - val_mse: 8.8437 - val_mae: 0.2227\n",
      "Epoch 14/15\n",
      "5520/5520 [==============================] - 53s 10ms/step - loss: 6.4125 - mse: 6.4125 - mae: 0.2065 - val_loss: 7.3255 - val_mse: 7.3255 - val_mae: 0.2023\n",
      "Epoch 15/15\n",
      "5520/5520 [==============================] - 57s 10ms/step - loss: 5.9583 - mse: 5.9583 - mae: 0.1952 - val_loss: 7.0318 - val_mse: 7.0318 - val_mae: 0.1986\n",
      "Finished training after 15 epochs.\n",
      "Evaluating model:\n",
      "5520/5520 [==============================] - 29s 5ms/step - loss: 7.5975 - mse: 7.5975 - mae: 0.2014\n",
      "1381/1381 [==============================] - 7s 5ms/step - loss: 7.0318 - mse: 7.0318 - mae: 0.1986\n"
     ]
    },
    {
     "name": "stderr",
     "output_type": "stream",
     "text": [
      "/home/david/Code/splid-challenge/base/prediction_models.py:84: UserWarning: FigureCanvasAgg is non-interactive, and thus cannot be shown\n",
      "  fig.show()\n"
     ]
    },
    {
     "data": {
      "image/png": "[encoded data removed]",
      "text/plain": [
       "<Figure size 600x300 with 2 Axes>"
      ]
     },
     "metadata": {},
     "output_type": "display_data"
    }
   ],
   "source": [
    "train_ew, val_ew = ds_gen_ew.get_datasets(512, label_features=['EW_Node_Location_nb'], shuffle=True, stride=1)\n",
    "# TODO: add a form of stride that keeps all the label fields?\n",
    "print(train_ew.element_spec)\n",
    "\n",
    "model_ew = prediction_models.Dense_NN_regression(val_ew, conv1d_layers=[[32,6],[32,6]], dense_layers=[16,4],\n",
    "                                                 l2_reg=0.0, mixed_dropout=0.3,\n",
    "                                                 lr_scheduler=[0.003,10000,0.9],\n",
    "                                                 final_activation='relu',\n",
    "                                                 seed=0)\n",
    "\n",
    "model_ew.summary()\n",
    "hist = model_ew.fit(train_ew, val_ds=val_ew, epochs=15, verbose=1, plot_hist=True, callbacks=[])\n"
   ]
  },
  {
   "cell_type": "code",
   "execution_count": null,
   "metadata": {},
   "outputs": [],
   "source": [
    "train_ns, val_ns = ds_gen_ns.get_datasets(512, label_features=['NS_Node_Location_nb'], shuffle=True, stride=1)\n",
    "# TODO: add a form of stride that keeps all the label fields?\n",
    "print(train_ns.element_spec)\n",
    "\n",
    "model_ns = prediction_models.Dense_NN_regression(val_ns, conv1d_layers=[[32,6],[32,6],[32,6]], dense_layers=[16,4],\n",
    "                                                 l2_reg=0.0, mixed_dropout=0.2,\n",
    "                                                 lr_scheduler=[0.002,15000,0.9],\n",
    "                                                 final_activation='relu',\n",
    "                                                 seed=0)\n",
    "\n",
    "model_ns.summary()\n",
    "hist = model_ns.fit(train_ns, val_ds=val_ns, epochs=20, verbose=1, plot_hist=True, callbacks=[])\n"
   ]
  },
  {
   "cell_type": "code",
   "execution_count": null,
   "metadata": {},
   "outputs": [],
   "source": [
    "train_ns, val_ns = ds_gen_ns.get_datasets(512, label_features=['NS_Node_Location_nb'], shuffle=True, stride=1)\n",
    "model_ns = prediction_models.Dense_NN_regression(val_ns, conv1d_layers=[[32,6],[32,6]], dense_layers=[16,4],\n",
    "                                                 l2_reg=0.0, mixed_dropout=0.2,\n",
    "                                                 lr_scheduler=[0.002,15000,0.9],\n",
    "                                                 final_activation='relu',\n",
    "                                                 seed=0)\n",
    "model_ns.load_model('submission/models/ns_localizer_cnn.hdf5')\n",
    "model_ns.summary()\n",
    "hist = model_ns.fit(train_ns, val_ds=val_ns, epochs=10, verbose=1, plot_hist=True, callbacks=[])"
   ]
  },
  {
   "cell_type": "code",
   "execution_count": null,
   "metadata": {},
   "outputs": [],
   "source": [
    "hist = model_ns.fit(train_ns, val_ds=val_ns, epochs=5, verbose=1, plot_hist=True, callbacks=[])"
   ]
  },
  {
   "cell_type": "code",
   "execution_count": 11,
   "metadata": {},
   "outputs": [
    {
     "name": "stdout",
     "output_type": "stream",
     "text": [
      "Starting training. Optimizing \"val_accuracy\"\n",
      "Epoch 1/10\n"
     ]
    },
    {
     "name": "stdout",
     "output_type": "stream",
     "text": [
      "5520/5520 [==============================] - 54s 10ms/step - loss: 5.0644 - mse: 5.0644 - mae: 0.1697 - val_loss: 6.1152 - val_mse: 6.1152 - val_mae: 0.1709\n",
      "Epoch 2/10\n",
      "5520/5520 [==============================] - 55s 10ms/step - loss: 4.9830 - mse: 4.9830 - mae: 0.1674 - val_loss: 6.0708 - val_mse: 6.0708 - val_mae: 0.1691\n",
      "Epoch 3/10\n",
      "5520/5520 [==============================] - 55s 10ms/step - loss: 4.9256 - mse: 4.9256 - mae: 0.1654 - val_loss: 5.9649 - val_mse: 5.9649 - val_mae: 0.1668\n",
      "Epoch 4/10\n",
      "5520/5520 [==============================] - 57s 10ms/step - loss: 4.8901 - mse: 4.8901 - mae: 0.1650 - val_loss: 5.9356 - val_mse: 5.9356 - val_mae: 0.1645\n",
      "Epoch 5/10\n",
      "5520/5520 [==============================] - 57s 10ms/step - loss: 4.8489 - mse: 4.8489 - mae: 0.1633 - val_loss: 5.9050 - val_mse: 5.9050 - val_mae: 0.1628\n",
      "Epoch 6/10\n",
      "5520/5520 [==============================] - 54s 10ms/step - loss: 4.8186 - mse: 4.8186 - mae: 0.1626 - val_loss: 5.8875 - val_mse: 5.8875 - val_mae: 0.1612\n",
      "Epoch 7/10\n",
      "5520/5520 [==============================] - 56s 10ms/step - loss: 4.7778 - mse: 4.7778 - mae: 0.1609 - val_loss: 5.8097 - val_mse: 5.8097 - val_mae: 0.1599\n",
      "Epoch 8/10\n",
      "5520/5520 [==============================] - 54s 10ms/step - loss: 4.7618 - mse: 4.7618 - mae: 0.1615 - val_loss: 5.7580 - val_mse: 5.7580 - val_mae: 0.1580\n",
      "Epoch 9/10\n",
      "5520/5520 [==============================] - 54s 10ms/step - loss: 4.7353 - mse: 4.7353 - mae: 0.1592 - val_loss: 5.6729 - val_mse: 5.6729 - val_mae: 0.1569\n",
      "Epoch 10/10\n",
      "5520/5520 [==============================] - 54s 10ms/step - loss: 4.7133 - mse: 4.7133 - mae: 0.1584 - val_loss: 5.6369 - val_mse: 5.6369 - val_mae: 0.1554\n",
      "Finished training after 10 epochs.\n",
      "Evaluating model:\n",
      "5520/5520 [==============================] - 29s 5ms/step - loss: 5.9519 - mse: 5.9519 - mae: 0.1540\n",
      "1381/1381 [==============================] - 8s 6ms/step - loss: 5.6369 - mse: 5.6369 - mae: 0.1554\n"
     ]
    },
    {
     "data": {
      "image/png": "[encoded data removed]",
      "text/plain": [
       "<Figure size 600x300 with 2 Axes>"
      ]
     },
     "metadata": {},
     "output_type": "display_data"
    }
   ],
   "source": [
    "hist = model_ew.fit(train_ew, val_ds=val_ew, epochs=10, verbose=1, plot_hist=True, callbacks=[])"
   ]
  },
  {
   "cell_type": "code",
   "execution_count": 12,
   "metadata": {},
   "outputs": [],
   "source": [
    "model_ew.model.save('submission/models/ew_localizer_cnn.hdf5')\n",
    "pickle.dump(ds_gen_ew.scaler, open('submission/models/EW_localizer_scaler_cnn.pkl', 'wb'))"
   ]
  },
  {
   "cell_type": "code",
   "execution_count": 8,
   "metadata": {},
   "outputs": [
    {
     "name": "stdout",
     "output_type": "stream",
     "text": [
      "<tf.Variable 'current_learning_rate:0' shape=() dtype=float32, numpy=0.0012914015>\n"
     ]
    }
   ],
   "source": [
    "print(model_ew.model.optimizer.learning_rate)"
   ]
  },
  {
   "cell_type": "code",
   "execution_count": null,
   "metadata": {},
   "outputs": [],
   "source": [
    "train_ns, val_ns = ds_gen_ns.get_datasets(512, label_features=['NS_Node_Location'], shuffle=True, stride=1)\n",
    "\n",
    "model_ns = prediction_models.Dense_NN(train_ns, conv1d_layers=[], dense_layers=[256, 128,64,32], l2_reg=0.0, mixed_dropout=0.0, lr_scheduler=[], seed=0)\n",
    "train_ns = train_ns.map(lambda x,y:(x,y['NS_Node_Location']))\n",
    "val_ns = val_ns.map(lambda x,y:(x,y['NS_Node_Location'])) # temporary fix to allow class weights\n",
    "\n",
    "model_ns.summary()\n",
    "hist = model_ns.fit(train_ns, val_ds=val_ns, epochs=20, verbose=1, plot_hist=False, class_weight={0: 0.5, 1: 20.0}, callbacks=[])\n",
    "model_ns.model.save('models/ns_localizer.hdf5')\n",
    "\n",
    "model_ns.plot_hist(hist, [k for k in hist.history.keys() if 'loss' in k])\n",
    "model_ns.plot_hist(hist, [k for k in hist.history.keys() if 'accuracy' in k])"
   ]
  },
  {
   "cell_type": "code",
   "execution_count": 12,
   "metadata": {},
   "outputs": [],
   "source": [
    "#model_ew = tf.keras.models.load_model('/home/david/Code/splid-challenge/wandb/run-20240115_185433-iebvf53e/files\\model_iebvf53e.hdf5')\n",
    "#model_ew.save('models/ew_localizer.hdf5')\n",
    "\n",
    "model_ew = tf.keras.models.load_model('/home/david/Code/splid-challenge/wandb/run-20240112_140537-85ahbucq/files\\model_85ahbucq.hdf5')\n",
    "# 25 6 23"
   ]
  },
  {
   "cell_type": "code",
   "execution_count": 5,
   "metadata": {},
   "outputs": [
    {
     "name": "stderr",
     "output_type": "stream",
     "text": [
      "2024-01-31 16:28:00.182829: I external/local_xla/xla/stream_executor/cuda/cuda_executor.cc:887] could not open file to read NUMA node: /sys/bus/pci/devices/0000:1c:00.0/numa_node\n",
      "Your kernel may have been built without NUMA support.\n",
      "2024-01-31 16:28:00.203437: I external/local_xla/xla/stream_executor/cuda/cuda_executor.cc:887] could not open file to read NUMA node: /sys/bus/pci/devices/0000:1c:00.0/numa_node\n",
      "Your kernel may have been built without NUMA support.\n",
      "2024-01-31 16:28:00.203510: I external/local_xla/xla/stream_executor/cuda/cuda_executor.cc:887] could not open file to read NUMA node: /sys/bus/pci/devices/0000:1c:00.0/numa_node\n",
      "Your kernel may have been built without NUMA support.\n",
      "2024-01-31 16:28:00.205579: I external/local_xla/xla/stream_executor/cuda/cuda_executor.cc:887] could not open file to read NUMA node: /sys/bus/pci/devices/0000:1c:00.0/numa_node\n",
      "Your kernel may have been built without NUMA support.\n",
      "2024-01-31 16:28:00.205659: I external/local_xla/xla/stream_executor/cuda/cuda_executor.cc:887] could not open file to read NUMA node: /sys/bus/pci/devices/0000:1c:00.0/numa_node\n",
      "Your kernel may have been built without NUMA support.\n",
      "2024-01-31 16:28:00.205712: I external/local_xla/xla/stream_executor/cuda/cuda_executor.cc:887] could not open file to read NUMA node: /sys/bus/pci/devices/0000:1c:00.0/numa_node\n",
      "Your kernel may have been built without NUMA support.\n",
      "2024-01-31 16:28:01.648397: I external/local_xla/xla/stream_executor/cuda/cuda_executor.cc:887] could not open file to read NUMA node: /sys/bus/pci/devices/0000:1c:00.0/numa_node\n",
      "Your kernel may have been built without NUMA support.\n",
      "2024-01-31 16:28:01.648511: I external/local_xla/xla/stream_executor/cuda/cuda_executor.cc:887] could not open file to read NUMA node: /sys/bus/pci/devices/0000:1c:00.0/numa_node\n",
      "Your kernel may have been built without NUMA support.\n",
      "2024-01-31 16:28:01.648525: I tensorflow/core/common_runtime/gpu/gpu_device.cc:2022] Could not identify NUMA node of platform GPU id 0, defaulting to 0.  Your kernel may not have been built with NUMA support.\n",
      "2024-01-31 16:28:01.648591: I external/local_xla/xla/stream_executor/cuda/cuda_executor.cc:887] could not open file to read NUMA node: /sys/bus/pci/devices/0000:1c:00.0/numa_node\n",
      "Your kernel may have been built without NUMA support.\n",
      "2024-01-31 16:28:01.648612: I tensorflow/core/common_runtime/gpu/gpu_device.cc:1929] Created device /job:localhost/replica:0/task:0/device:GPU:0 with 4575 MB memory:  -> device: 0, name: NVIDIA GeForce GTX 1060 6GB, pci bus id: 0000:1c:00.0, compute capability: 6.1\n"
     ]
    }
   ],
   "source": [
    "model_ns = tf.keras.models.load_model('submission/models/ns_localizer_cnn.hdf5')\n"
   ]
  },
  {
   "cell_type": "code",
   "execution_count": 13,
   "metadata": {},
   "outputs": [
    {
     "name": "stdout",
     "output_type": "stream",
     "text": [
      "22085/22085 [==============================] - 64s 3ms/step\n"
     ]
    }
   ],
   "source": [
    "from base import localizer\n",
    "\n",
    "object_limit = None\n",
    "\n",
    "preds_df = localizer.create_prediction_df(ds_gen=ds_gen_ew,\n",
    "                                model=model_ew,\n",
    "                                train=False,\n",
    "                                test=False,\n",
    "                                output_dirs=['EW'],\n",
    "                                object_limit=object_limit,\n",
    "                                verbose=1)"
   ]
  },
  {
   "cell_type": "code",
   "execution_count": 20,
   "metadata": {},
   "outputs": [
    {
     "name": "stdout",
     "output_type": "stream",
     "text": [
      "Evaluator ignoring classifications\n",
      "Precision: 0.97\n",
      "Recall: 0.86\n",
      "F2: 0.88\n",
      "RMSE: 0.8104\n",
      "TP: 568 FP: 20 FN: 89\n"
     ]
    }
   ],
   "source": [
    "subm_df = localizer.postprocess_predictions(preds_df=preds_df,\n",
    "                                            dirs=['EW'],\n",
    "                                            threshold=50.0,\n",
    "                                            add_initial_node=True,\n",
    "                                            clean_consecutives=True)\n",
    "\n",
    "evaluator, sub_df = localizer.evaluate_localizer(subm_df=subm_df,\n",
    "                                                 gt_path=challenge_data_dir / 'train_labels.csv',\n",
    "                                                 object_ids=list(map(int, ds_gen_ew.val_keys))[:object_limit],\n",
    "                                                 dirs=['EW'],\n",
    "                                                 with_initial_node=False,\n",
    "                                                 return_scores=False,\n",
    "                                                 verbose=1)"
   ]
  },
  {
   "cell_type": "code",
   "execution_count": 6,
   "metadata": {},
   "outputs": [
    {
     "name": "stderr",
     "output_type": "stream",
     "text": [
      "2024-01-29 17:19:34.249844: W external/local_tsl/tsl/framework/cpu_allocator_impl.cc:83] Allocation of 3137272320 exceeds 10% of free system memory.\n",
      "2024-01-29 17:19:36.274124: W external/local_tsl/tsl/framework/cpu_allocator_impl.cc:83] Allocation of 3137272320 exceeds 10% of free system memory.\n"
     ]
    },
    {
     "name": "stdout",
     "output_type": "stream",
     "text": [
      "25531/25531 - 59s - 59s/epoch - 2ms/step\n"
     ]
    },
    {
     "name": "stderr",
     "output_type": "stream",
     "text": [
      "/home/david/Code/splid-challenge/base/evaluation.py:271: SettingWithCopyWarning: \n",
      "A value is trying to be set on a copy of a slice from a DataFrame.\n",
      "Try using .loc[row_indexer,col_indexer] = value instead\n",
      "\n",
      "See the caveats in the documentation: https://pandas.pydata.org/pandas-docs/stable/user_guide/indexing.html#returning-a-view-versus-a-copy\n",
      "  df_filtered['consecutive'] = (df_filtered['TimeIndex'] - df_filtered['TimeIndex'].shift(1) != 1).cumsum()\n"
     ]
    },
    {
     "name": "stdout",
     "output_type": "stream",
     "text": [
      "Evaluator ignoring classifications\n",
      "Precision: 0.83\n",
      "Recall: 0.16\n",
      "F2: 0.19\n",
      "RMSE: 1.037\n",
      "TP: 67 FP: 14 FN: 351\n"
     ]
    }
   ],
   "source": [
    "evaluator, result_df = evaluation.evaluate_localizer(ds_gen_ns,\n",
    "                                                    split_dataframes=split_dataframes,\n",
    "                                                    gt_path=challenge_data_dir / 'train_labels.csv',\n",
    "                                                    model=model_ns,\n",
    "                                                    train=False,\n",
    "                                                    with_initial_node=False,\n",
    "                                                    remove_consecutives=True,\n",
    "                                                    direction='NS',\n",
    "                                                    prediction_threshold=50.0,\n",
    "                                                    return_scores=False)\n",
    "# 50.0: 0.96 0.78 0.81 489 22 163\n",
    "# 25.0: 0.96 0.67 0.71 420 19 205\n",
    "# Idea: with regression approach, instead of using consecutive detection, compute local mean values, apply 2nd threshold? somtehing like that?\n"
   ]
  },
  {
   "cell_type": "code",
   "execution_count": null,
   "metadata": {},
   "outputs": [],
   "source": [
    "pickle.dump(ds_gen_ew.scaler, open('submission/models/EW_localizer_scaler.pkl', 'wb'))"
   ]
  },
  {
   "cell_type": "code",
   "execution_count": 191,
   "metadata": {},
   "outputs": [
    {
     "name": "stdout",
     "output_type": "stream",
     "text": [
      "['1', '100', '101', '102', '103', '105', '106', '107', '108', '109', '11', '110', '111', '112', '113', '117', '118', '12', '120', '122', '124', '125', '126', '127', '128', '129', '13', '130', '131', '132', '133', '134', '135', '136', '138', '14', '140', '141', '142', '143', '144', '145', '146', '147', '149', '150', '151', '152', '153', '154', '155', '156', '157', '158', '159', '16', '162', '163', '164', '165', '166', '168', '169', '17', '170', '172', '173', '174', '175', '177', '178', '179', '18', '180', '181', '182', '183', '186', '187', '188', '189', '19', '190', '191', '192', '194', '195', '196', '197', '2', '20', '200', '201', '202', '203', '204', '205', '206', '207', '208', '209', '210', '213', '214', '215', '216', '217', '218', '219', '22', '220', '223', '224', '225', '226', '228', '229', '23', '231', '232', '234', '236', '237', '239', '24', '240', '242', '243', '244', '246', '247', '248', '249', '25', '250', '27', '28', '29', '3', '31', '32', '33', '34', '35', '37', '38', '39', '4', '40', '41', '42', '43', '44', '46', '48', '49', '5', '51', '53', '54', '55', '56', '57', '58', '59', '6', '62', '63', '64', '65', '68', '69', '7', '70', '71', '72', '74', '75', '76', '77', '78', '79', '8', '80', '81', '82', '83', '85', '86', '89', '9', '90', '92', '93', '94', '95', '96', '97', '98', '99']\n"
     ]
    },
    {
     "data": {
      "image/png": "[encoded data removed]",
      "text/plain": [
       "<Figure size 1000x600 with 2 Axes>"
      ]
     },
     "metadata": {},
     "output_type": "display_data"
    }
   ],
   "source": [
    "print(ds_gen_ew.train_keys)\n",
    "evaluator.plot(122)"
   ]
  },
  {
   "cell_type": "code",
   "execution_count": 192,
   "metadata": {},
   "outputs": [
    {
     "name": "stdout",
     "output_type": "stream",
     "text": [
      "        ObjectID  TimeIndex  Location  Location_Pred  Location_Pred_Raw  \\\n",
      "207530       122        121         0              1          41.358292   \n",
      "207531       122        122         0              1          72.189095   \n",
      "207532       122        123         0              1          97.825836   \n",
      "207533       122        124         1              1         122.176582   \n",
      "207534       122        125         0              1         111.815735   \n",
      "207535       122        126         0              1          71.369972   \n",
      "207536       122        127         0              1          46.205509   \n",
      "207537       122        128         0              1          27.297628   \n",
      "207962       122        553         0              1          28.518669   \n",
      "207963       122        554         0              1          71.265884   \n",
      "207964       122        555         0              1         124.096207   \n",
      "207965       122        556         0              1         159.353317   \n",
      "207966       122        557         1              1         143.565063   \n",
      "207967       122        558         0              1          97.765785   \n",
      "207968       122        559         0              1          56.496758   \n",
      "207969       122        560         0              1          30.660849   \n",
      "208190       122        781         0              1          50.013031   \n",
      "208191       122        782         0              1          71.454117   \n",
      "208192       122        783         1              1          84.010628   \n",
      "208193       122        784         0              1          72.016022   \n",
      "208194       122        785         0              1          32.254051   \n",
      "208225       122        816         1              0           0.074569   \n",
      "\n",
      "       Direction  Node  Type  \n",
      "207530        EW  None  None  \n",
      "207531        EW  None  None  \n",
      "207532        EW  None  None  \n",
      "207533        EW  None  None  \n",
      "207534        EW  None  None  \n",
      "207535        EW  None  None  \n",
      "207536        EW  None  None  \n",
      "207537        EW  None  None  \n",
      "207962        EW  None  None  \n",
      "207963        EW  None  None  \n",
      "207964        EW  None  None  \n",
      "207965        EW  None  None  \n",
      "207966        EW  None  None  \n",
      "207967        EW  None  None  \n",
      "207968        EW  None  None  \n",
      "207969        EW  None  None  \n",
      "208190        EW  None  None  \n",
      "208191        EW  None  None  \n",
      "208192        EW  None  None  \n",
      "208193        EW  None  None  \n",
      "208194        EW  None  None  \n",
      "208225        EW  None  None  \n"
     ]
    }
   ],
   "source": [
    "print(result_df.loc[(result_df['ObjectID'] == 122) & ((result_df['Location_Pred'] == True) | (result_df['Location'] == True))])"
   ]
  },
  {
   "cell_type": "code",
   "execution_count": 195,
   "metadata": {},
   "outputs": [
    {
     "name": "stdout",
     "output_type": "stream",
     "text": [
      "        ObjectID  TimeIndex  Location  Location_Pred  Location_Pred_Raw  \\\n",
      "207519       122        110         0              0           0.074569   \n",
      "207520       122        111         0              0           0.074569   \n",
      "207521       122        112         0              0           0.074569   \n",
      "207522       122        113         0              0           0.074569   \n",
      "207523       122        114         0              0           0.074569   \n",
      "207524       122        115         0              0           0.074569   \n",
      "207525       122        116         0              0           0.074569   \n",
      "207526       122        117         0              0           0.074569   \n",
      "207527       122        118         0              0           3.679910   \n",
      "207528       122        119         0              0          10.641794   \n",
      "207529       122        120         0              0          24.258537   \n",
      "207530       122        121         0              1          41.358292   \n",
      "207531       122        122         0              1          72.189095   \n",
      "207532       122        123         0              1          97.825836   \n",
      "207533       122        124         1              1         122.176582   \n",
      "207534       122        125         0              1         111.815735   \n",
      "207535       122        126         0              1          71.369972   \n",
      "207536       122        127         0              1          46.205509   \n",
      "207537       122        128         0              1          27.297628   \n",
      "207538       122        129         0              0           8.021850   \n",
      "207539       122        130         0              0           0.074569   \n",
      "207540       122        131         0              0           0.074569   \n",
      "207541       122        132         0              0           0.074569   \n",
      "207542       122        133         0              0           0.074569   \n",
      "207543       122        134         0              0           0.074569   \n",
      "207544       122        135         0              0           0.244114   \n",
      "207545       122        136         0              0           0.074569   \n",
      "207546       122        137         0              0           0.074569   \n",
      "207547       122        138         0              0           0.074569   \n",
      "207548       122        139         0              0           0.074569   \n",
      "207549       122        140         0              0           0.074569   \n",
      "\n",
      "       Direction  Node  Type  \n",
      "207519        EW  None  None  \n",
      "207520        EW  None  None  \n",
      "207521        EW  None  None  \n",
      "207522        EW  None  None  \n",
      "207523        EW  None  None  \n",
      "207524        EW  None  None  \n",
      "207525        EW  None  None  \n",
      "207526        EW  None  None  \n",
      "207527        EW  None  None  \n",
      "207528        EW  None  None  \n",
      "207529        EW  None  None  \n",
      "207530        EW  None  None  \n",
      "207531        EW  None  None  \n",
      "207532        EW  None  None  \n",
      "207533        EW  None  None  \n",
      "207534        EW  None  None  \n",
      "207535        EW  None  None  \n",
      "207536        EW  None  None  \n",
      "207537        EW  None  None  \n",
      "207538        EW  None  None  \n",
      "207539        EW  None  None  \n",
      "207540        EW  None  None  \n",
      "207541        EW  None  None  \n",
      "207542        EW  None  None  \n",
      "207543        EW  None  None  \n",
      "207544        EW  None  None  \n",
      "207545        EW  None  None  \n",
      "207546        EW  None  None  \n",
      "207547        EW  None  None  \n",
      "207548        EW  None  None  \n",
      "207549        EW  None  None  \n"
     ]
    }
   ],
   "source": [
    "print(result_df.loc[(result_df['ObjectID'] == 122) & (result_df['TimeIndex'] >= 110) & (result_df['TimeIndex'] <= 140)])"
   ]
  },
  {
   "cell_type": "code",
   "execution_count": 20,
   "metadata": {},
   "outputs": [
    {
     "name": "stdout",
     "output_type": "stream",
     "text": [
      "    ObjectID  TimeIndex Direction Node Type\n",
      "0        121        817        EW   IK   HK\n",
      "1        121          0        EW   SS   NK\n",
      "2        121        124        EW   AD   NK\n",
      "3        121        557        EW   AD   NK\n",
      "4        121        783        EW   AD   NK\n",
      "6        122          0        EW   SS   NK\n",
      "7        122        124        EW   AD   NK\n",
      "8        122        557        EW   AD   NK\n",
      "9        122        783        EW   AD   NK\n",
      "10       122        816        EW   IK   HK\n",
      "11       123          0        EW   SS   NK\n",
      "12       123        124        EW   AD   NK\n",
      "13       123        557        EW   AD   NK\n",
      "14       123       1804        EW   AD   NK\n",
      "    ObjectID  TimeIndex Direction Node Type\n",
      "0        121          0        EW   SS   NK\n",
      "1        121        124        EW   AD   NK\n",
      "2        121        557        EW   AD   NK\n",
      "3        121        783        EW   AD   NK\n",
      "4        121        816        EW   IK   HK\n",
      "5        122          0        EW   SS   NK\n",
      "6        122        124        EW   AD   NK\n",
      "7        122        557        EW   AD   NK\n",
      "8        122        783        EW   AD   NK\n",
      "9        122        816        EW   IK   HK\n",
      "10       123          0        EW   SS   NK\n",
      "11       123        124        EW   AD   NK\n",
      "12       123        557        EW   AD   NK\n",
      "13       123       1804        EW   AD   NK\n",
      "Precision: 1.00\n",
      "Recall: 1.00\n",
      "F2: 1.00\n",
      "RMSE: 0.2673\n",
      "TP: 14 FP: 0 FN: 0\n"
     ]
    }
   ],
   "source": [
    "\n",
    "direction = 'EW'\n",
    "ground_truth_from_file = pd.read_csv(labels_dir)\n",
    "ground_truth_from_file = ground_truth_from_file[ground_truth_from_file['ObjectID'].isin([121,122,123])].copy()\n",
    "ground_truth_from_file = ground_truth_from_file[(ground_truth_from_file['Direction'] == direction)]\n",
    "ground_truth_from_file = ground_truth_from_file.sort_values(['ObjectID', 'TimeIndex']).reset_index(drop=True)\n",
    "\n",
    "mergeDf = ground_truth_from_file.copy()\n",
    "mergeDf = mergeDf.drop([4])\n",
    "mergeDf.loc[-1] = [121, 817, 'EW', 'IK', 'HK']  # adding a row\n",
    "mergeDf.index = mergeDf.index + 1  # shifting index\n",
    "mergeDf = mergeDf.sort_index()  # sorting by index\n",
    "print(mergeDf)\n",
    "print(ground_truth_from_file)\n",
    "\n",
    "evaluator = evaluation.NodeDetectionEvaluator(ground_truth_from_file, mergeDf)\n",
    "precision, recall, f2, rmse, total_tp, total_fp, total_fn = evaluator.score()\n",
    "print(f'Precision: {precision:.2f}')\n",
    "print(f'Recall: {recall:.2f}')\n",
    "print(f'F2: {f2:.2f}')\n",
    "print(f'RMSE: {rmse:.4}')\n",
    "print(f'TP: {total_tp} FP: {total_fp} FN: {total_fn}')"
   ]
  },
  {
   "cell_type": "code",
   "execution_count": null,
   "metadata": {},
   "outputs": [
    {
     "name": "stderr",
     "output_type": "stream",
     "text": [
      "2024-01-06 23:47:48.838844: W external/local_tsl/tsl/framework/cpu_allocator_impl.cc:83] Allocation of 1028534400 exceeds 10% of free system memory.\n"
     ]
    }
   ],
   "source": [
    "eval_df = evaluation.localization_eval(ds_gen, challenge_data_dir / 'train_labels.csv', dense_model.model, train=True, add_initial_node=True)"
   ]
  },
  {
   "cell_type": "code",
   "execution_count": 10,
   "metadata": {},
   "outputs": [
    {
     "name": "stdout",
     "output_type": "stream",
     "text": [
      "    ObjectID  TimeIndex  Location  Location_Pred Node Type Direction\n",
      "0        106         69         0              1   AD   NK        EW\n",
      "1        108        179         0              1   SS   NK        EW\n",
      "2        114        201         0              1   AD   NK        EW\n",
      "3        116        201         0              1   AD   NK        EW\n",
      "4        117        461         0              1   AD   NK        EW\n",
      "5        123        125         0              1   AD   NK        EW\n",
      "6        124        367         0              1   AD   NK        EW\n",
      "7        129        972         1              0   IK   CK        EW\n",
      "8        130         86         1              0   IK   CK        EW\n",
      "9        131        155         0              1   AD   NK        EW\n",
      "10       135        936         1              0   IK   CK        EW\n",
      "11       139       1009         1              0   AD   NK        EW\n",
      "12       139       1098         1              0   IK   CK        EW\n",
      "13       141        157         1              0   ID   NK        EW\n",
      "14       143        505         1              0   ID   NK        EW\n",
      "15       146       1297         1              0   ID   NK        EW\n",
      "16       151        157         1              0   ID   NK        EW\n",
      "17       152        301         1              0   ID   NK        EW\n",
      "18       157       1561         1              0   ID   NK        EW\n",
      "19       159       1837         1              0   ID   NK        EW\n",
      "20       175       1069         1              0   ID   NK        EW\n",
      "21       176       1297         1              0   ID   NK        EW\n",
      "22       177       1561         1              0   ID   NK        EW\n",
      "23       178       1717         1              0   ID   NK        EW\n",
      "24       178       1888         1              0   AD   NK        EW\n",
      "25       178       1889         0              1   AD   NK        EW\n",
      "26       181        145         1              0   ID   NK        EW\n",
      "27       181        329         0              1   AD   NK        EW\n",
      "28       183        421         1              0   ID   NK        EW\n",
      "29       185        721         1              0   ID   NK        EW\n",
      "30       185        844         0              1   AD   NK        EW\n",
      "31       188       1249         1              0   ID   NK        EW\n",
      "32       190       1609         1              0   ID   NK        EW\n",
      "33       190       1862         0              1   AD   NK        EW\n",
      "34       191        145         1              0   ID   NK        EW\n",
      "35       194        589         1              0   ID   NK        EW\n",
      "36       199       1381         1              0   ID   NK        EW\n",
      "37       206        889         1              0   ID   NK        EW\n",
      "38       206       1011         0              1   AD   NK        EW\n",
      "39       209       1381         1              0   ID   NK        EW\n",
      "40       215        721         1              0   ID   NK        EW\n",
      "41       215        912         1              0   AD   NK        EW\n",
      "42       215        930         1              0   IK   HK        EW\n",
      "43       217       1165         1              0   ID   NK        EW\n",
      "44       217       1347         0              1   AD   NK        EW\n",
      "45       217       1435         0              1   IK   HK        EW\n",
      "46       219       1381         1              0   ID   NK        EW\n",
      "47       219       1601         0              1   AD   NK        EW\n",
      "48       244        355         1              0   IK   HK        EW\n",
      "49\n",
      "181\n"
     ]
    }
   ],
   "source": [
    "false_preds = eval_df.loc[(eval_df['Location'] != eval_df['Location_Pred'])].sort_values(['ObjectID', 'TimeIndex']).reset_index(drop=True)\n",
    "print(false_preds.head(80))\n",
    "false_preds = eval_df[eval_df['Location'] != eval_df['Location_Pred']]\n",
    "print(len(false_preds))\n",
    "print(len(eval_df))"
   ]
  },
  {
   "cell_type": "code",
   "execution_count": null,
   "metadata": {},
   "outputs": [],
   "source": []
  },
  {
   "cell_type": "code",
   "execution_count": null,
   "metadata": {},
   "outputs": [],
   "source": []
  }
 ],
 "metadata": {
  "kernelspec": {
   "display_name": "splid",
   "language": "python",
   "name": "python3"
  },
  "language_info": {
   "codemirror_mode": {
    "name": "ipython",
    "version": 3
   },
   "file_extension": ".py",
   "mimetype": "text/x-python",
   "name": "python",
   "nbconvert_exporter": "python",
   "pygments_lexer": "ipython3",
   "version": "3.10.13"
  }
 },
 "nbformat": 4,
 "nbformat_minor": 2
}
