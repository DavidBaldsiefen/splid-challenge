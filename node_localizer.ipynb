{
 "cells": [
  {
   "cell_type": "code",
   "execution_count": 3,
   "metadata": {},
   "outputs": [
    {
     "name": "stdout",
     "output_type": "stream",
     "text": [
      "The autoreload extension is already loaded. To reload it, use:\n",
      "  %reload_ext autoreload\n"
     ]
    }
   ],
   "source": [
    "import pandas as pd\n",
    "import numpy as np\n",
    "from pathlib import Path\n",
    "\n",
    "%load_ext autoreload\n",
    "%autoreload 2\n",
    "from base import datahandler, prediction_models, evaluation\n"
   ]
  },
  {
   "cell_type": "code",
   "execution_count": 4,
   "metadata": {},
   "outputs": [],
   "source": [
    "# Define the directory paths\n",
    "challenge_data_dir = Path('dataset/phase_1/')\n",
    "data_dir = challenge_data_dir / \"train\"\n",
    "labels_dir = challenge_data_dir / 'train_labels.csv'\n",
    "\n",
    "split_dataframes = datahandler.load_and_prepare_dataframes(data_dir, labels_dir)\n",
    "\n",
    "some_dataframes = {df_k : split_dataframes[df_k] for df_k in list(split_dataframes.keys())[:10]}"
   ]
  },
  {
   "cell_type": "code",
   "execution_count": 1,
   "metadata": {},
   "outputs": [
    {
     "ename": "NameError",
     "evalue": "name 'datahandler' is not defined",
     "output_type": "error",
     "traceback": [
      "\u001b[0;31m---------------------------------------------------------------------------\u001b[0m",
      "\u001b[0;31mNameError\u001b[0m                                 Traceback (most recent call last)",
      "Cell \u001b[0;32mIn[1], line 13\u001b[0m\n\u001b[1;32m      6\u001b[0m input_features_reduced \u001b[38;5;241m=\u001b[39m [\u001b[38;5;124m'\u001b[39m\u001b[38;5;124mEccentricity\u001b[39m\u001b[38;5;124m'\u001b[39m, \u001b[38;5;124m'\u001b[39m\u001b[38;5;124mSemimajor Axis (m)\u001b[39m\u001b[38;5;124m'\u001b[39m, \u001b[38;5;124m'\u001b[39m\u001b[38;5;124mInclination (deg)\u001b[39m\u001b[38;5;124m'\u001b[39m, \u001b[38;5;124m'\u001b[39m\u001b[38;5;124mRAAN (deg)\u001b[39m\u001b[38;5;124m'\u001b[39m,\n\u001b[1;32m      7\u001b[0m        \u001b[38;5;124m'\u001b[39m\u001b[38;5;124mArgument of Periapsis (deg)\u001b[39m\u001b[38;5;124m'\u001b[39m, \u001b[38;5;124m'\u001b[39m\u001b[38;5;124mTrue Anomaly (deg)\u001b[39m\u001b[38;5;124m'\u001b[39m, \u001b[38;5;124m'\u001b[39m\u001b[38;5;124mLatitude (deg)\u001b[39m\u001b[38;5;124m'\u001b[39m,\n\u001b[1;32m      8\u001b[0m        \u001b[38;5;124m'\u001b[39m\u001b[38;5;124mLongitude (deg)\u001b[39m\u001b[38;5;124m'\u001b[39m, \u001b[38;5;124m'\u001b[39m\u001b[38;5;124mAltitude (m)\u001b[39m\u001b[38;5;124m'\u001b[39m]\n\u001b[1;32m     10\u001b[0m label_features\u001b[38;5;241m=\u001b[39m[\u001b[38;5;124m'\u001b[39m\u001b[38;5;124mEW_Node_Location\u001b[39m\u001b[38;5;124m'\u001b[39m]\n\u001b[0;32m---> 13\u001b[0m ds_gen \u001b[38;5;241m=\u001b[39m \u001b[43mdatahandler\u001b[49m\u001b[38;5;241m.\u001b[39mDatasetGenerator(split_df\u001b[38;5;241m=\u001b[39msome_dataframes, input_features\u001b[38;5;241m=\u001b[39minput_features_reduced,\n\u001b[1;32m     14\u001b[0m                                       label_features\u001b[38;5;241m=\u001b[39mlabel_features,\n\u001b[1;32m     15\u001b[0m                                       train_val_split\u001b[38;5;241m=\u001b[39m\u001b[38;5;241m0.85\u001b[39m, stride\u001b[38;5;241m=\u001b[39m\u001b[38;5;241m1\u001b[39m, padding\u001b[38;5;241m=\u001b[39m\u001b[38;5;28;01mFalse\u001b[39;00m,\n\u001b[1;32m     16\u001b[0m                                       input_history_steps\u001b[38;5;241m=\u001b[39m\u001b[38;5;241m40\u001b[39m, input_future_steps\u001b[38;5;241m=\u001b[39m\u001b[38;5;241m40\u001b[39m, seed\u001b[38;5;241m=\u001b[39m\u001b[38;5;241m69\u001b[39m)\n",
      "\u001b[0;31mNameError\u001b[0m: name 'datahandler' is not defined"
     ]
    }
   ],
   "source": [
    "input_features = ['Eccentricity', 'Semimajor Axis (m)', 'Inclination (deg)', 'RAAN (deg)',\n",
    "       'Argument of Periapsis (deg)', 'True Anomaly (deg)', 'Latitude (deg)',\n",
    "       'Longitude (deg)', 'Altitude (m)', 'X (m)', 'Y (m)', 'Z (m)',\n",
    "       'Vx (m/s)', 'Vy (m/s)', 'Vz (m/s)']\n",
    "\n",
    "input_features_reduced = ['Eccentricity', 'Semimajor Axis (m)', 'Inclination (deg)', 'RAAN (deg)',\n",
    "       'Argument of Periapsis (deg)', 'True Anomaly (deg)', 'Latitude (deg)',\n",
    "       'Longitude (deg)', 'Altitude (m)']\n",
    "\n",
    "label_features=['EW_Node_Location']\n",
    "\n",
    "\n",
    "ds_gen = datahandler.DatasetGenerator(split_df=some_dataframes, input_features=input_features_reduced,\n",
    "                                      label_features=label_features,\n",
    "                                      train_val_split=0.85, stride=1, padding=False,\n",
    "                                      input_history_steps=40, input_future_steps=40, seed=69)"
   ]
  },
  {
   "cell_type": "code",
   "execution_count": 5,
   "metadata": {},
   "outputs": [
    {
     "name": "stdout",
     "output_type": "stream",
     "text": [
      "(TensorSpec(shape=(None, 80, 9), dtype=tf.float64, name=None), {'EW_Node_Location': TensorSpec(shape=(None,), dtype=tf.int32, name=None)})\n"
     ]
    }
   ],
   "source": [
    "train_combined, val_combined = ds_gen.get_datasets(512, label_features=label_features, shuffle=True)\n",
    "print(train_combined.element_spec)"
   ]
  },
  {
   "cell_type": "code",
   "execution_count": 7,
   "metadata": {},
   "outputs": [
    {
     "name": "stdout",
     "output_type": "stream",
     "text": [
      "Model: \"model\"\n",
      "_________________________________________________________________\n",
      " Layer (type)                Output Shape              Param #   \n",
      "=================================================================\n",
      " Input (InputLayer)          [(None, 80, 9)]           0         \n",
      "                                                                 \n",
      " conv1d_2 (Conv1D)           (None, 33, 64)            27712     \n",
      "                                                                 \n",
      " conv1d_3 (Conv1D)           (None, 2, 32)             65568     \n",
      "                                                                 \n",
      " flatten (Flatten)           (None, 64)                0         \n",
      "                                                                 \n",
      " dense (Dense)               (None, 64)                4160      \n",
      "                                                                 \n",
      " dense_1 (Dense)             (None, 32)                2080      \n",
      "                                                                 \n",
      " EW_Node_Location (Dense)    (None, 2)                 66        \n",
      "                                                                 \n",
      "=================================================================\n",
      "Total params: 99586 (389.01 KB)\n",
      "Trainable params: 99586 (389.01 KB)\n",
      "Non-trainable params: 0 (0.00 Byte)\n",
      "_________________________________________________________________\n",
      "Starting training. Optimizing \"val_accuracy\"\n"
     ]
    },
    {
     "name": "stderr",
     "output_type": "stream",
     "text": [
      "2024-01-06 23:34:24.223191: W external/local_tsl/tsl/framework/cpu_allocator_impl.cc:83] Allocation of 1028534400 exceeds 10% of free system memory.\n"
     ]
    },
    {
     "name": "stdout",
     "output_type": "stream",
     "text": [
      "Epoch 1/50\n"
     ]
    },
    {
     "name": "stderr",
     "output_type": "stream",
     "text": [
      "2024-01-06 23:34:27.753182: I external/local_xla/xla/stream_executor/cuda/cuda_dnn.cc:454] Loaded cuDNN version 8904\n",
      "2024-01-06 23:34:29.750381: W external/local_tsl/tsl/framework/bfc_allocator.cc:296] Allocator (GPU_0_bfc) ran out of memory trying to allocate 4.08GiB with freed_by_count=0. The caller indicates that this is not a failure, but this may mean that there could be performance gains if more memory were available.\n",
      "2024-01-06 23:34:29.864874: W external/local_tsl/tsl/framework/bfc_allocator.cc:296] Allocator (GPU_0_bfc) ran out of memory trying to allocate 4.08GiB with freed_by_count=0. The caller indicates that this is not a failure, but this may mean that there could be performance gains if more memory were available.\n",
      "2024-01-06 23:34:30.154334: I external/local_xla/xla/service/service.cc:168] XLA service 0x7fdb18021770 initialized for platform CUDA (this does not guarantee that XLA will be used). Devices:\n",
      "2024-01-06 23:34:30.154390: I external/local_xla/xla/service/service.cc:176]   StreamExecutor device (0): NVIDIA GeForce GTX 1060 6GB, Compute Capability 6.1\n",
      "2024-01-06 23:34:30.190179: I tensorflow/compiler/mlir/tensorflow/utils/dump_mlir_util.cc:269] disabling MLIR crash reproducer, set env var `MLIR_CRASH_REPRODUCER_DIRECTORY` to enable.\n",
      "WARNING: All log messages before absl::InitializeLog() is called are written to STDERR\n",
      "I0000 00:00:1704580470.372793   63324 device_compiler.h:186] Compiled cluster using XLA!  This line is logged at most once for the lifetime of the process.\n"
     ]
    },
    {
     "name": "stdout",
     "output_type": "stream",
     "text": [
      "  1/349 [..............................] - ETA: 45:40 - loss: 0.7220 - accuracy: 0.0996"
     ]
    },
    {
     "name": "stderr",
     "output_type": "stream",
     "text": [
      "2024-01-06 23:34:32.284894: W external/local_tsl/tsl/framework/bfc_allocator.cc:296] Allocator (GPU_0_bfc) ran out of memory trying to allocate 4.65GiB with freed_by_count=0. The caller indicates that this is not a failure, but this may mean that there could be performance gains if more memory were available.\n",
      "2024-01-06 23:34:32.325701: W external/local_tsl/tsl/framework/bfc_allocator.cc:296] Allocator (GPU_0_bfc) ran out of memory trying to allocate 4.65GiB with freed_by_count=0. The caller indicates that this is not a failure, but this may mean that there could be performance gains if more memory were available.\n"
     ]
    },
    {
     "name": "stdout",
     "output_type": "stream",
     "text": [
      "349/349 [==============================] - ETA: 0s - loss: 0.0137 - accuracy: 0.9969"
     ]
    },
    {
     "name": "stderr",
     "output_type": "stream",
     "text": [
      "2024-01-06 23:34:39.271896: W external/local_tsl/tsl/framework/bfc_allocator.cc:296] Allocator (GPU_0_bfc) ran out of memory trying to allocate 3.54GiB with freed_by_count=0. The caller indicates that this is not a failure, but this may mean that there could be performance gains if more memory were available.\n",
      "2024-01-06 23:34:39.305045: W external/local_tsl/tsl/framework/bfc_allocator.cc:296] Allocator (GPU_0_bfc) ran out of memory trying to allocate 3.54GiB with freed_by_count=0. The caller indicates that this is not a failure, but this may mean that there could be performance gains if more memory were available.\n"
     ]
    },
    {
     "name": "stdout",
     "output_type": "stream",
     "text": [
      "349/349 [==============================] - 16s 24ms/step - loss: 0.0137 - accuracy: 0.9969 - val_loss: 0.0026 - val_accuracy: 0.9997\n",
      "Epoch 2/50\n",
      "349/349 [==============================] - 7s 21ms/step - loss: 0.0033 - accuracy: 0.9995 - val_loss: 0.0023 - val_accuracy: 0.9997\n",
      "Epoch 3/50\n",
      "349/349 [==============================] - 7s 21ms/step - loss: 0.0031 - accuracy: 0.9995 - val_loss: 0.0021 - val_accuracy: 0.9997\n",
      "Epoch 4/50\n",
      "349/349 [==============================] - 8s 22ms/step - loss: 0.0032 - accuracy: 0.9995 - val_loss: 0.0022 - val_accuracy: 0.9997\n",
      "Epoch 5/50\n",
      "349/349 [==============================] - 7s 21ms/step - loss: 0.0028 - accuracy: 0.9995 - val_loss: 0.0020 - val_accuracy: 0.9997\n",
      "Epoch 6/50\n",
      "349/349 [==============================] - 7s 21ms/step - loss: 0.0028 - accuracy: 0.9995 - val_loss: 0.0020 - val_accuracy: 0.9997\n",
      "Epoch 7/50\n",
      "349/349 [==============================] - 7s 20ms/step - loss: 0.0028 - accuracy: 0.9995 - val_loss: 0.0026 - val_accuracy: 0.9997\n",
      "Epoch 8/50\n",
      "349/349 [==============================] - 9s 25ms/step - loss: 0.0031 - accuracy: 0.9995 - val_loss: 0.0019 - val_accuracy: 0.9997\n",
      "Epoch 9/50\n",
      "349/349 [==============================] - 8s 22ms/step - loss: 0.0024 - accuracy: 0.9995 - val_loss: 0.0015 - val_accuracy: 0.9997\n",
      "Epoch 10/50\n",
      "349/349 [==============================] - 8s 23ms/step - loss: 0.0024 - accuracy: 0.9996 - val_loss: 0.0015 - val_accuracy: 0.9997\n",
      "Epoch 11/50\n",
      "349/349 [==============================] - 7s 21ms/step - loss: 0.0024 - accuracy: 0.9996 - val_loss: 0.0016 - val_accuracy: 0.9997\n",
      "Epoch 12/50\n",
      "349/349 [==============================] - 7s 21ms/step - loss: 0.0022 - accuracy: 0.9996 - val_loss: 0.0018 - val_accuracy: 0.9997\n",
      "Epoch 13/50\n",
      "349/349 [==============================] - 7s 20ms/step - loss: 0.0024 - accuracy: 0.9996 - val_loss: 0.0013 - val_accuracy: 0.9997\n",
      "Epoch 14/50\n",
      "349/349 [==============================] - 7s 20ms/step - loss: 0.0022 - accuracy: 0.9996 - val_loss: 0.0014 - val_accuracy: 0.9997\n",
      "Epoch 15/50\n",
      "349/349 [==============================] - 7s 20ms/step - loss: 0.0022 - accuracy: 0.9996 - val_loss: 0.0012 - val_accuracy: 0.9997\n",
      "Epoch 16/50\n",
      "349/349 [==============================] - 7s 21ms/step - loss: 0.0019 - accuracy: 0.9996 - val_loss: 0.0014 - val_accuracy: 0.9997\n",
      "Epoch 17/50\n",
      "349/349 [==============================] - 7s 20ms/step - loss: 0.0018 - accuracy: 0.9996 - val_loss: 0.0014 - val_accuracy: 0.9997\n",
      "Epoch 18/50\n",
      "349/349 [==============================] - 7s 21ms/step - loss: 0.0018 - accuracy: 0.9996 - val_loss: 0.0012 - val_accuracy: 0.9997\n",
      "Epoch 19/50\n",
      "349/349 [==============================] - 8s 22ms/step - loss: 0.0019 - accuracy: 0.9997 - val_loss: 0.0011 - val_accuracy: 0.9997\n",
      "Epoch 20/50\n",
      "349/349 [==============================] - 8s 22ms/step - loss: 0.0017 - accuracy: 0.9996 - val_loss: 0.0014 - val_accuracy: 0.9997\n",
      "Epoch 21/50\n",
      "349/349 [==============================] - 7s 20ms/step - loss: 0.0019 - accuracy: 0.9997 - val_loss: 0.0011 - val_accuracy: 0.9998\n",
      "Epoch 22/50\n",
      "349/349 [==============================] - 7s 20ms/step - loss: 0.0017 - accuracy: 0.9997 - val_loss: 0.0011 - val_accuracy: 0.9998\n",
      "Epoch 23/50\n",
      "349/349 [==============================] - 7s 20ms/step - loss: 0.0017 - accuracy: 0.9997 - val_loss: 0.0011 - val_accuracy: 0.9998\n",
      "Epoch 24/50\n",
      "349/349 [==============================] - 7s 21ms/step - loss: 0.0016 - accuracy: 0.9997 - val_loss: 0.0011 - val_accuracy: 0.9997\n",
      "Epoch 25/50\n",
      "349/349 [==============================] - 9s 26ms/step - loss: 0.0015 - accuracy: 0.9997 - val_loss: 0.0011 - val_accuracy: 0.9998\n",
      "Epoch 26/50\n",
      "349/349 [==============================] - 7s 21ms/step - loss: 0.0022 - accuracy: 0.9996 - val_loss: 0.0011 - val_accuracy: 0.9998\n",
      "Epoch 27/50\n",
      "349/349 [==============================] - 7s 20ms/step - loss: 0.0018 - accuracy: 0.9996 - val_loss: 0.0012 - val_accuracy: 0.9998\n",
      "Epoch 28/50\n",
      "349/349 [==============================] - 8s 23ms/step - loss: 0.0015 - accuracy: 0.9997 - val_loss: 9.1818e-04 - val_accuracy: 0.9998\n",
      "Epoch 29/50\n",
      "349/349 [==============================] - 8s 22ms/step - loss: 0.0015 - accuracy: 0.9997 - val_loss: 0.0013 - val_accuracy: 0.9998\n",
      "Epoch 30/50\n",
      "349/349 [==============================] - 7s 21ms/step - loss: 0.0014 - accuracy: 0.9997 - val_loss: 0.0011 - val_accuracy: 0.9998\n",
      "Epoch 31/50\n",
      "349/349 [==============================] - 7s 21ms/step - loss: 0.0013 - accuracy: 0.9998 - val_loss: 0.0012 - val_accuracy: 0.9998\n",
      "Epoch 32/50\n",
      "349/349 [==============================] - 7s 21ms/step - loss: 0.0013 - accuracy: 0.9998 - val_loss: 0.0014 - val_accuracy: 0.9997\n",
      "Epoch 33/50\n",
      "349/349 [==============================] - 7s 21ms/step - loss: 0.0016 - accuracy: 0.9997 - val_loss: 0.0011 - val_accuracy: 0.9998\n",
      "Epoch 34/50\n",
      "349/349 [==============================] - 8s 23ms/step - loss: 0.0014 - accuracy: 0.9998 - val_loss: 0.0011 - val_accuracy: 0.9999\n",
      "Epoch 35/50\n",
      "349/349 [==============================] - 8s 22ms/step - loss: 0.0013 - accuracy: 0.9997 - val_loss: 0.0011 - val_accuracy: 0.9998\n",
      "Epoch 36/50\n",
      "349/349 [==============================] - 8s 22ms/step - loss: 0.0014 - accuracy: 0.9997 - val_loss: 0.0014 - val_accuracy: 0.9998\n",
      "Epoch 37/50\n",
      "349/349 [==============================] - 8s 23ms/step - loss: 0.0018 - accuracy: 0.9997 - val_loss: 0.0010 - val_accuracy: 0.9998\n",
      "Epoch 38/50\n",
      "349/349 [==============================] - 18s 52ms/step - loss: 0.0018 - accuracy: 0.9997 - val_loss: 8.5246e-04 - val_accuracy: 0.9998\n",
      "Epoch 39/50\n",
      "349/349 [==============================] - 29s 83ms/step - loss: 0.0014 - accuracy: 0.9998 - val_loss: 0.0010 - val_accuracy: 0.9998\n",
      "Epoch 40/50\n",
      "349/349 [==============================] - 22s 63ms/step - loss: 0.0013 - accuracy: 0.9997 - val_loss: 9.5464e-04 - val_accuracy: 0.9999\n",
      "Epoch 41/50\n",
      "349/349 [==============================] - 21s 60ms/step - loss: 0.0011 - accuracy: 0.9998 - val_loss: 0.0011 - val_accuracy: 0.9999\n",
      "Epoch 42/50\n",
      "349/349 [==============================] - 32s 91ms/step - loss: 0.0011 - accuracy: 0.9998 - val_loss: 0.0014 - val_accuracy: 0.9998\n",
      "Epoch 43/50\n",
      "349/349 [==============================] - 25s 71ms/step - loss: 0.0015 - accuracy: 0.9997 - val_loss: 0.0014 - val_accuracy: 0.9998\n",
      "Epoch 44/50\n",
      "349/349 [==============================] - 26s 75ms/step - loss: 0.0015 - accuracy: 0.9997 - val_loss: 0.0011 - val_accuracy: 0.9998\n",
      "Epoch 45/50\n",
      "349/349 [==============================] - 24s 68ms/step - loss: 0.0013 - accuracy: 0.9997 - val_loss: 0.0011 - val_accuracy: 0.9999\n",
      "Epoch 46/50\n",
      "349/349 [==============================] - 23s 66ms/step - loss: 0.0012 - accuracy: 0.9998 - val_loss: 0.0013 - val_accuracy: 0.9998\n",
      "Epoch 47/50\n",
      "349/349 [==============================] - 20s 58ms/step - loss: 0.0014 - accuracy: 0.9997 - val_loss: 0.0010 - val_accuracy: 0.9998\n",
      "Epoch 48/50\n",
      "349/349 [==============================] - 23s 65ms/step - loss: 0.0014 - accuracy: 0.9997 - val_loss: 0.0016 - val_accuracy: 0.9998\n",
      "Epoch 49/50\n",
      "349/349 [==============================] - 31s 89ms/step - loss: 0.0011 - accuracy: 0.9998 - val_loss: 0.0012 - val_accuracy: 0.9998\n",
      "Epoch 50/50\n",
      "349/349 [==============================] - 20s 58ms/step - loss: 0.0014 - accuracy: 0.9998 - val_loss: 0.0010 - val_accuracy: 0.9998\n",
      "Finished training after 50 epochs.\n",
      "Evaluating model:\n",
      "349/349 [==============================] - 11s 33ms/step - loss: 0.0013 - accuracy: 0.9998\n",
      "62/62 [==============================] - 1s 19ms/step - loss: 0.0010 - accuracy: 0.9998\n"
     ]
    },
    {
     "name": "stderr",
     "output_type": "stream",
     "text": [
      "/home/david/miniconda3/envs/splid-gpu/lib/python3.10/site-packages/keras/src/engine/training.py:3103: UserWarning: You are saving your model as an HDF5 file via `model.save()`. This file format is considered legacy. We recommend using instead the native Keras format, e.g. `model.save('my_model.keras')`.\n",
      "  saving_api.save_model(\n",
      "/home/david/Code/splid-challenge/base/prediction_models.py:69: UserWarning: FigureCanvasAgg is non-interactive, and thus cannot be shown\n",
      "  fig.show()\n"
     ]
    },
    {
     "data": {
      "image/png": "[encoded data removed]",
      "text/plain": [
       "<Figure size 400x300 with 1 Axes>"
      ]
     },
     "metadata": {},
     "output_type": "display_data"
    },
    {
     "data": {
      "image/png": "[encoded data removed]",
      "text/plain": [
       "<Figure size 400x300 with 1 Axes>"
      ]
     },
     "metadata": {},
     "output_type": "display_data"
    }
   ],
   "source": [
    "dense_model = prediction_models.Dense_NN(train_combined, conv1d_layers=[[64,48],[32,32]], dense_layers=[64,32], l2_reg=0.0, mixed_dropout=0.0, lr_scheduler=[30000,0.8], seed=0)\n",
    "#dense_model = prediction_models.CNN(train_combined, conv_layers=[[64,6],[64,3],[64,3]], l2_reg=0.001, mixed_dropout=0.15, lr_scheduler=[20000,0.8], seed=0)\n",
    "\n",
    "dense_model.summary()\n",
    "hist = dense_model.fit(train_combined, val_ds=val_combined, epochs=50, verbose=1, plot_hist=False, callbacks=[])\n",
    "dense_model.model.save('tmp_model.hdf5')\n",
    "\n",
    "dense_model.plot_hist(hist, [k for k in hist.history.keys() if 'loss' in k])\n",
    "dense_model.plot_hist(hist, [k for k in hist.history.keys() if 'accuracy' in k])"
   ]
  },
  {
   "cell_type": "code",
   "execution_count": 8,
   "metadata": {},
   "outputs": [],
   "source": [
    "def localization_eval(ds_gen, gt_path, model, train=True, add_initial_node=False):\n",
    "\n",
    "    t_ds, v_ds = ds_gen.get_datasets(512, label_features=label_features, shuffle=False, keep_identifier=True)\n",
    "    ds = t_ds if train else v_ds\n",
    "\n",
    "    ground_truth_labels = pd.concat([split_dataframes[k] for k in ds_gen.train_keys + ds_gen.val_keys])[['ObjectID', 'TimeIndex', 'EW_Node', 'EW_Type']].rename(columns={'EW_Node' : 'Node', 'EW_Type' : 'Type'})\n",
    "    ground_truth_labels['Direction'] = 'EW' # For now just EW, see line above\n",
    "    ground_truth_labels = ground_truth_labels[(ground_truth_labels['Direction'] == 'EW')]\n",
    "\n",
    "    inputs = np.concatenate([element for element in ds.map(lambda x,y,z: x).as_numpy_iterator()])\n",
    "    labels = np.concatenate([element['EW_Node_Location'] for element in ds.map(lambda x,y,z: y).as_numpy_iterator()])\n",
    "    identifiers = np.concatenate([element for element in ds.map(lambda x,y,z: z).as_numpy_iterator()])\n",
    "\n",
    "    # get predictions\n",
    "    preds = model.predict(inputs)\n",
    "    preds_argmax = np.argmax(preds, axis=1)\n",
    "\n",
    "    df = pd.DataFrame(np.concatenate([identifiers.reshape(-1,2)], axis=1), columns=['ObjectID', 'TimeIndex'], dtype=np.int32)\n",
    "    df['Location'] = labels\n",
    "    df[f'Location_Pred'] = preds_argmax\n",
    "\n",
    "    # add initial node prediction\n",
    "    if add_initial_node:\n",
    "        for obj in ds_gen.train_keys if train else ds_gen.val_keys:\n",
    "            df = df.sort_index()\n",
    "            df.loc[-1] = [int(obj), 0, 1, 1] # objid, timeindex, location, location_pred\n",
    "            df.index = df.index + 1\n",
    "            df = df.sort_index()\n",
    "    \n",
    "    df_filtered = df.loc[(df['Location_Pred'] == 1)]\n",
    "    df_filtered = df_filtered.sort_values(['ObjectID', 'TimeIndex']).reset_index(drop=True)    \n",
    "\n",
    "    # now, assign the real label to the locations\n",
    "    mergeDf = df_filtered.merge(ground_truth_labels, how='left', on = ['ObjectID', 'TimeIndex'])\n",
    "\n",
    "    ground_truth_from_file = pd.read_csv(gt_path).sort_values(['ObjectID', 'TimeIndex']).reset_index(drop=True)\n",
    "    ground_truth_from_file = ground_truth_from_file[ground_truth_from_file['ObjectID'].isin(map(int, ds_gen.train_keys if train else ds_gen.val_keys))].copy()\n",
    "    ground_truth_from_file = ground_truth_from_file[(ground_truth_from_file['Direction'] == 'EW')]\n",
    "\n",
    "    evaluator = evaluation.NodeDetectionEvaluator(ground_truth_from_file, mergeDf)\n",
    "    precision, recall, f2, rmse, total_tp, total_fp, total_fn = evaluator.score()\n",
    "    print(f'Precision: {precision:.2f}')\n",
    "    print(f'Recall: {recall:.2f}')\n",
    "    print(f'F2: {f2:.2f}')\n",
    "    print(f'RMSE: {rmse:.4}')\n",
    "    print(f'TP: {total_tp} FP: {total_fp} FN: {total_fn}')\n",
    "\n",
    "    return df.loc[(df['Location'] == 1) | (df['Location_Pred'] == 1)].merge(ground_truth_labels, how='left', on = ['ObjectID', 'TimeIndex'])"
   ]
  },
  {
   "cell_type": "code",
   "execution_count": 9,
   "metadata": {},
   "outputs": [
    {
     "name": "stdout",
     "output_type": "stream",
     "text": [
      "984/984 [==============================] - 5s 4ms/step\n",
      "Precision: 0.92\n",
      "Recall: 0.88\n",
      "F2: 0.89\n",
      "RMSE: 0.2085\n",
      "TP: 23 FP: 2 FN: 3\n"
     ]
    }
   ],
   "source": [
    "eval_df = localization_eval(ds_gen, challenge_data_dir / 'train_labels.csv', dense_model.model, train=False, add_initial_node=True)\n",
    "# print(eval_df.head(50))"
   ]
  },
  {
   "cell_type": "code",
   "execution_count": 10,
   "metadata": {},
   "outputs": [
    {
     "name": "stderr",
     "output_type": "stream",
     "text": [
      "2024-01-06 23:47:48.838844: W external/local_tsl/tsl/framework/cpu_allocator_impl.cc:83] Allocation of 1028534400 exceeds 10% of free system memory.\n"
     ]
    }
   ],
   "source": [
    "eval_df = localization_eval(ds_gen, challenge_data_dir / 'train_labels.csv', dense_model.model, train=True, add_initial_node=True)"
   ]
  },
  {
   "cell_type": "code",
   "execution_count": 10,
   "metadata": {},
   "outputs": [
    {
     "name": "stdout",
     "output_type": "stream",
     "text": [
      "    ObjectID  TimeIndex  Location  Location_Pred Node Type Direction\n",
      "0        106         69         0              1   AD   NK        EW\n",
      "1        108        179         0              1   SS   NK        EW\n",
      "2        114        201         0              1   AD   NK        EW\n",
      "3        116        201         0              1   AD   NK        EW\n",
      "4        117        461         0              1   AD   NK        EW\n",
      "5        123        125         0              1   AD   NK        EW\n",
      "6        124        367         0              1   AD   NK        EW\n",
      "7        129        972         1              0   IK   CK        EW\n",
      "8        130         86         1              0   IK   CK        EW\n",
      "9        131        155         0              1   AD   NK        EW\n",
      "10       135        936         1              0   IK   CK        EW\n",
      "11       139       1009         1              0   AD   NK        EW\n",
      "12       139       1098         1              0   IK   CK        EW\n",
      "13       141        157         1              0   ID   NK        EW\n",
      "14       143        505         1              0   ID   NK        EW\n",
      "15       146       1297         1              0   ID   NK        EW\n",
      "16       151        157         1              0   ID   NK        EW\n",
      "17       152        301         1              0   ID   NK        EW\n",
      "18       157       1561         1              0   ID   NK        EW\n",
      "19       159       1837         1              0   ID   NK        EW\n",
      "20       175       1069         1              0   ID   NK        EW\n",
      "21       176       1297         1              0   ID   NK        EW\n",
      "22       177       1561         1              0   ID   NK        EW\n",
      "23       178       1717         1              0   ID   NK        EW\n",
      "24       178       1888         1              0   AD   NK        EW\n",
      "25       178       1889         0              1   AD   NK        EW\n",
      "26       181        145         1              0   ID   NK        EW\n",
      "27       181        329         0              1   AD   NK        EW\n",
      "28       183        421         1              0   ID   NK        EW\n",
      "29       185        721         1              0   ID   NK        EW\n",
      "30       185        844         0              1   AD   NK        EW\n",
      "31       188       1249         1              0   ID   NK        EW\n",
      "32       190       1609         1              0   ID   NK        EW\n",
      "33       190       1862         0              1   AD   NK        EW\n",
      "34       191        145         1              0   ID   NK        EW\n",
      "35       194        589         1              0   ID   NK        EW\n",
      "36       199       1381         1              0   ID   NK        EW\n",
      "37       206        889         1              0   ID   NK        EW\n",
      "38       206       1011         0              1   AD   NK        EW\n",
      "39       209       1381         1              0   ID   NK        EW\n",
      "40       215        721         1              0   ID   NK        EW\n",
      "41       215        912         1              0   AD   NK        EW\n",
      "42       215        930         1              0   IK   HK        EW\n",
      "43       217       1165         1              0   ID   NK        EW\n",
      "44       217       1347         0              1   AD   NK        EW\n",
      "45       217       1435         0              1   IK   HK        EW\n",
      "46       219       1381         1              0   ID   NK        EW\n",
      "47       219       1601         0              1   AD   NK        EW\n",
      "48       244        355         1              0   IK   HK        EW\n",
      "49\n",
      "181\n"
     ]
    }
   ],
   "source": [
    "false_preds = eval_df.loc[(eval_df['Location'] != eval_df['Location_Pred'])].sort_values(['ObjectID', 'TimeIndex']).reset_index(drop=True)\n",
    "print(false_preds.head(80))\n",
    "false_preds = eval_df[eval_df['Location'] != eval_df['Location_Pred']]\n",
    "print(len(false_preds))\n",
    "print(len(eval_df))"
   ]
  },
  {
   "cell_type": "code",
   "execution_count": null,
   "metadata": {},
   "outputs": [],
   "source": []
  },
  {
   "cell_type": "code",
   "execution_count": null,
   "metadata": {},
   "outputs": [],
   "source": []
  }
 ],
 "metadata": {
  "kernelspec": {
   "display_name": "splid",
   "language": "python",
   "name": "python3"
  },
  "language_info": {
   "codemirror_mode": {
    "name": "ipython",
    "version": 3
   },
   "file_extension": ".py",
   "mimetype": "text/x-python",
   "name": "python",
   "nbconvert_exporter": "python",
   "pygments_lexer": "ipython3",
   "version": "3.10.13"
  }
 },
 "nbformat": 4,
 "nbformat_minor": 2
}
