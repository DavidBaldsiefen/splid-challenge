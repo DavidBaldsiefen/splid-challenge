{
 "cells": [
  {
   "cell_type": "code",
   "execution_count": 1,
   "metadata": {},
   "outputs": [
    {
     "name": "stderr",
     "output_type": "stream",
     "text": [
      "2024-02-04 16:01:50.911283: E external/local_xla/xla/stream_executor/cuda/cuda_dnn.cc:9261] Unable to register cuDNN factory: Attempting to register factory for plugin cuDNN when one has already been registered\n",
      "2024-02-04 16:01:50.911361: E external/local_xla/xla/stream_executor/cuda/cuda_fft.cc:607] Unable to register cuFFT factory: Attempting to register factory for plugin cuFFT when one has already been registered\n",
      "2024-02-04 16:01:50.912430: E external/local_xla/xla/stream_executor/cuda/cuda_blas.cc:1515] Unable to register cuBLAS factory: Attempting to register factory for plugin cuBLAS when one has already been registered\n",
      "2024-02-04 16:01:50.920499: I tensorflow/core/platform/cpu_feature_guard.cc:182] This TensorFlow binary is optimized to use available CPU instructions in performance-critical operations.\n",
      "To enable the following instructions: AVX2 FMA, in other operations, rebuild TensorFlow with the appropriate compiler flags.\n",
      "2024-02-04 16:01:51.922622: W tensorflow/compiler/tf2tensorrt/utils/py_utils.cc:38] TF-TRT Warning: Could not find TensorRT\n"
     ]
    }
   ],
   "source": [
    "import pandas as pd\n",
    "import numpy as np\n",
    "import pickle\n",
    "from pathlib import Path\n",
    "import tensorflow as tf\n",
    "\n",
    "%load_ext autoreload\n",
    "%autoreload 2\n",
    "from base import datahandler, prediction_models, evaluation, utils, localizer\n"
   ]
  },
  {
   "cell_type": "code",
   "execution_count": 2,
   "metadata": {},
   "outputs": [],
   "source": [
    "# model_ew = tf.keras.models.load_model('/home/david/Code/splid-challenge/wandb/run-20240112_140537-85ahbucq/files\\model_85ahbucq.hdf5')\n",
    "# model_ew.save('models/ew_localizer.hdf5')\n"
   ]
  },
  {
   "cell_type": "code",
   "execution_count": 3,
   "metadata": {},
   "outputs": [],
   "source": [
    "# Define the directory paths\n",
    "challenge_data_dir = Path('dataset/phase_1_v2_custom/')\n",
    "data_dir = challenge_data_dir / \"train\"\n",
    "labels_dir = challenge_data_dir / 'train_labels.csv'\n",
    "\n",
    "split_dataframes = datahandler.load_and_prepare_dataframes(data_dir, labels_dir)\n",
    "\n",
    "some_dataframes = {df_k : split_dataframes[df_k] for df_k in list(split_dataframes.keys())[:40]}"
   ]
  },
  {
   "cell_type": "code",
   "execution_count": 4,
   "metadata": {},
   "outputs": [
    {
     "name": "stdout",
     "output_type": "stream",
     "text": [
      "=========================Creating Generator=======================\n",
      "Seed: 69\n",
      "nTrain: 1360 nVal: 340 (0.80)\n",
      "Padding: none\n",
      "Scaling: True  (per-object)\n",
      "Horizons: 64-24 @ stride 2\n",
      "Sin-Transformed features: ['True Anomaly (deg)', 'Argument of Periapsis (deg)']\n",
      "Padding node locations in non-binary fashion ([24.0, 34.0, 49.0, 70.0, 100.0, 70.0, 49.0, 34.0, 24.0])\n",
      "=========================Finished Generator=======================\n"
     ]
    }
   ],
   "source": [
    "input_features = ['Eccentricity', 'Semimajor Axis (m)', 'Inclination (deg)', 'RAAN (deg)',\n",
    "       'Argument of Periapsis (deg)', 'True Anomaly (deg)', 'Latitude (deg)',\n",
    "       'Longitude (deg)', 'Altitude (m)', 'X (m)', 'Y (m)', 'Z (m)',\n",
    "       'Vx (m/s)', 'Vy (m/s)', 'Vz (m/s)']\n",
    "\n",
    "input_features_reduced = ['Eccentricity', 'Semimajor Axis (m)', 'Inclination (deg)', 'RAAN (deg)',\n",
    "       'Argument of Periapsis (deg)', 'True Anomaly (deg)', 'Latitude (deg)',\n",
    "       'Longitude (deg)', 'Altitude (m)']\n",
    "\n",
    "ew_input_features = input_features_reduced#['Eccentricity', 'Semimajor Axis (m)', 'Argument of Periapsis (deg)', 'Longitude (deg)', 'Altitude (m)']\n",
    "#ew_input_features = ['Eccentricity', 'Longitude (deg)', 'Latitude (deg)']\n",
    "\n",
    "ns_input_features = input_features_reduced#['Eccentricity', 'Semimajor Axis (m)',  'Inclination (deg)', 'Latitude (deg)', 'Longitude (deg)']\n",
    "\n",
    "\n",
    "utils.set_random_seed(42)\n",
    "ds_gen_ew = datahandler.DatasetGenerator(split_df=split_dataframes, input_features=ew_input_features,\n",
    "                                      with_labels=True, pad_location_labels=0,\n",
    "                                      nonbinary_padding=[100.0, 70.0, 49.0, 34.0, 24.0],\n",
    "                                      train_val_split=0.8, input_stride=2, padding='none',\n",
    "                                      transform_features=True,\n",
    "                                      scale=True,\n",
    "                                      per_object_scaling=True,\n",
    "                                      input_history_steps=64, input_future_steps=24, seed=69)\n",
    "\n",
    "# ds_gen_ns = datahandler.DatasetGenerator(split_df=split_dataframes, input_features=ns_input_features,\n",
    "#                                       with_labels=True, pad_location_labels=0,\n",
    "#                                       nonbinary_padding=[100.0, 70.0, 49.0, 34.0, 24.0],\n",
    "#                                       train_val_split=0.8, input_stride=4, padding='none',\n",
    "#                                       transform_features=True,\n",
    "#                                       scale=True,\n",
    "#                                       per_object_scaling=True,\n",
    "#                                       input_history_steps=64, input_future_steps=24, seed=69)"
   ]
  },
  {
   "cell_type": "code",
   "execution_count": null,
   "metadata": {},
   "outputs": [],
   "source": [
    "train_ew, val_ew = ds_gen_ew.get_datasets(512, label_features=['EW_Node_Location'], shuffle=True, stride=1)\n",
    "\n",
    "print(train_ew.element_spec)\n",
    "\n",
    "#dense_model = prediction_models.Dense_NN(train_combined, conv1d_layers=[[64,32],[32,16]], dense_layers=[64,32], l2_reg=0.0001, mixed_dropout=0.1, lr_scheduler=[30000,0.8], seed=0)\n",
    "model_ew = prediction_models.Dense_NN(val_ew, conv1d_layers=[], dense_layers=[256,128,64,32], l2_reg=0.0, mixed_dropout=0.0, lr_scheduler=[], seed=0)\n",
    "#dense_model = prediction_models.CNN(train_combined, conv_layers=[[64,6],[64,3],[64,3]], l2_reg=0.001, mixed_dropout=0.15, lr_scheduler=[20000,0.8], seed=0)\n",
    "#model_ew = prediction_models.LSTM_NN(val_ew, input_dropout=0.0, mixed_dropout=0.1, lstm_layers=[128,64], dense_layers=[32,16], l2_reg=0.0001, lr_scheduler=[], seed=1)\n",
    "\n",
    "train_ew = train_ew.map(lambda x,y:(x,y['EW_Node_Location']))\n",
    "val_ew = val_ew.map(lambda x,y:(x,y['EW_Node_Location'])) # temporary fix to allow class weights\n",
    "\n",
    "model_ew.summary()\n",
    "hist = model_ew.fit(train_ew, val_ds=val_ew, epochs=20, verbose=1, plot_hist=True, \n",
    "                    class_weight={0: 1.0, 1: 2.0}, \n",
    "                    callbacks=[])\n",
    "#model_ew.model.save('models/ew_localizer.hdf5')"
   ]
  },
  {
   "cell_type": "code",
   "execution_count": 5,
   "metadata": {},
   "outputs": [
    {
     "name": "stderr",
     "output_type": "stream",
     "text": [
      "2024-02-04 16:03:01.655720: I external/local_xla/xla/stream_executor/cuda/cuda_executor.cc:887] could not open file to read NUMA node: /sys/bus/pci/devices/0000:1c:00.0/numa_node\n",
      "Your kernel may have been built without NUMA support.\n",
      "2024-02-04 16:03:01.677691: I external/local_xla/xla/stream_executor/cuda/cuda_executor.cc:887] could not open file to read NUMA node: /sys/bus/pci/devices/0000:1c:00.0/numa_node\n",
      "Your kernel may have been built without NUMA support.\n",
      "2024-02-04 16:03:01.677767: I external/local_xla/xla/stream_executor/cuda/cuda_executor.cc:887] could not open file to read NUMA node: /sys/bus/pci/devices/0000:1c:00.0/numa_node\n",
      "Your kernel may have been built without NUMA support.\n",
      "2024-02-04 16:03:01.679750: I external/local_xla/xla/stream_executor/cuda/cuda_executor.cc:887] could not open file to read NUMA node: /sys/bus/pci/devices/0000:1c:00.0/numa_node\n",
      "Your kernel may have been built without NUMA support.\n",
      "2024-02-04 16:03:01.679823: I external/local_xla/xla/stream_executor/cuda/cuda_executor.cc:887] could not open file to read NUMA node: /sys/bus/pci/devices/0000:1c:00.0/numa_node\n",
      "Your kernel may have been built without NUMA support.\n",
      "2024-02-04 16:03:01.679877: I external/local_xla/xla/stream_executor/cuda/cuda_executor.cc:887] could not open file to read NUMA node: /sys/bus/pci/devices/0000:1c:00.0/numa_node\n",
      "Your kernel may have been built without NUMA support.\n",
      "2024-02-04 16:03:03.207833: I external/local_xla/xla/stream_executor/cuda/cuda_executor.cc:887] could not open file to read NUMA node: /sys/bus/pci/devices/0000:1c:00.0/numa_node\n",
      "Your kernel may have been built without NUMA support.\n",
      "2024-02-04 16:03:03.207930: I external/local_xla/xla/stream_executor/cuda/cuda_executor.cc:887] could not open file to read NUMA node: /sys/bus/pci/devices/0000:1c:00.0/numa_node\n",
      "Your kernel may have been built without NUMA support.\n",
      "2024-02-04 16:03:03.207942: I tensorflow/core/common_runtime/gpu/gpu_device.cc:2022] Could not identify NUMA node of platform GPU id 0, defaulting to 0.  Your kernel may not have been built with NUMA support.\n",
      "2024-02-04 16:03:03.208009: I external/local_xla/xla/stream_executor/cuda/cuda_executor.cc:887] could not open file to read NUMA node: /sys/bus/pci/devices/0000:1c:00.0/numa_node\n",
      "Your kernel may have been built without NUMA support.\n",
      "2024-02-04 16:03:03.208037: I tensorflow/core/common_runtime/gpu/gpu_device.cc:1929] Created device /job:localhost/replica:0/task:0/device:GPU:0 with 4575 MB memory:  -> device: 0, name: NVIDIA GeForce GTX 1060 6GB, pci bus id: 0000:1c:00.0, compute capability: 6.1\n",
      "2024-02-04 16:03:03.209962: W external/local_tsl/tsl/framework/cpu_allocator_impl.cc:83] Allocation of 1181106432 exceeds 10% of free system memory.\n",
      "2024-02-04 16:03:03.767279: W external/local_tsl/tsl/framework/cpu_allocator_impl.cc:83] Allocation of 1181106432 exceeds 10% of free system memory.\n"
     ]
    },
    {
     "name": "stdout",
     "output_type": "stream",
     "text": [
      "(TensorSpec(shape=(None, 44, 9), dtype=tf.float64, name=None), {'EW_Node_Location_nb': TensorSpec(shape=(None,), dtype=tf.float32, name=None)})\n",
      "Model: \"model\"\n",
      "_________________________________________________________________\n",
      " Layer (type)                Output Shape              Param #   \n",
      "=================================================================\n",
      " Input (InputLayer)          [(None, 44, 9)]           0         \n",
      "                                                                 \n",
      " conv1d (Conv1D)             (None, 36, 32)            2624      \n",
      "                                                                 \n",
      " activation (Activation)     (None, 36, 32)            0         \n",
      "                                                                 \n",
      " dropout (Dropout)           (None, 36, 32)            0         \n",
      "                                                                 \n",
      " conv1d_1 (Conv1D)           (None, 31, 32)            6176      \n",
      "                                                                 \n",
      " activation_1 (Activation)   (None, 31, 32)            0         \n",
      "                                                                 \n",
      " dropout_1 (Dropout)         (None, 31, 32)            0         \n",
      "                                                                 \n",
      " conv1d_2 (Conv1D)           (None, 29, 32)            3104      \n",
      "                                                                 \n",
      " activation_2 (Activation)   (None, 29, 32)            0         \n",
      "                                                                 \n",
      " dropout_2 (Dropout)         (None, 29, 32)            0         \n",
      "                                                                 \n",
      " flatten (Flatten)           (None, 928)               0         \n",
      "                                                                 \n",
      " dense (Dense)               (None, 32)                29728     \n",
      "                                                                 \n",
      " dropout_3 (Dropout)         (None, 32)                0         \n",
      "                                                                 \n",
      " dense_1 (Dense)             (None, 16)                528       \n",
      "                                                                 \n",
      " dropout_4 (Dropout)         (None, 16)                0         \n",
      "                                                                 \n",
      " EW_Node_Location_nb (Dense  (None, 1)                 17        \n",
      " )                                                               \n",
      "                                                                 \n",
      "=================================================================\n",
      "Total params: 42177 (164.75 KB)\n",
      "Trainable params: 42177 (164.75 KB)\n",
      "Non-trainable params: 0 (0.00 Byte)\n",
      "_________________________________________________________________\n",
      "Starting training. Optimizing \"val_accuracy\"\n"
     ]
    },
    {
     "name": "stderr",
     "output_type": "stream",
     "text": [
      "2024-02-04 16:03:08.863424: W external/local_tsl/tsl/framework/cpu_allocator_impl.cc:83] Allocation of 1181106432 exceeds 10% of free system memory.\n"
     ]
    },
    {
     "name": "stdout",
     "output_type": "stream",
     "text": [
      "Epoch 1/35\n"
     ]
    },
    {
     "name": "stderr",
     "output_type": "stream",
     "text": [
      "2024-02-04 16:03:11.403212: I external/local_xla/xla/stream_executor/cuda/cuda_dnn.cc:454] Loaded cuDNN version 8904\n",
      "2024-02-04 16:03:12.858210: I external/local_xla/xla/service/service.cc:168] XLA service 0xa18c2d50 initialized for platform CUDA (this does not guarantee that XLA will be used). Devices:\n",
      "2024-02-04 16:03:12.858264: I external/local_xla/xla/service/service.cc:176]   StreamExecutor device (0): NVIDIA GeForce GTX 1060 6GB, Compute Capability 6.1\n",
      "2024-02-04 16:03:12.865075: I tensorflow/compiler/mlir/tensorflow/utils/dump_mlir_util.cc:269] disabling MLIR crash reproducer, set env var `MLIR_CRASH_REPRODUCER_DIRECTORY` to enable.\n",
      "WARNING: All log messages before absl::InitializeLog() is called are written to STDERR\n",
      "I0000 00:00:1707058992.965062   15943 device_compiler.h:186] Compiled cluster using XLA!  This line is logged at most once for the lifetime of the process.\n"
     ]
    },
    {
     "name": "stdout",
     "output_type": "stream",
     "text": [
      "729/729 [==============================] - 15s 13ms/step - loss: 79.5879 - mse: 79.5879 - mae: 2.6386 - val_loss: 56.6283 - val_mse: 56.6283 - val_mae: 1.9768\n",
      "Epoch 2/35\n",
      "729/729 [==============================] - 9s 12ms/step - loss: 50.1090 - mse: 50.1090 - mae: 1.8483 - val_loss: 42.6707 - val_mse: 42.6707 - val_mae: 1.6779\n",
      "Epoch 3/35\n",
      "729/729 [==============================] - 8s 11ms/step - loss: 41.5846 - mse: 41.5846 - mae: 1.6368 - val_loss: 37.8849 - val_mse: 37.8849 - val_mae: 1.4369\n",
      "Epoch 4/35\n",
      "729/729 [==============================] - 9s 12ms/step - loss: 36.7668 - mse: 36.7668 - mae: 1.4866 - val_loss: 34.1370 - val_mse: 34.1370 - val_mae: 1.2750\n",
      "Epoch 5/35\n",
      "729/729 [==============================] - 9s 12ms/step - loss: 34.3754 - mse: 34.3754 - mae: 1.4089 - val_loss: 32.5113 - val_mse: 32.5113 - val_mae: 1.2511\n",
      "Epoch 6/35\n",
      "729/729 [==============================] - 9s 12ms/step - loss: 32.8161 - mse: 32.8161 - mae: 1.3827 - val_loss: 31.3319 - val_mse: 31.3319 - val_mae: 1.2145\n",
      "Epoch 7/35\n",
      "729/729 [==============================] - 9s 12ms/step - loss: 32.1856 - mse: 32.1856 - mae: 1.3442 - val_loss: 30.5853 - val_mse: 30.5853 - val_mae: 1.1697\n",
      "Epoch 8/35\n",
      "729/729 [==============================] - 8s 12ms/step - loss: 29.9802 - mse: 29.9802 - mae: 1.2742 - val_loss: 29.6359 - val_mse: 29.6359 - val_mae: 1.1805\n",
      "Epoch 9/35\n",
      "729/729 [==============================] - 9s 12ms/step - loss: 29.1440 - mse: 29.1440 - mae: 1.2650 - val_loss: 29.3300 - val_mse: 29.3300 - val_mae: 1.1320\n",
      "Epoch 10/35\n",
      "729/729 [==============================] - 9s 12ms/step - loss: 27.9275 - mse: 27.9275 - mae: 1.2217 - val_loss: 28.7417 - val_mse: 28.7417 - val_mae: 1.1559\n",
      "Epoch 11/35\n",
      "729/729 [==============================] - 8s 12ms/step - loss: 26.4074 - mse: 26.4074 - mae: 1.1779 - val_loss: 27.6060 - val_mse: 27.6060 - val_mae: 1.0980\n",
      "Epoch 12/35\n",
      "729/729 [==============================] - 8s 11ms/step - loss: 24.7425 - mse: 24.7425 - mae: 1.1294 - val_loss: 26.6836 - val_mse: 26.6836 - val_mae: 1.0757\n",
      "Epoch 13/35\n",
      "729/729 [==============================] - 9s 12ms/step - loss: 23.8965 - mse: 23.8965 - mae: 1.1065 - val_loss: 26.3067 - val_mse: 26.3067 - val_mae: 1.0445\n",
      "Epoch 14/35\n",
      "729/729 [==============================] - 10s 13ms/step - loss: 22.9044 - mse: 22.9044 - mae: 1.0612 - val_loss: 25.8781 - val_mse: 25.8781 - val_mae: 1.0243\n",
      "Epoch 15/35\n",
      "729/729 [==============================] - 11s 15ms/step - loss: 22.3609 - mse: 22.3609 - mae: 1.0383 - val_loss: 26.0925 - val_mse: 26.0925 - val_mae: 1.0154\n",
      "Epoch 16/35\n",
      "729/729 [==============================] - 9s 12ms/step - loss: 23.1409 - mse: 23.1409 - mae: 1.0636 - val_loss: 25.8375 - val_mse: 25.8375 - val_mae: 0.9702\n",
      "Epoch 17/35\n",
      "729/729 [==============================] - 9s 12ms/step - loss: 21.5957 - mse: 21.5957 - mae: 1.0143 - val_loss: 24.5125 - val_mse: 24.5125 - val_mae: 0.9320\n",
      "Epoch 18/35\n",
      "729/729 [==============================] - 8s 11ms/step - loss: 20.3413 - mse: 20.3413 - mae: 0.9722 - val_loss: 24.2826 - val_mse: 24.2826 - val_mae: 0.9195\n",
      "Epoch 19/35\n",
      "729/729 [==============================] - 9s 12ms/step - loss: 19.8033 - mse: 19.8033 - mae: 0.9523 - val_loss: 24.5753 - val_mse: 24.5753 - val_mae: 0.9443\n",
      "Epoch 20/35\n",
      "729/729 [==============================] - 8s 11ms/step - loss: 19.2528 - mse: 19.2528 - mae: 0.9384 - val_loss: 24.4193 - val_mse: 24.4193 - val_mae: 0.9161\n",
      "Epoch 21/35\n",
      "729/729 [==============================] - 8s 11ms/step - loss: 19.2478 - mse: 19.2478 - mae: 0.9297 - val_loss: 23.9582 - val_mse: 23.9582 - val_mae: 0.8798\n",
      "Epoch 22/35\n",
      "729/729 [==============================] - 9s 12ms/step - loss: 18.8294 - mse: 18.8294 - mae: 0.9216 - val_loss: 24.0387 - val_mse: 24.0387 - val_mae: 0.9318\n",
      "Epoch 23/35\n",
      "729/729 [==============================] - 8s 12ms/step - loss: 18.0739 - mse: 18.0739 - mae: 0.9152 - val_loss: 23.2716 - val_mse: 23.2716 - val_mae: 0.8747\n",
      "Epoch 24/35\n",
      "729/729 [==============================] - 8s 12ms/step - loss: 17.6758 - mse: 17.6758 - mae: 0.8971 - val_loss: 23.4487 - val_mse: 23.4487 - val_mae: 0.8919\n",
      "Epoch 25/35\n",
      "729/729 [==============================] - 8s 11ms/step - loss: 17.0110 - mse: 17.0110 - mae: 0.8716 - val_loss: 22.9679 - val_mse: 22.9679 - val_mae: 0.8760\n",
      "Epoch 26/35\n",
      "729/729 [==============================] - 9s 12ms/step - loss: 16.3044 - mse: 16.3044 - mae: 0.8513 - val_loss: 22.9668 - val_mse: 22.9668 - val_mae: 0.8587\n",
      "Epoch 27/35\n",
      "729/729 [==============================] - 9s 12ms/step - loss: 16.0796 - mse: 16.0796 - mae: 0.8416 - val_loss: 22.8004 - val_mse: 22.8004 - val_mae: 0.8687\n",
      "Epoch 28/35\n",
      "729/729 [==============================] - 9s 12ms/step - loss: 16.2391 - mse: 16.2391 - mae: 0.8496 - val_loss: 22.6449 - val_mse: 22.6449 - val_mae: 0.8610\n",
      "Epoch 29/35\n",
      "729/729 [==============================] - 9s 13ms/step - loss: 15.7049 - mse: 15.7049 - mae: 0.8389 - val_loss: 22.5156 - val_mse: 22.5156 - val_mae: 0.8577\n",
      "Epoch 30/35\n",
      "729/729 [==============================] - 9s 12ms/step - loss: 15.4746 - mse: 15.4746 - mae: 0.8178 - val_loss: 22.2452 - val_mse: 22.2452 - val_mae: 0.8422\n",
      "Epoch 31/35\n",
      "729/729 [==============================] - 8s 11ms/step - loss: 15.3960 - mse: 15.3960 - mae: 0.8242 - val_loss: 21.9727 - val_mse: 21.9727 - val_mae: 0.8655\n",
      "Epoch 32/35\n",
      "729/729 [==============================] - 8s 11ms/step - loss: 15.4201 - mse: 15.4201 - mae: 0.8134 - val_loss: 21.5768 - val_mse: 21.5768 - val_mae: 0.8264\n",
      "Epoch 33/35\n",
      "729/729 [==============================] - 8s 12ms/step - loss: 14.7718 - mse: 14.7718 - mae: 0.7926 - val_loss: 21.4994 - val_mse: 21.4994 - val_mae: 0.8165\n",
      "Epoch 34/35\n",
      "729/729 [==============================] - 9s 12ms/step - loss: 14.7722 - mse: 14.7722 - mae: 0.7811 - val_loss: 20.9715 - val_mse: 20.9715 - val_mae: 0.8043\n",
      "Epoch 35/35\n",
      "729/729 [==============================] - 9s 12ms/step - loss: 14.0293 - mse: 14.0293 - mae: 0.7602 - val_loss: 20.4979 - val_mse: 20.4979 - val_mae: 0.7856\n",
      "Finished training after 35 epochs.\n",
      "Evaluating model:\n",
      "729/729 [==============================] - 4s 6ms/step - loss: 16.7434 - mse: 16.7434 - mae: 0.6997\n",
      "183/183 [==============================] - 1s 6ms/step - loss: 20.4979 - mse: 20.4979 - mae: 0.7856\n"
     ]
    },
    {
     "name": "stderr",
     "output_type": "stream",
     "text": [
      "/home/david/Code/splid-challenge/base/prediction_models.py:84: UserWarning: FigureCanvasAgg is non-interactive, and thus cannot be shown\n",
      "  fig.show()\n"
     ]
    },
    {
     "data": {
      "image/png": "[encoded data removed]",
      "text/plain": [
       "<Figure size 600x300 with 2 Axes>"
      ]
     },
     "metadata": {},
     "output_type": "display_data"
    }
   ],
   "source": [
    "train_ew, val_ew = ds_gen_ew.get_datasets(512,\n",
    "                                          label_features=['EW_Node_Location_nb'],\n",
    "                                          shuffle=True,\n",
    "                                          stride=1,\n",
    "                                          keep_label_stride=8)\n",
    "print(train_ew.element_spec)\n",
    "\n",
    "model_ew = prediction_models.Dense_NN_regression(val_ew,\n",
    "                                                 conv1d_layers=[[32,9],[32,6],[32,3]], \n",
    "                                                 dense_layers=[32,16],\n",
    "                                                 l2_reg=0.000,\n",
    "                                                 mixed_dropout_dense=0.25,\n",
    "                                                 mixed_dropout_cnn=0.2,\n",
    "                                                 lr_scheduler=[0.001,7500,0.9],\n",
    "                                                 final_activation='linear',\n",
    "                                                 seed=0)\n",
    "\n",
    "model_ew.summary()\n",
    "# TODO: seed and dropout have a very strong impact on wether the model is able to learn at all\n",
    "hist = model_ew.fit(train_ew, val_ds=val_ew, epochs=35, verbose=1, plot_hist=True, callbacks=[])\n"
   ]
  },
  {
   "cell_type": "code",
   "execution_count": 5,
   "metadata": {},
   "outputs": [
    {
     "name": "stderr",
     "output_type": "stream",
     "text": [
      "2024-02-04 15:09:02.341969: I external/local_xla/xla/stream_executor/cuda/cuda_executor.cc:887] could not open file to read NUMA node: /sys/bus/pci/devices/0000:1c:00.0/numa_node\n",
      "Your kernel may have been built without NUMA support.\n",
      "2024-02-04 15:09:02.366745: I external/local_xla/xla/stream_executor/cuda/cuda_executor.cc:887] could not open file to read NUMA node: /sys/bus/pci/devices/0000:1c:00.0/numa_node\n",
      "Your kernel may have been built without NUMA support.\n",
      "2024-02-04 15:09:02.366838: I external/local_xla/xla/stream_executor/cuda/cuda_executor.cc:887] could not open file to read NUMA node: /sys/bus/pci/devices/0000:1c:00.0/numa_node\n",
      "Your kernel may have been built without NUMA support.\n",
      "2024-02-04 15:09:02.369422: I external/local_xla/xla/stream_executor/cuda/cuda_executor.cc:887] could not open file to read NUMA node: /sys/bus/pci/devices/0000:1c:00.0/numa_node\n",
      "Your kernel may have been built without NUMA support.\n",
      "2024-02-04 15:09:02.369628: I external/local_xla/xla/stream_executor/cuda/cuda_executor.cc:887] could not open file to read NUMA node: /sys/bus/pci/devices/0000:1c:00.0/numa_node\n",
      "Your kernel may have been built without NUMA support.\n",
      "2024-02-04 15:09:02.369712: I external/local_xla/xla/stream_executor/cuda/cuda_executor.cc:887] could not open file to read NUMA node: /sys/bus/pci/devices/0000:1c:00.0/numa_node\n",
      "Your kernel may have been built without NUMA support.\n",
      "2024-02-04 15:09:03.824484: I external/local_xla/xla/stream_executor/cuda/cuda_executor.cc:887] could not open file to read NUMA node: /sys/bus/pci/devices/0000:1c:00.0/numa_node\n",
      "Your kernel may have been built without NUMA support.\n",
      "2024-02-04 15:09:03.824565: I external/local_xla/xla/stream_executor/cuda/cuda_executor.cc:887] could not open file to read NUMA node: /sys/bus/pci/devices/0000:1c:00.0/numa_node\n",
      "Your kernel may have been built without NUMA support.\n",
      "2024-02-04 15:09:03.824575: I tensorflow/core/common_runtime/gpu/gpu_device.cc:2022] Could not identify NUMA node of platform GPU id 0, defaulting to 0.  Your kernel may not have been built with NUMA support.\n",
      "2024-02-04 15:09:03.824638: I external/local_xla/xla/stream_executor/cuda/cuda_executor.cc:887] could not open file to read NUMA node: /sys/bus/pci/devices/0000:1c:00.0/numa_node\n",
      "Your kernel may have been built without NUMA support.\n",
      "2024-02-04 15:09:03.824659: I tensorflow/core/common_runtime/gpu/gpu_device.cc:1929] Created device /job:localhost/replica:0/task:0/device:GPU:0 with 4575 MB memory:  -> device: 0, name: NVIDIA GeForce GTX 1060 6GB, pci bus id: 0000:1c:00.0, compute capability: 6.1\n"
     ]
    },
    {
     "name": "stdout",
     "output_type": "stream",
     "text": [
      "(TensorSpec(shape=(None, 22, 9), dtype=tf.float64, name=None), {'NS_Node_Location_nb': TensorSpec(shape=(None,), dtype=tf.int32, name=None)})\n",
      "Model: \"model\"\n",
      "_________________________________________________________________\n",
      " Layer (type)                Output Shape              Param #   \n",
      "=================================================================\n",
      " Input (InputLayer)          [(None, 22, 9)]           0         \n",
      "                                                                 \n",
      " conv1d (Conv1D)             (None, 17, 32)            1760      \n",
      "                                                                 \n",
      " activation (Activation)     (None, 17, 32)            0         \n",
      "                                                                 \n",
      " dropout (Dropout)           (None, 17, 32)            0         \n",
      "                                                                 \n",
      " conv1d_1 (Conv1D)           (None, 12, 32)            6176      \n",
      "                                                                 \n",
      " activation_1 (Activation)   (None, 12, 32)            0         \n",
      "                                                                 \n",
      " dropout_1 (Dropout)         (None, 12, 32)            0         \n",
      "                                                                 \n",
      " flatten (Flatten)           (None, 384)               0         \n",
      "                                                                 \n",
      " dense (Dense)               (None, 32)                12320     \n",
      "                                                                 \n",
      " dropout_2 (Dropout)         (None, 32)                0         \n",
      "                                                                 \n",
      " dense_1 (Dense)             (None, 16)                528       \n",
      "                                                                 \n",
      " dropout_3 (Dropout)         (None, 16)                0         \n",
      "                                                                 \n",
      " NS_Node_Location_nb (Dense  (None, 1)                 17        \n",
      " )                                                               \n",
      "                                                                 \n",
      "=================================================================\n",
      "Total params: 20801 (81.25 KB)\n",
      "Trainable params: 20801 (81.25 KB)\n",
      "Non-trainable params: 0 (0.00 Byte)\n",
      "_________________________________________________________________\n",
      "Starting training. Optimizing \"val_accuracy\"\n",
      "Epoch 1/40\n"
     ]
    },
    {
     "name": "stderr",
     "output_type": "stream",
     "text": [
      "2024-02-04 15:09:11.330728: I external/local_xla/xla/stream_executor/cuda/cuda_dnn.cc:454] Loaded cuDNN version 8904\n",
      "2024-02-04 15:09:12.721804: I external/local_xla/xla/service/service.cc:168] XLA service 0x7fadac01ac70 initialized for platform CUDA (this does not guarantee that XLA will be used). Devices:\n",
      "2024-02-04 15:09:12.721854: I external/local_xla/xla/service/service.cc:176]   StreamExecutor device (0): NVIDIA GeForce GTX 1060 6GB, Compute Capability 6.1\n",
      "2024-02-04 15:09:12.729356: I tensorflow/compiler/mlir/tensorflow/utils/dump_mlir_util.cc:269] disabling MLIR crash reproducer, set env var `MLIR_CRASH_REPRODUCER_DIRECTORY` to enable.\n",
      "WARNING: All log messages before absl::InitializeLog() is called are written to STDERR\n",
      "I0000 00:00:1707055752.835048   96938 device_compiler.h:186] Compiled cluster using XLA!  This line is logged at most once for the lifetime of the process.\n"
     ]
    },
    {
     "name": "stdout",
     "output_type": "stream",
     "text": [
      "718/718 [==============================] - 15s 13ms/step - loss: 96.1624 - mse: 96.1624 - mae: 3.0446 - val_loss: 81.8442 - val_mse: 81.8442 - val_mae: 3.1634\n",
      "Epoch 2/40\n",
      "718/718 [==============================] - 7s 10ms/step - loss: 72.3671 - mse: 72.3671 - mae: 2.2499 - val_loss: 72.4639 - val_mse: 72.4639 - val_mae: 2.5551\n",
      "Epoch 3/40\n",
      "718/718 [==============================] - 7s 10ms/step - loss: 66.6139 - mse: 66.6139 - mae: 2.0927 - val_loss: 68.2699 - val_mse: 68.2699 - val_mae: 2.1160\n",
      "Epoch 4/40\n",
      "718/718 [==============================] - 7s 10ms/step - loss: 62.4774 - mse: 62.4774 - mae: 2.0406 - val_loss: 64.7594 - val_mse: 64.7594 - val_mae: 1.8726\n",
      "Epoch 5/40\n",
      "718/718 [==============================] - 8s 11ms/step - loss: 59.5677 - mse: 59.5677 - mae: 1.9831 - val_loss: 62.0954 - val_mse: 62.0954 - val_mae: 1.7519\n",
      "Epoch 6/40\n",
      "718/718 [==============================] - 8s 11ms/step - loss: 57.1655 - mse: 57.1655 - mae: 1.9160 - val_loss: 60.7002 - val_mse: 60.7002 - val_mae: 1.6614\n",
      "Epoch 7/40\n",
      "718/718 [==============================] - 8s 11ms/step - loss: 55.3268 - mse: 55.3268 - mae: 1.8798 - val_loss: 59.8333 - val_mse: 59.8333 - val_mae: 1.6270\n",
      "Epoch 8/40\n",
      "718/718 [==============================] - 7s 10ms/step - loss: 53.7109 - mse: 53.7109 - mae: 1.8355 - val_loss: 59.3911 - val_mse: 59.3911 - val_mae: 1.6098\n",
      "Epoch 9/40\n",
      "718/718 [==============================] - 8s 11ms/step - loss: 52.2451 - mse: 52.2451 - mae: 1.8129 - val_loss: 59.0116 - val_mse: 59.0116 - val_mae: 1.6046\n",
      "Epoch 10/40\n",
      "718/718 [==============================] - 7s 10ms/step - loss: 50.8375 - mse: 50.8375 - mae: 1.7549 - val_loss: 58.6931 - val_mse: 58.6931 - val_mae: 1.5671\n",
      "Epoch 11/40\n",
      "718/718 [==============================] - 8s 11ms/step - loss: 49.8128 - mse: 49.8128 - mae: 1.7374 - val_loss: 59.3955 - val_mse: 59.3955 - val_mae: 1.5497\n",
      "Epoch 12/40\n",
      "718/718 [==============================] - 8s 11ms/step - loss: 48.3951 - mse: 48.3951 - mae: 1.6988 - val_loss: 58.4078 - val_mse: 58.4078 - val_mae: 1.5615\n",
      "Epoch 13/40\n",
      "718/718 [==============================] - 24s 34ms/step - loss: 47.4414 - mse: 47.4414 - mae: 1.6769 - val_loss: 58.2316 - val_mse: 58.2316 - val_mae: 1.5788\n",
      "Epoch 14/40\n",
      "718/718 [==============================] - 8s 11ms/step - loss: 46.6090 - mse: 46.6090 - mae: 1.6668 - val_loss: 57.5753 - val_mse: 57.5753 - val_mae: 1.5550\n",
      "Epoch 15/40\n",
      "718/718 [==============================] - 8s 11ms/step - loss: 45.6731 - mse: 45.6731 - mae: 1.6371 - val_loss: 57.1064 - val_mse: 57.1064 - val_mae: 1.5498\n",
      "Epoch 16/40\n",
      "718/718 [==============================] - 7s 10ms/step - loss: 44.9893 - mse: 44.9893 - mae: 1.6184 - val_loss: 56.7760 - val_mse: 56.7760 - val_mae: 1.5350\n",
      "Epoch 17/40\n",
      "718/718 [==============================] - 7s 9ms/step - loss: 44.2302 - mse: 44.2302 - mae: 1.5911 - val_loss: 56.7069 - val_mse: 56.7069 - val_mae: 1.5609\n",
      "Epoch 18/40\n",
      "718/718 [==============================] - 7s 9ms/step - loss: 43.6311 - mse: 43.6311 - mae: 1.5803 - val_loss: 56.9845 - val_mse: 56.9845 - val_mae: 1.5836\n",
      "Epoch 19/40\n",
      "718/718 [==============================] - 7s 9ms/step - loss: 42.8199 - mse: 42.8199 - mae: 1.5481 - val_loss: 57.1847 - val_mse: 57.1847 - val_mae: 1.6431\n",
      "Epoch 20/40\n",
      "718/718 [==============================] - 7s 9ms/step - loss: 42.5882 - mse: 42.5882 - mae: 1.5462 - val_loss: 56.7037 - val_mse: 56.7037 - val_mae: 1.6109\n",
      "Epoch 21/40\n",
      "718/718 [==============================] - 6s 9ms/step - loss: 41.8737 - mse: 41.8737 - mae: 1.5119 - val_loss: 55.0553 - val_mse: 55.0553 - val_mae: 1.5072\n",
      "Epoch 22/40\n",
      "718/718 [==============================] - 7s 10ms/step - loss: 41.5001 - mse: 41.5001 - mae: 1.5037 - val_loss: 55.1375 - val_mse: 55.1375 - val_mae: 1.5130\n",
      "Epoch 23/40\n",
      "718/718 [==============================] - 7s 10ms/step - loss: 40.8946 - mse: 40.8946 - mae: 1.4875 - val_loss: 54.1857 - val_mse: 54.1857 - val_mae: 1.4787\n",
      "Epoch 24/40\n",
      "718/718 [==============================] - 7s 9ms/step - loss: 40.2632 - mse: 40.2632 - mae: 1.4730 - val_loss: 53.8816 - val_mse: 53.8816 - val_mae: 1.4800\n",
      "Epoch 25/40\n",
      "718/718 [==============================] - 7s 10ms/step - loss: 39.7950 - mse: 39.7950 - mae: 1.4559 - val_loss: 54.2337 - val_mse: 54.2337 - val_mae: 1.5182\n",
      "Epoch 26/40\n",
      "718/718 [==============================] - 7s 10ms/step - loss: 39.5091 - mse: 39.5091 - mae: 1.4464 - val_loss: 53.5409 - val_mse: 53.5409 - val_mae: 1.4730\n",
      "Epoch 27/40\n",
      "718/718 [==============================] - 7s 10ms/step - loss: 38.7967 - mse: 38.7967 - mae: 1.4349 - val_loss: 53.2957 - val_mse: 53.2957 - val_mae: 1.4580\n",
      "Epoch 28/40\n",
      "718/718 [==============================] - 7s 10ms/step - loss: 38.5367 - mse: 38.5367 - mae: 1.4272 - val_loss: 53.0021 - val_mse: 53.0021 - val_mae: 1.4520\n",
      "Epoch 29/40\n",
      "718/718 [==============================] - 7s 10ms/step - loss: 38.1986 - mse: 38.1986 - mae: 1.4138 - val_loss: 53.6070 - val_mse: 53.6070 - val_mae: 1.4325\n",
      "Epoch 30/40\n",
      "718/718 [==============================] - 7s 10ms/step - loss: 37.4772 - mse: 37.4772 - mae: 1.3899 - val_loss: 53.4416 - val_mse: 53.4416 - val_mae: 1.4293\n",
      "Epoch 31/40\n",
      "718/718 [==============================] - 7s 10ms/step - loss: 37.0411 - mse: 37.0411 - mae: 1.3789 - val_loss: 53.3034 - val_mse: 53.3034 - val_mae: 1.4131\n",
      "Epoch 32/40\n",
      "718/718 [==============================] - 7s 10ms/step - loss: 36.9101 - mse: 36.9101 - mae: 1.3754 - val_loss: 52.9175 - val_mse: 52.9175 - val_mae: 1.4011\n",
      "Epoch 33/40\n",
      "718/718 [==============================] - 7s 10ms/step - loss: 36.1007 - mse: 36.1007 - mae: 1.3545 - val_loss: 52.1450 - val_mse: 52.1450 - val_mae: 1.3869\n",
      "Epoch 34/40\n",
      "718/718 [==============================] - 7s 10ms/step - loss: 35.8749 - mse: 35.8749 - mae: 1.3499 - val_loss: 52.1700 - val_mse: 52.1700 - val_mae: 1.3917\n",
      "Epoch 35/40\n",
      "718/718 [==============================] - 7s 10ms/step - loss: 35.2454 - mse: 35.2454 - mae: 1.3320 - val_loss: 51.7708 - val_mse: 51.7708 - val_mae: 1.3785\n",
      "Epoch 36/40\n",
      "718/718 [==============================] - 7s 10ms/step - loss: 35.1497 - mse: 35.1497 - mae: 1.3289 - val_loss: 52.2516 - val_mse: 52.2516 - val_mae: 1.3935\n",
      "Epoch 37/40\n",
      "718/718 [==============================] - 7s 10ms/step - loss: 34.8530 - mse: 34.8530 - mae: 1.3231 - val_loss: 51.6387 - val_mse: 51.6387 - val_mae: 1.3715\n",
      "Epoch 38/40\n",
      "718/718 [==============================] - 7s 10ms/step - loss: 34.4477 - mse: 34.4477 - mae: 1.3104 - val_loss: 51.5342 - val_mse: 51.5342 - val_mae: 1.3720\n",
      "Epoch 39/40\n",
      "718/718 [==============================] - 7s 10ms/step - loss: 34.4896 - mse: 34.4896 - mae: 1.3147 - val_loss: 51.0501 - val_mse: 51.0501 - val_mae: 1.3806\n",
      "Epoch 40/40\n",
      "718/718 [==============================] - 7s 10ms/step - loss: 33.9537 - mse: 33.9537 - mae: 1.2916 - val_loss: 51.4815 - val_mse: 51.4815 - val_mae: 1.3696\n",
      "Finished training after 40 epochs.\n",
      "Evaluating model:\n",
      "718/718 [==============================] - 4s 6ms/step - loss: 42.7958 - mse: 42.7958 - mae: 1.2318\n",
      "180/180 [==============================] - 1s 6ms/step - loss: 51.4816 - mse: 51.4816 - mae: 1.3696\n"
     ]
    },
    {
     "name": "stderr",
     "output_type": "stream",
     "text": [
      "/home/david/Code/splid-challenge/base/prediction_models.py:84: UserWarning: FigureCanvasAgg is non-interactive, and thus cannot be shown\n",
      "  fig.show()\n"
     ]
    },
    {
     "data": {
      "image/png": "[encoded data removed]",
      "text/plain": [
       "<Figure size 600x300 with 2 Axes>"
      ]
     },
     "metadata": {},
     "output_type": "display_data"
    }
   ],
   "source": [
    "train_ns, val_ns = ds_gen_ns.get_datasets(512,\n",
    "                                          label_features=['NS_Node_Location_nb'],\n",
    "                                          shuffle=True,\n",
    "                                          stride=1,\n",
    "                                          keep_label_stride=8)\n",
    "print(train_ns.element_spec)\n",
    "\n",
    "model_ns = prediction_models.Dense_NN_regression(val_ns, \n",
    "                                                 conv1d_layers=[[32,6],[32,6]], \n",
    "                                                 dense_layers=[32,16],\n",
    "                                                 l2_reg=0.0, \n",
    "                                                 mixed_dropout_dense=0.25,\n",
    "                                                 mixed_dropout_cnn=0.2,\n",
    "                                                 lr_scheduler=[0.001,7500,0.9],\n",
    "                                                 final_activation='linear',\n",
    "                                                 seed=0)\n",
    "\n",
    "model_ns.summary()\n",
    "hist = model_ns.fit(train_ns, val_ds=val_ns, epochs=40, verbose=1, plot_hist=True, callbacks=[])\n"
   ]
  },
  {
   "cell_type": "code",
   "execution_count": null,
   "metadata": {},
   "outputs": [],
   "source": [
    "train_ns, val_ns = ds_gen_ns.get_datasets(512, label_features=['NS_Node_Location_nb'], shuffle=True, stride=1)\n",
    "model_ns = prediction_models.Dense_NN_regression(val_ns, conv1d_layers=[[32,6],[32,6]], dense_layers=[16,4],\n",
    "                                                 l2_reg=0.0, mixed_dropout=0.2,\n",
    "                                                 lr_scheduler=[0.002,15000,0.9],\n",
    "                                                 final_activation='relu',\n",
    "                                                 seed=0)\n",
    "model_ns.load_model('submission/models/ns_localizer_cnn.hdf5')\n",
    "model_ns.summary()\n",
    "hist = model_ns.fit(train_ns, val_ds=val_ns, epochs=10, verbose=1, plot_hist=True, callbacks=[])"
   ]
  },
  {
   "cell_type": "code",
   "execution_count": 10,
   "metadata": {},
   "outputs": [
    {
     "name": "stdout",
     "output_type": "stream",
     "text": [
      "Starting training. Optimizing \"val_accuracy\"\n",
      "Epoch 1/10\n",
      "  1/715 [..............................] - ETA: 12s - loss: 50.7690 - mse: 50.7690 - mae: 1.1895"
     ]
    },
    {
     "name": "stdout",
     "output_type": "stream",
     "text": [
      "715/715 [==============================] - 7s 10ms/step - loss: 46.3722 - mse: 46.3722 - mae: 1.6806 - val_loss: 54.1683 - val_mse: 54.1683 - val_mae: 1.7771\n",
      "Epoch 2/10\n",
      "715/715 [==============================] - 7s 9ms/step - loss: 45.6383 - mse: 45.6383 - mae: 1.6664 - val_loss: 54.3597 - val_mse: 54.3597 - val_mae: 1.8099\n",
      "Epoch 3/10\n",
      "715/715 [==============================] - 7s 9ms/step - loss: 45.5111 - mse: 45.5111 - mae: 1.6614 - val_loss: 54.3226 - val_mse: 54.3226 - val_mae: 1.8086\n",
      "Epoch 4/10\n",
      "715/715 [==============================] - 7s 9ms/step - loss: 45.3528 - mse: 45.3528 - mae: 1.6580 - val_loss: 54.3298 - val_mse: 54.3298 - val_mae: 1.8084\n",
      "Epoch 5/10\n",
      "715/715 [==============================] - 7s 10ms/step - loss: 44.9777 - mse: 44.9777 - mae: 1.6475 - val_loss: 54.0860 - val_mse: 54.0860 - val_mae: 1.7931\n",
      "Epoch 6/10\n",
      "715/715 [==============================] - 7s 10ms/step - loss: 44.8075 - mse: 44.8075 - mae: 1.6441 - val_loss: 53.9927 - val_mse: 53.9927 - val_mae: 1.7917\n",
      "Epoch 7/10\n",
      "715/715 [==============================] - 7s 9ms/step - loss: 44.8085 - mse: 44.8085 - mae: 1.6405 - val_loss: 53.3682 - val_mse: 53.3682 - val_mae: 1.7778\n",
      "Epoch 8/10\n",
      "715/715 [==============================] - 7s 9ms/step - loss: 44.5424 - mse: 44.5424 - mae: 1.6311 - val_loss: 53.6824 - val_mse: 53.6824 - val_mae: 1.7656\n",
      "Epoch 9/10\n",
      "715/715 [==============================] - 7s 9ms/step - loss: 44.2166 - mse: 44.2166 - mae: 1.6209 - val_loss: 53.4789 - val_mse: 53.4789 - val_mae: 1.7328\n",
      "Epoch 10/10\n",
      "715/715 [==============================] - 7s 9ms/step - loss: 43.7393 - mse: 43.7393 - mae: 1.6104 - val_loss: 53.4490 - val_mse: 53.4490 - val_mae: 1.7682\n",
      "Finished training after 10 epochs.\n",
      "Evaluating model:\n",
      "715/715 [==============================] - 3s 5ms/step - loss: 48.4482 - mse: 48.4482 - mae: 1.7096\n",
      "179/179 [==============================] - 1s 5ms/step - loss: 53.4490 - mse: 53.4490 - mae: 1.7682\n"
     ]
    },
    {
     "data": {
      "image/png": "[encoded data removed]",
      "text/plain": [
       "<Figure size 600x300 with 2 Axes>"
      ]
     },
     "metadata": {},
     "output_type": "display_data"
    }
   ],
   "source": [
    "hist = model_ns.fit(train_ns, val_ds=val_ns, epochs=10, verbose=1, plot_hist=True, callbacks=[])"
   ]
  },
  {
   "cell_type": "code",
   "execution_count": 11,
   "metadata": {},
   "outputs": [
    {
     "name": "stdout",
     "output_type": "stream",
     "text": [
      "Starting training. Optimizing \"val_accuracy\"\n",
      "Epoch 1/5\n",
      "   1/1411 [..............................] - ETA: 32s - loss: 0.0127 - mse: 0.0127 - mae: 0.1125"
     ]
    },
    {
     "name": "stdout",
     "output_type": "stream",
     "text": [
      "1411/1411 [==============================] - 15s 10ms/step - loss: 20.3237 - mse: 20.3237 - mae: 0.6714 - val_loss: 23.2648 - val_mse: 23.2648 - val_mae: 0.6354\n",
      "Epoch 2/5\n",
      "1411/1411 [==============================] - 14s 10ms/step - loss: 19.9003 - mse: 19.9003 - mae: 0.6595 - val_loss: 22.8426 - val_mse: 22.8426 - val_mae: 0.6169\n",
      "Epoch 3/5\n",
      "1411/1411 [==============================] - 14s 10ms/step - loss: 19.9255 - mse: 19.9255 - mae: 0.6599 - val_loss: 22.8697 - val_mse: 22.8697 - val_mae: 0.6286\n",
      "Epoch 4/5\n",
      "1411/1411 [==============================] - 15s 10ms/step - loss: 19.3411 - mse: 19.3411 - mae: 0.6456 - val_loss: 22.4880 - val_mse: 22.4880 - val_mae: 0.6147\n",
      "Epoch 5/5\n",
      "1411/1411 [==============================] - 16s 11ms/step - loss: 19.2365 - mse: 19.2365 - mae: 0.6408 - val_loss: 22.5079 - val_mse: 22.5079 - val_mae: 0.6193\n",
      "Finished training after 5 epochs.\n",
      "Evaluating model:\n",
      "1411/1411 [==============================] - 8s 6ms/step - loss: 22.9547 - mse: 22.9547 - mae: 0.6106\n",
      "353/353 [==============================] - 2s 5ms/step - loss: 22.5079 - mse: 22.5079 - mae: 0.6193\n"
     ]
    },
    {
     "name": "stderr",
     "output_type": "stream",
     "text": [
      "/home/david/Code/splid-challenge/base/prediction_models.py:84: UserWarning: FigureCanvasAgg is non-interactive, and thus cannot be shown\n",
      "  fig.show()\n"
     ]
    },
    {
     "data": {
      "image/png": "[encoded data removed]",
      "text/plain": [
       "<Figure size 600x300 with 2 Axes>"
      ]
     },
     "metadata": {},
     "output_type": "display_data"
    }
   ],
   "source": [
    "hist = model_ew.fit(train_ew, val_ds=val_ew, epochs=5, verbose=1, plot_hist=True, callbacks=[])"
   ]
  },
  {
   "cell_type": "code",
   "execution_count": 23,
   "metadata": {},
   "outputs": [
    {
     "name": "stderr",
     "output_type": "stream",
     "text": [
      "/home/david/miniconda3/envs/splid-gpu/lib/python3.10/site-packages/keras/src/engine/training.py:3103: UserWarning: You are saving your model as an HDF5 file via `model.save()`. This file format is considered legacy. We recommend using instead the native Keras format, e.g. `model.save('my_model.keras')`.\n",
      "  saving_api.save_model(\n"
     ]
    }
   ],
   "source": [
    "model_ew.model.save('submission/models/ew_localizer_cnn.hdf5')\n",
    "#pickle.dump(ds_gen_ew.scaler, open('submission/models/EW_localizer_scaler_cnn.pkl', 'wb'))"
   ]
  },
  {
   "cell_type": "code",
   "execution_count": 14,
   "metadata": {},
   "outputs": [
    {
     "name": "stdout",
     "output_type": "stream",
     "text": [
      "<tf.Variable 'current_learning_rate:0' shape=() dtype=float32, numpy=0.0045>\n"
     ]
    }
   ],
   "source": [
    "print(model_ns.model.optimizer.learning_rate)"
   ]
  },
  {
   "cell_type": "code",
   "execution_count": null,
   "metadata": {},
   "outputs": [],
   "source": [
    "train_ns, val_ns = ds_gen_ns.get_datasets(512, label_features=['NS_Node_Location'], shuffle=True, stride=1)\n",
    "\n",
    "model_ns = prediction_models.Dense_NN(train_ns, conv1d_layers=[], dense_layers=[256, 128,64,32], l2_reg=0.0, mixed_dropout=0.0, lr_scheduler=[], seed=0)\n",
    "train_ns = train_ns.map(lambda x,y:(x,y['NS_Node_Location']))\n",
    "val_ns = val_ns.map(lambda x,y:(x,y['NS_Node_Location'])) # temporary fix to allow class weights\n",
    "\n",
    "model_ns.summary()\n",
    "hist = model_ns.fit(train_ns, val_ds=val_ns, epochs=20, verbose=1, plot_hist=False, class_weight={0: 0.5, 1: 20.0}, callbacks=[])\n",
    "model_ns.model.save('models/ns_localizer.hdf5')\n",
    "\n",
    "model_ns.plot_hist(hist, [k for k in hist.history.keys() if 'loss' in k])\n",
    "model_ns.plot_hist(hist, [k for k in hist.history.keys() if 'accuracy' in k])"
   ]
  },
  {
   "cell_type": "code",
   "execution_count": 12,
   "metadata": {},
   "outputs": [],
   "source": [
    "model_ew = tf.keras.models.load_model('/home/david/Code/splid-challenge/wandb/run-20240112_140537-85ahbucq/files\\model_85ahbucq.hdf5')\n"
   ]
  },
  {
   "cell_type": "code",
   "execution_count": null,
   "metadata": {},
   "outputs": [],
   "source": [
    "model_ew = tf.keras.models.load_model('submission/models/ew_localizer_cnn.hdf5')\n"
   ]
  },
  {
   "cell_type": "code",
   "execution_count": 15,
   "metadata": {},
   "outputs": [
    {
     "name": "stdout",
     "output_type": "stream",
     "text": [
      "326/326 [==============================] - 1s 3ms/step\n",
      "(10425, 2)\n",
      "(10425, 1)\n"
     ]
    }
   ],
   "source": [
    "object_limit = 5\n",
    "direction = 'EW'\n",
    "\n",
    "preds_df = localizer.create_prediction_df(ds_gen=ds_gen_ew,\n",
    "                                model=model_ew,\n",
    "                                train=False,\n",
    "                                test=False,\n",
    "                                output_dirs=[direction],\n",
    "                                object_limit=object_limit,\n",
    "                                prediction_batches=1,\n",
    "                                verbose=1)"
   ]
  },
  {
   "cell_type": "code",
   "execution_count": 21,
   "metadata": {},
   "outputs": [
    {
     "name": "stdout",
     "output_type": "stream",
     "text": [
      "[0, 1, 2]\n",
      "[1, 2, 3]\n",
      "[2, 3, 4]\n"
     ]
    }
   ],
   "source": [
    "tmp = list(range(10))\n",
    "n_batches = 3\n",
    "batch_size = int(len(tmp)/n_batches)\n",
    "for batch in range(n_batches):\n",
    "    print(tmp[batch*batch_size:batch+batch_size])"
   ]
  },
  {
   "cell_type": "code",
   "execution_count": null,
   "metadata": {},
   "outputs": [
    {
     "name": "stdout",
     "output_type": "stream",
     "text": [
      "Evaluator ignoring classifications\n",
      "Precision: 0.86\n",
      "Recall: 0.86\n",
      "F2: 0.86\n",
      "RMSE: 1.227\n",
      "TP: 303 FP: 51 FN: 48\n"
     ]
    }
   ],
   "source": [
    "subm_df = localizer.postprocess_predictions(preds_df=preds_df,\n",
    "                                            dirs=[direction],\n",
    "                                            threshold=50.0,\n",
    "                                            add_initial_node=True,\n",
    "                                            clean_consecutives=True)\n",
    "\n",
    "evaluator, sub_df = localizer.evaluate_localizer(subm_df=subm_df,\n",
    "                                                 gt_path=challenge_data_dir / 'train_labels.csv',\n",
    "                                                 object_ids=list(map(int, ds_gen_ew.val_keys))[:object_limit],\n",
    "                                                 dirs=[direction],\n",
    "                                                 with_initial_node=False,\n",
    "                                                 return_scores=False,\n",
    "                                                 verbose=1)\n",
    "\n",
    "# EW after 40 epochs:\n",
    "# 50: TP: 599 FP: 71 FN: 58\n",
    "# 55: TP: 596 FP: 54 FN: 61\n",
    "# 60: TP: 593 FP: 44 FN: 64\n",
    "# 65: TP: 588 FP: 33 FN: 69\n",
    "\n",
    "# NS after 45 epochs:\n",
    "# TODO: for NS, ID nodes are clearly the most difficult\n",
    "# 50: TP: 264 FP: 136 FN: 151\n",
    "# 55: TP: 258 FP: 103 FN: 157\n",
    "# 60: TP: 248 FP: 76 FN: 167\n",
    "# 65: TP: 234 FP: 63 FN: 181\n"
   ]
  },
  {
   "cell_type": "code",
   "execution_count": null,
   "metadata": {},
   "outputs": [],
   "source": [
    "localizer.plot_prediction_curve(ds_gen=ds_gen_ew,\n",
    "                                model=model_ew,\n",
    "                                label_features=['EW_Node_Location_nb'],\n",
    "                                object_ids=ds_gen_ew.val_keys[10:20],\n",
    "                                zoom=True)"
   ]
  }
 ],
 "metadata": {
  "kernelspec": {
   "display_name": "splid",
   "language": "python",
   "name": "python3"
  },
  "language_info": {
   "codemirror_mode": {
    "name": "ipython",
    "version": 3
   },
   "file_extension": ".py",
   "mimetype": "text/x-python",
   "name": "python",
   "nbconvert_exporter": "python",
   "pygments_lexer": "ipython3",
   "version": "3.10.13"
  }
 },
 "nbformat": 4,
 "nbformat_minor": 2
}
