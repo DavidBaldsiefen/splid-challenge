{
 "cells": [
  {
   "cell_type": "code",
   "execution_count": 1,
   "metadata": {},
   "outputs": [
    {
     "name": "stderr",
     "output_type": "stream",
     "text": [
      "2024-01-29 12:44:48.665563: E external/local_xla/xla/stream_executor/cuda/cuda_dnn.cc:9261] Unable to register cuDNN factory: Attempting to register factory for plugin cuDNN when one has already been registered\n",
      "2024-01-29 12:44:48.665627: E external/local_xla/xla/stream_executor/cuda/cuda_fft.cc:607] Unable to register cuFFT factory: Attempting to register factory for plugin cuFFT when one has already been registered\n",
      "2024-01-29 12:44:48.666465: E external/local_xla/xla/stream_executor/cuda/cuda_blas.cc:1515] Unable to register cuBLAS factory: Attempting to register factory for plugin cuBLAS when one has already been registered\n",
      "2024-01-29 12:44:48.673154: I tensorflow/core/platform/cpu_feature_guard.cc:182] This TensorFlow binary is optimized to use available CPU instructions in performance-critical operations.\n",
      "To enable the following instructions: AVX2 FMA, in other operations, rebuild TensorFlow with the appropriate compiler flags.\n",
      "2024-01-29 12:44:49.611227: W tensorflow/compiler/tf2tensorrt/utils/py_utils.cc:38] TF-TRT Warning: Could not find TensorRT\n"
     ]
    }
   ],
   "source": [
    "import pandas as pd\n",
    "import numpy as np\n",
    "import pickle\n",
    "from pathlib import Path\n",
    "import tensorflow as tf\n",
    "\n",
    "%load_ext autoreload\n",
    "%autoreload 2\n",
    "from base import datahandler, prediction_models, evaluation, utils\n"
   ]
  },
  {
   "cell_type": "code",
   "execution_count": 2,
   "metadata": {},
   "outputs": [],
   "source": [
    "# model_ew = tf.keras.models.load_model('/home/david/Code/splid-challenge/wandb/run-20240112_140537-85ahbucq/files\\model_85ahbucq.hdf5')\n",
    "# model_ew.save('models/ew_localizer.hdf5')\n"
   ]
  },
  {
   "cell_type": "code",
   "execution_count": 3,
   "metadata": {},
   "outputs": [],
   "source": [
    "# Define the directory paths\n",
    "challenge_data_dir = Path('dataset/phase_1_v2/')\n",
    "data_dir = challenge_data_dir / \"train\"\n",
    "labels_dir = challenge_data_dir / 'train_labels.csv'\n",
    "\n",
    "split_dataframes = datahandler.load_and_prepare_dataframes(data_dir, labels_dir)\n",
    "\n",
    "some_dataframes = {df_k : split_dataframes[df_k] for df_k in list(split_dataframes.keys())[:40]}"
   ]
  },
  {
   "cell_type": "code",
   "execution_count": 4,
   "metadata": {},
   "outputs": [
    {
     "name": "stdout",
     "output_type": "stream",
     "text": [
      "=========================Creating Generator=======================\n",
      "Seed: 69\n",
      "nTrain: 1520 nVal: 380 (0.80)\n",
      "Padding: none\n",
      "Scaling: True \n",
      "Horizons: 12-12 @ stride 1\n",
      "Sin-Transformed features: []\n",
      "Padding node locations in non-binary fashion ([20.0, 40.0, 60.0, 80.0, 120.0, 80.0, 60.0, 40.0, 20.0])\n",
      "=========================Finished Generator=======================\n"
     ]
    }
   ],
   "source": [
    "input_features = ['Eccentricity', 'Semimajor Axis (m)', 'Inclination (deg)', 'RAAN (deg)',\n",
    "       'Argument of Periapsis (deg)', 'True Anomaly (deg)', 'Latitude (deg)',\n",
    "       'Longitude (deg)', 'Altitude (m)', 'X (m)', 'Y (m)', 'Z (m)',\n",
    "       'Vx (m/s)', 'Vy (m/s)', 'Vz (m/s)']\n",
    "\n",
    "input_features_reduced = ['Eccentricity', 'Semimajor Axis (m)', 'Inclination (deg)', 'RAAN (deg)',\n",
    "       'Argument of Periapsis (deg)', 'True Anomaly (deg)', 'Latitude (deg)',\n",
    "       'Longitude (deg)', 'Altitude (m)']\n",
    "\n",
    "ew_input_features = ['Eccentricity', 'Semimajor Axis (m)', 'Argument of Periapsis (deg)', 'Longitude (deg)', 'Altitude (m)']\n",
    "#ew_input_features = ['Eccentricity', 'Longitude (deg)', 'Latitude (deg)']\n",
    "\n",
    "ns_input_features = ['Eccentricity', 'Semimajor Axis (m)', 'RAAN (deg)', 'Inclination (deg)', 'Latitude (deg)']\n",
    "\n",
    "\n",
    "utils.set_random_seed(42)\n",
    "# ds_gen_ew = datahandler.DatasetGenerator(split_df=split_dataframes, input_features=ew_input_features,\n",
    "#                                       with_labels=True, pad_location_labels=0,\n",
    "#                                       nonbinary_padding=[120.0, 80.0, 60.0, 40.0, 20.0],\n",
    "#                                       train_val_split=0.8, input_stride=1, padding='none',\n",
    "#                                       transform_features=True,\n",
    "#                                       input_history_steps=12, input_future_steps=12, seed=69)\n",
    "\n",
    "ds_gen_ns = datahandler.DatasetGenerator(split_df=split_dataframes, input_features=ns_input_features,\n",
    "                                      with_labels=True, pad_location_labels=0,\n",
    "                                      nonbinary_padding=[120.0, 80.0, 60.0, 40.0, 20.0],\n",
    "                                      train_val_split=0.8, input_stride=1, padding='none',\n",
    "                                      transform_features=True,\n",
    "                                      input_history_steps=12, input_future_steps=12, seed=69)"
   ]
  },
  {
   "cell_type": "code",
   "execution_count": null,
   "metadata": {},
   "outputs": [],
   "source": [
    "train_ew, val_ew = ds_gen_ew.get_datasets(512, label_features=['EW_Node_Location'], shuffle=True, stride=1)\n",
    "\n",
    "print(train_ew.element_spec)\n",
    "\n",
    "#dense_model = prediction_models.Dense_NN(train_combined, conv1d_layers=[[64,32],[32,16]], dense_layers=[64,32], l2_reg=0.0001, mixed_dropout=0.1, lr_scheduler=[30000,0.8], seed=0)\n",
    "model_ew = prediction_models.Dense_NN(val_ew, conv1d_layers=[], dense_layers=[256,128,64,32], l2_reg=0.0, mixed_dropout=0.0, lr_scheduler=[], seed=0)\n",
    "#dense_model = prediction_models.CNN(train_combined, conv_layers=[[64,6],[64,3],[64,3]], l2_reg=0.001, mixed_dropout=0.15, lr_scheduler=[20000,0.8], seed=0)\n",
    "#model_ew = prediction_models.LSTM_NN(val_ew, input_dropout=0.0, mixed_dropout=0.1, lstm_layers=[128,64], dense_layers=[32,16], l2_reg=0.0001, lr_scheduler=[], seed=1)\n",
    "\n",
    "train_ew = train_ew.map(lambda x,y:(x,y['EW_Node_Location']))\n",
    "val_ew = val_ew.map(lambda x,y:(x,y['EW_Node_Location'])) # temporary fix to allow class weights\n",
    "\n",
    "model_ew.summary()\n",
    "hist = model_ew.fit(train_ew, val_ds=val_ew, epochs=20, verbose=1, plot_hist=True, \n",
    "                    class_weight={0: 1.0, 1: 2.0}, \n",
    "                    callbacks=[])\n",
    "#model_ew.model.save('models/ew_localizer.hdf5')"
   ]
  },
  {
   "cell_type": "code",
   "execution_count": null,
   "metadata": {},
   "outputs": [],
   "source": [
    "train_ew, val_ew = ds_gen_ew.get_datasets(512, label_features=['EW_Node_Location_nb'], shuffle=True, stride=1)\n",
    "# TODO: add a form of stride that keeps all the label fields?\n",
    "print(train_ew.element_spec)\n",
    "\n",
    "model_ew = prediction_models.Dense_NN_regression(val_ew, conv1d_layers=[], dense_layers=[64,32,4],\n",
    "                                                 l2_reg=0.0, mixed_dropout=0.2,\n",
    "                                                 lr_scheduler=[0.001,15000,0.9],\n",
    "                                                 final_activation='relu',\n",
    "                                                 seed=0)\n",
    "\n",
    "model_ew.summary()\n",
    "hist = model_ew.fit(train_ew, val_ds=val_ew, epochs=35, verbose=1, plot_hist=True, callbacks=[])\n"
   ]
  },
  {
   "cell_type": "code",
   "execution_count": 5,
   "metadata": {},
   "outputs": [
    {
     "name": "stderr",
     "output_type": "stream",
     "text": [
      "2024-01-29 11:03:42.419533: I external/local_xla/xla/stream_executor/cuda/cuda_executor.cc:887] could not open file to read NUMA node: /sys/bus/pci/devices/0000:1c:00.0/numa_node\n",
      "Your kernel may have been built without NUMA support.\n",
      "2024-01-29 11:03:42.446703: I external/local_xla/xla/stream_executor/cuda/cuda_executor.cc:887] could not open file to read NUMA node: /sys/bus/pci/devices/0000:1c:00.0/numa_node\n",
      "Your kernel may have been built without NUMA support.\n",
      "2024-01-29 11:03:42.446775: I external/local_xla/xla/stream_executor/cuda/cuda_executor.cc:887] could not open file to read NUMA node: /sys/bus/pci/devices/0000:1c:00.0/numa_node\n",
      "Your kernel may have been built without NUMA support.\n",
      "2024-01-29 11:03:42.449798: I external/local_xla/xla/stream_executor/cuda/cuda_executor.cc:887] could not open file to read NUMA node: /sys/bus/pci/devices/0000:1c:00.0/numa_node\n",
      "Your kernel may have been built without NUMA support.\n",
      "2024-01-29 11:03:42.449917: I external/local_xla/xla/stream_executor/cuda/cuda_executor.cc:887] could not open file to read NUMA node: /sys/bus/pci/devices/0000:1c:00.0/numa_node\n",
      "Your kernel may have been built without NUMA support.\n",
      "2024-01-29 11:03:42.449987: I external/local_xla/xla/stream_executor/cuda/cuda_executor.cc:887] could not open file to read NUMA node: /sys/bus/pci/devices/0000:1c:00.0/numa_node\n",
      "Your kernel may have been built without NUMA support.\n",
      "2024-01-29 11:03:43.949785: I external/local_xla/xla/stream_executor/cuda/cuda_executor.cc:887] could not open file to read NUMA node: /sys/bus/pci/devices/0000:1c:00.0/numa_node\n",
      "Your kernel may have been built without NUMA support.\n",
      "2024-01-29 11:03:43.949883: I external/local_xla/xla/stream_executor/cuda/cuda_executor.cc:887] could not open file to read NUMA node: /sys/bus/pci/devices/0000:1c:00.0/numa_node\n",
      "Your kernel may have been built without NUMA support.\n",
      "2024-01-29 11:03:43.949894: I tensorflow/core/common_runtime/gpu/gpu_device.cc:2022] Could not identify NUMA node of platform GPU id 0, defaulting to 0.  Your kernel may not have been built with NUMA support.\n",
      "2024-01-29 11:03:43.949970: I external/local_xla/xla/stream_executor/cuda/cuda_executor.cc:887] could not open file to read NUMA node: /sys/bus/pci/devices/0000:1c:00.0/numa_node\n",
      "Your kernel may have been built without NUMA support.\n",
      "2024-01-29 11:03:43.950008: I tensorflow/core/common_runtime/gpu/gpu_device.cc:1929] Created device /job:localhost/replica:0/task:0/device:GPU:0 with 4575 MB memory:  -> device: 0, name: NVIDIA GeForce GTX 1060 6GB, pci bus id: 0000:1c:00.0, compute capability: 6.1\n",
      "2024-01-29 11:03:43.952764: W external/local_tsl/tsl/framework/cpu_allocator_impl.cc:83] Allocation of 3137272320 exceeds 10% of free system memory.\n",
      "2024-01-29 11:03:45.590062: W external/local_tsl/tsl/framework/cpu_allocator_impl.cc:83] Allocation of 3137272320 exceeds 10% of free system memory.\n",
      "2024-01-29 11:03:47.372485: W external/local_tsl/tsl/framework/cpu_allocator_impl.cc:83] Allocation of 784289280 exceeds 10% of free system memory.\n",
      "2024-01-29 11:03:47.601379: W external/local_tsl/tsl/framework/cpu_allocator_impl.cc:83] Allocation of 784289280 exceeds 10% of free system memory.\n"
     ]
    },
    {
     "name": "stdout",
     "output_type": "stream",
     "text": [
      "(TensorSpec(shape=(None, 24, 5), dtype=tf.float64, name=None), {'NS_Node_Location_nb': TensorSpec(shape=(None,), dtype=tf.int32, name=None)})\n",
      "Model: \"model\"\n",
      "_________________________________________________________________\n",
      " Layer (type)                Output Shape              Param #   \n",
      "=================================================================\n",
      " Input (InputLayer)          [(None, 24, 5)]           0         \n",
      "                                                                 \n",
      " flatten (Flatten)           (None, 120)               0         \n",
      "                                                                 \n",
      " dense (Dense)               (None, 64)                7744      \n",
      "                                                                 \n",
      " dropout (Dropout)           (None, 64)                0         \n",
      "                                                                 \n",
      " dense_1 (Dense)             (None, 32)                2080      \n",
      "                                                                 \n",
      " dropout_1 (Dropout)         (None, 32)                0         \n",
      "                                                                 \n",
      " dense_2 (Dense)             (None, 4)                 132       \n",
      "                                                                 \n",
      " dropout_2 (Dropout)         (None, 4)                 0         \n",
      "                                                                 \n",
      " NS_Node_Location_nb (Dense  (None, 1)                 5         \n",
      " )                                                               \n",
      "                                                                 \n",
      "=================================================================\n",
      "Total params: 9961 (38.91 KB)\n",
      "Trainable params: 9961 (38.91 KB)\n",
      "Non-trainable params: 0 (0.00 Byte)\n",
      "_________________________________________________________________\n",
      "Starting training. Optimizing \"val_accuracy\"\n"
     ]
    },
    {
     "name": "stderr",
     "output_type": "stream",
     "text": [
      "2024-01-29 11:03:49.578185: W external/local_tsl/tsl/framework/cpu_allocator_impl.cc:83] Allocation of 3137272320 exceeds 10% of free system memory.\n"
     ]
    },
    {
     "name": "stdout",
     "output_type": "stream",
     "text": [
      "Epoch 1/25\n"
     ]
    },
    {
     "name": "stderr",
     "output_type": "stream",
     "text": [
      "2024-01-29 11:03:51.661369: I external/local_xla/xla/service/service.cc:168] XLA service 0x7f20c800e3b0 initialized for platform CUDA (this does not guarantee that XLA will be used). Devices:\n",
      "2024-01-29 11:03:51.661422: I external/local_xla/xla/service/service.cc:176]   StreamExecutor device (0): NVIDIA GeForce GTX 1060 6GB, Compute Capability 6.1\n",
      "2024-01-29 11:03:51.667204: I tensorflow/compiler/mlir/tensorflow/utils/dump_mlir_util.cc:269] disabling MLIR crash reproducer, set env var `MLIR_CRASH_REPRODUCER_DIRECTORY` to enable.\n",
      "2024-01-29 11:03:52.315436: I external/local_xla/xla/stream_executor/cuda/cuda_dnn.cc:454] Loaded cuDNN version 8904\n",
      "WARNING: All log messages before absl::InitializeLog() is called are written to STDERR\n",
      "I0000 00:00:1706522632.401986   17055 device_compiler.h:186] Compiled cluster using XLA!  This line is logged at most once for the lifetime of the process.\n"
     ]
    },
    {
     "name": "stdout",
     "output_type": "stream",
     "text": [
      "6383/6383 [==============================] - 59s 9ms/step - loss: 19.5753 - mse: 19.5753 - mae: 0.5112 - val_loss: 19.0125 - val_mse: 19.0125 - val_mae: 0.5794\n",
      "Epoch 2/25\n",
      "6383/6383 [==============================] - 58s 9ms/step - loss: 18.9560 - mse: 18.9560 - mae: 0.5192 - val_loss: 19.2742 - val_mse: 19.2742 - val_mae: 0.6153\n",
      "Epoch 3/25\n",
      "6383/6383 [==============================] - 53s 8ms/step - loss: 18.8379 - mse: 18.8379 - mae: 0.5112 - val_loss: 19.1146 - val_mse: 19.1146 - val_mae: 0.5929\n",
      "Epoch 4/25\n",
      "6383/6383 [==============================] - 51s 8ms/step - loss: 18.7435 - mse: 18.7435 - mae: 0.5091 - val_loss: 19.2174 - val_mse: 19.2174 - val_mae: 0.6108\n",
      "Epoch 5/25\n",
      "6383/6383 [==============================] - 55s 9ms/step - loss: 18.6432 - mse: 18.6432 - mae: 0.5063 - val_loss: 19.3474 - val_mse: 19.3474 - val_mae: 0.6179\n",
      "Epoch 6/25\n",
      "6383/6383 [==============================] - 52s 8ms/step - loss: 18.5634 - mse: 18.5634 - mae: 0.5045 - val_loss: 19.3838 - val_mse: 19.3838 - val_mae: 0.6107\n",
      "Epoch 7/25\n",
      "6383/6383 [==============================] - 52s 8ms/step - loss: 18.4960 - mse: 18.4960 - mae: 0.5027 - val_loss: 19.3477 - val_mse: 19.3477 - val_mae: 0.5961\n",
      "Epoch 8/25\n",
      "6383/6383 [==============================] - 56s 9ms/step - loss: 18.4467 - mse: 18.4467 - mae: 0.5016 - val_loss: 19.1897 - val_mse: 19.1897 - val_mae: 0.5983\n",
      "Epoch 9/25\n",
      "6383/6383 [==============================] - 55s 9ms/step - loss: 18.4191 - mse: 18.4191 - mae: 0.5007 - val_loss: 19.4216 - val_mse: 19.4216 - val_mae: 0.5929\n",
      "Epoch 10/25\n",
      "6383/6383 [==============================] - 51s 8ms/step - loss: 18.3319 - mse: 18.3319 - mae: 0.4977 - val_loss: 18.9817 - val_mse: 18.9817 - val_mae: 0.5642\n",
      "Epoch 11/25\n",
      "6383/6383 [==============================] - 55s 9ms/step - loss: 18.2464 - mse: 18.2464 - mae: 0.4962 - val_loss: 18.9454 - val_mse: 18.9454 - val_mae: 0.5587\n",
      "Epoch 12/25\n",
      "6383/6383 [==============================] - 55s 9ms/step - loss: 18.1826 - mse: 18.1826 - mae: 0.4947 - val_loss: 19.0495 - val_mse: 19.0495 - val_mae: 0.5681\n",
      "Epoch 13/25\n",
      "6383/6383 [==============================] - 54s 8ms/step - loss: 18.1421 - mse: 18.1421 - mae: 0.4935 - val_loss: 18.8631 - val_mse: 18.8631 - val_mae: 0.5496\n",
      "Epoch 14/25\n",
      "6383/6383 [==============================] - 51s 8ms/step - loss: 18.0991 - mse: 18.0991 - mae: 0.4922 - val_loss: 18.6478 - val_mse: 18.6478 - val_mae: 0.5398\n",
      "Epoch 15/25\n",
      "6383/6383 [==============================] - 55s 9ms/step - loss: 18.0513 - mse: 18.0513 - mae: 0.4916 - val_loss: 18.7999 - val_mse: 18.7999 - val_mae: 0.5525\n",
      "Epoch 16/25\n",
      "6383/6383 [==============================] - 52s 8ms/step - loss: 17.9983 - mse: 17.9983 - mae: 0.4899 - val_loss: 18.7164 - val_mse: 18.7164 - val_mae: 0.5461\n",
      "Epoch 17/25\n",
      "6383/6383 [==============================] - 55s 9ms/step - loss: 17.9484 - mse: 17.9484 - mae: 0.4876 - val_loss: 18.6340 - val_mse: 18.6340 - val_mae: 0.5548\n",
      "Epoch 18/25\n",
      "6383/6383 [==============================] - 56s 9ms/step - loss: 17.9110 - mse: 17.9110 - mae: 0.4879 - val_loss: 18.5089 - val_mse: 18.5089 - val_mae: 0.5430\n",
      "Epoch 19/25\n",
      "6383/6383 [==============================] - 55s 9ms/step - loss: 17.8691 - mse: 17.8691 - mae: 0.4869 - val_loss: 18.5012 - val_mse: 18.5012 - val_mae: 0.5477\n",
      "Epoch 20/25\n",
      "6383/6383 [==============================] - 56s 9ms/step - loss: 17.8245 - mse: 17.8245 - mae: 0.4860 - val_loss: 18.4731 - val_mse: 18.4731 - val_mae: 0.5426\n",
      "Epoch 21/25\n",
      "6383/6383 [==============================] - 54s 8ms/step - loss: 17.8050 - mse: 17.8050 - mae: 0.4852 - val_loss: 18.4454 - val_mse: 18.4454 - val_mae: 0.5422\n",
      "Epoch 22/25\n",
      "6383/6383 [==============================] - 56s 9ms/step - loss: 17.7687 - mse: 17.7687 - mae: 0.4834 - val_loss: 18.2197 - val_mse: 18.2197 - val_mae: 0.5230\n",
      "Epoch 23/25\n",
      "6383/6383 [==============================] - 56s 9ms/step - loss: 17.7330 - mse: 17.7330 - mae: 0.4834 - val_loss: 18.2365 - val_mse: 18.2365 - val_mae: 0.5245\n",
      "Epoch 24/25\n",
      "6383/6383 [==============================] - 55s 9ms/step - loss: 17.6874 - mse: 17.6874 - mae: 0.4815 - val_loss: 18.2039 - val_mse: 18.2039 - val_mae: 0.5339\n",
      "Epoch 25/25\n",
      "6383/6383 [==============================] - 54s 8ms/step - loss: 17.6500 - mse: 17.6500 - mae: 0.4812 - val_loss: 18.0945 - val_mse: 18.0945 - val_mae: 0.5209\n",
      "Finished training after 25 epochs.\n",
      "Evaluating model:\n",
      "6383/6383 [==============================] - 30s 5ms/step - loss: 18.0296 - mse: 18.0296 - mae: 0.5206\n",
      "1596/1596 [==============================] - 8s 5ms/step - loss: 18.0945 - mse: 18.0945 - mae: 0.5209\n"
     ]
    },
    {
     "name": "stderr",
     "output_type": "stream",
     "text": [
      "/home/david/Code/splid-challenge/base/prediction_models.py:84: UserWarning: FigureCanvasAgg is non-interactive, and thus cannot be shown\n",
      "  fig.show()\n"
     ]
    },
    {
     "data": {
      "image/png": "[encoded data removed]",
      "text/plain": [
       "<Figure size 600x300 with 2 Axes>"
      ]
     },
     "metadata": {},
     "output_type": "display_data"
    }
   ],
   "source": [
    "train_ns, val_ns = ds_gen_ns.get_datasets(512, label_features=['NS_Node_Location_nb'], shuffle=True, stride=1)\n",
    "# TODO: add a form of stride that keeps all the label fields?\n",
    "print(train_ns.element_spec)\n",
    "\n",
    "model_ns = prediction_models.Dense_NN_regression(val_ns, conv1d_layers=[], dense_layers=[64,32,4],\n",
    "                                                 l2_reg=0.0, mixed_dropout=0.2,\n",
    "                                                 lr_scheduler=[0.001,15000,0.9],\n",
    "                                                 final_activation='relu',\n",
    "                                                 seed=0)\n",
    "\n",
    "model_ns.summary()\n",
    "hist = model_ns.fit(train_ns, val_ds=val_ns, epochs=25, verbose=1, plot_hist=True, callbacks=[])\n"
   ]
  },
  {
   "cell_type": "code",
   "execution_count": 4,
   "metadata": {},
   "outputs": [
    {
     "name": "stderr",
     "output_type": "stream",
     "text": [
      "2024-01-29 12:22:29.631230: I external/local_xla/xla/stream_executor/cuda/cuda_executor.cc:887] could not open file to read NUMA node: /sys/bus/pci/devices/0000:1c:00.0/numa_node\n",
      "Your kernel may have been built without NUMA support.\n",
      "2024-01-29 12:22:29.657314: I external/local_xla/xla/stream_executor/cuda/cuda_executor.cc:887] could not open file to read NUMA node: /sys/bus/pci/devices/0000:1c:00.0/numa_node\n",
      "Your kernel may have been built without NUMA support.\n",
      "2024-01-29 12:22:29.657387: I external/local_xla/xla/stream_executor/cuda/cuda_executor.cc:887] could not open file to read NUMA node: /sys/bus/pci/devices/0000:1c:00.0/numa_node\n",
      "Your kernel may have been built without NUMA support.\n",
      "2024-01-29 12:22:29.660380: I external/local_xla/xla/stream_executor/cuda/cuda_executor.cc:887] could not open file to read NUMA node: /sys/bus/pci/devices/0000:1c:00.0/numa_node\n",
      "Your kernel may have been built without NUMA support.\n",
      "2024-01-29 12:22:29.660462: I external/local_xla/xla/stream_executor/cuda/cuda_executor.cc:887] could not open file to read NUMA node: /sys/bus/pci/devices/0000:1c:00.0/numa_node\n",
      "Your kernel may have been built without NUMA support.\n",
      "2024-01-29 12:22:29.660520: I external/local_xla/xla/stream_executor/cuda/cuda_executor.cc:887] could not open file to read NUMA node: /sys/bus/pci/devices/0000:1c:00.0/numa_node\n",
      "Your kernel may have been built without NUMA support.\n",
      "2024-01-29 12:22:30.998862: I external/local_xla/xla/stream_executor/cuda/cuda_executor.cc:887] could not open file to read NUMA node: /sys/bus/pci/devices/0000:1c:00.0/numa_node\n",
      "Your kernel may have been built without NUMA support.\n",
      "2024-01-29 12:22:30.998950: I external/local_xla/xla/stream_executor/cuda/cuda_executor.cc:887] could not open file to read NUMA node: /sys/bus/pci/devices/0000:1c:00.0/numa_node\n",
      "Your kernel may have been built without NUMA support.\n",
      "2024-01-29 12:22:30.998960: I tensorflow/core/common_runtime/gpu/gpu_device.cc:2022] Could not identify NUMA node of platform GPU id 0, defaulting to 0.  Your kernel may not have been built with NUMA support.\n",
      "2024-01-29 12:22:30.999022: I external/local_xla/xla/stream_executor/cuda/cuda_executor.cc:887] could not open file to read NUMA node: /sys/bus/pci/devices/0000:1c:00.0/numa_node\n",
      "Your kernel may have been built without NUMA support.\n",
      "2024-01-29 12:22:30.999060: I tensorflow/core/common_runtime/gpu/gpu_device.cc:1929] Created device /job:localhost/replica:0/task:0/device:GPU:0 with 4575 MB memory:  -> device: 0, name: NVIDIA GeForce GTX 1060 6GB, pci bus id: 0000:1c:00.0, compute capability: 6.1\n",
      "2024-01-29 12:22:31.001713: W external/local_tsl/tsl/framework/cpu_allocator_impl.cc:83] Allocation of 3137272320 exceeds 10% of free system memory.\n",
      "2024-01-29 12:22:32.694584: W external/local_tsl/tsl/framework/cpu_allocator_impl.cc:83] Allocation of 3137272320 exceeds 10% of free system memory.\n"
     ]
    },
    {
     "name": "stdout",
     "output_type": "stream",
     "text": [
      "Model: \"model\"\n",
      "_________________________________________________________________\n",
      " Layer (type)                Output Shape              Param #   \n",
      "=================================================================\n",
      " Input (InputLayer)          [(None, 24, 5)]           0         \n",
      "                                                                 \n",
      " flatten (Flatten)           (None, 120)               0         \n",
      "                                                                 \n",
      " dense (Dense)               (None, 64)                7744      \n",
      "                                                                 \n",
      " dropout (Dropout)           (None, 64)                0         \n",
      "                                                                 \n",
      " dense_1 (Dense)             (None, 32)                2080      \n",
      "                                                                 \n",
      " dropout_1 (Dropout)         (None, 32)                0         \n",
      "                                                                 \n",
      " dense_2 (Dense)             (None, 4)                 132       \n",
      "                                                                 \n",
      " dropout_2 (Dropout)         (None, 4)                 0         \n",
      "                                                                 \n",
      " NS_Node_Location_nb (Dense  (None, 1)                 5         \n",
      " )                                                               \n",
      "                                                                 \n",
      "=================================================================\n",
      "Total params: 9961 (38.91 KB)\n",
      "Trainable params: 9961 (38.91 KB)\n",
      "Non-trainable params: 0 (0.00 Byte)\n",
      "_________________________________________________________________\n",
      "Starting training. Optimizing \"val_accuracy\"\n"
     ]
    },
    {
     "name": "stderr",
     "output_type": "stream",
     "text": [
      "2024-01-29 12:22:36.798935: W external/local_tsl/tsl/framework/cpu_allocator_impl.cc:83] Allocation of 3137272320 exceeds 10% of free system memory.\n"
     ]
    },
    {
     "name": "stdout",
     "output_type": "stream",
     "text": [
      "Epoch 1/10\n"
     ]
    },
    {
     "name": "stderr",
     "output_type": "stream",
     "text": [
      "2024-01-29 12:22:38.833847: I external/local_xla/xla/service/service.cc:168] XLA service 0x7f766c016e90 initialized for platform CUDA (this does not guarantee that XLA will be used). Devices:\n",
      "2024-01-29 12:22:38.833899: I external/local_xla/xla/service/service.cc:176]   StreamExecutor device (0): NVIDIA GeForce GTX 1060 6GB, Compute Capability 6.1\n",
      "2024-01-29 12:22:38.842051: I tensorflow/compiler/mlir/tensorflow/utils/dump_mlir_util.cc:269] disabling MLIR crash reproducer, set env var `MLIR_CRASH_REPRODUCER_DIRECTORY` to enable.\n",
      "2024-01-29 12:22:39.564739: I external/local_xla/xla/stream_executor/cuda/cuda_dnn.cc:454] Loaded cuDNN version 8904\n",
      "WARNING: All log messages before absl::InitializeLog() is called are written to STDERR\n",
      "I0000 00:00:1706527359.660638   31548 device_compiler.h:186] Compiled cluster using XLA!  This line is logged at most once for the lifetime of the process.\n"
     ]
    },
    {
     "name": "stdout",
     "output_type": "stream",
     "text": [
      "6383/6383 [==============================] - 60s 9ms/step - loss: 17.6143 - mse: 17.6143 - mae: 0.4805 - val_loss: 18.0822 - val_mse: 18.0822 - val_mae: 0.5253\n",
      "Epoch 2/10\n",
      "6383/6383 [==============================] - 60s 9ms/step - loss: 17.5846 - mse: 17.5846 - mae: 0.4794 - val_loss: 18.0977 - val_mse: 18.0977 - val_mae: 0.5295\n",
      "Epoch 3/10\n",
      "6383/6383 [==============================] - 61s 10ms/step - loss: 17.5547 - mse: 17.5547 - mae: 0.4787 - val_loss: 18.0652 - val_mse: 18.0652 - val_mae: 0.5272\n",
      "Epoch 4/10\n",
      "6383/6383 [==============================] - 60s 9ms/step - loss: 17.5241 - mse: 17.5241 - mae: 0.4778 - val_loss: 17.9282 - val_mse: 17.9282 - val_mae: 0.5199\n",
      "Epoch 5/10\n",
      "6383/6383 [==============================] - 60s 9ms/step - loss: 17.5012 - mse: 17.5012 - mae: 0.4776 - val_loss: 17.8979 - val_mse: 17.8979 - val_mae: 0.5159\n",
      "Epoch 6/10\n",
      "6383/6383 [==============================] - 60s 9ms/step - loss: 17.4736 - mse: 17.4736 - mae: 0.4763 - val_loss: 17.8759 - val_mse: 17.8759 - val_mae: 0.5174\n",
      "Epoch 7/10\n",
      "6383/6383 [==============================] - 61s 10ms/step - loss: 17.4504 - mse: 17.4504 - mae: 0.4765 - val_loss: 17.8384 - val_mse: 17.8384 - val_mae: 0.5139\n",
      "Epoch 8/10\n",
      "6383/6383 [==============================] - 59s 9ms/step - loss: 17.4314 - mse: 17.4314 - mae: 0.4760 - val_loss: 17.7908 - val_mse: 17.7908 - val_mae: 0.5133\n",
      "Epoch 9/10\n",
      "6383/6383 [==============================] - 61s 10ms/step - loss: 17.4086 - mse: 17.4086 - mae: 0.4758 - val_loss: 17.7734 - val_mse: 17.7734 - val_mae: 0.5119\n",
      "Epoch 10/10\n",
      "6383/6383 [==============================] - 60s 9ms/step - loss: 17.3903 - mse: 17.3903 - mae: 0.4751 - val_loss: 17.7600 - val_mse: 17.7600 - val_mae: 0.5108\n",
      "Finished training after 10 epochs.\n",
      "Evaluating model:\n",
      "6383/6383 [==============================] - 35s 6ms/step - loss: 17.7206 - mse: 17.7206 - mae: 0.5139\n",
      "1596/1596 [==============================] - 10s 6ms/step - loss: 17.7601 - mse: 17.7601 - mae: 0.5108\n"
     ]
    },
    {
     "name": "stderr",
     "output_type": "stream",
     "text": [
      "/home/david/Code/splid-challenge/base/prediction_models.py:84: UserWarning: FigureCanvasAgg is non-interactive, and thus cannot be shown\n",
      "  fig.show()\n"
     ]
    },
    {
     "data": {
      "image/png": "[encoded data removed]",
      "text/plain": [
       "<Figure size 600x300 with 2 Axes>"
      ]
     },
     "metadata": {},
     "output_type": "display_data"
    }
   ],
   "source": [
    "train_ns, val_ns = ds_gen_ns.get_datasets(512, label_features=['NS_Node_Location_nb'], shuffle=True, stride=1)\n",
    "model_ns = prediction_models.Dense_NN_regression(val_ns, conv1d_layers=[], dense_layers=[64,32,4],\n",
    "                                                 l2_reg=0.0, mixed_dropout=0.2,\n",
    "                                                 lr_scheduler=[0.001,15000,0.9],\n",
    "                                                 final_activation='relu',\n",
    "                                                 seed=0)\n",
    "model_ns.load_model('submission/models/ns_localizer.hdf5')\n",
    "model_ns.summary()\n",
    "hist = model_ns.fit(train_ns, val_ds=val_ns, epochs=10, verbose=1, plot_hist=True, callbacks=[])"
   ]
  },
  {
   "cell_type": "code",
   "execution_count": 6,
   "metadata": {},
   "outputs": [
    {
     "name": "stdout",
     "output_type": "stream",
     "text": [
      "Starting training. Optimizing \"val_accuracy\"\n",
      "Epoch 1/10\n",
      "6383/6383 [==============================] - 57s 9ms/step - loss: 17.3717 - mse: 17.3717 - mae: 0.4745 - val_loss: 17.6843 - val_mse: 17.6843 - val_mae: 0.5088\n",
      "Epoch 2/10\n",
      "6383/6383 [==============================] - 55s 9ms/step - loss: 17.3541 - mse: 17.3541 - mae: 0.4741 - val_loss: 17.6606 - val_mse: 17.6606 - val_mae: 0.5065\n",
      "Epoch 3/10\n",
      "6383/6383 [==============================] - 58s 9ms/step - loss: 17.3321 - mse: 17.3321 - mae: 0.4729 - val_loss: 17.6299 - val_mse: 17.6299 - val_mae: 0.5063\n",
      "Epoch 4/10\n",
      "6383/6383 [==============================] - 59s 9ms/step - loss: 17.3181 - mse: 17.3181 - mae: 0.4731 - val_loss: 17.6030 - val_mse: 17.6030 - val_mae: 0.5041\n",
      "Epoch 5/10\n",
      "6383/6383 [==============================] - 60s 9ms/step - loss: 17.3006 - mse: 17.3006 - mae: 0.4729 - val_loss: 17.5743 - val_mse: 17.5743 - val_mae: 0.5057\n",
      "Epoch 6/10\n",
      "6383/6383 [==============================] - 61s 10ms/step - loss: 17.2747 - mse: 17.2747 - mae: 0.4728 - val_loss: 17.5667 - val_mse: 17.5667 - val_mae: 0.5040\n",
      "Epoch 7/10\n",
      "6383/6383 [==============================] - 60s 9ms/step - loss: 17.2616 - mse: 17.2616 - mae: 0.4719 - val_loss: 17.5652 - val_mse: 17.5652 - val_mae: 0.5033\n",
      "Epoch 8/10\n",
      "6383/6383 [==============================] - 60s 9ms/step - loss: 17.2497 - mse: 17.2497 - mae: 0.4717 - val_loss: 17.5539 - val_mse: 17.5539 - val_mae: 0.5039\n",
      "Epoch 9/10\n",
      "6383/6383 [==============================] - 57s 9ms/step - loss: 17.2313 - mse: 17.2313 - mae: 0.4712 - val_loss: 17.5607 - val_mse: 17.5607 - val_mae: 0.5043\n",
      "Epoch 10/10\n",
      "6383/6383 [==============================] - 56s 9ms/step - loss: 17.2168 - mse: 17.2168 - mae: 0.4705 - val_loss: 17.5416 - val_mse: 17.5416 - val_mae: 0.5039\n",
      "Finished training after 10 epochs.\n",
      "Evaluating model:\n",
      "6383/6383 [==============================] - 29s 5ms/step - loss: 17.4813 - mse: 17.4813 - mae: 0.5075\n",
      "1596/1596 [==============================] - 7s 5ms/step - loss: 17.5416 - mse: 17.5416 - mae: 0.5039\n"
     ]
    },
    {
     "data": {
      "image/png": "[encoded data removed]",
      "text/plain": [
       "<Figure size 600x300 with 2 Axes>"
      ]
     },
     "metadata": {},
     "output_type": "display_data"
    }
   ],
   "source": [
    "hist = model_ns.fit(train_ns, val_ds=val_ns, epochs=10, verbose=1, plot_hist=True, callbacks=[])"
   ]
  },
  {
   "cell_type": "code",
   "execution_count": 8,
   "metadata": {},
   "outputs": [],
   "source": [
    "model_ns.model.save('submission/models/ns_localizer.hdf5')\n",
    "pickle.dump(ds_gen_ns.scaler, open('submission/models/NS_localizer_scaler.pkl', 'wb'))"
   ]
  },
  {
   "cell_type": "code",
   "execution_count": 7,
   "metadata": {},
   "outputs": [
    {
     "name": "stdout",
     "output_type": "stream",
     "text": [
      "Starting training. Optimizing \"val_accuracy\"\n",
      "Epoch 1/5\n",
      "   1/6383 [..............................] - ETA: 1:39 - loss: 0.0057 - mse: 0.0057 - mae: 0.0755"
     ]
    },
    {
     "name": "stdout",
     "output_type": "stream",
     "text": [
      "6383/6383 [==============================] - 54s 8ms/step - loss: 7.1303 - mse: 7.1303 - mae: 0.2125 - val_loss: 7.5114 - val_mse: 7.5114 - val_mae: 0.2170\n",
      "Epoch 2/5\n",
      "6383/6383 [==============================] - 51s 8ms/step - loss: 7.1238 - mse: 7.1238 - mae: 0.2122 - val_loss: 7.5023 - val_mse: 7.5023 - val_mae: 0.2171\n",
      "Epoch 3/5\n",
      "6383/6383 [==============================] - 51s 8ms/step - loss: 7.1125 - mse: 7.1125 - mae: 0.2112 - val_loss: 7.4796 - val_mse: 7.4796 - val_mae: 0.2167\n",
      "Epoch 4/5\n",
      "6383/6383 [==============================] - 50s 8ms/step - loss: 7.1057 - mse: 7.1057 - mae: 0.2112 - val_loss: 7.4752 - val_mse: 7.4752 - val_mae: 0.2168\n",
      "Epoch 5/5\n",
      "6383/6383 [==============================] - 53s 8ms/step - loss: 7.0977 - mse: 7.0977 - mae: 0.2107 - val_loss: 7.4521 - val_mse: 7.4521 - val_mae: 0.2165\n",
      "Finished training after 5 epochs.\n",
      "Evaluating model:\n",
      "6383/6383 [==============================] - 34s 5ms/step - loss: 7.2150 - mse: 7.2150 - mae: 0.2113\n",
      "1596/1596 [==============================] - 9s 5ms/step - loss: 7.4521 - mse: 7.4521 - mae: 0.2165\n"
     ]
    },
    {
     "data": {
      "image/png": "[encoded data removed]",
      "text/plain": [
       "<Figure size 600x300 with 2 Axes>"
      ]
     },
     "metadata": {},
     "output_type": "display_data"
    }
   ],
   "source": [
    "hist = model_ew.fit(train_ew, val_ds=val_ew, epochs=5, verbose=1, plot_hist=True, callbacks=[])\n"
   ]
  },
  {
   "cell_type": "code",
   "execution_count": 9,
   "metadata": {},
   "outputs": [
    {
     "name": "stdout",
     "output_type": "stream",
     "text": [
      "<tf.Variable 'current_learning_rate:0' shape=() dtype=float32, numpy=0.000109418936>\n"
     ]
    }
   ],
   "source": [
    "print(model_ew.model.optimizer.learning_rate)"
   ]
  },
  {
   "cell_type": "code",
   "execution_count": null,
   "metadata": {},
   "outputs": [],
   "source": [
    "train_ns, val_ns = ds_gen_ns.get_datasets(512, label_features=['NS_Node_Location'], shuffle=True, stride=1)\n",
    "\n",
    "model_ns = prediction_models.Dense_NN(train_ns, conv1d_layers=[], dense_layers=[256, 128,64,32], l2_reg=0.0, mixed_dropout=0.0, lr_scheduler=[], seed=0)\n",
    "train_ns = train_ns.map(lambda x,y:(x,y['NS_Node_Location']))\n",
    "val_ns = val_ns.map(lambda x,y:(x,y['NS_Node_Location'])) # temporary fix to allow class weights\n",
    "\n",
    "model_ns.summary()\n",
    "hist = model_ns.fit(train_ns, val_ds=val_ns, epochs=20, verbose=1, plot_hist=False, class_weight={0: 0.5, 1: 20.0}, callbacks=[])\n",
    "model_ns.model.save('models/ns_localizer.hdf5')\n",
    "\n",
    "model_ns.plot_hist(hist, [k for k in hist.history.keys() if 'loss' in k])\n",
    "model_ns.plot_hist(hist, [k for k in hist.history.keys() if 'accuracy' in k])"
   ]
  },
  {
   "cell_type": "code",
   "execution_count": 12,
   "metadata": {},
   "outputs": [],
   "source": [
    "#model_ew = tf.keras.models.load_model('/home/david/Code/splid-challenge/wandb/run-20240115_185433-iebvf53e/files\\model_iebvf53e.hdf5')\n",
    "#model_ew.save('models/ew_localizer.hdf5')\n",
    "\n",
    "model_ew = tf.keras.models.load_model('/home/david/Code/splid-challenge/wandb/run-20240112_140537-85ahbucq/files\\model_85ahbucq.hdf5')\n",
    "# 25 6 23"
   ]
  },
  {
   "cell_type": "code",
   "execution_count": 5,
   "metadata": {},
   "outputs": [
    {
     "name": "stderr",
     "output_type": "stream",
     "text": [
      "2024-01-29 12:45:50.340661: I external/local_xla/xla/stream_executor/cuda/cuda_executor.cc:887] could not open file to read NUMA node: /sys/bus/pci/devices/0000:1c:00.0/numa_node\n",
      "Your kernel may have been built without NUMA support.\n",
      "2024-01-29 12:45:50.359954: I external/local_xla/xla/stream_executor/cuda/cuda_executor.cc:887] could not open file to read NUMA node: /sys/bus/pci/devices/0000:1c:00.0/numa_node\n",
      "Your kernel may have been built without NUMA support.\n",
      "2024-01-29 12:45:50.360053: I external/local_xla/xla/stream_executor/cuda/cuda_executor.cc:887] could not open file to read NUMA node: /sys/bus/pci/devices/0000:1c:00.0/numa_node\n",
      "Your kernel may have been built without NUMA support.\n",
      "2024-01-29 12:45:50.361672: I external/local_xla/xla/stream_executor/cuda/cuda_executor.cc:887] could not open file to read NUMA node: /sys/bus/pci/devices/0000:1c:00.0/numa_node\n",
      "Your kernel may have been built without NUMA support.\n",
      "2024-01-29 12:45:50.361754: I external/local_xla/xla/stream_executor/cuda/cuda_executor.cc:887] could not open file to read NUMA node: /sys/bus/pci/devices/0000:1c:00.0/numa_node\n",
      "Your kernel may have been built without NUMA support.\n",
      "2024-01-29 12:45:50.361812: I external/local_xla/xla/stream_executor/cuda/cuda_executor.cc:887] could not open file to read NUMA node: /sys/bus/pci/devices/0000:1c:00.0/numa_node\n",
      "Your kernel may have been built without NUMA support.\n",
      "2024-01-29 12:45:51.706847: I external/local_xla/xla/stream_executor/cuda/cuda_executor.cc:887] could not open file to read NUMA node: /sys/bus/pci/devices/0000:1c:00.0/numa_node\n",
      "Your kernel may have been built without NUMA support.\n",
      "2024-01-29 12:45:51.706938: I external/local_xla/xla/stream_executor/cuda/cuda_executor.cc:887] could not open file to read NUMA node: /sys/bus/pci/devices/0000:1c:00.0/numa_node\n",
      "Your kernel may have been built without NUMA support.\n",
      "2024-01-29 12:45:51.706948: I tensorflow/core/common_runtime/gpu/gpu_device.cc:2022] Could not identify NUMA node of platform GPU id 0, defaulting to 0.  Your kernel may not have been built with NUMA support.\n",
      "2024-01-29 12:45:51.707011: I external/local_xla/xla/stream_executor/cuda/cuda_executor.cc:887] could not open file to read NUMA node: /sys/bus/pci/devices/0000:1c:00.0/numa_node\n",
      "Your kernel may have been built without NUMA support.\n",
      "2024-01-29 12:45:51.707041: I tensorflow/core/common_runtime/gpu/gpu_device.cc:1929] Created device /job:localhost/replica:0/task:0/device:GPU:0 with 4575 MB memory:  -> device: 0, name: NVIDIA GeForce GTX 1060 6GB, pci bus id: 0000:1c:00.0, compute capability: 6.1\n"
     ]
    }
   ],
   "source": [
    "model_ns = tf.keras.models.load_model('submission/models/ns_localizer.hdf5')\n"
   ]
  },
  {
   "cell_type": "code",
   "execution_count": 8,
   "metadata": {},
   "outputs": [],
   "source": [
    "#model_ew.model.save('submission/models/ew_localizer.hdf5')\n",
    "pickle.dump(ds_gen_ew.scaler, open('submission/models/EW_localizer_scaler.pkl', 'wb'))"
   ]
  },
  {
   "cell_type": "code",
   "execution_count": 6,
   "metadata": {},
   "outputs": [
    {
     "name": "stderr",
     "output_type": "stream",
     "text": [
      "2024-01-29 12:45:57.382649: W external/local_tsl/tsl/framework/cpu_allocator_impl.cc:83] Allocation of 3137272320 exceeds 10% of free system memory.\n",
      "2024-01-29 12:45:58.831889: W external/local_tsl/tsl/framework/cpu_allocator_impl.cc:83] Allocation of 3137272320 exceeds 10% of free system memory.\n"
     ]
    },
    {
     "name": "stdout",
     "output_type": "stream",
     "text": [
      "25531/25531 - 57s - 57s/epoch - 2ms/step\n"
     ]
    },
    {
     "name": "stderr",
     "output_type": "stream",
     "text": [
      "/home/david/Code/splid-challenge/base/evaluation.py:271: SettingWithCopyWarning: \n",
      "A value is trying to be set on a copy of a slice from a DataFrame.\n",
      "Try using .loc[row_indexer,col_indexer] = value instead\n",
      "\n",
      "See the caveats in the documentation: https://pandas.pydata.org/pandas-docs/stable/user_guide/indexing.html#returning-a-view-versus-a-copy\n",
      "  df_filtered['consecutive'] = (df_filtered['TimeIndex'] - df_filtered['TimeIndex'].shift(1) != 1).cumsum()\n"
     ]
    },
    {
     "name": "stdout",
     "output_type": "stream",
     "text": [
      "Evaluator ignoring classifications\n",
      "Precision: 0.76\n",
      "Recall: 0.15\n",
      "F2: 0.18\n",
      "RMSE: 1.276\n",
      "TP: 62 FP: 20 FN: 356\n"
     ]
    }
   ],
   "source": [
    "evaluator, result_df = evaluation.evaluate_localizer(ds_gen_ns,\n",
    "                                                    split_dataframes=split_dataframes,\n",
    "                                                    gt_path=challenge_data_dir / 'train_labels.csv',\n",
    "                                                    model=model_ns,\n",
    "                                                    train=False,\n",
    "                                                    with_initial_node=False,\n",
    "                                                    remove_consecutives=True,\n",
    "                                                    direction='NS',\n",
    "                                                    prediction_threshold=50.0,\n",
    "                                                    return_scores=False)\n",
    "# 50.0: 0.96 0.78 0.81 489 22 163\n",
    "# 25.0: 0.96 0.67 0.71 420 19 205\n",
    "# Idea: with regression approach, instead of using consecutive detection, compute local mean values, apply 2nd threshold? somtehing like that?\n"
   ]
  },
  {
   "cell_type": "code",
   "execution_count": null,
   "metadata": {},
   "outputs": [],
   "source": [
    "pickle.dump(ds_gen_ew.scaler, open('submission/models/EW_localizer_scaler.pkl', 'wb'))"
   ]
  },
  {
   "cell_type": "code",
   "execution_count": 191,
   "metadata": {},
   "outputs": [
    {
     "name": "stdout",
     "output_type": "stream",
     "text": [
      "['1', '100', '101', '102', '103', '105', '106', '107', '108', '109', '11', '110', '111', '112', '113', '117', '118', '12', '120', '122', '124', '125', '126', '127', '128', '129', '13', '130', '131', '132', '133', '134', '135', '136', '138', '14', '140', '141', '142', '143', '144', '145', '146', '147', '149', '150', '151', '152', '153', '154', '155', '156', '157', '158', '159', '16', '162', '163', '164', '165', '166', '168', '169', '17', '170', '172', '173', '174', '175', '177', '178', '179', '18', '180', '181', '182', '183', '186', '187', '188', '189', '19', '190', '191', '192', '194', '195', '196', '197', '2', '20', '200', '201', '202', '203', '204', '205', '206', '207', '208', '209', '210', '213', '214', '215', '216', '217', '218', '219', '22', '220', '223', '224', '225', '226', '228', '229', '23', '231', '232', '234', '236', '237', '239', '24', '240', '242', '243', '244', '246', '247', '248', '249', '25', '250', '27', '28', '29', '3', '31', '32', '33', '34', '35', '37', '38', '39', '4', '40', '41', '42', '43', '44', '46', '48', '49', '5', '51', '53', '54', '55', '56', '57', '58', '59', '6', '62', '63', '64', '65', '68', '69', '7', '70', '71', '72', '74', '75', '76', '77', '78', '79', '8', '80', '81', '82', '83', '85', '86', '89', '9', '90', '92', '93', '94', '95', '96', '97', '98', '99']\n"
     ]
    },
    {
     "data": {
      "image/png": "[encoded data removed]",
      "text/plain": [
       "<Figure size 1000x600 with 2 Axes>"
      ]
     },
     "metadata": {},
     "output_type": "display_data"
    }
   ],
   "source": [
    "print(ds_gen_ew.train_keys)\n",
    "evaluator.plot(122)"
   ]
  },
  {
   "cell_type": "code",
   "execution_count": 192,
   "metadata": {},
   "outputs": [
    {
     "name": "stdout",
     "output_type": "stream",
     "text": [
      "        ObjectID  TimeIndex  Location  Location_Pred  Location_Pred_Raw  \\\n",
      "207530       122        121         0              1          41.358292   \n",
      "207531       122        122         0              1          72.189095   \n",
      "207532       122        123         0              1          97.825836   \n",
      "207533       122        124         1              1         122.176582   \n",
      "207534       122        125         0              1         111.815735   \n",
      "207535       122        126         0              1          71.369972   \n",
      "207536       122        127         0              1          46.205509   \n",
      "207537       122        128         0              1          27.297628   \n",
      "207962       122        553         0              1          28.518669   \n",
      "207963       122        554         0              1          71.265884   \n",
      "207964       122        555         0              1         124.096207   \n",
      "207965       122        556         0              1         159.353317   \n",
      "207966       122        557         1              1         143.565063   \n",
      "207967       122        558         0              1          97.765785   \n",
      "207968       122        559         0              1          56.496758   \n",
      "207969       122        560         0              1          30.660849   \n",
      "208190       122        781         0              1          50.013031   \n",
      "208191       122        782         0              1          71.454117   \n",
      "208192       122        783         1              1          84.010628   \n",
      "208193       122        784         0              1          72.016022   \n",
      "208194       122        785         0              1          32.254051   \n",
      "208225       122        816         1              0           0.074569   \n",
      "\n",
      "       Direction  Node  Type  \n",
      "207530        EW  None  None  \n",
      "207531        EW  None  None  \n",
      "207532        EW  None  None  \n",
      "207533        EW  None  None  \n",
      "207534        EW  None  None  \n",
      "207535        EW  None  None  \n",
      "207536        EW  None  None  \n",
      "207537        EW  None  None  \n",
      "207962        EW  None  None  \n",
      "207963        EW  None  None  \n",
      "207964        EW  None  None  \n",
      "207965        EW  None  None  \n",
      "207966        EW  None  None  \n",
      "207967        EW  None  None  \n",
      "207968        EW  None  None  \n",
      "207969        EW  None  None  \n",
      "208190        EW  None  None  \n",
      "208191        EW  None  None  \n",
      "208192        EW  None  None  \n",
      "208193        EW  None  None  \n",
      "208194        EW  None  None  \n",
      "208225        EW  None  None  \n"
     ]
    }
   ],
   "source": [
    "print(result_df.loc[(result_df['ObjectID'] == 122) & ((result_df['Location_Pred'] == True) | (result_df['Location'] == True))])"
   ]
  },
  {
   "cell_type": "code",
   "execution_count": 195,
   "metadata": {},
   "outputs": [
    {
     "name": "stdout",
     "output_type": "stream",
     "text": [
      "        ObjectID  TimeIndex  Location  Location_Pred  Location_Pred_Raw  \\\n",
      "207519       122        110         0              0           0.074569   \n",
      "207520       122        111         0              0           0.074569   \n",
      "207521       122        112         0              0           0.074569   \n",
      "207522       122        113         0              0           0.074569   \n",
      "207523       122        114         0              0           0.074569   \n",
      "207524       122        115         0              0           0.074569   \n",
      "207525       122        116         0              0           0.074569   \n",
      "207526       122        117         0              0           0.074569   \n",
      "207527       122        118         0              0           3.679910   \n",
      "207528       122        119         0              0          10.641794   \n",
      "207529       122        120         0              0          24.258537   \n",
      "207530       122        121         0              1          41.358292   \n",
      "207531       122        122         0              1          72.189095   \n",
      "207532       122        123         0              1          97.825836   \n",
      "207533       122        124         1              1         122.176582   \n",
      "207534       122        125         0              1         111.815735   \n",
      "207535       122        126         0              1          71.369972   \n",
      "207536       122        127         0              1          46.205509   \n",
      "207537       122        128         0              1          27.297628   \n",
      "207538       122        129         0              0           8.021850   \n",
      "207539       122        130         0              0           0.074569   \n",
      "207540       122        131         0              0           0.074569   \n",
      "207541       122        132         0              0           0.074569   \n",
      "207542       122        133         0              0           0.074569   \n",
      "207543       122        134         0              0           0.074569   \n",
      "207544       122        135         0              0           0.244114   \n",
      "207545       122        136         0              0           0.074569   \n",
      "207546       122        137         0              0           0.074569   \n",
      "207547       122        138         0              0           0.074569   \n",
      "207548       122        139         0              0           0.074569   \n",
      "207549       122        140         0              0           0.074569   \n",
      "\n",
      "       Direction  Node  Type  \n",
      "207519        EW  None  None  \n",
      "207520        EW  None  None  \n",
      "207521        EW  None  None  \n",
      "207522        EW  None  None  \n",
      "207523        EW  None  None  \n",
      "207524        EW  None  None  \n",
      "207525        EW  None  None  \n",
      "207526        EW  None  None  \n",
      "207527        EW  None  None  \n",
      "207528        EW  None  None  \n",
      "207529        EW  None  None  \n",
      "207530        EW  None  None  \n",
      "207531        EW  None  None  \n",
      "207532        EW  None  None  \n",
      "207533        EW  None  None  \n",
      "207534        EW  None  None  \n",
      "207535        EW  None  None  \n",
      "207536        EW  None  None  \n",
      "207537        EW  None  None  \n",
      "207538        EW  None  None  \n",
      "207539        EW  None  None  \n",
      "207540        EW  None  None  \n",
      "207541        EW  None  None  \n",
      "207542        EW  None  None  \n",
      "207543        EW  None  None  \n",
      "207544        EW  None  None  \n",
      "207545        EW  None  None  \n",
      "207546        EW  None  None  \n",
      "207547        EW  None  None  \n",
      "207548        EW  None  None  \n",
      "207549        EW  None  None  \n"
     ]
    }
   ],
   "source": [
    "print(result_df.loc[(result_df['ObjectID'] == 122) & (result_df['TimeIndex'] >= 110) & (result_df['TimeIndex'] <= 140)])"
   ]
  },
  {
   "cell_type": "code",
   "execution_count": 20,
   "metadata": {},
   "outputs": [
    {
     "name": "stdout",
     "output_type": "stream",
     "text": [
      "    ObjectID  TimeIndex Direction Node Type\n",
      "0        121        817        EW   IK   HK\n",
      "1        121          0        EW   SS   NK\n",
      "2        121        124        EW   AD   NK\n",
      "3        121        557        EW   AD   NK\n",
      "4        121        783        EW   AD   NK\n",
      "6        122          0        EW   SS   NK\n",
      "7        122        124        EW   AD   NK\n",
      "8        122        557        EW   AD   NK\n",
      "9        122        783        EW   AD   NK\n",
      "10       122        816        EW   IK   HK\n",
      "11       123          0        EW   SS   NK\n",
      "12       123        124        EW   AD   NK\n",
      "13       123        557        EW   AD   NK\n",
      "14       123       1804        EW   AD   NK\n",
      "    ObjectID  TimeIndex Direction Node Type\n",
      "0        121          0        EW   SS   NK\n",
      "1        121        124        EW   AD   NK\n",
      "2        121        557        EW   AD   NK\n",
      "3        121        783        EW   AD   NK\n",
      "4        121        816        EW   IK   HK\n",
      "5        122          0        EW   SS   NK\n",
      "6        122        124        EW   AD   NK\n",
      "7        122        557        EW   AD   NK\n",
      "8        122        783        EW   AD   NK\n",
      "9        122        816        EW   IK   HK\n",
      "10       123          0        EW   SS   NK\n",
      "11       123        124        EW   AD   NK\n",
      "12       123        557        EW   AD   NK\n",
      "13       123       1804        EW   AD   NK\n",
      "Precision: 1.00\n",
      "Recall: 1.00\n",
      "F2: 1.00\n",
      "RMSE: 0.2673\n",
      "TP: 14 FP: 0 FN: 0\n"
     ]
    }
   ],
   "source": [
    "\n",
    "direction = 'EW'\n",
    "ground_truth_from_file = pd.read_csv(labels_dir)\n",
    "ground_truth_from_file = ground_truth_from_file[ground_truth_from_file['ObjectID'].isin([121,122,123])].copy()\n",
    "ground_truth_from_file = ground_truth_from_file[(ground_truth_from_file['Direction'] == direction)]\n",
    "ground_truth_from_file = ground_truth_from_file.sort_values(['ObjectID', 'TimeIndex']).reset_index(drop=True)\n",
    "\n",
    "mergeDf = ground_truth_from_file.copy()\n",
    "mergeDf = mergeDf.drop([4])\n",
    "mergeDf.loc[-1] = [121, 817, 'EW', 'IK', 'HK']  # adding a row\n",
    "mergeDf.index = mergeDf.index + 1  # shifting index\n",
    "mergeDf = mergeDf.sort_index()  # sorting by index\n",
    "print(mergeDf)\n",
    "print(ground_truth_from_file)\n",
    "\n",
    "evaluator = evaluation.NodeDetectionEvaluator(ground_truth_from_file, mergeDf)\n",
    "precision, recall, f2, rmse, total_tp, total_fp, total_fn = evaluator.score()\n",
    "print(f'Precision: {precision:.2f}')\n",
    "print(f'Recall: {recall:.2f}')\n",
    "print(f'F2: {f2:.2f}')\n",
    "print(f'RMSE: {rmse:.4}')\n",
    "print(f'TP: {total_tp} FP: {total_fp} FN: {total_fn}')"
   ]
  },
  {
   "cell_type": "code",
   "execution_count": null,
   "metadata": {},
   "outputs": [
    {
     "name": "stderr",
     "output_type": "stream",
     "text": [
      "2024-01-06 23:47:48.838844: W external/local_tsl/tsl/framework/cpu_allocator_impl.cc:83] Allocation of 1028534400 exceeds 10% of free system memory.\n"
     ]
    }
   ],
   "source": [
    "eval_df = evaluation.localization_eval(ds_gen, challenge_data_dir / 'train_labels.csv', dense_model.model, train=True, add_initial_node=True)"
   ]
  },
  {
   "cell_type": "code",
   "execution_count": 10,
   "metadata": {},
   "outputs": [
    {
     "name": "stdout",
     "output_type": "stream",
     "text": [
      "    ObjectID  TimeIndex  Location  Location_Pred Node Type Direction\n",
      "0        106         69         0              1   AD   NK        EW\n",
      "1        108        179         0              1   SS   NK        EW\n",
      "2        114        201         0              1   AD   NK        EW\n",
      "3        116        201         0              1   AD   NK        EW\n",
      "4        117        461         0              1   AD   NK        EW\n",
      "5        123        125         0              1   AD   NK        EW\n",
      "6        124        367         0              1   AD   NK        EW\n",
      "7        129        972         1              0   IK   CK        EW\n",
      "8        130         86         1              0   IK   CK        EW\n",
      "9        131        155         0              1   AD   NK        EW\n",
      "10       135        936         1              0   IK   CK        EW\n",
      "11       139       1009         1              0   AD   NK        EW\n",
      "12       139       1098         1              0   IK   CK        EW\n",
      "13       141        157         1              0   ID   NK        EW\n",
      "14       143        505         1              0   ID   NK        EW\n",
      "15       146       1297         1              0   ID   NK        EW\n",
      "16       151        157         1              0   ID   NK        EW\n",
      "17       152        301         1              0   ID   NK        EW\n",
      "18       157       1561         1              0   ID   NK        EW\n",
      "19       159       1837         1              0   ID   NK        EW\n",
      "20       175       1069         1              0   ID   NK        EW\n",
      "21       176       1297         1              0   ID   NK        EW\n",
      "22       177       1561         1              0   ID   NK        EW\n",
      "23       178       1717         1              0   ID   NK        EW\n",
      "24       178       1888         1              0   AD   NK        EW\n",
      "25       178       1889         0              1   AD   NK        EW\n",
      "26       181        145         1              0   ID   NK        EW\n",
      "27       181        329         0              1   AD   NK        EW\n",
      "28       183        421         1              0   ID   NK        EW\n",
      "29       185        721         1              0   ID   NK        EW\n",
      "30       185        844         0              1   AD   NK        EW\n",
      "31       188       1249         1              0   ID   NK        EW\n",
      "32       190       1609         1              0   ID   NK        EW\n",
      "33       190       1862         0              1   AD   NK        EW\n",
      "34       191        145         1              0   ID   NK        EW\n",
      "35       194        589         1              0   ID   NK        EW\n",
      "36       199       1381         1              0   ID   NK        EW\n",
      "37       206        889         1              0   ID   NK        EW\n",
      "38       206       1011         0              1   AD   NK        EW\n",
      "39       209       1381         1              0   ID   NK        EW\n",
      "40       215        721         1              0   ID   NK        EW\n",
      "41       215        912         1              0   AD   NK        EW\n",
      "42       215        930         1              0   IK   HK        EW\n",
      "43       217       1165         1              0   ID   NK        EW\n",
      "44       217       1347         0              1   AD   NK        EW\n",
      "45       217       1435         0              1   IK   HK        EW\n",
      "46       219       1381         1              0   ID   NK        EW\n",
      "47       219       1601         0              1   AD   NK        EW\n",
      "48       244        355         1              0   IK   HK        EW\n",
      "49\n",
      "181\n"
     ]
    }
   ],
   "source": [
    "false_preds = eval_df.loc[(eval_df['Location'] != eval_df['Location_Pred'])].sort_values(['ObjectID', 'TimeIndex']).reset_index(drop=True)\n",
    "print(false_preds.head(80))\n",
    "false_preds = eval_df[eval_df['Location'] != eval_df['Location_Pred']]\n",
    "print(len(false_preds))\n",
    "print(len(eval_df))"
   ]
  },
  {
   "cell_type": "code",
   "execution_count": null,
   "metadata": {},
   "outputs": [],
   "source": []
  },
  {
   "cell_type": "code",
   "execution_count": null,
   "metadata": {},
   "outputs": [],
   "source": []
  }
 ],
 "metadata": {
  "kernelspec": {
   "display_name": "splid",
   "language": "python",
   "name": "python3"
  },
  "language_info": {
   "codemirror_mode": {
    "name": "ipython",
    "version": 3
   },
   "file_extension": ".py",
   "mimetype": "text/x-python",
   "name": "python",
   "nbconvert_exporter": "python",
   "pygments_lexer": "ipython3",
   "version": "3.10.13"
  }
 },
 "nbformat": 4,
 "nbformat_minor": 2
}
