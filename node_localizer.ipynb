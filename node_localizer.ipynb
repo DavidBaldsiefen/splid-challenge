{
 "cells": [
  {
   "cell_type": "code",
   "execution_count": 1,
   "metadata": {},
   "outputs": [
    {
     "name": "stderr",
     "output_type": "stream",
     "text": [
      "2024-02-08 21:51:12.098664: E external/local_xla/xla/stream_executor/cuda/cuda_dnn.cc:9261] Unable to register cuDNN factory: Attempting to register factory for plugin cuDNN when one has already been registered\n",
      "2024-02-08 21:51:12.098720: E external/local_xla/xla/stream_executor/cuda/cuda_fft.cc:607] Unable to register cuFFT factory: Attempting to register factory for plugin cuFFT when one has already been registered\n",
      "2024-02-08 21:51:12.101137: E external/local_xla/xla/stream_executor/cuda/cuda_blas.cc:1515] Unable to register cuBLAS factory: Attempting to register factory for plugin cuBLAS when one has already been registered\n",
      "2024-02-08 21:51:12.110815: I tensorflow/core/platform/cpu_feature_guard.cc:182] This TensorFlow binary is optimized to use available CPU instructions in performance-critical operations.\n",
      "To enable the following instructions: AVX2 FMA, in other operations, rebuild TensorFlow with the appropriate compiler flags.\n",
      "2024-02-08 21:51:13.467375: W tensorflow/compiler/tf2tensorrt/utils/py_utils.cc:38] TF-TRT Warning: Could not find TensorRT\n"
     ]
    }
   ],
   "source": [
    "import pandas as pd\n",
    "import numpy as np\n",
    "import pickle\n",
    "from pathlib import Path\n",
    "import tensorflow as tf\n",
    "\n",
    "%load_ext autoreload\n",
    "%autoreload 2\n",
    "from base import datahandler, prediction_models, evaluation, utils, localizer\n"
   ]
  },
  {
   "cell_type": "code",
   "execution_count": 2,
   "metadata": {},
   "outputs": [],
   "source": [
    "# model_ew = tf.keras.models.load_model('/home/david/Code/splid-challenge/wandb/run-20240112_140537-85ahbucq/files\\model_85ahbucq.hdf5')\n",
    "# model_ew.save('models/ew_localizer.hdf5')\n"
   ]
  },
  {
   "cell_type": "code",
   "execution_count": 3,
   "metadata": {},
   "outputs": [],
   "source": [
    "# Define the directory paths\n",
    "challenge_data_dir = Path('dataset/phase_1_v2/')\n",
    "data_dir = challenge_data_dir / \"train\"\n",
    "labels_dir = challenge_data_dir / 'train_labels.csv'\n",
    "\n",
    "split_dataframes = datahandler.load_and_prepare_dataframes(data_dir, labels_dir)\n",
    "\n",
    "some_dataframes = {df_k : split_dataframes[df_k] for df_k in list(split_dataframes.keys())[:50]}"
   ]
  },
  {
   "cell_type": "code",
   "execution_count": 4,
   "metadata": {},
   "outputs": [
    {
     "name": "stdout",
     "output_type": "stream",
     "text": [
      "=========================Creating Generator=======================\n",
      "Seed: 181\n",
      "nTrain: 1520 nVal: 380 (0.80)\n",
      "Padding: none\n",
      "Scaling: True  (per-object)\n",
      "Horizons: 48-24 @ stride 2\n",
      "Sin-Transformed features: ['True Anomaly (deg)', 'Argument of Periapsis (deg)']\n",
      "Padding node locations in non-binary fashion ([24.0, 34.0, 49.0, 70.0, 100.0, 70.0, 49.0, 34.0, 24.0])\n",
      "=========================Finished Generator=======================\n"
     ]
    }
   ],
   "source": [
    "input_features = ['Eccentricity', 'Semimajor Axis (m)', 'Inclination (deg)', 'RAAN (deg)',\n",
    "       'Argument of Periapsis (deg)', 'True Anomaly (deg)', 'Latitude (deg)',\n",
    "       'Longitude (deg)', 'Altitude (m)', 'X (m)', 'Y (m)', 'Z (m)',\n",
    "       'Vx (m/s)', 'Vy (m/s)', 'Vz (m/s)']\n",
    "\n",
    "input_features_reduced = ['Eccentricity', 'Semimajor Axis (m)', 'Inclination (deg)', 'RAAN (deg)',\n",
    "       'Argument of Periapsis (deg)', 'True Anomaly (deg)', 'Latitude (deg)',\n",
    "       'Longitude (deg)', 'Altitude (m)']\n",
    "\n",
    "ew_input_features = input_features_reduced#['Eccentricity', 'Semimajor Axis (m)', 'Argument of Periapsis (deg)', 'Longitude (deg)', 'Altitude (m)']\n",
    "#ew_input_features = ['Eccentricity', 'Longitude (deg)', 'Latitude (deg)']\n",
    "\n",
    "ns_input_features = input_features_reduced#['Eccentricity', 'Semimajor Axis (m)',  'Inclination (deg)', 'Latitude (deg)', 'Longitude (deg)']\n",
    "\n",
    "\n",
    "utils.set_random_seed(42)\n",
    "ds_gen_ew = datahandler.DatasetGenerator(split_df=split_dataframes, input_features=ew_input_features,\n",
    "                                      with_labels=True, pad_location_labels=0,\n",
    "                                      nonbinary_padding=[100.0, 70.0, 49.0, 34.0, 24.0],\n",
    "                                      train_val_split=0.8,\n",
    "                                      input_stride=2,\n",
    "                                      padding='none',\n",
    "                                      transform_features=True,\n",
    "                                      scale=True,\n",
    "                                      per_object_scaling=True,\n",
    "                                      input_history_steps=48,\n",
    "                                      input_future_steps=24, seed=181)\n",
    "\n",
    "# ds_gen_ns = datahandler.DatasetGenerator(split_df=split_dataframes, input_features=ns_input_features,\n",
    "#                                       with_labels=True, pad_location_labels=0,\n",
    "#                                       nonbinary_padding=[100.0, 70.0, 49.0, 34.0, 24.0],\n",
    "#                                       train_val_split=0.8, input_stride=2, padding='none',\n",
    "#                                       transform_features=True,\n",
    "#                                       scale=True,\n",
    "#                                       per_object_scaling=True,\n",
    "#                                       input_history_steps=48, input_future_steps=24, seed=181)"
   ]
  },
  {
   "cell_type": "code",
   "execution_count": null,
   "metadata": {},
   "outputs": [],
   "source": [
    "train_ew, val_ew = ds_gen_ew.get_datasets(512, label_features=['EW_Node_Location'], shuffle=True, stride=1)\n",
    "\n",
    "print(train_ew.element_spec)\n",
    "\n",
    "#dense_model = prediction_models.Dense_NN(train_combined, conv1d_layers=[[64,32],[32,16]], dense_layers=[64,32], l2_reg=0.0001, mixed_dropout=0.1, lr_scheduler=[30000,0.8], seed=0)\n",
    "model_ew = prediction_models.Dense_NN(val_ew, conv1d_layers=[], dense_layers=[256,128,64,32], l2_reg=0.0, mixed_dropout=0.0, lr_scheduler=[], seed=0)\n",
    "#dense_model = prediction_models.CNN(train_combined, conv_layers=[[64,6],[64,3],[64,3]], l2_reg=0.001, mixed_dropout=0.15, lr_scheduler=[20000,0.8], seed=0)\n",
    "#model_ew = prediction_models.LSTM_NN(val_ew, input_dropout=0.0, mixed_dropout=0.1, lstm_layers=[128,64], dense_layers=[32,16], l2_reg=0.0001, lr_scheduler=[], seed=1)\n",
    "\n",
    "train_ew = train_ew.map(lambda x,y:(x,y['EW_Node_Location']))\n",
    "val_ew = val_ew.map(lambda x,y:(x,y['EW_Node_Location'])) # temporary fix to allow class weights\n",
    "\n",
    "model_ew.summary()\n",
    "hist = model_ew.fit(train_ew, val_ds=val_ew, epochs=20, verbose=1, plot_hist=True, \n",
    "                    class_weight={0: 1.0, 1: 2.0}, \n",
    "                    callbacks=[])\n",
    "#model_ew.model.save('models/ew_localizer.hdf5')"
   ]
  },
  {
   "cell_type": "code",
   "execution_count": 10,
   "metadata": {},
   "outputs": [
    {
     "name": "stderr",
     "output_type": "stream",
     "text": [
      "2024-02-08 22:09:11.648735: W external/local_tsl/tsl/framework/cpu_allocator_impl.cc:83] Allocation of 1699846560 exceeds 10% of free system memory.\n",
      "2024-02-08 22:09:12.223765: W external/local_tsl/tsl/framework/cpu_allocator_impl.cc:83] Allocation of 1699846560 exceeds 10% of free system memory.\n"
     ]
    },
    {
     "name": "stdout",
     "output_type": "stream",
     "text": [
      "Train-DS Cardinality: tf.Tensor(655805, shape=(), dtype=int64)\n",
      "(TensorSpec(shape=(None, 36, 9), dtype=tf.float64, name=None), {'EW_Node_Location_nb': TensorSpec(shape=(None,), dtype=tf.float32, name=None)})\n",
      "Model: \"model_1\"\n",
      "_________________________________________________________________\n",
      " Layer (type)                Output Shape              Param #   \n",
      "=================================================================\n",
      " Input (InputLayer)          [(None, 36, 9)]           0         \n",
      "                                                                 \n",
      " conv1d_2 (Conv1D)           (None, 28, 32)            2624      \n",
      "                                                                 \n",
      " activation_2 (Activation)   (None, 28, 32)            0         \n",
      "                                                                 \n",
      " dropout_4 (Dropout)         (None, 28, 32)            0         \n",
      "                                                                 \n",
      " conv1d_3 (Conv1D)           (None, 23, 32)            6176      \n",
      "                                                                 \n",
      " activation_3 (Activation)   (None, 23, 32)            0         \n",
      "                                                                 \n",
      " dropout_5 (Dropout)         (None, 23, 32)            0         \n",
      "                                                                 \n",
      " conv1d_4 (Conv1D)           (None, 21, 32)            3104      \n",
      "                                                                 \n",
      " activation_4 (Activation)   (None, 21, 32)            0         \n",
      "                                                                 \n",
      " dropout_6 (Dropout)         (None, 21, 32)            0         \n",
      "                                                                 \n",
      " flatten_1 (Flatten)         (None, 672)               0         \n",
      "                                                                 \n",
      " dense_2 (Dense)             (None, 32)                21536     \n",
      "                                                                 \n",
      " dropout_7 (Dropout)         (None, 32)                0         \n",
      "                                                                 \n",
      " dense_3 (Dense)             (None, 16)                528       \n",
      "                                                                 \n",
      " dropout_8 (Dropout)         (None, 16)                0         \n",
      "                                                                 \n",
      " EW_Node_Location_nb (Dense  (None, 1)                 17        \n",
      " )                                                               \n",
      "                                                                 \n",
      "=================================================================\n",
      "Total params: 33985 (132.75 KB)\n",
      "Trainable params: 33985 (132.75 KB)\n",
      "Non-trainable params: 0 (0.00 Byte)\n",
      "_________________________________________________________________\n",
      "Starting training. Optimizing \"val_accuracy\"\n",
      "Epoch 1/35\n",
      "1281/1281 [==============================] - 21s 13ms/step - loss: 32.6659 - mse: 32.6659 - mae: 1.2641 - val_loss: 21.3190 - val_mse: 21.3190 - val_mae: 0.9226\n",
      "Epoch 2/35\n",
      "1281/1281 [==============================] - 17s 12ms/step - loss: 19.0467 - mse: 19.0467 - mae: 0.8634 - val_loss: 17.5282 - val_mse: 17.5282 - val_mae: 0.7995\n",
      "Epoch 3/35\n",
      "1281/1281 [==============================] - 16s 11ms/step - loss: 16.5708 - mse: 16.5708 - mae: 0.7763 - val_loss: 16.4660 - val_mse: 16.4660 - val_mae: 0.7846\n",
      "Epoch 4/35\n",
      "1281/1281 [==============================] - 17s 12ms/step - loss: 15.1155 - mse: 15.1155 - mae: 0.7420 - val_loss: 15.5778 - val_mse: 15.5778 - val_mae: 0.7062\n",
      "Epoch 5/35\n",
      "1281/1281 [==============================] - 16s 11ms/step - loss: 13.8584 - mse: 13.8584 - mae: 0.6977 - val_loss: 13.9853 - val_mse: 13.9853 - val_mae: 0.7316\n",
      "Epoch 6/35\n",
      "1281/1281 [==============================] - 16s 11ms/step - loss: 12.9665 - mse: 12.9665 - mae: 0.6657 - val_loss: 13.7315 - val_mse: 13.7315 - val_mae: 0.6753\n",
      "Epoch 7/35\n",
      "1281/1281 [==============================] - 16s 12ms/step - loss: 12.1050 - mse: 12.1050 - mae: 0.6308 - val_loss: 13.0803 - val_mse: 13.0803 - val_mae: 0.5892\n",
      "Epoch 8/35\n",
      "1281/1281 [==============================] - 16s 12ms/step - loss: 11.5530 - mse: 11.5530 - mae: 0.6160 - val_loss: 13.3298 - val_mse: 13.3298 - val_mae: 0.7060\n",
      "Epoch 9/35\n",
      "1281/1281 [==============================] - 16s 11ms/step - loss: 10.9435 - mse: 10.9435 - mae: 0.5842 - val_loss: 12.6402 - val_mse: 12.6402 - val_mae: 0.6418\n",
      "Epoch 10/35\n",
      "1281/1281 [==============================] - 16s 12ms/step - loss: 10.5281 - mse: 10.5281 - mae: 0.5758 - val_loss: 12.1863 - val_mse: 12.1863 - val_mae: 0.6074\n",
      "Epoch 11/35\n",
      "1281/1281 [==============================] - 16s 11ms/step - loss: 10.0301 - mse: 10.0301 - mae: 0.5495 - val_loss: 12.2378 - val_mse: 12.2378 - val_mae: 0.5444\n",
      "Epoch 12/35\n",
      "1281/1281 [==============================] - 16s 12ms/step - loss: 9.7081 - mse: 9.7081 - mae: 0.5408 - val_loss: 12.2196 - val_mse: 12.2196 - val_mae: 0.5031\n",
      "Epoch 13/35\n",
      "1281/1281 [==============================] - 16s 11ms/step - loss: 9.3694 - mse: 9.3694 - mae: 0.5128 - val_loss: 11.9667 - val_mse: 11.9667 - val_mae: 0.5047\n",
      "Epoch 14/35\n",
      "1281/1281 [==============================] - 16s 11ms/step - loss: 9.0424 - mse: 9.0424 - mae: 0.5014 - val_loss: 11.5864 - val_mse: 11.5864 - val_mae: 0.4894\n",
      "Epoch 15/35\n",
      "1281/1281 [==============================] - 16s 11ms/step - loss: 8.7255 - mse: 8.7255 - mae: 0.4878 - val_loss: 11.7195 - val_mse: 11.7195 - val_mae: 0.5071\n",
      "Epoch 16/35\n",
      "1281/1281 [==============================] - 16s 11ms/step - loss: 8.5102 - mse: 8.5102 - mae: 0.4758 - val_loss: 11.7390 - val_mse: 11.7390 - val_mae: 0.5142\n",
      "Epoch 17/35\n",
      "1281/1281 [==============================] - 16s 11ms/step - loss: 8.2023 - mse: 8.2023 - mae: 0.4618 - val_loss: 11.4498 - val_mse: 11.4498 - val_mae: 0.5703\n",
      "Epoch 18/35\n",
      "1281/1281 [==============================] - 16s 11ms/step - loss: 7.9484 - mse: 7.9484 - mae: 0.4534 - val_loss: 11.1643 - val_mse: 11.1643 - val_mae: 0.4882\n",
      "Epoch 19/35\n",
      "1281/1281 [==============================] - 16s 11ms/step - loss: 7.7434 - mse: 7.7434 - mae: 0.4390 - val_loss: 11.3542 - val_mse: 11.3542 - val_mae: 0.5369\n",
      "Epoch 20/35\n",
      "1281/1281 [==============================] - 16s 11ms/step - loss: 7.5871 - mse: 7.5871 - mae: 0.4330 - val_loss: 11.0757 - val_mse: 11.0757 - val_mae: 0.4956\n",
      "Epoch 21/35\n",
      "1281/1281 [==============================] - 17s 12ms/step - loss: 7.3660 - mse: 7.3660 - mae: 0.4229 - val_loss: 10.9322 - val_mse: 10.9322 - val_mae: 0.4796\n",
      "Epoch 22/35\n",
      "1281/1281 [==============================] - 17s 12ms/step - loss: 7.2542 - mse: 7.2542 - mae: 0.4166 - val_loss: 11.0922 - val_mse: 11.0922 - val_mae: 0.5073\n",
      "Epoch 23/35\n",
      "1281/1281 [==============================] - 16s 11ms/step - loss: 7.0716 - mse: 7.0716 - mae: 0.4095 - val_loss: 10.8884 - val_mse: 10.8884 - val_mae: 0.4793\n",
      "Epoch 24/35\n",
      "1281/1281 [==============================] - 16s 11ms/step - loss: 6.9055 - mse: 6.9055 - mae: 0.4017 - val_loss: 10.5747 - val_mse: 10.5747 - val_mae: 0.4818\n",
      "Epoch 25/35\n",
      "1281/1281 [==============================] - 17s 12ms/step - loss: 6.7303 - mse: 6.7303 - mae: 0.3927 - val_loss: 10.6983 - val_mse: 10.6983 - val_mae: 0.4710\n",
      "Epoch 26/35\n",
      "1281/1281 [==============================] - 16s 12ms/step - loss: 6.6609 - mse: 6.6609 - mae: 0.3893 - val_loss: 10.9028 - val_mse: 10.9028 - val_mae: 0.4561\n",
      "Epoch 27/35\n",
      "1281/1281 [==============================] - 16s 12ms/step - loss: 6.5125 - mse: 6.5125 - mae: 0.3820 - val_loss: 10.4316 - val_mse: 10.4316 - val_mae: 0.4605\n",
      "Epoch 28/35\n",
      "1281/1281 [==============================] - 16s 12ms/step - loss: 6.3650 - mse: 6.3650 - mae: 0.3745 - val_loss: 10.5570 - val_mse: 10.5570 - val_mae: 0.4755\n",
      "Epoch 29/35\n",
      "1281/1281 [==============================] - 16s 12ms/step - loss: 6.2458 - mse: 6.2458 - mae: 0.3698 - val_loss: 10.3639 - val_mse: 10.3639 - val_mae: 0.4852\n",
      "Epoch 30/35\n",
      "1281/1281 [==============================] - 16s 11ms/step - loss: 6.1186 - mse: 6.1186 - mae: 0.3672 - val_loss: 10.1771 - val_mse: 10.1771 - val_mae: 0.4936\n",
      "Epoch 31/35\n",
      "1281/1281 [==============================] - 17s 12ms/step - loss: 6.0293 - mse: 6.0293 - mae: 0.3590 - val_loss: 10.3461 - val_mse: 10.3461 - val_mae: 0.4468\n",
      "Epoch 32/35\n",
      "1281/1281 [==============================] - 16s 12ms/step - loss: 5.9226 - mse: 5.9226 - mae: 0.3558 - val_loss: 10.2054 - val_mse: 10.2054 - val_mae: 0.4412\n",
      "Epoch 33/35\n",
      "1281/1281 [==============================] - 16s 11ms/step - loss: 5.7997 - mse: 5.7997 - mae: 0.3469 - val_loss: 10.3163 - val_mse: 10.3163 - val_mae: 0.4539\n",
      "Epoch 34/35\n",
      "1281/1281 [==============================] - 16s 12ms/step - loss: 5.6872 - mse: 5.6872 - mae: 0.3437 - val_loss: 10.0739 - val_mse: 10.0739 - val_mae: 0.4543\n",
      "Epoch 35/35\n",
      "1281/1281 [==============================] - 16s 11ms/step - loss: 5.6290 - mse: 5.6290 - mae: 0.3426 - val_loss: 10.2412 - val_mse: 10.2412 - val_mae: 0.4515\n",
      "Finished training after 35 epochs.\n",
      "Evaluating model:\n",
      "1281/1281 [==============================] - 9s 6ms/step - loss: 5.4339 - mse: 5.4339 - mae: 0.3484\n",
      "321/321 [==============================] - 2s 5ms/step - loss: 10.2412 - mse: 10.2412 - mae: 0.4515\n"
     ]
    },
    {
     "name": "stderr",
     "output_type": "stream",
     "text": [
      "/home/david/Code/splid-challenge/base/prediction_models.py:84: UserWarning: FigureCanvasAgg is non-interactive, and thus cannot be shown\n",
      "  fig.show()\n"
     ]
    },
    {
     "data": {
      "image/png": "[encoded data removed]",
      "text/plain": [
       "<Figure size 600x300 with 2 Axes>"
      ]
     },
     "metadata": {},
     "output_type": "display_data"
    }
   ],
   "source": [
    "train_ew, val_ew = ds_gen_ew.get_datasets(512,\n",
    "                                          label_features=['EW_Node_Location_nb'],\n",
    "                                          shuffle=True,\n",
    "                                          stride=1,\n",
    "                                          keep_label_stride=5)\n",
    "print(train_ew.element_spec)\n",
    "\n",
    "model_ew = prediction_models.Dense_NN_regression(val_ew,\n",
    "                                                 conv1d_layers=[[32,9],[32,6],[32,3]], \n",
    "                                                 dense_layers=[32,16],\n",
    "                                                 l2_reg=0.000,\n",
    "                                                 mixed_dropout_dense=0.35,\n",
    "                                                 mixed_dropout_cnn=0.25,\n",
    "                                                 lr_scheduler=[0.001,2500,0.9],\n",
    "                                                 final_activation='linear',\n",
    "                                                 seed=0)\n",
    "\n",
    "model_ew.summary()\n",
    "# TODO: seed and dropout have a very strong impact on wether the model is able to learn at all\n",
    "hist = model_ew.fit(train_ew, val_ds=val_ew, epochs=35, verbose=1, plot_hist=True, callbacks=[])\n"
   ]
  },
  {
   "cell_type": "code",
   "execution_count": 20,
   "metadata": {},
   "outputs": [
    {
     "name": "stdout",
     "output_type": "stream",
     "text": [
      "(2099, 10, 36, 9)\n"
     ]
    }
   ],
   "source": [
    "train_ns, val_ns = ds_gen_ns.get_stateful_datasets(\n",
    "                                          with_identifier=True,\n",
    "                                          label_features=['NS_Node_Location_nb'],\n",
    "                                          stride=1)\n",
    "labels = np.stack([element for element in val_ns.map(lambda x,y,z:x).as_numpy_iterator()])\n",
    "print(labels.shape)"
   ]
  },
  {
   "cell_type": "code",
   "execution_count": 21,
   "metadata": {},
   "outputs": [
    {
     "name": "stdout",
     "output_type": "stream",
     "text": [
      "[[[-0.90872371  0.85068673 -1.1314069  ... -0.49037841 -2.55543613\n",
      "    0.61731082]\n",
      "  [ 1.18235946 -1.19698715 -1.11229634 ...  0.68367869 -2.55615449\n",
      "   -0.13839838]\n",
      "  [ 1.19499302 -1.18307495 -1.1126318  ...  1.14470673 -2.54886413\n",
      "   -1.65268171]\n",
      "  ...\n",
      "  [ 1.18373358 -1.18674994 -0.57753617 ...  0.02417978 -2.31602192\n",
      "   -2.25468993]\n",
      "  [ 1.18562257 -1.1786629  -0.52756429 ... -0.53885853 -2.30328321\n",
      "   -1.056903  ]\n",
      "  [ 1.18379927 -1.19336569 -0.51668453 ... -0.5202204  -2.29975772\n",
      "    0.33244982]]\n",
      "\n",
      " [[ 1.17375708 -1.1952033  -1.11958003 ...  0.1164585  -2.55640602\n",
      "    0.41584584]\n",
      "  [ 1.18886673 -1.19053543 -1.111269   ...  1.0608623  -2.55375791\n",
      "   -0.89744878]\n",
      "  [ 1.1974901  -1.18131924 -1.11093616 ...  0.90982389 -2.54181743\n",
      "   -2.19300461]\n",
      "  ...\n",
      "  [ 1.18670988 -1.17998016 -0.55129772 ... -0.30463049 -2.30865908\n",
      "   -1.78147459]\n",
      "  [ 1.18375707 -1.18473732 -0.51627558 ... -0.61577553 -2.30038214\n",
      "   -0.28104106]\n",
      "  [ 1.18247783 -1.19606137 -0.51598972 ... -0.28599834 -2.30059314\n",
      "    0.61555851]]\n",
      "\n",
      " [[ 1.18235946 -1.19698715 -1.11229634 ...  0.68367869 -2.55615449\n",
      "   -0.13839838]\n",
      "  [ 1.19499302 -1.18307495 -1.1126318  ...  1.14470673 -2.54886413\n",
      "   -1.65268171]\n",
      "  [ 1.19338965 -1.18599522 -1.10324514 ...  0.4205561  -2.5335803\n",
      "   -2.3667357 ]\n",
      "  ...\n",
      "  [ 1.18562257 -1.1786629  -0.52756429 ... -0.53885853 -2.30328321\n",
      "   -1.056903  ]\n",
      "  [ 1.18379927 -1.19336569 -0.51668453 ... -0.5202204  -2.29975772\n",
      "    0.33244982]\n",
      "  [ 1.17668808 -1.18895233 -0.49895316 ...  0.01541538 -2.30168509\n",
      "    0.49186167]]\n",
      "\n",
      " ...\n",
      "\n",
      " [[ 1.18496621 -1.19259715 -1.09158421 ... -0.18502857 -2.52545834\n",
      "   -2.12663293]\n",
      "  [ 1.16836703 -1.19206083 -1.07944083 ... -1.08435202 -2.51420379\n",
      "   -0.77877241]\n",
      "  [ 1.15612936 -1.18010187 -1.07665718 ... -0.89880848 -2.51212192\n",
      "    0.46475482]\n",
      "  ...\n",
      "  [ 1.1709857  -1.17858255 -0.46458107 ...  0.29515162 -2.30176759\n",
      "   -0.00320215]\n",
      "  [ 1.17038846 -1.18358433 -0.41603678 ...  0.49707264 -2.29547286\n",
      "   -1.49984622]\n",
      "  [ 1.17101479 -1.19554007 -0.4157567  ...  0.12473402 -2.28080487\n",
      "   -2.35497904]]\n",
      "\n",
      " [[ 1.17628849 -1.19554293 -1.08202684 ... -0.7367425  -2.51871443\n",
      "   -1.54262567]\n",
      "  [ 1.16061163 -1.18456388 -1.0810132  ... -1.14018703 -2.51215172\n",
      "   -0.04414601]\n",
      "  [ 1.15982628 -1.183869   -1.06063473 ... -0.43182346 -2.51315784\n",
      "    0.61329848]\n",
      "  ...\n",
      "  [ 1.16996706 -1.17596376 -0.43108976 ...  0.47214961 -2.29984832\n",
      "   -0.73337531]\n",
      "  [ 1.16968989 -1.19311857 -0.41643575 ...  0.36683974 -2.28884935\n",
      "   -2.094522  ]\n",
      "  [ 1.17574072 -1.18911684 -0.40282166 ... -0.15361835 -2.27256775\n",
      "   -2.20880103]]\n",
      "\n",
      " [[ 1.16836703 -1.19206083 -1.07944083 ... -1.08435202 -2.51420379\n",
      "   -0.77877241]\n",
      "  [ 1.15612936 -1.18010187 -1.07665718 ... -0.89880848 -2.51212192\n",
      "    0.46475482]\n",
      "  [ 1.169541   -1.19193041 -1.04045749 ...  0.13511358 -2.51402974\n",
      "    0.36058477]\n",
      "  ...\n",
      "  [ 1.17038846 -1.18358433 -0.41603678 ...  0.49707264 -2.29547286\n",
      "   -1.49984622]\n",
      "  [ 1.17101479 -1.19554007 -0.4157567  ...  0.12473402 -2.28080487\n",
      "   -2.35497904]\n",
      "  [ 1.17979956 -1.1796875  -0.38003048 ... -0.38406774 -2.2654264\n",
      "   -1.69486535]]]\n"
     ]
    }
   ],
   "source": [
    "print(labels[:10,3,:])"
   ]
  },
  {
   "cell_type": "code",
   "execution_count": 6,
   "metadata": {},
   "outputs": [
    {
     "name": "stdout",
     "output_type": "stream",
     "text": [
      "(TensorSpec(shape=(None, 36, 9), dtype=tf.float64, name=None), {'NS_Node_Location_nb': TensorSpec(shape=(None,), dtype=tf.float32, name=None)})\n",
      "Model: \"model\"\n",
      "_________________________________________________________________\n",
      " Layer (type)                Output Shape              Param #   \n",
      "=================================================================\n",
      " Inputs_History (InputLayer  [(40, 36, 9)]             0         \n",
      " )                                                               \n",
      "                                                                 \n",
      " lstm_1 (LSTM)               (40, 36, 48)              11136     \n",
      "                                                                 \n",
      " dropout (Dropout)           (40, 36, 48)              0         \n",
      "                                                                 \n",
      " lstm_2 (LSTM)               (40, 48)                  18624     \n",
      "                                                                 \n",
      " dropout_1 (Dropout)         (40, 48)                  0         \n",
      "                                                                 \n",
      " flatten (Flatten)           (40, 48)                  0         \n",
      "                                                                 \n",
      " dense (Dense)               (40, 32)                  1568      \n",
      "                                                                 \n",
      " dropout_2 (Dropout)         (40, 32)                  0         \n",
      "                                                                 \n",
      " dense_1 (Dense)             (40, 16)                  528       \n",
      "                                                                 \n",
      " dropout_3 (Dropout)         (40, 16)                  0         \n",
      "                                                                 \n",
      " NS_Node_Location_nb (Dense  (40, 1)                   17        \n",
      " )                                                               \n",
      "                                                                 \n",
      "=================================================================\n",
      "Total params: 31873 (124.50 KB)\n",
      "Trainable params: 31873 (124.50 KB)\n",
      "Non-trainable params: 0 (0.00 Byte)\n",
      "_________________________________________________________________\n"
     ]
    }
   ],
   "source": [
    "train_ns, val_ns = ds_gen_ns.get_stateful_datasets(\n",
    "                                          label_features=['NS_Node_Location_nb'],\n",
    "                                          stride=1)\n",
    "print(train_ns.element_spec)\n",
    "\n",
    "model_ns = prediction_models.STATEFUL_LSTM(train_ns, val_ns,\n",
    "                                            dense_layers=[32,16],\n",
    "                                            lstm_layers=[48,48],\n",
    "                                            l2_reg=0.000,\n",
    "                                            mixed_dropout_dense=0.25,\n",
    "                                            mixed_dropout_lstm=0.2,\n",
    "                                            lr_scheduler=[0.002,7500,0.9],\n",
    "                                            seed=0)\n",
    "\n",
    "model_ns.summary()"
   ]
  },
  {
   "cell_type": "code",
   "execution_count": 7,
   "metadata": {},
   "outputs": [],
   "source": [
    "model_ns.load_weights('submission/models/ns_localizer_lstm.hdf5')"
   ]
  },
  {
   "cell_type": "code",
   "execution_count": null,
   "metadata": {},
   "outputs": [
    {
     "name": "stderr",
     "output_type": "stream",
     "text": [
      "2024-02-07 16:42:00.297602: I external/local_xla/xla/stream_executor/cuda/cuda_executor.cc:887] could not open file to read NUMA node: /sys/bus/pci/devices/0000:1c:00.0/numa_node\n",
      "Your kernel may have been built without NUMA support.\n",
      "2024-02-07 16:42:00.323018: I external/local_xla/xla/stream_executor/cuda/cuda_executor.cc:887] could not open file to read NUMA node: /sys/bus/pci/devices/0000:1c:00.0/numa_node\n",
      "Your kernel may have been built without NUMA support.\n",
      "2024-02-07 16:42:00.323091: I external/local_xla/xla/stream_executor/cuda/cuda_executor.cc:887] could not open file to read NUMA node: /sys/bus/pci/devices/0000:1c:00.0/numa_node\n",
      "Your kernel may have been built without NUMA support.\n",
      "2024-02-07 16:42:00.325784: I external/local_xla/xla/stream_executor/cuda/cuda_executor.cc:887] could not open file to read NUMA node: /sys/bus/pci/devices/0000:1c:00.0/numa_node\n",
      "Your kernel may have been built without NUMA support.\n",
      "2024-02-07 16:42:00.325862: I external/local_xla/xla/stream_executor/cuda/cuda_executor.cc:887] could not open file to read NUMA node: /sys/bus/pci/devices/0000:1c:00.0/numa_node\n",
      "Your kernel may have been built without NUMA support.\n",
      "2024-02-07 16:42:00.325917: I external/local_xla/xla/stream_executor/cuda/cuda_executor.cc:887] could not open file to read NUMA node: /sys/bus/pci/devices/0000:1c:00.0/numa_node\n",
      "Your kernel may have been built without NUMA support.\n",
      "2024-02-07 16:42:01.732152: I external/local_xla/xla/stream_executor/cuda/cuda_executor.cc:887] could not open file to read NUMA node: /sys/bus/pci/devices/0000:1c:00.0/numa_node\n",
      "Your kernel may have been built without NUMA support.\n",
      "2024-02-07 16:42:01.732232: I external/local_xla/xla/stream_executor/cuda/cuda_executor.cc:887] could not open file to read NUMA node: /sys/bus/pci/devices/0000:1c:00.0/numa_node\n",
      "Your kernel may have been built without NUMA support.\n",
      "2024-02-07 16:42:01.732241: I tensorflow/core/common_runtime/gpu/gpu_device.cc:2022] Could not identify NUMA node of platform GPU id 0, defaulting to 0.  Your kernel may not have been built with NUMA support.\n",
      "2024-02-07 16:42:01.732304: I external/local_xla/xla/stream_executor/cuda/cuda_executor.cc:887] could not open file to read NUMA node: /sys/bus/pci/devices/0000:1c:00.0/numa_node\n",
      "Your kernel may have been built without NUMA support.\n",
      "2024-02-07 16:42:01.732332: I tensorflow/core/common_runtime/gpu/gpu_device.cc:1929] Created device /job:localhost/replica:0/task:0/device:GPU:0 with 4575 MB memory:  -> device: 0, name: NVIDIA GeForce GTX 1060 6GB, pci bus id: 0000:1c:00.0, compute capability: 6.1\n",
      "2024-02-07 16:42:01.735013: W external/local_tsl/tsl/framework/cpu_allocator_impl.cc:83] Allocation of 2176243200 exceeds 10% of free system memory.\n",
      "2024-02-07 16:42:02.799258: W external/local_tsl/tsl/framework/cpu_allocator_impl.cc:83] Allocation of 2176243200 exceeds 10% of free system memory.\n"
     ]
    },
    {
     "name": "stdout",
     "output_type": "stream",
     "text": [
      "(TensorSpec(shape=(None, 36, 9), dtype=tf.float64, name=None), {'NS_Node_Location_nb': TensorSpec(shape=(None,), dtype=tf.float32, name=None)})\n",
      "Model: \"model\"\n",
      "_________________________________________________________________\n",
      " Layer (type)                Output Shape              Param #   \n",
      "=================================================================\n",
      " Inputs_History (InputLayer  [(400, 36, 9)]            0         \n",
      " )                                                               \n",
      "                                                                 \n",
      " lstm (LSTM)                 (400, 36, 48)             11136     \n",
      "                                                                 \n",
      " dropout (Dropout)           (400, 36, 48)             0         \n",
      "                                                                 \n",
      " lstm_1 (LSTM)               (400, 48)                 18624     \n",
      "                                                                 \n",
      " dropout_1 (Dropout)         (400, 48)                 0         \n",
      "                                                                 \n",
      " flatten (Flatten)           (400, 48)                 0         \n",
      "                                                                 \n",
      " dense (Dense)               (400, 32)                 1568      \n",
      "                                                                 \n",
      " dropout_2 (Dropout)         (400, 32)                 0         \n",
      "                                                                 \n",
      " dense_1 (Dense)             (400, 16)                 528       \n",
      "                                                                 \n",
      " dropout_3 (Dropout)         (400, 16)                 0         \n",
      "                                                                 \n",
      " NS_Node_Location_nb (Dense  (400, 1)                  17        \n",
      " )                                                               \n",
      "                                                                 \n",
      "=================================================================\n",
      "Total params: 31873 (124.50 KB)\n",
      "Trainable params: 31873 (124.50 KB)\n",
      "Non-trainable params: 0 (0.00 Byte)\n",
      "_________________________________________________________________\n"
     ]
    },
    {
     "name": "stderr",
     "output_type": "stream",
     "text": [
      "2024-02-07 16:42:07.162787: W external/local_tsl/tsl/framework/cpu_allocator_impl.cc:83] Allocation of 2176243200 exceeds 10% of free system memory.\n",
      "2024-02-07 16:42:11.613296: I external/local_xla/xla/stream_executor/cuda/cuda_dnn.cc:454] Loaded cuDNN version 8904\n",
      "2024-02-07 16:42:13.030087: I external/local_xla/xla/service/service.cc:168] XLA service 0x7ff04c036a80 initialized for platform CUDA (this does not guarantee that XLA will be used). Devices:\n",
      "2024-02-07 16:42:13.030158: I external/local_xla/xla/service/service.cc:176]   StreamExecutor device (0): NVIDIA GeForce GTX 1060 6GB, Compute Capability 6.1\n",
      "2024-02-07 16:42:13.035358: I tensorflow/compiler/mlir/tensorflow/utils/dump_mlir_util.cc:269] disabling MLIR crash reproducer, set env var `MLIR_CRASH_REPRODUCER_DIRECTORY` to enable.\n",
      "WARNING: All log messages before absl::InitializeLog() is called are written to STDERR\n",
      "I0000 00:00:1707320533.136346   30074 device_compiler.h:186] Compiled cluster using XLA!  This line is logged at most once for the lifetime of the process.\n"
     ]
    },
    {
     "name": "stdout",
     "output_type": "stream",
     "text": [
      "2099/2099 [==============================] - 69s 30ms/step - loss: 15.4643 - mse: 15.4643 - mae: 0.4967\n",
      "Epoch 0/2: Train:[15.4821/15.4821] Val:[15.8482/15.8482] (loss/mse)\n",
      "2099/2099 [==============================] - 59s 28ms/step - loss: 15.4801 - mse: 15.4801 - mae: 0.5008\n",
      "2099/2099 [==============================] - 26s 12ms/step - loss: 15.4847 - mse: 15.4847 - mae: 0.4490\n",
      "2099/2099 [==============================] - 15s 7ms/step - loss: 15.8488 - mse: 15.8488 - mae: 0.4549\n",
      "Finished Training after 2 epochs. Final Metrics:\n",
      "Train:[15.4847/15.4847]Val:[15.8488/15.8488](loss/mse)\n"
     ]
    }
   ],
   "source": [
    "\n",
    "hist = model_ns.fit(train_ns, val_ds=val_ns,\n",
    "                    epochs=2,\n",
    "                    eval_frequency=2,\n",
    "                    verbose=1,\n",
    "                    plot_hist=False)"
   ]
  },
  {
   "cell_type": "code",
   "execution_count": 5,
   "metadata": {},
   "outputs": [
    {
     "name": "stderr",
     "output_type": "stream",
     "text": [
      "2024-02-08 21:20:05.403981: I external/local_xla/xla/stream_executor/cuda/cuda_executor.cc:887] could not open file to read NUMA node: /sys/bus/pci/devices/0000:1c:00.0/numa_node\n",
      "Your kernel may have been built without NUMA support.\n",
      "2024-02-08 21:20:05.426906: I external/local_xla/xla/stream_executor/cuda/cuda_executor.cc:887] could not open file to read NUMA node: /sys/bus/pci/devices/0000:1c:00.0/numa_node\n",
      "Your kernel may have been built without NUMA support.\n",
      "2024-02-08 21:20:05.426987: I external/local_xla/xla/stream_executor/cuda/cuda_executor.cc:887] could not open file to read NUMA node: /sys/bus/pci/devices/0000:1c:00.0/numa_node\n",
      "Your kernel may have been built without NUMA support.\n",
      "2024-02-08 21:20:05.428830: I external/local_xla/xla/stream_executor/cuda/cuda_executor.cc:887] could not open file to read NUMA node: /sys/bus/pci/devices/0000:1c:00.0/numa_node\n",
      "Your kernel may have been built without NUMA support.\n",
      "2024-02-08 21:20:05.428912: I external/local_xla/xla/stream_executor/cuda/cuda_executor.cc:887] could not open file to read NUMA node: /sys/bus/pci/devices/0000:1c:00.0/numa_node\n",
      "Your kernel may have been built without NUMA support.\n",
      "2024-02-08 21:20:05.428968: I external/local_xla/xla/stream_executor/cuda/cuda_executor.cc:887] could not open file to read NUMA node: /sys/bus/pci/devices/0000:1c:00.0/numa_node\n",
      "Your kernel may have been built without NUMA support.\n",
      "2024-02-08 21:20:06.858742: I external/local_xla/xla/stream_executor/cuda/cuda_executor.cc:887] could not open file to read NUMA node: /sys/bus/pci/devices/0000:1c:00.0/numa_node\n",
      "Your kernel may have been built without NUMA support.\n",
      "2024-02-08 21:20:06.858863: I external/local_xla/xla/stream_executor/cuda/cuda_executor.cc:887] could not open file to read NUMA node: /sys/bus/pci/devices/0000:1c:00.0/numa_node\n",
      "Your kernel may have been built without NUMA support.\n",
      "2024-02-08 21:20:06.858879: I tensorflow/core/common_runtime/gpu/gpu_device.cc:2022] Could not identify NUMA node of platform GPU id 0, defaulting to 0.  Your kernel may not have been built with NUMA support.\n",
      "2024-02-08 21:20:06.859019: I external/local_xla/xla/stream_executor/cuda/cuda_executor.cc:887] could not open file to read NUMA node: /sys/bus/pci/devices/0000:1c:00.0/numa_node\n",
      "Your kernel may have been built without NUMA support.\n",
      "2024-02-08 21:20:06.859046: I tensorflow/core/common_runtime/gpu/gpu_device.cc:1929] Created device /job:localhost/replica:0/task:0/device:GPU:0 with 4575 MB memory:  -> device: 0, name: NVIDIA GeForce GTX 1060 6GB, pci bus id: 0000:1c:00.0, compute capability: 6.1\n",
      "2024-02-08 21:20:06.862064: W external/local_tsl/tsl/framework/cpu_allocator_impl.cc:83] Allocation of 1688203296 exceeds 10% of free system memory.\n",
      "2024-02-08 21:20:07.690679: W external/local_tsl/tsl/framework/cpu_allocator_impl.cc:83] Allocation of 1688203296 exceeds 10% of free system memory.\n"
     ]
    },
    {
     "name": "stdout",
     "output_type": "stream",
     "text": [
      "Train-DS Cardinality: tf.Tensor(651313, shape=(), dtype=int64)\n",
      "(TensorSpec(shape=(None, 36, 9), dtype=tf.float64, name=None), {'NS_Node_Location_nb': TensorSpec(shape=(None,), dtype=tf.float32, name=None)})\n"
     ]
    }
   ],
   "source": [
    "train_ns, val_ns = ds_gen_ns.get_datasets(512,\n",
    "                                          label_features=['NS_Node_Location_nb'],\n",
    "                                          shuffle=True,\n",
    "                                          stride=1,\n",
    "                                          keep_label_stride=5)\n",
    "print(train_ns.element_spec)"
   ]
  },
  {
   "cell_type": "code",
   "execution_count": 17,
   "metadata": {},
   "outputs": [
    {
     "name": "stdout",
     "output_type": "stream",
     "text": [
      "Model: \"model_1\"\n",
      "_________________________________________________________________\n",
      " Layer (type)                Output Shape              Param #   \n",
      "=================================================================\n",
      " Input (InputLayer)          [(None, 36, 9)]           0         \n",
      "                                                                 \n",
      " conv1d_3 (Conv1D)           (None, 28, 32)            2624      \n",
      "                                                                 \n",
      " activation_3 (Activation)   (None, 28, 32)            0         \n",
      "                                                                 \n",
      " dropout_5 (Dropout)         (None, 28, 32)            0         \n",
      "                                                                 \n",
      " conv1d_4 (Conv1D)           (None, 23, 32)            6176      \n",
      "                                                                 \n",
      " activation_4 (Activation)   (None, 23, 32)            0         \n",
      "                                                                 \n",
      " dropout_6 (Dropout)         (None, 23, 32)            0         \n",
      "                                                                 \n",
      " conv1d_5 (Conv1D)           (None, 21, 32)            3104      \n",
      "                                                                 \n",
      " activation_5 (Activation)   (None, 21, 32)            0         \n",
      "                                                                 \n",
      " dropout_7 (Dropout)         (None, 21, 32)            0         \n",
      "                                                                 \n",
      " flatten_1 (Flatten)         (None, 672)               0         \n",
      "                                                                 \n",
      " dense_2 (Dense)             (None, 32)                21536     \n",
      "                                                                 \n",
      " dropout_8 (Dropout)         (None, 32)                0         \n",
      "                                                                 \n",
      " dense_3 (Dense)             (None, 16)                528       \n",
      "                                                                 \n",
      " dropout_9 (Dropout)         (None, 16)                0         \n",
      "                                                                 \n",
      " NS_Node_Location_nb (Dense  (None, 1)                 17        \n",
      " )                                                               \n",
      "                                                                 \n",
      "=================================================================\n",
      "Total params: 33985 (132.75 KB)\n",
      "Trainable params: 33985 (132.75 KB)\n",
      "Non-trainable params: 0 (0.00 Byte)\n",
      "_________________________________________________________________\n",
      "Starting training. Optimizing \"val_accuracy\"\n",
      "Epoch 1/35\n",
      "1273/1273 [==============================] - 24s 16ms/step - loss: 46.8664 - mse: 46.8664 - mae: 1.5612 - val_loss: 41.3433 - val_mse: 41.3433 - val_mae: 1.2083\n",
      "Epoch 2/35\n",
      "1273/1273 [==============================] - 18s 13ms/step - loss: 39.1637 - mse: 39.1637 - mae: 1.3172 - val_loss: 37.4964 - val_mse: 37.4964 - val_mae: 1.5901\n",
      "Epoch 3/35\n",
      "1273/1273 [==============================] - 19s 13ms/step - loss: 35.7598 - mse: 35.7598 - mae: 1.2232 - val_loss: 37.0746 - val_mse: 37.0746 - val_mae: 1.3364\n",
      "Epoch 4/35\n",
      "1273/1273 [==============================] - 16s 12ms/step - loss: 33.8704 - mse: 33.8704 - mae: 1.1790 - val_loss: 34.2825 - val_mse: 34.2825 - val_mae: 1.1382\n",
      "Epoch 5/35\n",
      "1273/1273 [==============================] - 17s 12ms/step - loss: 31.8134 - mse: 31.8134 - mae: 1.1303 - val_loss: 32.4198 - val_mse: 32.4198 - val_mae: 1.2151\n",
      "Epoch 6/35\n",
      "1273/1273 [==============================] - 16s 12ms/step - loss: 30.6408 - mse: 30.6408 - mae: 1.1014 - val_loss: 31.8548 - val_mse: 31.8548 - val_mae: 1.1435\n",
      "Epoch 7/35\n",
      "1273/1273 [==============================] - 19s 14ms/step - loss: 28.9618 - mse: 28.9618 - mae: 1.0454 - val_loss: 31.0954 - val_mse: 31.0954 - val_mae: 1.0903\n",
      "Epoch 8/35\n",
      "1273/1273 [==============================] - 17s 12ms/step - loss: 28.0502 - mse: 28.0502 - mae: 1.0137 - val_loss: 30.2632 - val_mse: 30.2632 - val_mae: 1.0184\n",
      "Epoch 9/35\n",
      "1273/1273 [==============================] - 17s 12ms/step - loss: 27.1230 - mse: 27.1230 - mae: 0.9836 - val_loss: 31.5981 - val_mse: 31.5981 - val_mae: 0.9923\n",
      "Epoch 10/35\n",
      "1273/1273 [==============================] - 17s 12ms/step - loss: 26.3310 - mse: 26.3310 - mae: 0.9618 - val_loss: 29.8163 - val_mse: 29.8163 - val_mae: 0.9331\n",
      "Epoch 11/35\n",
      "1273/1273 [==============================] - 19s 14ms/step - loss: 25.3771 - mse: 25.3771 - mae: 0.9309 - val_loss: 29.3930 - val_mse: 29.3930 - val_mae: 1.0265\n",
      "Epoch 12/35\n",
      "1273/1273 [==============================] - 17s 12ms/step - loss: 24.8372 - mse: 24.8372 - mae: 0.9144 - val_loss: 29.7486 - val_mse: 29.7486 - val_mae: 1.2201\n",
      "Epoch 13/35\n",
      "1273/1273 [==============================] - 17s 12ms/step - loss: 23.9210 - mse: 23.9210 - mae: 0.8912 - val_loss: 28.7048 - val_mse: 28.7048 - val_mae: 0.9966\n",
      "Epoch 14/35\n",
      "1273/1273 [==============================] - 17s 12ms/step - loss: 23.3805 - mse: 23.3805 - mae: 0.8695 - val_loss: 28.1832 - val_mse: 28.1832 - val_mae: 0.8861\n",
      "Epoch 15/35\n",
      "1273/1273 [==============================] - 17s 12ms/step - loss: 22.8030 - mse: 22.8030 - mae: 0.8564 - val_loss: 29.0794 - val_mse: 29.0794 - val_mae: 1.0101\n",
      "Epoch 16/35\n",
      "1273/1273 [==============================] - 17s 12ms/step - loss: 21.9779 - mse: 21.9779 - mae: 0.8370 - val_loss: 27.8522 - val_mse: 27.8522 - val_mae: 0.8417\n",
      "Epoch 17/35\n",
      "1273/1273 [==============================] - 17s 12ms/step - loss: 21.4177 - mse: 21.4177 - mae: 0.8154 - val_loss: 28.4257 - val_mse: 28.4257 - val_mae: 0.9331\n",
      "Epoch 18/35\n",
      "1273/1273 [==============================] - 16s 12ms/step - loss: 20.8940 - mse: 20.8940 - mae: 0.7991 - val_loss: 27.6250 - val_mse: 27.6250 - val_mae: 0.8793\n",
      "Epoch 19/35\n",
      "1273/1273 [==============================] - 17s 12ms/step - loss: 20.2575 - mse: 20.2575 - mae: 0.7839 - val_loss: 28.4626 - val_mse: 28.4626 - val_mae: 1.0072\n",
      "Epoch 20/35\n",
      "1273/1273 [==============================] - 18s 13ms/step - loss: 19.8786 - mse: 19.8786 - mae: 0.7725 - val_loss: 28.0936 - val_mse: 28.0936 - val_mae: 0.9199\n",
      "Epoch 21/35\n",
      "1273/1273 [==============================] - 17s 12ms/step - loss: 19.2155 - mse: 19.2155 - mae: 0.7510 - val_loss: 27.8183 - val_mse: 27.8183 - val_mae: 0.9063\n",
      "Epoch 22/35\n",
      "1273/1273 [==============================] - 17s 12ms/step - loss: 18.6823 - mse: 18.6823 - mae: 0.7395 - val_loss: 27.2024 - val_mse: 27.2024 - val_mae: 0.8515\n",
      "Epoch 23/35\n",
      "1273/1273 [==============================] - 17s 12ms/step - loss: 18.1239 - mse: 18.1239 - mae: 0.7177 - val_loss: 26.7361 - val_mse: 26.7361 - val_mae: 0.8418\n",
      "Epoch 24/35\n",
      "1273/1273 [==============================] - 17s 12ms/step - loss: 17.7541 - mse: 17.7541 - mae: 0.7083 - val_loss: 27.0357 - val_mse: 27.0357 - val_mae: 0.8298\n",
      "Epoch 25/35\n",
      "1273/1273 [==============================] - 17s 12ms/step - loss: 17.3570 - mse: 17.3570 - mae: 0.6945 - val_loss: 27.4524 - val_mse: 27.4524 - val_mae: 0.8406\n",
      "Epoch 26/35\n",
      "1273/1273 [==============================] - 17s 12ms/step - loss: 17.0014 - mse: 17.0014 - mae: 0.6854 - val_loss: 27.2211 - val_mse: 27.2211 - val_mae: 0.8550\n",
      "Epoch 27/35\n",
      "1273/1273 [==============================] - 17s 12ms/step - loss: 16.3876 - mse: 16.3876 - mae: 0.6656 - val_loss: 27.1455 - val_mse: 27.1455 - val_mae: 0.8252\n",
      "Epoch 28/35\n",
      "1273/1273 [==============================] - 18s 13ms/step - loss: 16.0910 - mse: 16.0910 - mae: 0.6546 - val_loss: 26.7498 - val_mse: 26.7498 - val_mae: 0.8073\n",
      "Epoch 29/35\n",
      "1273/1273 [==============================] - 17s 12ms/step - loss: 15.7784 - mse: 15.7784 - mae: 0.6445 - val_loss: 27.2330 - val_mse: 27.2330 - val_mae: 0.8414\n",
      "Epoch 30/35\n",
      "1273/1273 [==============================] - 17s 12ms/step - loss: 15.3299 - mse: 15.3299 - mae: 0.6343 - val_loss: 27.0796 - val_mse: 27.0796 - val_mae: 0.8041\n",
      "Epoch 31/35\n",
      "1273/1273 [==============================] - 17s 12ms/step - loss: 15.0656 - mse: 15.0656 - mae: 0.6229 - val_loss: 26.8632 - val_mse: 26.8632 - val_mae: 0.7917\n",
      "Epoch 32/35\n",
      "1273/1273 [==============================] - 18s 13ms/step - loss: 14.7886 - mse: 14.7886 - mae: 0.6159 - val_loss: 27.4154 - val_mse: 27.4154 - val_mae: 0.8462\n",
      "Epoch 33/35\n",
      "1273/1273 [==============================] - 17s 12ms/step - loss: 14.4727 - mse: 14.4727 - mae: 0.6043 - val_loss: 27.1095 - val_mse: 27.1095 - val_mae: 0.7993\n",
      "Epoch 34/35\n",
      "1273/1273 [==============================] - 17s 12ms/step - loss: 14.2332 - mse: 14.2332 - mae: 0.5967 - val_loss: 27.4680 - val_mse: 27.4680 - val_mae: 0.8137\n",
      "Epoch 35/35\n",
      "1273/1273 [==============================] - 17s 12ms/step - loss: 13.9309 - mse: 13.9309 - mae: 0.5849 - val_loss: 27.0294 - val_mse: 27.0294 - val_mae: 0.7933\n",
      "Finished training after 35 epochs.\n",
      "Evaluating model:\n",
      "1273/1273 [==============================] - 10s 6ms/step - loss: 13.2291 - mse: 13.2291 - mae: 0.5671\n",
      "319/319 [==============================] - 2s 6ms/step - loss: 27.0294 - mse: 27.0294 - mae: 0.7933\n"
     ]
    },
    {
     "name": "stderr",
     "output_type": "stream",
     "text": [
      "/home/david/Code/splid-challenge/base/prediction_models.py:84: UserWarning: FigureCanvasAgg is non-interactive, and thus cannot be shown\n",
      "  fig.show()\n"
     ]
    },
    {
     "data": {
      "image/png": "[encoded data removed]",
      "text/plain": [
       "<Figure size 600x300 with 2 Axes>"
      ]
     },
     "metadata": {},
     "output_type": "display_data"
    }
   ],
   "source": [
    "\n",
    "\n",
    "model_ns = prediction_models.Dense_NN_regression(val_ns,\n",
    "                                                 conv1d_layers=[[32,9],[32,6],[32,3]], \n",
    "                                                 dense_layers=[32,16],\n",
    "                                                 l2_reg=0.00,\n",
    "                                                 mixed_dropout_dense=0.25,\n",
    "                                                 mixed_dropout_cnn=0.2,\n",
    "                                                 lr_scheduler=[0.002,2500,0.9],\n",
    "                                                 final_activation='linear',\n",
    "                                                 seed=0)\n",
    "\n",
    "model_ns.summary()\n",
    "hist = model_ns.fit(train_ns, val_ds=val_ns, epochs=35, verbose=1, plot_hist=True, callbacks=[])\n"
   ]
  },
  {
   "cell_type": "code",
   "execution_count": null,
   "metadata": {},
   "outputs": [],
   "source": [
    "train_ns, val_ns = ds_gen_ns.get_datasets(512, label_features=['NS_Node_Location_nb'], shuffle=True, stride=1)\n",
    "model_ns = prediction_models.Dense_NN_regression(val_ns, conv1d_layers=[[32,6],[32,6]], dense_layers=[16,4],\n",
    "                                                 l2_reg=0.0, mixed_dropout=0.2,\n",
    "                                                 lr_scheduler=[0.002,15000,0.9],\n",
    "                                                 final_activation='relu',\n",
    "                                                 seed=0)\n",
    "model_ns.load_model('submission/models/ns_localizer_cnn.hdf5')\n",
    "model_ns.summary()\n",
    "hist = model_ns.fit(train_ns, val_ds=val_ns, epochs=10, verbose=1, plot_hist=True, callbacks=[])"
   ]
  },
  {
   "cell_type": "code",
   "execution_count": 20,
   "metadata": {},
   "outputs": [
    {
     "name": "stdout",
     "output_type": "stream",
     "text": [
      "Starting training. Optimizing \"val_accuracy\"\n",
      "Epoch 1/15\n"
     ]
    },
    {
     "name": "stdout",
     "output_type": "stream",
     "text": [
      "1273/1273 [==============================] - 18s 13ms/step - loss: 13.6725 - mse: 13.6725 - mae: 0.5776 - val_loss: 26.9447 - val_mse: 26.9447 - val_mae: 0.7765\n",
      "Epoch 2/15\n",
      "1273/1273 [==============================] - 17s 12ms/step - loss: 13.4433 - mse: 13.4433 - mae: 0.5706 - val_loss: 26.8626 - val_mse: 26.8626 - val_mae: 0.7927\n",
      "Epoch 3/15\n",
      "1273/1273 [==============================] - 17s 12ms/step - loss: 13.2316 - mse: 13.2316 - mae: 0.5613 - val_loss: 27.1330 - val_mse: 27.1330 - val_mae: 0.7821\n",
      "Epoch 4/15\n",
      "1273/1273 [==============================] - 17s 12ms/step - loss: 13.0807 - mse: 13.0807 - mae: 0.5564 - val_loss: 27.7263 - val_mse: 27.7263 - val_mae: 0.8105\n",
      "Epoch 5/15\n",
      "1273/1273 [==============================] - 17s 13ms/step - loss: 12.8289 - mse: 12.8289 - mae: 0.5495 - val_loss: 27.5206 - val_mse: 27.5206 - val_mae: 0.7805\n",
      "Epoch 6/15\n",
      "1273/1273 [==============================] - 18s 13ms/step - loss: 12.7018 - mse: 12.7018 - mae: 0.5457 - val_loss: 27.1698 - val_mse: 27.1698 - val_mae: 0.7842\n",
      "Epoch 7/15\n",
      "1273/1273 [==============================] - 17s 12ms/step - loss: 12.5664 - mse: 12.5664 - mae: 0.5402 - val_loss: 27.2106 - val_mse: 27.2106 - val_mae: 0.7793\n",
      "Epoch 8/15\n",
      "1273/1273 [==============================] - 18s 12ms/step - loss: 12.4114 - mse: 12.4114 - mae: 0.5338 - val_loss: 27.4056 - val_mse: 27.4056 - val_mae: 0.7755\n",
      "Epoch 9/15\n",
      "1273/1273 [==============================] - 17s 12ms/step - loss: 12.2432 - mse: 12.2432 - mae: 0.5279 - val_loss: 26.9548 - val_mse: 26.9548 - val_mae: 0.7632\n",
      "Epoch 10/15\n",
      "1273/1273 [==============================] - 17s 12ms/step - loss: 12.1260 - mse: 12.1260 - mae: 0.5247 - val_loss: 26.8899 - val_mse: 26.8899 - val_mae: 0.7601\n",
      "Epoch 11/15\n",
      "1273/1273 [==============================] - 17s 12ms/step - loss: 11.9762 - mse: 11.9762 - mae: 0.5183 - val_loss: 27.1360 - val_mse: 27.1360 - val_mae: 0.7766\n",
      "Epoch 12/15\n",
      "1273/1273 [==============================] - 17s 12ms/step - loss: 11.8938 - mse: 11.8938 - mae: 0.5149 - val_loss: 27.0395 - val_mse: 27.0395 - val_mae: 0.7683\n",
      "Epoch 13/15\n",
      "1273/1273 [==============================] - 17s 12ms/step - loss: 11.7523 - mse: 11.7523 - mae: 0.5104 - val_loss: 27.0475 - val_mse: 27.0475 - val_mae: 0.7666\n",
      "Epoch 14/15\n",
      "1273/1273 [==============================] - 17s 12ms/step - loss: 11.6316 - mse: 11.6316 - mae: 0.5058 - val_loss: 27.1614 - val_mse: 27.1614 - val_mae: 0.7669\n",
      "Epoch 15/15\n",
      "1273/1273 [==============================] - 17s 12ms/step - loss: 11.5441 - mse: 11.5441 - mae: 0.5026 - val_loss: 27.0038 - val_mse: 27.0038 - val_mae: 0.7535\n",
      "Finished training after 15 epochs.\n",
      "Evaluating model:\n",
      "1273/1273 [==============================] - 10s 6ms/step - loss: 11.3479 - mse: 11.3479 - mae: 0.4886\n",
      "319/319 [==============================] - 2s 6ms/step - loss: 27.0037 - mse: 27.0037 - mae: 0.7535\n"
     ]
    },
    {
     "name": "stderr",
     "output_type": "stream",
     "text": [
      "/home/david/Code/splid-challenge/base/prediction_models.py:84: UserWarning: FigureCanvasAgg is non-interactive, and thus cannot be shown\n",
      "  fig.show()\n"
     ]
    },
    {
     "data": {
      "image/png": "[encoded data removed]",
      "text/plain": [
       "<Figure size 600x300 with 2 Axes>"
      ]
     },
     "metadata": {},
     "output_type": "display_data"
    }
   ],
   "source": [
    "hist = model_ns.fit(train_ns, val_ds=val_ns, epochs=15, verbose=1, plot_hist=True, callbacks=[])"
   ]
  },
  {
   "cell_type": "code",
   "execution_count": 11,
   "metadata": {},
   "outputs": [
    {
     "name": "stdout",
     "output_type": "stream",
     "text": [
      "Starting training. Optimizing \"val_accuracy\"\n",
      "Epoch 1/15\n"
     ]
    },
    {
     "name": "stdout",
     "output_type": "stream",
     "text": [
      "1457/1457 [==============================] - 16s 11ms/step - loss: 14.9844 - mse: 14.9844 - mae: 0.6995 - val_loss: 22.4718 - val_mse: 22.4718 - val_mae: 0.8080\n",
      "Epoch 2/15\n",
      "1457/1457 [==============================] - 16s 11ms/step - loss: 14.2061 - mse: 14.2061 - mae: 0.6673 - val_loss: 22.8046 - val_mse: 22.8046 - val_mae: 0.8053\n",
      "Epoch 3/15\n",
      "1457/1457 [==============================] - 16s 11ms/step - loss: 13.9608 - mse: 13.9608 - mae: 0.6504 - val_loss: 22.5457 - val_mse: 22.5457 - val_mae: 0.7990\n",
      "Epoch 4/15\n",
      "1457/1457 [==============================] - 16s 11ms/step - loss: 13.7055 - mse: 13.7055 - mae: 0.6419 - val_loss: 22.3976 - val_mse: 22.3976 - val_mae: 0.7857\n",
      "Epoch 5/15\n",
      "1457/1457 [==============================] - 16s 11ms/step - loss: 13.7655 - mse: 13.7655 - mae: 0.6407 - val_loss: 21.9821 - val_mse: 21.9821 - val_mae: 0.7616\n",
      "Epoch 6/15\n",
      "1457/1457 [==============================] - 16s 11ms/step - loss: 13.6081 - mse: 13.6081 - mae: 0.6385 - val_loss: 21.8776 - val_mse: 21.8776 - val_mae: 0.7582\n",
      "Epoch 7/15\n",
      "1457/1457 [==============================] - 16s 11ms/step - loss: 13.3486 - mse: 13.3486 - mae: 0.6290 - val_loss: 21.0941 - val_mse: 21.0941 - val_mae: 0.7564\n",
      "Epoch 8/15\n",
      "1457/1457 [==============================] - 17s 12ms/step - loss: 12.7459 - mse: 12.7459 - mae: 0.6048 - val_loss: 21.1597 - val_mse: 21.1597 - val_mae: 0.7505\n",
      "Epoch 9/15\n",
      "1457/1457 [==============================] - 16s 11ms/step - loss: 12.6149 - mse: 12.6149 - mae: 0.5982 - val_loss: 21.0475 - val_mse: 21.0475 - val_mae: 0.7465\n",
      "Epoch 10/15\n",
      "1457/1457 [==============================] - 16s 11ms/step - loss: 12.2724 - mse: 12.2724 - mae: 0.5944 - val_loss: 21.4759 - val_mse: 21.4759 - val_mae: 0.7487\n",
      "Epoch 11/15\n",
      "1457/1457 [==============================] - 16s 11ms/step - loss: 12.0429 - mse: 12.0429 - mae: 0.5783 - val_loss: 20.5967 - val_mse: 20.5967 - val_mae: 0.7223\n",
      "Epoch 12/15\n",
      "1457/1457 [==============================] - 15s 11ms/step - loss: 11.8589 - mse: 11.8589 - mae: 0.5717 - val_loss: 20.8048 - val_mse: 20.8048 - val_mae: 0.7458\n",
      "Epoch 13/15\n",
      "1457/1457 [==============================] - 15s 10ms/step - loss: 11.6744 - mse: 11.6744 - mae: 0.5665 - val_loss: 20.4117 - val_mse: 20.4117 - val_mae: 0.7291\n",
      "Epoch 14/15\n",
      "1457/1457 [==============================] - 16s 11ms/step - loss: 11.4971 - mse: 11.4971 - mae: 0.5610 - val_loss: 20.2420 - val_mse: 20.2420 - val_mae: 0.7282\n",
      "Epoch 15/15\n",
      "1457/1457 [==============================] - 15s 11ms/step - loss: 11.2553 - mse: 11.2553 - mae: 0.5535 - val_loss: 20.4014 - val_mse: 20.4014 - val_mae: 0.7242\n",
      "Finished training after 15 epochs.\n",
      "Evaluating model:\n",
      "1457/1457 [==============================] - 7s 5ms/step - loss: 14.0989 - mse: 14.0989 - mae: 0.5867\n",
      "365/365 [==============================] - 2s 5ms/step - loss: 20.4014 - mse: 20.4014 - mae: 0.7242\n"
     ]
    },
    {
     "name": "stderr",
     "output_type": "stream",
     "text": [
      "/home/david/Code/splid-challenge/base/prediction_models.py:84: UserWarning: FigureCanvasAgg is non-interactive, and thus cannot be shown\n",
      "  fig.show()\n"
     ]
    },
    {
     "data": {
      "image/png": "[encoded data removed]",
      "text/plain": [
       "<Figure size 600x300 with 2 Axes>"
      ]
     },
     "metadata": {},
     "output_type": "display_data"
    }
   ],
   "source": [
    "hist = model_ew.fit(train_ew, val_ds=val_ew, epochs=15, verbose=1, plot_hist=True, callbacks=[])"
   ]
  },
  {
   "cell_type": "code",
   "execution_count": 28,
   "metadata": {},
   "outputs": [
    {
     "name": "stderr",
     "output_type": "stream",
     "text": [
      "/home/david/miniconda3/envs/splid-gpu/lib/python3.10/site-packages/keras/src/engine/training.py:3103: UserWarning: You are saving your model as an HDF5 file via `model.save()`. This file format is considered legacy. We recommend using instead the native Keras format, e.g. `model.save('my_model.keras')`.\n",
      "  saving_api.save_model(\n"
     ]
    }
   ],
   "source": [
    "model_ns.model.save('submission/models/ns_localizer_cnn.hdf5')\n",
    "#pickle.dump(ds_gen_ew.scaler, open('submission/models/EW_localizer_scaler_cnn.pkl', 'wb'))"
   ]
  },
  {
   "cell_type": "code",
   "execution_count": 8,
   "metadata": {},
   "outputs": [],
   "source": [
    "model_ns.save_weights('submission/models/ns_localizer_lstm.hdf5')"
   ]
  },
  {
   "cell_type": "code",
   "execution_count": 16,
   "metadata": {},
   "outputs": [
    {
     "name": "stdout",
     "output_type": "stream",
     "text": [
      "<tf.Variable 'current_learning_rate:0' shape=() dtype=float32, numpy=0.0011809799>\n"
     ]
    }
   ],
   "source": [
    "print(model_ns.model.optimizer.learning_rate)"
   ]
  },
  {
   "cell_type": "code",
   "execution_count": null,
   "metadata": {},
   "outputs": [],
   "source": [
    "train_ns, val_ns = ds_gen_ns.get_datasets(512, label_features=['NS_Node_Location'], shuffle=True, stride=1)\n",
    "\n",
    "model_ns = prediction_models.Dense_NN(train_ns, conv1d_layers=[], dense_layers=[256, 128,64,32], l2_reg=0.0, mixed_dropout=0.0, lr_scheduler=[], seed=0)\n",
    "train_ns = train_ns.map(lambda x,y:(x,y['NS_Node_Location']))\n",
    "val_ns = val_ns.map(lambda x,y:(x,y['NS_Node_Location'])) # temporary fix to allow class weights\n",
    "\n",
    "model_ns.summary()\n",
    "hist = model_ns.fit(train_ns, val_ds=val_ns, epochs=20, verbose=1, plot_hist=False, class_weight={0: 0.5, 1: 20.0}, callbacks=[])\n",
    "model_ns.model.save('models/ns_localizer.hdf5')\n",
    "\n",
    "model_ns.plot_hist(hist, [k for k in hist.history.keys() if 'loss' in k])\n",
    "model_ns.plot_hist(hist, [k for k in hist.history.keys() if 'accuracy' in k])"
   ]
  },
  {
   "cell_type": "code",
   "execution_count": 12,
   "metadata": {},
   "outputs": [],
   "source": [
    "model_ew = tf.keras.models.load_model('/home/david/Code/splid-challenge/wandb/run-20240112_140537-85ahbucq/files\\model_85ahbucq.hdf5')\n"
   ]
  },
  {
   "cell_type": "code",
   "execution_count": null,
   "metadata": {},
   "outputs": [],
   "source": [
    "model_ew = tf.keras.models.load_model('submission/models/ew_localizer_cnn.hdf5')\n"
   ]
  },
  {
   "cell_type": "code",
   "execution_count": 11,
   "metadata": {},
   "outputs": [
    {
     "name": "stdout",
     "output_type": "stream",
     "text": [
      "624/624 [==============================] - 2s 3ms/step\n",
      "624/624 [==============================] - 2s 3ms/step\n",
      "625/625 [==============================] - 2s 3ms/step\n",
      "625/625 [==============================] - 3s 4ms/step\n",
      "625/625 [==============================] - 2s 4ms/step\n"
     ]
    }
   ],
   "source": [
    "object_limit = None\n",
    "direction = 'EW'\n",
    "\n",
    "preds_df = localizer.create_prediction_df(ds_gen=ds_gen_ew,\n",
    "                                model=model_ew,\n",
    "                                train=False,\n",
    "                                test=False,\n",
    "                                stateful=False,\n",
    "                                output_dirs=[direction],\n",
    "                                object_limit=object_limit,\n",
    "                                ds_batch_size=256,\n",
    "                                prediction_batches=5,\n",
    "                                verbose=1)"
   ]
  },
  {
   "cell_type": "code",
   "execution_count": 22,
   "metadata": {},
   "outputs": [
    {
     "name": "stdout",
     "output_type": "stream",
     "text": [
      "754336\n"
     ]
    }
   ],
   "source": [
    "print(len(preds_df['NS_Loc'].unique()))"
   ]
  },
  {
   "cell_type": "code",
   "execution_count": 16,
   "metadata": {},
   "outputs": [
    {
     "name": "stdout",
     "output_type": "stream",
     "text": [
      "Evaluator ignoring classifications\n",
      "Precision: 0.96\n",
      "Recall: 0.89\n",
      "F2: 0.90\n",
      "RMSE: 0.7388\n",
      "TP: 579 FP: 22 FN: 72\n"
     ]
    }
   ],
   "source": [
    "subm_df = localizer.postprocess_predictions(preds_df=preds_df,\n",
    "                                            dirs=[direction],\n",
    "                                            threshold=70.0,\n",
    "                                            add_initial_node=True,\n",
    "                                            clean_consecutives=True)\n",
    "\n",
    "evaluator, sub_df = localizer.evaluate_localizer(subm_df=subm_df,\n",
    "                                                 gt_path=challenge_data_dir / 'train_labels.csv',\n",
    "                                                 object_ids=list(map(int, ds_gen_ew.val_keys))[:object_limit],\n",
    "                                                 dirs=[direction],\n",
    "                                                 with_initial_node=False,\n",
    "                                                 return_scores=False,\n",
    "                                                 verbose=1)\n",
    "\n",
    "# EW after 35 epochs:\n",
    "# 50: TP: 592 FP: 52 FN: 59\n",
    "# 55: TP: 591 FP: 40 FN: 60\n",
    "# 60: TP: 590 FP: 35 FN: 61\n",
    "# 65: TP: 585 FP: 29 FN: 66\n",
    "# 70: TP: 579 FP: 22 FN: 72\n",
    "\n",
    "# NS after 35 epochs:\n",
    "# TODO: for NS, ID nodes are clearly the most difficult\n",
    "# 50: TP: 293 FP: 95 FN: 136\n",
    "# 55: TP: 288 FP: 77 FN: 141\n",
    "# 60: TP: 280 FP: 53 FN: 149\n",
    "# 65: TP: 274 FP: 45 FN: 155\n",
    "# 70: TP: 268 FP: 33 FN: 161\n"
   ]
  },
  {
   "cell_type": "code",
   "execution_count": null,
   "metadata": {},
   "outputs": [],
   "source": [
    "localizer.plot_prediction_curve(ds_gen=ds_gen_ew,\n",
    "                                model=model_ew,\n",
    "                                label_features=['EW_Node_Location_nb'],\n",
    "                                object_ids=ds_gen_ew.val_keys[10:20],\n",
    "                                zoom=True)"
   ]
  }
 ],
 "metadata": {
  "kernelspec": {
   "display_name": "splid",
   "language": "python",
   "name": "python3"
  },
  "language_info": {
   "codemirror_mode": {
    "name": "ipython",
    "version": 3
   },
   "file_extension": ".py",
   "mimetype": "text/x-python",
   "name": "python",
   "nbconvert_exporter": "python",
   "pygments_lexer": "ipython3",
   "version": "3.10.13"
  }
 },
 "nbformat": 4,
 "nbformat_minor": 2
}
