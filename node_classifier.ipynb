{
 "cells": [
  {
   "cell_type": "code",
   "execution_count": 1,
   "metadata": {},
   "outputs": [
    {
     "name": "stderr",
     "output_type": "stream",
     "text": [
      "2024-01-12 10:36:43.395604: E external/local_xla/xla/stream_executor/cuda/cuda_dnn.cc:9261] Unable to register cuDNN factory: Attempting to register factory for plugin cuDNN when one has already been registered\n",
      "2024-01-12 10:36:43.395679: E external/local_xla/xla/stream_executor/cuda/cuda_fft.cc:607] Unable to register cuFFT factory: Attempting to register factory for plugin cuFFT when one has already been registered\n",
      "2024-01-12 10:36:43.396629: E external/local_xla/xla/stream_executor/cuda/cuda_blas.cc:1515] Unable to register cuBLAS factory: Attempting to register factory for plugin cuBLAS when one has already been registered\n",
      "2024-01-12 10:36:43.402887: I tensorflow/core/platform/cpu_feature_guard.cc:182] This TensorFlow binary is optimized to use available CPU instructions in performance-critical operations.\n",
      "To enable the following instructions: AVX2 FMA, in other operations, rebuild TensorFlow with the appropriate compiler flags.\n",
      "2024-01-12 10:36:44.283697: W tensorflow/compiler/tf2tensorrt/utils/py_utils.cc:38] TF-TRT Warning: Could not find TensorRT\n"
     ]
    }
   ],
   "source": [
    "import pandas as pd\n",
    "import numpy as np\n",
    "import tensorflow as tf\n",
    "from pathlib import Path\n",
    "\n",
    "%load_ext autoreload\n",
    "%autoreload 2\n",
    "from base import datahandler, prediction_models, evaluation"
   ]
  },
  {
   "cell_type": "code",
   "execution_count": 2,
   "metadata": {},
   "outputs": [],
   "source": [
    "# Define the directory paths\n",
    "challenge_data_dir = Path('dataset/phase_1/')\n",
    "data_dir = challenge_data_dir / \"train\"\n",
    "labels_dir = challenge_data_dir / 'train_labels.csv'\n",
    "\n",
    "split_dataframes = datahandler.load_and_prepare_dataframes(data_dir, labels_dir)\n",
    "\n",
    "some_dataframes = {df_k : split_dataframes[df_k] for df_k in list(split_dataframes.keys())[:15]}"
   ]
  },
  {
   "cell_type": "code",
   "execution_count": 3,
   "metadata": {},
   "outputs": [
    {
     "name": "stdout",
     "output_type": "stream",
     "text": [
      "=========================Creating Dataset=========================\n",
      "Seed: 69\n",
      "nTrain: 200 nVal: 50 (0.80)\n",
      "Padding: zero\n",
      "Scaling: True \n",
      "Horizons: 40-40 @ stride 2\n",
      "Sin-Transformed features: ['True Anomaly (deg)', 'Argument of Periapsis (deg)']\n",
      "Labels: ['EW_encoded', 'EW_Node_Location', 'NS_encoded', 'NS_Node_Location']\n"
     ]
    },
    {
     "name": "stderr",
     "output_type": "stream",
     "text": [
      "2024-01-12 10:36:56.050833: I external/local_xla/xla/stream_executor/cuda/cuda_executor.cc:887] could not open file to read NUMA node: /sys/bus/pci/devices/0000:1c:00.0/numa_node\n",
      "Your kernel may have been built without NUMA support.\n",
      "2024-01-12 10:36:56.076399: I external/local_xla/xla/stream_executor/cuda/cuda_executor.cc:887] could not open file to read NUMA node: /sys/bus/pci/devices/0000:1c:00.0/numa_node\n",
      "Your kernel may have been built without NUMA support.\n",
      "2024-01-12 10:36:56.076469: I external/local_xla/xla/stream_executor/cuda/cuda_executor.cc:887] could not open file to read NUMA node: /sys/bus/pci/devices/0000:1c:00.0/numa_node\n",
      "Your kernel may have been built without NUMA support.\n",
      "2024-01-12 10:36:56.078886: I external/local_xla/xla/stream_executor/cuda/cuda_executor.cc:887] could not open file to read NUMA node: /sys/bus/pci/devices/0000:1c:00.0/numa_node\n",
      "Your kernel may have been built without NUMA support.\n",
      "2024-01-12 10:36:56.078989: I external/local_xla/xla/stream_executor/cuda/cuda_executor.cc:887] could not open file to read NUMA node: /sys/bus/pci/devices/0000:1c:00.0/numa_node\n",
      "Your kernel may have been built without NUMA support.\n",
      "2024-01-12 10:36:56.079049: I external/local_xla/xla/stream_executor/cuda/cuda_executor.cc:887] could not open file to read NUMA node: /sys/bus/pci/devices/0000:1c:00.0/numa_node\n",
      "Your kernel may have been built without NUMA support.\n",
      "2024-01-12 10:36:57.399789: I external/local_xla/xla/stream_executor/cuda/cuda_executor.cc:887] could not open file to read NUMA node: /sys/bus/pci/devices/0000:1c:00.0/numa_node\n",
      "Your kernel may have been built without NUMA support.\n",
      "2024-01-12 10:36:57.399868: I external/local_xla/xla/stream_executor/cuda/cuda_executor.cc:887] could not open file to read NUMA node: /sys/bus/pci/devices/0000:1c:00.0/numa_node\n",
      "Your kernel may have been built without NUMA support.\n",
      "2024-01-12 10:36:57.399878: I tensorflow/core/common_runtime/gpu/gpu_device.cc:2022] Could not identify NUMA node of platform GPU id 0, defaulting to 0.  Your kernel may not have been built with NUMA support.\n",
      "2024-01-12 10:36:57.399937: I external/local_xla/xla/stream_executor/cuda/cuda_executor.cc:887] could not open file to read NUMA node: /sys/bus/pci/devices/0000:1c:00.0/numa_node\n",
      "Your kernel may have been built without NUMA support.\n",
      "2024-01-12 10:36:57.399961: I tensorflow/core/common_runtime/gpu/gpu_device.cc:1929] Created device /job:localhost/replica:0/task:0/device:GPU:0 with 4575 MB memory:  -> device: 0, name: NVIDIA GeForce GTX 1060 6GB, pci bus id: 0000:1c:00.0, compute capability: 6.1\n"
     ]
    },
    {
     "name": "stdout",
     "output_type": "stream",
     "text": [
      "=========================Finished Dataset=========================\n"
     ]
    }
   ],
   "source": [
    "input_features = ['Eccentricity', 'Semimajor Axis (m)', 'Inclination (deg)', 'RAAN (deg)',\n",
    "       'Argument of Periapsis (deg)', 'True Anomaly (deg)', 'Latitude (deg)',\n",
    "       'Longitude (deg)', 'Altitude (m)', 'X (m)', 'Y (m)', 'Z (m)',\n",
    "       'Vx (m/s)', 'Vy (m/s)', 'Vz (m/s)']\n",
    "\n",
    "input_features_reduced = ['Eccentricity', 'Semimajor Axis (m)', 'Inclination (deg)', 'RAAN (deg)',\n",
    "       'Argument of Periapsis (deg)', 'True Anomaly (deg)', 'Latitude (deg)',\n",
    "       'Longitude (deg)', 'Altitude (m)']\n",
    "\n",
    "label_features=['EW', 'EW_Node_Location', 'NS', 'NS_Node_Location']\n",
    "\n",
    "ds_gen = datahandler.DatasetGenerator(split_df=split_dataframes, input_features=input_features_reduced,\n",
    "                                      label_features=label_features,\n",
    "                                      train_val_split=0.8, stride=1, input_stride=2, padding='zero',\n",
    "                                      input_history_steps=40, input_future_steps=40, seed=69)"
   ]
  },
  {
   "cell_type": "code",
   "execution_count": 4,
   "metadata": {},
   "outputs": [
    {
     "name": "stdout",
     "output_type": "stream",
     "text": [
      "(TensorSpec(shape=(None, 40, 9), dtype=tf.float64, name=None), {'EW': TensorSpec(shape=(None,), dtype=tf.int32, name=None), 'NS': TensorSpec(shape=(None,), dtype=tf.int32, name=None)})\n"
     ]
    }
   ],
   "source": [
    "train_combined, val_combined = ds_gen.get_datasets(batch_size=512, label_features=['EW', 'NS'], keep_identifier=False, shuffle=True)\n",
    "# train_combined = train_combined.filter(lambda x,y:y['EW_Node_Location']==1)\n",
    "# val_combined = val_combined.filter(lambda x,y:y['EW_Node_Location']==1)\n",
    "# train_combined = train_combined.map(lambda x,y:(x,{'EW':y['EW']}))\n",
    "# val_combined = val_combined.map(lambda x,y:(x,{'EW':y['EW']}))\n",
    "# train_combined = train_combined.batch(32)\n",
    "# val_combined = val_combined.batch(32)\n",
    "print(train_combined.element_spec)"
   ]
  },
  {
   "cell_type": "code",
   "execution_count": 5,
   "metadata": {},
   "outputs": [
    {
     "name": "stdout",
     "output_type": "stream",
     "text": [
      "Model: \"model\"\n",
      "__________________________________________________________________________________________________\n",
      " Layer (type)                Output Shape                 Param #   Connected to                  \n",
      "==================================================================================================\n",
      " Input (InputLayer)          [(None, 40, 9)]              0         []                            \n",
      "                                                                                                  \n",
      " lstm (LSTM)                 (None, 40, 48)               11136     ['Input[0][0]']               \n",
      "                                                                                                  \n",
      " dropout (Dropout)           (None, 40, 48)               0         ['lstm[0][0]']                \n",
      "                                                                                                  \n",
      " lstm_1 (LSTM)               (None, 48)                   18624     ['dropout[0][0]']             \n",
      "                                                                                                  \n",
      " dropout_1 (Dropout)         (None, 48)                   0         ['lstm_1[0][0]']              \n",
      "                                                                                                  \n",
      " flatten (Flatten)           (None, 48)                   0         ['dropout_1[0][0]']           \n",
      "                                                                                                  \n",
      " dense (Dense)               (None, 16)                   784       ['flatten[0][0]']             \n",
      "                                                                                                  \n",
      " EW (Dense)                  (None, 20)                   340       ['dense[0][0]']               \n",
      "                                                                                                  \n",
      " NS (Dense)                  (None, 20)                   340       ['dense[0][0]']               \n",
      "                                                                                                  \n",
      "==================================================================================================\n",
      "Total params: 31224 (121.97 KB)\n",
      "Trainable params: 31224 (121.97 KB)\n",
      "Non-trainable params: 0 (0.00 Byte)\n",
      "__________________________________________________________________________________________________\n",
      "Starting training. Optimizing \"val_accuracy\"\n",
      "Epoch 1/20\n"
     ]
    },
    {
     "name": "stderr",
     "output_type": "stream",
     "text": [
      "2024-01-12 10:37:06.477648: I external/local_xla/xla/stream_executor/cuda/cuda_dnn.cc:454] Loaded cuDNN version 8904\n",
      "2024-01-12 10:37:07.420917: I external/local_xla/xla/service/service.cc:168] XLA service 0x7f973c0ad7d0 initialized for platform CUDA (this does not guarantee that XLA will be used). Devices:\n",
      "2024-01-12 10:37:07.420968: I external/local_xla/xla/service/service.cc:176]   StreamExecutor device (0): NVIDIA GeForce GTX 1060 6GB, Compute Capability 6.1\n",
      "2024-01-12 10:37:07.428012: I tensorflow/compiler/mlir/tensorflow/utils/dump_mlir_util.cc:269] disabling MLIR crash reproducer, set env var `MLIR_CRASH_REPRODUCER_DIRECTORY` to enable.\n",
      "WARNING: All log messages before absl::InitializeLog() is called are written to STDERR\n",
      "I0000 00:00:1705052227.537581    6824 device_compiler.h:186] Compiled cluster using XLA!  This line is logged at most once for the lifetime of the process.\n"
     ]
    },
    {
     "name": "stdout",
     "output_type": "stream",
     "text": [
      "852/852 [==============================] - 28s 26ms/step - loss: 3.1165 - EW_loss: 1.3580 - NS_loss: 1.7398 - EW_accuracy: 0.5962 - NS_accuracy: 0.4435 - val_loss: 5.0106 - val_EW_loss: 2.6002 - val_NS_loss: 2.3895 - val_EW_accuracy: 0.5658 - val_NS_accuracy: 0.2879\n",
      "Epoch 2/20\n",
      "852/852 [==============================] - 22s 26ms/step - loss: 2.3038 - EW_loss: 1.0107 - NS_loss: 1.2691 - EW_accuracy: 0.6622 - NS_accuracy: 0.5443 - val_loss: 4.8503 - val_EW_loss: 2.4663 - val_NS_loss: 2.3585 - val_EW_accuracy: 0.5978 - val_NS_accuracy: 0.2694\n",
      "Epoch 3/20\n",
      "852/852 [==============================] - 21s 25ms/step - loss: 2.1077 - EW_loss: 0.8868 - NS_loss: 1.1928 - EW_accuracy: 0.7053 - NS_accuracy: 0.5665 - val_loss: 4.9025 - val_EW_loss: 2.6862 - val_NS_loss: 2.1868 - val_EW_accuracy: 0.5708 - val_NS_accuracy: 0.4169\n",
      "Epoch 4/20\n",
      "852/852 [==============================] - 21s 24ms/step - loss: 2.0295 - EW_loss: 0.8572 - NS_loss: 1.1407 - EW_accuracy: 0.7170 - NS_accuracy: 0.5888 - val_loss: 4.7797 - val_EW_loss: 2.5025 - val_NS_loss: 2.2450 - val_EW_accuracy: 0.6096 - val_NS_accuracy: 0.3218\n",
      "Epoch 5/20\n",
      "852/852 [==============================] - 21s 24ms/step - loss: 1.9440 - EW_loss: 0.8022 - NS_loss: 1.1078 - EW_accuracy: 0.7356 - NS_accuracy: 0.5898 - val_loss: 4.8174 - val_EW_loss: 2.4985 - val_NS_loss: 2.2843 - val_EW_accuracy: 0.6096 - val_NS_accuracy: 0.3385\n",
      "Epoch 6/20\n",
      "852/852 [==============================] - 21s 24ms/step - loss: 1.9300 - EW_loss: 0.7813 - NS_loss: 1.1125 - EW_accuracy: 0.7391 - NS_accuracy: 0.6026 - val_loss: 5.0677 - val_EW_loss: 2.6431 - val_NS_loss: 2.3885 - val_EW_accuracy: 0.6145 - val_NS_accuracy: 0.3540\n",
      "Epoch 7/20\n",
      "852/852 [==============================] - 21s 25ms/step - loss: 1.9486 - EW_loss: 0.7929 - NS_loss: 1.1179 - EW_accuracy: 0.7383 - NS_accuracy: 0.5946 - val_loss: 4.9188 - val_EW_loss: 2.5763 - val_NS_loss: 2.3047 - val_EW_accuracy: 0.5835 - val_NS_accuracy: 0.3205\n",
      "Epoch 8/20\n",
      "852/852 [==============================] - 21s 24ms/step - loss: 1.8639 - EW_loss: 0.7516 - NS_loss: 1.0726 - EW_accuracy: 0.7461 - NS_accuracy: 0.6179 - val_loss: 5.0981 - val_EW_loss: 2.6518 - val_NS_loss: 2.4071 - val_EW_accuracy: 0.6057 - val_NS_accuracy: 0.3176\n",
      "Epoch 9/20\n",
      "852/852 [==============================] - 21s 24ms/step - loss: 1.9290 - EW_loss: 0.8101 - NS_loss: 1.0782 - EW_accuracy: 0.7294 - NS_accuracy: 0.6087 - val_loss: 4.7840 - val_EW_loss: 2.4567 - val_NS_loss: 2.2873 - val_EW_accuracy: 0.6014 - val_NS_accuracy: 0.3684\n",
      "Epoch 10/20\n",
      "852/852 [==============================] - 21s 24ms/step - loss: 1.9756 - EW_loss: 0.8198 - NS_loss: 1.1133 - EW_accuracy: 0.7213 - NS_accuracy: 0.6026 - val_loss: 4.4164 - val_EW_loss: 2.2437 - val_NS_loss: 2.1307 - val_EW_accuracy: 0.6012 - val_NS_accuracy: 0.3376\n",
      "Epoch 11/20\n",
      "852/852 [==============================] - 21s 24ms/step - loss: 1.9158 - EW_loss: 0.8080 - NS_loss: 1.0635 - EW_accuracy: 0.7084 - NS_accuracy: 0.6071 - val_loss: 4.1309 - val_EW_loss: 1.9499 - val_NS_loss: 2.1371 - val_EW_accuracy: 0.6038 - val_NS_accuracy: 0.4045\n",
      "Epoch 12/20\n",
      "852/852 [==============================] - 23s 27ms/step - loss: 2.0519 - EW_loss: 0.8763 - NS_loss: 1.1302 - EW_accuracy: 0.6998 - NS_accuracy: 0.5908 - val_loss: 4.3807 - val_EW_loss: 2.1550 - val_NS_loss: 2.1804 - val_EW_accuracy: 0.6165 - val_NS_accuracy: 0.4995\n",
      "Epoch 13/20\n",
      "852/852 [==============================] - 22s 25ms/step - loss: 1.8859 - EW_loss: 0.7721 - NS_loss: 1.0684 - EW_accuracy: 0.7488 - NS_accuracy: 0.6191 - val_loss: 3.5917 - val_EW_loss: 1.6565 - val_NS_loss: 1.8909 - val_EW_accuracy: 0.6110 - val_NS_accuracy: 0.3578\n",
      "Epoch 14/20\n",
      "852/852 [==============================] - 21s 25ms/step - loss: 1.8085 - EW_loss: 0.7407 - NS_loss: 1.0225 - EW_accuracy: 0.7344 - NS_accuracy: 0.6165 - val_loss: 3.0158 - val_EW_loss: 1.3399 - val_NS_loss: 1.6314 - val_EW_accuracy: 0.6172 - val_NS_accuracy: 0.4878\n",
      "Epoch 15/20\n",
      "852/852 [==============================] - 22s 26ms/step - loss: 1.7705 - EW_loss: 0.7260 - NS_loss: 0.9991 - EW_accuracy: 0.7281 - NS_accuracy: 0.6077 - val_loss: 2.9306 - val_EW_loss: 1.2570 - val_NS_loss: 1.6289 - val_EW_accuracy: 0.6149 - val_NS_accuracy: 0.4066\n",
      "Epoch 16/20\n",
      "852/852 [==============================] - 21s 24ms/step - loss: 1.8087 - EW_loss: 0.7248 - NS_loss: 1.0376 - EW_accuracy: 0.7365 - NS_accuracy: 0.6188 - val_loss: 2.7737 - val_EW_loss: 1.3011 - val_NS_loss: 1.4272 - val_EW_accuracy: 0.6233 - val_NS_accuracy: 0.5274\n",
      "Epoch 17/20\n",
      "852/852 [==============================] - 21s 24ms/step - loss: 1.8411 - EW_loss: 0.7706 - NS_loss: 1.0227 - EW_accuracy: 0.7281 - NS_accuracy: 0.6195 - val_loss: 2.7247 - val_EW_loss: 1.1686 - val_NS_loss: 1.5087 - val_EW_accuracy: 0.6435 - val_NS_accuracy: 0.5594\n",
      "Epoch 18/20\n",
      "852/852 [==============================] - 21s 25ms/step - loss: 1.8013 - EW_loss: 0.7370 - NS_loss: 1.0164 - EW_accuracy: 0.7281 - NS_accuracy: 0.6161 - val_loss: 2.8539 - val_EW_loss: 1.3447 - val_NS_loss: 1.4617 - val_EW_accuracy: 0.6090 - val_NS_accuracy: 0.5142\n",
      "Epoch 19/20\n",
      "852/852 [==============================] - 21s 25ms/step - loss: 1.7293 - EW_loss: 0.7331 - NS_loss: 0.9483 - EW_accuracy: 0.7294 - NS_accuracy: 0.6541 - val_loss: 2.6618 - val_EW_loss: 1.2305 - val_NS_loss: 1.3839 - val_EW_accuracy: 0.6127 - val_NS_accuracy: 0.5434\n",
      "Epoch 20/20\n",
      "852/852 [==============================] - 22s 25ms/step - loss: 1.6618 - EW_loss: 0.6859 - NS_loss: 0.9279 - EW_accuracy: 0.7383 - NS_accuracy: 0.6802 - val_loss: 2.7419 - val_EW_loss: 1.2232 - val_NS_loss: 1.4714 - val_EW_accuracy: 0.6136 - val_NS_accuracy: 0.5598\n",
      "Finished training after 20 epochs.\n",
      "Evaluating model:\n",
      "852/852 [==============================] - 16s 18ms/step - loss: 2.3467 - EW_loss: 1.0927 - NS_loss: 1.2068 - EW_accuracy: 0.6430 - NS_accuracy: 0.6018\n",
      "213/213 [==============================] - 4s 18ms/step - loss: 2.7419 - EW_loss: 1.2232 - NS_loss: 1.4714 - EW_accuracy: 0.6136 - NS_accuracy: 0.5598\n"
     ]
    },
    {
     "name": "stderr",
     "output_type": "stream",
     "text": [
      "/home/david/miniconda3/envs/splid-gpu/lib/python3.10/site-packages/keras/src/engine/training.py:3103: UserWarning: You are saving your model as an HDF5 file via `model.save()`. This file format is considered legacy. We recommend using instead the native Keras format, e.g. `model.save('my_model.keras')`.\n",
      "  saving_api.save_model(\n",
      "/home/david/Code/splid-challenge/base/prediction_models.py:69: UserWarning: FigureCanvasAgg is non-interactive, and thus cannot be shown\n",
      "  fig.show()\n"
     ]
    },
    {
     "data": {
      "image/png": "[encoded data removed]",
      "text/plain": [
       "<Figure size 400x300 with 1 Axes>"
      ]
     },
     "metadata": {},
     "output_type": "display_data"
    },
    {
     "data": {
      "image/png": "[encoded data removed]",
      "text/plain": [
       "<Figure size 400x300 with 1 Axes>"
      ]
     },
     "metadata": {},
     "output_type": "display_data"
    }
   ],
   "source": [
    "#dense_model = prediction_models.Dense_NN(val_combined, conv1d_layers=[], dense_layers=[256,128,64], l2_reg=0.001, mixed_dropout=0.15, lr_scheduler=[30000,0.9], seed=0)\n",
    "#dense_model = prediction_models.CNN(train_combined, conv_layers=[[64,6],[64,3],[64,3]], l2_reg=0.001, mixed_dropout=0.15, lr_scheduler=[20000,0.8], seed=0)\n",
    "#dense_model = prediction_models.Dense_NN(train_combined, conv1d_layers=[], dense_layers=[256,128,64,32], l2_reg=0.001, mixed_dropout=0.15, lr_scheduler=[], seed=0)\n",
    "dense_model = prediction_models.LSTM_NN(train_combined, input_dropout=0.0, mixed_dropout=0.15, lstm_layers=[48,48], dense_layers=[16], l2_reg=0.0001, lr_scheduler=[25000,0.9], seed=1)\n",
    "\n",
    "dense_model.summary()\n",
    "hist = dense_model.fit(train_combined, val_ds=val_combined, epochs=20, verbose=1, plot_hist=False, callbacks=[])\n",
    "dense_model.model.save('models/ew_ns_classifier_new.hdf5')\n",
    "\n",
    "dense_model.plot_hist(hist, [k for k in hist.history.keys() if 'loss' in k])\n",
    "dense_model.plot_hist(hist, [k for k in hist.history.keys() if 'accuracy' in k])"
   ]
  },
  {
   "cell_type": "code",
   "execution_count": 8,
   "metadata": {},
   "outputs": [
    {
     "name": "stdout",
     "output_type": "stream",
     "text": [
      "Starting training. Optimizing \"val_accuracy\"\n",
      "Epoch 1/20\n",
      "852/852 [==============================] - 22s 26ms/step - loss: 1.5454 - EW_loss: 0.6271 - NS_loss: 0.8707 - EW_accuracy: 0.7765 - NS_accuracy: 0.7154 - val_loss: 2.4265 - val_EW_loss: 1.1024 - val_NS_loss: 1.2770 - val_EW_accuracy: 0.6440 - val_NS_accuracy: 0.6105\n",
      "Epoch 2/20\n",
      "852/852 [==============================] - 24s 28ms/step - loss: 1.6361 - EW_loss: 0.6746 - NS_loss: 0.9136 - EW_accuracy: 0.7575 - NS_accuracy: 0.6776 - val_loss: 2.8408 - val_EW_loss: 1.2808 - val_NS_loss: 1.5124 - val_EW_accuracy: 0.6138 - val_NS_accuracy: 0.5791\n",
      "Epoch 3/20\n",
      "852/852 [==============================] - 23s 27ms/step - loss: 1.4995 - EW_loss: 0.6038 - NS_loss: 0.8466 - EW_accuracy: 0.7822 - NS_accuracy: 0.7180 - val_loss: 2.5713 - val_EW_loss: 1.1571 - val_NS_loss: 1.3650 - val_EW_accuracy: 0.6440 - val_NS_accuracy: 0.6036\n",
      "Epoch 4/20\n",
      "852/852 [==============================] - 22s 26ms/step - loss: 1.6004 - EW_loss: 0.6656 - NS_loss: 0.8848 - EW_accuracy: 0.7618 - NS_accuracy: 0.6992 - val_loss: 2.5438 - val_EW_loss: 1.1444 - val_NS_loss: 1.3496 - val_EW_accuracy: 0.6319 - val_NS_accuracy: 0.5982\n",
      "Epoch 5/20\n",
      "852/852 [==============================] - 21s 25ms/step - loss: 1.5410 - EW_loss: 0.6333 - NS_loss: 0.8576 - EW_accuracy: 0.7705 - NS_accuracy: 0.7174 - val_loss: 3.8328 - val_EW_loss: 1.8113 - val_NS_loss: 1.9718 - val_EW_accuracy: 0.6071 - val_NS_accuracy: 0.5779\n",
      "Epoch 6/20\n",
      "852/852 [==============================] - 21s 25ms/step - loss: 1.5594 - EW_loss: 0.6442 - NS_loss: 0.8649 - EW_accuracy: 0.7607 - NS_accuracy: 0.7090 - val_loss: 2.6975 - val_EW_loss: 1.2096 - val_NS_loss: 1.4376 - val_EW_accuracy: 0.6438 - val_NS_accuracy: 0.5813\n",
      "Epoch 7/20\n",
      "852/852 [==============================] - 21s 24ms/step - loss: 1.5415 - EW_loss: 0.6171 - NS_loss: 0.8727 - EW_accuracy: 0.7824 - NS_accuracy: 0.7108 - val_loss: 2.3904 - val_EW_loss: 1.0075 - val_NS_loss: 1.3307 - val_EW_accuracy: 0.6465 - val_NS_accuracy: 0.5656\n",
      "Epoch 8/20\n",
      "852/852 [==============================] - 21s 25ms/step - loss: 1.4562 - EW_loss: 0.6037 - NS_loss: 0.7997 - EW_accuracy: 0.7990 - NS_accuracy: 0.7334 - val_loss: 2.2975 - val_EW_loss: 0.9994 - val_NS_loss: 1.2453 - val_EW_accuracy: 0.6414 - val_NS_accuracy: 0.6129\n",
      "Epoch 9/20\n",
      "852/852 [==============================] - 21s 24ms/step - loss: 1.4228 - EW_loss: 0.5943 - NS_loss: 0.7752 - EW_accuracy: 0.7838 - NS_accuracy: 0.7365 - val_loss: 2.5187 - val_EW_loss: 1.1398 - val_NS_loss: 1.3252 - val_EW_accuracy: 0.6494 - val_NS_accuracy: 0.6003\n",
      "Epoch 10/20\n",
      "852/852 [==============================] - 21s 24ms/step - loss: 1.4558 - EW_loss: 0.5880 - NS_loss: 0.8141 - EW_accuracy: 0.7860 - NS_accuracy: 0.7228 - val_loss: 2.3420 - val_EW_loss: 1.0435 - val_NS_loss: 1.2447 - val_EW_accuracy: 0.6402 - val_NS_accuracy: 0.6032\n",
      "Epoch 11/20\n",
      "852/852 [==============================] - 21s 24ms/step - loss: 1.3644 - EW_loss: 0.5585 - NS_loss: 0.7523 - EW_accuracy: 0.8049 - NS_accuracy: 0.7532 - val_loss: 2.6535 - val_EW_loss: 1.2197 - val_NS_loss: 1.3803 - val_EW_accuracy: 0.6445 - val_NS_accuracy: 0.6131\n",
      "Epoch 12/20\n",
      "852/852 [==============================] - 21s 24ms/step - loss: 1.4036 - EW_loss: 0.5853 - NS_loss: 0.7639 - EW_accuracy: 0.7987 - NS_accuracy: 0.7498 - val_loss: 2.3090 - val_EW_loss: 1.0604 - val_NS_loss: 1.1939 - val_EW_accuracy: 0.6629 - val_NS_accuracy: 0.6202\n",
      "Epoch 13/20\n",
      "852/852 [==============================] - 21s 24ms/step - loss: 1.3626 - EW_loss: 0.5570 - NS_loss: 0.7509 - EW_accuracy: 0.8023 - NS_accuracy: 0.7505 - val_loss: 2.4987 - val_EW_loss: 1.1225 - val_NS_loss: 1.3216 - val_EW_accuracy: 0.6552 - val_NS_accuracy: 0.6215\n",
      "Epoch 14/20\n",
      "852/852 [==============================] - 23s 26ms/step - loss: 1.3306 - EW_loss: 0.5432 - NS_loss: 0.7325 - EW_accuracy: 0.8085 - NS_accuracy: 0.7652 - val_loss: 2.3174 - val_EW_loss: 1.0812 - val_NS_loss: 1.1813 - val_EW_accuracy: 0.6795 - val_NS_accuracy: 0.6506\n",
      "Epoch 15/20\n",
      "852/852 [==============================] - 22s 26ms/step - loss: 1.2877 - EW_loss: 0.5324 - NS_loss: 0.6998 - EW_accuracy: 0.8197 - NS_accuracy: 0.7801 - val_loss: 2.2821 - val_EW_loss: 1.0348 - val_NS_loss: 1.1918 - val_EW_accuracy: 0.6879 - val_NS_accuracy: 0.6520\n",
      "Epoch 16/20\n",
      "852/852 [==============================] - 22s 26ms/step - loss: 1.2991 - EW_loss: 0.5352 - NS_loss: 0.7081 - EW_accuracy: 0.8190 - NS_accuracy: 0.7719 - val_loss: 2.3161 - val_EW_loss: 1.0700 - val_NS_loss: 1.1902 - val_EW_accuracy: 0.6561 - val_NS_accuracy: 0.6128\n",
      "Epoch 17/20\n",
      "852/852 [==============================] - 22s 25ms/step - loss: 1.3254 - EW_loss: 0.5401 - NS_loss: 0.7290 - EW_accuracy: 0.8182 - NS_accuracy: 0.7646 - val_loss: 2.3685 - val_EW_loss: 1.0912 - val_NS_loss: 1.2211 - val_EW_accuracy: 0.6741 - val_NS_accuracy: 0.6291\n",
      "Epoch 18/20\n",
      "852/852 [==============================] - 22s 26ms/step - loss: 1.2906 - EW_loss: 0.5194 - NS_loss: 0.7145 - EW_accuracy: 0.8155 - NS_accuracy: 0.7633 - val_loss: 2.6107 - val_EW_loss: 1.2680 - val_NS_loss: 1.2862 - val_EW_accuracy: 0.6294 - val_NS_accuracy: 0.5899\n",
      "Epoch 19/20\n",
      "852/852 [==============================] - 22s 26ms/step - loss: 1.3032 - EW_loss: 0.5319 - NS_loss: 0.7139 - EW_accuracy: 0.8151 - NS_accuracy: 0.7617 - val_loss: 2.6391 - val_EW_loss: 1.1911 - val_NS_loss: 1.3897 - val_EW_accuracy: 0.6380 - val_NS_accuracy: 0.5844\n",
      "Epoch 20/20\n",
      "852/852 [==============================] - 21s 25ms/step - loss: 1.3291 - EW_loss: 0.5416 - NS_loss: 0.7292 - EW_accuracy: 0.8094 - NS_accuracy: 0.7556 - val_loss: 2.2316 - val_EW_loss: 1.0498 - val_NS_loss: 1.1234 - val_EW_accuracy: 0.6746 - val_NS_accuracy: 0.6282\n",
      "Finished training after 20 epochs.\n",
      "Evaluating model:\n",
      "852/852 [==============================] - 15s 18ms/step - loss: 1.8169 - EW_loss: 0.8311 - NS_loss: 0.9275 - EW_accuracy: 0.7044 - NS_accuracy: 0.6823\n",
      "213/213 [==============================] - 4s 18ms/step - loss: 2.2316 - EW_loss: 1.0498 - NS_loss: 1.1234 - EW_accuracy: 0.6746 - NS_accuracy: 0.6282\n"
     ]
    }
   ],
   "source": [
    "hist = dense_model.fit(train_combined, val_ds=val_combined, epochs=20, verbose=1, plot_hist=False, callbacks=[])\n"
   ]
  },
  {
   "cell_type": "code",
   "execution_count": 6,
   "metadata": {},
   "outputs": [],
   "source": [
    "def classification_eval(ds_gen, gt_path, model, train=True):\n",
    "\n",
    "    t_ds, v_ds = ds_gen.get_datasets(batch_size=None, label_features=label_features, shuffle=False, keep_identifier=True)\n",
    "    ds = t_ds if train else v_ds\n",
    "    # only predict on the necessary locations\n",
    "    ds = ds.filter(lambda x,y,z:y['EW_Node_Location']==1 or y['NS_Node_Location']==1)\n",
    "    #ds = ds.map(lambda x,y,z:(x,{'EW':y['EW']},z))\n",
    "    #ds = ds.map(lambda x,y,z:(x,{'EW_Type':y['EW_Type']},z))\n",
    "    ds = ds.batch(256)\n",
    "\n",
    "    ground_truth_from_file = pd.read_csv(gt_path).sort_values(['ObjectID', 'TimeIndex']).reset_index(drop=True)\n",
    "    ground_truth_from_file = ground_truth_from_file[ground_truth_from_file['ObjectID'].isin(map(int, ds_gen.train_keys if train else ds_gen.val_keys))].copy()\n",
    "    #ground_truth_from_file = ground_truth_from_file[(ground_truth_from_file['Direction'] == 'EW')]\n",
    "    #ground_truth_from_file[['Node_gt', 'Type_gt']] = ground_truth_from_file[['Node', 'Type']]\n",
    "\n",
    "    inputs = np.concatenate([element for element in ds.map(lambda x,y,z: x).as_numpy_iterator()])\n",
    "    #labels = np.concatenate([element['EW_Node_Location'] for element in ds.map(lambda x,y,z: y).as_numpy_iterator()])\n",
    "    identifiers = np.concatenate([element for element in ds.map(lambda x,y,z: z).as_numpy_iterator()])\n",
    "\n",
    "    # get predictions\n",
    "    preds = model.predict(inputs)\n",
    "    preds_argmax_ew = np.argmax(preds[0], axis=1)\n",
    "    preds_argmax_ns = np.argmax(preds[1], axis=1)\n",
    "\n",
    "    df = pd.DataFrame(np.concatenate([identifiers.reshape(-1,2)], axis=1), columns=['ObjectID', 'TimeIndex'], dtype=np.int32)\n",
    "    df[f'EW_Pred'] = preds_argmax_ew\n",
    "    df[f'NS_Pred'] = preds_argmax_ns\n",
    "    df[f'EW_Pred_Decoded'] = ds_gen.combined_label_encoder.inverse_transform(df[f'EW_Pred'])\n",
    "    df[f'NS_Pred_Decoded'] = ds_gen.combined_label_encoder.inverse_transform(df[f'NS_Pred'])\n",
    "    df[['Node_EW', 'Type_EW']] = df['EW_Pred_Decoded'].str.split('-', expand=True)\n",
    "    df[['Node_NS', 'Type_NS']] = df['NS_Pred_Decoded'].str.split('-', expand=True)\n",
    "    \n",
    "    \n",
    "    df_filtered = df.sort_values(['ObjectID', 'TimeIndex']).reset_index(drop=True)\n",
    "\n",
    "    # now, assign the real label to the locations\n",
    "    mergeDf = df_filtered.merge(ground_truth_from_file[['ObjectID', 'TimeIndex', 'Direction']], how='right', on = ['ObjectID', 'TimeIndex'])\n",
    "    \n",
    "    #mergeDf.loc[(mergeDf['Type'].isna()), 'Type'] = mergeDf['Type_gt'] # Temporary fix as I forgot to use padding\n",
    "    mergeDf.loc[mergeDf['Direction'] == 'EW', 'Node'] = mergeDf.loc[mergeDf['Direction'] == 'EW', 'Node_EW']\n",
    "    mergeDf.loc[mergeDf['Direction'] == 'EW', 'Type'] = mergeDf.loc[mergeDf['Direction'] == 'EW', 'Type_EW']\n",
    "    mergeDf.loc[mergeDf['Direction'] == 'NS', 'Node'] = mergeDf.loc[mergeDf['Direction'] == 'NS', 'Node_NS']\n",
    "    mergeDf.loc[mergeDf['Direction'] == 'NS', 'Type'] = mergeDf.loc[mergeDf['Direction'] == 'NS', 'Type_NS']\n",
    "    # For timeindex 0, the node is always SS\n",
    "    mergeDf.loc[mergeDf['TimeIndex'] == 0, 'Node'] = 'SS'\n",
    "    # remove ES rows\n",
    "    mergeDf.dropna(inplace=True)\n",
    "\n",
    "    evaluator = evaluation.NodeDetectionEvaluator(ground_truth=ground_truth_from_file, participant=mergeDf)\n",
    "    precision, recall, f2, rmse, total_tp, total_fp, total_fn = evaluator.score()\n",
    "    print(f'Precision: {precision:.2f}')\n",
    "    # print(f'Recall: {recall:.2f}')\n",
    "    # print(f'F2: {f2:.2f}')\n",
    "    # print(f'RMSE: {rmse:.4}')\n",
    "    print(f'TP: {total_tp} FP: {total_fp}')\n",
    "\n",
    "    return mergeDf"
   ]
  },
  {
   "cell_type": "code",
   "execution_count": 9,
   "metadata": {},
   "outputs": [
    {
     "name": "stdout",
     "output_type": "stream",
     "text": [
      "4/4 [==============================] - 0s 9ms/step\n",
      "Precision: 0.49\n",
      "TP: 84 FP: 86\n",
      "    ObjectID  TimeIndex  EW_Pred  NS_Pred EW_Pred_Decoded NS_Pred_Decoded  \\\n",
      "0         10          0     16.0     16.0           SS-CK           SS-CK   \n",
      "1         10          0     16.0     16.0           SS-CK           SS-CK   \n",
      "2         10        216     16.0     16.0           SS-CK           SS-CK   \n",
      "4         15          0     16.0     16.0           SS-CK           SS-CK   \n",
      "5         15          0     16.0     16.0           SS-CK           SS-CK   \n",
      "7         21          0     16.0     16.0           SS-CK           SS-CK   \n",
      "8         21          0     16.0     16.0           SS-CK           SS-CK   \n",
      "10        26          0     16.0     16.0           SS-CK           SS-CK   \n",
      "11        26          0     16.0     16.0           SS-CK           SS-CK   \n",
      "13        30          0     16.0     16.0           SS-CK           SS-CK   \n",
      "14        30          0     16.0     16.0           SS-CK           SS-CK   \n",
      "16        36          0     16.0     16.0           SS-CK           SS-CK   \n",
      "17        36          0     16.0     16.0           SS-CK           SS-CK   \n",
      "19        45          0     16.0     16.0           SS-CK           SS-CK   \n",
      "20        45          0     16.0     16.0           SS-CK           SS-CK   \n",
      "22        47          0     16.0     16.0           SS-CK           SS-CK   \n",
      "23        47          0     16.0     16.0           SS-CK           SS-CK   \n",
      "25        50          0     16.0     16.0           SS-CK           SS-CK   \n",
      "26        50          0     16.0     16.0           SS-CK           SS-CK   \n",
      "28        52          0     16.0     16.0           SS-CK           SS-CK   \n",
      "\n",
      "   Node_EW Type_EW Node_NS Type_NS Direction Node Type  \n",
      "0       SS      CK      SS      CK        EW   SS   CK  \n",
      "1       SS      CK      SS      CK        NS   SS   CK  \n",
      "2       SS      CK      SS      CK        NS   SS   CK  \n",
      "4       SS      CK      SS      CK        EW   SS   CK  \n",
      "5       SS      CK      SS      CK        NS   SS   CK  \n",
      "7       SS      CK      SS      CK        EW   SS   CK  \n",
      "8       SS      CK      SS      CK        NS   SS   CK  \n",
      "10      SS      CK      SS      CK        EW   SS   CK  \n",
      "11      SS      CK      SS      CK        NS   SS   CK  \n",
      "13      SS      CK      SS      CK        EW   SS   CK  \n",
      "14      SS      CK      SS      CK        NS   SS   CK  \n",
      "16      SS      CK      SS      CK        EW   SS   CK  \n",
      "17      SS      CK      SS      CK        NS   SS   CK  \n",
      "19      SS      CK      SS      CK        EW   SS   CK  \n",
      "20      SS      CK      SS      CK        NS   SS   CK  \n",
      "22      SS      CK      SS      CK        EW   SS   CK  \n",
      "23      SS      CK      SS      CK        NS   SS   CK  \n",
      "25      SS      CK      SS      CK        EW   SS   CK  \n",
      "26      SS      CK      SS      CK        NS   SS   CK  \n",
      "28      SS      CK      SS      CK        EW   SS   CK  \n"
     ]
    }
   ],
   "source": [
    "eval_df = classification_eval(ds_gen, challenge_data_dir / 'train_labels.csv', dense_model.model, train=False)\n",
    "print(eval_df.head(20))\n",
    "# Dense: worse\n",
    "# LSTM 40-40@2 same-padding: 0.51\n",
    "# LSTM 40-40@2 zero-padding: 0.49\n",
    "# LSTM 80-80@5: 0.49"
   ]
  },
  {
   "cell_type": "code",
   "execution_count": 10,
   "metadata": {},
   "outputs": [
    {
     "name": "stdout",
     "output_type": "stream",
     "text": [
      "14/14 [==============================] - 0s 11ms/step\n",
      "Precision: 0.52\n",
      "TP: 367 FP: 336\n"
     ]
    }
   ],
   "source": [
    "eval_df = classification_eval(ds_gen, challenge_data_dir / 'train_labels.csv', dense_model.model, train=True)\n",
    "# LSTM 40-40@2: 0.49\n",
    "# LSTM 40-40@2 zero-padding: 0.52\n",
    "# LSTM 80-80@5: 0.51"
   ]
  },
  {
   "cell_type": "code",
   "execution_count": 12,
   "metadata": {},
   "outputs": [
    {
     "name": "stdout",
     "output_type": "stream",
     "text": [
      "['10', '104', '114', '115', '116', '119', '121', '123', '137', '139', '148', '15', '160', '161', '167', '171', '176', '184', '185', '193', '198', '199', '21', '211', '212', '221', '222', '227', '230', '233', '235', '238', '241', '245', '26', '30', '36', '45', '47', '50', '52', '60', '61', '66', '67', '73', '84', '87', '88', '91']\n"
     ]
    }
   ],
   "source": [
    "print(ds_gen.val_keys)\n",
    "import shutil"
   ]
  },
  {
   "cell_type": "code",
   "execution_count": 23,
   "metadata": {},
   "outputs": [
    {
     "name": "stdout",
     "output_type": "stream",
     "text": [
      "   ObjectID  TimeIndex Direction Node Type\n",
      "0        21          0        EW   SS   HK\n",
      "1        21          0        NS   SS   HK\n",
      "2        21       2171        ES   ES   ES\n",
      "3       198          0        EW   SS   HK\n",
      "4       198          0        NS   SS   HK\n",
      "5       198       1249        EW   ID   NK\n",
      "6       198       1249        NS   ID   NK\n",
      "7       198       2183        ES   ES   ES\n",
      "8       136          0        EW   SS   NK\n",
      "9       136          0        NS   SS   NK\n"
     ]
    }
   ],
   "source": [
    "\n",
    "labels=pd.read_csv(labels_dir)\n",
    "print(labels.head(10))\n",
    "labels = labels.loc[(labels['ObjectID'].isin(map(int, ds_gen.val_keys)))]\n",
    "labels = labels.sort_values(['ObjectID', 'TimeIndex']).reset_index(drop=True)\n",
    "labels.to_csv('submission/dataset/test_labels.csv', index=False)\n"
   ]
  },
  {
   "cell_type": "code",
   "execution_count": null,
   "metadata": {},
   "outputs": [],
   "source": []
  }
 ],
 "metadata": {
  "kernelspec": {
   "display_name": "splid-gpu",
   "language": "python",
   "name": "python3"
  },
  "language_info": {
   "codemirror_mode": {
    "name": "ipython",
    "version": 3
   },
   "file_extension": ".py",
   "mimetype": "text/x-python",
   "name": "python",
   "nbconvert_exporter": "python",
   "pygments_lexer": "ipython3",
   "version": "3.10.13"
  }
 },
 "nbformat": 4,
 "nbformat_minor": 2
}
