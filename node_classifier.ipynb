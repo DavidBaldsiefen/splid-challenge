{
 "cells": [
  {
   "cell_type": "code",
   "execution_count": 1,
   "metadata": {},
   "outputs": [
    {
     "name": "stderr",
     "output_type": "stream",
     "text": [
      "2024-01-13 00:28:31.912031: E external/local_xla/xla/stream_executor/cuda/cuda_dnn.cc:9261] Unable to register cuDNN factory: Attempting to register factory for plugin cuDNN when one has already been registered\n",
      "2024-01-13 00:28:31.912088: E external/local_xla/xla/stream_executor/cuda/cuda_fft.cc:607] Unable to register cuFFT factory: Attempting to register factory for plugin cuFFT when one has already been registered\n",
      "2024-01-13 00:28:31.912832: E external/local_xla/xla/stream_executor/cuda/cuda_blas.cc:1515] Unable to register cuBLAS factory: Attempting to register factory for plugin cuBLAS when one has already been registered\n",
      "2024-01-13 00:28:31.919092: I tensorflow/core/platform/cpu_feature_guard.cc:182] This TensorFlow binary is optimized to use available CPU instructions in performance-critical operations.\n",
      "To enable the following instructions: AVX2 FMA, in other operations, rebuild TensorFlow with the appropriate compiler flags.\n",
      "2024-01-13 00:28:32.918333: W tensorflow/compiler/tf2tensorrt/utils/py_utils.cc:38] TF-TRT Warning: Could not find TensorRT\n"
     ]
    }
   ],
   "source": [
    "import pandas as pd\n",
    "import numpy as np\n",
    "import tensorflow as tf\n",
    "from pathlib import Path\n",
    "\n",
    "%load_ext autoreload\n",
    "%autoreload 2\n",
    "from base import datahandler, prediction_models, evaluation"
   ]
  },
  {
   "cell_type": "code",
   "execution_count": 2,
   "metadata": {},
   "outputs": [],
   "source": [
    "# Define the directory paths\n",
    "challenge_data_dir = Path('dataset/phase_1/')\n",
    "data_dir = challenge_data_dir / \"train\"\n",
    "labels_dir = challenge_data_dir / 'train_labels.csv'\n",
    "\n",
    "split_dataframes = datahandler.load_and_prepare_dataframes(data_dir, labels_dir)\n",
    "\n",
    "some_dataframes = {df_k : split_dataframes[df_k] for df_k in list(split_dataframes.keys())[:15]}"
   ]
  },
  {
   "cell_type": "code",
   "execution_count": 11,
   "metadata": {},
   "outputs": [
    {
     "name": "stdout",
     "output_type": "stream",
     "text": [
      "=========================Creating Generator=======================\n",
      "Seed: 69\n",
      "nTrain: 200 nVal: 50 (0.80)\n",
      "Padding: none\n",
      "Scaling: True \n",
      "Horizons: 60-60 @ stride 4\n",
      "Sin-Transformed features: ['True Anomaly (deg)', 'Argument of Periapsis (deg)']\n",
      "=========================Finished Generator=======================\n"
     ]
    }
   ],
   "source": [
    "input_features = ['Eccentricity', 'Semimajor Axis (m)', 'Inclination (deg)', 'RAAN (deg)',\n",
    "       'Argument of Periapsis (deg)', 'True Anomaly (deg)', 'Latitude (deg)',\n",
    "       'Longitude (deg)', 'Altitude (m)', 'X (m)', 'Y (m)', 'Z (m)',\n",
    "       'Vx (m/s)', 'Vy (m/s)', 'Vz (m/s)']\n",
    "\n",
    "input_features_reduced = ['Eccentricity', 'Semimajor Axis (m)', 'Inclination (deg)', 'RAAN (deg)',\n",
    "       'Argument of Periapsis (deg)', 'True Anomaly (deg)', 'Latitude (deg)',\n",
    "       'Longitude (deg)', 'Altitude (m)']\n",
    "\n",
    "label_features=['EW', 'EW_Type', 'EW_Node', 'EW_Node_Location', 'NS', 'NS_Type', 'NS_Node', 'NS_Node_Location']\n",
    "\n",
    "ds_gen = datahandler.DatasetGenerator(split_df=split_dataframes, input_features=input_features_reduced,\n",
    "                                      with_labels=True,\n",
    "                                      train_val_split=0.8, input_stride=4, padding='none',\n",
    "                                      input_history_steps=60, input_future_steps=60, seed=69)"
   ]
  },
  {
   "cell_type": "code",
   "execution_count": 12,
   "metadata": {},
   "outputs": [
    {
     "name": "stdout",
     "output_type": "stream",
     "text": [
      "(TensorSpec(shape=(None, 30, 9), dtype=tf.float64, name=None), {'EW_Type': TensorSpec(shape=(None,), dtype=tf.int32, name=None), 'NS_Type': TensorSpec(shape=(None,), dtype=tf.int32, name=None)})\n"
     ]
    }
   ],
   "source": [
    "train_combined, val_combined = ds_gen.get_datasets(batch_size=512, label_features=['EW_Type', 'NS_Type'], with_identifier=False, shuffle=True, stride=2)\n",
    "# train_combined = train_combined.filter(lambda x,y:y['EW_Node_Location']==1)\n",
    "# val_combined = val_combined.filter(lambda x,y:y['EW_Node_Location']==1)\n",
    "# train_combined = train_combined.map(lambda x,y:(x,{'EW':y['EW']}))\n",
    "# val_combined = val_combined.map(lambda x,y:(x,{'EW':y['EW']}))\n",
    "# train_combined = train_combined.batch(32)\n",
    "# val_combined = val_combined.batch(32)\n",
    "print(train_combined.element_spec)"
   ]
  },
  {
   "cell_type": "code",
   "execution_count": 15,
   "metadata": {},
   "outputs": [
    {
     "name": "stdout",
     "output_type": "stream",
     "text": [
      "Model: \"model\"\n",
      "__________________________________________________________________________________________________\n",
      " Layer (type)                Output Shape                 Param #   Connected to                  \n",
      "==================================================================================================\n",
      " Input (InputLayer)          [(None, 30, 9)]              0         []                            \n",
      "                                                                                                  \n",
      " flatten (Flatten)           (None, 270)                  0         ['Input[0][0]']               \n",
      "                                                                                                  \n",
      " dense (Dense)               (None, 256)                  69376     ['flatten[0][0]']             \n",
      "                                                                                                  \n",
      " dense_1 (Dense)             (None, 128)                  32896     ['dense[0][0]']               \n",
      "                                                                                                  \n",
      " dense_2 (Dense)             (None, 64)                   8256      ['dense_1[0][0]']             \n",
      "                                                                                                  \n",
      " dense_3 (Dense)             (None, 32)                   2080      ['dense_2[0][0]']             \n",
      "                                                                                                  \n",
      " EW_Type (Dense)             (None, 4)                    132       ['dense_3[0][0]']             \n",
      "                                                                                                  \n",
      " NS_Type (Dense)             (None, 4)                    132       ['dense_3[0][0]']             \n",
      "                                                                                                  \n",
      "==================================================================================================\n",
      "Total params: 112872 (440.91 KB)\n",
      "Trainable params: 112872 (440.91 KB)\n",
      "Non-trainable params: 0 (0.00 Byte)\n",
      "__________________________________________________________________________________________________\n",
      "Starting training. Optimizing \"val_accuracy\"\n",
      "Epoch 1/2\n"
     ]
    },
    {
     "name": "stderr",
     "output_type": "stream",
     "text": [
      "2024-01-13 00:39:27.473687: I external/local_xla/xla/service/service.cc:168] XLA service 0x7f3ddc018180 initialized for platform CUDA (this does not guarantee that XLA will be used). Devices:\n",
      "2024-01-13 00:39:27.473741: I external/local_xla/xla/service/service.cc:176]   StreamExecutor device (0): NVIDIA GeForce GTX 1060 6GB, Compute Capability 6.1\n",
      "2024-01-13 00:39:27.481652: I tensorflow/compiler/mlir/tensorflow/utils/dump_mlir_util.cc:269] disabling MLIR crash reproducer, set env var `MLIR_CRASH_REPRODUCER_DIRECTORY` to enable.\n",
      "2024-01-13 00:39:28.042818: I external/local_xla/xla/stream_executor/cuda/cuda_dnn.cc:454] Loaded cuDNN version 8904\n",
      "WARNING: All log messages before absl::InitializeLog() is called are written to STDERR\n",
      "I0000 00:00:1705102768.138152   93030 device_compiler.h:186] Compiled cluster using XLA!  This line is logged at most once for the lifetime of the process.\n"
     ]
    },
    {
     "name": "stdout",
     "output_type": "stream",
     "text": [
      "403/403 [==============================] - 9s 13ms/step - loss: 2.0269 - EW_Type_loss: 1.0702 - NS_Type_loss: 0.9567 - EW_Type_accuracy: 0.7510 - NS_Type_accuracy: 0.6515 - val_loss: 6.1568 - val_EW_Type_loss: 3.7739 - val_NS_Type_loss: 2.3829 - val_EW_Type_accuracy: 0.5767 - val_NS_Type_accuracy: 0.4666\n",
      "Epoch 2/2\n",
      "403/403 [==============================] - 5s 13ms/step - loss: 1.6699 - EW_Type_loss: 0.7071 - NS_Type_loss: 0.9628 - EW_Type_accuracy: 0.7535 - NS_Type_accuracy: 0.6424 - val_loss: 6.4992 - val_EW_Type_loss: 3.4340 - val_NS_Type_loss: 3.0652 - val_EW_Type_accuracy: 0.6170 - val_NS_Type_accuracy: 0.4657\n",
      "Finished training after 2 epochs.\n",
      "Evaluating model:\n",
      "403/403 [==============================] - 3s 7ms/step - loss: 6.1074 - EW_Type_loss: 3.5712 - NS_Type_loss: 2.5362 - EW_Type_accuracy: 0.6536 - NS_Type_accuracy: 0.5047\n",
      "101/101 [==============================] - 1s 7ms/step - loss: 6.4992 - EW_Type_loss: 3.4340 - NS_Type_loss: 3.0652 - EW_Type_accuracy: 0.6170 - NS_Type_accuracy: 0.4657\n"
     ]
    },
    {
     "name": "stderr",
     "output_type": "stream",
     "text": [
      "/home/david/Code/splid-challenge/base/prediction_models.py:73: UserWarning: FigureCanvasAgg is non-interactive, and thus cannot be shown\n",
      "  fig.show()\n"
     ]
    },
    {
     "data": {
      "image/png": "[encoded data removed]",
      "text/plain": [
       "<Figure size 400x300 with 1 Axes>"
      ]
     },
     "metadata": {},
     "output_type": "display_data"
    },
    {
     "data": {
      "image/png": "[encoded data removed]",
      "text/plain": [
       "<Figure size 400x300 with 1 Axes>"
      ]
     },
     "metadata": {},
     "output_type": "display_data"
    }
   ],
   "source": [
    "#dense_model = prediction_models.Dense_NN(val_combined, conv1d_layers=[], dense_layers=[256,128,64], l2_reg=0.001, mixed_dropout=0.15, lr_scheduler=[30000,0.9], seed=0)\n",
    "#dense_model = prediction_models.CNN(train_combined, conv_layers=[[64,6],[64,3],[64,3]], l2_reg=0.001, mixed_dropout=0.15, lr_scheduler=[20000,0.8], seed=0)\n",
    "dense_model = prediction_models.Dense_NN(train_combined, conv1d_layers=[], dense_layers=[256,128,64,32], l2_reg=0.0, mixed_dropout=0.0, lr_scheduler=[], seed=0)\n",
    "#dense_model = prediction_models.LSTM_NN(train_combined, input_dropout=0.0, mixed_dropout=0.15, lstm_layers=[48,48], dense_layers=[16], l2_reg=0.0, lr_scheduler=[25000,0.9], seed=1)\n",
    "\n",
    "dense_model.summary()\n",
    "hist = dense_model.fit(train_combined, val_ds=val_combined, epochs=2, verbose=1, plot_hist=False, callbacks=[])\n",
    "#dense_model.model.save('models/ew_ns_classifier_new.hdf5')\n",
    "\n",
    "dense_model.plot_hist(hist, [k for k in hist.history.keys() if 'loss' in k])\n",
    "dense_model.plot_hist(hist, [k for k in hist.history.keys() if 'accuracy' in k])"
   ]
  },
  {
   "cell_type": "code",
   "execution_count": 8,
   "metadata": {},
   "outputs": [
    {
     "name": "stdout",
     "output_type": "stream",
     "text": [
      "Starting training. Optimizing \"val_accuracy\"\n",
      "Epoch 1/20\n",
      "852/852 [==============================] - 22s 26ms/step - loss: 1.5454 - EW_loss: 0.6271 - NS_loss: 0.8707 - EW_accuracy: 0.7765 - NS_accuracy: 0.7154 - val_loss: 2.4265 - val_EW_loss: 1.1024 - val_NS_loss: 1.2770 - val_EW_accuracy: 0.6440 - val_NS_accuracy: 0.6105\n",
      "Epoch 2/20\n",
      "852/852 [==============================] - 24s 28ms/step - loss: 1.6361 - EW_loss: 0.6746 - NS_loss: 0.9136 - EW_accuracy: 0.7575 - NS_accuracy: 0.6776 - val_loss: 2.8408 - val_EW_loss: 1.2808 - val_NS_loss: 1.5124 - val_EW_accuracy: 0.6138 - val_NS_accuracy: 0.5791\n",
      "Epoch 3/20\n",
      "852/852 [==============================] - 23s 27ms/step - loss: 1.4995 - EW_loss: 0.6038 - NS_loss: 0.8466 - EW_accuracy: 0.7822 - NS_accuracy: 0.7180 - val_loss: 2.5713 - val_EW_loss: 1.1571 - val_NS_loss: 1.3650 - val_EW_accuracy: 0.6440 - val_NS_accuracy: 0.6036\n",
      "Epoch 4/20\n",
      "852/852 [==============================] - 22s 26ms/step - loss: 1.6004 - EW_loss: 0.6656 - NS_loss: 0.8848 - EW_accuracy: 0.7618 - NS_accuracy: 0.6992 - val_loss: 2.5438 - val_EW_loss: 1.1444 - val_NS_loss: 1.3496 - val_EW_accuracy: 0.6319 - val_NS_accuracy: 0.5982\n",
      "Epoch 5/20\n",
      "852/852 [==============================] - 21s 25ms/step - loss: 1.5410 - EW_loss: 0.6333 - NS_loss: 0.8576 - EW_accuracy: 0.7705 - NS_accuracy: 0.7174 - val_loss: 3.8328 - val_EW_loss: 1.8113 - val_NS_loss: 1.9718 - val_EW_accuracy: 0.6071 - val_NS_accuracy: 0.5779\n",
      "Epoch 6/20\n",
      "852/852 [==============================] - 21s 25ms/step - loss: 1.5594 - EW_loss: 0.6442 - NS_loss: 0.8649 - EW_accuracy: 0.7607 - NS_accuracy: 0.7090 - val_loss: 2.6975 - val_EW_loss: 1.2096 - val_NS_loss: 1.4376 - val_EW_accuracy: 0.6438 - val_NS_accuracy: 0.5813\n",
      "Epoch 7/20\n",
      "852/852 [==============================] - 21s 24ms/step - loss: 1.5415 - EW_loss: 0.6171 - NS_loss: 0.8727 - EW_accuracy: 0.7824 - NS_accuracy: 0.7108 - val_loss: 2.3904 - val_EW_loss: 1.0075 - val_NS_loss: 1.3307 - val_EW_accuracy: 0.6465 - val_NS_accuracy: 0.5656\n",
      "Epoch 8/20\n",
      "852/852 [==============================] - 21s 25ms/step - loss: 1.4562 - EW_loss: 0.6037 - NS_loss: 0.7997 - EW_accuracy: 0.7990 - NS_accuracy: 0.7334 - val_loss: 2.2975 - val_EW_loss: 0.9994 - val_NS_loss: 1.2453 - val_EW_accuracy: 0.6414 - val_NS_accuracy: 0.6129\n",
      "Epoch 9/20\n",
      "852/852 [==============================] - 21s 24ms/step - loss: 1.4228 - EW_loss: 0.5943 - NS_loss: 0.7752 - EW_accuracy: 0.7838 - NS_accuracy: 0.7365 - val_loss: 2.5187 - val_EW_loss: 1.1398 - val_NS_loss: 1.3252 - val_EW_accuracy: 0.6494 - val_NS_accuracy: 0.6003\n",
      "Epoch 10/20\n",
      "852/852 [==============================] - 21s 24ms/step - loss: 1.4558 - EW_loss: 0.5880 - NS_loss: 0.8141 - EW_accuracy: 0.7860 - NS_accuracy: 0.7228 - val_loss: 2.3420 - val_EW_loss: 1.0435 - val_NS_loss: 1.2447 - val_EW_accuracy: 0.6402 - val_NS_accuracy: 0.6032\n",
      "Epoch 11/20\n",
      "852/852 [==============================] - 21s 24ms/step - loss: 1.3644 - EW_loss: 0.5585 - NS_loss: 0.7523 - EW_accuracy: 0.8049 - NS_accuracy: 0.7532 - val_loss: 2.6535 - val_EW_loss: 1.2197 - val_NS_loss: 1.3803 - val_EW_accuracy: 0.6445 - val_NS_accuracy: 0.6131\n",
      "Epoch 12/20\n",
      "852/852 [==============================] - 21s 24ms/step - loss: 1.4036 - EW_loss: 0.5853 - NS_loss: 0.7639 - EW_accuracy: 0.7987 - NS_accuracy: 0.7498 - val_loss: 2.3090 - val_EW_loss: 1.0604 - val_NS_loss: 1.1939 - val_EW_accuracy: 0.6629 - val_NS_accuracy: 0.6202\n",
      "Epoch 13/20\n",
      "852/852 [==============================] - 21s 24ms/step - loss: 1.3626 - EW_loss: 0.5570 - NS_loss: 0.7509 - EW_accuracy: 0.8023 - NS_accuracy: 0.7505 - val_loss: 2.4987 - val_EW_loss: 1.1225 - val_NS_loss: 1.3216 - val_EW_accuracy: 0.6552 - val_NS_accuracy: 0.6215\n",
      "Epoch 14/20\n",
      "852/852 [==============================] - 23s 26ms/step - loss: 1.3306 - EW_loss: 0.5432 - NS_loss: 0.7325 - EW_accuracy: 0.8085 - NS_accuracy: 0.7652 - val_loss: 2.3174 - val_EW_loss: 1.0812 - val_NS_loss: 1.1813 - val_EW_accuracy: 0.6795 - val_NS_accuracy: 0.6506\n",
      "Epoch 15/20\n",
      "852/852 [==============================] - 22s 26ms/step - loss: 1.2877 - EW_loss: 0.5324 - NS_loss: 0.6998 - EW_accuracy: 0.8197 - NS_accuracy: 0.7801 - val_loss: 2.2821 - val_EW_loss: 1.0348 - val_NS_loss: 1.1918 - val_EW_accuracy: 0.6879 - val_NS_accuracy: 0.6520\n",
      "Epoch 16/20\n",
      "852/852 [==============================] - 22s 26ms/step - loss: 1.2991 - EW_loss: 0.5352 - NS_loss: 0.7081 - EW_accuracy: 0.8190 - NS_accuracy: 0.7719 - val_loss: 2.3161 - val_EW_loss: 1.0700 - val_NS_loss: 1.1902 - val_EW_accuracy: 0.6561 - val_NS_accuracy: 0.6128\n",
      "Epoch 17/20\n",
      "852/852 [==============================] - 22s 25ms/step - loss: 1.3254 - EW_loss: 0.5401 - NS_loss: 0.7290 - EW_accuracy: 0.8182 - NS_accuracy: 0.7646 - val_loss: 2.3685 - val_EW_loss: 1.0912 - val_NS_loss: 1.2211 - val_EW_accuracy: 0.6741 - val_NS_accuracy: 0.6291\n",
      "Epoch 18/20\n",
      "852/852 [==============================] - 22s 26ms/step - loss: 1.2906 - EW_loss: 0.5194 - NS_loss: 0.7145 - EW_accuracy: 0.8155 - NS_accuracy: 0.7633 - val_loss: 2.6107 - val_EW_loss: 1.2680 - val_NS_loss: 1.2862 - val_EW_accuracy: 0.6294 - val_NS_accuracy: 0.5899\n",
      "Epoch 19/20\n",
      "852/852 [==============================] - 22s 26ms/step - loss: 1.3032 - EW_loss: 0.5319 - NS_loss: 0.7139 - EW_accuracy: 0.8151 - NS_accuracy: 0.7617 - val_loss: 2.6391 - val_EW_loss: 1.1911 - val_NS_loss: 1.3897 - val_EW_accuracy: 0.6380 - val_NS_accuracy: 0.5844\n",
      "Epoch 20/20\n",
      "852/852 [==============================] - 21s 25ms/step - loss: 1.3291 - EW_loss: 0.5416 - NS_loss: 0.7292 - EW_accuracy: 0.8094 - NS_accuracy: 0.7556 - val_loss: 2.2316 - val_EW_loss: 1.0498 - val_NS_loss: 1.1234 - val_EW_accuracy: 0.6746 - val_NS_accuracy: 0.6282\n",
      "Finished training after 20 epochs.\n",
      "Evaluating model:\n",
      "852/852 [==============================] - 15s 18ms/step - loss: 1.8169 - EW_loss: 0.8311 - NS_loss: 0.9275 - EW_accuracy: 0.7044 - NS_accuracy: 0.6823\n",
      "213/213 [==============================] - 4s 18ms/step - loss: 2.2316 - EW_loss: 1.0498 - NS_loss: 1.1234 - EW_accuracy: 0.6746 - NS_accuracy: 0.6282\n"
     ]
    }
   ],
   "source": [
    "hist = dense_model.fit(train_combined, val_ds=val_combined, epochs=20, verbose=1, plot_hist=False, callbacks=[])\n"
   ]
  },
  {
   "cell_type": "code",
   "execution_count": 18,
   "metadata": {},
   "outputs": [],
   "source": [
    "def evaluate_classifier(ds_gen, gt_path, model, model_outputs=['EW', 'NS'], train=True, with_initial_node=True, return_scores=False, verbose=2):\n",
    "\n",
    "    t_ds, v_ds = ds_gen.get_datasets(batch_size=None, label_features=model_outputs + ['EW_Node_Location', 'NS_Node_Location'], shuffle=False, with_identifier=True, stride=1)\n",
    "    ds = t_ds if train else v_ds\n",
    "\n",
    "    # only predict on the necessary locations to speed things up\n",
    "    ds = ds.filter(lambda x,y,z:y['EW_Node_Location']==1 or y['NS_Node_Location']==1)\n",
    "    ds = ds.batch(256)\n",
    "\n",
    "    ground_truth_df = pd.read_csv(gt_path).sort_values(['ObjectID', 'TimeIndex']).reset_index(drop=True)\n",
    "    ground_truth_df = ground_truth_df[ground_truth_df['ObjectID'].isin(map(int, ds_gen.train_keys if train else ds_gen.val_keys))].copy()\n",
    "\n",
    "    inputs = np.concatenate([element for element in ds.map(lambda x,y,z: x).as_numpy_iterator()])\n",
    "    #labels = np.concatenate([element['EW_Node_Location'] for element in ds.map(lambda x,y,z: y).as_numpy_iterator()])\n",
    "    identifiers = np.concatenate([element for element in ds.map(lambda x,y,z: z).as_numpy_iterator()])\n",
    "\n",
    "    df = pd.DataFrame(np.concatenate([identifiers.reshape(-1,2)], axis=1), columns=['ObjectID', 'TimeIndex'], dtype=np.int32)\n",
    "\n",
    "    # get predictions\n",
    "    preds = model.predict(inputs, verbose=verbose)\n",
    "\n",
    "    # Ordering of model_outputs MUST MATCH with actual outputs!\n",
    "    for output_idx, output_name in enumerate(model_outputs):\n",
    "        preds_argmax = np.argmax(preds[output_idx] if len(model_outputs) > 1 else preds, axis=1)\n",
    "        df[f'{output_name}_Pred'] = preds_argmax\n",
    "        if output_name == 'EW_Node' or output_name == 'NS_Node':\n",
    "            df[f'{output_name}'] = ds_gen.node_label_encoder.inverse_transform(df[f'{output_name}_Pred'])\n",
    "        if output_name == 'EW_Type' or output_name == 'NS_Type':\n",
    "            df[f'{output_name}'] = ds_gen.type_label_encoder.inverse_transform(df[f'{output_name}_Pred'])\n",
    "        if output_name == 'EW' or output_name == 'NS':\n",
    "            df[f'{output_name}'] = ds_gen.combined_label_encoder.inverse_transform(df[f'{output_name}_Pred'])\n",
    "            df[[f'{output_name}_Node', f'{output_name}_Type']] = df[f'{output_name}'].str.split('-', expand=True)\n",
    "    \n",
    "    # now, assign the real label to the locations\n",
    "    if not ('EW_Node' in model_outputs or 'EW_Type' in model_outputs or 'EW_Node' in model_outputs):\n",
    "        if verbose > 0: print(\"Considering only NS direction\")\n",
    "        ground_truth_df = ground_truth_df[(ground_truth_df['Direction'] == 'NS')]\n",
    "    if not ('NS_Node' in model_outputs or 'NS_Type' in model_outputs or 'NS_Node' in model_outputs):\n",
    "        if verbose > 0: print(\"Considering only EW direction\")\n",
    "        ground_truth_df = ground_truth_df[(ground_truth_df['Direction'] == 'EW')]\n",
    "    gt_columns_to_keep = ['ObjectID', 'TimeIndex', 'Direction'] # available: direction, node, type\n",
    "    if not ('NS_Node' in model_outputs or 'EW_Node' in model_outputs or 'EW' in model_outputs or 'NS' in model_outputs):\n",
    "        if verbose > 0: print(\"Assuming perfect nodes\")\n",
    "        gt_columns_to_keep += ['Node']\n",
    "    if not ('NS_Type' in model_outputs or 'EW_Type' in model_outputs or 'EW' in model_outputs or 'NS' in model_outputs):\n",
    "        gt_columns_to_keep += ['Type']\n",
    "        if verbose > 0: print(\"Assuming perfect types\")\n",
    "    df = df.merge(ground_truth_df[gt_columns_to_keep], how='right', on = ['ObjectID', 'TimeIndex'])\n",
    "\n",
    "    if not 'Type' in df.columns.values.tolist():\n",
    "        df['Type'] = pd.NA\n",
    "    if not 'Node' in df.columns.values.tolist():\n",
    "        df['Node'] = pd.NA\n",
    "    if 'EW_Node' in df.columns.values.tolist():\n",
    "        df.loc[df['Direction'] == 'EW', 'Node'] = df.loc[df['Direction'] == 'EW', 'EW_Node']\n",
    "    if 'EW_Type' in df.columns.values.tolist():\n",
    "        df.loc[df['Direction'] == 'EW', 'Type'] = df.loc[df['Direction'] == 'EW', 'EW_Type']\n",
    "    if 'NS_Node' in df.columns.values.tolist():\n",
    "        df.loc[df['Direction'] == 'NS', 'Node'] = df.loc[df['Direction'] == 'NS', 'NS_Node']\n",
    "    if 'NS_Type' in df.columns.values.tolist():\n",
    "        df.loc[df['Direction'] == 'NS', 'Type'] = df.loc[df['Direction'] == 'NS', 'NS_Type']\n",
    "\n",
    "    # Lets add our background knowledge:\n",
    "    # 1) For timeindex 0, the node is always SS\n",
    "    df.loc[df['TimeIndex'] == 0, 'Node'] = 'SS'\n",
    "    # 2) AD, ID is always combined with NK\n",
    "    df.loc[(df['Node'] == 'AD') | (df['Node'] == 'ID'), 'Type'] = 'NK'\n",
    "    # 3) IK is always combined with HK/CK/EK\n",
    "    df.loc[(df['Node'] == 'IK') & (df['Type'] == 'NK'), 'Type'] = 'CK' # CK is most common\n",
    "\n",
    "    # remove ES rows\n",
    "    df = df.replace('na', pd.NA)\n",
    "    df.dropna(inplace=True)\n",
    "\n",
    "    # remove initial nodes\n",
    "    if not with_initial_node:\n",
    "        df = df.loc[df['TimeIndex'] != 0]\n",
    "\n",
    "    evaluator = evaluation.NodeDetectionEvaluator(ground_truth=ground_truth_df, participant=df)\n",
    "    precision, recall, f2, rmse, total_tp, total_fp, total_fn = evaluator.score()\n",
    "    if verbose > 0:\n",
    "        print(f'Precision: {precision:.2f}')\n",
    "        print(f'TP: {total_tp} FP: {total_fp}')\n",
    "\n",
    "    if return_scores:\n",
    "        return {'Precision':precision, 'TP':total_tp, 'FP':total_fp}\n",
    "    else:\n",
    "        return df, ground_truth_df"
   ]
  },
  {
   "cell_type": "code",
   "execution_count": 19,
   "metadata": {},
   "outputs": [
    {
     "name": "stdout",
     "output_type": "stream",
     "text": [
      "2/2 - 0s - 93ms/epoch - 47ms/step\n",
      "Assuming perfect nodes\n",
      "Precision: 0.73\n",
      "TP: 51 FP: 19\n",
      "    ObjectID  TimeIndex  EW_Type_Pred EW_Type  NS_Type_Pred NS_Type Direction  \\\n",
      "2         10        216           0.0      CK           3.0      NK        NS   \n",
      "60       104         99           0.0      CK           3.0      NK        EW   \n",
      "61       104        126           0.0      CK           3.0      NK        EW   \n",
      "62       104        239           0.0      CK           3.0      NK        NS   \n",
      "66       114        200           0.0      CK           3.0      NK        EW   \n",
      "67       114        206           0.0      CK           3.0      NK        EW   \n",
      "68       114        239           0.0      CK           0.0      CK        NS   \n",
      "72       115        200           0.0      CK           3.0      NK        EW   \n",
      "73       115        206           0.0      CK           3.0      NK        EW   \n",
      "74       115        239           0.0      CK           0.0      CK        NS   \n",
      "78       116        200           0.0      CK           3.0      NK        EW   \n",
      "79       116        206           0.0      CK           3.0      NK        EW   \n",
      "80       116        239           0.0      CK           0.0      CK        NS   \n",
      "84       119        594           3.0      NK           3.0      NK        EW   \n",
      "85       119        600           3.0      NK           3.0      NK        EW   \n",
      "86       119        636           0.0      CK           3.0      NK        NS   \n",
      "90       121        124           3.0      NK           3.0      NK        EW   \n",
      "91       121        557           3.0      NK           3.0      NK        EW   \n",
      "92       121        783           3.0      NK           3.0      NK        EW   \n",
      "93       121        816           0.0      CK           3.0      NK        EW   \n",
      "\n",
      "   Node Type  \n",
      "2    IK   CK  \n",
      "60   AD   NK  \n",
      "61   IK   CK  \n",
      "62   IK   CK  \n",
      "66   AD   NK  \n",
      "67   IK   CK  \n",
      "68   IK   CK  \n",
      "72   AD   NK  \n",
      "73   IK   CK  \n",
      "74   IK   CK  \n",
      "78   AD   NK  \n",
      "79   IK   CK  \n",
      "80   IK   CK  \n",
      "84   AD   NK  \n",
      "85   IK   CK  \n",
      "86   IK   CK  \n",
      "90   AD   NK  \n",
      "91   AD   NK  \n",
      "92   AD   NK  \n",
      "93   IK   CK  \n"
     ]
    }
   ],
   "source": [
    "eval_df, gt_df = evaluate_classifier(ds_gen, challenge_data_dir / 'train_labels.csv', dense_model.model, model_outputs=['EW_Type', 'NS_Type'], train=False)\n",
    "print(eval_df.head(20))\n",
    "# Dense: worse\n",
    "# LSTM 40-40@2 same-padding: 0.51\n",
    "# LSTM 40-40@2 zero-padding: 0.49\n",
    "# LSTM 80-80@5: 0.49"
   ]
  },
  {
   "cell_type": "code",
   "execution_count": 18,
   "metadata": {},
   "outputs": [
    {
     "name": "stdout",
     "output_type": "stream",
     "text": [
      "     ObjectID  TimeIndex Direction Node Type\n",
      "28         10          0        EW   SS   CK\n",
      "29         10          0        NS   SS   NK\n",
      "30         10        216        NS   IK   CK\n",
      "31         10       2171        ES   ES   ES\n",
      "45         15          0        EW   SS   EK\n",
      "46         15          0        NS   SS   CK\n",
      "47         15       2171        ES   ES   ES\n",
      "64         21          0        EW   SS   HK\n",
      "65         21          0        NS   SS   HK\n",
      "66         21       2171        ES   ES   ES\n",
      "79         26          0        EW   SS   CK\n",
      "80         26          0        NS   SS   CK\n",
      "81         26       2207        ES   ES   ES\n",
      "91         30          0        EW   SS   CK\n",
      "92         30          0        NS   SS   NK\n",
      "93         30       2207        ES   ES   ES\n",
      "109        36          0        EW   SS   CK\n",
      "110        36          0        NS   SS   NK\n",
      "111        36       2171        ES   ES   ES\n",
      "136        45          0        EW   SS   CK\n",
      "137        45          0        NS   SS   CK\n",
      "138        45       2207        ES   ES   ES\n",
      "142        47          0        EW   SS   CK\n",
      "143        47          0        NS   SS   NK\n",
      "144        47       2207        ES   ES   ES\n",
      "151        50          0        EW   SS   CK\n",
      "152        50          0        NS   SS   CK\n",
      "153        50       2207        ES   ES   ES\n",
      "157        52          0        EW   SS   CK\n",
      "158        52          0        NS   SS   CK\n"
     ]
    }
   ],
   "source": [
    "print(gt_df.head(30))"
   ]
  },
  {
   "cell_type": "code",
   "execution_count": 10,
   "metadata": {},
   "outputs": [
    {
     "name": "stdout",
     "output_type": "stream",
     "text": [
      "['10', '104', '114', '115', '116', '119', '121', '123', '137', '139', '148', '15', '160', '161', '167', '171', '176', '184', '185', '193', '198', '199', '21', '211', '212', '221', '222', '227', '230', '233', '235', '238', '241', '245', '26', '30', '36', '45', '47', '50', '52', '60', '61', '66', '67', '73', '84', '87', '88', '91']\n"
     ]
    }
   ],
   "source": [
    "print(ds_gen.val_keys)"
   ]
  },
  {
   "cell_type": "code",
   "execution_count": 10,
   "metadata": {},
   "outputs": [
    {
     "name": "stdout",
     "output_type": "stream",
     "text": [
      "14/14 [==============================] - 0s 11ms/step\n",
      "Precision: 0.52\n",
      "TP: 367 FP: 336\n"
     ]
    }
   ],
   "source": [
    "eval_df = classification_eval(ds_gen, challenge_data_dir / 'train_labels.csv', dense_model.model, train=True)\n",
    "# LSTM 40-40@2: 0.49\n",
    "# LSTM 40-40@2 zero-padding: 0.52\n",
    "# LSTM 80-80@5: 0.51"
   ]
  },
  {
   "cell_type": "code",
   "execution_count": 10,
   "metadata": {},
   "outputs": [
    {
     "name": "stdout",
     "output_type": "stream",
     "text": [
      "['CK' 'NK']\n"
     ]
    }
   ],
   "source": [
    "print(eval_df['Type'].unique())"
   ]
  },
  {
   "cell_type": "code",
   "execution_count": 23,
   "metadata": {},
   "outputs": [
    {
     "name": "stdout",
     "output_type": "stream",
     "text": [
      "70\n",
      "   ObjectID  TimeIndex Direction Node Type\n",
      "0        10          0        EW   SS   CK\n",
      "1        10          0        NS   SS   NK\n",
      "2        10        216        NS   IK   CK\n",
      "3        10       2171        ES   ES   ES\n",
      "4        15          0        EW   SS   EK\n"
     ]
    }
   ],
   "source": [
    "\n",
    "labels=pd.read_csv(labels_dir)\n",
    "labels = labels.loc[(labels['ObjectID'].isin(map(int, ds_gen.val_keys)))]\n",
    "labels = labels.sort_values(['ObjectID', 'TimeIndex']).reset_index(drop=True)\n",
    "print(len(labels) - (len(ds_gen.val_keys)*3))\n",
    "print(labels.head(5))"
   ]
  },
  {
   "cell_type": "code",
   "execution_count": null,
   "metadata": {},
   "outputs": [],
   "source": []
  }
 ],
 "metadata": {
  "kernelspec": {
   "display_name": "splid-gpu",
   "language": "python",
   "name": "python3"
  },
  "language_info": {
   "codemirror_mode": {
    "name": "ipython",
    "version": 3
   },
   "file_extension": ".py",
   "mimetype": "text/x-python",
   "name": "python",
   "nbconvert_exporter": "python",
   "pygments_lexer": "ipython3",
   "version": "3.10.13"
  }
 },
 "nbformat": 4,
 "nbformat_minor": 2
}
