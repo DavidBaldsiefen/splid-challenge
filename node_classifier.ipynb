{
 "cells": [
  {
   "cell_type": "code",
   "execution_count": 20,
   "metadata": {},
   "outputs": [
    {
     "name": "stdout",
     "output_type": "stream",
     "text": [
      "The autoreload extension is already loaded. To reload it, use:\n",
      "  %reload_ext autoreload\n"
     ]
    }
   ],
   "source": [
    "import pandas as pd\n",
    "import numpy as np\n",
    "import tensorflow as tf\n",
    "import pickle\n",
    "from tqdm import tqdm\n",
    "from pathlib import Path\n",
    "\n",
    "%load_ext autoreload\n",
    "%autoreload 2\n",
    "from base import datahandler, prediction_models, evaluation, classifier, utils"
   ]
  },
  {
   "cell_type": "code",
   "execution_count": 21,
   "metadata": {},
   "outputs": [],
   "source": [
    "# Define the directory paths\n",
    "challenge_data_dir = Path('dataset/phase_1_v2')\n",
    "data_dir = challenge_data_dir / \"train\"\n",
    "labels_dir = challenge_data_dir / 'train_labels.csv'\n",
    "\n",
    "split_dataframes = datahandler.load_and_prepare_dataframes(data_dir, labels_dir, dtype=np.float32)\n",
    "\n",
    "#some_dataframes = {df_k : split_dataframes[df_k] for df_k in list(split_dataframes.keys())[:1000]}\n",
    "#['1012', '1383', '1385', '1386', '1471', '1473', '1474'],"
   ]
  },
  {
   "cell_type": "code",
   "execution_count": 22,
   "metadata": {},
   "outputs": [
    {
     "name": "stdout",
     "output_type": "stream",
     "text": [
      "=========================Creating Generator=======================\n",
      "Seed: 181\n",
      "nTrain: 1520 nVal: 380 (0.80)\n",
      "Padding: zero\n",
      "Horizons: 16-128 @ stride 1\n",
      "Scaling: True  \n",
      "Limiting True Anomaly to [0.0, 360.0] and Longitude to [-180.0, 180.0]\n",
      "Sin-Transforming features: ['Inclination (deg)', 'RAAN (deg)', 'Argument of Periapsis (deg)', 'True Anomaly (deg)', 'Longitude (deg)']\n",
      "Sin-Cos-Transforming features: []\n",
      "Final 11 input features: ['Argument of Periapsis (sin)', 'Eccentricity', 'Inclination (sin)', 'Latitude (deg)', 'Longitude (sin)', 'RAAN (sin)', 'Semimajor Axis (m)', 'True Anomaly (sin)'] + overview of ['Inclination (sin)', 'RAAN (sin)'] (mean) and ['Latitude (deg)'] (std)\n",
      "=========================Finished Generator=======================\n"
     ]
    }
   ],
   "source": [
    "input_features = ['Eccentricity', 'Semimajor Axis (m)', 'Inclination (deg)', 'RAAN (deg)',\n",
    "       'Argument of Periapsis (deg)', 'True Anomaly (deg)', 'Latitude (deg)',\n",
    "       'Longitude (deg)', 'Altitude (m)', 'X (m)', 'Y (m)', 'Z (m)',\n",
    "       'Vx (m/s)', 'Vy (m/s)', 'Vz (m/s)']\n",
    "\n",
    "input_features_reduced = ['Eccentricity', 'Semimajor Axis (m)', 'Inclination (deg)', 'RAAN (deg)',\n",
    "       'Argument of Periapsis (deg)', 'True Anomaly (deg)', 'Latitude (deg)',\n",
    "       'Longitude (deg)', 'Altitude (m)']\n",
    "\n",
    "input_features_reduced_further = ['Eccentricity', 'Semimajor Axis (m)', 'Inclination (deg)', 'RAAN (deg)', 'Latitude (deg)', 'Longitude (deg)']\n",
    "input_features_new = ['Eccentricity', 'Semimajor Axis (m)', 'Inclination (deg)', 'RAAN (deg)', 'Latitude (deg)', 'Longitude (deg)',\n",
    "                  'Argument of Periapsis (deg)', 'True Anomaly (deg)']\n",
    "label_features=['EW', 'EW_Type', 'EW_Node', 'EW_Node_Location', 'NS', 'NS_Type', 'NS_Node', 'NS_Node_Location']\n",
    "\n",
    "ds_gen = datahandler.DatasetGenerator(split_df=split_dataframes,\n",
    "                                      exclude_objects=[],\n",
    "                                      non_transform_features=['Eccentricity',\n",
    "                                                              'Semimajor Axis (m)',\n",
    "                                                              #'Inclination (deg)',\n",
    "                                                              #'RAAN (deg)',\n",
    "                                                              #'Argument of Periapsis (deg)',\n",
    "                                                              #'True Anomaly (deg)',\n",
    "                                                              'Latitude (deg)',\n",
    "                                                              #'Longitude (deg)',\n",
    "                                                              ],\n",
    "                                      diff_transform_features=[],\n",
    "                                      sin_transform_features=['Inclination (deg)',\n",
    "                                                              'RAAN (deg)',\n",
    "                                                              'Argument of Periapsis (deg)',\n",
    "                                                              'True Anomaly (deg)',\n",
    "                                                              'Longitude (deg)',\n",
    "                                                              #'Latitude (deg)'\n",
    "                                                              ],#['Longitude (deg)', 'Argument of Periapsis (deg)', 'RAAN (deg)'],\n",
    "                                      sin_cos_transform_features=[],\n",
    "                                      overview_features_mean=[#'Eccentricity',\n",
    "                                                              #'Semimajor Axis (m)',\n",
    "                                                              'Inclination (sin)',\n",
    "                                                              'RAAN (sin)',\n",
    "                                                              #'Argument of Periapsis (sin)',\n",
    "                                                              #'Longitude (sin)'\n",
    "                                                              ],\n",
    "                                      overview_features_std=['Latitude (deg)',\n",
    "                                                             #'Argument of Periapsis (sin)'\n",
    "                                                             ],\n",
    "                                      add_daytime_feature=False,\n",
    "                                      add_yeartime_feature=False,\n",
    "                                      add_linear_timeindex=False,\n",
    "                                      with_labels=True,\n",
    "                                      train_val_split=0.8,\n",
    "                                      input_stride=1,\n",
    "                                      padding='zero',\n",
    "                                      unify_value_ranges=True,\n",
    "                                      scale=True,\n",
    "                                      per_object_scaling=False,\n",
    "                                      pad_location_labels=0,\n",
    "                                      input_history_steps=16,\n",
    "                                      input_future_steps=128,\n",
    "                                      input_dtype=np.float32,\n",
    "                                      sort_inputs=True,\n",
    "                                      seed=181,\n",
    "                                      deepcopy=True)\n"
   ]
  },
  {
   "cell_type": "code",
   "execution_count": 23,
   "metadata": {},
   "outputs": [],
   "source": [
    "utils.set_random_seed(42)\n",
    "\n",
    "train_combined, val_combined = ds_gen.get_datasets(batch_size=512, \n",
    "                                                   label_features=['EW_Type', 'NS_Type'],#, 'NS_Type'],\n",
    "                                                   with_identifier=False, \n",
    "                                                   only_nodes=True, \n",
    "                                                   shuffle=True, \n",
    "                                                   stride=1)\n",
    "print(train_combined.element_spec)\n",
    "# Cardinality is below number of nodes, because sometimes EW and NS are in the same location"
   ]
  },
  {
   "cell_type": "code",
   "execution_count": null,
   "metadata": {},
   "outputs": [
    {
     "name": "stdout",
     "output_type": "stream",
     "text": [
      "Model: \"model_5\"\n",
      "__________________________________________________________________________________________________\n",
      " Layer (type)                Output Shape                 Param #   Connected to                  \n",
      "==================================================================================================\n",
      " Input (InputLayer)          [(None, 144, 11)]            0         []                            \n",
      "                                                                                                  \n",
      " conv1d_15 (Conv1D)          (None, 134, 48)              3216      ['Input[0][0]']               \n",
      "                                                                                                  \n",
      " activation_25 (Activation)  (None, 134, 48)              0         ['conv1d_15[0][0]']           \n",
      "                                                                                                  \n",
      " dropout_17 (Dropout)        (None, 134, 48)              0         ['activation_25[0][0]']       \n",
      "                                                                                                  \n",
      " conv1d_16 (Conv1D)          (None, 132, 48)              6960      ['dropout_17[0][0]']          \n",
      "                                                                                                  \n",
      " activation_26 (Activation)  (None, 132, 48)              0         ['conv1d_16[0][0]']           \n",
      "                                                                                                  \n",
      " dropout_18 (Dropout)        (None, 132, 48)              0         ['activation_26[0][0]']       \n",
      "                                                                                                  \n",
      " conv1d_17 (Conv1D)          (None, 130, 48)              6960      ['dropout_18[0][0]']          \n",
      "                                                                                                  \n",
      " activation_27 (Activation)  (None, 130, 48)              0         ['conv1d_17[0][0]']           \n",
      "                                                                                                  \n",
      " dropout_19 (Dropout)        (None, 130, 48)              0         ['activation_27[0][0]']       \n",
      "                                                                                                  \n",
      " flatten_5 (Flatten)         (None, 6240)                 0         ['dropout_19[0][0]']          \n",
      "                                                                                                  \n",
      " dense_10 (Dense)            (None, 64)                   399424    ['flatten_5[0][0]']           \n",
      "                                                                                                  \n",
      " activation_28 (Activation)  (None, 64)                   0         ['dense_10[0][0]']            \n",
      "                                                                                                  \n",
      " dropout_20 (Dropout)        (None, 64)                   0         ['activation_28[0][0]']       \n",
      "                                                                                                  \n",
      " dense_11 (Dense)            (None, 32)                   2080      ['dropout_20[0][0]']          \n",
      "                                                                                                  \n",
      " activation_29 (Activation)  (None, 32)                   0         ['dense_11[0][0]']            \n",
      "                                                                                                  \n",
      " dropout_21 (Dropout)        (None, 32)                   0         ['activation_29[0][0]']       \n",
      "                                                                                                  \n",
      " EW_Type (Dense)             (None, 4)                    132       ['dropout_21[0][0]']          \n",
      "                                                                                                  \n",
      " NS_Type (Dense)             (None, 4)                    132       ['dropout_21[0][0]']          \n",
      "                                                                                                  \n",
      "==================================================================================================\n",
      "Total params: 418904 (1.60 MB)\n",
      "Trainable params: 418904 (1.60 MB)\n",
      "Non-trainable params: 0 (0.00 Byte)\n",
      "__________________________________________________________________________________________________\n",
      "Starting training. Optimizing \"val_EW_Type_accuracy\"\n",
      "Epoch 1/500\n"
     ]
    },
    {
     "name": "stderr",
     "output_type": "stream",
     "text": [
      "2024-02-24 13:36:40.922246: W external/local_tsl/tsl/framework/bfc_allocator.cc:296] Allocator (GPU_0_bfc) ran out of memory trying to allocate 6.11GiB with freed_by_count=0. The caller indicates that this is not a failure, but this may mean that there could be performance gains if more memory were available.\n",
      "2024-02-24 13:36:41.136489: W external/local_tsl/tsl/framework/bfc_allocator.cc:296] Allocator (GPU_0_bfc) ran out of memory trying to allocate 6.11GiB with freed_by_count=0. The caller indicates that this is not a failure, but this may mean that there could be performance gains if more memory were available.\n"
     ]
    },
    {
     "name": "stdout",
     "output_type": "stream",
     "text": [
      "\n",
      "Epoch 1: val_EW_Type_accuracy improved from -inf to 0.62575, saving model to best_model.hdf5\n",
      "11/11 - 6s - loss: 2.6424 - EW_Type_loss: 1.2630 - NS_Type_loss: 1.0511 - EW_Type_accuracy: 0.4757 - NS_Type_accuracy: 0.6558 - val_loss: 1.7406 - val_EW_Type_loss: 0.7862 - val_NS_Type_loss: 0.5942 - val_EW_Type_accuracy: 0.6257 - val_NS_Type_accuracy: 0.7193 - 6s/epoch - 588ms/step\n",
      "Epoch 2/500\n",
      "\n",
      "Epoch 2: val_EW_Type_accuracy improved from 0.62575 to 0.67440, saving model to best_model.hdf5\n",
      "11/11 - 1s - loss: 1.7408 - EW_Type_loss: 0.7951 - NS_Type_loss: 0.5855 - EW_Type_accuracy: 0.6469 - NS_Type_accuracy: 0.7169 - val_loss: 1.6089 - val_EW_Type_loss: 0.7173 - val_NS_Type_loss: 0.5434 - val_EW_Type_accuracy: 0.6744 - val_NS_Type_accuracy: 0.7388 - 694ms/epoch - 63ms/step\n",
      "Epoch 3/500\n",
      "\n",
      "Epoch 3: val_EW_Type_accuracy improved from 0.67440 to 0.68338, saving model to best_model.hdf5\n",
      "11/11 - 1s - loss: 1.5751 - EW_Type_loss: 0.6942 - NS_Type_loss: 0.5492 - EW_Type_accuracy: 0.6802 - NS_Type_accuracy: 0.7486 - val_loss: 1.4878 - val_EW_Type_loss: 0.6661 - val_NS_Type_loss: 0.5138 - val_EW_Type_accuracy: 0.6834 - val_NS_Type_accuracy: 0.7635 - 525ms/epoch - 48ms/step\n",
      "Epoch 4/500\n",
      "\n",
      "Epoch 4: val_EW_Type_accuracy improved from 0.68338 to 0.76572, saving model to best_model.hdf5\n",
      "11/11 - 1s - loss: 1.4200 - EW_Type_loss: 0.6267 - NS_Type_loss: 0.5021 - EW_Type_accuracy: 0.7182 - NS_Type_accuracy: 0.7817 - val_loss: 1.3246 - val_EW_Type_loss: 0.5925 - val_NS_Type_loss: 0.4612 - val_EW_Type_accuracy: 0.7657 - val_NS_Type_accuracy: 0.8084 - 533ms/epoch - 48ms/step\n",
      "Epoch 5/500\n",
      "\n",
      "Epoch 5: val_EW_Type_accuracy improved from 0.76572 to 0.76647, saving model to best_model.hdf5\n",
      "11/11 - 1s - loss: 1.2779 - EW_Type_loss: 0.5718 - NS_Type_loss: 0.4458 - EW_Type_accuracy: 0.7534 - NS_Type_accuracy: 0.8159 - val_loss: 1.2238 - val_EW_Type_loss: 0.5524 - val_NS_Type_loss: 0.4248 - val_EW_Type_accuracy: 0.7665 - val_NS_Type_accuracy: 0.8106 - 759ms/epoch - 69ms/step\n",
      "Epoch 6/500\n",
      "\n",
      "Epoch 6: val_EW_Type_accuracy improved from 0.76647 to 0.79266, saving model to best_model.hdf5\n",
      "11/11 - 1s - loss: 1.1847 - EW_Type_loss: 0.5380 - NS_Type_loss: 0.4077 - EW_Type_accuracy: 0.7683 - NS_Type_accuracy: 0.8235 - val_loss: 1.1255 - val_EW_Type_loss: 0.5150 - val_NS_Type_loss: 0.3809 - val_EW_Type_accuracy: 0.7927 - val_NS_Type_accuracy: 0.8428 - 754ms/epoch - 69ms/step\n",
      "Epoch 7/500\n",
      "\n",
      "Epoch 7: val_EW_Type_accuracy improved from 0.79266 to 0.80464, saving model to best_model.hdf5\n",
      "11/11 - 1s - loss: 1.1158 - EW_Type_loss: 0.5107 - NS_Type_loss: 0.3795 - EW_Type_accuracy: 0.7998 - NS_Type_accuracy: 0.8363 - val_loss: 1.0616 - val_EW_Type_loss: 0.4749 - val_NS_Type_loss: 0.3656 - val_EW_Type_accuracy: 0.8046 - val_NS_Type_accuracy: 0.8406 - 667ms/epoch - 61ms/step\n",
      "Epoch 8/500\n",
      "\n",
      "Epoch 8: val_EW_Type_accuracy improved from 0.80464 to 0.81737, saving model to best_model.hdf5\n",
      "11/11 - 1s - loss: 1.0387 - EW_Type_loss: 0.4710 - NS_Type_loss: 0.3489 - EW_Type_accuracy: 0.8114 - NS_Type_accuracy: 0.8562 - val_loss: 1.0034 - val_EW_Type_loss: 0.4502 - val_NS_Type_loss: 0.3375 - val_EW_Type_accuracy: 0.8174 - val_NS_Type_accuracy: 0.8660 - 632ms/epoch - 57ms/step\n",
      "Epoch 9/500\n",
      "\n",
      "Epoch 9: val_EW_Type_accuracy did not improve from 0.81737\n",
      "11/11 - 1s - loss: 0.9775 - EW_Type_loss: 0.4428 - NS_Type_loss: 0.3202 - EW_Type_accuracy: 0.8170 - NS_Type_accuracy: 0.8694 - val_loss: 0.9910 - val_EW_Type_loss: 0.4635 - val_NS_Type_loss: 0.3148 - val_EW_Type_accuracy: 0.8114 - val_NS_Type_accuracy: 0.8735 - 694ms/epoch - 63ms/step\n",
      "Epoch 10/500\n",
      "\n",
      "Epoch 10: val_EW_Type_accuracy improved from 0.81737 to 0.84356, saving model to best_model.hdf5\n",
      "11/11 - 1s - loss: 0.9255 - EW_Type_loss: 0.4114 - NS_Type_loss: 0.3031 - EW_Type_accuracy: 0.8301 - NS_Type_accuracy: 0.8796 - val_loss: 0.9249 - val_EW_Type_loss: 0.4272 - val_NS_Type_loss: 0.2889 - val_EW_Type_accuracy: 0.8436 - val_NS_Type_accuracy: 0.8840 - 857ms/epoch - 78ms/step\n",
      "Epoch 11/500\n",
      "\n",
      "Epoch 11: val_EW_Type_accuracy improved from 0.84356 to 0.85554, saving model to best_model.hdf5\n",
      "11/11 - 1s - loss: 0.8715 - EW_Type_loss: 0.3869 - NS_Type_loss: 0.2775 - EW_Type_accuracy: 0.8445 - NS_Type_accuracy: 0.8860 - val_loss: 0.8450 - val_EW_Type_loss: 0.3863 - val_NS_Type_loss: 0.2529 - val_EW_Type_accuracy: 0.8555 - val_NS_Type_accuracy: 0.9124 - 739ms/epoch - 67ms/step\n",
      "Epoch 12/500\n",
      "\n",
      "Epoch 12: val_EW_Type_accuracy did not improve from 0.85554\n",
      "11/11 - 1s - loss: 0.8205 - EW_Type_loss: 0.3636 - NS_Type_loss: 0.2518 - EW_Type_accuracy: 0.8556 - NS_Type_accuracy: 0.9000 - val_loss: 0.8222 - val_EW_Type_loss: 0.3665 - val_NS_Type_loss: 0.2520 - val_EW_Type_accuracy: 0.8473 - val_NS_Type_accuracy: 0.9042 - 765ms/epoch - 70ms/step\n",
      "Epoch 13/500\n",
      "\n",
      "Epoch 13: val_EW_Type_accuracy did not improve from 0.85554\n",
      "11/11 - 1s - loss: 0.8004 - EW_Type_loss: 0.3503 - NS_Type_loss: 0.2468 - EW_Type_accuracy: 0.8601 - NS_Type_accuracy: 0.9064 - val_loss: 0.8613 - val_EW_Type_loss: 0.4129 - val_NS_Type_loss: 0.2443 - val_EW_Type_accuracy: 0.8376 - val_NS_Type_accuracy: 0.9094 - 794ms/epoch - 72ms/step\n",
      "Epoch 14/500\n",
      "\n",
      "Epoch 14: val_EW_Type_accuracy improved from 0.85554 to 0.86826, saving model to best_model.hdf5\n",
      "11/11 - 1s - loss: 0.8003 - EW_Type_loss: 0.3625 - NS_Type_loss: 0.2319 - EW_Type_accuracy: 0.8554 - NS_Type_accuracy: 0.9087 - val_loss: 0.7695 - val_EW_Type_loss: 0.3418 - val_NS_Type_loss: 0.2206 - val_EW_Type_accuracy: 0.8683 - val_NS_Type_accuracy: 0.9237 - 610ms/epoch - 55ms/step\n",
      "Epoch 15/500\n",
      "\n",
      "Epoch 15: val_EW_Type_accuracy improved from 0.86826 to 0.87725, saving model to best_model.hdf5\n",
      "11/11 - 1s - loss: 0.7293 - EW_Type_loss: 0.3121 - NS_Type_loss: 0.2086 - EW_Type_accuracy: 0.8798 - NS_Type_accuracy: 0.9191 - val_loss: 0.7570 - val_EW_Type_loss: 0.3445 - val_NS_Type_loss: 0.2023 - val_EW_Type_accuracy: 0.8772 - val_NS_Type_accuracy: 0.9229 - 871ms/epoch - 79ms/step\n",
      "Epoch 16/500\n",
      "\n",
      "Epoch 16: val_EW_Type_accuracy improved from 0.87725 to 0.87874, saving model to best_model.hdf5\n",
      "11/11 - 1s - loss: 0.7024 - EW_Type_loss: 0.2954 - NS_Type_loss: 0.1951 - EW_Type_accuracy: 0.8771 - NS_Type_accuracy: 0.9274 - val_loss: 0.7651 - val_EW_Type_loss: 0.3496 - val_NS_Type_loss: 0.2011 - val_EW_Type_accuracy: 0.8787 - val_NS_Type_accuracy: 0.9281 - 547ms/epoch - 50ms/step\n",
      "Epoch 17/500\n",
      "\n",
      "Epoch 17: val_EW_Type_accuracy improved from 0.87874 to 0.88398, saving model to best_model.hdf5\n",
      "11/11 - 1s - loss: 0.6909 - EW_Type_loss: 0.2903 - NS_Type_loss: 0.1858 - EW_Type_accuracy: 0.8858 - NS_Type_accuracy: 0.9269 - val_loss: 0.7484 - val_EW_Type_loss: 0.3337 - val_NS_Type_loss: 0.2004 - val_EW_Type_accuracy: 0.8840 - val_NS_Type_accuracy: 0.9356 - 684ms/epoch - 62ms/step\n",
      "Epoch 18/500\n",
      "\n",
      "Epoch 18: val_EW_Type_accuracy improved from 0.88398 to 0.89895, saving model to best_model.hdf5\n",
      "11/11 - 1s - loss: 0.6465 - EW_Type_loss: 0.2665 - NS_Type_loss: 0.1651 - EW_Type_accuracy: 0.8913 - NS_Type_accuracy: 0.9393 - val_loss: 0.7197 - val_EW_Type_loss: 0.3257 - val_NS_Type_loss: 0.1781 - val_EW_Type_accuracy: 0.8990 - val_NS_Type_accuracy: 0.9454 - 576ms/epoch - 52ms/step\n",
      "Epoch 19/500\n",
      "\n",
      "Epoch 19: val_EW_Type_accuracy did not improve from 0.89895\n",
      "11/11 - 1s - loss: 0.6464 - EW_Type_loss: 0.2710 - NS_Type_loss: 0.1584 - EW_Type_accuracy: 0.8934 - NS_Type_accuracy: 0.9431 - val_loss: 0.7872 - val_EW_Type_loss: 0.3429 - val_NS_Type_loss: 0.2267 - val_EW_Type_accuracy: 0.8862 - val_NS_Type_accuracy: 0.9184 - 838ms/epoch - 76ms/step\n",
      "Epoch 20/500\n",
      "\n",
      "Epoch 20: val_EW_Type_accuracy did not improve from 0.89895\n",
      "11/11 - 1s - loss: 0.6508 - EW_Type_loss: 0.2628 - NS_Type_loss: 0.1692 - EW_Type_accuracy: 0.8972 - NS_Type_accuracy: 0.9388 - val_loss: 0.7060 - val_EW_Type_loss: 0.3182 - val_NS_Type_loss: 0.1672 - val_EW_Type_accuracy: 0.8982 - val_NS_Type_accuracy: 0.9469 - 619ms/epoch - 56ms/step\n",
      "Epoch 21/500\n",
      "\n",
      "Epoch 21: val_EW_Type_accuracy improved from 0.89895 to 0.90494, saving model to best_model.hdf5\n",
      "11/11 - 1s - loss: 0.6217 - EW_Type_loss: 0.2560 - NS_Type_loss: 0.1430 - EW_Type_accuracy: 0.9038 - NS_Type_accuracy: 0.9505 - val_loss: 0.6799 - val_EW_Type_loss: 0.3049 - val_NS_Type_loss: 0.1496 - val_EW_Type_accuracy: 0.9049 - val_NS_Type_accuracy: 0.9551 - 883ms/epoch - 80ms/step\n",
      "Epoch 22/500\n",
      "\n",
      "Epoch 22: val_EW_Type_accuracy did not improve from 0.90494\n",
      "11/11 - 1s - loss: 0.6183 - EW_Type_loss: 0.2473 - NS_Type_loss: 0.1428 - EW_Type_accuracy: 0.9068 - NS_Type_accuracy: 0.9482 - val_loss: 0.6985 - val_EW_Type_loss: 0.3157 - val_NS_Type_loss: 0.1523 - val_EW_Type_accuracy: 0.8967 - val_NS_Type_accuracy: 0.9551 - 919ms/epoch - 84ms/step\n",
      "Epoch 23/500\n",
      "\n",
      "Epoch 23: val_EW_Type_accuracy did not improve from 0.90494\n",
      "11/11 - 1s - loss: 0.6016 - EW_Type_loss: 0.2319 - NS_Type_loss: 0.1375 - EW_Type_accuracy: 0.9110 - NS_Type_accuracy: 0.9507 - val_loss: 0.7568 - val_EW_Type_loss: 0.3472 - val_NS_Type_loss: 0.1752 - val_EW_Type_accuracy: 0.8862 - val_NS_Type_accuracy: 0.9439 - 1s/epoch - 95ms/step\n",
      "Epoch 24/500\n",
      "\n",
      "Epoch 24: val_EW_Type_accuracy improved from 0.90494 to 0.90719, saving model to best_model.hdf5\n",
      "11/11 - 1s - loss: 0.6168 - EW_Type_loss: 0.2340 - NS_Type_loss: 0.1467 - EW_Type_accuracy: 0.9083 - NS_Type_accuracy: 0.9490 - val_loss: 0.7153 - val_EW_Type_loss: 0.3088 - val_NS_Type_loss: 0.1691 - val_EW_Type_accuracy: 0.9072 - val_NS_Type_accuracy: 0.9484 - 882ms/epoch - 80ms/step\n",
      "Epoch 25/500\n",
      "\n",
      "Epoch 25: val_EW_Type_accuracy did not improve from 0.90719\n",
      "11/11 - 1s - loss: 0.5929 - EW_Type_loss: 0.2249 - NS_Type_loss: 0.1298 - EW_Type_accuracy: 0.9144 - NS_Type_accuracy: 0.9518 - val_loss: 0.6934 - val_EW_Type_loss: 0.2957 - val_NS_Type_loss: 0.1591 - val_EW_Type_accuracy: 0.9019 - val_NS_Type_accuracy: 0.9513 - 922ms/epoch - 84ms/step\n",
      "Epoch 26/500\n"
     ]
    },
    {
     "ename": "KeyboardInterrupt",
     "evalue": "",
     "output_type": "error",
     "traceback": [
      "\u001b[0;31m---------------------------------------------------------------------------\u001b[0m",
      "\u001b[0;31mKeyboardInterrupt\u001b[0m                         Traceback (most recent call last)",
      "Cell \u001b[0;32mIn[19], line 38\u001b[0m\n\u001b[1;32m     27\u001b[0m dense_model\u001b[38;5;241m.\u001b[39msummary()\n\u001b[1;32m     29\u001b[0m \u001b[38;5;66;03m# temporary fix to allow class weights\u001b[39;00m\n\u001b[1;32m     30\u001b[0m \u001b[38;5;66;03m# train_combined= train_combined.map(lambda x,y:(x,y[f'EW_Type']))\u001b[39;00m\n\u001b[1;32m     31\u001b[0m \u001b[38;5;66;03m# val_combined = val_combined.map(lambda x,y:(x,y[f'EW_Type'])) \u001b[39;00m\n\u001b[0;32m   (...)\u001b[0m\n\u001b[1;32m     35\u001b[0m \u001b[38;5;66;03m# w_2 = 1.05\u001b[39;00m\n\u001b[1;32m     36\u001b[0m \u001b[38;5;66;03m# w_3 = 0.65\u001b[39;00m\n\u001b[0;32m---> 38\u001b[0m hist \u001b[38;5;241m=\u001b[39m \u001b[43mdense_model\u001b[49m\u001b[38;5;241;43m.\u001b[39;49m\u001b[43mfit\u001b[49m\u001b[43m(\u001b[49m\u001b[43mtrain_combined\u001b[49m\u001b[43m,\u001b[49m\n\u001b[1;32m     39\u001b[0m \u001b[43m                       \u001b[49m\u001b[43mval_ds\u001b[49m\u001b[38;5;241;43m=\u001b[39;49m\u001b[43mval_combined\u001b[49m\u001b[43m,\u001b[49m\n\u001b[1;32m     40\u001b[0m \u001b[43m                       \u001b[49m\u001b[43mepochs\u001b[49m\u001b[38;5;241;43m=\u001b[39;49m\u001b[38;5;241;43m500\u001b[39;49m\u001b[43m,\u001b[49m\n\u001b[1;32m     41\u001b[0m \u001b[43m                       \u001b[49m\u001b[43mverbose\u001b[49m\u001b[38;5;241;43m=\u001b[39;49m\u001b[38;5;241;43m2\u001b[39;49m\u001b[43m,\u001b[49m\n\u001b[1;32m     42\u001b[0m \u001b[43m                       \u001b[49m\u001b[43mplot_hist\u001b[49m\u001b[38;5;241;43m=\u001b[39;49m\u001b[38;5;28;43;01mTrue\u001b[39;49;00m\u001b[43m,\u001b[49m\n\u001b[1;32m     43\u001b[0m \u001b[43m                       \u001b[49m\u001b[43msave_best_only\u001b[49m\u001b[38;5;241;43m=\u001b[39;49m\u001b[38;5;28;43;01mTrue\u001b[39;49;00m\u001b[43m,\u001b[49m\n\u001b[1;32m     44\u001b[0m \u001b[43m                       \u001b[49m\u001b[43mearly_stopping\u001b[49m\u001b[38;5;241;43m=\u001b[39;49m\u001b[38;5;241;43m50\u001b[39;49m\u001b[43m,\u001b[49m\n\u001b[1;32m     45\u001b[0m \u001b[43m                       \u001b[49m\u001b[43mtarget_metric\u001b[49m\u001b[38;5;241;43m=\u001b[39;49m\u001b[38;5;124;43m'\u001b[39;49m\u001b[38;5;124;43mval_EW_Type_accuracy\u001b[39;49m\u001b[38;5;124;43m'\u001b[39;49m\u001b[43m,\u001b[49m\n\u001b[1;32m     46\u001b[0m \u001b[43m                       \u001b[49m\u001b[38;5;66;43;03m#class_weight={0: w_0, 1: w_1, 2: w_2, 3: w_3},\u001b[39;49;00m\n\u001b[1;32m     47\u001b[0m \u001b[43m                       \u001b[49m\u001b[43mcallbacks\u001b[49m\u001b[38;5;241;43m=\u001b[39;49m\u001b[43m[\u001b[49m\u001b[43m]\u001b[49m\u001b[43m)\u001b[49m\n\u001b[1;32m     48\u001b[0m dense_model\u001b[38;5;241m.\u001b[39mevaluate(val_combined)\n\u001b[1;32m     49\u001b[0m \u001b[38;5;66;03m#dense_model.model.save('models/ew_ns_classifier_new.hdf5')\u001b[39;00m\n",
      "File \u001b[0;32m~/Code/splid-challenge/base/prediction_models.py:49\u001b[0m, in \u001b[0;36mPrediction_Model.fit\u001b[0;34m(self, train_ds, val_ds, epochs, early_stopping, save_best_only, best_model_filepath, target_metric, callbacks, class_weight, plot_hist, verbose)\u001b[0m\n\u001b[1;32m     46\u001b[0m \u001b[38;5;28;01mif\u001b[39;00m verbose\u001b[38;5;241m>\u001b[39m\u001b[38;5;241m0\u001b[39m:\n\u001b[1;32m     47\u001b[0m     \u001b[38;5;28mprint\u001b[39m(\u001b[38;5;124mf\u001b[39m\u001b[38;5;124m\"\u001b[39m\u001b[38;5;124mStarting training. Optimizing \u001b[39m\u001b[38;5;130;01m\\\"\u001b[39;00m\u001b[38;5;132;01m{\u001b[39;00mtarget_metric\u001b[38;5;132;01m}\u001b[39;00m\u001b[38;5;130;01m\\\"\u001b[39;00m\u001b[38;5;124m\"\u001b[39m)\n\u001b[0;32m---> 49\u001b[0m \u001b[38;5;28mself\u001b[39m\u001b[38;5;241m.\u001b[39m_hist \u001b[38;5;241m=\u001b[39m \u001b[38;5;28;43mself\u001b[39;49m\u001b[38;5;241;43m.\u001b[39;49m\u001b[43m_model\u001b[49m\u001b[38;5;241;43m.\u001b[39;49m\u001b[43mfit\u001b[49m\u001b[43m(\u001b[49m\u001b[43mtrain_ds\u001b[49m\u001b[43m,\u001b[49m\u001b[43m \u001b[49m\u001b[43mvalidation_data\u001b[49m\u001b[38;5;241;43m=\u001b[39;49m\u001b[43mval_ds\u001b[49m\u001b[43m,\u001b[49m\u001b[43m \u001b[49m\u001b[43mverbose\u001b[49m\u001b[38;5;241;43m=\u001b[39;49m\u001b[43mverbose\u001b[49m\u001b[43m,\u001b[49m\u001b[43m \u001b[49m\u001b[43mepochs\u001b[49m\u001b[38;5;241;43m=\u001b[39;49m\u001b[43mepochs\u001b[49m\u001b[43m,\u001b[49m\u001b[43m \u001b[49m\u001b[43mclass_weight\u001b[49m\u001b[38;5;241;43m=\u001b[39;49m\u001b[43mclass_weight\u001b[49m\u001b[43m,\u001b[49m\u001b[43m \u001b[49m\u001b[43mcallbacks\u001b[49m\u001b[38;5;241;43m=\u001b[39;49m\u001b[43mcallbacks\u001b[49m\u001b[43m)\u001b[49m\n\u001b[1;32m     51\u001b[0m \u001b[38;5;28;01mif\u001b[39;00m save_best_only:\n\u001b[1;32m     52\u001b[0m     \u001b[38;5;28mself\u001b[39m\u001b[38;5;241m.\u001b[39m_model\u001b[38;5;241m.\u001b[39mload_weights(best_model_filepath)\n",
      "File \u001b[0;32m~/miniconda3/envs/splid-gpu/lib/python3.10/site-packages/keras/src/utils/traceback_utils.py:65\u001b[0m, in \u001b[0;36mfilter_traceback.<locals>.error_handler\u001b[0;34m(*args, **kwargs)\u001b[0m\n\u001b[1;32m     63\u001b[0m filtered_tb \u001b[38;5;241m=\u001b[39m \u001b[38;5;28;01mNone\u001b[39;00m\n\u001b[1;32m     64\u001b[0m \u001b[38;5;28;01mtry\u001b[39;00m:\n\u001b[0;32m---> 65\u001b[0m     \u001b[38;5;28;01mreturn\u001b[39;00m \u001b[43mfn\u001b[49m\u001b[43m(\u001b[49m\u001b[38;5;241;43m*\u001b[39;49m\u001b[43margs\u001b[49m\u001b[43m,\u001b[49m\u001b[43m \u001b[49m\u001b[38;5;241;43m*\u001b[39;49m\u001b[38;5;241;43m*\u001b[39;49m\u001b[43mkwargs\u001b[49m\u001b[43m)\u001b[49m\n\u001b[1;32m     66\u001b[0m \u001b[38;5;28;01mexcept\u001b[39;00m \u001b[38;5;167;01mException\u001b[39;00m \u001b[38;5;28;01mas\u001b[39;00m e:\n\u001b[1;32m     67\u001b[0m     filtered_tb \u001b[38;5;241m=\u001b[39m _process_traceback_frames(e\u001b[38;5;241m.\u001b[39m__traceback__)\n",
      "File \u001b[0;32m~/miniconda3/envs/splid-gpu/lib/python3.10/site-packages/keras/src/engine/training.py:1856\u001b[0m, in \u001b[0;36mModel.fit\u001b[0;34m(self, x, y, batch_size, epochs, verbose, callbacks, validation_split, validation_data, shuffle, class_weight, sample_weight, initial_epoch, steps_per_epoch, validation_steps, validation_batch_size, validation_freq, max_queue_size, workers, use_multiprocessing)\u001b[0m\n\u001b[1;32m   1840\u001b[0m \u001b[38;5;28;01mif\u001b[39;00m \u001b[38;5;28mgetattr\u001b[39m(\u001b[38;5;28mself\u001b[39m, \u001b[38;5;124m\"\u001b[39m\u001b[38;5;124m_eval_data_handler\u001b[39m\u001b[38;5;124m\"\u001b[39m, \u001b[38;5;28;01mNone\u001b[39;00m) \u001b[38;5;129;01mis\u001b[39;00m \u001b[38;5;28;01mNone\u001b[39;00m:\n\u001b[1;32m   1841\u001b[0m     \u001b[38;5;28mself\u001b[39m\u001b[38;5;241m.\u001b[39m_eval_data_handler \u001b[38;5;241m=\u001b[39m data_adapter\u001b[38;5;241m.\u001b[39mget_data_handler(\n\u001b[1;32m   1842\u001b[0m         x\u001b[38;5;241m=\u001b[39mval_x,\n\u001b[1;32m   1843\u001b[0m         y\u001b[38;5;241m=\u001b[39mval_y,\n\u001b[0;32m   (...)\u001b[0m\n\u001b[1;32m   1854\u001b[0m         pss_evaluation_shards\u001b[38;5;241m=\u001b[39m\u001b[38;5;28mself\u001b[39m\u001b[38;5;241m.\u001b[39m_pss_evaluation_shards,\n\u001b[1;32m   1855\u001b[0m     )\n\u001b[0;32m-> 1856\u001b[0m val_logs \u001b[38;5;241m=\u001b[39m \u001b[38;5;28;43mself\u001b[39;49m\u001b[38;5;241;43m.\u001b[39;49m\u001b[43mevaluate\u001b[49m\u001b[43m(\u001b[49m\n\u001b[1;32m   1857\u001b[0m \u001b[43m    \u001b[49m\u001b[43mx\u001b[49m\u001b[38;5;241;43m=\u001b[39;49m\u001b[43mval_x\u001b[49m\u001b[43m,\u001b[49m\n\u001b[1;32m   1858\u001b[0m \u001b[43m    \u001b[49m\u001b[43my\u001b[49m\u001b[38;5;241;43m=\u001b[39;49m\u001b[43mval_y\u001b[49m\u001b[43m,\u001b[49m\n\u001b[1;32m   1859\u001b[0m \u001b[43m    \u001b[49m\u001b[43msample_weight\u001b[49m\u001b[38;5;241;43m=\u001b[39;49m\u001b[43mval_sample_weight\u001b[49m\u001b[43m,\u001b[49m\n\u001b[1;32m   1860\u001b[0m \u001b[43m    \u001b[49m\u001b[43mbatch_size\u001b[49m\u001b[38;5;241;43m=\u001b[39;49m\u001b[43mvalidation_batch_size\u001b[49m\u001b[43m \u001b[49m\u001b[38;5;129;43;01mor\u001b[39;49;00m\u001b[43m \u001b[49m\u001b[43mbatch_size\u001b[49m\u001b[43m,\u001b[49m\n\u001b[1;32m   1861\u001b[0m \u001b[43m    \u001b[49m\u001b[43msteps\u001b[49m\u001b[38;5;241;43m=\u001b[39;49m\u001b[43mvalidation_steps\u001b[49m\u001b[43m,\u001b[49m\n\u001b[1;32m   1862\u001b[0m \u001b[43m    \u001b[49m\u001b[43mcallbacks\u001b[49m\u001b[38;5;241;43m=\u001b[39;49m\u001b[43mcallbacks\u001b[49m\u001b[43m,\u001b[49m\n\u001b[1;32m   1863\u001b[0m \u001b[43m    \u001b[49m\u001b[43mmax_queue_size\u001b[49m\u001b[38;5;241;43m=\u001b[39;49m\u001b[43mmax_queue_size\u001b[49m\u001b[43m,\u001b[49m\n\u001b[1;32m   1864\u001b[0m \u001b[43m    \u001b[49m\u001b[43mworkers\u001b[49m\u001b[38;5;241;43m=\u001b[39;49m\u001b[43mworkers\u001b[49m\u001b[43m,\u001b[49m\n\u001b[1;32m   1865\u001b[0m \u001b[43m    \u001b[49m\u001b[43muse_multiprocessing\u001b[49m\u001b[38;5;241;43m=\u001b[39;49m\u001b[43muse_multiprocessing\u001b[49m\u001b[43m,\u001b[49m\n\u001b[1;32m   1866\u001b[0m \u001b[43m    \u001b[49m\u001b[43mreturn_dict\u001b[49m\u001b[38;5;241;43m=\u001b[39;49m\u001b[38;5;28;43;01mTrue\u001b[39;49;00m\u001b[43m,\u001b[49m\n\u001b[1;32m   1867\u001b[0m \u001b[43m    \u001b[49m\u001b[43m_use_cached_eval_dataset\u001b[49m\u001b[38;5;241;43m=\u001b[39;49m\u001b[38;5;28;43;01mTrue\u001b[39;49;00m\u001b[43m,\u001b[49m\n\u001b[1;32m   1868\u001b[0m \u001b[43m\u001b[49m\u001b[43m)\u001b[49m\n\u001b[1;32m   1869\u001b[0m val_logs \u001b[38;5;241m=\u001b[39m {\n\u001b[1;32m   1870\u001b[0m     \u001b[38;5;124m\"\u001b[39m\u001b[38;5;124mval_\u001b[39m\u001b[38;5;124m\"\u001b[39m \u001b[38;5;241m+\u001b[39m name: val \u001b[38;5;28;01mfor\u001b[39;00m name, val \u001b[38;5;129;01min\u001b[39;00m val_logs\u001b[38;5;241m.\u001b[39mitems()\n\u001b[1;32m   1871\u001b[0m }\n\u001b[1;32m   1872\u001b[0m epoch_logs\u001b[38;5;241m.\u001b[39mupdate(val_logs)\n",
      "File \u001b[0;32m~/miniconda3/envs/splid-gpu/lib/python3.10/site-packages/keras/src/utils/traceback_utils.py:65\u001b[0m, in \u001b[0;36mfilter_traceback.<locals>.error_handler\u001b[0;34m(*args, **kwargs)\u001b[0m\n\u001b[1;32m     63\u001b[0m filtered_tb \u001b[38;5;241m=\u001b[39m \u001b[38;5;28;01mNone\u001b[39;00m\n\u001b[1;32m     64\u001b[0m \u001b[38;5;28;01mtry\u001b[39;00m:\n\u001b[0;32m---> 65\u001b[0m     \u001b[38;5;28;01mreturn\u001b[39;00m \u001b[43mfn\u001b[49m\u001b[43m(\u001b[49m\u001b[38;5;241;43m*\u001b[39;49m\u001b[43margs\u001b[49m\u001b[43m,\u001b[49m\u001b[43m \u001b[49m\u001b[38;5;241;43m*\u001b[39;49m\u001b[38;5;241;43m*\u001b[39;49m\u001b[43mkwargs\u001b[49m\u001b[43m)\u001b[49m\n\u001b[1;32m     66\u001b[0m \u001b[38;5;28;01mexcept\u001b[39;00m \u001b[38;5;167;01mException\u001b[39;00m \u001b[38;5;28;01mas\u001b[39;00m e:\n\u001b[1;32m     67\u001b[0m     filtered_tb \u001b[38;5;241m=\u001b[39m _process_traceback_frames(e\u001b[38;5;241m.\u001b[39m__traceback__)\n",
      "File \u001b[0;32m~/miniconda3/envs/splid-gpu/lib/python3.10/site-packages/keras/src/engine/training.py:2296\u001b[0m, in \u001b[0;36mModel.evaluate\u001b[0;34m(self, x, y, batch_size, verbose, sample_weight, steps, callbacks, max_queue_size, workers, use_multiprocessing, return_dict, **kwargs)\u001b[0m\n\u001b[1;32m   2292\u001b[0m             \u001b[38;5;28;01mwith\u001b[39;00m tf\u001b[38;5;241m.\u001b[39mprofiler\u001b[38;5;241m.\u001b[39mexperimental\u001b[38;5;241m.\u001b[39mTrace(\n\u001b[1;32m   2293\u001b[0m                 \u001b[38;5;124m\"\u001b[39m\u001b[38;5;124mtest\u001b[39m\u001b[38;5;124m\"\u001b[39m, step_num\u001b[38;5;241m=\u001b[39mstep, _r\u001b[38;5;241m=\u001b[39m\u001b[38;5;241m1\u001b[39m\n\u001b[1;32m   2294\u001b[0m             ):\n\u001b[1;32m   2295\u001b[0m                 callbacks\u001b[38;5;241m.\u001b[39mon_test_batch_begin(step)\n\u001b[0;32m-> 2296\u001b[0m                 logs \u001b[38;5;241m=\u001b[39m \u001b[43mtest_function_runner\u001b[49m\u001b[38;5;241;43m.\u001b[39;49m\u001b[43mrun_step\u001b[49m\u001b[43m(\u001b[49m\n\u001b[1;32m   2297\u001b[0m \u001b[43m                    \u001b[49m\u001b[43mdataset_or_iterator\u001b[49m\u001b[43m,\u001b[49m\n\u001b[1;32m   2298\u001b[0m \u001b[43m                    \u001b[49m\u001b[43mdata_handler\u001b[49m\u001b[43m,\u001b[49m\n\u001b[1;32m   2299\u001b[0m \u001b[43m                    \u001b[49m\u001b[43mstep\u001b[49m\u001b[43m,\u001b[49m\n\u001b[1;32m   2300\u001b[0m \u001b[43m                    \u001b[49m\u001b[38;5;28;43mself\u001b[39;49m\u001b[38;5;241;43m.\u001b[39;49m\u001b[43m_pss_evaluation_shards\u001b[49m\u001b[43m,\u001b[49m\n\u001b[1;32m   2301\u001b[0m \u001b[43m                \u001b[49m\u001b[43m)\u001b[49m\n\u001b[1;32m   2303\u001b[0m logs \u001b[38;5;241m=\u001b[39m tf_utils\u001b[38;5;241m.\u001b[39msync_to_numpy_or_python_type(logs)\n\u001b[1;32m   2304\u001b[0m \u001b[38;5;66;03m# Override with model metrics instead of last step logs\u001b[39;00m\n",
      "File \u001b[0;32m~/miniconda3/envs/splid-gpu/lib/python3.10/site-packages/keras/src/engine/training.py:4108\u001b[0m, in \u001b[0;36m_TestFunction.run_step\u001b[0;34m(self, dataset_or_iterator, data_handler, step, unused_shards)\u001b[0m\n\u001b[1;32m   4107\u001b[0m \u001b[38;5;28;01mdef\u001b[39;00m \u001b[38;5;21mrun_step\u001b[39m(\u001b[38;5;28mself\u001b[39m, dataset_or_iterator, data_handler, step, unused_shards):\n\u001b[0;32m-> 4108\u001b[0m     tmp_logs \u001b[38;5;241m=\u001b[39m \u001b[38;5;28;43mself\u001b[39;49m\u001b[38;5;241;43m.\u001b[39;49m\u001b[43m_function\u001b[49m\u001b[43m(\u001b[49m\u001b[43mdataset_or_iterator\u001b[49m\u001b[43m)\u001b[49m\n\u001b[1;32m   4109\u001b[0m     \u001b[38;5;28;01mif\u001b[39;00m data_handler\u001b[38;5;241m.\u001b[39mshould_sync:\n\u001b[1;32m   4110\u001b[0m         context\u001b[38;5;241m.\u001b[39masync_wait()\n",
      "File \u001b[0;32m~/miniconda3/envs/splid-gpu/lib/python3.10/site-packages/tensorflow/python/util/traceback_utils.py:150\u001b[0m, in \u001b[0;36mfilter_traceback.<locals>.error_handler\u001b[0;34m(*args, **kwargs)\u001b[0m\n\u001b[1;32m    148\u001b[0m filtered_tb \u001b[38;5;241m=\u001b[39m \u001b[38;5;28;01mNone\u001b[39;00m\n\u001b[1;32m    149\u001b[0m \u001b[38;5;28;01mtry\u001b[39;00m:\n\u001b[0;32m--> 150\u001b[0m   \u001b[38;5;28;01mreturn\u001b[39;00m \u001b[43mfn\u001b[49m\u001b[43m(\u001b[49m\u001b[38;5;241;43m*\u001b[39;49m\u001b[43margs\u001b[49m\u001b[43m,\u001b[49m\u001b[43m \u001b[49m\u001b[38;5;241;43m*\u001b[39;49m\u001b[38;5;241;43m*\u001b[39;49m\u001b[43mkwargs\u001b[49m\u001b[43m)\u001b[49m\n\u001b[1;32m    151\u001b[0m \u001b[38;5;28;01mexcept\u001b[39;00m \u001b[38;5;167;01mException\u001b[39;00m \u001b[38;5;28;01mas\u001b[39;00m e:\n\u001b[1;32m    152\u001b[0m   filtered_tb \u001b[38;5;241m=\u001b[39m _process_traceback_frames(e\u001b[38;5;241m.\u001b[39m__traceback__)\n",
      "File \u001b[0;32m~/miniconda3/envs/splid-gpu/lib/python3.10/site-packages/tensorflow/python/eager/polymorphic_function/polymorphic_function.py:832\u001b[0m, in \u001b[0;36mFunction.__call__\u001b[0;34m(self, *args, **kwds)\u001b[0m\n\u001b[1;32m    829\u001b[0m compiler \u001b[38;5;241m=\u001b[39m \u001b[38;5;124m\"\u001b[39m\u001b[38;5;124mxla\u001b[39m\u001b[38;5;124m\"\u001b[39m \u001b[38;5;28;01mif\u001b[39;00m \u001b[38;5;28mself\u001b[39m\u001b[38;5;241m.\u001b[39m_jit_compile \u001b[38;5;28;01melse\u001b[39;00m \u001b[38;5;124m\"\u001b[39m\u001b[38;5;124mnonXla\u001b[39m\u001b[38;5;124m\"\u001b[39m\n\u001b[1;32m    831\u001b[0m \u001b[38;5;28;01mwith\u001b[39;00m OptionalXlaContext(\u001b[38;5;28mself\u001b[39m\u001b[38;5;241m.\u001b[39m_jit_compile):\n\u001b[0;32m--> 832\u001b[0m   result \u001b[38;5;241m=\u001b[39m \u001b[38;5;28;43mself\u001b[39;49m\u001b[38;5;241;43m.\u001b[39;49m\u001b[43m_call\u001b[49m\u001b[43m(\u001b[49m\u001b[38;5;241;43m*\u001b[39;49m\u001b[43margs\u001b[49m\u001b[43m,\u001b[49m\u001b[43m \u001b[49m\u001b[38;5;241;43m*\u001b[39;49m\u001b[38;5;241;43m*\u001b[39;49m\u001b[43mkwds\u001b[49m\u001b[43m)\u001b[49m\n\u001b[1;32m    834\u001b[0m new_tracing_count \u001b[38;5;241m=\u001b[39m \u001b[38;5;28mself\u001b[39m\u001b[38;5;241m.\u001b[39mexperimental_get_tracing_count()\n\u001b[1;32m    835\u001b[0m without_tracing \u001b[38;5;241m=\u001b[39m (tracing_count \u001b[38;5;241m==\u001b[39m new_tracing_count)\n",
      "File \u001b[0;32m~/miniconda3/envs/splid-gpu/lib/python3.10/site-packages/tensorflow/python/eager/polymorphic_function/polymorphic_function.py:877\u001b[0m, in \u001b[0;36mFunction._call\u001b[0;34m(self, *args, **kwds)\u001b[0m\n\u001b[1;32m    874\u001b[0m \u001b[38;5;28mself\u001b[39m\u001b[38;5;241m.\u001b[39m_lock\u001b[38;5;241m.\u001b[39mrelease()\n\u001b[1;32m    875\u001b[0m \u001b[38;5;66;03m# In this case we have not created variables on the first call. So we can\u001b[39;00m\n\u001b[1;32m    876\u001b[0m \u001b[38;5;66;03m# run the first trace but we should fail if variables are created.\u001b[39;00m\n\u001b[0;32m--> 877\u001b[0m results \u001b[38;5;241m=\u001b[39m \u001b[43mtracing_compilation\u001b[49m\u001b[38;5;241;43m.\u001b[39;49m\u001b[43mcall_function\u001b[49m\u001b[43m(\u001b[49m\n\u001b[1;32m    878\u001b[0m \u001b[43m    \u001b[49m\u001b[43margs\u001b[49m\u001b[43m,\u001b[49m\u001b[43m \u001b[49m\u001b[43mkwds\u001b[49m\u001b[43m,\u001b[49m\u001b[43m \u001b[49m\u001b[38;5;28;43mself\u001b[39;49m\u001b[38;5;241;43m.\u001b[39;49m\u001b[43m_variable_creation_config\u001b[49m\n\u001b[1;32m    879\u001b[0m \u001b[43m\u001b[49m\u001b[43m)\u001b[49m\n\u001b[1;32m    880\u001b[0m \u001b[38;5;28;01mif\u001b[39;00m \u001b[38;5;28mself\u001b[39m\u001b[38;5;241m.\u001b[39m_created_variables:\n\u001b[1;32m    881\u001b[0m   \u001b[38;5;28;01mraise\u001b[39;00m \u001b[38;5;167;01mValueError\u001b[39;00m(\u001b[38;5;124m\"\u001b[39m\u001b[38;5;124mCreating variables on a non-first call to a function\u001b[39m\u001b[38;5;124m\"\u001b[39m\n\u001b[1;32m    882\u001b[0m                    \u001b[38;5;124m\"\u001b[39m\u001b[38;5;124m decorated with tf.function.\u001b[39m\u001b[38;5;124m\"\u001b[39m)\n",
      "File \u001b[0;32m~/miniconda3/envs/splid-gpu/lib/python3.10/site-packages/tensorflow/python/eager/polymorphic_function/tracing_compilation.py:139\u001b[0m, in \u001b[0;36mcall_function\u001b[0;34m(args, kwargs, tracing_options)\u001b[0m\n\u001b[1;32m    137\u001b[0m bound_args \u001b[38;5;241m=\u001b[39m function\u001b[38;5;241m.\u001b[39mfunction_type\u001b[38;5;241m.\u001b[39mbind(\u001b[38;5;241m*\u001b[39margs, \u001b[38;5;241m*\u001b[39m\u001b[38;5;241m*\u001b[39mkwargs)\n\u001b[1;32m    138\u001b[0m flat_inputs \u001b[38;5;241m=\u001b[39m function\u001b[38;5;241m.\u001b[39mfunction_type\u001b[38;5;241m.\u001b[39munpack_inputs(bound_args)\n\u001b[0;32m--> 139\u001b[0m \u001b[38;5;28;01mreturn\u001b[39;00m \u001b[43mfunction\u001b[49m\u001b[38;5;241;43m.\u001b[39;49m\u001b[43m_call_flat\u001b[49m\u001b[43m(\u001b[49m\u001b[43m  \u001b[49m\u001b[38;5;66;43;03m# pylint: disable=protected-access\u001b[39;49;00m\n\u001b[1;32m    140\u001b[0m \u001b[43m    \u001b[49m\u001b[43mflat_inputs\u001b[49m\u001b[43m,\u001b[49m\u001b[43m \u001b[49m\u001b[43mcaptured_inputs\u001b[49m\u001b[38;5;241;43m=\u001b[39;49m\u001b[43mfunction\u001b[49m\u001b[38;5;241;43m.\u001b[39;49m\u001b[43mcaptured_inputs\u001b[49m\n\u001b[1;32m    141\u001b[0m \u001b[43m\u001b[49m\u001b[43m)\u001b[49m\n",
      "File \u001b[0;32m~/miniconda3/envs/splid-gpu/lib/python3.10/site-packages/tensorflow/python/eager/polymorphic_function/concrete_function.py:1323\u001b[0m, in \u001b[0;36mConcreteFunction._call_flat\u001b[0;34m(self, tensor_inputs, captured_inputs)\u001b[0m\n\u001b[1;32m   1319\u001b[0m possible_gradient_type \u001b[38;5;241m=\u001b[39m gradients_util\u001b[38;5;241m.\u001b[39mPossibleTapeGradientTypes(args)\n\u001b[1;32m   1320\u001b[0m \u001b[38;5;28;01mif\u001b[39;00m (possible_gradient_type \u001b[38;5;241m==\u001b[39m gradients_util\u001b[38;5;241m.\u001b[39mPOSSIBLE_GRADIENT_TYPES_NONE\n\u001b[1;32m   1321\u001b[0m     \u001b[38;5;129;01mand\u001b[39;00m executing_eagerly):\n\u001b[1;32m   1322\u001b[0m   \u001b[38;5;66;03m# No tape is watching; skip to running the function.\u001b[39;00m\n\u001b[0;32m-> 1323\u001b[0m   \u001b[38;5;28;01mreturn\u001b[39;00m \u001b[38;5;28;43mself\u001b[39;49m\u001b[38;5;241;43m.\u001b[39;49m\u001b[43m_inference_function\u001b[49m\u001b[38;5;241;43m.\u001b[39;49m\u001b[43mcall_preflattened\u001b[49m\u001b[43m(\u001b[49m\u001b[43margs\u001b[49m\u001b[43m)\u001b[49m\n\u001b[1;32m   1324\u001b[0m forward_backward \u001b[38;5;241m=\u001b[39m \u001b[38;5;28mself\u001b[39m\u001b[38;5;241m.\u001b[39m_select_forward_and_backward_functions(\n\u001b[1;32m   1325\u001b[0m     args,\n\u001b[1;32m   1326\u001b[0m     possible_gradient_type,\n\u001b[1;32m   1327\u001b[0m     executing_eagerly)\n\u001b[1;32m   1328\u001b[0m forward_function, args_with_tangents \u001b[38;5;241m=\u001b[39m forward_backward\u001b[38;5;241m.\u001b[39mforward()\n",
      "File \u001b[0;32m~/miniconda3/envs/splid-gpu/lib/python3.10/site-packages/tensorflow/python/eager/polymorphic_function/atomic_function.py:216\u001b[0m, in \u001b[0;36mAtomicFunction.call_preflattened\u001b[0;34m(self, args)\u001b[0m\n\u001b[1;32m    214\u001b[0m \u001b[38;5;28;01mdef\u001b[39;00m \u001b[38;5;21mcall_preflattened\u001b[39m(\u001b[38;5;28mself\u001b[39m, args: Sequence[core\u001b[38;5;241m.\u001b[39mTensor]) \u001b[38;5;241m-\u001b[39m\u001b[38;5;241m>\u001b[39m Any:\n\u001b[1;32m    215\u001b[0m \u001b[38;5;250m  \u001b[39m\u001b[38;5;124;03m\"\"\"Calls with flattened tensor inputs and returns the structured output.\"\"\"\u001b[39;00m\n\u001b[0;32m--> 216\u001b[0m   flat_outputs \u001b[38;5;241m=\u001b[39m \u001b[38;5;28;43mself\u001b[39;49m\u001b[38;5;241;43m.\u001b[39;49m\u001b[43mcall_flat\u001b[49m\u001b[43m(\u001b[49m\u001b[38;5;241;43m*\u001b[39;49m\u001b[43margs\u001b[49m\u001b[43m)\u001b[49m\n\u001b[1;32m    217\u001b[0m   \u001b[38;5;28;01mreturn\u001b[39;00m \u001b[38;5;28mself\u001b[39m\u001b[38;5;241m.\u001b[39mfunction_type\u001b[38;5;241m.\u001b[39mpack_output(flat_outputs)\n",
      "File \u001b[0;32m~/miniconda3/envs/splid-gpu/lib/python3.10/site-packages/tensorflow/python/eager/polymorphic_function/atomic_function.py:251\u001b[0m, in \u001b[0;36mAtomicFunction.call_flat\u001b[0;34m(self, *args)\u001b[0m\n\u001b[1;32m    249\u001b[0m \u001b[38;5;28;01mwith\u001b[39;00m record\u001b[38;5;241m.\u001b[39mstop_recording():\n\u001b[1;32m    250\u001b[0m   \u001b[38;5;28;01mif\u001b[39;00m \u001b[38;5;28mself\u001b[39m\u001b[38;5;241m.\u001b[39m_bound_context\u001b[38;5;241m.\u001b[39mexecuting_eagerly():\n\u001b[0;32m--> 251\u001b[0m     outputs \u001b[38;5;241m=\u001b[39m \u001b[38;5;28;43mself\u001b[39;49m\u001b[38;5;241;43m.\u001b[39;49m\u001b[43m_bound_context\u001b[49m\u001b[38;5;241;43m.\u001b[39;49m\u001b[43mcall_function\u001b[49m\u001b[43m(\u001b[49m\n\u001b[1;32m    252\u001b[0m \u001b[43m        \u001b[49m\u001b[38;5;28;43mself\u001b[39;49m\u001b[38;5;241;43m.\u001b[39;49m\u001b[43mname\u001b[49m\u001b[43m,\u001b[49m\n\u001b[1;32m    253\u001b[0m \u001b[43m        \u001b[49m\u001b[38;5;28;43mlist\u001b[39;49m\u001b[43m(\u001b[49m\u001b[43margs\u001b[49m\u001b[43m)\u001b[49m\u001b[43m,\u001b[49m\n\u001b[1;32m    254\u001b[0m \u001b[43m        \u001b[49m\u001b[38;5;28;43mlen\u001b[39;49m\u001b[43m(\u001b[49m\u001b[38;5;28;43mself\u001b[39;49m\u001b[38;5;241;43m.\u001b[39;49m\u001b[43mfunction_type\u001b[49m\u001b[38;5;241;43m.\u001b[39;49m\u001b[43mflat_outputs\u001b[49m\u001b[43m)\u001b[49m\u001b[43m,\u001b[49m\n\u001b[1;32m    255\u001b[0m \u001b[43m    \u001b[49m\u001b[43m)\u001b[49m\n\u001b[1;32m    256\u001b[0m   \u001b[38;5;28;01melse\u001b[39;00m:\n\u001b[1;32m    257\u001b[0m     outputs \u001b[38;5;241m=\u001b[39m make_call_op_in_graph(\n\u001b[1;32m    258\u001b[0m         \u001b[38;5;28mself\u001b[39m,\n\u001b[1;32m    259\u001b[0m         \u001b[38;5;28mlist\u001b[39m(args),\n\u001b[1;32m    260\u001b[0m         \u001b[38;5;28mself\u001b[39m\u001b[38;5;241m.\u001b[39m_bound_context\u001b[38;5;241m.\u001b[39mfunction_call_options\u001b[38;5;241m.\u001b[39mas_attrs(),\n\u001b[1;32m    261\u001b[0m     )\n",
      "File \u001b[0;32m~/miniconda3/envs/splid-gpu/lib/python3.10/site-packages/tensorflow/python/eager/context.py:1486\u001b[0m, in \u001b[0;36mContext.call_function\u001b[0;34m(self, name, tensor_inputs, num_outputs)\u001b[0m\n\u001b[1;32m   1484\u001b[0m cancellation_context \u001b[38;5;241m=\u001b[39m cancellation\u001b[38;5;241m.\u001b[39mcontext()\n\u001b[1;32m   1485\u001b[0m \u001b[38;5;28;01mif\u001b[39;00m cancellation_context \u001b[38;5;129;01mis\u001b[39;00m \u001b[38;5;28;01mNone\u001b[39;00m:\n\u001b[0;32m-> 1486\u001b[0m   outputs \u001b[38;5;241m=\u001b[39m \u001b[43mexecute\u001b[49m\u001b[38;5;241;43m.\u001b[39;49m\u001b[43mexecute\u001b[49m\u001b[43m(\u001b[49m\n\u001b[1;32m   1487\u001b[0m \u001b[43m      \u001b[49m\u001b[43mname\u001b[49m\u001b[38;5;241;43m.\u001b[39;49m\u001b[43mdecode\u001b[49m\u001b[43m(\u001b[49m\u001b[38;5;124;43m\"\u001b[39;49m\u001b[38;5;124;43mutf-8\u001b[39;49m\u001b[38;5;124;43m\"\u001b[39;49m\u001b[43m)\u001b[49m\u001b[43m,\u001b[49m\n\u001b[1;32m   1488\u001b[0m \u001b[43m      \u001b[49m\u001b[43mnum_outputs\u001b[49m\u001b[38;5;241;43m=\u001b[39;49m\u001b[43mnum_outputs\u001b[49m\u001b[43m,\u001b[49m\n\u001b[1;32m   1489\u001b[0m \u001b[43m      \u001b[49m\u001b[43minputs\u001b[49m\u001b[38;5;241;43m=\u001b[39;49m\u001b[43mtensor_inputs\u001b[49m\u001b[43m,\u001b[49m\n\u001b[1;32m   1490\u001b[0m \u001b[43m      \u001b[49m\u001b[43mattrs\u001b[49m\u001b[38;5;241;43m=\u001b[39;49m\u001b[43mattrs\u001b[49m\u001b[43m,\u001b[49m\n\u001b[1;32m   1491\u001b[0m \u001b[43m      \u001b[49m\u001b[43mctx\u001b[49m\u001b[38;5;241;43m=\u001b[39;49m\u001b[38;5;28;43mself\u001b[39;49m\u001b[43m,\u001b[49m\n\u001b[1;32m   1492\u001b[0m \u001b[43m  \u001b[49m\u001b[43m)\u001b[49m\n\u001b[1;32m   1493\u001b[0m \u001b[38;5;28;01melse\u001b[39;00m:\n\u001b[1;32m   1494\u001b[0m   outputs \u001b[38;5;241m=\u001b[39m execute\u001b[38;5;241m.\u001b[39mexecute_with_cancellation(\n\u001b[1;32m   1495\u001b[0m       name\u001b[38;5;241m.\u001b[39mdecode(\u001b[38;5;124m\"\u001b[39m\u001b[38;5;124mutf-8\u001b[39m\u001b[38;5;124m\"\u001b[39m),\n\u001b[1;32m   1496\u001b[0m       num_outputs\u001b[38;5;241m=\u001b[39mnum_outputs,\n\u001b[0;32m   (...)\u001b[0m\n\u001b[1;32m   1500\u001b[0m       cancellation_manager\u001b[38;5;241m=\u001b[39mcancellation_context,\n\u001b[1;32m   1501\u001b[0m   )\n",
      "File \u001b[0;32m~/miniconda3/envs/splid-gpu/lib/python3.10/site-packages/tensorflow/python/eager/execute.py:53\u001b[0m, in \u001b[0;36mquick_execute\u001b[0;34m(op_name, num_outputs, inputs, attrs, ctx, name)\u001b[0m\n\u001b[1;32m     51\u001b[0m \u001b[38;5;28;01mtry\u001b[39;00m:\n\u001b[1;32m     52\u001b[0m   ctx\u001b[38;5;241m.\u001b[39mensure_initialized()\n\u001b[0;32m---> 53\u001b[0m   tensors \u001b[38;5;241m=\u001b[39m \u001b[43mpywrap_tfe\u001b[49m\u001b[38;5;241;43m.\u001b[39;49m\u001b[43mTFE_Py_Execute\u001b[49m\u001b[43m(\u001b[49m\u001b[43mctx\u001b[49m\u001b[38;5;241;43m.\u001b[39;49m\u001b[43m_handle\u001b[49m\u001b[43m,\u001b[49m\u001b[43m \u001b[49m\u001b[43mdevice_name\u001b[49m\u001b[43m,\u001b[49m\u001b[43m \u001b[49m\u001b[43mop_name\u001b[49m\u001b[43m,\u001b[49m\n\u001b[1;32m     54\u001b[0m \u001b[43m                                      \u001b[49m\u001b[43minputs\u001b[49m\u001b[43m,\u001b[49m\u001b[43m \u001b[49m\u001b[43mattrs\u001b[49m\u001b[43m,\u001b[49m\u001b[43m \u001b[49m\u001b[43mnum_outputs\u001b[49m\u001b[43m)\u001b[49m\n\u001b[1;32m     55\u001b[0m \u001b[38;5;28;01mexcept\u001b[39;00m core\u001b[38;5;241m.\u001b[39m_NotOkStatusException \u001b[38;5;28;01mas\u001b[39;00m e:\n\u001b[1;32m     56\u001b[0m   \u001b[38;5;28;01mif\u001b[39;00m name \u001b[38;5;129;01mis\u001b[39;00m \u001b[38;5;129;01mnot\u001b[39;00m \u001b[38;5;28;01mNone\u001b[39;00m:\n",
      "\u001b[0;31mKeyboardInterrupt\u001b[0m: "
     ]
    }
   ],
   "source": [
    "utils.set_random_seed(42)\n",
    "\n",
    "#dense_model = prediction_models.Dense_NN(val_combined, conv1d_layers=[], dense_layers=[256,128,64], l2_reg=0.001, mixed_dropout=0.15, lr_scheduler=[30000,0.9], seed=0)\n",
    "#dense_model = prediction_models.CNN(train_combined, conv_layers=[[64,6],[64,3],[64,3]], l2_reg=0.001, mixed_dropout=0.15, lr_scheduler=[20000,0.8], seed=0)\n",
    "#dense_model = prediction_models.Dense_NN(train_combined, conv1d_layers=[], dense_layers=[16], l2_reg=0.0001, input_dropout=0.1, mixed_dropout=0.5, lr_scheduler=[10000,0.9], seed=0)\n",
    "#dense_model = prediction_models.LSTM_NN(train_combined, input_dropout=0.0, mixed_dropout=0.25, lstm_layers=[32,16], dense_layers=[32,16], l2_reg=0.0, lr_scheduler=[25000,0.9], seed=1)\n",
    "#dense_model = prediction_models.Dense_NN(train_combined, conv1d_layers=[], dense_layers=[1], l2_reg=0.00001, mixed_dropout=0.2, lr_scheduler=[70000,0.9], seed=0)\n",
    "\n",
    "dense_model = prediction_models.Dense_NN(val_combined,\n",
    "                                         conv1d_layers=[[48,6,1,2,1],[48,3,1,1,1],[48,3,1,1,1]],\n",
    "                                         convlstm1d_layers=[],#[[16,4],[16,4],[16,4]],\n",
    "                                         conv2d_layers=[],#[32,(6,3)],[32,(6,3)],[32,(6,3)]],\n",
    "                                         dense_layers=[64,32],\n",
    "                                         lstm_layers=[],\n",
    "                                         l2_reg=0.001,\n",
    "                                         input_dropout=0.00,\n",
    "                                         mixed_dropout_dense=0.05,\n",
    "                                         mixed_dropout_cnn=0.1,\n",
    "                                         mixed_dropout_lstm=0.0,\n",
    "                                         mixed_batchnorm=False, # if True, this fucks up inference big time! maybe re-visit?\n",
    "                                         lr_scheduler=[0.005],#, 250, 0.9],\n",
    "                                         output_type='classification',\n",
    "                                         seed=0)\n",
    "\n",
    "#dense_model._model = create_timeseries_classification_model((65,6))\n",
    "\n",
    "dense_model.summary()\n",
    "\n",
    "# temporary fix to allow class weights\n",
    "# train_combined= train_combined.map(lambda x,y:(x,y[f'EW_Type']))\n",
    "# val_combined = val_combined.map(lambda x,y:(x,y[f'EW_Type'])) \n",
    "\n",
    "# w_0 = 1.05\n",
    "# w_1 = 1.2\n",
    "# w_2 = 1.05\n",
    "# w_3 = 0.65\n",
    "\n",
    "hist = dense_model.fit(train_combined,\n",
    "                       val_ds=val_combined,\n",
    "                       epochs=500,\n",
    "                       verbose=2,\n",
    "                       plot_hist=True,\n",
    "                       save_best_only=True,\n",
    "                       early_stopping=50,\n",
    "                       target_metric='val_EW_Type_accuracy',\n",
    "                       #class_weight={0: w_0, 1: w_1, 2: w_2, 3: w_3},\n",
    "                       callbacks=[])\n",
    "dense_model.evaluate(val_combined)\n",
    "#dense_model.model.save('models/ew_ns_classifier_new.hdf5')"
   ]
  },
  {
   "cell_type": "code",
   "execution_count": null,
   "metadata": {},
   "outputs": [],
   "source": [
    "hist = dense_model.fit(train_combined, val_ds=val_combined, early_stopping=40, target_metric='val_EW_Type_accuracy', epochs=100, verbose=2, plot_hist=True, callbacks=[])"
   ]
  },
  {
   "cell_type": "code",
   "execution_count": 6,
   "metadata": {},
   "outputs": [],
   "source": [
    "#dense_model.model.save('submission/models/ew_ns_classifier.hdf5')"
   ]
  },
  {
   "cell_type": "code",
   "execution_count": null,
   "metadata": {},
   "outputs": [],
   "source": [
    "ds_gen.plot_dataset_items(val_combined)"
   ]
  },
  {
   "cell_type": "code",
   "execution_count": 15,
   "metadata": {},
   "outputs": [
    {
     "name": "stdout",
     "output_type": "stream",
     "text": [
      "2/2 [==============================] - 0s 279ms/step\n",
      "1/1 [==============================] - 0s 183ms/step\n",
      "2/2 [==============================] - 0s 123ms/step\n"
     ]
    }
   ],
   "source": [
    "pred_df = classifier.create_prediction_df(ds_gen=ds_gen,\n",
    "                                model=dense_model,\n",
    "                                train=False,\n",
    "                                test=False,\n",
    "                                model_outputs=['EW_Type', 'NS_Type'],#, 'NS_Type'],\n",
    "                                object_limit=None,\n",
    "                                only_nodes=True,\n",
    "                                confusion_matrix=False,\n",
    "                                prediction_batches=3,\n",
    "                                verbose=1)"
   ]
  },
  {
   "cell_type": "code",
   "execution_count": 16,
   "metadata": {},
   "outputs": [
    {
     "name": "stdout",
     "output_type": "stream",
     "text": [
      "Precision: 0.962\n",
      "TP: 1760 FP: 70\n"
     ]
    }
   ],
   "source": [
    "ground_truth_df = pd.read_csv(challenge_data_dir / 'train_labels.csv')#.sort_values(['ObjectID', 'TimeIndex']).reset_index(drop=True)\n",
    "# TEMPORARY: remove erronous keys from gt\n",
    "ground_truth_df=ground_truth_df.loc[~ground_truth_df['ObjectID'].isin([1012, 1383, 1385, 1386, 1471, 1473, 1474])].copy()\n",
    "majority_df = classifier.apply_one_shot_method(preds_df=pred_df, location_df=ground_truth_df, dirs=['EW', 'NS'])\n",
    "# ground_truth_df=ground_truth_df.loc[ground_truth_df['TimeIndex']==0]\n",
    "# majority_df=majority_df.loc[majority_df['TimeIndex']==0]\n",
    "# ground_truth_df=ground_truth_df.loc[ground_truth_df['Direction']=='EW']\n",
    "# majority_df=majority_df.loc[majority_df['Direction']=='EW']\n",
    "\n",
    "# 0.95 with 3-layer cnn and 128@2 horizon\n",
    "\n",
    "# EW: 0.965, 996 36\n",
    "# NS: 0.967, 782 27\n",
    "\n",
    "evaluator = evaluation.NodeDetectionEvaluator(ground_truth=ground_truth_df, participant=majority_df)\n",
    "precision, recall, f2, rmse, total_tp, total_fp, total_fn, total_df = evaluator.score()\n",
    "print(f'Precision: {precision:.3f}')\n",
    "print(f'TP: {total_tp} FP: {total_fp}')"
   ]
  },
  {
   "cell_type": "code",
   "execution_count": 20,
   "metadata": {},
   "outputs": [
    {
     "name": "stdout",
     "output_type": "stream",
     "text": [
      "<tf.Variable 'learning_rate:0' shape=() dtype=float32, numpy=0.005>\n"
     ]
    }
   ],
   "source": [
    "print(dense_model.model.optimizer.learning_rate)"
   ]
  },
  {
   "cell_type": "code",
   "execution_count": 10,
   "metadata": {},
   "outputs": [
    {
     "name": "stderr",
     "output_type": "stream",
     "text": [
      "/home/david/miniconda3/envs/splid-gpu/lib/python3.10/site-packages/keras/src/engine/training.py:3103: UserWarning: You are saving your model as an HDF5 file via `model.save()`. This file format is considered legacy. We recommend using instead the native Keras format, e.g. `model.save('my_model.keras')`.\n",
      "  saving_api.save_model(\n"
     ]
    }
   ],
   "source": [
    "pickle.dump(ds_gen.scaler, open('submission/models/ew_ns_classifier_scaler_oneshot_cnn.pkl', 'wb'))\n",
    "dense_model.model.save('submission/models/ew_ns_classifier_oneshot_cnn.hdf5')\n",
    "\n",
    "#0.12 0.92 0.950 (no dropout, strong overfitting, no ft-transform)"
   ]
  }
 ],
 "metadata": {
  "kernelspec": {
   "display_name": "splid-gpu",
   "language": "python",
   "name": "python3"
  },
  "language_info": {
   "codemirror_mode": {
    "name": "ipython",
    "version": 3
   },
   "file_extension": ".py",
   "mimetype": "text/x-python",
   "name": "python",
   "nbconvert_exporter": "python",
   "pygments_lexer": "ipython3",
   "version": "3.10.13"
  }
 },
 "nbformat": 4,
 "nbformat_minor": 2
}
