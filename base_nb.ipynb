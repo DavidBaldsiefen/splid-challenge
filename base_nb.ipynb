{
 "cells": [
  {
   "cell_type": "code",
   "execution_count": 1,
   "metadata": {},
   "outputs": [
    {
     "name": "stdout",
     "output_type": "stream",
     "text": [
      "WARNING:tensorflow:From c:\\Users\\David\\anaconda3\\envs\\splid\\lib\\site-packages\\keras\\src\\losses.py:2976: The name tf.losses.sparse_softmax_cross_entropy is deprecated. Please use tf.compat.v1.losses.sparse_softmax_cross_entropy instead.\n",
      "\n"
     ]
    }
   ],
   "source": [
    "import pandas as pd\n",
    "import numpy as np\n",
    "import tensorflow as tf\n",
    "from pathlib import Path\n",
    "from tqdm import tqdm\n",
    "import random"
   ]
  },
  {
   "cell_type": "code",
   "execution_count": 2,
   "metadata": {},
   "outputs": [],
   "source": [
    "%load_ext autoreload\n",
    "%autoreload 2\n",
    "from base import utils, datahandler, prediction_models, evaluation"
   ]
  },
  {
   "cell_type": "code",
   "execution_count": 3,
   "metadata": {},
   "outputs": [],
   "source": [
    "# Define the directory paths\n",
    "challenge_data_dir = Path('dataset/phase_1/')\n",
    "data_dir = challenge_data_dir / \"train\"\n",
    "labels_dir = challenge_data_dir / 'train_labels.csv'\n",
    "\n",
    "split_dataframes = datahandler.load_and_prepare_dataframes(data_dir, labels_dir)"
   ]
  },
  {
   "cell_type": "code",
   "execution_count": 7,
   "metadata": {},
   "outputs": [],
   "source": [
    "input_features = ['Eccentricity', 'Semimajor Axis (m)', 'Inclination (deg)', 'RAAN (deg)',\n",
    "       'Argument of Periapsis (deg)', 'True Anomaly (deg)', 'Latitude (deg)',\n",
    "       'Longitude (deg)', 'Altitude (m)', 'X (m)', 'Y (m)', 'Z (m)',\n",
    "       'Vx (m/s)', 'Vy (m/s)', 'Vz (m/s)']"
   ]
  },
  {
   "cell_type": "code",
   "execution_count": 5,
   "metadata": {},
   "outputs": [
    {
     "name": "stdout",
     "output_type": "stream",
     "text": [
      "['SS-CK', 'SS-HK', 'SS-EK']\n",
      "['SS-CK', 'SS-HK']\n",
      "['SS-NK', 'IK-CK', 'SS-CK', 'SS-HK', 'IK-HK']\n",
      "['SS-NK', 'IK-CK', 'SS-HK']\n"
     ]
    }
   ],
   "source": [
    "# get all labels in the dataframes\n",
    "keys_list = list(split_dataframes.keys())\n",
    "random.Random(69).shuffle(keys_list) # shuffle, but with a seed for reproducability\n",
    "split_idx = int(len(keys_list) * 0.8)\n",
    "train_keys = keys_list[:split_idx]\n",
    "train_labels_EW = []\n",
    "train_labels_NS = []\n",
    "val_keys = keys_list[split_idx:]\n",
    "val_labels_EW = []\n",
    "val_labels_NS = []\n",
    "for key in train_keys:\n",
    "    train_labels_EW += list(split_dataframes[key]['EW'].unique())\n",
    "    train_labels_NS += list(split_dataframes[key]['NS'].unique())\n",
    "for key in val_keys:\n",
    "    val_labels_EW += list(split_dataframes[key]['EW'].unique())\n",
    "    val_labels_NS += list(split_dataframes[key]['NS'].unique())\n",
    "train_labels_EW = list(dict.fromkeys(train_labels_EW))\n",
    "train_labels_NS = list(dict.fromkeys(train_labels_NS))\n",
    "val_labels_EW = list(dict.fromkeys(val_labels_EW))\n",
    "val_labels_NS = list(dict.fromkeys(val_labels_NS))\n",
    "print(train_labels_EW)\n",
    "print(val_labels_EW)\n",
    "print(train_labels_NS)\n",
    "print(val_labels_NS)\n"
   ]
  },
  {
   "cell_type": "code",
   "execution_count": 9,
   "metadata": {},
   "outputs": [
    {
     "name": "stdout",
     "output_type": "stream",
     "text": [
      "Creating dataset from 212 train and 38 val objects\n",
      "Creating datasets with labels ['EW', 'EW_Node', 'EW_Type', 'NS', 'NS_Node', 'NS_Type']\n",
      "Created datasets with seed 69\n"
     ]
    }
   ],
   "source": [
    "ds_gen = datahandler.DatasetGenerator(split_df=split_dataframes, input_features=input_features, train_val_split=0.85, stride=1, input_steps=8, seed=69)"
   ]
  },
  {
   "cell_type": "code",
   "execution_count": 10,
   "metadata": {},
   "outputs": [
    {
     "name": "stdout",
     "output_type": "stream",
     "text": [
      "[8, 15]\n",
      "WARNING:tensorflow:From c:\\Users\\David\\anaconda3\\envs\\splid\\lib\\site-packages\\keras\\src\\backend.py:1398: The name tf.executing_eagerly_outside_functions is deprecated. Please use tf.compat.v1.executing_eagerly_outside_functions instead.\n",
      "\n",
      "[8, 15]\n",
      "Training model #1\n",
      "WARNING:tensorflow:From c:\\Users\\David\\anaconda3\\envs\\splid\\lib\\site-packages\\keras\\src\\utils\\tf_utils.py:492: The name tf.ragged.RaggedTensorValue is deprecated. Please use tf.compat.v1.ragged.RaggedTensorValue instead.\n",
      "\n",
      "WARNING:tensorflow:From c:\\Users\\David\\anaconda3\\envs\\splid\\lib\\site-packages\\keras\\src\\engine\\base_layer_utils.py:384: The name tf.executing_eagerly_outside_functions is deprecated. Please use tf.compat.v1.executing_eagerly_outside_functions instead.\n",
      "\n"
     ]
    },
    {
     "ename": "KeyboardInterrupt",
     "evalue": "",
     "output_type": "error",
     "traceback": [
      "\u001b[1;31m---------------------------------------------------------------------------\u001b[0m",
      "\u001b[1;31mKeyboardInterrupt\u001b[0m                         Traceback (most recent call last)",
      "Cell \u001b[1;32mIn[10], line 8\u001b[0m\n\u001b[0;32m      6\u001b[0m dense_model_ns \u001b[38;5;241m=\u001b[39m prediction_models\u001b[38;5;241m.\u001b[39mDense_NN(train_NS, dense_layers\u001b[38;5;241m=\u001b[39m[\u001b[38;5;241m512\u001b[39m,\u001b[38;5;241m512\u001b[39m], l2_reg\u001b[38;5;241m=\u001b[39m\u001b[38;5;241m0.00\u001b[39m, mixed_dropout\u001b[38;5;241m=\u001b[39m\u001b[38;5;241m0.0\u001b[39m, seed\u001b[38;5;241m=\u001b[39m\u001b[38;5;241m0\u001b[39m)\n\u001b[0;32m      7\u001b[0m \u001b[38;5;28mprint\u001b[39m(\u001b[38;5;124m\"\u001b[39m\u001b[38;5;124mTraining model #1\u001b[39m\u001b[38;5;124m\"\u001b[39m)\n\u001b[1;32m----> 8\u001b[0m hist_ew \u001b[38;5;241m=\u001b[39m \u001b[43mdense_model_ew\u001b[49m\u001b[38;5;241;43m.\u001b[39;49m\u001b[43mfit\u001b[49m\u001b[43m(\u001b[49m\u001b[43mtrain_EW\u001b[49m\u001b[43m,\u001b[49m\u001b[43m \u001b[49m\u001b[43mval_ds\u001b[49m\u001b[38;5;241;43m=\u001b[39;49m\u001b[43mval_EW\u001b[49m\u001b[43m,\u001b[49m\u001b[43m \u001b[49m\u001b[43mepochs\u001b[49m\u001b[38;5;241;43m=\u001b[39;49m\u001b[38;5;241;43m40\u001b[39;49m\u001b[43m,\u001b[49m\u001b[43m \u001b[49m\u001b[43mverbose\u001b[49m\u001b[38;5;241;43m=\u001b[39;49m\u001b[38;5;241;43m0\u001b[39;49m\u001b[43m,\u001b[49m\u001b[43m \u001b[49m\u001b[43mplot_hist\u001b[49m\u001b[38;5;241;43m=\u001b[39;49m\u001b[38;5;28;43;01mFalse\u001b[39;49;00m\u001b[43m)\u001b[49m \u001b[38;5;66;03m# TODO: somehow this sometimes has save_best_only enabled?? even though its only enabled in 2nd fit? ... do inherited models somehow modify the mother class?!?\u001b[39;00m\n\u001b[0;32m      9\u001b[0m \u001b[38;5;28mprint\u001b[39m(\u001b[38;5;124m\"\u001b[39m\u001b[38;5;124mTraining model #2\u001b[39m\u001b[38;5;124m\"\u001b[39m)\n\u001b[0;32m     10\u001b[0m hist_ns \u001b[38;5;241m=\u001b[39m dense_model_ns\u001b[38;5;241m.\u001b[39mfit(train_NS, val_ds\u001b[38;5;241m=\u001b[39mval_NS, epochs\u001b[38;5;241m=\u001b[39m\u001b[38;5;241m40\u001b[39m, verbose\u001b[38;5;241m=\u001b[39m\u001b[38;5;241m0\u001b[39m, plot_hist\u001b[38;5;241m=\u001b[39m\u001b[38;5;28;01mFalse\u001b[39;00m)\n",
      "File \u001b[1;32mc:\\Code\\ARCLab Challenge\\splid-challenge\\base\\prediction_models.py:43\u001b[0m, in \u001b[0;36mPrediction_Model.fit\u001b[1;34m(self, train_ds, val_ds, epochs, early_stopping, save_best_only, best_model_filepath, target_metric, callbacks, plot_hist, verbose)\u001b[0m\n\u001b[0;32m     40\u001b[0m \u001b[38;5;28;01mif\u001b[39;00m verbose\u001b[38;5;241m>\u001b[39m\u001b[38;5;241m0\u001b[39m:\n\u001b[0;32m     41\u001b[0m     \u001b[38;5;28mprint\u001b[39m(\u001b[38;5;124mf\u001b[39m\u001b[38;5;124m\"\u001b[39m\u001b[38;5;124mStarting training. Optimizing \u001b[39m\u001b[38;5;130;01m\\\"\u001b[39;00m\u001b[38;5;132;01m{\u001b[39;00mtarget_metric\u001b[38;5;132;01m}\u001b[39;00m\u001b[38;5;130;01m\\\"\u001b[39;00m\u001b[38;5;124m\"\u001b[39m)\n\u001b[1;32m---> 43\u001b[0m hist \u001b[38;5;241m=\u001b[39m \u001b[38;5;28;43mself\u001b[39;49m\u001b[38;5;241;43m.\u001b[39;49m\u001b[43m_model\u001b[49m\u001b[38;5;241;43m.\u001b[39;49m\u001b[43mfit\u001b[49m\u001b[43m(\u001b[49m\u001b[43mtrain_ds\u001b[49m\u001b[43m,\u001b[49m\u001b[43m \u001b[49m\u001b[43mvalidation_data\u001b[49m\u001b[38;5;241;43m=\u001b[39;49m\u001b[43mval_ds\u001b[49m\u001b[43m,\u001b[49m\u001b[43m \u001b[49m\u001b[43mverbose\u001b[49m\u001b[38;5;241;43m=\u001b[39;49m\u001b[43mverbose\u001b[49m\u001b[43m,\u001b[49m\u001b[43m \u001b[49m\u001b[43mepochs\u001b[49m\u001b[38;5;241;43m=\u001b[39;49m\u001b[43mepochs\u001b[49m\u001b[43m,\u001b[49m\u001b[43m \u001b[49m\u001b[43mcallbacks\u001b[49m\u001b[38;5;241;43m=\u001b[39;49m\u001b[43mcallbacks\u001b[49m\u001b[43m)\u001b[49m\n\u001b[0;32m     44\u001b[0m \u001b[38;5;28mself\u001b[39m\u001b[38;5;241m.\u001b[39m_hist \u001b[38;5;241m=\u001b[39m hist\n\u001b[0;32m     46\u001b[0m \u001b[38;5;28;01mif\u001b[39;00m save_best_only:\n",
      "File \u001b[1;32mc:\\Users\\David\\anaconda3\\envs\\splid\\lib\\site-packages\\keras\\src\\utils\\traceback_utils.py:65\u001b[0m, in \u001b[0;36mfilter_traceback.<locals>.error_handler\u001b[1;34m(*args, **kwargs)\u001b[0m\n\u001b[0;32m     63\u001b[0m filtered_tb \u001b[38;5;241m=\u001b[39m \u001b[38;5;28;01mNone\u001b[39;00m\n\u001b[0;32m     64\u001b[0m \u001b[38;5;28;01mtry\u001b[39;00m:\n\u001b[1;32m---> 65\u001b[0m     \u001b[38;5;28;01mreturn\u001b[39;00m fn(\u001b[38;5;241m*\u001b[39margs, \u001b[38;5;241m*\u001b[39m\u001b[38;5;241m*\u001b[39mkwargs)\n\u001b[0;32m     66\u001b[0m \u001b[38;5;28;01mexcept\u001b[39;00m \u001b[38;5;167;01mException\u001b[39;00m \u001b[38;5;28;01mas\u001b[39;00m e:\n\u001b[0;32m     67\u001b[0m     filtered_tb \u001b[38;5;241m=\u001b[39m _process_traceback_frames(e\u001b[38;5;241m.\u001b[39m__traceback__)\n",
      "File \u001b[1;32mc:\\Users\\David\\anaconda3\\envs\\splid\\lib\\site-packages\\keras\\src\\engine\\training.py:1807\u001b[0m, in \u001b[0;36mModel.fit\u001b[1;34m(self, x, y, batch_size, epochs, verbose, callbacks, validation_split, validation_data, shuffle, class_weight, sample_weight, initial_epoch, steps_per_epoch, validation_steps, validation_batch_size, validation_freq, max_queue_size, workers, use_multiprocessing)\u001b[0m\n\u001b[0;32m   1799\u001b[0m \u001b[38;5;28;01mwith\u001b[39;00m tf\u001b[38;5;241m.\u001b[39mprofiler\u001b[38;5;241m.\u001b[39mexperimental\u001b[38;5;241m.\u001b[39mTrace(\n\u001b[0;32m   1800\u001b[0m     \u001b[38;5;124m\"\u001b[39m\u001b[38;5;124mtrain\u001b[39m\u001b[38;5;124m\"\u001b[39m,\n\u001b[0;32m   1801\u001b[0m     epoch_num\u001b[38;5;241m=\u001b[39mepoch,\n\u001b[1;32m   (...)\u001b[0m\n\u001b[0;32m   1804\u001b[0m     _r\u001b[38;5;241m=\u001b[39m\u001b[38;5;241m1\u001b[39m,\n\u001b[0;32m   1805\u001b[0m ):\n\u001b[0;32m   1806\u001b[0m     callbacks\u001b[38;5;241m.\u001b[39mon_train_batch_begin(step)\n\u001b[1;32m-> 1807\u001b[0m     tmp_logs \u001b[38;5;241m=\u001b[39m \u001b[38;5;28;43mself\u001b[39;49m\u001b[38;5;241;43m.\u001b[39;49m\u001b[43mtrain_function\u001b[49m\u001b[43m(\u001b[49m\u001b[43miterator\u001b[49m\u001b[43m)\u001b[49m\n\u001b[0;32m   1808\u001b[0m     \u001b[38;5;28;01mif\u001b[39;00m data_handler\u001b[38;5;241m.\u001b[39mshould_sync:\n\u001b[0;32m   1809\u001b[0m         context\u001b[38;5;241m.\u001b[39masync_wait()\n",
      "File \u001b[1;32mc:\\Users\\David\\anaconda3\\envs\\splid\\lib\\site-packages\\tensorflow\\python\\util\\traceback_utils.py:150\u001b[0m, in \u001b[0;36mfilter_traceback.<locals>.error_handler\u001b[1;34m(*args, **kwargs)\u001b[0m\n\u001b[0;32m    148\u001b[0m filtered_tb \u001b[38;5;241m=\u001b[39m \u001b[38;5;28;01mNone\u001b[39;00m\n\u001b[0;32m    149\u001b[0m \u001b[38;5;28;01mtry\u001b[39;00m:\n\u001b[1;32m--> 150\u001b[0m   \u001b[38;5;28;01mreturn\u001b[39;00m fn(\u001b[38;5;241m*\u001b[39margs, \u001b[38;5;241m*\u001b[39m\u001b[38;5;241m*\u001b[39mkwargs)\n\u001b[0;32m    151\u001b[0m \u001b[38;5;28;01mexcept\u001b[39;00m \u001b[38;5;167;01mException\u001b[39;00m \u001b[38;5;28;01mas\u001b[39;00m e:\n\u001b[0;32m    152\u001b[0m   filtered_tb \u001b[38;5;241m=\u001b[39m _process_traceback_frames(e\u001b[38;5;241m.\u001b[39m__traceback__)\n",
      "File \u001b[1;32mc:\\Users\\David\\anaconda3\\envs\\splid\\lib\\site-packages\\tensorflow\\python\\eager\\polymorphic_function\\polymorphic_function.py:832\u001b[0m, in \u001b[0;36mFunction.__call__\u001b[1;34m(self, *args, **kwds)\u001b[0m\n\u001b[0;32m    829\u001b[0m compiler \u001b[38;5;241m=\u001b[39m \u001b[38;5;124m\"\u001b[39m\u001b[38;5;124mxla\u001b[39m\u001b[38;5;124m\"\u001b[39m \u001b[38;5;28;01mif\u001b[39;00m \u001b[38;5;28mself\u001b[39m\u001b[38;5;241m.\u001b[39m_jit_compile \u001b[38;5;28;01melse\u001b[39;00m \u001b[38;5;124m\"\u001b[39m\u001b[38;5;124mnonXla\u001b[39m\u001b[38;5;124m\"\u001b[39m\n\u001b[0;32m    831\u001b[0m \u001b[38;5;28;01mwith\u001b[39;00m OptionalXlaContext(\u001b[38;5;28mself\u001b[39m\u001b[38;5;241m.\u001b[39m_jit_compile):\n\u001b[1;32m--> 832\u001b[0m   result \u001b[38;5;241m=\u001b[39m \u001b[38;5;28mself\u001b[39m\u001b[38;5;241m.\u001b[39m_call(\u001b[38;5;241m*\u001b[39margs, \u001b[38;5;241m*\u001b[39m\u001b[38;5;241m*\u001b[39mkwds)\n\u001b[0;32m    834\u001b[0m new_tracing_count \u001b[38;5;241m=\u001b[39m \u001b[38;5;28mself\u001b[39m\u001b[38;5;241m.\u001b[39mexperimental_get_tracing_count()\n\u001b[0;32m    835\u001b[0m without_tracing \u001b[38;5;241m=\u001b[39m (tracing_count \u001b[38;5;241m==\u001b[39m new_tracing_count)\n",
      "File \u001b[1;32mc:\\Users\\David\\anaconda3\\envs\\splid\\lib\\site-packages\\tensorflow\\python\\eager\\polymorphic_function\\polymorphic_function.py:905\u001b[0m, in \u001b[0;36mFunction._call\u001b[1;34m(self, *args, **kwds)\u001b[0m\n\u001b[0;32m    901\u001b[0m     \u001b[38;5;28;01mpass\u001b[39;00m  \u001b[38;5;66;03m# Fall through to cond-based initialization.\u001b[39;00m\n\u001b[0;32m    902\u001b[0m   \u001b[38;5;28;01melse\u001b[39;00m:\n\u001b[0;32m    903\u001b[0m     \u001b[38;5;66;03m# Lifting succeeded, so variables are initialized and we can run the\u001b[39;00m\n\u001b[0;32m    904\u001b[0m     \u001b[38;5;66;03m# no_variable_creation function.\u001b[39;00m\n\u001b[1;32m--> 905\u001b[0m     \u001b[38;5;28;01mreturn\u001b[39;00m \u001b[43mtracing_compilation\u001b[49m\u001b[38;5;241;43m.\u001b[39;49m\u001b[43mcall_function\u001b[49m\u001b[43m(\u001b[49m\n\u001b[0;32m    906\u001b[0m \u001b[43m        \u001b[49m\u001b[43margs\u001b[49m\u001b[43m,\u001b[49m\u001b[43m \u001b[49m\u001b[43mkwds\u001b[49m\u001b[43m,\u001b[49m\u001b[43m \u001b[49m\u001b[38;5;28;43mself\u001b[39;49m\u001b[38;5;241;43m.\u001b[39;49m\u001b[43m_no_variable_creation_config\u001b[49m\n\u001b[0;32m    907\u001b[0m \u001b[43m    \u001b[49m\u001b[43m)\u001b[49m\n\u001b[0;32m    908\u001b[0m \u001b[38;5;28;01melse\u001b[39;00m:\n\u001b[0;32m    909\u001b[0m   bound_args \u001b[38;5;241m=\u001b[39m \u001b[38;5;28mself\u001b[39m\u001b[38;5;241m.\u001b[39m_concrete_variable_creation_fn\u001b[38;5;241m.\u001b[39mfunction_type\u001b[38;5;241m.\u001b[39mbind(\n\u001b[0;32m    910\u001b[0m       \u001b[38;5;241m*\u001b[39margs, \u001b[38;5;241m*\u001b[39m\u001b[38;5;241m*\u001b[39mkwds\n\u001b[0;32m    911\u001b[0m   )\n",
      "File \u001b[1;32mc:\\Users\\David\\anaconda3\\envs\\splid\\lib\\site-packages\\tensorflow\\python\\eager\\polymorphic_function\\tracing_compilation.py:139\u001b[0m, in \u001b[0;36mcall_function\u001b[1;34m(args, kwargs, tracing_options)\u001b[0m\n\u001b[0;32m    137\u001b[0m bound_args \u001b[38;5;241m=\u001b[39m function\u001b[38;5;241m.\u001b[39mfunction_type\u001b[38;5;241m.\u001b[39mbind(\u001b[38;5;241m*\u001b[39margs, \u001b[38;5;241m*\u001b[39m\u001b[38;5;241m*\u001b[39mkwargs)\n\u001b[0;32m    138\u001b[0m flat_inputs \u001b[38;5;241m=\u001b[39m function\u001b[38;5;241m.\u001b[39mfunction_type\u001b[38;5;241m.\u001b[39munpack_inputs(bound_args)\n\u001b[1;32m--> 139\u001b[0m \u001b[38;5;28;01mreturn\u001b[39;00m \u001b[43mfunction\u001b[49m\u001b[38;5;241;43m.\u001b[39;49m\u001b[43m_call_flat\u001b[49m\u001b[43m(\u001b[49m\u001b[43m  \u001b[49m\u001b[38;5;66;43;03m# pylint: disable=protected-access\u001b[39;49;00m\n\u001b[0;32m    140\u001b[0m \u001b[43m    \u001b[49m\u001b[43mflat_inputs\u001b[49m\u001b[43m,\u001b[49m\u001b[43m \u001b[49m\u001b[43mcaptured_inputs\u001b[49m\u001b[38;5;241;43m=\u001b[39;49m\u001b[43mfunction\u001b[49m\u001b[38;5;241;43m.\u001b[39;49m\u001b[43mcaptured_inputs\u001b[49m\n\u001b[0;32m    141\u001b[0m \u001b[43m\u001b[49m\u001b[43m)\u001b[49m\n",
      "File \u001b[1;32mc:\\Users\\David\\anaconda3\\envs\\splid\\lib\\site-packages\\tensorflow\\python\\eager\\polymorphic_function\\concrete_function.py:1323\u001b[0m, in \u001b[0;36mConcreteFunction._call_flat\u001b[1;34m(self, tensor_inputs, captured_inputs)\u001b[0m\n\u001b[0;32m   1319\u001b[0m possible_gradient_type \u001b[38;5;241m=\u001b[39m gradients_util\u001b[38;5;241m.\u001b[39mPossibleTapeGradientTypes(args)\n\u001b[0;32m   1320\u001b[0m \u001b[38;5;28;01mif\u001b[39;00m (possible_gradient_type \u001b[38;5;241m==\u001b[39m gradients_util\u001b[38;5;241m.\u001b[39mPOSSIBLE_GRADIENT_TYPES_NONE\n\u001b[0;32m   1321\u001b[0m     \u001b[38;5;129;01mand\u001b[39;00m executing_eagerly):\n\u001b[0;32m   1322\u001b[0m   \u001b[38;5;66;03m# No tape is watching; skip to running the function.\u001b[39;00m\n\u001b[1;32m-> 1323\u001b[0m   \u001b[38;5;28;01mreturn\u001b[39;00m \u001b[38;5;28;43mself\u001b[39;49m\u001b[38;5;241;43m.\u001b[39;49m\u001b[43m_inference_function\u001b[49m\u001b[38;5;241;43m.\u001b[39;49m\u001b[43mcall_preflattened\u001b[49m\u001b[43m(\u001b[49m\u001b[43margs\u001b[49m\u001b[43m)\u001b[49m\n\u001b[0;32m   1324\u001b[0m forward_backward \u001b[38;5;241m=\u001b[39m \u001b[38;5;28mself\u001b[39m\u001b[38;5;241m.\u001b[39m_select_forward_and_backward_functions(\n\u001b[0;32m   1325\u001b[0m     args,\n\u001b[0;32m   1326\u001b[0m     possible_gradient_type,\n\u001b[0;32m   1327\u001b[0m     executing_eagerly)\n\u001b[0;32m   1328\u001b[0m forward_function, args_with_tangents \u001b[38;5;241m=\u001b[39m forward_backward\u001b[38;5;241m.\u001b[39mforward()\n",
      "File \u001b[1;32mc:\\Users\\David\\anaconda3\\envs\\splid\\lib\\site-packages\\tensorflow\\python\\eager\\polymorphic_function\\atomic_function.py:216\u001b[0m, in \u001b[0;36mAtomicFunction.call_preflattened\u001b[1;34m(self, args)\u001b[0m\n\u001b[0;32m    214\u001b[0m \u001b[38;5;28;01mdef\u001b[39;00m \u001b[38;5;21mcall_preflattened\u001b[39m(\u001b[38;5;28mself\u001b[39m, args: Sequence[core\u001b[38;5;241m.\u001b[39mTensor]) \u001b[38;5;241m-\u001b[39m\u001b[38;5;241m>\u001b[39m Any:\n\u001b[0;32m    215\u001b[0m \u001b[38;5;250m  \u001b[39m\u001b[38;5;124;03m\"\"\"Calls with flattened tensor inputs and returns the structured output.\"\"\"\u001b[39;00m\n\u001b[1;32m--> 216\u001b[0m   flat_outputs \u001b[38;5;241m=\u001b[39m \u001b[38;5;28;43mself\u001b[39;49m\u001b[38;5;241;43m.\u001b[39;49m\u001b[43mcall_flat\u001b[49m\u001b[43m(\u001b[49m\u001b[38;5;241;43m*\u001b[39;49m\u001b[43margs\u001b[49m\u001b[43m)\u001b[49m\n\u001b[0;32m    217\u001b[0m   \u001b[38;5;28;01mreturn\u001b[39;00m \u001b[38;5;28mself\u001b[39m\u001b[38;5;241m.\u001b[39mfunction_type\u001b[38;5;241m.\u001b[39mpack_output(flat_outputs)\n",
      "File \u001b[1;32mc:\\Users\\David\\anaconda3\\envs\\splid\\lib\\site-packages\\tensorflow\\python\\eager\\polymorphic_function\\atomic_function.py:251\u001b[0m, in \u001b[0;36mAtomicFunction.call_flat\u001b[1;34m(self, *args)\u001b[0m\n\u001b[0;32m    249\u001b[0m \u001b[38;5;28;01mwith\u001b[39;00m record\u001b[38;5;241m.\u001b[39mstop_recording():\n\u001b[0;32m    250\u001b[0m   \u001b[38;5;28;01mif\u001b[39;00m \u001b[38;5;28mself\u001b[39m\u001b[38;5;241m.\u001b[39m_bound_context\u001b[38;5;241m.\u001b[39mexecuting_eagerly():\n\u001b[1;32m--> 251\u001b[0m     outputs \u001b[38;5;241m=\u001b[39m \u001b[38;5;28;43mself\u001b[39;49m\u001b[38;5;241;43m.\u001b[39;49m\u001b[43m_bound_context\u001b[49m\u001b[38;5;241;43m.\u001b[39;49m\u001b[43mcall_function\u001b[49m\u001b[43m(\u001b[49m\n\u001b[0;32m    252\u001b[0m \u001b[43m        \u001b[49m\u001b[38;5;28;43mself\u001b[39;49m\u001b[38;5;241;43m.\u001b[39;49m\u001b[43mname\u001b[49m\u001b[43m,\u001b[49m\n\u001b[0;32m    253\u001b[0m \u001b[43m        \u001b[49m\u001b[38;5;28;43mlist\u001b[39;49m\u001b[43m(\u001b[49m\u001b[43margs\u001b[49m\u001b[43m)\u001b[49m\u001b[43m,\u001b[49m\n\u001b[0;32m    254\u001b[0m \u001b[43m        \u001b[49m\u001b[38;5;28;43mlen\u001b[39;49m\u001b[43m(\u001b[49m\u001b[38;5;28;43mself\u001b[39;49m\u001b[38;5;241;43m.\u001b[39;49m\u001b[43mfunction_type\u001b[49m\u001b[38;5;241;43m.\u001b[39;49m\u001b[43mflat_outputs\u001b[49m\u001b[43m)\u001b[49m\u001b[43m,\u001b[49m\n\u001b[0;32m    255\u001b[0m \u001b[43m    \u001b[49m\u001b[43m)\u001b[49m\n\u001b[0;32m    256\u001b[0m   \u001b[38;5;28;01melse\u001b[39;00m:\n\u001b[0;32m    257\u001b[0m     outputs \u001b[38;5;241m=\u001b[39m make_call_op_in_graph(\n\u001b[0;32m    258\u001b[0m         \u001b[38;5;28mself\u001b[39m,\n\u001b[0;32m    259\u001b[0m         \u001b[38;5;28mlist\u001b[39m(args),\n\u001b[0;32m    260\u001b[0m         \u001b[38;5;28mself\u001b[39m\u001b[38;5;241m.\u001b[39m_bound_context\u001b[38;5;241m.\u001b[39mfunction_call_options\u001b[38;5;241m.\u001b[39mas_attrs(),\n\u001b[0;32m    261\u001b[0m     )\n",
      "File \u001b[1;32mc:\\Users\\David\\anaconda3\\envs\\splid\\lib\\site-packages\\tensorflow\\python\\eager\\context.py:1486\u001b[0m, in \u001b[0;36mContext.call_function\u001b[1;34m(self, name, tensor_inputs, num_outputs)\u001b[0m\n\u001b[0;32m   1484\u001b[0m cancellation_context \u001b[38;5;241m=\u001b[39m cancellation\u001b[38;5;241m.\u001b[39mcontext()\n\u001b[0;32m   1485\u001b[0m \u001b[38;5;28;01mif\u001b[39;00m cancellation_context \u001b[38;5;129;01mis\u001b[39;00m \u001b[38;5;28;01mNone\u001b[39;00m:\n\u001b[1;32m-> 1486\u001b[0m   outputs \u001b[38;5;241m=\u001b[39m \u001b[43mexecute\u001b[49m\u001b[38;5;241;43m.\u001b[39;49m\u001b[43mexecute\u001b[49m\u001b[43m(\u001b[49m\n\u001b[0;32m   1487\u001b[0m \u001b[43m      \u001b[49m\u001b[43mname\u001b[49m\u001b[38;5;241;43m.\u001b[39;49m\u001b[43mdecode\u001b[49m\u001b[43m(\u001b[49m\u001b[38;5;124;43m\"\u001b[39;49m\u001b[38;5;124;43mutf-8\u001b[39;49m\u001b[38;5;124;43m\"\u001b[39;49m\u001b[43m)\u001b[49m\u001b[43m,\u001b[49m\n\u001b[0;32m   1488\u001b[0m \u001b[43m      \u001b[49m\u001b[43mnum_outputs\u001b[49m\u001b[38;5;241;43m=\u001b[39;49m\u001b[43mnum_outputs\u001b[49m\u001b[43m,\u001b[49m\n\u001b[0;32m   1489\u001b[0m \u001b[43m      \u001b[49m\u001b[43minputs\u001b[49m\u001b[38;5;241;43m=\u001b[39;49m\u001b[43mtensor_inputs\u001b[49m\u001b[43m,\u001b[49m\n\u001b[0;32m   1490\u001b[0m \u001b[43m      \u001b[49m\u001b[43mattrs\u001b[49m\u001b[38;5;241;43m=\u001b[39;49m\u001b[43mattrs\u001b[49m\u001b[43m,\u001b[49m\n\u001b[0;32m   1491\u001b[0m \u001b[43m      \u001b[49m\u001b[43mctx\u001b[49m\u001b[38;5;241;43m=\u001b[39;49m\u001b[38;5;28;43mself\u001b[39;49m\u001b[43m,\u001b[49m\n\u001b[0;32m   1492\u001b[0m \u001b[43m  \u001b[49m\u001b[43m)\u001b[49m\n\u001b[0;32m   1493\u001b[0m \u001b[38;5;28;01melse\u001b[39;00m:\n\u001b[0;32m   1494\u001b[0m   outputs \u001b[38;5;241m=\u001b[39m execute\u001b[38;5;241m.\u001b[39mexecute_with_cancellation(\n\u001b[0;32m   1495\u001b[0m       name\u001b[38;5;241m.\u001b[39mdecode(\u001b[38;5;124m\"\u001b[39m\u001b[38;5;124mutf-8\u001b[39m\u001b[38;5;124m\"\u001b[39m),\n\u001b[0;32m   1496\u001b[0m       num_outputs\u001b[38;5;241m=\u001b[39mnum_outputs,\n\u001b[1;32m   (...)\u001b[0m\n\u001b[0;32m   1500\u001b[0m       cancellation_manager\u001b[38;5;241m=\u001b[39mcancellation_context,\n\u001b[0;32m   1501\u001b[0m   )\n",
      "File \u001b[1;32mc:\\Users\\David\\anaconda3\\envs\\splid\\lib\\site-packages\\tensorflow\\python\\eager\\execute.py:53\u001b[0m, in \u001b[0;36mquick_execute\u001b[1;34m(op_name, num_outputs, inputs, attrs, ctx, name)\u001b[0m\n\u001b[0;32m     51\u001b[0m \u001b[38;5;28;01mtry\u001b[39;00m:\n\u001b[0;32m     52\u001b[0m   ctx\u001b[38;5;241m.\u001b[39mensure_initialized()\n\u001b[1;32m---> 53\u001b[0m   tensors \u001b[38;5;241m=\u001b[39m \u001b[43mpywrap_tfe\u001b[49m\u001b[38;5;241;43m.\u001b[39;49m\u001b[43mTFE_Py_Execute\u001b[49m\u001b[43m(\u001b[49m\u001b[43mctx\u001b[49m\u001b[38;5;241;43m.\u001b[39;49m\u001b[43m_handle\u001b[49m\u001b[43m,\u001b[49m\u001b[43m \u001b[49m\u001b[43mdevice_name\u001b[49m\u001b[43m,\u001b[49m\u001b[43m \u001b[49m\u001b[43mop_name\u001b[49m\u001b[43m,\u001b[49m\n\u001b[0;32m     54\u001b[0m \u001b[43m                                      \u001b[49m\u001b[43minputs\u001b[49m\u001b[43m,\u001b[49m\u001b[43m \u001b[49m\u001b[43mattrs\u001b[49m\u001b[43m,\u001b[49m\u001b[43m \u001b[49m\u001b[43mnum_outputs\u001b[49m\u001b[43m)\u001b[49m\n\u001b[0;32m     55\u001b[0m \u001b[38;5;28;01mexcept\u001b[39;00m core\u001b[38;5;241m.\u001b[39m_NotOkStatusException \u001b[38;5;28;01mas\u001b[39;00m e:\n\u001b[0;32m     56\u001b[0m   \u001b[38;5;28;01mif\u001b[39;00m name \u001b[38;5;129;01mis\u001b[39;00m \u001b[38;5;129;01mnot\u001b[39;00m \u001b[38;5;28;01mNone\u001b[39;00m:\n",
      "\u001b[1;31mKeyboardInterrupt\u001b[0m: "
     ]
    }
   ],
   "source": [
    "train_EW, val_EW = ds_gen.get_datasets(128, label_features=['EW'], shuffle=True)\n",
    "train_NS, val_NS = ds_gen.get_datasets(128, label_features=['NS'], shuffle=True)\n",
    "#dense_model_ew = prediction_models.Dense_NN(train_EW, dense_layers=[512,256,32], l2_reg=0.0001, mixed_dropout=0.2)\n",
    "#dense_model_ns = prediction_models.Dense_NN(train_EW, dense_layers=[512,256,32], l2_reg=0.0001, mixed_dropout=0.2)\n",
    "dense_model_ew = prediction_models.Dense_NN(train_EW, dense_layers=[512,512], l2_reg=0.001, mixed_dropout=0.0, seed=0)\n",
    "dense_model_ns = prediction_models.Dense_NN(train_NS, dense_layers=[512,512], l2_reg=0.00, mixed_dropout=0.0, seed=0)\n",
    "print(\"Training model #1\")\n",
    "hist_ew = dense_model_ew.fit(train_EW, val_ds=val_EW, epochs=40, verbose=0, plot_hist=False) # TODO: somehow this sometimes has save_best_only enabled?? even though its only enabled in 2nd fit? ... do inherited models somehow modify the mother class?!?\n",
    "print(\"Training model #2\")\n",
    "hist_ns = dense_model_ns.fit(train_NS, val_ds=val_NS, epochs=40, verbose=0, plot_hist=False)\n",
    "print(\"EW results:\")\n",
    "dense_model_ew.model.evaluate(train_EW)\n",
    "dense_model_ew.model.evaluate(val_EW)\n",
    "print(\"NS results:\")\n",
    "dense_model_ns.model.evaluate(train_NS)\n",
    "dense_model_ns.model.evaluate(val_NS)"
   ]
  },
  {
   "cell_type": "code",
   "execution_count": 13,
   "metadata": {},
   "outputs": [
    {
     "name": "stdout",
     "output_type": "stream",
     "text": [
      "Model: \"model_4\"\n",
      "__________________________________________________________________________________________________\n",
      " Layer (type)                Output Shape                 Param #   Connected to                  \n",
      "==================================================================================================\n",
      " Input (InputLayer)          [(None, 8, 15)]              0         []                            \n",
      "                                                                                                  \n",
      " flatten_4 (Flatten)         (None, 120)                  0         ['Input[0][0]']               \n",
      "                                                                                                  \n",
      " dense_12 (Dense)            (None, 512)                  61952     ['flatten_4[0][0]']           \n",
      "                                                                                                  \n",
      " dropout_8 (Dropout)         (None, 512)                  0         ['dense_12[0][0]']            \n",
      "                                                                                                  \n",
      " dense_13 (Dense)            (None, 512)                  262656    ['dropout_8[0][0]']           \n",
      "                                                                                                  \n",
      " dropout_9 (Dropout)         (None, 512)                  0         ['dense_13[0][0]']            \n",
      "                                                                                                  \n",
      " dense_14 (Dense)            (None, 64)                   32832     ['dropout_9[0][0]']           \n",
      "                                                                                                  \n",
      " dropout_10 (Dropout)        (None, 64)                   0         ['dense_14[0][0]']            \n",
      "                                                                                                  \n",
      " dense_15 (Dense)            (None, 32)                   2080      ['dropout_10[0][0]']          \n",
      "                                                                                                  \n",
      " dropout_11 (Dropout)        (None, 32)                   0         ['dense_15[0][0]']            \n",
      "                                                                                                  \n",
      " EW (Dense)                  (None, 20)                   660       ['dropout_11[0][0]']          \n",
      "                                                                                                  \n",
      " NS (Dense)                  (None, 20)                   660       ['dropout_11[0][0]']          \n",
      "                                                                                                  \n",
      "==================================================================================================\n",
      "Total params: 360840 (1.38 MB)\n",
      "Trainable params: 360840 (1.38 MB)\n",
      "Non-trainable params: 0 (0.00 Byte)\n",
      "__________________________________________________________________________________________________\n",
      "Starting training. Optimizing \"loss\"\n",
      "Epoch 1/10\n",
      "1799/1805 [============================>.] - ETA: 0s - loss: 1.2079 - EW_loss: 0.3376 - NS_loss: 0.4590 - EW_accuracy: 0.8814 - NS_accuracy: 0.8417\n",
      "Epoch 1: loss did not improve from 0.57499\n",
      "\n",
      "Epoch 1: loss improved from inf to 1.20678, saving model to best_model.hdf5\n",
      "1805/1805 [==============================] - 23s 9ms/step - loss: 1.2068 - EW_loss: 0.3373 - NS_loss: 0.4585 - EW_accuracy: 0.8815 - NS_accuracy: 0.8418 - val_loss: 2.1485 - val_EW_loss: 0.8105 - val_NS_loss: 1.0359 - val_EW_accuracy: 0.8797 - val_NS_accuracy: 0.8092\n",
      "Epoch 2/10\n",
      "1802/1805 [============================>.] - ETA: 0s - loss: 0.7689 - EW_loss: 0.1955 - NS_loss: 0.2883 - EW_accuracy: 0.9325 - NS_accuracy: 0.8994\n",
      "Epoch 2: loss did not improve from 0.57499\n",
      "\n",
      "Epoch 2: loss improved from 1.20678 to 0.76873, saving model to best_model.hdf5\n",
      "1805/1805 [==============================] - 21s 9ms/step - loss: 0.7687 - EW_loss: 0.1954 - NS_loss: 0.2882 - EW_accuracy: 0.9325 - NS_accuracy: 0.8994 - val_loss: 2.1707 - val_EW_loss: 0.7509 - val_NS_loss: 1.1459 - val_EW_accuracy: 0.8694 - val_NS_accuracy: 0.8041\n",
      "Epoch 3/10\n",
      "1799/1805 [============================>.] - ETA: 0s - loss: 0.6852 - EW_loss: 0.1649 - NS_loss: 0.2507 - EW_accuracy: 0.9441 - NS_accuracy: 0.9118\n",
      "Epoch 3: loss did not improve from 0.57499\n",
      "\n",
      "Epoch 3: loss improved from 0.76873 to 0.68506, saving model to best_model.hdf5\n",
      "1805/1805 [==============================] - 21s 9ms/step - loss: 0.6851 - EW_loss: 0.1649 - NS_loss: 0.2506 - EW_accuracy: 0.9441 - NS_accuracy: 0.9118 - val_loss: 2.2423 - val_EW_loss: 0.7843 - val_NS_loss: 1.1922 - val_EW_accuracy: 0.8730 - val_NS_accuracy: 0.7918\n",
      "Epoch 4/10\n",
      "1800/1805 [============================>.] - ETA: 0s - loss: 0.6479 - EW_loss: 0.1520 - NS_loss: 0.2328 - EW_accuracy: 0.9489 - NS_accuracy: 0.9179\n",
      "Epoch 4: loss did not improve from 0.57499\n",
      "\n",
      "Epoch 4: loss improved from 0.68506 to 0.64781, saving model to best_model.hdf5\n",
      "1805/1805 [==============================] - 21s 9ms/step - loss: 0.6478 - EW_loss: 0.1520 - NS_loss: 0.2328 - EW_accuracy: 0.9489 - NS_accuracy: 0.9179 - val_loss: 1.8742 - val_EW_loss: 0.5364 - val_NS_loss: 1.0769 - val_EW_accuracy: 0.8871 - val_NS_accuracy: 0.8105\n",
      "Epoch 5/10\n",
      "1805/1805 [==============================] - ETA: 0s - loss: 0.6231 - EW_loss: 0.1434 - NS_loss: 0.2207 - EW_accuracy: 0.9521 - NS_accuracy: 0.9223\n",
      "Epoch 5: loss did not improve from 0.57499\n",
      "\n",
      "Epoch 5: loss improved from 0.64781 to 0.62307, saving model to best_model.hdf5\n",
      "1805/1805 [==============================] - 21s 9ms/step - loss: 0.6231 - EW_loss: 0.1434 - NS_loss: 0.2207 - EW_accuracy: 0.9521 - NS_accuracy: 0.9223 - val_loss: 2.0069 - val_EW_loss: 0.6619 - val_NS_loss: 1.0869 - val_EW_accuracy: 0.8806 - val_NS_accuracy: 0.8060\n",
      "Epoch 6/10\n",
      "1799/1805 [============================>.] - ETA: 0s - loss: 0.6024 - EW_loss: 0.1349 - NS_loss: 0.2105 - EW_accuracy: 0.9550 - NS_accuracy: 0.9255\n",
      "Epoch 6: loss did not improve from 0.57499\n",
      "\n",
      "Epoch 6: loss improved from 0.62307 to 0.60256, saving model to best_model.hdf5\n",
      "1805/1805 [==============================] - 21s 9ms/step - loss: 0.6026 - EW_loss: 0.1350 - NS_loss: 0.2106 - EW_accuracy: 0.9550 - NS_accuracy: 0.9255 - val_loss: 2.0309 - val_EW_loss: 0.6922 - val_NS_loss: 1.0832 - val_EW_accuracy: 0.8802 - val_NS_accuracy: 0.8094\n",
      "Epoch 7/10\n",
      "1803/1805 [============================>.] - ETA: 0s - loss: 0.5888 - EW_loss: 0.1303 - NS_loss: 0.2039 - EW_accuracy: 0.9569 - NS_accuracy: 0.9284\n",
      "Epoch 7: loss did not improve from 0.57499\n",
      "\n",
      "Epoch 7: loss improved from 0.60256 to 0.58882, saving model to best_model.hdf5\n",
      "1805/1805 [==============================] - 21s 9ms/step - loss: 0.5888 - EW_loss: 0.1303 - NS_loss: 0.2038 - EW_accuracy: 0.9569 - NS_accuracy: 0.9284 - val_loss: 1.8880 - val_EW_loss: 0.5702 - val_NS_loss: 1.0644 - val_EW_accuracy: 0.9022 - val_NS_accuracy: 0.8114\n",
      "Epoch 8/10\n",
      "1804/1805 [============================>.] - ETA: 0s - loss: 0.5785 - EW_loss: 0.1274 - NS_loss: 0.1984 - EW_accuracy: 0.9579 - NS_accuracy: 0.9300\n",
      "Epoch 8: loss did not improve from 0.57499\n",
      "\n",
      "Epoch 8: loss improved from 0.58882 to 0.57851, saving model to best_model.hdf5\n",
      "1805/1805 [==============================] - 21s 9ms/step - loss: 0.5785 - EW_loss: 0.1274 - NS_loss: 0.1985 - EW_accuracy: 0.9579 - NS_accuracy: 0.9300 - val_loss: 1.7901 - val_EW_loss: 0.5343 - val_NS_loss: 1.0040 - val_EW_accuracy: 0.8879 - val_NS_accuracy: 0.8171\n",
      "Epoch 9/10\n",
      "1799/1805 [============================>.] - ETA: 0s - loss: 0.5676 - EW_loss: 0.1230 - NS_loss: 0.1935 - EW_accuracy: 0.9596 - NS_accuracy: 0.9320\n",
      "Epoch 9: loss improved from 0.57499 to 0.56765, saving model to best_model.hdf5\n",
      "\n",
      "Epoch 9: loss improved from 0.57851 to 0.56765, saving model to best_model.hdf5\n",
      "1805/1805 [==============================] - 21s 9ms/step - loss: 0.5676 - EW_loss: 0.1230 - NS_loss: 0.1935 - EW_accuracy: 0.9596 - NS_accuracy: 0.9320 - val_loss: 1.8056 - val_EW_loss: 0.5283 - val_NS_loss: 1.0272 - val_EW_accuracy: 0.9071 - val_NS_accuracy: 0.8142\n",
      "Epoch 10/10\n",
      "1801/1805 [============================>.] - ETA: 0s - loss: 0.5596 - EW_loss: 0.1208 - NS_loss: 0.1894 - EW_accuracy: 0.9605 - NS_accuracy: 0.9335\n",
      "Epoch 10: loss improved from 0.56765 to 0.55965, saving model to best_model.hdf5\n",
      "\n",
      "Epoch 10: loss improved from 0.56765 to 0.55965, saving model to best_model.hdf5\n",
      "1805/1805 [==============================] - 21s 9ms/step - loss: 0.5596 - EW_loss: 0.1209 - NS_loss: 0.1894 - EW_accuracy: 0.9604 - NS_accuracy: 0.9335 - val_loss: 1.8120 - val_EW_loss: 0.5661 - val_NS_loss: 0.9967 - val_EW_accuracy: 0.9042 - val_NS_accuracy: 0.8132\n",
      "Finished training after 10 epochs.Lowest loss: 0.5596  (epoch 10)\n"
     ]
    },
    {
     "name": "stderr",
     "output_type": "stream",
     "text": [
      "c:\\Code\\ARCLab Challenge\\splid-challenge\\base\\prediction_models.py:62: UserWarning: FigureCanvasAgg is non-interactive, and thus cannot be shown\n",
      "  fig.show()\n"
     ]
    },
    {
     "name": "stdout",
     "output_type": "stream",
     "text": [
      "1805/1805 [==============================] - 12s 4ms/step - loss: 0.5500 - EW_loss: 0.1188 - NS_loss: 0.1820 - EW_accuracy: 0.9630 - NS_accuracy: 0.9392\n"
     ]
    },
    {
     "data": {
      "text/plain": [
       "[0.550039529800415,\n",
       " 0.1188306212425232,\n",
       " 0.1820475161075592,\n",
       " 0.9629843831062317,\n",
       " 0.9392400979995728]"
      ]
     },
     "execution_count": 13,
     "metadata": {},
     "output_type": "execute_result"
    },
    {
     "data": {
      "image/png": "[encoded data removed]",
      "text/plain": [
       "<Figure size 400x300 with 1 Axes>"
      ]
     },
     "metadata": {},
     "output_type": "display_data"
    },
    {
     "data": {
      "image/png": "[encoded data removed]",
      "text/plain": [
       "<Figure size 400x300 with 1 Axes>"
      ]
     },
     "metadata": {},
     "output_type": "display_data"
    }
   ],
   "source": [
    "train_combined, val_combined = ds_gen.get_datasets(256, label_features=['EW', 'NS'], shuffle=True)\n",
    "dense_combined_model = prediction_models.Dense_NN(train_combined, dense_layers=[512,512,64,32], l2_reg=0.001, mixed_dropout=0.15, lr_scheduler=[20000,0.8], seed=0)\n",
    "dense_combined_model.summary()\n",
    "hist = dense_combined_model.fit(train_combined, val_ds=val_combined, target_metric='loss', epochs=10, verbose=1, plot_hist=False, save_best_only=True)\n",
    "dense_combined_model.plot_hist(hist, [k for k in hist.history.keys() if 'loss' in k])\n",
    "dense_combined_model.plot_hist(hist, [k for k in hist.history.keys() if 'accuracy' in k])\n",
    "dense_combined_model.evaluate(train_combined)"
   ]
  },
  {
   "cell_type": "code",
   "execution_count": null,
   "metadata": {},
   "outputs": [],
   "source": [
    "# TODO: find out if we can directly train for precision/challenge metrics\n",
    "# TODO: maybe it makes sense to look at values before and after the node? Given that we are trying to detect changes...\n",
    "# TODO: check if train_NS even contains all the labels in val_NS... in general, train should contain all labels\n",
    "# TODO: Make sure labelencoder gets saved\n",
    "# TODO: some of the features cross sign boundaries -> feature engineering necessary!\n",
    "# TODO: for some reason, phase_1 ds is missing objects... maybe they have to be combined with warmup ones? Also features changed.."
   ]
  },
  {
   "cell_type": "code",
   "execution_count": 58,
   "metadata": {},
   "outputs": [],
   "source": [
    "def prepare_submission_df(ds, model, model_output_features, label_decoders):\n",
    "    '''Prepare dataframes for submission based on models predictions. The output_labels need to be in the same order as they were when creating the dataset!'''\n",
    "    assert(len(model_output_features) == len(label_decoders))\n",
    "    inputs = np.concatenate([element for element in ds.map(lambda x,y,z: x).as_numpy_iterator()])\n",
    "    identifiers = np.concatenate([element for element in ds.map(lambda x,y,z: z).as_numpy_iterator()])\n",
    "    \n",
    "    df = pd.DataFrame(np.concatenate([identifiers.reshape(-1,2)], axis=1), columns=['ObjectID', 'TimeIndex'], dtype=np.int32)\n",
    "\n",
    "    preds = model.predict(inputs)\n",
    "    for ft_idx, feature in enumerate(model_output_features):\n",
    "        labels = np.concatenate([element[feature] for element in ds.map(lambda x,y,z: y).as_numpy_iterator()])\n",
    "        labels_decoded = label_decoders[ft_idx].inverse_transform(labels)\n",
    "        preds_argmax = np.argmax(preds[ft_idx], axis=1) if len(model_output_features)>1 else np.argmax(preds, axis=1)\n",
    "        preds_decoded = label_decoders[ft_idx].inverse_transform(preds_argmax)\n",
    "        df[f'{feature}'] = labels_decoded\n",
    "        df[f'Predicted_{feature}'] = preds_decoded\n",
    "    return df\n"
   ]
  },
  {
   "cell_type": "code",
   "execution_count": 59,
   "metadata": {},
   "outputs": [],
   "source": [
    "ground_truth = pd.read_csv(challenge_data_dir / 'train_labels.csv')\n",
    "ground_truth_train = ground_truth[ground_truth['ObjectID'].isin(map(int, ds_gen.train_keys))].copy()\n",
    "ground_truth_val = ground_truth[ground_truth['ObjectID'].isin(map(int, ds_gen.val_keys))].copy()"
   ]
  },
  {
   "cell_type": "code",
   "execution_count": 69,
   "metadata": {},
   "outputs": [
    {
     "name": "stdout",
     "output_type": "stream",
     "text": [
      "1019/1019 [==============================] - 2s 2ms/step\n"
     ]
    },
    {
     "name": "stderr",
     "output_type": "stream",
     "text": [
      "Smoothing: 100%|██████████| 15/15 [00:16<00:00,  1.09s/it]\n"
     ]
    },
    {
     "name": "stdout",
     "output_type": "stream",
     "text": [
      "    ObjectID  TimeIndex Direction Node Type\n",
      "0          1          0        EW   SS   CK\n",
      "1          1          0        NS   SS   NK\n",
      "2          1        159        NS   IK   CK\n",
      "3          2          0        EW   SS   HK\n",
      "4          2          0        NS   SS   HK\n",
      "5          3          0        EW   SS   CK\n",
      "6          3          0        NS   SS   CK\n",
      "8          4          0        EW   SS   HK\n",
      "7          4          0        NS   SS   HK\n",
      "9          5          0        EW   SS   EK\n",
      "10         5          0        NS   SS   CK\n",
      "11         6          0        EW   SS   CK\n",
      "12         6          0        NS   SS   NK\n",
      "13         6         41        NS   SS   CK\n",
      "15         7          0        EW   SS   CK\n",
      "14         7          0        NS   SS   CK\n",
      "17         8          0        EW   SS   CK\n",
      "16         8          0        NS   SS   CK\n",
      "18         9          0        EW   SS   CK\n",
      "19         9          0        NS   SS   NK\n",
      "20         9        318        NS   IK   CK\n",
      "21        11          0        EW   SS   HK\n",
      "22        11          0        NS   SS   HK\n",
      "23        13          0        EW   SS   HK\n",
      "24        13          0        NS   SS   NK\n",
      "25        13        213        NS   IK   HK\n",
      "26        15          0        EW   SS   EK\n",
      "27        15          0        NS   SS   CK\n",
      "28        16          0        EW   SS   CK\n",
      "29        16          0        NS   SS   CK\n",
      "30        17          0        EW   SS   HK\n",
      "31        17          0        NS   SS   NK\n",
      "32        18          0        EW   SS   CK\n",
      "33        18          0        NS   SS   CK\n",
      "    ObjectID  TimeIndex Direction Node Type\n",
      "0          1          0        EW   SS   CK\n",
      "1          1          0        NS   SS   NK\n",
      "2          1        168        NS   IK   CK\n",
      "3          1       2171        ES   ES   ES\n",
      "4          2          0        EW   SS   HK\n",
      "5          2          0        NS   SS   HK\n",
      "6          2       2171        ES   ES   ES\n",
      "7          3          0        EW   SS   CK\n",
      "8          3          0        NS   SS   CK\n",
      "9          3       2171        ES   ES   ES\n",
      "10         4          0        EW   SS   HK\n",
      "11         4          0        NS   SS   HK\n",
      "12         4       2171        ES   ES   ES\n",
      "13         5          0        EW   SS   EK\n",
      "14         5          0        NS   SS   CK\n",
      "15         5       2171        ES   ES   ES\n",
      "16         6          0        EW   SS   CK\n",
      "17         6          0        NS   SS   CK\n",
      "18         6       2171        ES   ES   ES\n",
      "19         7          0        EW   SS   CK\n",
      "20         7          0        NS   SS   CK\n",
      "21         7       2171        ES   ES   ES\n",
      "22         8          0        EW   SS   CK\n",
      "23         8          0        NS   SS   CK\n",
      "24         8       2171        ES   ES   ES\n",
      "25         9          0        EW   SS   CK\n",
      "26         9          0        NS   SS   NK\n",
      "27         9        324        NS   IK   CK\n",
      "28         9       2171        ES   ES   ES\n",
      "33        11          0        EW   SS   HK\n",
      "34        11          0        NS   SS   HK\n",
      "35        11       2171        ES   ES   ES\n",
      "39        13          0        EW   SS   HK\n",
      "40        13          0        NS   SS   NK\n",
      "41        13        228        NS   IK   HK\n",
      "42        13       2171        ES   ES   ES\n",
      "46        15          0        EW   SS   EK\n",
      "47        15          0        NS   SS   CK\n",
      "48        15       2171        ES   ES   ES\n",
      "49        16          0        EW   SS   CK\n",
      "50        16          0        NS   SS   CK\n",
      "51        16       2171        ES   ES   ES\n",
      "52        17          0        EW   SS   HK\n",
      "53        17          0        NS   SS   NK\n",
      "54        17       2171        ES   ES   ES\n",
      "55        18          0        EW   SS   CK\n",
      "56        18          0        NS   SS   CK\n",
      "57        18       2171        ES   ES   ES\n",
      "Precision for the train set: 0.88\n",
      "Recall for the train set: 0.64\n",
      "F2 for the train set: 0.68\n",
      "RMSE for the train set: 1.10\n"
     ]
    }
   ],
   "source": [
    "train_EW, val_EW = ds_gen.get_datasets(128, label_features=['EW', 'NS'], shuffle=False, keep_identifier=True)\n",
    "df_train=prepare_submission_df(ds=train_EW, model=dense_combined_model.model, model_output_features=['EW', 'NS'], label_decoders=[ds_gen.combined_label_encoder, ds_gen.combined_label_encoder])\n",
    "smoothed_df_train = utils.smooth_predictions(df_train, past_steps=3, fut_steps=10)\n",
    "train_results = utils.convert_classifier_output(smoothed_df_train).sort_values(['ObjectID']).reset_index(drop=True)\n",
    "print(len(train_results))\n",
    "# print(train_results.sort_values(['ObjectID', 'TimeIndex', 'Direction']).head(50))\n",
    "print(len(ground_truth_train))\n",
    "# print(ground_truth_train.sort_values(['ObjectID', 'TimeIndex', 'Direction']).head(50))\n",
    "evaluator = evaluation.NodeDetectionEvaluator(ground_truth_train, train_results)\n",
    "precision, recall, f2, rmse = evaluator.score()\n",
    "print(f'Precision for the train set: {precision:.2f}')\n",
    "print(f'Recall for the train set: {recall:.2f}')\n",
    "print(f'F2 for the train set: {f2:.2f}')\n",
    "print(f'RMSE for the train set: {rmse:.2f}')\n",
    "\n",
    "# TODO: we are not predicting a single change with the model right now... leading to ridiculous 0.8 precision\n",
    "# TODO: predict on val with simly ss node and predict engine type... might give quite high precision?"
   ]
  },
  {
   "cell_type": "code",
   "execution_count": 70,
   "metadata": {},
   "outputs": [
    {
     "name": "stdout",
     "output_type": "stream",
     "text": [
      "204/204 [==============================] - 0s 2ms/step\n"
     ]
    },
    {
     "name": "stderr",
     "output_type": "stream",
     "text": [
      "Smoothing: 100%|██████████| 3/3 [00:03<00:00,  1.19s/it]"
     ]
    },
    {
     "name": "stdout",
     "output_type": "stream",
     "text": [
      "Precision for the val set: 0.02\n",
      "Recall for the val set: 0.40\n",
      "F2 for the val set: 0.07\n",
      "RMSE for the val set: 0.00\n"
     ]
    },
    {
     "name": "stderr",
     "output_type": "stream",
     "text": [
      "\n"
     ]
    }
   ],
   "source": [
    "train_EW, val_EW = ds_gen.get_datasets(128, label_features=['EW', 'NS'], shuffle=False, keep_identifier=True)\n",
    "df_val=prepare_submission_df(ds=val_EW, model=dense_combined_model.model, model_output_features=['EW', 'NS'], label_decoders=[ds_gen.combined_label_encoder, ds_gen.combined_label_encoder])\n",
    "smoothed_df_val = utils.smooth_predictions(df_val, past_steps=3, fut_steps=10)\n",
    "val_results = utils.convert_classifier_output(smoothed_df_val).sort_values(['ObjectID']).reset_index(drop=True)\n",
    "evaluator = evaluation.NodeDetectionEvaluator(ground_truth_val, val_results)\n",
    "precision, recall, f2, rmse = evaluator.score()\n",
    "print(f'Precision for the val set: {precision:.2f}')\n",
    "print(f'Recall for the val set: {recall:.2f}')\n",
    "print(f'F2 for the val set: {f2:.2f}')\n",
    "print(f'RMSE for the val set: {rmse:.2f}')\n"
   ]
  },
  {
   "cell_type": "code",
   "execution_count": 288,
   "metadata": {},
   "outputs": [
    {
     "name": "stdout",
     "output_type": "stream",
     "text": [
      "1019/1019 [==============================] - 2s 2ms/step\n",
      "1019/1019 [==============================] - 2s 2ms/step\n"
     ]
    },
    {
     "name": "stderr",
     "output_type": "stream",
     "text": [
      "Smoothing: 100%|██████████| 15/15 [00:16<00:00,  1.12s/it]\n"
     ]
    },
    {
     "name": "stdout",
     "output_type": "stream",
     "text": [
      "Precision for the train set: 0.65\n",
      "Recall for the train set: 0.65\n",
      "F2 for the train set: 0.65\n",
      "RMSE for the train set: 0.58\n"
     ]
    }
   ],
   "source": [
    "train_EW, val_EW = ds_gen.get_datasets(128, label_features=['EW'], shuffle=False, keep_identifier=True)\n",
    "train_NS, val_NS = ds_gen.get_datasets(128, label_features=['NS'], shuffle=False, keep_identifier=True)\n",
    "df_EW = prepare_submission_df(ds=train_EW, model=dense_model_ew.model, model_output_features=['EW'], label_decoders=[ds_gen.combined_label_encoder])\n",
    "df_NS = prepare_submission_df(ds=train_NS, model=dense_model_ns.model, model_output_features=['NS'], label_decoders=[ds_gen.combined_label_encoder])\n",
    "combined_df = df_EW\n",
    "combined_df['NS'] = df_NS['NS']\n",
    "combined_df['Predicted_NS'] = df_NS['Predicted_NS']\n",
    "smoothed_df_val = utils.smooth_predictions(combined_df)\n",
    "train_results = utils.convert_classifier_output(smoothed_df_val).sort_values(['ObjectID']).reset_index(drop=True)\n",
    "evaluator = evaluation.NodeDetectionEvaluator(ground_truth_train, train_results)\n",
    "precision, recall, f2, rmse = evaluator.score()\n",
    "print(f'Precision for the train set: {precision:.2f}')\n",
    "print(f'Recall for the train set: {recall:.2f}')\n",
    "print(f'F2 for the train set: {f2:.2f}')\n",
    "print(f'RMSE for the train set: {rmse:.2f}')"
   ]
  },
  {
   "cell_type": "code",
   "execution_count": null,
   "metadata": {},
   "outputs": [],
   "source": []
  }
 ],
 "metadata": {
  "kernelspec": {
   "display_name": "splid",
   "language": "python",
   "name": "python3"
  },
  "language_info": {
   "codemirror_mode": {
    "name": "ipython",
    "version": 3
   },
   "file_extension": ".py",
   "mimetype": "text/x-python",
   "name": "python",
   "nbconvert_exporter": "python",
   "pygments_lexer": "ipython3",
   "version": "3.10.13"
  }
 },
 "nbformat": 4,
 "nbformat_minor": 2
}
