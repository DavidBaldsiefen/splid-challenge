{
 "cells": [
  {
   "cell_type": "code",
   "execution_count": 1,
   "metadata": {},
   "outputs": [
    {
     "name": "stderr",
     "output_type": "stream",
     "text": [
      "2023-12-25 10:17:20.109220: I tensorflow/core/util/port.cc:113] oneDNN custom operations are on. You may see slightly different numerical results due to floating-point round-off errors from different computation orders. To turn them off, set the environment variable `TF_ENABLE_ONEDNN_OPTS=0`.\n",
      "2023-12-25 10:17:20.134050: E external/local_xla/xla/stream_executor/cuda/cuda_dnn.cc:9261] Unable to register cuDNN factory: Attempting to register factory for plugin cuDNN when one has already been registered\n",
      "2023-12-25 10:17:20.134073: E external/local_xla/xla/stream_executor/cuda/cuda_fft.cc:607] Unable to register cuFFT factory: Attempting to register factory for plugin cuFFT when one has already been registered\n",
      "2023-12-25 10:17:20.134700: E external/local_xla/xla/stream_executor/cuda/cuda_blas.cc:1515] Unable to register cuBLAS factory: Attempting to register factory for plugin cuBLAS when one has already been registered\n",
      "2023-12-25 10:17:20.138907: I tensorflow/core/platform/cpu_feature_guard.cc:182] This TensorFlow binary is optimized to use available CPU instructions in performance-critical operations.\n",
      "To enable the following instructions: AVX2 AVX_VNNI FMA, in other operations, rebuild TensorFlow with the appropriate compiler flags.\n",
      "2023-12-25 10:17:20.561144: W tensorflow/compiler/tf2tensorrt/utils/py_utils.cc:38] TF-TRT Warning: Could not find TensorRT\n"
     ]
    }
   ],
   "source": [
    "import pandas as pd\n",
    "import numpy as np\n",
    "import tensorflow as tf\n",
    "from pathlib import Path\n",
    "from tqdm import tqdm\n",
    "import random"
   ]
  },
  {
   "cell_type": "code",
   "execution_count": 2,
   "metadata": {},
   "outputs": [],
   "source": [
    "%load_ext autoreload\n",
    "%autoreload 2\n",
    "from base import utils, datahandler, prediction_models, evaluation"
   ]
  },
  {
   "cell_type": "code",
   "execution_count": 3,
   "metadata": {},
   "outputs": [],
   "source": [
    "# Define the directory paths\n",
    "challenge_data_dir = Path('dataset/phase_1/')\n",
    "data_dir = challenge_data_dir / \"train\"\n",
    "labels_dir = challenge_data_dir / 'train_labels.csv'\n",
    "\n",
    "split_dataframes = datahandler.load_and_prepare_dataframes(data_dir, labels_dir)"
   ]
  },
  {
   "cell_type": "code",
   "execution_count": 4,
   "metadata": {},
   "outputs": [],
   "source": [
    "input_features = ['Eccentricity', 'Semimajor Axis (m)', 'Inclination (deg)', 'RAAN (deg)',\n",
    "       'Argument of Periapsis (deg)', 'True Anomaly (deg)', 'Latitude (deg)',\n",
    "       'Longitude (deg)', 'Altitude (m)', 'X (m)', 'Y (m)', 'Z (m)',\n",
    "       'Vx (m/s)', 'Vy (m/s)', 'Vz (m/s)']"
   ]
  },
  {
   "cell_type": "code",
   "execution_count": 5,
   "metadata": {},
   "outputs": [
    {
     "name": "stdout",
     "output_type": "stream",
     "text": [
      "['SS-CK', 'SS-NK', 'AD-NK', 'IK-CK', 'SS-HK', 'ID-NK', 'SS-EK', 'IK-HK', 'IK-EK']\n",
      "['SS-HK', 'ID-NK', 'SS-CK', 'SS-NK', 'AD-NK', 'IK-CK', 'IK-HK', 'SS-EK']\n",
      "['SS-CK', 'SS-NK', 'IK-CK', 'SS-HK', 'ID-NK', 'IK-EK', 'IK-HK', 'SS-EK']\n",
      "['SS-HK', 'ID-NK', 'SS-CK', 'SS-NK', 'IK-CK', 'IK-HK', 'SS-EK']\n"
     ]
    }
   ],
   "source": [
    "# get all labels in the dataframes\n",
    "keys_list = list(split_dataframes.keys())\n",
    "random.Random(69).shuffle(keys_list) # shuffle, but with a seed for reproducability\n",
    "split_idx = int(len(keys_list) * 0.8)\n",
    "train_keys = keys_list[:split_idx]\n",
    "train_labels_EW = []\n",
    "train_labels_NS = []\n",
    "val_keys = keys_list[split_idx:]\n",
    "val_labels_EW = []\n",
    "val_labels_NS = []\n",
    "for key in train_keys:\n",
    "    train_labels_EW += list(split_dataframes[key]['EW'].unique())\n",
    "    train_labels_NS += list(split_dataframes[key]['NS'].unique())\n",
    "for key in val_keys:\n",
    "    val_labels_EW += list(split_dataframes[key]['EW'].unique())\n",
    "    val_labels_NS += list(split_dataframes[key]['NS'].unique())\n",
    "train_labels_EW = list(dict.fromkeys(train_labels_EW))\n",
    "train_labels_NS = list(dict.fromkeys(train_labels_NS))\n",
    "val_labels_EW = list(dict.fromkeys(val_labels_EW))\n",
    "val_labels_NS = list(dict.fromkeys(val_labels_NS))\n",
    "print(train_labels_EW)\n",
    "print(val_labels_EW)\n",
    "print(train_labels_NS)\n",
    "print(val_labels_NS)\n"
   ]
  },
  {
   "cell_type": "code",
   "execution_count": 18,
   "metadata": {},
   "outputs": [],
   "source": [
    "some_dataframes = {}\n",
    "for df_k in list(split_dataframes.keys())[:3]:\n",
    "    some_dataframes[df_k] = split_dataframes[df_k]"
   ]
  },
  {
   "cell_type": "code",
   "execution_count": 21,
   "metadata": {},
   "outputs": [
    {
     "name": "stdout",
     "output_type": "stream",
     "text": [
      "Creating dataset from 2 train and 1 val objects\n",
      "Creating datasets with labels ['EW', 'EW_Node', 'EW_Type', 'NS', 'NS_Node', 'NS_Type']\n",
      "Created datasets with seed 69\n"
     ]
    }
   ],
   "source": [
    "ds_gen = datahandler.DatasetGenerator(split_df=split_dataframes, input_features=input_features,\n",
    "                                      train_val_split=0.85, stride=1,\n",
    "                                      input_history_steps=8, input_future_steps=8, seed=69)"
   ]
  },
  {
   "cell_type": "code",
   "execution_count": 22,
   "metadata": {},
   "outputs": [
    {
     "name": "stdout",
     "output_type": "stream",
     "text": [
      "(TensorSpec(shape=(None, 18, 15), dtype=tf.float64, name=None), {'EW': TensorSpec(shape=(None,), dtype=tf.int32, name=None), 'NS': TensorSpec(shape=(None,), dtype=tf.int32, name=None)})\n"
     ]
    }
   ],
   "source": [
    "train_combined, val_combined = ds_gen.get_datasets(512, label_features=['EW', 'NS'], shuffle=True)\n",
    "print(train_combined.element_spec)\n"
   ]
  },
  {
   "cell_type": "code",
   "execution_count": 7,
   "metadata": {},
   "outputs": [
    {
     "name": "stderr",
     "output_type": "stream",
     "text": [
      "2023-12-25 10:21:50.357106: I external/local_tsl/tsl/platform/default/subprocess.cc:304] Start cannot spawn child process: No such file or directory\n"
     ]
    },
    {
     "name": "stdout",
     "output_type": "stream",
     "text": [
      "Model: \"model\"\n",
      "__________________________________________________________________________________________________\n",
      " Layer (type)                Output Shape                 Param #   Connected to                  \n",
      "==================================================================================================\n",
      " input_1 (InputLayer)        [(None, 8, 15)]              0         []                            \n",
      "                                                                                                  \n",
      " conv1d (Conv1D)             (None, 8, 128)               5888      ['input_1[0][0]']             \n",
      "                                                                                                  \n",
      " batch_normalization (Batch  (None, 8, 128)               512       ['conv1d[0][0]']              \n",
      " Normalization)                                                                                   \n",
      "                                                                                                  \n",
      " re_lu (ReLU)                (None, 8, 128)               0         ['batch_normalization[0][0]'] \n",
      "                                                                                                  \n",
      " dropout (Dropout)           (None, 8, 128)               0         ['re_lu[0][0]']               \n",
      "                                                                                                  \n",
      " conv1d_1 (Conv1D)           (None, 8, 128)               49280     ['dropout[0][0]']             \n",
      "                                                                                                  \n",
      " batch_normalization_1 (Bat  (None, 8, 128)               512       ['conv1d_1[0][0]']            \n",
      " chNormalization)                                                                                 \n",
      "                                                                                                  \n",
      " re_lu_1 (ReLU)              (None, 8, 128)               0         ['batch_normalization_1[0][0]'\n",
      "                                                                    ]                             \n",
      "                                                                                                  \n",
      " dropout_1 (Dropout)         (None, 8, 128)               0         ['re_lu_1[0][0]']             \n",
      "                                                                                                  \n",
      " conv1d_2 (Conv1D)           (None, 8, 128)               49280     ['dropout_1[0][0]']           \n",
      "                                                                                                  \n",
      " batch_normalization_2 (Bat  (None, 8, 128)               512       ['conv1d_2[0][0]']            \n",
      " chNormalization)                                                                                 \n",
      "                                                                                                  \n",
      " re_lu_2 (ReLU)              (None, 8, 128)               0         ['batch_normalization_2[0][0]'\n",
      "                                                                    ]                             \n",
      "                                                                                                  \n",
      " dropout_2 (Dropout)         (None, 8, 128)               0         ['re_lu_2[0][0]']             \n",
      "                                                                                                  \n",
      " global_average_pooling1d (  (None, 128)                  0         ['dropout_2[0][0]']           \n",
      " GlobalAveragePooling1D)                                                                          \n",
      "                                                                                                  \n",
      " flatten (Flatten)           (None, 128)                  0         ['global_average_pooling1d[0][\n",
      "                                                                    0]']                          \n",
      "                                                                                                  \n",
      " EW (Dense)                  (None, 20)                   2580      ['flatten[0][0]']             \n",
      "                                                                                                  \n",
      " NS (Dense)                  (None, 20)                   2580      ['flatten[0][0]']             \n",
      "                                                                                                  \n",
      "==================================================================================================\n",
      "Total params: 111144 (434.16 KB)\n",
      "Trainable params: 110376 (431.16 KB)\n",
      "Non-trainable params: 768 (3.00 KB)\n",
      "__________________________________________________________________________________________________\n",
      "Starting training. Optimizing \"loss\"\n",
      "Epoch 1/50\n"
     ]
    },
    {
     "name": "stderr",
     "output_type": "stream",
     "text": [
      "2023-12-25 10:21:54.957995: I external/local_xla/xla/stream_executor/cuda/cuda_dnn.cc:454] Loaded cuDNN version 8904\n",
      "2023-12-25 10:21:55.051995: I external/local_tsl/tsl/platform/default/subprocess.cc:304] Start cannot spawn child process: No such file or directory\n",
      "2023-12-25 10:21:55.739563: I external/local_xla/xla/service/service.cc:168] XLA service 0x7ff19e350ff0 initialized for platform CUDA (this does not guarantee that XLA will be used). Devices:\n",
      "2023-12-25 10:21:55.739587: I external/local_xla/xla/service/service.cc:176]   StreamExecutor device (0): NVIDIA GeForce RTX 3050 Ti Laptop GPU, Compute Capability 8.6\n",
      "2023-12-25 10:21:55.745385: I tensorflow/compiler/mlir/tensorflow/utils/dump_mlir_util.cc:269] disabling MLIR crash reproducer, set env var `MLIR_CRASH_REPRODUCER_DIRECTORY` to enable.\n",
      "WARNING: All log messages before absl::InitializeLog() is called are written to STDERR\n",
      "I0000 00:00:1703528515.810316   17954 device_compiler.h:186] Compiled cluster using XLA!  This line is logged at most once for the lifetime of the process.\n"
     ]
    },
    {
     "name": "stdout",
     "output_type": "stream",
     "text": [
      "903/903 [==============================] - ETA: 0s - loss: 0.8116 - EW_loss: 0.3148 - NS_loss: 0.4284 - EW_accuracy: 0.8973 - NS_accuracy: 0.8581\n",
      "Epoch 1: loss improved from inf to 0.81162, saving model to best_model.hdf5\n",
      "903/903 [==============================] - 11s 6ms/step - loss: 0.8116 - EW_loss: 0.3148 - NS_loss: 0.4284 - EW_accuracy: 0.8973 - NS_accuracy: 0.8581 - val_loss: 1.6456 - val_EW_loss: 0.6336 - val_NS_loss: 0.9565 - val_EW_accuracy: 0.8714 - val_NS_accuracy: 0.8266\n",
      "Epoch 2/50\n",
      "893/903 [============================>.] - ETA: 0s - loss: 0.4415 - EW_loss: 0.1552 - NS_loss: 0.2365 - EW_accuracy: 0.9479 - NS_accuracy: 0.9161\n",
      "Epoch 2: loss improved from 0.81162 to 0.44099, saving model to best_model.hdf5\n",
      "903/903 [==============================] - 8s 5ms/step - loss: 0.4410 - EW_loss: 0.1549 - NS_loss: 0.2362 - EW_accuracy: 0.9480 - NS_accuracy: 0.9163 - val_loss: 1.8975 - val_EW_loss: 0.7238 - val_NS_loss: 1.1274 - val_EW_accuracy: 0.8660 - val_NS_accuracy: 0.8273\n",
      "Epoch 3/50\n",
      "898/903 [============================>.] - ETA: 0s - loss: 0.3667 - EW_loss: 0.1245 - NS_loss: 0.1977 - EW_accuracy: 0.9580 - NS_accuracy: 0.9287\n",
      "Epoch 3: loss improved from 0.44099 to 0.36641, saving model to best_model.hdf5\n",
      "903/903 [==============================] - 7s 5ms/step - loss: 0.3664 - EW_loss: 0.1244 - NS_loss: 0.1976 - EW_accuracy: 0.9580 - NS_accuracy: 0.9288 - val_loss: 2.0587 - val_EW_loss: 0.8710 - val_NS_loss: 1.1451 - val_EW_accuracy: 0.8793 - val_NS_accuracy: 0.8278\n",
      "Epoch 4/50\n",
      "900/903 [============================>.] - ETA: 0s - loss: 0.3318 - EW_loss: 0.1111 - NS_loss: 0.1798 - EW_accuracy: 0.9618 - NS_accuracy: 0.9340\n",
      "Epoch 4: loss improved from 0.36641 to 0.33190, saving model to best_model.hdf5\n",
      "903/903 [==============================] - 8s 5ms/step - loss: 0.3319 - EW_loss: 0.1112 - NS_loss: 0.1799 - EW_accuracy: 0.9618 - NS_accuracy: 0.9340 - val_loss: 2.0567 - val_EW_loss: 0.8814 - val_NS_loss: 1.1363 - val_EW_accuracy: 0.8788 - val_NS_accuracy: 0.8371\n",
      "Epoch 5/50\n",
      "900/903 [============================>.] - ETA: 0s - loss: 0.3068 - EW_loss: 0.1016 - NS_loss: 0.1676 - EW_accuracy: 0.9649 - NS_accuracy: 0.9383\n",
      "Epoch 5: loss improved from 0.33190 to 0.30676, saving model to best_model.hdf5\n",
      "903/903 [==============================] - 8s 5ms/step - loss: 0.3068 - EW_loss: 0.1016 - NS_loss: 0.1676 - EW_accuracy: 0.9649 - NS_accuracy: 0.9383 - val_loss: 2.4550 - val_EW_loss: 1.1394 - val_NS_loss: 1.2795 - val_EW_accuracy: 0.8757 - val_NS_accuracy: 0.8289\n",
      "Epoch 6/50\n",
      "902/903 [============================>.] - ETA: 0s - loss: 0.2865 - EW_loss: 0.0941 - NS_loss: 0.1575 - EW_accuracy: 0.9673 - NS_accuracy: 0.9412\n",
      "Epoch 6: loss improved from 0.30676 to 0.28646, saving model to best_model.hdf5\n",
      "903/903 [==============================] - 8s 5ms/step - loss: 0.2865 - EW_loss: 0.0940 - NS_loss: 0.1575 - EW_accuracy: 0.9673 - NS_accuracy: 0.9412 - val_loss: 2.5169 - val_EW_loss: 1.2899 - val_NS_loss: 1.1935 - val_EW_accuracy: 0.8798 - val_NS_accuracy: 0.8447\n",
      "Epoch 7/50\n",
      "903/903 [==============================] - ETA: 0s - loss: 0.2752 - EW_loss: 0.0904 - NS_loss: 0.1524 - EW_accuracy: 0.9684 - NS_accuracy: 0.9424\n",
      "Epoch 7: loss improved from 0.28646 to 0.27517, saving model to best_model.hdf5\n",
      "903/903 [==============================] - 8s 5ms/step - loss: 0.2752 - EW_loss: 0.0904 - NS_loss: 0.1524 - EW_accuracy: 0.9684 - NS_accuracy: 0.9424 - val_loss: 2.4678 - val_EW_loss: 1.2398 - val_NS_loss: 1.1969 - val_EW_accuracy: 0.8813 - val_NS_accuracy: 0.8389\n",
      "Epoch 8/50\n",
      "900/903 [============================>.] - ETA: 0s - loss: 0.2649 - EW_loss: 0.0869 - NS_loss: 0.1477 - EW_accuracy: 0.9695 - NS_accuracy: 0.9439\n",
      "Epoch 8: loss improved from 0.27517 to 0.26485, saving model to best_model.hdf5\n",
      "903/903 [==============================] - 9s 5ms/step - loss: 0.2648 - EW_loss: 0.0869 - NS_loss: 0.1477 - EW_accuracy: 0.9695 - NS_accuracy: 0.9439 - val_loss: 2.6977 - val_EW_loss: 1.3936 - val_NS_loss: 1.2746 - val_EW_accuracy: 0.8864 - val_NS_accuracy: 0.8432\n",
      "Epoch 9/50\n",
      "900/903 [============================>.] - ETA: 0s - loss: 0.2516 - EW_loss: 0.0817 - NS_loss: 0.1413 - EW_accuracy: 0.9712 - NS_accuracy: 0.9457\n",
      "Epoch 9: loss improved from 0.26485 to 0.25159, saving model to best_model.hdf5\n",
      "903/903 [==============================] - 9s 5ms/step - loss: 0.2516 - EW_loss: 0.0817 - NS_loss: 0.1413 - EW_accuracy: 0.9712 - NS_accuracy: 0.9457 - val_loss: 2.8795 - val_EW_loss: 1.4947 - val_NS_loss: 1.3571 - val_EW_accuracy: 0.8934 - val_NS_accuracy: 0.8453\n",
      "Epoch 10/50\n",
      "902/903 [============================>.] - ETA: 0s - loss: 0.2480 - EW_loss: 0.0810 - NS_loss: 0.1400 - EW_accuracy: 0.9712 - NS_accuracy: 0.9463\n",
      "Epoch 10: loss improved from 0.25159 to 0.24793, saving model to best_model.hdf5\n",
      "903/903 [==============================] - 9s 5ms/step - loss: 0.2479 - EW_loss: 0.0810 - NS_loss: 0.1400 - EW_accuracy: 0.9712 - NS_accuracy: 0.9463 - val_loss: 2.6827 - val_EW_loss: 1.4594 - val_NS_loss: 1.1969 - val_EW_accuracy: 0.8912 - val_NS_accuracy: 0.8329\n",
      "Epoch 11/50\n",
      "892/903 [============================>.] - ETA: 0s - loss: 0.2384 - EW_loss: 0.0777 - NS_loss: 0.1353 - EW_accuracy: 0.9727 - NS_accuracy: 0.9480\n",
      "Epoch 11: loss improved from 0.24793 to 0.23854, saving model to best_model.hdf5\n",
      "903/903 [==============================] - 8s 5ms/step - loss: 0.2385 - EW_loss: 0.0777 - NS_loss: 0.1353 - EW_accuracy: 0.9726 - NS_accuracy: 0.9480 - val_loss: 2.7712 - val_EW_loss: 1.5259 - val_NS_loss: 1.2204 - val_EW_accuracy: 0.8866 - val_NS_accuracy: 0.8179\n",
      "Epoch 12/50\n",
      "896/903 [============================>.] - ETA: 0s - loss: 0.2329 - EW_loss: 0.0759 - NS_loss: 0.1327 - EW_accuracy: 0.9730 - NS_accuracy: 0.9487\n",
      "Epoch 12: loss improved from 0.23854 to 0.23294, saving model to best_model.hdf5\n",
      "903/903 [==============================] - 8s 5ms/step - loss: 0.2329 - EW_loss: 0.0759 - NS_loss: 0.1327 - EW_accuracy: 0.9730 - NS_accuracy: 0.9487 - val_loss: 3.0564 - val_EW_loss: 1.8130 - val_NS_loss: 1.2196 - val_EW_accuracy: 0.8761 - val_NS_accuracy: 0.8367\n",
      "Epoch 13/50\n",
      "902/903 [============================>.] - ETA: 0s - loss: 0.2279 - EW_loss: 0.0742 - NS_loss: 0.1304 - EW_accuracy: 0.9735 - NS_accuracy: 0.9495\n",
      "Epoch 13: loss improved from 0.23294 to 0.22784, saving model to best_model.hdf5\n",
      "903/903 [==============================] - 8s 5ms/step - loss: 0.2278 - EW_loss: 0.0742 - NS_loss: 0.1304 - EW_accuracy: 0.9735 - NS_accuracy: 0.9495 - val_loss: 3.0484 - val_EW_loss: 1.7699 - val_NS_loss: 1.2556 - val_EW_accuracy: 0.8886 - val_NS_accuracy: 0.8454\n",
      "Epoch 14/50\n",
      "899/903 [============================>.] - ETA: 0s - loss: 0.2217 - EW_loss: 0.0725 - NS_loss: 0.1270 - EW_accuracy: 0.9739 - NS_accuracy: 0.9503\n",
      "Epoch 14: loss improved from 0.22784 to 0.22174, saving model to best_model.hdf5\n",
      "903/903 [==============================] - 8s 5ms/step - loss: 0.2217 - EW_loss: 0.0725 - NS_loss: 0.1270 - EW_accuracy: 0.9739 - NS_accuracy: 0.9503 - val_loss: 3.0674 - val_EW_loss: 1.7820 - val_NS_loss: 1.2636 - val_EW_accuracy: 0.8943 - val_NS_accuracy: 0.8343\n",
      "Epoch 15/50\n",
      "902/903 [============================>.] - ETA: 0s - loss: 0.2188 - EW_loss: 0.0715 - NS_loss: 0.1259 - EW_accuracy: 0.9744 - NS_accuracy: 0.9507\n",
      "Epoch 15: loss improved from 0.22174 to 0.21881, saving model to best_model.hdf5\n",
      "903/903 [==============================] - 8s 6ms/step - loss: 0.2188 - EW_loss: 0.0714 - NS_loss: 0.1259 - EW_accuracy: 0.9744 - NS_accuracy: 0.9507 - val_loss: 3.0071 - val_EW_loss: 1.7422 - val_NS_loss: 1.2438 - val_EW_accuracy: 0.8818 - val_NS_accuracy: 0.8554\n",
      "Epoch 16/50\n",
      "897/903 [============================>.] - ETA: 0s - loss: 0.2135 - EW_loss: 0.0695 - NS_loss: 0.1233 - EW_accuracy: 0.9749 - NS_accuracy: 0.9516\n",
      "Epoch 16: loss improved from 0.21881 to 0.21360, saving model to best_model.hdf5\n",
      "903/903 [==============================] - 8s 5ms/step - loss: 0.2136 - EW_loss: 0.0695 - NS_loss: 0.1234 - EW_accuracy: 0.9749 - NS_accuracy: 0.9515 - val_loss: 2.9495 - val_EW_loss: 1.6233 - val_NS_loss: 1.3060 - val_EW_accuracy: 0.8857 - val_NS_accuracy: 0.8303\n",
      "Epoch 17/50\n",
      "898/903 [============================>.] - ETA: 0s - loss: 0.2105 - EW_loss: 0.0685 - NS_loss: 0.1221 - EW_accuracy: 0.9751 - NS_accuracy: 0.9518\n",
      "Epoch 17: loss improved from 0.21360 to 0.21053, saving model to best_model.hdf5\n",
      "903/903 [==============================] - 8s 5ms/step - loss: 0.2105 - EW_loss: 0.0685 - NS_loss: 0.1221 - EW_accuracy: 0.9751 - NS_accuracy: 0.9518 - val_loss: 3.0150 - val_EW_loss: 1.6662 - val_NS_loss: 1.3292 - val_EW_accuracy: 0.8850 - val_NS_accuracy: 0.8467\n",
      "Epoch 18/50\n",
      "894/903 [============================>.] - ETA: 0s - loss: 0.2072 - EW_loss: 0.0673 - NS_loss: 0.1206 - EW_accuracy: 0.9754 - NS_accuracy: 0.9524\n",
      "Epoch 18: loss improved from 0.21053 to 0.20715, saving model to best_model.hdf5\n",
      "903/903 [==============================] - 9s 5ms/step - loss: 0.2072 - EW_loss: 0.0673 - NS_loss: 0.1206 - EW_accuracy: 0.9754 - NS_accuracy: 0.9524 - val_loss: 3.3572 - val_EW_loss: 1.9022 - val_NS_loss: 1.4361 - val_EW_accuracy: 0.8840 - val_NS_accuracy: 0.8273\n",
      "Epoch 19/50\n",
      "893/903 [============================>.] - ETA: 0s - loss: 0.2018 - EW_loss: 0.0654 - NS_loss: 0.1176 - EW_accuracy: 0.9762 - NS_accuracy: 0.9533\n",
      "Epoch 19: loss improved from 0.20715 to 0.20170, saving model to best_model.hdf5\n",
      "903/903 [==============================] - 8s 5ms/step - loss: 0.2017 - EW_loss: 0.0653 - NS_loss: 0.1176 - EW_accuracy: 0.9763 - NS_accuracy: 0.9533 - val_loss: 3.1022 - val_EW_loss: 1.7615 - val_NS_loss: 1.3221 - val_EW_accuracy: 0.8847 - val_NS_accuracy: 0.8422\n",
      "Epoch 20/50\n",
      "897/903 [============================>.] - ETA: 0s - loss: 0.1994 - EW_loss: 0.0646 - NS_loss: 0.1166 - EW_accuracy: 0.9762 - NS_accuracy: 0.9535\n",
      "Epoch 20: loss improved from 0.20170 to 0.19946, saving model to best_model.hdf5\n",
      "903/903 [==============================] - 9s 5ms/step - loss: 0.1995 - EW_loss: 0.0646 - NS_loss: 0.1166 - EW_accuracy: 0.9762 - NS_accuracy: 0.9535 - val_loss: 3.0818 - val_EW_loss: 1.7481 - val_NS_loss: 1.3157 - val_EW_accuracy: 0.8773 - val_NS_accuracy: 0.8348\n",
      "Epoch 21/50\n",
      "900/903 [============================>.] - ETA: 0s - loss: 0.1976 - EW_loss: 0.0643 - NS_loss: 0.1156 - EW_accuracy: 0.9762 - NS_accuracy: 0.9540\n",
      "Epoch 21: loss improved from 0.19946 to 0.19761, saving model to best_model.hdf5\n",
      "903/903 [==============================] - 9s 5ms/step - loss: 0.1976 - EW_loss: 0.0643 - NS_loss: 0.1155 - EW_accuracy: 0.9762 - NS_accuracy: 0.9540 - val_loss: 3.0595 - val_EW_loss: 1.6270 - val_NS_loss: 1.4150 - val_EW_accuracy: 0.8799 - val_NS_accuracy: 0.8257\n",
      "Epoch 22/50\n",
      "893/903 [============================>.] - ETA: 0s - loss: 0.1927 - EW_loss: 0.0622 - NS_loss: 0.1132 - EW_accuracy: 0.9770 - NS_accuracy: 0.9548\n",
      "Epoch 22: loss improved from 0.19761 to 0.19292, saving model to best_model.hdf5\n",
      "903/903 [==============================] - 8s 5ms/step - loss: 0.1929 - EW_loss: 0.0624 - NS_loss: 0.1133 - EW_accuracy: 0.9770 - NS_accuracy: 0.9548 - val_loss: 3.1774 - val_EW_loss: 1.7768 - val_NS_loss: 1.3835 - val_EW_accuracy: 0.8847 - val_NS_accuracy: 0.8273\n",
      "Epoch 23/50\n",
      "897/903 [============================>.] - ETA: 0s - loss: 0.1858 - EW_loss: 0.0597 - NS_loss: 0.1091 - EW_accuracy: 0.9778 - NS_accuracy: 0.9560\n",
      "Epoch 23: loss improved from 0.19292 to 0.18580, saving model to best_model.hdf5\n",
      "903/903 [==============================] - 8s 5ms/step - loss: 0.1858 - EW_loss: 0.0597 - NS_loss: 0.1091 - EW_accuracy: 0.9778 - NS_accuracy: 0.9560 - val_loss: 3.1376 - val_EW_loss: 1.7033 - val_NS_loss: 1.4176 - val_EW_accuracy: 0.8735 - val_NS_accuracy: 0.8171\n",
      "Epoch 24/50\n",
      "897/903 [============================>.] - ETA: 0s - loss: 0.1835 - EW_loss: 0.0590 - NS_loss: 0.1078 - EW_accuracy: 0.9780 - NS_accuracy: 0.9564\n",
      "Epoch 24: loss improved from 0.18580 to 0.18343, saving model to best_model.hdf5\n",
      "903/903 [==============================] - 9s 5ms/step - loss: 0.1834 - EW_loss: 0.0590 - NS_loss: 0.1078 - EW_accuracy: 0.9780 - NS_accuracy: 0.9564 - val_loss: 3.1693 - val_EW_loss: 1.7675 - val_NS_loss: 1.3852 - val_EW_accuracy: 0.8770 - val_NS_accuracy: 0.8296\n",
      "Epoch 25/50\n",
      "902/903 [============================>.] - ETA: 0s - loss: 0.1824 - EW_loss: 0.0588 - NS_loss: 0.1073 - EW_accuracy: 0.9781 - NS_accuracy: 0.9568\n",
      "Epoch 25: loss improved from 0.18343 to 0.18248, saving model to best_model.hdf5\n",
      "903/903 [==============================] - 9s 5ms/step - loss: 0.1825 - EW_loss: 0.0588 - NS_loss: 0.1074 - EW_accuracy: 0.9781 - NS_accuracy: 0.9568 - val_loss: 3.2084 - val_EW_loss: 1.7491 - val_NS_loss: 1.4432 - val_EW_accuracy: 0.8762 - val_NS_accuracy: 0.8308\n",
      "Epoch 26/50\n",
      "895/903 [============================>.] - ETA: 0s - loss: 0.1806 - EW_loss: 0.0584 - NS_loss: 0.1063 - EW_accuracy: 0.9783 - NS_accuracy: 0.9571\n",
      "Epoch 26: loss improved from 0.18248 to 0.18070, saving model to best_model.hdf5\n",
      "903/903 [==============================] - 9s 5ms/step - loss: 0.1807 - EW_loss: 0.0584 - NS_loss: 0.1063 - EW_accuracy: 0.9783 - NS_accuracy: 0.9570 - val_loss: 3.1807 - val_EW_loss: 1.7558 - val_NS_loss: 1.4091 - val_EW_accuracy: 0.8794 - val_NS_accuracy: 0.8440\n",
      "Epoch 27/50\n",
      "903/903 [==============================] - ETA: 0s - loss: 0.1787 - EW_loss: 0.0575 - NS_loss: 0.1055 - EW_accuracy: 0.9786 - NS_accuracy: 0.9576\n",
      "Epoch 27: loss improved from 0.18070 to 0.17866, saving model to best_model.hdf5\n",
      "903/903 [==============================] - 8s 5ms/step - loss: 0.1787 - EW_loss: 0.0575 - NS_loss: 0.1055 - EW_accuracy: 0.9786 - NS_accuracy: 0.9576 - val_loss: 3.2354 - val_EW_loss: 1.8253 - val_NS_loss: 1.3945 - val_EW_accuracy: 0.8694 - val_NS_accuracy: 0.8184\n",
      "Epoch 28/50\n",
      "899/903 [============================>.] - ETA: 0s - loss: 0.1762 - EW_loss: 0.0567 - NS_loss: 0.1042 - EW_accuracy: 0.9786 - NS_accuracy: 0.9577\n",
      "Epoch 28: loss improved from 0.17866 to 0.17615, saving model to best_model.hdf5\n",
      "903/903 [==============================] - 9s 6ms/step - loss: 0.1761 - EW_loss: 0.0566 - NS_loss: 0.1042 - EW_accuracy: 0.9786 - NS_accuracy: 0.9577 - val_loss: 2.9496 - val_EW_loss: 1.5855 - val_NS_loss: 1.3488 - val_EW_accuracy: 0.8829 - val_NS_accuracy: 0.8411\n",
      "Epoch 29/50\n",
      "902/903 [============================>.] - ETA: 0s - loss: 0.1766 - EW_loss: 0.0571 - NS_loss: 0.1044 - EW_accuracy: 0.9788 - NS_accuracy: 0.9577\n",
      "Epoch 29: loss did not improve from 0.17615\n",
      "903/903 [==============================] - 8s 5ms/step - loss: 0.1768 - EW_loss: 0.0572 - NS_loss: 0.1044 - EW_accuracy: 0.9788 - NS_accuracy: 0.9577 - val_loss: 3.2129 - val_EW_loss: 1.7458 - val_NS_loss: 1.4522 - val_EW_accuracy: 0.8822 - val_NS_accuracy: 0.8364\n",
      "Epoch 30/50\n",
      "892/903 [============================>.] - ETA: 0s - loss: 0.1737 - EW_loss: 0.0560 - NS_loss: 0.1028 - EW_accuracy: 0.9788 - NS_accuracy: 0.9582\n",
      "Epoch 30: loss improved from 0.17615 to 0.17396, saving model to best_model.hdf5\n",
      "903/903 [==============================] - 8s 5ms/step - loss: 0.1740 - EW_loss: 0.0561 - NS_loss: 0.1030 - EW_accuracy: 0.9788 - NS_accuracy: 0.9581 - val_loss: 3.2099 - val_EW_loss: 1.7570 - val_NS_loss: 1.4380 - val_EW_accuracy: 0.8895 - val_NS_accuracy: 0.8351\n",
      "Epoch 31/50\n",
      "893/903 [============================>.] - ETA: 0s - loss: 0.1731 - EW_loss: 0.0560 - NS_loss: 0.1024 - EW_accuracy: 0.9790 - NS_accuracy: 0.9581\n",
      "Epoch 31: loss improved from 0.17396 to 0.17303, saving model to best_model.hdf5\n",
      "903/903 [==============================] - 9s 6ms/step - loss: 0.1730 - EW_loss: 0.0560 - NS_loss: 0.1024 - EW_accuracy: 0.9790 - NS_accuracy: 0.9582 - val_loss: 3.3175 - val_EW_loss: 1.8347 - val_NS_loss: 1.4682 - val_EW_accuracy: 0.8811 - val_NS_accuracy: 0.8250\n",
      "Epoch 32/50\n",
      "894/903 [============================>.] - ETA: 0s - loss: 0.1706 - EW_loss: 0.0550 - NS_loss: 0.1011 - EW_accuracy: 0.9791 - NS_accuracy: 0.9586\n",
      "Epoch 32: loss improved from 0.17303 to 0.17049, saving model to best_model.hdf5\n",
      "903/903 [==============================] - 9s 6ms/step - loss: 0.1705 - EW_loss: 0.0549 - NS_loss: 0.1010 - EW_accuracy: 0.9791 - NS_accuracy: 0.9586 - val_loss: 3.2552 - val_EW_loss: 1.8020 - val_NS_loss: 1.4387 - val_EW_accuracy: 0.8862 - val_NS_accuracy: 0.8415\n",
      "Epoch 33/50\n",
      "899/903 [============================>.] - ETA: 0s - loss: 0.1701 - EW_loss: 0.0550 - NS_loss: 0.1007 - EW_accuracy: 0.9792 - NS_accuracy: 0.9588\n",
      "Epoch 33: loss improved from 0.17049 to 0.17010, saving model to best_model.hdf5\n",
      "903/903 [==============================] - 9s 6ms/step - loss: 0.1701 - EW_loss: 0.0550 - NS_loss: 0.1007 - EW_accuracy: 0.9793 - NS_accuracy: 0.9588 - val_loss: 3.1573 - val_EW_loss: 1.6896 - val_NS_loss: 1.4534 - val_EW_accuracy: 0.8854 - val_NS_accuracy: 0.8229\n",
      "Epoch 34/50\n",
      "894/903 [============================>.] - ETA: 0s - loss: 0.1692 - EW_loss: 0.0546 - NS_loss: 0.1004 - EW_accuracy: 0.9792 - NS_accuracy: 0.9585\n",
      "Epoch 34: loss improved from 0.17010 to 0.16908, saving model to best_model.hdf5\n",
      "903/903 [==============================] - 9s 5ms/step - loss: 0.1691 - EW_loss: 0.0546 - NS_loss: 0.1003 - EW_accuracy: 0.9792 - NS_accuracy: 0.9586 - val_loss: 3.3201 - val_EW_loss: 1.8433 - val_NS_loss: 1.4627 - val_EW_accuracy: 0.8847 - val_NS_accuracy: 0.8316\n",
      "Epoch 35/50\n",
      "896/903 [============================>.] - ETA: 0s - loss: 0.1666 - EW_loss: 0.0536 - NS_loss: 0.0989 - EW_accuracy: 0.9799 - NS_accuracy: 0.9593\n",
      "Epoch 35: loss improved from 0.16908 to 0.16662, saving model to best_model.hdf5\n",
      "903/903 [==============================] - 8s 5ms/step - loss: 0.1666 - EW_loss: 0.0537 - NS_loss: 0.0989 - EW_accuracy: 0.9799 - NS_accuracy: 0.9593 - val_loss: 3.4052 - val_EW_loss: 1.9138 - val_NS_loss: 1.4774 - val_EW_accuracy: 0.8801 - val_NS_accuracy: 0.8346\n",
      "Epoch 36/50\n",
      "897/903 [============================>.] - ETA: 0s - loss: 0.1669 - EW_loss: 0.0539 - NS_loss: 0.0992 - EW_accuracy: 0.9794 - NS_accuracy: 0.9592\n",
      "Epoch 36: loss did not improve from 0.16662\n",
      "903/903 [==============================] - 9s 5ms/step - loss: 0.1670 - EW_loss: 0.0540 - NS_loss: 0.0992 - EW_accuracy: 0.9794 - NS_accuracy: 0.9592 - val_loss: 3.4083 - val_EW_loss: 1.9753 - val_NS_loss: 1.4192 - val_EW_accuracy: 0.8853 - val_NS_accuracy: 0.8278\n",
      "Epoch 37/50\n",
      "898/903 [============================>.] - ETA: 0s - loss: 0.1647 - EW_loss: 0.0531 - NS_loss: 0.0980 - EW_accuracy: 0.9798 - NS_accuracy: 0.9596\n",
      "Epoch 37: loss improved from 0.16662 to 0.16478, saving model to best_model.hdf5\n",
      "903/903 [==============================] - 8s 5ms/step - loss: 0.1648 - EW_loss: 0.0531 - NS_loss: 0.0980 - EW_accuracy: 0.9798 - NS_accuracy: 0.9596 - val_loss: 3.2118 - val_EW_loss: 1.7615 - val_NS_loss: 1.4367 - val_EW_accuracy: 0.8878 - val_NS_accuracy: 0.8359\n",
      "Epoch 38/50\n",
      "899/903 [============================>.] - ETA: 0s - loss: 0.1647 - EW_loss: 0.0534 - NS_loss: 0.0977 - EW_accuracy: 0.9796 - NS_accuracy: 0.9596\n",
      "Epoch 38: loss improved from 0.16478 to 0.16473, saving model to best_model.hdf5\n",
      "903/903 [==============================] - 9s 5ms/step - loss: 0.1647 - EW_loss: 0.0535 - NS_loss: 0.0977 - EW_accuracy: 0.9796 - NS_accuracy: 0.9596 - val_loss: 2.9668 - val_EW_loss: 1.5178 - val_NS_loss: 1.4356 - val_EW_accuracy: 0.8894 - val_NS_accuracy: 0.8395\n",
      "Epoch 39/50\n",
      "902/903 [============================>.] - ETA: 0s - loss: 0.1630 - EW_loss: 0.0527 - NS_loss: 0.0969 - EW_accuracy: 0.9798 - NS_accuracy: 0.9599\n",
      "Epoch 39: loss improved from 0.16473 to 0.16301, saving model to best_model.hdf5\n",
      "903/903 [==============================] - 9s 5ms/step - loss: 0.1630 - EW_loss: 0.0527 - NS_loss: 0.0969 - EW_accuracy: 0.9798 - NS_accuracy: 0.9599 - val_loss: 3.5405 - val_EW_loss: 2.0734 - val_NS_loss: 1.4538 - val_EW_accuracy: 0.8821 - val_NS_accuracy: 0.8295\n",
      "Epoch 40/50\n",
      "892/903 [============================>.] - ETA: 0s - loss: 0.1629 - EW_loss: 0.0524 - NS_loss: 0.0973 - EW_accuracy: 0.9800 - NS_accuracy: 0.9599\n",
      "Epoch 40: loss improved from 0.16301 to 0.16285, saving model to best_model.hdf5\n",
      "903/903 [==============================] - 8s 5ms/step - loss: 0.1628 - EW_loss: 0.0523 - NS_loss: 0.0972 - EW_accuracy: 0.9800 - NS_accuracy: 0.9599 - val_loss: 3.3612 - val_EW_loss: 1.7705 - val_NS_loss: 1.5775 - val_EW_accuracy: 0.8910 - val_NS_accuracy: 0.8350\n",
      "Epoch 41/50\n",
      "901/903 [============================>.] - ETA: 0s - loss: 0.1601 - EW_loss: 0.0515 - NS_loss: 0.0955 - EW_accuracy: 0.9802 - NS_accuracy: 0.9605\n",
      "Epoch 41: loss improved from 0.16285 to 0.16016, saving model to best_model.hdf5\n",
      "903/903 [==============================] - 8s 5ms/step - loss: 0.1602 - EW_loss: 0.0515 - NS_loss: 0.0955 - EW_accuracy: 0.9802 - NS_accuracy: 0.9605 - val_loss: 3.3597 - val_EW_loss: 1.8062 - val_NS_loss: 1.5405 - val_EW_accuracy: 0.8736 - val_NS_accuracy: 0.8199\n",
      "Epoch 42/50\n",
      "895/903 [============================>.] - ETA: 0s - loss: 0.1614 - EW_loss: 0.0523 - NS_loss: 0.0961 - EW_accuracy: 0.9799 - NS_accuracy: 0.9601\n",
      "Epoch 42: loss did not improve from 0.16016\n",
      "903/903 [==============================] - 9s 5ms/step - loss: 0.1615 - EW_loss: 0.0524 - NS_loss: 0.0961 - EW_accuracy: 0.9799 - NS_accuracy: 0.9601 - val_loss: 3.3076 - val_EW_loss: 1.8322 - val_NS_loss: 1.4625 - val_EW_accuracy: 0.8699 - val_NS_accuracy: 0.8283\n",
      "Epoch 43/50\n",
      "897/903 [============================>.] - ETA: 0s - loss: 0.1598 - EW_loss: 0.0517 - NS_loss: 0.0952 - EW_accuracy: 0.9800 - NS_accuracy: 0.9604\n",
      "Epoch 43: loss improved from 0.16016 to 0.15989, saving model to best_model.hdf5\n",
      "903/903 [==============================] - 9s 6ms/step - loss: 0.1599 - EW_loss: 0.0517 - NS_loss: 0.0953 - EW_accuracy: 0.9800 - NS_accuracy: 0.9603 - val_loss: 3.2877 - val_EW_loss: 1.7268 - val_NS_loss: 1.5482 - val_EW_accuracy: 0.8866 - val_NS_accuracy: 0.8301\n",
      "Epoch 44/50\n",
      "892/903 [============================>.] - ETA: 0s - loss: 0.1584 - EW_loss: 0.0508 - NS_loss: 0.0949 - EW_accuracy: 0.9805 - NS_accuracy: 0.9606\n",
      "Epoch 44: loss improved from 0.15989 to 0.15830, saving model to best_model.hdf5\n",
      "903/903 [==============================] - 8s 5ms/step - loss: 0.1583 - EW_loss: 0.0508 - NS_loss: 0.0948 - EW_accuracy: 0.9806 - NS_accuracy: 0.9607 - val_loss: 3.4157 - val_EW_loss: 1.8540 - val_NS_loss: 1.5490 - val_EW_accuracy: 0.8883 - val_NS_accuracy: 0.8413\n",
      "Epoch 45/50\n",
      "903/903 [==============================] - ETA: 0s - loss: 0.1559 - EW_loss: 0.0502 - NS_loss: 0.0930 - EW_accuracy: 0.9807 - NS_accuracy: 0.9615\n",
      "Epoch 45: loss improved from 0.15830 to 0.15589, saving model to best_model.hdf5\n",
      "903/903 [==============================] - 9s 6ms/step - loss: 0.1559 - EW_loss: 0.0502 - NS_loss: 0.0930 - EW_accuracy: 0.9807 - NS_accuracy: 0.9615 - val_loss: 3.3240 - val_EW_loss: 1.8755 - val_NS_loss: 1.4359 - val_EW_accuracy: 0.8827 - val_NS_accuracy: 0.8318\n",
      "Epoch 46/50\n",
      "902/903 [============================>.] - ETA: 0s - loss: 0.1529 - EW_loss: 0.0493 - NS_loss: 0.0910 - EW_accuracy: 0.9809 - NS_accuracy: 0.9619\n",
      "Epoch 46: loss improved from 0.15589 to 0.15289, saving model to best_model.hdf5\n",
      "903/903 [==============================] - 9s 6ms/step - loss: 0.1529 - EW_loss: 0.0493 - NS_loss: 0.0910 - EW_accuracy: 0.9809 - NS_accuracy: 0.9619 - val_loss: 3.4492 - val_EW_loss: 2.0215 - val_NS_loss: 1.4153 - val_EW_accuracy: 0.8873 - val_NS_accuracy: 0.8382\n",
      "Epoch 47/50\n",
      "900/903 [============================>.] - ETA: 0s - loss: 0.1513 - EW_loss: 0.0486 - NS_loss: 0.0902 - EW_accuracy: 0.9810 - NS_accuracy: 0.9623\n",
      "Epoch 47: loss improved from 0.15289 to 0.15130, saving model to best_model.hdf5\n",
      "903/903 [==============================] - 9s 6ms/step - loss: 0.1513 - EW_loss: 0.0486 - NS_loss: 0.0902 - EW_accuracy: 0.9810 - NS_accuracy: 0.9623 - val_loss: 3.3624 - val_EW_loss: 1.8182 - val_NS_loss: 1.5317 - val_EW_accuracy: 0.8874 - val_NS_accuracy: 0.8264\n",
      "Epoch 48/50\n",
      "900/903 [============================>.] - ETA: 0s - loss: 0.1501 - EW_loss: 0.0481 - NS_loss: 0.0896 - EW_accuracy: 0.9812 - NS_accuracy: 0.9626\n",
      "Epoch 48: loss improved from 0.15130 to 0.15018, saving model to best_model.hdf5\n",
      "903/903 [==============================] - 8s 6ms/step - loss: 0.1502 - EW_loss: 0.0481 - NS_loss: 0.0896 - EW_accuracy: 0.9812 - NS_accuracy: 0.9625 - val_loss: 3.1917 - val_EW_loss: 1.7716 - val_NS_loss: 1.4078 - val_EW_accuracy: 0.8934 - val_NS_accuracy: 0.8473\n",
      "Epoch 49/50\n",
      "892/903 [============================>.] - ETA: 0s - loss: 0.1506 - EW_loss: 0.0485 - NS_loss: 0.0898 - EW_accuracy: 0.9812 - NS_accuracy: 0.9623\n",
      "Epoch 49: loss did not improve from 0.15018\n",
      "903/903 [==============================] - 8s 5ms/step - loss: 0.1506 - EW_loss: 0.0484 - NS_loss: 0.0898 - EW_accuracy: 0.9812 - NS_accuracy: 0.9623 - val_loss: 3.2034 - val_EW_loss: 1.6601 - val_NS_loss: 1.5311 - val_EW_accuracy: 0.8838 - val_NS_accuracy: 0.8346\n",
      "Epoch 50/50\n",
      "892/903 [============================>.] - ETA: 0s - loss: 0.1497 - EW_loss: 0.0483 - NS_loss: 0.0893 - EW_accuracy: 0.9816 - NS_accuracy: 0.9628\n",
      "Epoch 50: loss improved from 0.15018 to 0.14961, saving model to best_model.hdf5\n",
      "903/903 [==============================] - 9s 6ms/step - loss: 0.1496 - EW_loss: 0.0482 - NS_loss: 0.0892 - EW_accuracy: 0.9816 - NS_accuracy: 0.9629 - val_loss: 3.2245 - val_EW_loss: 1.6983 - val_NS_loss: 1.5140 - val_EW_accuracy: 0.8856 - val_NS_accuracy: 0.8409\n",
      "Finished training after 50 epochs.Lowest loss: 0.1496  (epoch 50)\n"
     ]
    },
    {
     "name": "stderr",
     "output_type": "stream",
     "text": [
      "/home/user/Code/splid-challenge/base/prediction_models.py:62: UserWarning: FigureCanvasAgg is non-interactive, and thus cannot be shown\n",
      "  fig.show()\n"
     ]
    },
    {
     "name": "stdout",
     "output_type": "stream",
     "text": [
      "903/903 [==============================] - 5s 2ms/step - loss: 0.1414 - EW_loss: 0.0447 - NS_loss: 0.0846 - EW_accuracy: 0.9824 - NS_accuracy: 0.9649\n"
     ]
    },
    {
     "data": {
      "text/plain": [
       "[0.14139613509178162,\n",
       " 0.04470283165574074,\n",
       " 0.08456556499004364,\n",
       " 0.9824156761169434,\n",
       " 0.9649309515953064]"
      ]
     },
     "execution_count": 7,
     "metadata": {},
     "output_type": "execute_result"
    },
    {
     "data": {
      "image/png": "[encoded data removed]",
      "text/plain": [
       "<Figure size 400x300 with 1 Axes>"
      ]
     },
     "metadata": {},
     "output_type": "display_data"
    },
    {
     "data": {
      "image/png": "[encoded data removed]",
      "text/plain": [
       "<Figure size 400x300 with 1 Axes>"
      ]
     },
     "metadata": {},
     "output_type": "display_data"
    }
   ],
   "source": [
    "dense_combined_model = prediction_models.CNN(train_combined, conv_layers=[128,128,128], l2_reg=0.001, mixed_dropout=0.15, lr_scheduler=[20000,0.8], seed=0)\n",
    "dense_combined_model.summary()\n",
    "hist = dense_combined_model.fit(train_combined, val_ds=val_combined, target_metric='loss', epochs=50, verbose=1, plot_hist=False, save_best_only=True)\n",
    "dense_combined_model.plot_hist(hist, [k for k in hist.history.keys() if 'loss' in k])\n",
    "dense_combined_model.plot_hist(hist, [k for k in hist.history.keys() if 'accuracy' in k])\n",
    "dense_combined_model.evaluate(train_combined)"
   ]
  },
  {
   "cell_type": "code",
   "execution_count": null,
   "metadata": {},
   "outputs": [],
   "source": [
    "# TODO: find out if we can directly train for precision/challenge metrics\n",
    "# TODO: maybe it makes sense to look at values before and after the node? Given that we are trying to detect changes...\n",
    "# TODO: check if train_NS even contains all the labels in val_NS... in general, train should contain all labels\n",
    "# TODO: Make sure labelencoder gets saved\n",
    "# TODO: some of the features cross sign boundaries -> feature engineering necessary!"
   ]
  },
  {
   "cell_type": "code",
   "execution_count": 8,
   "metadata": {},
   "outputs": [],
   "source": [
    "def prepare_submission_df(ds, model, model_output_features, label_decoders):\n",
    "    '''Prepare dataframes for submission based on models predictions. The output_labels need to be in the same order as they were when creating the dataset!'''\n",
    "    assert(len(model_output_features) == len(label_decoders))\n",
    "    inputs = np.concatenate([element for element in ds.map(lambda x,y,z: x).as_numpy_iterator()])\n",
    "    identifiers = np.concatenate([element for element in ds.map(lambda x,y,z: z).as_numpy_iterator()])\n",
    "    \n",
    "    df = pd.DataFrame(np.concatenate([identifiers.reshape(-1,2)], axis=1), columns=['ObjectID', 'TimeIndex'], dtype=np.int32)\n",
    "\n",
    "    preds = model.predict(inputs)\n",
    "    for ft_idx, feature in enumerate(model_output_features):\n",
    "        labels = np.concatenate([element[feature] for element in ds.map(lambda x,y,z: y).as_numpy_iterator()])\n",
    "        labels_decoded = label_decoders[ft_idx].inverse_transform(labels)\n",
    "        preds_argmax = np.argmax(preds[ft_idx], axis=1) if len(model_output_features)>1 else np.argmax(preds, axis=1)\n",
    "        preds_decoded = label_decoders[ft_idx].inverse_transform(preds_argmax)\n",
    "        df[f'{feature}'] = labels_decoded\n",
    "        df[f'Predicted_{feature}'] = preds_decoded\n",
    "    return df\n"
   ]
  },
  {
   "cell_type": "code",
   "execution_count": 9,
   "metadata": {},
   "outputs": [],
   "source": [
    "ground_truth = pd.read_csv(challenge_data_dir / 'train_labels.csv')\n",
    "ground_truth_train = ground_truth[ground_truth['ObjectID'].isin(map(int, ds_gen.train_keys))].copy()\n",
    "ground_truth_val = ground_truth[ground_truth['ObjectID'].isin(map(int, ds_gen.val_keys))].copy()"
   ]
  },
  {
   "cell_type": "code",
   "execution_count": 10,
   "metadata": {},
   "outputs": [
    {
     "name": "stdout",
     "output_type": "stream",
     "text": [
      "14440/14440 [==============================] - 13s 889us/step\n"
     ]
    },
    {
     "name": "stderr",
     "output_type": "stream",
     "text": [
      "Smoothing: 100%|██████████| 212/212 [01:24<00:00,  2.50it/s]\n"
     ]
    },
    {
     "name": "stdout",
     "output_type": "stream",
     "text": [
      "1566\n",
      "956\n",
      "Precision for the train set: 0.36\n",
      "Recall for the train set: 0.61\n",
      "F2 for the train set: 0.53\n",
      "RMSE for the train set: 1.76\n"
     ]
    }
   ],
   "source": [
    "train_EW, val_EW = ds_gen.get_datasets(128, label_features=['EW', 'NS'], shuffle=False, keep_identifier=True)\n",
    "df_train=prepare_submission_df(ds=train_EW, model=dense_combined_model.model, model_output_features=['EW', 'NS'], label_decoders=[ds_gen.combined_label_encoder, ds_gen.combined_label_encoder])\n",
    "smoothed_df_train = utils.smooth_predictions(df_train, past_steps=3, fut_steps=10)\n",
    "train_results = utils.convert_classifier_output(smoothed_df_train).sort_values(['ObjectID']).reset_index(drop=True)\n",
    "print(len(train_results))\n",
    "# print(train_results.sort_values(['ObjectID', 'TimeIndex', 'Direction']).head(50))\n",
    "print(len(ground_truth_train))\n",
    "# print(ground_truth_train.sort_values(['ObjectID', 'TimeIndex', 'Direction']).head(50))\n",
    "evaluator = evaluation.NodeDetectionEvaluator(ground_truth_train, train_results)\n",
    "precision, recall, f2, rmse = evaluator.score()\n",
    "print(f'Precision for the train set: {precision:.2f}')\n",
    "print(f'Recall for the train set: {recall:.2f}')\n",
    "print(f'F2 for the train set: {f2:.2f}')\n",
    "print(f'RMSE for the train set: {rmse:.2f}')\n",
    "\n",
    "# TODO: predict on val with simly ss node and predict engine type... might give quite high precision?\n",
    "# Dense result: F2 0.49/0.32 (t/v)\n",
    "# Conv result: F2 0.53/0.37"
   ]
  },
  {
   "cell_type": "code",
   "execution_count": 11,
   "metadata": {},
   "outputs": [
    {
     "name": "stdout",
     "output_type": "stream",
     "text": [
      "2588/2588 [==============================] - 3s 987us/step\n"
     ]
    },
    {
     "name": "stderr",
     "output_type": "stream",
     "text": [
      "Smoothing: 100%|██████████| 38/38 [00:13<00:00,  2.77it/s]\n"
     ]
    },
    {
     "name": "stdout",
     "output_type": "stream",
     "text": [
      "Precision for the val set: 0.15\n",
      "Recall for the val set: 0.60\n",
      "F2 for the val set: 0.37\n",
      "RMSE for the val set: 1.93\n"
     ]
    }
   ],
   "source": [
    "train_EW, val_EW = ds_gen.get_datasets(128, label_features=['EW', 'NS'], shuffle=False, keep_identifier=True)\n",
    "df_val=prepare_submission_df(ds=val_EW, model=dense_combined_model.model, model_output_features=['EW', 'NS'], label_decoders=[ds_gen.combined_label_encoder, ds_gen.combined_label_encoder])\n",
    "smoothed_df_val = utils.smooth_predictions(df_val, past_steps=3, fut_steps=10)\n",
    "val_results = utils.convert_classifier_output(smoothed_df_val).sort_values(['ObjectID']).reset_index(drop=True)\n",
    "evaluator = evaluation.NodeDetectionEvaluator(ground_truth_val, val_results)\n",
    "precision, recall, f2, rmse = evaluator.score()\n",
    "print(f'Precision for the val set: {precision:.2f}')\n",
    "print(f'Recall for the val set: {recall:.2f}')\n",
    "print(f'F2 for the val set: {f2:.2f}')\n",
    "print(f'RMSE for the val set: {rmse:.2f}')\n"
   ]
  },
  {
   "cell_type": "code",
   "execution_count": 288,
   "metadata": {},
   "outputs": [
    {
     "name": "stdout",
     "output_type": "stream",
     "text": [
      "1019/1019 [==============================] - 2s 2ms/step\n",
      "1019/1019 [==============================] - 2s 2ms/step\n"
     ]
    },
    {
     "name": "stderr",
     "output_type": "stream",
     "text": [
      "Smoothing: 100%|██████████| 15/15 [00:16<00:00,  1.12s/it]\n"
     ]
    },
    {
     "name": "stdout",
     "output_type": "stream",
     "text": [
      "Precision for the train set: 0.65\n",
      "Recall for the train set: 0.65\n",
      "F2 for the train set: 0.65\n",
      "RMSE for the train set: 0.58\n"
     ]
    }
   ],
   "source": [
    "train_EW, val_EW = ds_gen.get_datasets(128, label_features=['EW'], shuffle=False, keep_identifier=True)\n",
    "train_NS, val_NS = ds_gen.get_datasets(128, label_features=['NS'], shuffle=False, keep_identifier=True)\n",
    "df_EW = prepare_submission_df(ds=train_EW, model=dense_model_ew.model, model_output_features=['EW'], label_decoders=[ds_gen.combined_label_encoder])\n",
    "df_NS = prepare_submission_df(ds=train_NS, model=dense_model_ns.model, model_output_features=['NS'], label_decoders=[ds_gen.combined_label_encoder])\n",
    "combined_df = df_EW\n",
    "combined_df['NS'] = df_NS['NS']\n",
    "combined_df['Predicted_NS'] = df_NS['Predicted_NS']\n",
    "smoothed_df_val = utils.smooth_predictions(combined_df)\n",
    "train_results = utils.convert_classifier_output(smoothed_df_val).sort_values(['ObjectID']).reset_index(drop=True)\n",
    "evaluator = evaluation.NodeDetectionEvaluator(ground_truth_train, train_results)\n",
    "precision, recall, f2, rmse = evaluator.score()\n",
    "print(f'Precision for the train set: {precision:.2f}')\n",
    "print(f'Recall for the train set: {recall:.2f}')\n",
    "print(f'F2 for the train set: {f2:.2f}')\n",
    "print(f'RMSE for the train set: {rmse:.2f}')"
   ]
  },
  {
   "cell_type": "code",
   "execution_count": null,
   "metadata": {},
   "outputs": [],
   "source": []
  }
 ],
 "metadata": {
  "kernelspec": {
   "display_name": "splid",
   "language": "python",
   "name": "python3"
  },
  "language_info": {
   "codemirror_mode": {
    "name": "ipython",
    "version": 3
   },
   "file_extension": ".py",
   "mimetype": "text/x-python",
   "name": "python",
   "nbconvert_exporter": "python",
   "pygments_lexer": "ipython3",
   "version": "3.10.13"
  }
 },
 "nbformat": 4,
 "nbformat_minor": 2
}
