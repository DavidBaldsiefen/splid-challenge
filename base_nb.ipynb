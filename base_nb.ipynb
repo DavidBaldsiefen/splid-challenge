{
 "cells": [
  {
   "cell_type": "code",
   "execution_count": 51,
   "metadata": {},
   "outputs": [],
   "source": [
    "import pandas as pd\n",
    "import numpy as np\n",
    "import tensorflow as tf\n",
    "from pathlib import Path\n",
    "from tqdm import tqdm\n",
    "import random"
   ]
  },
  {
   "cell_type": "code",
   "execution_count": 52,
   "metadata": {},
   "outputs": [
    {
     "name": "stdout",
     "output_type": "stream",
     "text": [
      "The autoreload extension is already loaded. To reload it, use:\n",
      "  %reload_ext autoreload\n"
     ]
    }
   ],
   "source": [
    "%load_ext autoreload\n",
    "%autoreload 2\n",
    "from base import utils, datahandler, prediction_models, evaluation"
   ]
  },
  {
   "cell_type": "code",
   "execution_count": 53,
   "metadata": {},
   "outputs": [],
   "source": [
    "# Define the directory paths\n",
    "challenge_data_dir = Path('dataset/')\n",
    "data_dir = challenge_data_dir / \"train\"\n",
    "labels_dir = challenge_data_dir / 'train_labels.csv'\n",
    "\n",
    "split_dataframes = datahandler.load_and_prepare_dataframes(data_dir, labels_dir)"
   ]
  },
  {
   "cell_type": "code",
   "execution_count": 54,
   "metadata": {},
   "outputs": [
    {
     "name": "stdout",
     "output_type": "stream",
     "text": [
      "['SS-CK', 'SS-HK', 'SS-EK']\n",
      "['SS-CK', 'SS-HK']\n",
      "['SS-NK', 'IK-CK', 'SS-CK', 'SS-HK', 'IK-HK']\n",
      "['SS-NK', 'IK-CK', 'SS-HK']\n"
     ]
    }
   ],
   "source": [
    "# get all labels in the dataframes\n",
    "keys_list = list(split_dataframes.keys())\n",
    "random.Random(69).shuffle(keys_list) # shuffle, but with a seed for reproducability\n",
    "split_idx = int(len(keys_list) * 0.8)\n",
    "train_keys = keys_list[:split_idx]\n",
    "train_labels_EW = []\n",
    "train_labels_NS = []\n",
    "val_keys = keys_list[split_idx:]\n",
    "val_labels_EW = []\n",
    "val_labels_NS = []\n",
    "for key in train_keys:\n",
    "    train_labels_EW += list(split_dataframes[key]['EW'].unique())\n",
    "    train_labels_NS += list(split_dataframes[key]['NS'].unique())\n",
    "for key in val_keys:\n",
    "    val_labels_EW += list(split_dataframes[key]['EW'].unique())\n",
    "    val_labels_NS += list(split_dataframes[key]['NS'].unique())\n",
    "train_labels_EW = list(dict.fromkeys(train_labels_EW))\n",
    "train_labels_NS = list(dict.fromkeys(train_labels_NS))\n",
    "val_labels_EW = list(dict.fromkeys(val_labels_EW))\n",
    "val_labels_NS = list(dict.fromkeys(val_labels_NS))\n",
    "print(train_labels_EW)\n",
    "print(val_labels_EW)\n",
    "print(train_labels_NS)\n",
    "print(val_labels_NS)\n"
   ]
  },
  {
   "cell_type": "code",
   "execution_count": 99,
   "metadata": {},
   "outputs": [
    {
     "name": "stdout",
     "output_type": "stream",
     "text": [
      "Creating dataset from 15 train and 3 val objects\n",
      "Created datasets with seed 69\n"
     ]
    }
   ],
   "source": [
    "ds_gen = datahandler.DatasetGenerator(split_df=split_dataframes, train_val_split=0.85, stride=1, input_steps=5, seed=69)"
   ]
  },
  {
   "cell_type": "code",
   "execution_count": 169,
   "metadata": {},
   "outputs": [
    {
     "name": "stdout",
     "output_type": "stream",
     "text": [
      "Training model #1\n",
      "Training model #2\n",
      "EW results:\n",
      "255/255 [==============================] - 1s 2ms/step - loss: 2.2578e-06 - accuracy: 1.0000\n",
      "51/51 [==============================] - 0s 3ms/step - loss: 11.8038 - accuracy: 0.5483\n",
      "NS results:\n",
      "255/255 [==============================] - 1s 2ms/step - loss: 0.0083 - accuracy: 0.9965\n",
      "51/51 [==============================] - 0s 3ms/step - loss: 26.7497 - accuracy: 0.3017\n"
     ]
    },
    {
     "data": {
      "text/plain": [
       "[26.749740600585938, 0.3017188310623169]"
      ]
     },
     "execution_count": 169,
     "metadata": {},
     "output_type": "execute_result"
    }
   ],
   "source": [
    "train_EW, val_EW = ds_gen.get_datasets(128, label_features=['EW'], shuffle=True)\n",
    "train_NS, val_NS = ds_gen.get_datasets(128, label_features=['NS'], shuffle=True)\n",
    "#dense_model_ew = prediction_models.Dense_NN(train_EW, dense_layers=[512,256,32], l2_reg=0.0001, mixed_dropout=0.2)\n",
    "#dense_model_ns = prediction_models.Dense_NN(train_EW, dense_layers=[512,256,32], l2_reg=0.0001, mixed_dropout=0.2)\n",
    "dense_model_ew = prediction_models.Dense_NN(train_EW, dense_layers=[512,512], l2_reg=0.00, mixed_dropout=0.0, seed=0)\n",
    "dense_model_ns = prediction_models.Dense_NN(train_NS, dense_layers=[512,512], l2_reg=0.00, mixed_dropout=0.0, seed=0)\n",
    "print(\"Training model #1\")\n",
    "hist_ew = dense_model_ew.fit(train_EW, val_ds=val_EW, epochs=40, verbose=0, plot_hist=False) # TODO: somehow this sometimes has save_best_only enabled?? even though its only enabled in 2nd fit? ... do inherited models somehow modify the mother class?!?\n",
    "print(\"Training model #2\")\n",
    "hist_ns = dense_model_ns.fit(train_NS, val_ds=val_NS, epochs=40, verbose=0, plot_hist=False)\n",
    "print(\"EW results:\")\n",
    "dense_model_ew.model.evaluate(train_EW)\n",
    "dense_model_ew.model.evaluate(val_EW)\n",
    "print(\"NS results:\")\n",
    "dense_model_ns.model.evaluate(train_NS)\n",
    "dense_model_ns.model.evaluate(val_NS)"
   ]
  },
  {
   "cell_type": "code",
   "execution_count": 195,
   "metadata": {},
   "outputs": [
    {
     "name": "stdout",
     "output_type": "stream",
     "text": [
      "(TensorSpec(shape=(None, 5, 16), dtype=tf.float64, name=None), TensorSpec(shape=(None,), dtype=tf.int32, name=None), TensorSpec(shape=(None,), dtype=tf.int32, name=None))\n",
      "Model: \"model_30\"\n",
      "__________________________________________________________________________________________________\n",
      " Layer (type)                Output Shape                 Param #   Connected to                  \n",
      "==================================================================================================\n",
      " input_32 (InputLayer)       [(None, 5, 16)]              0         []                            \n",
      "                                                                                                  \n",
      " flatten_31 (Flatten)        (None, 80)                   0         ['input_32[0][0]']            \n",
      "                                                                                                  \n",
      " dense_56 (Dense)            (None, 512)                  41472     ['flatten_31[0][0]']          \n",
      "                                                                                                  \n",
      " dense_57 (Dense)            (None, 512)                  262656    ['dense_56[0][0]']            \n",
      "                                                                                                  \n",
      " output_0 (Dense)            (None, 20)                   10260     ['dense_57[0][0]']            \n",
      "                                                                                                  \n",
      " output_1 (Dense)            (None, 20)                   10260     ['dense_57[0][0]']            \n",
      "                                                                                                  \n",
      "==================================================================================================\n",
      "Total params: 324648 (1.24 MB)\n",
      "Trainable params: 324648 (1.24 MB)\n",
      "Non-trainable params: 0 (0.00 Byte)\n",
      "__________________________________________________________________________________________________\n",
      "Starting training. Optimizing \"val_accuracy\"\n",
      "Epoch 1/40\n",
      "255/255 - 4s - loss: 6.1350 - output_0_loss: 3.0577 - output_1_loss: 3.0773 - output_0_accuracy: 0.9312 - output_1_accuracy: 0.9300 - val_loss: 119.4221 - val_output_0_loss: 59.8173 - val_output_1_loss: 59.6048 - val_output_0_accuracy: 0.4834 - val_output_1_accuracy: 0.4822 - 4s/epoch - 14ms/step\n",
      "Epoch 2/40\n",
      "255/255 - 2s - loss: 1.1483 - output_0_loss: 0.5756 - output_1_loss: 0.5727 - output_0_accuracy: 0.9871 - output_1_accuracy: 0.9869 - val_loss: 198.4468 - val_output_0_loss: 98.8001 - val_output_1_loss: 99.6467 - val_output_0_accuracy: 0.5147 - val_output_1_accuracy: 0.5129 - 2s/epoch - 8ms/step\n",
      "Epoch 3/40\n",
      "255/255 - 2s - loss: 0.8332 - output_0_loss: 0.4170 - output_1_loss: 0.4162 - output_0_accuracy: 0.9903 - output_1_accuracy: 0.9904 - val_loss: 209.0450 - val_output_0_loss: 105.3217 - val_output_1_loss: 103.7232 - val_output_0_accuracy: 0.5684 - val_output_1_accuracy: 0.5703 - 2s/epoch - 8ms/step\n",
      "Epoch 4/40\n",
      "255/255 - 2s - loss: 0.5087 - output_0_loss: 0.2535 - output_1_loss: 0.2552 - output_0_accuracy: 0.9944 - output_1_accuracy: 0.9942 - val_loss: 254.9995 - val_output_0_loss: 127.5869 - val_output_1_loss: 127.4126 - val_output_0_accuracy: 0.4979 - val_output_1_accuracy: 0.4979 - 2s/epoch - 8ms/step\n",
      "Epoch 5/40\n",
      "255/255 - 2s - loss: 0.3158 - output_0_loss: 0.1580 - output_1_loss: 0.1578 - output_0_accuracy: 0.9963 - output_1_accuracy: 0.9963 - val_loss: 248.7880 - val_output_0_loss: 123.7120 - val_output_1_loss: 125.0761 - val_output_0_accuracy: 0.5163 - val_output_1_accuracy: 0.5129 - 2s/epoch - 8ms/step\n",
      "Epoch 6/40\n",
      "255/255 - 2s - loss: 0.2677 - output_0_loss: 0.1333 - output_1_loss: 0.1344 - output_0_accuracy: 0.9971 - output_1_accuracy: 0.9970 - val_loss: 278.8980 - val_output_0_loss: 139.9627 - val_output_1_loss: 138.9353 - val_output_0_accuracy: 0.5195 - val_output_1_accuracy: 0.5209 - 2s/epoch - 7ms/step\n",
      "Epoch 7/40\n",
      "255/255 - 2s - loss: 0.3379 - output_0_loss: 0.1665 - output_1_loss: 0.1713 - output_0_accuracy: 0.9968 - output_1_accuracy: 0.9966 - val_loss: 316.8705 - val_output_0_loss: 158.6697 - val_output_1_loss: 158.2007 - val_output_0_accuracy: 0.5273 - val_output_1_accuracy: 0.5256 - 2s/epoch - 8ms/step\n",
      "Epoch 8/40\n",
      "255/255 - 2s - loss: 0.0824 - output_0_loss: 0.0424 - output_1_loss: 0.0400 - output_0_accuracy: 0.9992 - output_1_accuracy: 0.9992 - val_loss: 311.5137 - val_output_0_loss: 155.0058 - val_output_1_loss: 156.5079 - val_output_0_accuracy: 0.5411 - val_output_1_accuracy: 0.5414 - 2s/epoch - 8ms/step\n",
      "Epoch 9/40\n",
      "255/255 - 2s - loss: 0.1190 - output_0_loss: 0.0593 - output_1_loss: 0.0597 - output_0_accuracy: 0.9987 - output_1_accuracy: 0.9987 - val_loss: 347.9217 - val_output_0_loss: 173.5502 - val_output_1_loss: 174.3714 - val_output_0_accuracy: 0.5331 - val_output_1_accuracy: 0.5324 - 2s/epoch - 7ms/step\n",
      "Epoch 10/40\n",
      "255/255 - 2s - loss: 0.2490 - output_0_loss: 0.1222 - output_1_loss: 0.1268 - output_0_accuracy: 0.9973 - output_1_accuracy: 0.9972 - val_loss: 307.7984 - val_output_0_loss: 154.2946 - val_output_1_loss: 153.5038 - val_output_0_accuracy: 0.5568 - val_output_1_accuracy: 0.5566 - 2s/epoch - 7ms/step\n",
      "Epoch 11/40\n",
      "255/255 - 2s - loss: 0.4772 - output_0_loss: 0.2350 - output_1_loss: 0.2422 - output_0_accuracy: 0.9949 - output_1_accuracy: 0.9949 - val_loss: 308.3704 - val_output_0_loss: 153.4506 - val_output_1_loss: 154.9199 - val_output_0_accuracy: 0.5362 - val_output_1_accuracy: 0.5362 - 2s/epoch - 7ms/step\n",
      "Epoch 12/40\n",
      "255/255 - 2s - loss: 0.0356 - output_0_loss: 0.0177 - output_1_loss: 0.0179 - output_0_accuracy: 0.9998 - output_1_accuracy: 0.9997 - val_loss: 320.3341 - val_output_0_loss: 160.1586 - val_output_1_loss: 160.1754 - val_output_0_accuracy: 0.5614 - val_output_1_accuracy: 0.5618 - 2s/epoch - 8ms/step\n",
      "Epoch 13/40\n",
      "255/255 - 2s - loss: 0.0132 - output_0_loss: 0.0068 - output_1_loss: 0.0064 - output_0_accuracy: 0.9999 - output_1_accuracy: 0.9999 - val_loss: 326.8770 - val_output_0_loss: 163.7764 - val_output_1_loss: 163.1006 - val_output_0_accuracy: 0.5566 - val_output_1_accuracy: 0.5565 - 2s/epoch - 8ms/step\n",
      "Epoch 14/40\n",
      "255/255 - 2s - loss: 0.0052 - output_0_loss: 0.0026 - output_1_loss: 0.0026 - output_0_accuracy: 1.0000 - output_1_accuracy: 1.0000 - val_loss: 334.1873 - val_output_0_loss: 167.3710 - val_output_1_loss: 166.8163 - val_output_0_accuracy: 0.5536 - val_output_1_accuracy: 0.5537 - 2s/epoch - 7ms/step\n",
      "Epoch 15/40\n",
      "255/255 - 2s - loss: 0.0035 - output_0_loss: 0.0017 - output_1_loss: 0.0017 - output_0_accuracy: 1.0000 - output_1_accuracy: 1.0000 - val_loss: 340.8257 - val_output_0_loss: 170.8031 - val_output_1_loss: 170.0226 - val_output_0_accuracy: 0.5539 - val_output_1_accuracy: 0.5537 - 2s/epoch - 7ms/step\n",
      "Epoch 16/40\n",
      "255/255 - 2s - loss: 0.0027 - output_0_loss: 0.0013 - output_1_loss: 0.0013 - output_0_accuracy: 1.0000 - output_1_accuracy: 1.0000 - val_loss: 345.6218 - val_output_0_loss: 173.1895 - val_output_1_loss: 172.4323 - val_output_0_accuracy: 0.5536 - val_output_1_accuracy: 0.5519 - 2s/epoch - 7ms/step\n",
      "Epoch 17/40\n",
      "255/255 - 2s - loss: 0.0023 - output_0_loss: 0.0012 - output_1_loss: 0.0011 - output_0_accuracy: 1.0000 - output_1_accuracy: 1.0000 - val_loss: 351.0093 - val_output_0_loss: 175.9917 - val_output_1_loss: 175.0176 - val_output_0_accuracy: 0.5534 - val_output_1_accuracy: 0.5528 - 2s/epoch - 7ms/step\n",
      "Epoch 18/40\n",
      "255/255 - 2s - loss: 0.0018 - output_0_loss: 9.0696e-04 - output_1_loss: 8.9275e-04 - output_0_accuracy: 1.0000 - output_1_accuracy: 1.0000 - val_loss: 355.6353 - val_output_0_loss: 178.3036 - val_output_1_loss: 177.3318 - val_output_0_accuracy: 0.5526 - val_output_1_accuracy: 0.5516 - 2s/epoch - 8ms/step\n",
      "Epoch 19/40\n",
      "255/255 - 2s - loss: 0.0016 - output_0_loss: 8.0494e-04 - output_1_loss: 7.8532e-04 - output_0_accuracy: 1.0000 - output_1_accuracy: 1.0000 - val_loss: 363.3059 - val_output_0_loss: 182.1990 - val_output_1_loss: 181.1070 - val_output_0_accuracy: 0.5523 - val_output_1_accuracy: 0.5513 - 2s/epoch - 8ms/step\n",
      "Epoch 20/40\n",
      "255/255 - 2s - loss: 0.0014 - output_0_loss: 6.9110e-04 - output_1_loss: 6.8039e-04 - output_0_accuracy: 1.0000 - output_1_accuracy: 1.0000 - val_loss: 365.2546 - val_output_0_loss: 183.1083 - val_output_1_loss: 182.1462 - val_output_0_accuracy: 0.5543 - val_output_1_accuracy: 0.5523 - 2s/epoch - 7ms/step\n",
      "Epoch 21/40\n",
      "255/255 - 2s - loss: 0.0012 - output_0_loss: 6.1642e-04 - output_1_loss: 6.0169e-04 - output_0_accuracy: 1.0000 - output_1_accuracy: 1.0000 - val_loss: 371.3378 - val_output_0_loss: 186.2101 - val_output_1_loss: 185.1277 - val_output_0_accuracy: 0.5528 - val_output_1_accuracy: 0.5520 - 2s/epoch - 7ms/step\n",
      "Epoch 22/40\n",
      "255/255 - 2s - loss: 0.0010 - output_0_loss: 5.0736e-04 - output_1_loss: 4.9805e-04 - output_0_accuracy: 1.0000 - output_1_accuracy: 1.0000 - val_loss: 374.1714 - val_output_0_loss: 187.7934 - val_output_1_loss: 186.3781 - val_output_0_accuracy: 0.5542 - val_output_1_accuracy: 0.5533 - 2s/epoch - 8ms/step\n",
      "Epoch 23/40\n",
      "255/255 - 2s - loss: 8.8163e-04 - output_0_loss: 4.4488e-04 - output_1_loss: 4.3675e-04 - output_0_accuracy: 1.0000 - output_1_accuracy: 1.0000 - val_loss: 382.7959 - val_output_0_loss: 192.0797 - val_output_1_loss: 190.7163 - val_output_0_accuracy: 0.5531 - val_output_1_accuracy: 0.5516 - 2s/epoch - 7ms/step\n",
      "Epoch 24/40\n",
      "255/255 - 2s - loss: 7.6157e-04 - output_0_loss: 3.8376e-04 - output_1_loss: 3.7780e-04 - output_0_accuracy: 1.0000 - output_1_accuracy: 1.0000 - val_loss: 382.5010 - val_output_0_loss: 192.0652 - val_output_1_loss: 190.4358 - val_output_0_accuracy: 0.5526 - val_output_1_accuracy: 0.5519 - 2s/epoch - 7ms/step\n",
      "Epoch 25/40\n",
      "255/255 - 2s - loss: 6.6426e-04 - output_0_loss: 3.3524e-04 - output_1_loss: 3.2902e-04 - output_0_accuracy: 1.0000 - output_1_accuracy: 1.0000 - val_loss: 390.2528 - val_output_0_loss: 195.8939 - val_output_1_loss: 194.3589 - val_output_0_accuracy: 0.5517 - val_output_1_accuracy: 0.5508 - 2s/epoch - 7ms/step\n",
      "Epoch 26/40\n",
      "255/255 - 2s - loss: 5.4963e-04 - output_0_loss: 2.7718e-04 - output_1_loss: 2.7245e-04 - output_0_accuracy: 1.0000 - output_1_accuracy: 1.0000 - val_loss: 393.0962 - val_output_0_loss: 197.3502 - val_output_1_loss: 195.7461 - val_output_0_accuracy: 0.5533 - val_output_1_accuracy: 0.5519 - 2s/epoch - 7ms/step\n",
      "Epoch 27/40\n",
      "255/255 - 2s - loss: 4.9088e-04 - output_0_loss: 2.4714e-04 - output_1_loss: 2.4374e-04 - output_0_accuracy: 1.0000 - output_1_accuracy: 1.0000 - val_loss: 398.8952 - val_output_0_loss: 200.2490 - val_output_1_loss: 198.6463 - val_output_0_accuracy: 0.5519 - val_output_1_accuracy: 0.5500 - 2s/epoch - 7ms/step\n",
      "Epoch 28/40\n",
      "255/255 - 2s - loss: 4.3412e-04 - output_0_loss: 2.1842e-04 - output_1_loss: 2.1570e-04 - output_0_accuracy: 1.0000 - output_1_accuracy: 1.0000 - val_loss: 401.8490 - val_output_0_loss: 201.7791 - val_output_1_loss: 200.0700 - val_output_0_accuracy: 0.5526 - val_output_1_accuracy: 0.5508 - 2s/epoch - 7ms/step\n",
      "Epoch 29/40\n",
      "255/255 - 2s - loss: 3.5281e-04 - output_0_loss: 1.7732e-04 - output_1_loss: 1.7549e-04 - output_0_accuracy: 1.0000 - output_1_accuracy: 1.0000 - val_loss: 408.3999 - val_output_0_loss: 205.0148 - val_output_1_loss: 203.3851 - val_output_0_accuracy: 0.5520 - val_output_1_accuracy: 0.5499 - 2s/epoch - 7ms/step\n",
      "Epoch 30/40\n",
      "255/255 - 2s - loss: 3.3824e-04 - output_0_loss: 1.7018e-04 - output_1_loss: 1.6806e-04 - output_0_accuracy: 1.0000 - output_1_accuracy: 1.0000 - val_loss: 411.4915 - val_output_0_loss: 206.7305 - val_output_1_loss: 204.7610 - val_output_0_accuracy: 0.5513 - val_output_1_accuracy: 0.5494 - 2s/epoch - 7ms/step\n",
      "Epoch 31/40\n",
      "255/255 - 2s - loss: 2.8216e-04 - output_0_loss: 1.4167e-04 - output_1_loss: 1.4049e-04 - output_0_accuracy: 1.0000 - output_1_accuracy: 1.0000 - val_loss: 416.9382 - val_output_0_loss: 209.5694 - val_output_1_loss: 207.3688 - val_output_0_accuracy: 0.5525 - val_output_1_accuracy: 0.5508 - 2s/epoch - 8ms/step\n",
      "Epoch 32/40\n",
      "255/255 - 2s - loss: 2.7843e-04 - output_0_loss: 1.3895e-04 - output_1_loss: 1.3948e-04 - output_0_accuracy: 1.0000 - output_1_accuracy: 1.0000 - val_loss: 419.5262 - val_output_0_loss: 210.8494 - val_output_1_loss: 208.6766 - val_output_0_accuracy: 0.5523 - val_output_1_accuracy: 0.5508 - 2s/epoch - 8ms/step\n",
      "Epoch 33/40\n",
      "255/255 - 2s - loss: 2.0104e-04 - output_0_loss: 1.0046e-04 - output_1_loss: 1.0057e-04 - output_0_accuracy: 1.0000 - output_1_accuracy: 1.0000 - val_loss: 424.4464 - val_output_0_loss: 213.5172 - val_output_1_loss: 210.9291 - val_output_0_accuracy: 0.5517 - val_output_1_accuracy: 0.5503 - 2s/epoch - 7ms/step\n",
      "Epoch 34/40\n",
      "255/255 - 2s - loss: 1.8311e-04 - output_0_loss: 9.1561e-05 - output_1_loss: 9.1552e-05 - output_0_accuracy: 1.0000 - output_1_accuracy: 1.0000 - val_loss: 427.0483 - val_output_0_loss: 214.8181 - val_output_1_loss: 212.2302 - val_output_0_accuracy: 0.5522 - val_output_1_accuracy: 0.5517 - 2s/epoch - 8ms/step\n",
      "Epoch 35/40\n",
      "255/255 - 2s - loss: 1.6005e-04 - output_0_loss: 7.9858e-05 - output_1_loss: 8.0190e-05 - output_0_accuracy: 1.0000 - output_1_accuracy: 1.0000 - val_loss: 433.6361 - val_output_0_loss: 218.1374 - val_output_1_loss: 215.4986 - val_output_0_accuracy: 0.5520 - val_output_1_accuracy: 0.5511 - 2s/epoch - 8ms/step\n",
      "Epoch 36/40\n",
      "255/255 - 2s - loss: 1.3909e-04 - output_0_loss: 6.9221e-05 - output_1_loss: 6.9866e-05 - output_0_accuracy: 1.0000 - output_1_accuracy: 1.0000 - val_loss: 437.4709 - val_output_0_loss: 220.1505 - val_output_1_loss: 217.3204 - val_output_0_accuracy: 0.5506 - val_output_1_accuracy: 0.5500 - 2s/epoch - 8ms/step\n",
      "Epoch 37/40\n",
      "255/255 - 2s - loss: 1.3464e-04 - output_0_loss: 6.6652e-05 - output_1_loss: 6.7990e-05 - output_0_accuracy: 1.0000 - output_1_accuracy: 1.0000 - val_loss: 442.3123 - val_output_0_loss: 222.6263 - val_output_1_loss: 219.6861 - val_output_0_accuracy: 0.5513 - val_output_1_accuracy: 0.5506 - 2s/epoch - 7ms/step\n",
      "Epoch 38/40\n",
      "255/255 - 2s - loss: 1.1314e-04 - output_0_loss: 5.6115e-05 - output_1_loss: 5.7029e-05 - output_0_accuracy: 1.0000 - output_1_accuracy: 1.0000 - val_loss: 447.2453 - val_output_0_loss: 224.8172 - val_output_1_loss: 222.4281 - val_output_0_accuracy: 0.5499 - val_output_1_accuracy: 0.5485 - 2s/epoch - 7ms/step\n",
      "Epoch 39/40\n",
      "255/255 - 2s - loss: 9.8084e-05 - output_0_loss: 4.8633e-05 - output_1_loss: 4.9451e-05 - output_0_accuracy: 1.0000 - output_1_accuracy: 1.0000 - val_loss: 453.4902 - val_output_0_loss: 228.0698 - val_output_1_loss: 225.4205 - val_output_0_accuracy: 0.5508 - val_output_1_accuracy: 0.5496 - 2s/epoch - 7ms/step\n",
      "Epoch 40/40\n",
      "255/255 - 2s - loss: 7.9128e-05 - output_0_loss: 3.9389e-05 - output_1_loss: 3.9739e-05 - output_0_accuracy: 1.0000 - output_1_accuracy: 1.0000 - val_loss: 457.4222 - val_output_0_loss: 230.0865 - val_output_1_loss: 227.3357 - val_output_0_accuracy: 0.5511 - val_output_1_accuracy: 0.5499 - 2s/epoch - 7ms/step\n",
      "\n"
     ]
    },
    {
     "name": "stderr",
     "output_type": "stream",
     "text": [
      "c:\\Code\\ARCLab Challenge\\splid-challenge\\base\\prediction_models.py:62: UserWarning: FigureCanvasAgg is non-interactive, and thus cannot be shown\n",
      "  fig.show()\n"
     ]
    },
    {
     "data": {
      "image/png": "[encoded data removed]",
      "text/plain": [
       "<Figure size 400x300 with 1 Axes>"
      ]
     },
     "metadata": {},
     "output_type": "display_data"
    }
   ],
   "source": [
    "train_combined, val_combined = ds_gen.get_datasets(128, label_features=['EW', 'NS'], shuffle=True)\n",
    "print(train_combined.element_spec)\n",
    "dense_combined_model = prediction_models.Dense_NN(train_combined, dense_layers=[512,512], l2_reg=0.00, mixed_dropout=0.0, seed=0)\n",
    "dense_combined_model.summary()\n",
    "hist = dense_combined_model.fit(train_combined, val_ds=val_combined, epochs=40, verbose=2, plot_hist=True)"
   ]
  },
  {
   "cell_type": "code",
   "execution_count": null,
   "metadata": {},
   "outputs": [],
   "source": [
    "# TODO: find out if we can directly train for precision/challenge metrics\n",
    "# TODO: maybe it makes sense to look at values before and after the node? Given that we are trying to detect changes...\n",
    "# TODO: check if train_NS even contains all the labels in val_NS... in general, train should contain all labels\n",
    "# TODO: Make sure labelencoder gets saved\n",
    "# TODO: Support models with different label features in the submission pipeline"
   ]
  },
  {
   "cell_type": "code",
   "execution_count": 259,
   "metadata": {},
   "outputs": [],
   "source": [
    "def perform_submission_evaluation(ds_EW, ds_NS, label_encoder, model_ew, model_ns):\n",
    "    # This approach is dirty, but serves the purpose well\n",
    "    # inputs and identifiers are identical for both sets\n",
    "    inputs = np.concatenate([element for element in ds_EW.map(lambda x,y,z: x).as_numpy_iterator()])\n",
    "    labels_EW = np.concatenate([element for element in ds_EW.map(lambda x,y,z: y).as_numpy_iterator()]).reshape(-1,1) # turn (n,) to (n,1)\n",
    "    labels_NS = np.concatenate([element for element in ds_NS.map(lambda x,y,z: y).as_numpy_iterator()]).reshape(-1,1)\n",
    "    identifiers = np.concatenate([element for element in ds_EW.map(lambda x,y,z: z).as_numpy_iterator()])#[:,0,:]\n",
    "    #print(inputs.shape, labels_EW.shape, labels_NS.shape, identifiers.shape)\n",
    "    # perform evaluation and prediction\n",
    "    #model_ew.evaluate(inputs, labels_EW)\n",
    "    #model_ns.evaluate(inputs, labels_NS)\n",
    "    preds_ew, preds_ns = model_ew.predict(inputs)\n",
    "    preds_ew_argmax = np.argmax(preds_ew, axis=1).reshape(-1,1)\n",
    "    #preds_ns = model_ns.predict(inputs)\n",
    "    preds_ns_argmax = np.argmax(preds_ns, axis=1).reshape(-1,1)\n",
    "    # create dataframe that contains all the necessary data\n",
    "    df = pd.DataFrame(np.concatenate([identifiers.reshape(-1,2), labels_EW, preds_ew_argmax, labels_NS, preds_ns_argmax], axis=1), columns=['ObjectID', 'TimeIndex', 'EW', 'Predicted_EW', 'NS', 'Predicted_NS'], dtype=np.int32)\n",
    "    # now remove unnecessary columns, decode prediction\n",
    "    df['Predicted_EW'] = label_encoder.inverse_transform(df['Predicted_EW'])\n",
    "    df['Predicted_NS'] = label_encoder.inverse_transform(df['Predicted_NS'])\n",
    "    df['EW'] = label_encoder.inverse_transform(df['EW'])\n",
    "    df['NS'] = label_encoder.inverse_transform(df['NS'])\n",
    "    return df"
   ]
  },
  {
   "cell_type": "code",
   "execution_count": 254,
   "metadata": {},
   "outputs": [],
   "source": [
    "def prepare_submission_df(ds, model, model_output_features, label_decoders):\n",
    "    '''Prepare dataframes for submission based on models predictions. The output_labels need to be in the same order as they were when creating the dataset!'''\n",
    "    assert(len(model_output_features) == len(label_decoders))\n",
    "    inputs = np.concatenate([element for element in ds.map(lambda *args: args[0]).as_numpy_iterator()])\n",
    "    identifiers = np.concatenate([element for element in ds.map(lambda *args: args[-1]).as_numpy_iterator()])\n",
    "    \n",
    "    df = pd.DataFrame(np.concatenate([identifiers.reshape(-1,2)], axis=1), columns=['ObjectID', 'TimeIndex'], dtype=np.int32)\n",
    "\n",
    "    preds = model.predict(inputs)\n",
    "    for ft_idx, feature in enumerate(model_output_features):\n",
    "        labels = np.concatenate([element for element in ds.map(lambda *args: args[1+ft_idx]).as_numpy_iterator()])\n",
    "        labels_decoded = label_decoders[ft_idx].inverse_transform(labels)\n",
    "        preds_argmax = np.argmax(preds[ft_idx], axis=1)\n",
    "        preds_decoded = label_decoders[ft_idx].inverse_transform(preds_argmax)\n",
    "        df[f'{feature}'] = preds_decoded\n",
    "        df[f'Predicted_{feature}'] = labels_decoded\n",
    "        print(labels[:5])\n",
    "        print(preds_argmax[:5])\n",
    "        print(preds_decoded[:5]) # suspicously not different...\n",
    "    return df\n"
   ]
  },
  {
   "cell_type": "code",
   "execution_count": 252,
   "metadata": {},
   "outputs": [
    {
     "name": "stdout",
     "output_type": "stream",
     "text": [
      "1019/1019 [==============================] - 2s 2ms/step\n",
      "   ObjectID  TimeIndex     EW Predicted_EW     NS Predicted_NS\n",
      "0         1          0  SS-CK        SS-CK  SS-CK        SS-NK\n",
      "1         1          1  SS-CK        SS-CK  SS-CK        SS-NK\n",
      "2         1          2  SS-CK        SS-CK  SS-CK        SS-NK\n",
      "3         1          3  SS-CK        SS-CK  SS-CK        SS-NK\n",
      "4         1          4  SS-CK        SS-CK  SS-CK        SS-NK\n"
     ]
    }
   ],
   "source": [
    "train_EW, val_EW = ds_gen.get_datasets(128, label_features=['EW', 'NS'], shuffle=False, keep_identifier=True)\n",
    "prepare_submission_df(ds=train_EW, model=dense_combined_model.model, model_output_features=['EW', 'NS'], label_decoders=[ds_gen.combined_label_encoder, ds_gen.combined_label_encoder])"
   ]
  },
  {
   "cell_type": "code",
   "execution_count": 256,
   "metadata": {},
   "outputs": [],
   "source": [
    "ground_truth = pd.read_csv(challenge_data_dir / 'train_labels.csv')\n",
    "ground_truth_train = ground_truth[ground_truth['ObjectID'].isin(map(int, ds_gen.train_keys))].copy()\n",
    "ground_truth_val = ground_truth[ground_truth['ObjectID'].isin(map(int, ds_gen.val_keys))].copy()"
   ]
  },
  {
   "cell_type": "code",
   "execution_count": 257,
   "metadata": {},
   "outputs": [
    {
     "name": "stdout",
     "output_type": "stream",
     "text": [
      "1019/1019 [==============================] - 2s 2ms/step\n"
     ]
    },
    {
     "name": "stderr",
     "output_type": "stream",
     "text": [
      "Smoothing: 100%|██████████| 15/15 [00:16<00:00,  1.11s/it]\n"
     ]
    },
    {
     "name": "stdout",
     "output_type": "stream",
     "text": [
      "Precision for the train set: 1.00\n",
      "Recall for the train set: 0.69\n",
      "F2 for the train set: 0.73\n",
      "RMSE for the train set: 0.30\n"
     ]
    }
   ],
   "source": [
    "train_EW, val_EW = ds_gen.get_datasets(128, label_features=['EW', 'NS'], shuffle=False, keep_identifier=True)\n",
    "df_train=prepare_submission_df(ds=train_EW, model=dense_combined_model.model, model_output_features=['EW', 'NS'], label_decoders=[ds_gen.combined_label_encoder, ds_gen.combined_label_encoder])\n",
    "smoothed_df_train = utils.smooth_predictions(df_train, past_steps=3, fut_steps=4)\n",
    "train_results = utils.convert_classifier_output(smoothed_df_train).sort_values(['ObjectID']).reset_index(drop=True)\n",
    "evaluator = evaluation.NodeDetectionEvaluator(ground_truth_train, train_results)\n",
    "precision, recall, f2, rmse = evaluator.score()\n",
    "print(f'Precision for the train set: {precision:.2f}')\n",
    "print(f'Recall for the train set: {recall:.2f}')\n",
    "print(f'F2 for the train set: {f2:.2f}')\n",
    "print(f'RMSE for the train set: {rmse:.2f}')\n",
    "\n"
   ]
  },
  {
   "cell_type": "code",
   "execution_count": 261,
   "metadata": {},
   "outputs": [
    {
     "name": "stdout",
     "output_type": "stream",
     "text": [
      "204/204 [==============================] - 0s 2ms/step\n"
     ]
    },
    {
     "name": "stderr",
     "output_type": "stream",
     "text": [
      "Smoothing: 100%|██████████| 3/3 [00:03<00:00,  1.10s/it]"
     ]
    },
    {
     "name": "stdout",
     "output_type": "stream",
     "text": [
      "Precision for the val set: 1.00\n",
      "Recall for the val set: 0.70\n",
      "F2 for the val set: 0.74\n",
      "RMSE for the val set: 0.00\n"
     ]
    },
    {
     "name": "stderr",
     "output_type": "stream",
     "text": [
      "\n"
     ]
    }
   ],
   "source": [
    "train_EW, val_EW = ds_gen.get_datasets(128, label_features=['EW', 'NS'], shuffle=False, keep_identifier=True)\n",
    "df_val=prepare_submission_df(ds=val_EW, model=dense_combined_model.model, model_output_features=['EW', 'NS'], label_decoders=[ds_gen.combined_label_encoder, ds_gen.combined_label_encoder])\n",
    "smoothed_df_val = utils.smooth_predictions(df_val)\n",
    "val_results = utils.convert_classifier_output(smoothed_df_val).sort_values(['ObjectID']).reset_index(drop=True)\n",
    "evaluator = evaluation.NodeDetectionEvaluator(ground_truth_val, val_results)\n",
    "precision, recall, f2, rmse = evaluator.score()\n",
    "print(f'Precision for the val set: {precision:.2f}')\n",
    "print(f'Recall for the val set: {recall:.2f}')\n",
    "print(f'F2 for the val set: {f2:.2f}')\n",
    "print(f'RMSE for the val set: {rmse:.2f}')\n"
   ]
  },
  {
   "cell_type": "code",
   "execution_count": null,
   "metadata": {},
   "outputs": [
    {
     "name": "stdout",
     "output_type": "stream",
     "text": [
      "Creating dataset from 18 train and 0 val objects\n",
      "Created datasets with seed 42\n",
      "Training model #1\n",
      "Training model #2\n",
      "Evaluation:\n",
      "306/306 [==============================] - 1s 2ms/step - loss: 0.0168 - accuracy: 1.0000\n",
      "306/306 [==============================] - 1s 2ms/step - loss: 0.0524 - accuracy: 0.9950\n"
     ]
    }
   ],
   "source": [
    "ds_gen_noval = datahandler.DatasetGenerator(split_df=split_dataframes, train_val_split=1.0, stride=1, input_steps=15)\n",
    "train_EW, train_NS = ds_gen_noval.get_datasets(128, shuffle=True)\n",
    "dense_model_ew = prediction_models.Dense_NN(train_EW, dense_layers=[128,128], l2_reg=0.0002, mixed_dropout=0.1)\n",
    "dense_model_ns = prediction_models.Dense_NN(train_EW, dense_layers=[128,128], l2_reg=0.0002, mixed_dropout=0.1)\n",
    "print(\"Training model #1\")\n",
    "hist_ew = dense_model_ew.fit(train_EW, epochs=40, verbose=0, plot_hist=False) # TODO: somehow this sometimes has save_best_only enabled?? even though its only enabled in 2nd fit? ... do inherited models somehow modify the mother class?!?\n",
    "print(\"Training model #2\")\n",
    "hist_ns = dense_model_ns.fit(train_NS, epochs=40, verbose=0, plot_hist=False)\n",
    "print(\"Evaluation:\")\n",
    "eval_res = dense_model_ew.model.evaluate(train_EW)\n",
    "eval_res = dense_model_ns.model.evaluate(train_NS)"
   ]
  },
  {
   "cell_type": "code",
   "execution_count": null,
   "metadata": {},
   "outputs": [
    {
     "name": "stderr",
     "output_type": "stream",
     "text": [
      "c:\\Users\\David\\anaconda3\\envs\\splid\\lib\\site-packages\\keras\\src\\engine\\training.py:3103: UserWarning: You are saving your model as an HDF5 file via `model.save()`. This file format is considered legacy. We recommend using instead the native Keras format, e.g. `model.save('my_model.keras')`.\n",
      "  saving_api.save_model(\n"
     ]
    }
   ],
   "source": [
    "dense_model_ew.model.save('trained_models/dense_model_ew.h5')\n",
    "dense_model_ns.model.save('trained_models/dense_model_ns.h5')"
   ]
  },
  {
   "cell_type": "code",
   "execution_count": null,
   "metadata": {},
   "outputs": [
    {
     "name": "stdout",
     "output_type": "stream",
     "text": [
      "306/306 [==============================] - 1s 2ms/step\n",
      "Model: \"model_4\"\n",
      "_________________________________________________________________\n",
      " Layer (type)                Output Shape              Param #   \n",
      "=================================================================\n",
      " input_5 (InputLayer)        [(None, 15, 16)]          0         \n",
      "                                                                 \n",
      " flatten_4 (Flatten)         (None, 240)               0         \n",
      "                                                                 \n",
      " dense_12 (Dense)            (None, 128)               30848     \n",
      "                                                                 \n",
      " dropout_8 (Dropout)         (None, 128)               0         \n",
      "                                                                 \n",
      " dense_13 (Dense)            (None, 128)               16512     \n",
      "                                                                 \n",
      " dropout_9 (Dropout)         (None, 128)               0         \n",
      "                                                                 \n",
      " dense_14 (Dense)            (None, 20)                2580      \n",
      "                                                                 \n",
      "=================================================================\n",
      "Total params: 49940 (195.08 KB)\n",
      "Trainable params: 49940 (195.08 KB)\n",
      "Non-trainable params: 0 (0.00 Byte)\n",
      "_________________________________________________________________\n"
     ]
    }
   ],
   "source": [
    "new_model = tf.keras.models.load_model('trained_models/dense_model_ew.h5')\n",
    "new_model.predict(train_EW)\n",
    "new_model.summary()"
   ]
  },
  {
   "cell_type": "code",
   "execution_count": null,
   "metadata": {},
   "outputs": [
    {
     "name": "stdout",
     "output_type": "stream",
     "text": [
      "Precision for the val set: 0.73\n",
      "Recall for the val set: 0.65\n",
      "F2 for the val set: 0.66\n",
      "RMSE for the val set: 0.46\n"
     ]
    }
   ],
   "source": [
    "ground_truth = pd.read_csv(challenge_data_dir / 'train_labels.csv')\n",
    "predictions_final = pd.read_csv('submission/submission.csv')\n",
    "evaluator = evaluation.NodeDetectionEvaluator(ground_truth, predictions_final)\n",
    "precision, recall, f2, rmse = evaluator.score()\n",
    "print(f'Precision for the val set: {precision:.2f}')\n",
    "print(f'Recall for the val set: {recall:.2f}')\n",
    "print(f'F2 for the val set: {f2:.2f}')\n",
    "print(f'RMSE for the val set: {rmse:.2f}')"
   ]
  }
 ],
 "metadata": {
  "kernelspec": {
   "display_name": "splid",
   "language": "python",
   "name": "python3"
  },
  "language_info": {
   "codemirror_mode": {
    "name": "ipython",
    "version": 3
   },
   "file_extension": ".py",
   "mimetype": "text/x-python",
   "name": "python",
   "nbconvert_exporter": "python",
   "pygments_lexer": "ipython3",
   "version": "3.10.13"
  }
 },
 "nbformat": 4,
 "nbformat_minor": 2
}
