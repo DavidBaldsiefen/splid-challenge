{
 "cells": [
  {
   "cell_type": "code",
   "execution_count": 51,
   "metadata": {},
   "outputs": [],
   "source": [
    "import pandas as pd\n",
    "import numpy as np\n",
    "import tensorflow as tf\n",
    "from pathlib import Path\n",
    "from tqdm import tqdm\n",
    "import random"
   ]
  },
  {
   "cell_type": "code",
   "execution_count": 52,
   "metadata": {},
   "outputs": [
    {
     "name": "stdout",
     "output_type": "stream",
     "text": [
      "The autoreload extension is already loaded. To reload it, use:\n",
      "  %reload_ext autoreload\n"
     ]
    }
   ],
   "source": [
    "%load_ext autoreload\n",
    "%autoreload 2\n",
    "from base import utils, datahandler, prediction_models, evaluation"
   ]
  },
  {
   "cell_type": "code",
   "execution_count": 53,
   "metadata": {},
   "outputs": [],
   "source": [
    "# Define the directory paths\n",
    "challenge_data_dir = Path('dataset/')\n",
    "data_dir = challenge_data_dir / \"train\"\n",
    "labels_dir = challenge_data_dir / 'train_labels.csv'\n",
    "\n",
    "split_dataframes = datahandler.load_and_prepare_dataframes(data_dir, labels_dir)"
   ]
  },
  {
   "cell_type": "code",
   "execution_count": 54,
   "metadata": {},
   "outputs": [
    {
     "name": "stdout",
     "output_type": "stream",
     "text": [
      "['SS-CK', 'SS-HK', 'SS-EK']\n",
      "['SS-CK', 'SS-HK']\n",
      "['SS-NK', 'IK-CK', 'SS-CK', 'SS-HK', 'IK-HK']\n",
      "['SS-NK', 'IK-CK', 'SS-HK']\n"
     ]
    }
   ],
   "source": [
    "# get all labels in the dataframes\n",
    "keys_list = list(split_dataframes.keys())\n",
    "random.Random(69).shuffle(keys_list) # shuffle, but with a seed for reproducability\n",
    "split_idx = int(len(keys_list) * 0.8)\n",
    "train_keys = keys_list[:split_idx]\n",
    "train_labels_EW = []\n",
    "train_labels_NS = []\n",
    "val_keys = keys_list[split_idx:]\n",
    "val_labels_EW = []\n",
    "val_labels_NS = []\n",
    "for key in train_keys:\n",
    "    train_labels_EW += list(split_dataframes[key]['EW'].unique())\n",
    "    train_labels_NS += list(split_dataframes[key]['NS'].unique())\n",
    "for key in val_keys:\n",
    "    val_labels_EW += list(split_dataframes[key]['EW'].unique())\n",
    "    val_labels_NS += list(split_dataframes[key]['NS'].unique())\n",
    "train_labels_EW = list(dict.fromkeys(train_labels_EW))\n",
    "train_labels_NS = list(dict.fromkeys(train_labels_NS))\n",
    "val_labels_EW = list(dict.fromkeys(val_labels_EW))\n",
    "val_labels_NS = list(dict.fromkeys(val_labels_NS))\n",
    "print(train_labels_EW)\n",
    "print(val_labels_EW)\n",
    "print(train_labels_NS)\n",
    "print(val_labels_NS)\n"
   ]
  },
  {
   "cell_type": "code",
   "execution_count": 297,
   "metadata": {},
   "outputs": [
    {
     "name": "stdout",
     "output_type": "stream",
     "text": [
      "Creating dataset from 15 train and 3 val objects\n",
      "Creating datasets with labels ['EW', 'EW_Node', 'EW_Type', 'NS', 'NS_Node', 'NS_Type']\n",
      "Created datasets with seed 69\n"
     ]
    }
   ],
   "source": [
    "ds_gen = datahandler.DatasetGenerator(split_df=split_dataframes, train_val_split=0.85, stride=1, input_steps=8, seed=69)"
   ]
  },
  {
   "cell_type": "code",
   "execution_count": 271,
   "metadata": {},
   "outputs": [
    {
     "name": "stdout",
     "output_type": "stream",
     "text": [
      "Training model #1\n",
      "Training model #2\n",
      "EW results:\n",
      "255/255 [==============================] - 1s 3ms/step - loss: 2.2578e-06 - accuracy: 1.0000\n",
      "51/51 [==============================] - 0s 3ms/step - loss: 11.8038 - accuracy: 0.5483\n",
      "NS results:\n",
      "255/255 [==============================] - 1s 3ms/step - loss: 0.0083 - accuracy: 0.9965\n",
      "51/51 [==============================] - 0s 3ms/step - loss: 26.7497 - accuracy: 0.3017\n"
     ]
    },
    {
     "data": {
      "text/plain": [
       "[26.749740600585938, 0.3017188310623169]"
      ]
     },
     "execution_count": 271,
     "metadata": {},
     "output_type": "execute_result"
    }
   ],
   "source": [
    "train_EW, val_EW = ds_gen.get_datasets(128, label_features=['EW'], shuffle=True)\n",
    "train_NS, val_NS = ds_gen.get_datasets(128, label_features=['NS'], shuffle=True)\n",
    "#dense_model_ew = prediction_models.Dense_NN(train_EW, dense_layers=[512,256,32], l2_reg=0.0001, mixed_dropout=0.2)\n",
    "#dense_model_ns = prediction_models.Dense_NN(train_EW, dense_layers=[512,256,32], l2_reg=0.0001, mixed_dropout=0.2)\n",
    "dense_model_ew = prediction_models.Dense_NN(train_EW, dense_layers=[512,512], l2_reg=0.00, mixed_dropout=0.0, seed=0)\n",
    "dense_model_ns = prediction_models.Dense_NN(train_NS, dense_layers=[512,512], l2_reg=0.00, mixed_dropout=0.0, seed=0)\n",
    "print(\"Training model #1\")\n",
    "hist_ew = dense_model_ew.fit(train_EW, val_ds=val_EW, epochs=40, verbose=0, plot_hist=False) # TODO: somehow this sometimes has save_best_only enabled?? even though its only enabled in 2nd fit? ... do inherited models somehow modify the mother class?!?\n",
    "print(\"Training model #2\")\n",
    "hist_ns = dense_model_ns.fit(train_NS, val_ds=val_NS, epochs=40, verbose=0, plot_hist=False)\n",
    "print(\"EW results:\")\n",
    "dense_model_ew.model.evaluate(train_EW)\n",
    "dense_model_ew.model.evaluate(val_EW)\n",
    "print(\"NS results:\")\n",
    "dense_model_ns.model.evaluate(train_NS)\n",
    "dense_model_ns.model.evaluate(val_NS)"
   ]
  },
  {
   "cell_type": "code",
   "execution_count": 315,
   "metadata": {},
   "outputs": [
    {
     "name": "stdout",
     "output_type": "stream",
     "text": [
      "Model: \"model_41\"\n",
      "__________________________________________________________________________________________________\n",
      " Layer (type)                Output Shape                 Param #   Connected to                  \n",
      "==================================================================================================\n",
      " input_43 (InputLayer)       [(None, 8, 16)]              0         []                            \n",
      "                                                                                                  \n",
      " flatten_42 (Flatten)        (None, 128)                  0         ['input_43[0][0]']            \n",
      "                                                                                                  \n",
      " dense_91 (Dense)            (None, 512)                  66048     ['flatten_42[0][0]']          \n",
      "                                                                                                  \n",
      " dropout_29 (Dropout)        (None, 512)                  0         ['dense_91[0][0]']            \n",
      "                                                                                                  \n",
      " dense_92 (Dense)            (None, 512)                  262656    ['dropout_29[0][0]']          \n",
      "                                                                                                  \n",
      " dropout_30 (Dropout)        (None, 512)                  0         ['dense_92[0][0]']            \n",
      "                                                                                                  \n",
      " dense_93 (Dense)            (None, 64)                   32832     ['dropout_30[0][0]']          \n",
      "                                                                                                  \n",
      " dropout_31 (Dropout)        (None, 64)                   0         ['dense_93[0][0]']            \n",
      "                                                                                                  \n",
      " dense_94 (Dense)            (None, 32)                   2080      ['dropout_31[0][0]']          \n",
      "                                                                                                  \n",
      " dropout_32 (Dropout)        (None, 32)                   0         ['dense_94[0][0]']            \n",
      "                                                                                                  \n",
      " output_0 (Dense)            (None, 20)                   660       ['dropout_32[0][0]']          \n",
      "                                                                                                  \n",
      " output_1 (Dense)            (None, 20)                   660       ['dropout_32[0][0]']          \n",
      "                                                                                                  \n",
      "==================================================================================================\n",
      "Total params: 364936 (1.39 MB)\n",
      "Trainable params: 364936 (1.39 MB)\n",
      "Non-trainable params: 0 (0.00 Byte)\n",
      "__________________________________________________________________________________________________\n",
      "Starting training. Optimizing \"loss\"\n",
      "Epoch 1/20\n",
      "WARNING:tensorflow:Can save best model only with val_accuracy available, skipping.\n",
      "\n",
      "Epoch 1: val_loss did not improve from 135.59735\n",
      "\n",
      "Epoch 1: val_loss did not improve from 147.43138\n",
      "WARNING:tensorflow:Can save best model only with train_loss available, skipping.\n",
      "WARNING:tensorflow:Can save best model only with train_loss available, skipping.\n",
      "\n",
      "Epoch 1: loss improved from inf to 5.06732, saving model to best_model.hdf5\n",
      "510/510 - 5s - loss: 5.0673 - output_0_loss: 2.4989 - output_1_loss: 2.5685 - output_0_accuracy: 0.9417 - output_1_accuracy: 0.9429 - val_loss: 147.4314 - val_output_0_loss: 74.4133 - val_output_1_loss: 73.0181 - val_output_0_accuracy: 0.4870 - val_output_1_accuracy: 0.4891 - 5s/epoch - 10ms/step\n",
      "Epoch 2/20\n",
      "WARNING:tensorflow:Can save best model only with val_accuracy available, skipping.\n",
      "\n",
      "Epoch 2: val_loss did not improve from 135.59735\n",
      "\n",
      "Epoch 2: val_loss did not improve from 147.43138\n",
      "WARNING:tensorflow:Can save best model only with train_loss available, skipping.\n",
      "WARNING:tensorflow:Can save best model only with train_loss available, skipping.\n",
      "\n",
      "Epoch 2: loss improved from 5.06732 to 0.96344, saving model to best_model.hdf5\n",
      "510/510 - 3s - loss: 0.9634 - output_0_loss: 0.4777 - output_1_loss: 0.4857 - output_0_accuracy: 0.9886 - output_1_accuracy: 0.9880 - val_loss: 228.0105 - val_output_0_loss: 106.9372 - val_output_1_loss: 121.0732 - val_output_0_accuracy: 0.5365 - val_output_1_accuracy: 0.5359 - 3s/epoch - 6ms/step\n",
      "Epoch 3/20\n",
      "WARNING:tensorflow:Can save best model only with val_accuracy available, skipping.\n",
      "\n",
      "Epoch 3: val_loss did not improve from 135.59735\n",
      "\n",
      "Epoch 3: val_loss did not improve from 147.43138\n",
      "WARNING:tensorflow:Can save best model only with train_loss available, skipping.\n",
      "WARNING:tensorflow:Can save best model only with train_loss available, skipping.\n",
      "\n",
      "Epoch 3: loss improved from 0.96344 to 0.57960, saving model to best_model.hdf5\n",
      "510/510 - 3s - loss: 0.5796 - output_0_loss: 0.2851 - output_1_loss: 0.2945 - output_0_accuracy: 0.9929 - output_1_accuracy: 0.9930 - val_loss: 223.0446 - val_output_0_loss: 104.1241 - val_output_1_loss: 118.9206 - val_output_0_accuracy: 0.5482 - val_output_1_accuracy: 0.5480 - 3s/epoch - 6ms/step\n",
      "Epoch 4/20\n",
      "WARNING:tensorflow:Can save best model only with val_accuracy available, skipping.\n",
      "\n",
      "Epoch 4: val_loss did not improve from 135.59735\n",
      "\n",
      "Epoch 4: val_loss did not improve from 147.43138\n",
      "WARNING:tensorflow:Can save best model only with train_loss available, skipping.\n",
      "WARNING:tensorflow:Can save best model only with train_loss available, skipping.\n",
      "\n",
      "Epoch 4: loss improved from 0.57960 to 0.36534, saving model to best_model.hdf5\n",
      "510/510 - 3s - loss: 0.3653 - output_0_loss: 0.1845 - output_1_loss: 0.1808 - output_0_accuracy: 0.9960 - output_1_accuracy: 0.9958 - val_loss: 256.4825 - val_output_0_loss: 119.2168 - val_output_1_loss: 137.2658 - val_output_0_accuracy: 0.5531 - val_output_1_accuracy: 0.5502 - 3s/epoch - 6ms/step\n",
      "Epoch 5/20\n",
      "WARNING:tensorflow:Can save best model only with val_accuracy available, skipping.\n",
      "\n",
      "Epoch 5: val_loss did not improve from 135.59735\n",
      "\n",
      "Epoch 5: val_loss did not improve from 147.43138\n",
      "WARNING:tensorflow:Can save best model only with train_loss available, skipping.\n",
      "WARNING:tensorflow:Can save best model only with train_loss available, skipping.\n",
      "\n",
      "Epoch 5: loss did not improve from 0.36534\n",
      "510/510 - 3s - loss: 0.4751 - output_0_loss: 0.2385 - output_1_loss: 0.2366 - output_0_accuracy: 0.9944 - output_1_accuracy: 0.9949 - val_loss: 256.4112 - val_output_0_loss: 118.1641 - val_output_1_loss: 138.2471 - val_output_0_accuracy: 0.5098 - val_output_1_accuracy: 0.5110 - 3s/epoch - 6ms/step\n",
      "Epoch 6/20\n",
      "WARNING:tensorflow:Can save best model only with val_accuracy available, skipping.\n",
      "\n",
      "Epoch 6: val_loss did not improve from 135.59735\n",
      "\n",
      "Epoch 6: val_loss did not improve from 147.43138\n",
      "WARNING:tensorflow:Can save best model only with train_loss available, skipping.\n",
      "WARNING:tensorflow:Can save best model only with train_loss available, skipping.\n",
      "\n",
      "Epoch 6: loss improved from 0.36534 to 0.14156, saving model to best_model.hdf5\n",
      "510/510 - 3s - loss: 0.1416 - output_0_loss: 0.0705 - output_1_loss: 0.0711 - output_0_accuracy: 0.9986 - output_1_accuracy: 0.9987 - val_loss: 305.2710 - val_output_0_loss: 141.8209 - val_output_1_loss: 163.4500 - val_output_0_accuracy: 0.5486 - val_output_1_accuracy: 0.5468 - 3s/epoch - 6ms/step\n",
      "Epoch 7/20\n",
      "WARNING:tensorflow:Can save best model only with val_accuracy available, skipping.\n",
      "\n",
      "Epoch 7: val_loss did not improve from 135.59735\n",
      "\n",
      "Epoch 7: val_loss did not improve from 147.43138\n",
      "WARNING:tensorflow:Can save best model only with train_loss available, skipping.\n",
      "WARNING:tensorflow:Can save best model only with train_loss available, skipping.\n",
      "\n",
      "Epoch 7: loss did not improve from 0.14156\n",
      "510/510 - 3s - loss: 0.2826 - output_0_loss: 0.1463 - output_1_loss: 0.1363 - output_0_accuracy: 0.9971 - output_1_accuracy: 0.9974 - val_loss: 234.4600 - val_output_0_loss: 109.8259 - val_output_1_loss: 124.6342 - val_output_0_accuracy: 0.5714 - val_output_1_accuracy: 0.5709 - 3s/epoch - 6ms/step\n",
      "Epoch 8/20\n",
      "WARNING:tensorflow:Can save best model only with val_accuracy available, skipping.\n",
      "\n",
      "Epoch 8: val_loss did not improve from 135.59735\n",
      "\n",
      "Epoch 8: val_loss did not improve from 147.43138\n",
      "WARNING:tensorflow:Can save best model only with train_loss available, skipping.\n",
      "WARNING:tensorflow:Can save best model only with train_loss available, skipping.\n",
      "\n",
      "Epoch 8: loss did not improve from 0.14156\n",
      "510/510 - 3s - loss: 0.3885 - output_0_loss: 0.1960 - output_1_loss: 0.1925 - output_0_accuracy: 0.9962 - output_1_accuracy: 0.9963 - val_loss: 215.8589 - val_output_0_loss: 101.3594 - val_output_1_loss: 114.4995 - val_output_0_accuracy: 0.5608 - val_output_1_accuracy: 0.5617 - 3s/epoch - 6ms/step\n",
      "Epoch 9/20\n",
      "WARNING:tensorflow:Can save best model only with val_accuracy available, skipping.\n",
      "\n",
      "Epoch 9: val_loss did not improve from 135.59735\n",
      "\n",
      "Epoch 9: val_loss did not improve from 147.43138\n",
      "WARNING:tensorflow:Can save best model only with train_loss available, skipping.\n",
      "WARNING:tensorflow:Can save best model only with train_loss available, skipping.\n",
      "\n",
      "Epoch 9: loss improved from 0.14156 to 0.04319, saving model to best_model.hdf5\n",
      "510/510 - 3s - loss: 0.0432 - output_0_loss: 0.0219 - output_1_loss: 0.0213 - output_0_accuracy: 0.9997 - output_1_accuracy: 0.9996 - val_loss: 277.4753 - val_output_0_loss: 136.7665 - val_output_1_loss: 140.7089 - val_output_0_accuracy: 0.5623 - val_output_1_accuracy: 0.5599 - 3s/epoch - 6ms/step\n",
      "Epoch 10/20\n",
      "WARNING:tensorflow:Can save best model only with val_accuracy available, skipping.\n",
      "\n",
      "Epoch 10: val_loss did not improve from 135.59735\n",
      "\n",
      "Epoch 10: val_loss did not improve from 147.43138\n",
      "WARNING:tensorflow:Can save best model only with train_loss available, skipping.\n",
      "WARNING:tensorflow:Can save best model only with train_loss available, skipping.\n",
      "\n",
      "Epoch 10: loss improved from 0.04319 to 0.00150, saving model to best_model.hdf5\n",
      "510/510 - 3s - loss: 0.0015 - output_0_loss: 7.1006e-04 - output_1_loss: 7.9357e-04 - output_0_accuracy: 1.0000 - output_1_accuracy: 1.0000 - val_loss: 311.2128 - val_output_0_loss: 153.4654 - val_output_1_loss: 157.7473 - val_output_0_accuracy: 0.5655 - val_output_1_accuracy: 0.5625 - 3s/epoch - 6ms/step\n",
      "Epoch 11/20\n",
      "WARNING:tensorflow:Can save best model only with val_accuracy available, skipping.\n",
      "\n",
      "Epoch 11: val_loss did not improve from 135.59735\n",
      "\n",
      "Epoch 11: val_loss did not improve from 147.43138\n",
      "WARNING:tensorflow:Can save best model only with train_loss available, skipping.\n",
      "WARNING:tensorflow:Can save best model only with train_loss available, skipping.\n",
      "\n",
      "Epoch 11: loss improved from 0.00150 to 0.00047, saving model to best_model.hdf5\n",
      "510/510 - 3s - loss: 4.7460e-04 - output_0_loss: 2.4405e-04 - output_1_loss: 2.3055e-04 - output_0_accuracy: 1.0000 - output_1_accuracy: 1.0000 - val_loss: 335.3565 - val_output_0_loss: 165.8093 - val_output_1_loss: 169.5473 - val_output_0_accuracy: 0.5634 - val_output_1_accuracy: 0.5617 - 3s/epoch - 6ms/step\n",
      "Epoch 12/20\n",
      "WARNING:tensorflow:Can save best model only with val_accuracy available, skipping.\n",
      "\n",
      "Epoch 12: val_loss did not improve from 135.59735\n",
      "\n",
      "Epoch 12: val_loss did not improve from 147.43138\n",
      "WARNING:tensorflow:Can save best model only with train_loss available, skipping.\n",
      "WARNING:tensorflow:Can save best model only with train_loss available, skipping.\n",
      "\n",
      "Epoch 12: loss improved from 0.00047 to 0.00026, saving model to best_model.hdf5\n",
      "510/510 - 3s - loss: 2.6262e-04 - output_0_loss: 1.3555e-04 - output_1_loss: 1.2706e-04 - output_0_accuracy: 1.0000 - output_1_accuracy: 1.0000 - val_loss: 353.4468 - val_output_0_loss: 175.8247 - val_output_1_loss: 177.6223 - val_output_0_accuracy: 0.5658 - val_output_1_accuracy: 0.5628 - 3s/epoch - 6ms/step\n",
      "Epoch 13/20\n",
      "WARNING:tensorflow:Can save best model only with val_accuracy available, skipping.\n",
      "\n",
      "Epoch 13: val_loss did not improve from 135.59735\n",
      "\n",
      "Epoch 13: val_loss did not improve from 147.43138\n",
      "WARNING:tensorflow:Can save best model only with train_loss available, skipping.\n",
      "WARNING:tensorflow:Can save best model only with train_loss available, skipping.\n",
      "\n",
      "Epoch 13: loss improved from 0.00026 to 0.00018, saving model to best_model.hdf5\n",
      "510/510 - 3s - loss: 1.7822e-04 - output_0_loss: 9.2203e-05 - output_1_loss: 8.6012e-05 - output_0_accuracy: 1.0000 - output_1_accuracy: 1.0000 - val_loss: 368.5695 - val_output_0_loss: 184.2449 - val_output_1_loss: 184.3245 - val_output_0_accuracy: 0.5641 - val_output_1_accuracy: 0.5635 - 3s/epoch - 6ms/step\n",
      "Epoch 14/20\n",
      "WARNING:tensorflow:Can save best model only with val_accuracy available, skipping.\n",
      "\n",
      "Epoch 14: val_loss did not improve from 135.59735\n",
      "\n",
      "Epoch 14: val_loss did not improve from 147.43138\n",
      "WARNING:tensorflow:Can save best model only with train_loss available, skipping.\n",
      "WARNING:tensorflow:Can save best model only with train_loss available, skipping.\n",
      "\n",
      "Epoch 14: loss improved from 0.00018 to 0.00012, saving model to best_model.hdf5\n",
      "510/510 - 3s - loss: 1.2233e-04 - output_0_loss: 5.7682e-05 - output_1_loss: 6.4647e-05 - output_0_accuracy: 1.0000 - output_1_accuracy: 1.0000 - val_loss: 383.4290 - val_output_0_loss: 192.3574 - val_output_1_loss: 191.0717 - val_output_0_accuracy: 0.5640 - val_output_1_accuracy: 0.5637 - 3s/epoch - 6ms/step\n",
      "Epoch 15/20\n",
      "WARNING:tensorflow:Can save best model only with val_accuracy available, skipping.\n",
      "\n",
      "Epoch 15: val_loss did not improve from 135.59735\n",
      "\n",
      "Epoch 15: val_loss did not improve from 147.43138\n",
      "WARNING:tensorflow:Can save best model only with train_loss available, skipping.\n",
      "WARNING:tensorflow:Can save best model only with train_loss available, skipping.\n",
      "\n",
      "Epoch 15: loss improved from 0.00012 to 0.00008, saving model to best_model.hdf5\n",
      "510/510 - 3s - loss: 7.7236e-05 - output_0_loss: 3.5670e-05 - output_1_loss: 4.1567e-05 - output_0_accuracy: 1.0000 - output_1_accuracy: 1.0000 - val_loss: 398.4422 - val_output_0_loss: 200.9624 - val_output_1_loss: 197.4797 - val_output_0_accuracy: 0.5638 - val_output_1_accuracy: 0.5620 - 3s/epoch - 6ms/step\n",
      "Epoch 16/20\n",
      "WARNING:tensorflow:Can save best model only with val_accuracy available, skipping.\n",
      "\n",
      "Epoch 16: val_loss did not improve from 135.59735\n",
      "\n",
      "Epoch 16: val_loss did not improve from 147.43138\n",
      "WARNING:tensorflow:Can save best model only with train_loss available, skipping.\n",
      "WARNING:tensorflow:Can save best model only with train_loss available, skipping.\n",
      "\n",
      "Epoch 16: loss improved from 0.00008 to 0.00005, saving model to best_model.hdf5\n",
      "510/510 - 3s - loss: 5.4872e-05 - output_0_loss: 2.4261e-05 - output_1_loss: 3.0611e-05 - output_0_accuracy: 1.0000 - output_1_accuracy: 1.0000 - val_loss: 418.7776 - val_output_0_loss: 211.7696 - val_output_1_loss: 207.0082 - val_output_0_accuracy: 0.5641 - val_output_1_accuracy: 0.5625 - 3s/epoch - 6ms/step\n",
      "Epoch 17/20\n",
      "WARNING:tensorflow:Can save best model only with val_accuracy available, skipping.\n",
      "\n",
      "Epoch 17: val_loss did not improve from 135.59735\n",
      "\n",
      "Epoch 17: val_loss did not improve from 147.43138\n",
      "WARNING:tensorflow:Can save best model only with train_loss available, skipping.\n",
      "WARNING:tensorflow:Can save best model only with train_loss available, skipping.\n",
      "\n",
      "Epoch 17: loss improved from 0.00005 to 0.00004, saving model to best_model.hdf5\n",
      "510/510 - 3s - loss: 3.8421e-05 - output_0_loss: 1.6681e-05 - output_1_loss: 2.1740e-05 - output_0_accuracy: 1.0000 - output_1_accuracy: 1.0000 - val_loss: 425.7598 - val_output_0_loss: 213.9920 - val_output_1_loss: 211.7677 - val_output_0_accuracy: 0.5615 - val_output_1_accuracy: 0.5599 - 3s/epoch - 6ms/step\n",
      "Epoch 18/20\n",
      "WARNING:tensorflow:Can save best model only with val_accuracy available, skipping.\n",
      "\n",
      "Epoch 18: val_loss did not improve from 135.59735\n",
      "\n",
      "Epoch 18: val_loss did not improve from 147.43138\n",
      "WARNING:tensorflow:Can save best model only with train_loss available, skipping.\n",
      "WARNING:tensorflow:Can save best model only with train_loss available, skipping.\n",
      "\n",
      "Epoch 18: loss improved from 0.00004 to 0.00003, saving model to best_model.hdf5\n",
      "510/510 - 3s - loss: 2.6471e-05 - output_0_loss: 1.1356e-05 - output_1_loss: 1.5115e-05 - output_0_accuracy: 1.0000 - output_1_accuracy: 1.0000 - val_loss: 441.0655 - val_output_0_loss: 221.4268 - val_output_1_loss: 219.6389 - val_output_0_accuracy: 0.5645 - val_output_1_accuracy: 0.5632 - 3s/epoch - 6ms/step\n",
      "Epoch 19/20\n",
      "WARNING:tensorflow:Can save best model only with val_accuracy available, skipping.\n",
      "\n",
      "Epoch 19: val_loss did not improve from 135.59735\n",
      "\n",
      "Epoch 19: val_loss did not improve from 147.43138\n",
      "WARNING:tensorflow:Can save best model only with train_loss available, skipping.\n",
      "WARNING:tensorflow:Can save best model only with train_loss available, skipping.\n",
      "\n",
      "Epoch 19: loss improved from 0.00003 to 0.00002, saving model to best_model.hdf5\n",
      "510/510 - 3s - loss: 1.7497e-05 - output_0_loss: 7.4616e-06 - output_1_loss: 1.0036e-05 - output_0_accuracy: 1.0000 - output_1_accuracy: 1.0000 - val_loss: 451.7131 - val_output_0_loss: 225.9615 - val_output_1_loss: 225.7517 - val_output_0_accuracy: 0.5645 - val_output_1_accuracy: 0.5634 - 3s/epoch - 6ms/step\n",
      "Epoch 20/20\n",
      "WARNING:tensorflow:Can save best model only with val_accuracy available, skipping.\n",
      "\n",
      "Epoch 20: val_loss did not improve from 135.59735\n",
      "\n",
      "Epoch 20: val_loss did not improve from 147.43138\n",
      "WARNING:tensorflow:Can save best model only with train_loss available, skipping.\n",
      "WARNING:tensorflow:Can save best model only with train_loss available, skipping.\n",
      "\n",
      "Epoch 20: loss improved from 0.00002 to 0.00001, saving model to best_model.hdf5\n",
      "510/510 - 3s - loss: 1.1943e-05 - output_0_loss: 5.1814e-06 - output_1_loss: 6.7620e-06 - output_0_accuracy: 1.0000 - output_1_accuracy: 1.0000 - val_loss: 454.9424 - val_output_0_loss: 226.4068 - val_output_1_loss: 228.5357 - val_output_0_accuracy: 0.5654 - val_output_1_accuracy: 0.5635 - 3s/epoch - 7ms/step\n",
      "Finished training after 20 epochs.Lowest loss: 1.194e-05  (epoch 20)\n"
     ]
    },
    {
     "name": "stderr",
     "output_type": "stream",
     "text": [
      "c:\\Code\\ARCLab Challenge\\splid-challenge\\base\\prediction_models.py:62: UserWarning: FigureCanvasAgg is non-interactive, and thus cannot be shown\n",
      "  fig.show()\n"
     ]
    },
    {
     "data": {
      "image/png": "[encoded data removed]",
      "text/plain": [
       "<Figure size 400x300 with 1 Axes>"
      ]
     },
     "metadata": {},
     "output_type": "display_data"
    },
    {
     "data": {
      "image/png": "[encoded data removed]",
      "text/plain": [
       "<Figure size 400x300 with 1 Axes>"
      ]
     },
     "metadata": {},
     "output_type": "display_data"
    }
   ],
   "source": [
    "train_combined, val_combined = ds_gen.get_datasets(64, label_features=['EW', 'NS'], shuffle=True)\n",
    "dense_combined_model = prediction_models.Dense_NN(train_combined, dense_layers=[512,512,64,32], l2_reg=0.0, mixed_dropout=0.15, lr_scheduler=[10000,0.8], seed=0)\n",
    "dense_combined_model.summary()\n",
    "hist = dense_combined_model.fit(train_combined, val_ds=val_combined, target_metric='loss', epochs=20, verbose=2, plot_hist=False, save_best_only=True)\n",
    "dense_combined_model.plot_hist(hist, [k for k in hist.history.keys() if 'loss' in k])\n",
    "dense_combined_model.plot_hist(hist, [k for k in hist.history.keys() if 'accuracy' in k])"
   ]
  },
  {
   "cell_type": "code",
   "execution_count": 316,
   "metadata": {},
   "outputs": [
    {
     "name": "stdout",
     "output_type": "stream",
     "text": [
      "510/510 [==============================] - 2s 3ms/step - loss: 9.3367e-06 - output_0_loss: 4.0657e-06 - output_1_loss: 5.2710e-06 - output_0_accuracy: 1.0000 - output_1_accuracy: 1.0000\n"
     ]
    },
    {
     "data": {
      "text/plain": [
       "[9.3367279987433e-06, 4.065741450176574e-06, 5.270982910587918e-06, 1.0, 1.0]"
      ]
     },
     "execution_count": 316,
     "metadata": {},
     "output_type": "execute_result"
    }
   ],
   "source": [
    "dense_combined_model.evaluate(train_combined)"
   ]
  },
  {
   "cell_type": "code",
   "execution_count": null,
   "metadata": {},
   "outputs": [],
   "source": [
    "# TODO: find out if we can directly train for precision/challenge metrics\n",
    "# TODO: maybe it makes sense to look at values before and after the node? Given that we are trying to detect changes...\n",
    "# TODO: check if train_NS even contains all the labels in val_NS... in general, train should contain all labels\n",
    "# TODO: Make sure labelencoder gets saved"
   ]
  },
  {
   "cell_type": "code",
   "execution_count": 284,
   "metadata": {},
   "outputs": [],
   "source": [
    "def prepare_submission_df(ds, model, model_output_features, label_decoders):\n",
    "    '''Prepare dataframes for submission based on models predictions. The output_labels need to be in the same order as they were when creating the dataset!'''\n",
    "    assert(len(model_output_features) == len(label_decoders))\n",
    "    inputs = np.concatenate([element for element in ds.map(lambda *args: args[0]).as_numpy_iterator()])\n",
    "    identifiers = np.concatenate([element for element in ds.map(lambda *args: args[-1]).as_numpy_iterator()])\n",
    "    \n",
    "    df = pd.DataFrame(np.concatenate([identifiers.reshape(-1,2)], axis=1), columns=['ObjectID', 'TimeIndex'], dtype=np.int32)\n",
    "\n",
    "    preds = model.predict(inputs)\n",
    "    for ft_idx, feature in enumerate(model_output_features):\n",
    "        labels = np.concatenate([element for element in ds.map(lambda *args: args[1+ft_idx]).as_numpy_iterator()])\n",
    "        labels_decoded = label_decoders[ft_idx].inverse_transform(labels)\n",
    "        preds_argmax = np.argmax(preds[ft_idx], axis=1) if len(model_output_features)>1 else np.argmax(preds, axis=1)\n",
    "        preds_decoded = label_decoders[ft_idx].inverse_transform(preds_argmax)\n",
    "        df[f'{feature}'] = labels_decoded\n",
    "        df[f'Predicted_{feature}'] = preds_decoded\n",
    "    return df\n"
   ]
  },
  {
   "cell_type": "code",
   "execution_count": 285,
   "metadata": {},
   "outputs": [],
   "source": [
    "ground_truth = pd.read_csv(challenge_data_dir / 'train_labels.csv')\n",
    "ground_truth_train = ground_truth[ground_truth['ObjectID'].isin(map(int, ds_gen.train_keys))].copy()\n",
    "ground_truth_val = ground_truth[ground_truth['ObjectID'].isin(map(int, ds_gen.val_keys))].copy()"
   ]
  },
  {
   "cell_type": "code",
   "execution_count": 324,
   "metadata": {},
   "outputs": [
    {
     "name": "stdout",
     "output_type": "stream",
     "text": [
      "1019/1019 [==============================] - 2s 2ms/step\n"
     ]
    },
    {
     "name": "stderr",
     "output_type": "stream",
     "text": [
      "Smoothing: 100%|██████████| 15/15 [00:16<00:00,  1.12s/it]\n"
     ]
    },
    {
     "name": "stdout",
     "output_type": "stream",
     "text": [
      "30\n",
      "    ObjectID  TimeIndex Direction Node Type\n",
      "0          1          0        EW   SS   CK\n",
      "1          1          0        NS   SS   CK\n",
      "2          2          0        EW   SS   HK\n",
      "3          2          0        NS   SS   HK\n",
      "4          3          0        EW   SS   CK\n",
      "5          3          0        NS   SS   CK\n",
      "6          4          0        EW   SS   HK\n",
      "7          4          0        NS   SS   HK\n",
      "8          5          0        EW   SS   EK\n",
      "9          5          0        NS   SS   EK\n",
      "10         6          0        EW   SS   CK\n",
      "11         6          0        NS   SS   CK\n",
      "12         7          0        EW   SS   CK\n",
      "13         7          0        NS   SS   CK\n",
      "15         8          0        EW   SS   CK\n",
      "14         8          0        NS   SS   CK\n",
      "16         9          0        EW   SS   CK\n",
      "17         9          0        NS   SS   CK\n",
      "18        11          0        EW   SS   HK\n",
      "19        11          0        NS   SS   HK\n",
      "20        13          0        EW   SS   HK\n",
      "21        13          0        NS   SS   HK\n",
      "22        15          0        EW   SS   EK\n",
      "23        15          0        NS   SS   EK\n",
      "24        16          0        EW   SS   CK\n",
      "25        16          0        NS   SS   CK\n",
      "26        17          0        EW   SS   HK\n",
      "27        17          0        NS   SS   HK\n",
      "28        18          0        EW   SS   CK\n",
      "29        18          0        NS   SS   CK\n",
      "48\n",
      "    ObjectID  TimeIndex Direction Node Type\n",
      "0          1          0        EW   SS   CK\n",
      "1          1          0        NS   SS   NK\n",
      "2          1        168        NS   IK   CK\n",
      "3          1       2171        ES   ES   ES\n",
      "4          2          0        EW   SS   HK\n",
      "5          2          0        NS   SS   HK\n",
      "6          2       2171        ES   ES   ES\n",
      "7          3          0        EW   SS   CK\n",
      "8          3          0        NS   SS   CK\n",
      "9          3       2171        ES   ES   ES\n",
      "10         4          0        EW   SS   HK\n",
      "11         4          0        NS   SS   HK\n",
      "12         4       2171        ES   ES   ES\n",
      "13         5          0        EW   SS   EK\n",
      "14         5          0        NS   SS   CK\n",
      "15         5       2171        ES   ES   ES\n",
      "16         6          0        EW   SS   CK\n",
      "17         6          0        NS   SS   CK\n",
      "18         6       2171        ES   ES   ES\n",
      "19         7          0        EW   SS   CK\n",
      "20         7          0        NS   SS   CK\n",
      "21         7       2171        ES   ES   ES\n",
      "22         8          0        EW   SS   CK\n",
      "23         8          0        NS   SS   CK\n",
      "24         8       2171        ES   ES   ES\n",
      "25         9          0        EW   SS   CK\n",
      "26         9          0        NS   SS   NK\n",
      "27         9        324        NS   IK   CK\n",
      "28         9       2171        ES   ES   ES\n",
      "33        11          0        EW   SS   HK\n",
      "34        11          0        NS   SS   HK\n",
      "35        11       2171        ES   ES   ES\n",
      "39        13          0        EW   SS   HK\n",
      "40        13          0        NS   SS   NK\n",
      "41        13        228        NS   IK   HK\n",
      "42        13       2171        ES   ES   ES\n",
      "46        15          0        EW   SS   EK\n",
      "47        15          0        NS   SS   CK\n",
      "48        15       2171        ES   ES   ES\n",
      "49        16          0        EW   SS   CK\n",
      "50        16          0        NS   SS   CK\n",
      "51        16       2171        ES   ES   ES\n",
      "52        17          0        EW   SS   HK\n",
      "53        17          0        NS   SS   NK\n",
      "54        17       2171        ES   ES   ES\n",
      "55        18          0        EW   SS   CK\n",
      "56        18          0        NS   SS   CK\n",
      "57        18       2171        ES   ES   ES\n",
      "Precision for the train set: 0.80\n",
      "Recall for the train set: 0.57\n",
      "F2 for the train set: 0.61\n",
      "RMSE for the train set: 0.00\n"
     ]
    }
   ],
   "source": [
    "train_EW, val_EW = ds_gen.get_datasets(128, label_features=['EW', 'NS'], shuffle=False, keep_identifier=True)\n",
    "df_train=prepare_submission_df(ds=train_EW, model=dense_combined_model.model, model_output_features=['EW', 'NS'], label_decoders=[ds_gen.combined_label_encoder, ds_gen.combined_label_encoder])\n",
    "smoothed_df_train = utils.smooth_predictions(df_train, past_steps=0, fut_steps=0)\n",
    "train_results = utils.convert_classifier_output(smoothed_df_train).sort_values(['ObjectID']).reset_index(drop=True)\n",
    "print(len(train_results))\n",
    "print(train_results.sort_values(['ObjectID', 'TimeIndex', 'Direction']).head(50))\n",
    "print(len(ground_truth_train))\n",
    "print(ground_truth_train.sort_values(['ObjectID', 'TimeIndex', 'Direction']).head(50))\n",
    "evaluator = evaluation.NodeDetectionEvaluator(ground_truth_train, train_results)\n",
    "precision, recall, f2, rmse = evaluator.score()\n",
    "print(f'Precision for the train set: {precision:.2f}')\n",
    "print(f'Recall for the train set: {recall:.2f}')\n",
    "print(f'F2 for the train set: {f2:.2f}')\n",
    "print(f'RMSE for the train set: {rmse:.2f}')\n",
    "\n",
    "# TODO: we are not predicting a single change with the model right now... leading to ridiculous 0.8 precision\n",
    "# TODO: predict on val with simly ss node and predict engine type... might give quite high precision?"
   ]
  },
  {
   "cell_type": "code",
   "execution_count": 306,
   "metadata": {},
   "outputs": [
    {
     "name": "stdout",
     "output_type": "stream",
     "text": [
      "204/204 [==============================] - 0s 2ms/step\n"
     ]
    },
    {
     "name": "stderr",
     "output_type": "stream",
     "text": [
      "Smoothing: 100%|██████████| 3/3 [00:03<00:00,  1.09s/it]"
     ]
    },
    {
     "name": "stdout",
     "output_type": "stream",
     "text": [
      "Precision for the val set: 0.01\n",
      "Recall for the val set: 0.25\n",
      "F2 for the val set: 0.03\n",
      "RMSE for the val set: 0.00\n"
     ]
    },
    {
     "name": "stderr",
     "output_type": "stream",
     "text": [
      "\n"
     ]
    }
   ],
   "source": [
    "train_EW, val_EW = ds_gen.get_datasets(128, label_features=['EW', 'NS'], shuffle=False, keep_identifier=True)\n",
    "df_val=prepare_submission_df(ds=val_EW, model=dense_combined_model.model, model_output_features=['EW', 'NS'], label_decoders=[ds_gen.combined_label_encoder, ds_gen.combined_label_encoder])\n",
    "smoothed_df_val = utils.smooth_predictions(df_val, past_steps=2, fut_steps=5)\n",
    "val_results = utils.convert_classifier_output(smoothed_df_val).sort_values(['ObjectID']).reset_index(drop=True)\n",
    "evaluator = evaluation.NodeDetectionEvaluator(ground_truth_val, val_results)\n",
    "precision, recall, f2, rmse = evaluator.score()\n",
    "print(f'Precision for the val set: {precision:.2f}')\n",
    "print(f'Recall for the val set: {recall:.2f}')\n",
    "print(f'F2 for the val set: {f2:.2f}')\n",
    "print(f'RMSE for the val set: {rmse:.2f}')\n"
   ]
  },
  {
   "cell_type": "code",
   "execution_count": 288,
   "metadata": {},
   "outputs": [
    {
     "name": "stdout",
     "output_type": "stream",
     "text": [
      "1019/1019 [==============================] - 2s 2ms/step\n",
      "1019/1019 [==============================] - 2s 2ms/step\n"
     ]
    },
    {
     "name": "stderr",
     "output_type": "stream",
     "text": [
      "Smoothing: 100%|██████████| 15/15 [00:16<00:00,  1.12s/it]\n"
     ]
    },
    {
     "name": "stdout",
     "output_type": "stream",
     "text": [
      "Precision for the train set: 0.65\n",
      "Recall for the train set: 0.65\n",
      "F2 for the train set: 0.65\n",
      "RMSE for the train set: 0.58\n"
     ]
    }
   ],
   "source": [
    "train_EW, val_EW = ds_gen.get_datasets(128, label_features=['EW'], shuffle=False, keep_identifier=True)\n",
    "train_NS, val_NS = ds_gen.get_datasets(128, label_features=['NS'], shuffle=False, keep_identifier=True)\n",
    "df_EW = prepare_submission_df(ds=train_EW, model=dense_model_ew.model, model_output_features=['EW'], label_decoders=[ds_gen.combined_label_encoder])\n",
    "df_NS = prepare_submission_df(ds=train_NS, model=dense_model_ns.model, model_output_features=['NS'], label_decoders=[ds_gen.combined_label_encoder])\n",
    "combined_df = df_EW\n",
    "combined_df['NS'] = df_NS['NS']\n",
    "combined_df['Predicted_NS'] = df_NS['Predicted_NS']\n",
    "smoothed_df_val = utils.smooth_predictions(combined_df)\n",
    "train_results = utils.convert_classifier_output(smoothed_df_val).sort_values(['ObjectID']).reset_index(drop=True)\n",
    "evaluator = evaluation.NodeDetectionEvaluator(ground_truth_train, train_results)\n",
    "precision, recall, f2, rmse = evaluator.score()\n",
    "print(f'Precision for the train set: {precision:.2f}')\n",
    "print(f'Recall for the train set: {recall:.2f}')\n",
    "print(f'F2 for the train set: {f2:.2f}')\n",
    "print(f'RMSE for the train set: {rmse:.2f}')"
   ]
  },
  {
   "cell_type": "code",
   "execution_count": null,
   "metadata": {},
   "outputs": [],
   "source": []
  }
 ],
 "metadata": {
  "kernelspec": {
   "display_name": "splid",
   "language": "python",
   "name": "python3"
  },
  "language_info": {
   "codemirror_mode": {
    "name": "ipython",
    "version": 3
   },
   "file_extension": ".py",
   "mimetype": "text/x-python",
   "name": "python",
   "nbconvert_exporter": "python",
   "pygments_lexer": "ipython3",
   "version": "3.10.13"
  }
 },
 "nbformat": 4,
 "nbformat_minor": 2
}
