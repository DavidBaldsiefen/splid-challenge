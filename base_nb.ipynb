{
 "cells": [
  {
   "cell_type": "code",
   "execution_count": 1,
   "metadata": {},
   "outputs": [
    {
     "name": "stderr",
     "output_type": "stream",
     "text": [
      "2024-01-03 17:37:19.733366: I tensorflow/core/util/port.cc:113] oneDNN custom operations are on. You may see slightly different numerical results due to floating-point round-off errors from different computation orders. To turn them off, set the environment variable `TF_ENABLE_ONEDNN_OPTS=0`.\n",
      "2024-01-03 17:37:19.759459: E external/local_xla/xla/stream_executor/cuda/cuda_dnn.cc:9261] Unable to register cuDNN factory: Attempting to register factory for plugin cuDNN when one has already been registered\n",
      "2024-01-03 17:37:19.759494: E external/local_xla/xla/stream_executor/cuda/cuda_fft.cc:607] Unable to register cuFFT factory: Attempting to register factory for plugin cuFFT when one has already been registered\n",
      "2024-01-03 17:37:19.760224: E external/local_xla/xla/stream_executor/cuda/cuda_blas.cc:1515] Unable to register cuBLAS factory: Attempting to register factory for plugin cuBLAS when one has already been registered\n",
      "2024-01-03 17:37:19.764992: I tensorflow/core/platform/cpu_feature_guard.cc:182] This TensorFlow binary is optimized to use available CPU instructions in performance-critical operations.\n",
      "To enable the following instructions: AVX2 AVX_VNNI FMA, in other operations, rebuild TensorFlow with the appropriate compiler flags.\n",
      "2024-01-03 17:37:20.272749: W tensorflow/compiler/tf2tensorrt/utils/py_utils.cc:38] TF-TRT Warning: Could not find TensorRT\n"
     ]
    }
   ],
   "source": [
    "import pandas as pd\n",
    "import numpy as np\n",
    "import tensorflow as tf\n",
    "from pathlib import Path\n",
    "from tqdm import tqdm\n",
    "import random"
   ]
  },
  {
   "cell_type": "code",
   "execution_count": 2,
   "metadata": {},
   "outputs": [],
   "source": [
    "%load_ext autoreload\n",
    "%autoreload 2\n",
    "from base import utils, datahandler, prediction_models, evaluation"
   ]
  },
  {
   "cell_type": "code",
   "execution_count": 3,
   "metadata": {},
   "outputs": [],
   "source": [
    "# Define the directory paths\n",
    "challenge_data_dir = Path('dataset/phase_1/')\n",
    "data_dir = challenge_data_dir / \"train\"\n",
    "labels_dir = challenge_data_dir / 'train_labels.csv'\n",
    "\n",
    "split_dataframes = datahandler.load_and_prepare_dataframes(data_dir, labels_dir)"
   ]
  },
  {
   "cell_type": "code",
   "execution_count": 4,
   "metadata": {},
   "outputs": [],
   "source": [
    "input_features = ['Eccentricity', 'Semimajor Axis (m)', 'Inclination (deg)', 'RAAN (deg)',\n",
    "       'Argument of Periapsis (deg)', 'True Anomaly (deg)', 'Latitude (deg)',\n",
    "       'Longitude (deg)', 'Altitude (m)', 'X (m)', 'Y (m)', 'Z (m)',\n",
    "       'Vx (m/s)', 'Vy (m/s)', 'Vz (m/s)']"
   ]
  },
  {
   "cell_type": "code",
   "execution_count": 5,
   "metadata": {},
   "outputs": [
    {
     "ename": "TypeError",
     "evalue": "'dict_keys' object is not subscriptable",
     "output_type": "error",
     "traceback": [
      "\u001b[0;31m---------------------------------------------------------------------------\u001b[0m",
      "\u001b[0;31mTypeError\u001b[0m                                 Traceback (most recent call last)",
      "Cell \u001b[0;32mIn[5], line 1\u001b[0m\n\u001b[0;32m----> 1\u001b[0m some_dataframes \u001b[38;5;241m=\u001b[39m {df_k : split_dataframes[df_k] \u001b[38;5;28;01mfor\u001b[39;00m df_k \u001b[38;5;129;01min\u001b[39;00m \u001b[43msplit_dataframes\u001b[49m\u001b[38;5;241;43m.\u001b[39;49m\u001b[43mkeys\u001b[49m\u001b[43m(\u001b[49m\u001b[43m)\u001b[49m\u001b[43m[\u001b[49m\u001b[43m:\u001b[49m\u001b[38;5;241;43m20\u001b[39;49m\u001b[43m]\u001b[49m}\n",
      "\u001b[0;31mTypeError\u001b[0m: 'dict_keys' object is not subscriptable"
     ]
    }
   ],
   "source": [
    "some_dataframes = {df_k : split_dataframes[df_k] for df_k in list(split_dataframes.keys())[:20]}"
   ]
  },
  {
   "cell_type": "code",
   "execution_count": 31,
   "metadata": {},
   "outputs": [
    {
     "name": "stdout",
     "output_type": "stream",
     "text": [
      "=========================Creating Dataset=========================\n",
      "Seed: 69\n",
      "nTrain: 17 nVal: 3 (0.85)\n",
      "Warning: Validation set contains labels which do not occur in training set! Maybe try different seed?\n",
      "Labels: ['EW_Node_Location']\n"
     ]
    },
    {
     "ename": "KeyboardInterrupt",
     "evalue": "",
     "output_type": "error",
     "traceback": [
      "\u001b[0;31m---------------------------------------------------------------------------\u001b[0m",
      "\u001b[0;31mKeyboardInterrupt\u001b[0m                         Traceback (most recent call last)",
      "Cell \u001b[0;32mIn[31], line 1\u001b[0m\n\u001b[0;32m----> 1\u001b[0m ds_gen \u001b[38;5;241m=\u001b[39m \u001b[43mdatahandler\u001b[49m\u001b[38;5;241;43m.\u001b[39;49m\u001b[43mDatasetGenerator\u001b[49m\u001b[43m(\u001b[49m\u001b[43msplit_df\u001b[49m\u001b[38;5;241;43m=\u001b[39;49m\u001b[43msome_dataframes\u001b[49m\u001b[43m,\u001b[49m\u001b[43m \u001b[49m\u001b[43minput_features\u001b[49m\u001b[38;5;241;43m=\u001b[39;49m\u001b[43minput_features\u001b[49m\u001b[43m,\u001b[49m\n\u001b[1;32m      2\u001b[0m \u001b[43m                                      \u001b[49m\u001b[43mlabel_features\u001b[49m\u001b[38;5;241;43m=\u001b[39;49m\u001b[43m[\u001b[49m\u001b[38;5;124;43m'\u001b[39;49m\u001b[38;5;124;43mEW_Node_Location\u001b[39;49m\u001b[38;5;124;43m'\u001b[39;49m\u001b[43m]\u001b[49m\u001b[43m,\u001b[49m\n\u001b[1;32m      3\u001b[0m \u001b[43m                                      \u001b[49m\u001b[43mtrain_val_split\u001b[49m\u001b[38;5;241;43m=\u001b[39;49m\u001b[38;5;241;43m0.85\u001b[39;49m\u001b[43m,\u001b[49m\u001b[43m \u001b[49m\u001b[43mstride\u001b[49m\u001b[38;5;241;43m=\u001b[39;49m\u001b[38;5;241;43m1\u001b[39;49m\u001b[43m,\u001b[49m\n\u001b[1;32m      4\u001b[0m \u001b[43m                                      \u001b[49m\u001b[43minput_history_steps\u001b[49m\u001b[38;5;241;43m=\u001b[39;49m\u001b[38;5;241;43m8\u001b[39;49m\u001b[43m,\u001b[49m\u001b[43m \u001b[49m\u001b[43minput_future_steps\u001b[49m\u001b[38;5;241;43m=\u001b[39;49m\u001b[38;5;241;43m8\u001b[39;49m\u001b[43m,\u001b[49m\u001b[43m \u001b[49m\u001b[43mseed\u001b[49m\u001b[38;5;241;43m=\u001b[39;49m\u001b[38;5;241;43m69\u001b[39;49m\u001b[43m)\u001b[49m\n",
      "File \u001b[0;32m~/Code/splid-challenge/base/datahandler.py:173\u001b[0m, in \u001b[0;36mDatasetGenerator.__init__\u001b[0;34m(self, split_df, input_history_steps, input_future_steps, input_features, label_features, stride, shuffle_train_val, seed, train_val_split, scale, verbose)\u001b[0m\n\u001b[1;32m    170\u001b[0m         \u001b[38;5;28mprint\u001b[39m(\u001b[38;5;124m\"\u001b[39m\u001b[38;5;124mNo Labels\u001b[39m\u001b[38;5;124m\"\u001b[39m)\n\u001b[1;32m    172\u001b[0m \u001b[38;5;66;03m# create datasets using timewindows\u001b[39;00m\n\u001b[0;32m--> 173\u001b[0m \u001b[38;5;28mself\u001b[39m\u001b[38;5;241m.\u001b[39m_train_ds \u001b[38;5;241m=\u001b[39m \u001b[38;5;28;43mself\u001b[39;49m\u001b[38;5;241;43m.\u001b[39;49m\u001b[43mcreate_ds_from_dataframes\u001b[49m\u001b[43m(\u001b[49m\u001b[43msplit_df\u001b[49m\u001b[43m,\u001b[49m\u001b[43m \u001b[49m\u001b[38;5;28;43mself\u001b[39;49m\u001b[38;5;241;43m.\u001b[39;49m\u001b[43m_train_keys\u001b[49m\u001b[43m,\u001b[49m\u001b[43m \u001b[49m\u001b[38;5;28;43mself\u001b[39;49m\u001b[38;5;241;43m.\u001b[39;49m\u001b[43m_input_features\u001b[49m\u001b[43m,\u001b[49m\u001b[43m \u001b[49m\u001b[38;5;28;43mself\u001b[39;49m\u001b[38;5;241;43m.\u001b[39;49m\u001b[43m_label_features_encoded\u001b[49m\u001b[43m,\u001b[49m\u001b[43m \u001b[49m\u001b[43minput_history_steps\u001b[49m\u001b[43m,\u001b[49m\u001b[43m \u001b[49m\u001b[43minput_future_steps\u001b[49m\u001b[43m,\u001b[49m\u001b[43m \u001b[49m\u001b[43mstride\u001b[49m\u001b[43m)\u001b[49m\n\u001b[1;32m    174\u001b[0m \u001b[38;5;28mself\u001b[39m\u001b[38;5;241m.\u001b[39m_val_ds \u001b[38;5;241m=\u001b[39m \u001b[38;5;28mself\u001b[39m\u001b[38;5;241m.\u001b[39mcreate_ds_from_dataframes(split_df, \u001b[38;5;28mself\u001b[39m\u001b[38;5;241m.\u001b[39mval_keys, \u001b[38;5;28mself\u001b[39m\u001b[38;5;241m.\u001b[39m_input_features, \u001b[38;5;28mself\u001b[39m\u001b[38;5;241m.\u001b[39m_label_features_encoded, input_history_steps, input_future_steps, stride) \u001b[38;5;28;01mif\u001b[39;00m \u001b[38;5;28mself\u001b[39m\u001b[38;5;241m.\u001b[39mval_keys \u001b[38;5;28;01melse\u001b[39;00m \u001b[38;5;28;01mNone\u001b[39;00m\n\u001b[1;32m    176\u001b[0m \u001b[38;5;28;01mif\u001b[39;00m verbose \u001b[38;5;241m>\u001b[39m \u001b[38;5;241m0\u001b[39m:\n",
      "File \u001b[0;32m~/Code/splid-challenge/base/datahandler.py:197\u001b[0m, in \u001b[0;36mDatasetGenerator.create_ds_from_dataframes\u001b[0;34m(self, split_df, keys, input_features, label_features, input_history_steps, input_future_steps, stride)\u001b[0m\n\u001b[1;32m    195\u001b[0m inputs[current_row] \u001b[38;5;241m=\u001b[39m extended_df[input_features][current_index\u001b[38;5;241m-\u001b[39minput_history_steps:current_index\u001b[38;5;241m+\u001b[39minput_future_steps]\u001b[38;5;241m.\u001b[39mto_numpy(dtype\u001b[38;5;241m=\u001b[39mnp\u001b[38;5;241m.\u001b[39mfloat32)\n\u001b[1;32m    196\u001b[0m \u001b[38;5;28;01mif\u001b[39;00m label_features:\n\u001b[0;32m--> 197\u001b[0m     labels[current_row] \u001b[38;5;241m=\u001b[39m \u001b[43mextended_df\u001b[49m\u001b[43m[\u001b[49m\u001b[43mlabel_features\u001b[49m\u001b[43m]\u001b[49m[current_index\u001b[38;5;241m-\u001b[39m\u001b[38;5;241m1\u001b[39m:current_index] \u001b[38;5;66;03m# -1 as input slice indexing excludes last index, need to slice for 1 element to prevent keyerror\u001b[39;00m\n\u001b[1;32m    198\u001b[0m element_identifiers[current_row] \u001b[38;5;241m=\u001b[39m extended_df[[\u001b[38;5;124m'\u001b[39m\u001b[38;5;124mObjectID\u001b[39m\u001b[38;5;124m'\u001b[39m, \u001b[38;5;124m'\u001b[39m\u001b[38;5;124mTimeIndex\u001b[39m\u001b[38;5;124m'\u001b[39m]][current_index\u001b[38;5;241m-\u001b[39m\u001b[38;5;241m1\u001b[39m:current_index]\u001b[38;5;241m.\u001b[39mto_numpy(dtype\u001b[38;5;241m=\u001b[39mnp\u001b[38;5;241m.\u001b[39mint32) \u001b[38;5;66;03m# see above\u001b[39;00m\n\u001b[1;32m    199\u001b[0m current_index \u001b[38;5;241m+\u001b[39m\u001b[38;5;241m=\u001b[39m stride\n",
      "File \u001b[0;32m~/miniconda3/envs/splid/lib/python3.10/site-packages/pandas/core/frame.py:3899\u001b[0m, in \u001b[0;36mDataFrame.__getitem__\u001b[0;34m(self, key)\u001b[0m\n\u001b[1;32m   3897\u001b[0m     \u001b[38;5;28;01mif\u001b[39;00m is_iterator(key):\n\u001b[1;32m   3898\u001b[0m         key \u001b[38;5;241m=\u001b[39m \u001b[38;5;28mlist\u001b[39m(key)\n\u001b[0;32m-> 3899\u001b[0m     indexer \u001b[38;5;241m=\u001b[39m \u001b[38;5;28;43mself\u001b[39;49m\u001b[38;5;241;43m.\u001b[39;49m\u001b[43mcolumns\u001b[49m\u001b[38;5;241;43m.\u001b[39;49m\u001b[43m_get_indexer_strict\u001b[49m\u001b[43m(\u001b[49m\u001b[43mkey\u001b[49m\u001b[43m,\u001b[49m\u001b[43m \u001b[49m\u001b[38;5;124;43m\"\u001b[39;49m\u001b[38;5;124;43mcolumns\u001b[39;49m\u001b[38;5;124;43m\"\u001b[39;49m\u001b[43m)\u001b[49m[\u001b[38;5;241m1\u001b[39m]\n\u001b[1;32m   3901\u001b[0m \u001b[38;5;66;03m# take() does not accept boolean indexers\u001b[39;00m\n\u001b[1;32m   3902\u001b[0m \u001b[38;5;28;01mif\u001b[39;00m \u001b[38;5;28mgetattr\u001b[39m(indexer, \u001b[38;5;124m\"\u001b[39m\u001b[38;5;124mdtype\u001b[39m\u001b[38;5;124m\"\u001b[39m, \u001b[38;5;28;01mNone\u001b[39;00m) \u001b[38;5;241m==\u001b[39m \u001b[38;5;28mbool\u001b[39m:\n",
      "File \u001b[0;32m~/miniconda3/envs/splid/lib/python3.10/site-packages/pandas/core/indexes/base.py:6110\u001b[0m, in \u001b[0;36mIndex._get_indexer_strict\u001b[0;34m(self, key, axis_name)\u001b[0m\n\u001b[1;32m   6107\u001b[0m     keyarr \u001b[38;5;241m=\u001b[39m com\u001b[38;5;241m.\u001b[39masarray_tuplesafe(keyarr)\n\u001b[1;32m   6109\u001b[0m \u001b[38;5;28;01mif\u001b[39;00m \u001b[38;5;28mself\u001b[39m\u001b[38;5;241m.\u001b[39m_index_as_unique:\n\u001b[0;32m-> 6110\u001b[0m     indexer \u001b[38;5;241m=\u001b[39m \u001b[38;5;28;43mself\u001b[39;49m\u001b[38;5;241;43m.\u001b[39;49m\u001b[43mget_indexer_for\u001b[49m\u001b[43m(\u001b[49m\u001b[43mkeyarr\u001b[49m\u001b[43m)\u001b[49m\n\u001b[1;32m   6111\u001b[0m     keyarr \u001b[38;5;241m=\u001b[39m \u001b[38;5;28mself\u001b[39m\u001b[38;5;241m.\u001b[39mreindex(keyarr)[\u001b[38;5;241m0\u001b[39m]\n\u001b[1;32m   6112\u001b[0m \u001b[38;5;28;01melse\u001b[39;00m:\n",
      "File \u001b[0;32m~/miniconda3/envs/splid/lib/python3.10/site-packages/pandas/core/indexes/base.py:6097\u001b[0m, in \u001b[0;36mIndex.get_indexer_for\u001b[0;34m(self, target)\u001b[0m\n\u001b[1;32m   6079\u001b[0m \u001b[38;5;250m\u001b[39m\u001b[38;5;124;03m\"\"\"\u001b[39;00m\n\u001b[1;32m   6080\u001b[0m \u001b[38;5;124;03mGuaranteed return of an indexer even when non-unique.\u001b[39;00m\n\u001b[1;32m   6081\u001b[0m \n\u001b[0;32m   (...)\u001b[0m\n\u001b[1;32m   6094\u001b[0m \u001b[38;5;124;03marray([0, 2])\u001b[39;00m\n\u001b[1;32m   6095\u001b[0m \u001b[38;5;124;03m\"\"\"\u001b[39;00m\n\u001b[1;32m   6096\u001b[0m \u001b[38;5;28;01mif\u001b[39;00m \u001b[38;5;28mself\u001b[39m\u001b[38;5;241m.\u001b[39m_index_as_unique:\n\u001b[0;32m-> 6097\u001b[0m     \u001b[38;5;28;01mreturn\u001b[39;00m \u001b[38;5;28;43mself\u001b[39;49m\u001b[38;5;241;43m.\u001b[39;49m\u001b[43mget_indexer\u001b[49m\u001b[43m(\u001b[49m\u001b[43mtarget\u001b[49m\u001b[43m)\u001b[49m\n\u001b[1;32m   6098\u001b[0m indexer, _ \u001b[38;5;241m=\u001b[39m \u001b[38;5;28mself\u001b[39m\u001b[38;5;241m.\u001b[39mget_indexer_non_unique(target)\n\u001b[1;32m   6099\u001b[0m \u001b[38;5;28;01mreturn\u001b[39;00m indexer\n",
      "File \u001b[0;32m~/miniconda3/envs/splid/lib/python3.10/site-packages/pandas/core/indexes/base.py:3859\u001b[0m, in \u001b[0;36mIndex.get_indexer\u001b[0;34m(self, target, method, limit, tolerance)\u001b[0m\n\u001b[1;32m   3804\u001b[0m         \u001b[38;5;28;01mraise\u001b[39;00m\n\u001b[1;32m   3806\u001b[0m _index_shared_docs[\n\u001b[1;32m   3807\u001b[0m     \u001b[38;5;124m\"\u001b[39m\u001b[38;5;124mget_indexer\u001b[39m\u001b[38;5;124m\"\u001b[39m\n\u001b[1;32m   3808\u001b[0m ] \u001b[38;5;241m=\u001b[39m \u001b[38;5;124m\"\"\"\u001b[39m\n\u001b[0;32m   (...)\u001b[0m\n\u001b[1;32m   3856\u001b[0m \u001b[38;5;124m    and ``x`` is marked by -1, as it is not in ``index``.\u001b[39m\n\u001b[1;32m   3857\u001b[0m \u001b[38;5;124m    \u001b[39m\u001b[38;5;124m\"\"\"\u001b[39m\n\u001b[0;32m-> 3859\u001b[0m \u001b[38;5;129m@Appender\u001b[39m(_index_shared_docs[\u001b[38;5;124m\"\u001b[39m\u001b[38;5;124mget_indexer\u001b[39m\u001b[38;5;124m\"\u001b[39m] \u001b[38;5;241m%\u001b[39m _index_doc_kwargs)\n\u001b[1;32m   3860\u001b[0m \u001b[38;5;129m@final\u001b[39m\n\u001b[1;32m   3861\u001b[0m \u001b[38;5;28;01mdef\u001b[39;00m \u001b[38;5;21mget_indexer\u001b[39m(\n\u001b[1;32m   3862\u001b[0m     \u001b[38;5;28mself\u001b[39m,\n\u001b[1;32m   3863\u001b[0m     target,\n\u001b[1;32m   3864\u001b[0m     method: ReindexMethod \u001b[38;5;241m|\u001b[39m \u001b[38;5;28;01mNone\u001b[39;00m \u001b[38;5;241m=\u001b[39m \u001b[38;5;28;01mNone\u001b[39;00m,\n\u001b[1;32m   3865\u001b[0m     limit: \u001b[38;5;28mint\u001b[39m \u001b[38;5;241m|\u001b[39m \u001b[38;5;28;01mNone\u001b[39;00m \u001b[38;5;241m=\u001b[39m \u001b[38;5;28;01mNone\u001b[39;00m,\n\u001b[1;32m   3866\u001b[0m     tolerance\u001b[38;5;241m=\u001b[39m\u001b[38;5;28;01mNone\u001b[39;00m,\n\u001b[1;32m   3867\u001b[0m ) \u001b[38;5;241m-\u001b[39m\u001b[38;5;241m>\u001b[39m npt\u001b[38;5;241m.\u001b[39mNDArray[np\u001b[38;5;241m.\u001b[39mintp]:\n\u001b[1;32m   3868\u001b[0m     method \u001b[38;5;241m=\u001b[39m clean_reindex_fill_method(method)\n\u001b[1;32m   3869\u001b[0m     orig_target \u001b[38;5;241m=\u001b[39m target\n",
      "File \u001b[0;32m_pydevd_bundle/pydevd_cython.pyx:1457\u001b[0m, in \u001b[0;36m_pydevd_bundle.pydevd_cython.SafeCallWrapper.__call__\u001b[0;34m()\u001b[0m\n",
      "File \u001b[0;32m_pydevd_bundle/pydevd_cython.pyx:1758\u001b[0m, in \u001b[0;36m_pydevd_bundle.pydevd_cython.ThreadTracer.__call__\u001b[0;34m()\u001b[0m\n",
      "File \u001b[0;32m~/miniconda3/envs/splid/lib/python3.10/site-packages/debugpy/_vendored/pydevd/_pydev_bundle/pydev_is_thread_alive.py:9\u001b[0m, in \u001b[0;36mis_thread_alive\u001b[0;34m(t)\u001b[0m\n\u001b[1;32m      6\u001b[0m _temp \u001b[38;5;241m=\u001b[39m threading\u001b[38;5;241m.\u001b[39mThread()\n\u001b[1;32m      7\u001b[0m \u001b[38;5;28;01mif\u001b[39;00m \u001b[38;5;28mhasattr\u001b[39m(_temp, \u001b[38;5;124m'\u001b[39m\u001b[38;5;124m_is_stopped\u001b[39m\u001b[38;5;124m'\u001b[39m):  \u001b[38;5;66;03m# Python 3.x has this\u001b[39;00m\n\u001b[0;32m----> 9\u001b[0m     \u001b[38;5;28;01mdef\u001b[39;00m \u001b[38;5;21mis_thread_alive\u001b[39m(t):\n\u001b[1;32m     10\u001b[0m         \u001b[38;5;28;01mreturn\u001b[39;00m \u001b[38;5;129;01mnot\u001b[39;00m t\u001b[38;5;241m.\u001b[39m_is_stopped\n\u001b[1;32m     12\u001b[0m \u001b[38;5;28;01melif\u001b[39;00m \u001b[38;5;28mhasattr\u001b[39m(_temp, \u001b[38;5;124m'\u001b[39m\u001b[38;5;124m_Thread__stopped\u001b[39m\u001b[38;5;124m'\u001b[39m):  \u001b[38;5;66;03m# Python 2.x has this\u001b[39;00m\n",
      "\u001b[0;31mKeyboardInterrupt\u001b[0m: "
     ]
    }
   ],
   "source": [
    "ds_gen = datahandler.DatasetGenerator(split_df=some_dataframes, input_features=input_features,\n",
    "                                      label_features=['EW_Node_Location'],\n",
    "                                      train_val_split=0.85, stride=1,\n",
    "                                      input_history_steps=8, input_future_steps=8, seed=69)"
   ]
  },
  {
   "cell_type": "code",
   "execution_count": null,
   "metadata": {},
   "outputs": [
    {
     "name": "stderr",
     "output_type": "stream",
     "text": [
      "2024-01-03 13:27:24.401984: I external/local_tsl/tsl/platform/default/subprocess.cc:304] Start cannot spawn child process: No such file or directory\n"
     ]
    },
    {
     "name": "stdout",
     "output_type": "stream",
     "text": [
      "(TensorSpec(shape=(None, 16, 15), dtype=tf.float64, name=None), {'EW_encoded': TensorSpec(shape=(None,), dtype=tf.int32, name=None), 'NS_encoded': TensorSpec(shape=(None,), dtype=tf.int32, name=None)})\n"
     ]
    }
   ],
   "source": [
    "train_combined, val_combined = ds_gen.get_datasets(512, label_features=['EW', 'NS'], shuffle=True)\n",
    "print(train_combined.element_spec)\n"
   ]
  },
  {
   "cell_type": "code",
   "execution_count": 52,
   "metadata": {},
   "outputs": [
    {
     "name": "stdout",
     "output_type": "stream",
     "text": [
      "Model: \"model_5\"\n",
      "__________________________________________________________________________________________________\n",
      " Layer (type)                Output Shape                 Param #   Connected to                  \n",
      "==================================================================================================\n",
      " Input (InputLayer)          [(None, 16, 15)]             0         []                            \n",
      "                                                                                                  \n",
      " flatten_5 (Flatten)         (None, 240)                  0         ['Input[0][0]']               \n",
      "                                                                                                  \n",
      " dense_15 (Dense)            (None, 256)                  61696     ['flatten_5[0][0]']           \n",
      "                                                                                                  \n",
      " dense_16 (Dense)            (None, 128)                  32896     ['dense_15[0][0]']            \n",
      "                                                                                                  \n",
      " dense_17 (Dense)            (None, 64)                   8256      ['dense_16[0][0]']            \n",
      "                                                                                                  \n",
      " EW (Dense)                  (None, 20)                   1300      ['dense_17[0][0]']            \n",
      "                                                                                                  \n",
      " NS (Dense)                  (None, 20)                   1300      ['dense_17[0][0]']            \n",
      "                                                                                                  \n",
      "==================================================================================================\n",
      "Total params: 105448 (411.91 KB)\n",
      "Trainable params: 105448 (411.91 KB)\n",
      "Non-trainable params: 0 (0.00 Byte)\n",
      "__________________________________________________________________________________________________\n",
      "Starting training. Optimizing \"EW_accuracy\"\n",
      "Epoch 1/75\n",
      "1/9 [==>...........................] - ETA: 6s - loss: 7.0331 - EW_loss: 3.2564 - NS_loss: 3.7767 - EW_accuracy: 0.0000e+00 - NS_accuracy: 0.0000e+00\n",
      "Epoch 1: EW_accuracy improved from -inf to 0.46846, saving model to best_model.hdf5\n",
      "9/9 [==============================] - 1s 20ms/step - loss: 4.3906 - EW_loss: 2.0601 - NS_loss: 2.3305 - EW_accuracy: 0.4685 - NS_accuracy: 0.4190 - val_loss: 0.7035 - val_EW_loss: 0.6542 - val_NS_loss: 0.0493 - val_EW_accuracy: 0.8310 - val_NS_accuracy: 0.9995\n",
      "Epoch 2/75\n",
      "1/9 [==>...........................] - ETA: 0s - loss: 2.1393 - EW_loss: 0.8859 - NS_loss: 1.2534 - EW_accuracy: 0.8965 - NS_accuracy: 0.7324\n",
      "Epoch 2: EW_accuracy improved from 0.46846 to 0.91828, saving model to best_model.hdf5\n",
      "9/9 [==============================] - 0s 9ms/step - loss: 1.1643 - EW_loss: 0.4434 - NS_loss: 0.7209 - EW_accuracy: 0.9183 - NS_accuracy: 0.7986 - val_loss: 0.3949 - val_EW_loss: 0.3866 - val_NS_loss: 0.0084 - val_EW_accuracy: 0.8310 - val_NS_accuracy: 0.9995\n",
      "Epoch 3/75\n",
      "1/9 [==>...........................] - ETA: 0s - loss: 0.4009 - EW_loss: 0.1549 - NS_loss: 0.2460 - EW_accuracy: 0.9629 - NS_accuracy: 0.9336\n",
      "Epoch 3: EW_accuracy improved from 0.91828 to 0.98043, saving model to best_model.hdf5\n",
      "9/9 [==============================] - 0s 9ms/step - loss: 0.2825 - EW_loss: 0.0839 - NS_loss: 0.1986 - EW_accuracy: 0.9804 - NS_accuracy: 0.9372 - val_loss: 0.1976 - val_EW_loss: 0.1956 - val_NS_loss: 0.0019 - val_EW_accuracy: 0.8992 - val_NS_accuracy: 0.9995\n",
      "Epoch 4/75\n",
      "1/9 [==>...........................] - ETA: 0s - loss: 0.1313 - EW_loss: 0.0226 - NS_loss: 0.1087 - EW_accuracy: 0.9980 - NS_accuracy: 0.9629\n",
      "Epoch 4: EW_accuracy improved from 0.98043 to 0.99263, saving model to best_model.hdf5\n",
      "9/9 [==============================] - 0s 9ms/step - loss: 0.1322 - EW_loss: 0.0302 - NS_loss: 0.1020 - EW_accuracy: 0.9926 - NS_accuracy: 0.9669 - val_loss: 0.1477 - val_EW_loss: 0.1460 - val_NS_loss: 0.0018 - val_EW_accuracy: 0.9213 - val_NS_accuracy: 0.9995\n",
      "Epoch 5/75\n",
      "1/9 [==>...........................] - ETA: 0s - loss: 0.1536 - EW_loss: 0.0323 - NS_loss: 0.1213 - EW_accuracy: 0.9922 - NS_accuracy: 0.9609\n",
      "Epoch 5: EW_accuracy improved from 0.99263 to 0.99401, saving model to best_model.hdf5\n",
      "9/9 [==============================] - 0s 9ms/step - loss: 0.0961 - EW_loss: 0.0213 - NS_loss: 0.0749 - EW_accuracy: 0.9940 - NS_accuracy: 0.9703 - val_loss: 0.0904 - val_EW_loss: 0.0889 - val_NS_loss: 0.0015 - val_EW_accuracy: 0.9576 - val_NS_accuracy: 0.9995\n",
      "Epoch 6/75\n",
      "1/9 [==>...........................] - ETA: 0s - loss: 0.0995 - EW_loss: 0.0238 - NS_loss: 0.0757 - EW_accuracy: 0.9922 - NS_accuracy: 0.9629\n",
      "Epoch 6: EW_accuracy did not improve from 0.99401\n",
      "9/9 [==============================] - 0s 9ms/step - loss: 0.0844 - EW_loss: 0.0185 - NS_loss: 0.0659 - EW_accuracy: 0.9940 - NS_accuracy: 0.9742 - val_loss: 0.0680 - val_EW_loss: 0.0665 - val_NS_loss: 0.0015 - val_EW_accuracy: 0.9710 - val_NS_accuracy: 0.9995\n",
      "Epoch 7/75\n",
      "1/9 [==>...........................] - ETA: 0s - loss: 0.0927 - EW_loss: 0.0191 - NS_loss: 0.0736 - EW_accuracy: 0.9941 - NS_accuracy: 0.9668\n",
      "Epoch 7: EW_accuracy improved from 0.99401 to 0.99517, saving model to best_model.hdf5\n",
      "9/9 [==============================] - 0s 9ms/step - loss: 0.0789 - EW_loss: 0.0166 - NS_loss: 0.0623 - EW_accuracy: 0.9952 - NS_accuracy: 0.9703 - val_loss: 0.0672 - val_EW_loss: 0.0657 - val_NS_loss: 0.0015 - val_EW_accuracy: 0.9715 - val_NS_accuracy: 0.9995\n",
      "Epoch 8/75\n",
      "1/9 [==>...........................] - ETA: 0s - loss: 0.0804 - EW_loss: 0.0171 - NS_loss: 0.0633 - EW_accuracy: 0.9902 - NS_accuracy: 0.9746\n",
      "Epoch 8: EW_accuracy improved from 0.99517 to 0.99540, saving model to best_model.hdf5\n",
      "9/9 [==============================] - 0s 9ms/step - loss: 0.0757 - EW_loss: 0.0153 - NS_loss: 0.0604 - EW_accuracy: 0.9954 - NS_accuracy: 0.9751 - val_loss: 0.0701 - val_EW_loss: 0.0686 - val_NS_loss: 0.0015 - val_EW_accuracy: 0.9705 - val_NS_accuracy: 0.9995\n",
      "Epoch 9/75\n",
      "1/9 [==>...........................] - ETA: 0s - loss: 0.0937 - EW_loss: 0.0190 - NS_loss: 0.0748 - EW_accuracy: 0.9941 - NS_accuracy: 0.9648\n",
      "Epoch 9: EW_accuracy improved from 0.99540 to 0.99609, saving model to best_model.hdf5\n",
      "9/9 [==============================] - 0s 10ms/step - loss: 0.0708 - EW_loss: 0.0141 - NS_loss: 0.0567 - EW_accuracy: 0.9961 - NS_accuracy: 0.9728 - val_loss: 0.0580 - val_EW_loss: 0.0565 - val_NS_loss: 0.0015 - val_EW_accuracy: 0.9788 - val_NS_accuracy: 0.9995\n",
      "Epoch 10/75\n",
      "1/9 [==>...........................] - ETA: 0s - loss: 0.0726 - EW_loss: 0.0071 - NS_loss: 0.0656 - EW_accuracy: 1.0000 - NS_accuracy: 0.9688\n",
      "Epoch 10: EW_accuracy did not improve from 0.99609\n",
      "9/9 [==============================] - 0s 8ms/step - loss: 0.0679 - EW_loss: 0.0137 - NS_loss: 0.0541 - EW_accuracy: 0.9956 - NS_accuracy: 0.9717 - val_loss: 0.0479 - val_EW_loss: 0.0464 - val_NS_loss: 0.0015 - val_EW_accuracy: 0.9857 - val_NS_accuracy: 0.9995\n",
      "Epoch 11/75\n",
      "1/9 [==>...........................] - ETA: 0s - loss: 0.0759 - EW_loss: 0.0176 - NS_loss: 0.0583 - EW_accuracy: 0.9922 - NS_accuracy: 0.9766\n",
      "Epoch 11: EW_accuracy did not improve from 0.99609\n",
      "9/9 [==============================] - 0s 9ms/step - loss: 0.0652 - EW_loss: 0.0134 - NS_loss: 0.0518 - EW_accuracy: 0.9961 - NS_accuracy: 0.9756 - val_loss: 0.0445 - val_EW_loss: 0.0430 - val_NS_loss: 0.0015 - val_EW_accuracy: 0.9866 - val_NS_accuracy: 0.9995\n",
      "Epoch 12/75\n",
      "1/9 [==>...........................] - ETA: 0s - loss: 0.0696 - EW_loss: 0.0215 - NS_loss: 0.0481 - EW_accuracy: 0.9902 - NS_accuracy: 0.9785\n",
      "Epoch 12: EW_accuracy improved from 0.99609 to 0.99632, saving model to best_model.hdf5\n",
      "9/9 [==============================] - 0s 9ms/step - loss: 0.0640 - EW_loss: 0.0136 - NS_loss: 0.0505 - EW_accuracy: 0.9963 - NS_accuracy: 0.9772 - val_loss: 0.0466 - val_EW_loss: 0.0450 - val_NS_loss: 0.0015 - val_EW_accuracy: 0.9843 - val_NS_accuracy: 0.9995\n",
      "Epoch 13/75\n",
      "1/9 [==>...........................] - ETA: 0s - loss: 0.0714 - EW_loss: 0.0109 - NS_loss: 0.0606 - EW_accuracy: 0.9961 - NS_accuracy: 0.9766\n",
      "Epoch 13: EW_accuracy did not improve from 0.99632\n",
      "9/9 [==============================] - 0s 9ms/step - loss: 0.0613 - EW_loss: 0.0130 - NS_loss: 0.0483 - EW_accuracy: 0.9959 - NS_accuracy: 0.9791 - val_loss: 0.0468 - val_EW_loss: 0.0453 - val_NS_loss: 0.0015 - val_EW_accuracy: 0.9834 - val_NS_accuracy: 0.9995\n",
      "Epoch 14/75\n",
      "1/9 [==>...........................] - ETA: 0s - loss: 0.0624 - EW_loss: 0.0129 - NS_loss: 0.0495 - EW_accuracy: 0.9980 - NS_accuracy: 0.9707\n",
      "Epoch 14: EW_accuracy improved from 0.99632 to 0.99701, saving model to best_model.hdf5\n",
      "9/9 [==============================] - 0s 10ms/step - loss: 0.0583 - EW_loss: 0.0116 - NS_loss: 0.0467 - EW_accuracy: 0.9970 - NS_accuracy: 0.9795 - val_loss: 0.0428 - val_EW_loss: 0.0413 - val_NS_loss: 0.0015 - val_EW_accuracy: 0.9876 - val_NS_accuracy: 0.9995\n",
      "Epoch 15/75\n",
      "1/9 [==>...........................] - ETA: 0s - loss: 0.0502 - EW_loss: 0.0052 - NS_loss: 0.0450 - EW_accuracy: 1.0000 - NS_accuracy: 0.9824\n",
      "Epoch 15: EW_accuracy did not improve from 0.99701\n",
      "9/9 [==============================] - 0s 8ms/step - loss: 0.0550 - EW_loss: 0.0109 - NS_loss: 0.0441 - EW_accuracy: 0.9970 - NS_accuracy: 0.9807 - val_loss: 0.0399 - val_EW_loss: 0.0384 - val_NS_loss: 0.0015 - val_EW_accuracy: 0.9885 - val_NS_accuracy: 0.9995\n",
      "Epoch 16/75\n",
      "1/9 [==>...........................] - ETA: 0s - loss: 0.0642 - EW_loss: 0.0169 - NS_loss: 0.0473 - EW_accuracy: 0.9941 - NS_accuracy: 0.9746\n",
      "Epoch 16: EW_accuracy did not improve from 0.99701\n",
      "9/9 [==============================] - 0s 8ms/step - loss: 0.0559 - EW_loss: 0.0107 - NS_loss: 0.0452 - EW_accuracy: 0.9970 - NS_accuracy: 0.9770 - val_loss: 0.0362 - val_EW_loss: 0.0346 - val_NS_loss: 0.0016 - val_EW_accuracy: 0.9899 - val_NS_accuracy: 0.9995\n",
      "Epoch 17/75\n",
      "1/9 [==>...........................] - ETA: 0s - loss: 0.0468 - EW_loss: 0.0155 - NS_loss: 0.0313 - EW_accuracy: 0.9941 - NS_accuracy: 0.9883\n",
      "Epoch 17: EW_accuracy improved from 0.99701 to 0.99724, saving model to best_model.hdf5\n",
      "9/9 [==============================] - 0s 9ms/step - loss: 0.0568 - EW_loss: 0.0100 - NS_loss: 0.0467 - EW_accuracy: 0.9972 - NS_accuracy: 0.9800 - val_loss: 0.0348 - val_EW_loss: 0.0333 - val_NS_loss: 0.0015 - val_EW_accuracy: 0.9903 - val_NS_accuracy: 0.9995\n",
      "Epoch 18/75\n",
      "1/9 [==>...........................] - ETA: 0s - loss: 0.0513 - EW_loss: 0.0087 - NS_loss: 0.0426 - EW_accuracy: 0.9961 - NS_accuracy: 0.9805\n",
      "Epoch 18: EW_accuracy improved from 0.99724 to 0.99747, saving model to best_model.hdf5\n",
      "9/9 [==============================] - 0s 9ms/step - loss: 0.0556 - EW_loss: 0.0101 - NS_loss: 0.0455 - EW_accuracy: 0.9975 - NS_accuracy: 0.9772 - val_loss: 0.0372 - val_EW_loss: 0.0356 - val_NS_loss: 0.0016 - val_EW_accuracy: 0.9894 - val_NS_accuracy: 0.9995\n",
      "Epoch 19/75\n",
      "1/9 [==>...........................] - ETA: 0s - loss: 0.0365 - EW_loss: 0.0050 - NS_loss: 0.0315 - EW_accuracy: 1.0000 - NS_accuracy: 0.9902\n",
      "Epoch 19: EW_accuracy improved from 0.99747 to 0.99770, saving model to best_model.hdf5\n",
      "9/9 [==============================] - 0s 10ms/step - loss: 0.0529 - EW_loss: 0.0101 - NS_loss: 0.0428 - EW_accuracy: 0.9977 - NS_accuracy: 0.9811 - val_loss: 0.0360 - val_EW_loss: 0.0345 - val_NS_loss: 0.0015 - val_EW_accuracy: 0.9894 - val_NS_accuracy: 0.9995\n",
      "Epoch 20/75\n",
      "1/9 [==>...........................] - ETA: 0s - loss: 0.0393 - EW_loss: 0.0039 - NS_loss: 0.0354 - EW_accuracy: 1.0000 - NS_accuracy: 0.9824\n",
      "Epoch 20: EW_accuracy did not improve from 0.99770\n",
      "9/9 [==============================] - 0s 9ms/step - loss: 0.0527 - EW_loss: 0.0090 - NS_loss: 0.0437 - EW_accuracy: 0.9977 - NS_accuracy: 0.9784 - val_loss: 0.0350 - val_EW_loss: 0.0334 - val_NS_loss: 0.0016 - val_EW_accuracy: 0.9894 - val_NS_accuracy: 0.9995\n",
      "Epoch 21/75\n",
      "1/9 [==>...........................] - ETA: 0s - loss: 0.0427 - EW_loss: 0.0124 - NS_loss: 0.0303 - EW_accuracy: 0.9961 - NS_accuracy: 0.9844\n",
      "Epoch 21: EW_accuracy did not improve from 0.99770\n",
      "9/9 [==============================] - 0s 9ms/step - loss: 0.0481 - EW_loss: 0.0088 - NS_loss: 0.0393 - EW_accuracy: 0.9975 - NS_accuracy: 0.9818 - val_loss: 0.0327 - val_EW_loss: 0.0311 - val_NS_loss: 0.0016 - val_EW_accuracy: 0.9894 - val_NS_accuracy: 0.9995\n",
      "Epoch 22/75\n",
      "1/9 [==>...........................] - ETA: 0s - loss: 0.0269 - EW_loss: 0.0052 - NS_loss: 0.0217 - EW_accuracy: 1.0000 - NS_accuracy: 0.9961\n",
      "Epoch 22: EW_accuracy improved from 0.99770 to 0.99793, saving model to best_model.hdf5\n",
      "9/9 [==============================] - 0s 9ms/step - loss: 0.0481 - EW_loss: 0.0089 - NS_loss: 0.0392 - EW_accuracy: 0.9979 - NS_accuracy: 0.9811 - val_loss: 0.0314 - val_EW_loss: 0.0297 - val_NS_loss: 0.0016 - val_EW_accuracy: 0.9899 - val_NS_accuracy: 0.9995\n",
      "Epoch 23/75\n",
      "1/9 [==>...........................] - ETA: 0s - loss: 0.0608 - EW_loss: 0.0122 - NS_loss: 0.0486 - EW_accuracy: 0.9961 - NS_accuracy: 0.9746\n",
      "Epoch 23: EW_accuracy did not improve from 0.99793\n",
      "9/9 [==============================] - 0s 8ms/step - loss: 0.0465 - EW_loss: 0.0085 - NS_loss: 0.0380 - EW_accuracy: 0.9975 - NS_accuracy: 0.9837 - val_loss: 0.0289 - val_EW_loss: 0.0272 - val_NS_loss: 0.0017 - val_EW_accuracy: 0.9917 - val_NS_accuracy: 0.9995\n",
      "Epoch 24/75\n",
      "1/9 [==>...........................] - ETA: 0s - loss: 0.0479 - EW_loss: 0.0111 - NS_loss: 0.0368 - EW_accuracy: 0.9941 - NS_accuracy: 0.9863\n",
      "Epoch 24: EW_accuracy did not improve from 0.99793\n",
      "9/9 [==============================] - 0s 9ms/step - loss: 0.0463 - EW_loss: 0.0085 - NS_loss: 0.0378 - EW_accuracy: 0.9972 - NS_accuracy: 0.9837 - val_loss: 0.0279 - val_EW_loss: 0.0261 - val_NS_loss: 0.0017 - val_EW_accuracy: 0.9917 - val_NS_accuracy: 0.9995\n",
      "Epoch 25/75\n",
      "1/9 [==>...........................] - ETA: 0s - loss: 0.0325 - EW_loss: 0.0027 - NS_loss: 0.0297 - EW_accuracy: 1.0000 - NS_accuracy: 0.9805\n",
      "Epoch 25: EW_accuracy improved from 0.99793 to 0.99816, saving model to best_model.hdf5\n",
      "9/9 [==============================] - 0s 9ms/step - loss: 0.0448 - EW_loss: 0.0084 - NS_loss: 0.0365 - EW_accuracy: 0.9982 - NS_accuracy: 0.9825 - val_loss: 0.0300 - val_EW_loss: 0.0283 - val_NS_loss: 0.0018 - val_EW_accuracy: 0.9903 - val_NS_accuracy: 0.9995\n",
      "Epoch 26/75\n",
      "1/9 [==>...........................] - ETA: 0s - loss: 0.0459 - EW_loss: 0.0019 - NS_loss: 0.0440 - EW_accuracy: 1.0000 - NS_accuracy: 0.9766\n",
      "Epoch 26: EW_accuracy did not improve from 0.99816\n",
      "9/9 [==============================] - 0s 9ms/step - loss: 0.0442 - EW_loss: 0.0074 - NS_loss: 0.0368 - EW_accuracy: 0.9977 - NS_accuracy: 0.9820 - val_loss: 0.0277 - val_EW_loss: 0.0259 - val_NS_loss: 0.0018 - val_EW_accuracy: 0.9917 - val_NS_accuracy: 0.9995\n",
      "Epoch 27/75\n",
      "1/9 [==>...........................] - ETA: 0s - loss: 0.0398 - EW_loss: 0.0054 - NS_loss: 0.0344 - EW_accuracy: 0.9980 - NS_accuracy: 0.9824\n",
      "Epoch 27: EW_accuracy did not improve from 0.99816\n",
      "9/9 [==============================] - 0s 8ms/step - loss: 0.0386 - EW_loss: 0.0069 - NS_loss: 0.0317 - EW_accuracy: 0.9979 - NS_accuracy: 0.9871 - val_loss: 0.0276 - val_EW_loss: 0.0257 - val_NS_loss: 0.0019 - val_EW_accuracy: 0.9917 - val_NS_accuracy: 0.9995\n",
      "Epoch 28/75\n",
      "1/9 [==>...........................] - ETA: 0s - loss: 0.0441 - EW_loss: 0.0138 - NS_loss: 0.0303 - EW_accuracy: 0.9961 - NS_accuracy: 0.9883\n",
      "Epoch 28: EW_accuracy did not improve from 0.99816\n",
      "9/9 [==============================] - 0s 8ms/step - loss: 0.0372 - EW_loss: 0.0071 - NS_loss: 0.0301 - EW_accuracy: 0.9977 - NS_accuracy: 0.9866 - val_loss: 0.0260 - val_EW_loss: 0.0240 - val_NS_loss: 0.0020 - val_EW_accuracy: 0.9922 - val_NS_accuracy: 0.9995\n",
      "Epoch 29/75\n",
      "1/9 [==>...........................] - ETA: 0s - loss: 0.0363 - EW_loss: 0.0031 - NS_loss: 0.0332 - EW_accuracy: 1.0000 - NS_accuracy: 0.9844\n",
      "Epoch 29: EW_accuracy did not improve from 0.99816\n",
      "9/9 [==============================] - 0s 9ms/step - loss: 0.0365 - EW_loss: 0.0062 - NS_loss: 0.0303 - EW_accuracy: 0.9982 - NS_accuracy: 0.9887 - val_loss: 0.0248 - val_EW_loss: 0.0226 - val_NS_loss: 0.0021 - val_EW_accuracy: 0.9926 - val_NS_accuracy: 0.9995\n",
      "Epoch 30/75\n",
      "1/9 [==>...........................] - ETA: 0s - loss: 0.0364 - EW_loss: 0.0033 - NS_loss: 0.0331 - EW_accuracy: 1.0000 - NS_accuracy: 0.9863\n",
      "Epoch 30: EW_accuracy improved from 0.99816 to 0.99839, saving model to best_model.hdf5\n",
      "9/9 [==============================] - 0s 9ms/step - loss: 0.0351 - EW_loss: 0.0061 - NS_loss: 0.0289 - EW_accuracy: 0.9984 - NS_accuracy: 0.9887 - val_loss: 0.0241 - val_EW_loss: 0.0214 - val_NS_loss: 0.0027 - val_EW_accuracy: 0.9931 - val_NS_accuracy: 0.9995\n",
      "Epoch 31/75\n",
      "1/9 [==>...........................] - ETA: 0s - loss: 0.0221 - EW_loss: 0.0025 - NS_loss: 0.0196 - EW_accuracy: 1.0000 - NS_accuracy: 0.9961\n",
      "Epoch 31: EW_accuracy did not improve from 0.99839\n",
      "9/9 [==============================] - 0s 9ms/step - loss: 0.0331 - EW_loss: 0.0060 - NS_loss: 0.0271 - EW_accuracy: 0.9984 - NS_accuracy: 0.9899 - val_loss: 0.0248 - val_EW_loss: 0.0211 - val_NS_loss: 0.0037 - val_EW_accuracy: 0.9931 - val_NS_accuracy: 0.9995\n",
      "Epoch 32/75\n",
      "1/9 [==>...........................] - ETA: 0s - loss: 0.0318 - EW_loss: 0.0073 - NS_loss: 0.0245 - EW_accuracy: 0.9980 - NS_accuracy: 0.9922\n",
      "Epoch 32: EW_accuracy improved from 0.99839 to 0.99862, saving model to best_model.hdf5\n",
      "9/9 [==============================] - 0s 9ms/step - loss: 0.0304 - EW_loss: 0.0055 - NS_loss: 0.0249 - EW_accuracy: 0.9986 - NS_accuracy: 0.9922 - val_loss: 0.0269 - val_EW_loss: 0.0219 - val_NS_loss: 0.0051 - val_EW_accuracy: 0.9926 - val_NS_accuracy: 0.9995\n",
      "Epoch 33/75\n",
      "1/9 [==>...........................] - ETA: 0s - loss: 0.0367 - EW_loss: 0.0095 - NS_loss: 0.0272 - EW_accuracy: 0.9961 - NS_accuracy: 0.9922\n",
      "Epoch 33: EW_accuracy did not improve from 0.99862\n",
      "9/9 [==============================] - 0s 8ms/step - loss: 0.0292 - EW_loss: 0.0057 - NS_loss: 0.0235 - EW_accuracy: 0.9984 - NS_accuracy: 0.9915 - val_loss: 0.0303 - val_EW_loss: 0.0214 - val_NS_loss: 0.0089 - val_EW_accuracy: 0.9926 - val_NS_accuracy: 0.9982\n",
      "Epoch 34/75\n",
      "1/9 [==>...........................] - ETA: 0s - loss: 0.0243 - EW_loss: 0.0036 - NS_loss: 0.0207 - EW_accuracy: 0.9980 - NS_accuracy: 0.9922\n",
      "Epoch 34: EW_accuracy did not improve from 0.99862\n",
      "9/9 [==============================] - 0s 9ms/step - loss: 0.0277 - EW_loss: 0.0051 - NS_loss: 0.0227 - EW_accuracy: 0.9982 - NS_accuracy: 0.9924 - val_loss: 0.0328 - val_EW_loss: 0.0206 - val_NS_loss: 0.0123 - val_EW_accuracy: 0.9940 - val_NS_accuracy: 0.9959\n",
      "Epoch 35/75\n",
      "1/9 [==>...........................] - ETA: 0s - loss: 0.0305 - EW_loss: 0.0071 - NS_loss: 0.0235 - EW_accuracy: 0.9980 - NS_accuracy: 0.9883\n",
      "Epoch 35: EW_accuracy did not improve from 0.99862\n",
      "9/9 [==============================] - 0s 9ms/step - loss: 0.0258 - EW_loss: 0.0050 - NS_loss: 0.0207 - EW_accuracy: 0.9984 - NS_accuracy: 0.9940 - val_loss: 0.0399 - val_EW_loss: 0.0202 - val_NS_loss: 0.0198 - val_EW_accuracy: 0.9949 - val_NS_accuracy: 0.9899\n",
      "Epoch 36/75\n",
      "1/9 [==>...........................] - ETA: 0s - loss: 0.0457 - EW_loss: 0.0122 - NS_loss: 0.0335 - EW_accuracy: 0.9961 - NS_accuracy: 0.9863\n",
      "Epoch 36: EW_accuracy improved from 0.99862 to 0.99885, saving model to best_model.hdf5\n",
      "9/9 [==============================] - 0s 9ms/step - loss: 0.0235 - EW_loss: 0.0045 - NS_loss: 0.0190 - EW_accuracy: 0.9988 - NS_accuracy: 0.9940 - val_loss: 0.0428 - val_EW_loss: 0.0170 - val_NS_loss: 0.0257 - val_EW_accuracy: 0.9968 - val_NS_accuracy: 0.9876\n",
      "Epoch 37/75\n",
      "1/9 [==>...........................] - ETA: 0s - loss: 0.0151 - EW_loss: 0.0014 - NS_loss: 0.0137 - EW_accuracy: 1.0000 - NS_accuracy: 0.9941\n",
      "Epoch 37: EW_accuracy did not improve from 0.99885\n",
      "9/9 [==============================] - 0s 9ms/step - loss: 0.0217 - EW_loss: 0.0045 - NS_loss: 0.0172 - EW_accuracy: 0.9988 - NS_accuracy: 0.9947 - val_loss: 0.0538 - val_EW_loss: 0.0189 - val_NS_loss: 0.0349 - val_EW_accuracy: 0.9963 - val_NS_accuracy: 0.9843\n",
      "Epoch 38/75\n",
      "1/9 [==>...........................] - ETA: 0s - loss: 0.0175 - EW_loss: 0.0018 - NS_loss: 0.0157 - EW_accuracy: 1.0000 - NS_accuracy: 0.9961\n",
      "Epoch 38: EW_accuracy improved from 0.99885 to 0.99908, saving model to best_model.hdf5\n",
      "9/9 [==============================] - 0s 11ms/step - loss: 0.0209 - EW_loss: 0.0042 - NS_loss: 0.0167 - EW_accuracy: 0.9991 - NS_accuracy: 0.9954 - val_loss: 0.0790 - val_EW_loss: 0.0185 - val_NS_loss: 0.0605 - val_EW_accuracy: 0.9968 - val_NS_accuracy: 0.9751\n",
      "Epoch 39/75\n",
      "1/9 [==>...........................] - ETA: 0s - loss: 0.0103 - EW_loss: 0.0017 - NS_loss: 0.0086 - EW_accuracy: 1.0000 - NS_accuracy: 0.9980\n",
      "Epoch 39: EW_accuracy did not improve from 0.99908\n",
      "9/9 [==============================] - 0s 9ms/step - loss: 0.0211 - EW_loss: 0.0045 - NS_loss: 0.0166 - EW_accuracy: 0.9986 - NS_accuracy: 0.9961 - val_loss: 0.0990 - val_EW_loss: 0.0176 - val_NS_loss: 0.0814 - val_EW_accuracy: 0.9972 - val_NS_accuracy: 0.9678\n",
      "Epoch 40/75\n",
      "1/9 [==>...........................] - ETA: 0s - loss: 0.0252 - EW_loss: 0.0076 - NS_loss: 0.0176 - EW_accuracy: 0.9980 - NS_accuracy: 0.9980\n",
      "Epoch 40: EW_accuracy did not improve from 0.99908\n",
      "9/9 [==============================] - 0s 9ms/step - loss: 0.0208 - EW_loss: 0.0045 - NS_loss: 0.0163 - EW_accuracy: 0.9991 - NS_accuracy: 0.9952 - val_loss: 0.1024 - val_EW_loss: 0.0153 - val_NS_loss: 0.0870 - val_EW_accuracy: 0.9972 - val_NS_accuracy: 0.9622\n",
      "Epoch 41/75\n",
      "1/9 [==>...........................] - ETA: 0s - loss: 0.0114 - EW_loss: 0.0012 - NS_loss: 0.0102 - EW_accuracy: 1.0000 - NS_accuracy: 0.9980\n",
      "Epoch 41: EW_accuracy did not improve from 0.99908\n",
      "9/9 [==============================] - 0s 9ms/step - loss: 0.0196 - EW_loss: 0.0043 - NS_loss: 0.0152 - EW_accuracy: 0.9986 - NS_accuracy: 0.9956 - val_loss: 0.1237 - val_EW_loss: 0.0157 - val_NS_loss: 0.1079 - val_EW_accuracy: 0.9972 - val_NS_accuracy: 0.9590\n",
      "Epoch 42/75\n",
      "1/9 [==>...........................] - ETA: 0s - loss: 0.0101 - EW_loss: 0.0022 - NS_loss: 0.0079 - EW_accuracy: 1.0000 - NS_accuracy: 1.0000\n",
      "Epoch 42: EW_accuracy improved from 0.99908 to 0.99931, saving model to best_model.hdf5\n",
      "9/9 [==============================] - 0s 10ms/step - loss: 0.0170 - EW_loss: 0.0040 - NS_loss: 0.0130 - EW_accuracy: 0.9993 - NS_accuracy: 0.9970 - val_loss: 0.1324 - val_EW_loss: 0.0159 - val_NS_loss: 0.1165 - val_EW_accuracy: 0.9972 - val_NS_accuracy: 0.9586\n",
      "Epoch 43/75\n",
      "1/9 [==>...........................] - ETA: 0s - loss: 0.0114 - EW_loss: 0.0039 - NS_loss: 0.0075 - EW_accuracy: 0.9980 - NS_accuracy: 1.0000\n",
      "Epoch 43: EW_accuracy did not improve from 0.99931\n",
      "9/9 [==============================] - 0s 8ms/step - loss: 0.0163 - EW_loss: 0.0037 - NS_loss: 0.0126 - EW_accuracy: 0.9991 - NS_accuracy: 0.9972 - val_loss: 0.1351 - val_EW_loss: 0.0139 - val_NS_loss: 0.1212 - val_EW_accuracy: 0.9972 - val_NS_accuracy: 0.9567\n",
      "Epoch 44/75\n",
      "1/9 [==>...........................] - ETA: 0s - loss: 0.0086 - EW_loss: 0.0011 - NS_loss: 0.0074 - EW_accuracy: 1.0000 - NS_accuracy: 1.0000\n",
      "Epoch 44: EW_accuracy did not improve from 0.99931\n",
      "9/9 [==============================] - 0s 9ms/step - loss: 0.0156 - EW_loss: 0.0034 - NS_loss: 0.0122 - EW_accuracy: 0.9993 - NS_accuracy: 0.9956 - val_loss: 0.1490 - val_EW_loss: 0.0134 - val_NS_loss: 0.1356 - val_EW_accuracy: 0.9972 - val_NS_accuracy: 0.9558\n",
      "Epoch 45/75\n",
      "1/9 [==>...........................] - ETA: 0s - loss: 0.0272 - EW_loss: 0.0084 - NS_loss: 0.0188 - EW_accuracy: 0.9980 - NS_accuracy: 0.9941\n",
      "Epoch 45: EW_accuracy did not improve from 0.99931\n",
      "9/9 [==============================] - 0s 9ms/step - loss: 0.0146 - EW_loss: 0.0035 - NS_loss: 0.0111 - EW_accuracy: 0.9991 - NS_accuracy: 0.9972 - val_loss: 0.1667 - val_EW_loss: 0.0142 - val_NS_loss: 0.1525 - val_EW_accuracy: 0.9972 - val_NS_accuracy: 0.9512\n",
      "Epoch 46/75\n",
      "1/9 [==>...........................] - ETA: 0s - loss: 0.0130 - EW_loss: 0.0017 - NS_loss: 0.0113 - EW_accuracy: 1.0000 - NS_accuracy: 0.9980\n",
      "Epoch 46: EW_accuracy did not improve from 0.99931\n",
      "9/9 [==============================] - 0s 9ms/step - loss: 0.0131 - EW_loss: 0.0033 - NS_loss: 0.0099 - EW_accuracy: 0.9993 - NS_accuracy: 0.9977 - val_loss: 0.1973 - val_EW_loss: 0.0135 - val_NS_loss: 0.1838 - val_EW_accuracy: 0.9972 - val_NS_accuracy: 0.9475\n",
      "Epoch 47/75\n",
      "1/9 [==>...........................] - ETA: 0s - loss: 0.0247 - EW_loss: 0.0071 - NS_loss: 0.0176 - EW_accuracy: 0.9980 - NS_accuracy: 0.9961\n",
      "Epoch 47: EW_accuracy did not improve from 0.99931\n",
      "9/9 [==============================] - 0s 9ms/step - loss: 0.0127 - EW_loss: 0.0030 - NS_loss: 0.0097 - EW_accuracy: 0.9993 - NS_accuracy: 0.9975 - val_loss: 0.2080 - val_EW_loss: 0.0132 - val_NS_loss: 0.1948 - val_EW_accuracy: 0.9972 - val_NS_accuracy: 0.9471\n",
      "Epoch 48/75\n",
      "1/9 [==>...........................] - ETA: 0s - loss: 0.0082 - EW_loss: 9.8124e-04 - NS_loss: 0.0073 - EW_accuracy: 1.0000 - NS_accuracy: 0.9980\n",
      "Epoch 48: EW_accuracy did not improve from 0.99931\n",
      "9/9 [==============================] - 0s 9ms/step - loss: 0.0125 - EW_loss: 0.0030 - NS_loss: 0.0094 - EW_accuracy: 0.9991 - NS_accuracy: 0.9982 - val_loss: 0.1870 - val_EW_loss: 0.0119 - val_NS_loss: 0.1752 - val_EW_accuracy: 0.9972 - val_NS_accuracy: 0.9494\n",
      "Epoch 49/75\n",
      "1/9 [==>...........................] - ETA: 0s - loss: 0.0148 - EW_loss: 0.0020 - NS_loss: 0.0128 - EW_accuracy: 1.0000 - NS_accuracy: 0.9980\n",
      "Epoch 49: EW_accuracy did not improve from 0.99931\n",
      "9/9 [==============================] - 0s 9ms/step - loss: 0.0136 - EW_loss: 0.0029 - NS_loss: 0.0107 - EW_accuracy: 0.9993 - NS_accuracy: 0.9968 - val_loss: 0.2167 - val_EW_loss: 0.0116 - val_NS_loss: 0.2051 - val_EW_accuracy: 0.9977 - val_NS_accuracy: 0.9461\n",
      "Epoch 50/75\n",
      "1/9 [==>...........................] - ETA: 0s - loss: 0.0084 - EW_loss: 0.0017 - NS_loss: 0.0066 - EW_accuracy: 1.0000 - NS_accuracy: 0.9980\n",
      "Epoch 50: EW_accuracy improved from 0.99931 to 0.99954, saving model to best_model.hdf5\n",
      "9/9 [==============================] - 0s 11ms/step - loss: 0.0135 - EW_loss: 0.0030 - NS_loss: 0.0106 - EW_accuracy: 0.9995 - NS_accuracy: 0.9968 - val_loss: 0.2846 - val_EW_loss: 0.0140 - val_NS_loss: 0.2705 - val_EW_accuracy: 0.9977 - val_NS_accuracy: 0.9365\n",
      "Epoch 51/75\n",
      "1/9 [==>...........................] - ETA: 0s - loss: 0.0242 - EW_loss: 0.0087 - NS_loss: 0.0155 - EW_accuracy: 0.9961 - NS_accuracy: 0.9941\n",
      "Epoch 51: EW_accuracy did not improve from 0.99954\n",
      "9/9 [==============================] - 0s 9ms/step - loss: 0.0114 - EW_loss: 0.0028 - NS_loss: 0.0086 - EW_accuracy: 0.9993 - NS_accuracy: 0.9984 - val_loss: 0.2828 - val_EW_loss: 0.0120 - val_NS_loss: 0.2708 - val_EW_accuracy: 0.9977 - val_NS_accuracy: 0.9378\n",
      "Epoch 52/75\n",
      "1/9 [==>...........................] - ETA: 0s - loss: 0.0175 - EW_loss: 0.0056 - NS_loss: 0.0120 - EW_accuracy: 0.9980 - NS_accuracy: 0.9941\n",
      "Epoch 52: EW_accuracy did not improve from 0.99954\n",
      "9/9 [==============================] - 0s 9ms/step - loss: 0.0104 - EW_loss: 0.0030 - NS_loss: 0.0074 - EW_accuracy: 0.9993 - NS_accuracy: 0.9982 - val_loss: 0.2680 - val_EW_loss: 0.0120 - val_NS_loss: 0.2560 - val_EW_accuracy: 0.9982 - val_NS_accuracy: 0.9411\n",
      "Epoch 53/75\n",
      "1/9 [==>...........................] - ETA: 0s - loss: 0.0071 - EW_loss: 7.9553e-04 - NS_loss: 0.0063 - EW_accuracy: 1.0000 - NS_accuracy: 0.9980\n",
      "Epoch 53: EW_accuracy did not improve from 0.99954\n",
      "9/9 [==============================] - 0s 9ms/step - loss: 0.0092 - EW_loss: 0.0026 - NS_loss: 0.0066 - EW_accuracy: 0.9991 - NS_accuracy: 0.9984 - val_loss: 0.2810 - val_EW_loss: 0.0120 - val_NS_loss: 0.2689 - val_EW_accuracy: 0.9986 - val_NS_accuracy: 0.9383\n",
      "Epoch 54/75\n",
      "1/9 [==>...........................] - ETA: 0s - loss: 0.0029 - EW_loss: 3.2440e-04 - NS_loss: 0.0026 - EW_accuracy: 1.0000 - NS_accuracy: 1.0000\n",
      "Epoch 54: EW_accuracy did not improve from 0.99954\n",
      "9/9 [==============================] - 0s 8ms/step - loss: 0.0086 - EW_loss: 0.0024 - NS_loss: 0.0062 - EW_accuracy: 0.9995 - NS_accuracy: 0.9988 - val_loss: 0.3121 - val_EW_loss: 0.0121 - val_NS_loss: 0.3000 - val_EW_accuracy: 0.9982 - val_NS_accuracy: 0.9355\n",
      "Epoch 55/75\n",
      "1/9 [==>...........................] - ETA: 0s - loss: 0.0062 - EW_loss: 8.8094e-04 - NS_loss: 0.0053 - EW_accuracy: 1.0000 - NS_accuracy: 0.9980\n",
      "Epoch 55: EW_accuracy did not improve from 0.99954\n",
      "9/9 [==============================] - 0s 8ms/step - loss: 0.0088 - EW_loss: 0.0024 - NS_loss: 0.0065 - EW_accuracy: 0.9993 - NS_accuracy: 0.9979 - val_loss: 0.3184 - val_EW_loss: 0.0126 - val_NS_loss: 0.3058 - val_EW_accuracy: 0.9986 - val_NS_accuracy: 0.9355\n",
      "Epoch 56/75\n",
      "1/9 [==>...........................] - ETA: 0s - loss: 0.0034 - EW_loss: 5.3359e-04 - NS_loss: 0.0029 - EW_accuracy: 1.0000 - NS_accuracy: 1.0000\n",
      "Epoch 56: EW_accuracy did not improve from 0.99954\n",
      "9/9 [==============================] - 0s 9ms/step - loss: 0.0079 - EW_loss: 0.0024 - NS_loss: 0.0055 - EW_accuracy: 0.9993 - NS_accuracy: 0.9991 - val_loss: 0.3424 - val_EW_loss: 0.0130 - val_NS_loss: 0.3293 - val_EW_accuracy: 0.9986 - val_NS_accuracy: 0.9332\n",
      "Epoch 57/75\n",
      "1/9 [==>...........................] - ETA: 0s - loss: 0.0060 - EW_loss: 0.0015 - NS_loss: 0.0046 - EW_accuracy: 1.0000 - NS_accuracy: 0.9980\n",
      "Epoch 57: EW_accuracy did not improve from 0.99954\n",
      "9/9 [==============================] - 0s 8ms/step - loss: 0.0079 - EW_loss: 0.0026 - NS_loss: 0.0053 - EW_accuracy: 0.9993 - NS_accuracy: 0.9991 - val_loss: 0.3438 - val_EW_loss: 0.0118 - val_NS_loss: 0.3320 - val_EW_accuracy: 0.9986 - val_NS_accuracy: 0.9323\n",
      "Epoch 58/75\n",
      "1/9 [==>...........................] - ETA: 0s - loss: 0.0043 - EW_loss: 5.7333e-04 - NS_loss: 0.0037 - EW_accuracy: 1.0000 - NS_accuracy: 1.0000\n",
      "Epoch 58: EW_accuracy did not improve from 0.99954\n",
      "9/9 [==============================] - 0s 9ms/step - loss: 0.0070 - EW_loss: 0.0022 - NS_loss: 0.0048 - EW_accuracy: 0.9995 - NS_accuracy: 0.9995 - val_loss: 0.3550 - val_EW_loss: 0.0109 - val_NS_loss: 0.3441 - val_EW_accuracy: 0.9986 - val_NS_accuracy: 0.9323\n",
      "Epoch 59/75\n",
      "1/9 [==>...........................] - ETA: 0s - loss: 0.0059 - EW_loss: 8.5214e-04 - NS_loss: 0.0051 - EW_accuracy: 1.0000 - NS_accuracy: 0.9980\n",
      "Epoch 59: EW_accuracy did not improve from 0.99954\n",
      "9/9 [==============================] - 0s 9ms/step - loss: 0.0068 - EW_loss: 0.0022 - NS_loss: 0.0046 - EW_accuracy: 0.9993 - NS_accuracy: 0.9993 - val_loss: 0.3798 - val_EW_loss: 0.0125 - val_NS_loss: 0.3673 - val_EW_accuracy: 0.9986 - val_NS_accuracy: 0.9296\n",
      "Epoch 60/75\n",
      "1/9 [==>...........................] - ETA: 0s - loss: 0.0045 - EW_loss: 6.2251e-04 - NS_loss: 0.0039 - EW_accuracy: 1.0000 - NS_accuracy: 1.0000\n",
      "Epoch 60: EW_accuracy did not improve from 0.99954\n",
      "9/9 [==============================] - 0s 9ms/step - loss: 0.0063 - EW_loss: 0.0021 - NS_loss: 0.0042 - EW_accuracy: 0.9995 - NS_accuracy: 0.9995 - val_loss: 0.3902 - val_EW_loss: 0.0111 - val_NS_loss: 0.3791 - val_EW_accuracy: 0.9986 - val_NS_accuracy: 0.9286\n",
      "Epoch 61/75\n",
      "1/9 [==>...........................] - ETA: 0s - loss: 0.0134 - EW_loss: 0.0059 - NS_loss: 0.0074 - EW_accuracy: 0.9980 - NS_accuracy: 0.9980\n",
      "Epoch 61: EW_accuracy did not improve from 0.99954\n",
      "9/9 [==============================] - 0s 10ms/step - loss: 0.0066 - EW_loss: 0.0021 - NS_loss: 0.0045 - EW_accuracy: 0.9993 - NS_accuracy: 0.9993 - val_loss: 0.4052 - val_EW_loss: 0.0128 - val_NS_loss: 0.3924 - val_EW_accuracy: 0.9986 - val_NS_accuracy: 0.9277\n",
      "Epoch 62/75\n",
      "1/9 [==>...........................] - ETA: 0s - loss: 0.0038 - EW_loss: 2.2663e-04 - NS_loss: 0.0036 - EW_accuracy: 1.0000 - NS_accuracy: 1.0000\n",
      "Epoch 62: EW_accuracy did not improve from 0.99954\n",
      "9/9 [==============================] - 0s 9ms/step - loss: 0.0067 - EW_loss: 0.0023 - NS_loss: 0.0044 - EW_accuracy: 0.9993 - NS_accuracy: 0.9993 - val_loss: 0.4113 - val_EW_loss: 0.0124 - val_NS_loss: 0.3990 - val_EW_accuracy: 0.9986 - val_NS_accuracy: 0.9277\n",
      "Epoch 63/75\n",
      "1/9 [==>...........................] - ETA: 0s - loss: 0.0028 - EW_loss: 0.0011 - NS_loss: 0.0017 - EW_accuracy: 1.0000 - NS_accuracy: 1.0000\n",
      "Epoch 63: EW_accuracy did not improve from 0.99954\n",
      "9/9 [==============================] - 0s 8ms/step - loss: 0.0056 - EW_loss: 0.0019 - NS_loss: 0.0037 - EW_accuracy: 0.9995 - NS_accuracy: 0.9995 - val_loss: 0.4479 - val_EW_loss: 0.0136 - val_NS_loss: 0.4343 - val_EW_accuracy: 0.9982 - val_NS_accuracy: 0.9227\n",
      "Epoch 64/75\n",
      "1/9 [==>...........................] - ETA: 0s - loss: 0.0136 - EW_loss: 0.0065 - NS_loss: 0.0071 - EW_accuracy: 0.9980 - NS_accuracy: 0.9980\n",
      "Epoch 64: EW_accuracy did not improve from 0.99954\n",
      "9/9 [==============================] - 0s 9ms/step - loss: 0.0057 - EW_loss: 0.0019 - NS_loss: 0.0038 - EW_accuracy: 0.9995 - NS_accuracy: 0.9993 - val_loss: 0.4394 - val_EW_loss: 0.0124 - val_NS_loss: 0.4270 - val_EW_accuracy: 0.9986 - val_NS_accuracy: 0.9231\n",
      "Epoch 65/75\n",
      "1/9 [==>...........................] - ETA: 0s - loss: 0.0015 - EW_loss: 2.7554e-04 - NS_loss: 0.0012 - EW_accuracy: 1.0000 - NS_accuracy: 1.0000\n",
      "Epoch 65: EW_accuracy did not improve from 0.99954\n",
      "9/9 [==============================] - 0s 8ms/step - loss: 0.0054 - EW_loss: 0.0019 - NS_loss: 0.0036 - EW_accuracy: 0.9993 - NS_accuracy: 0.9995 - val_loss: 0.4406 - val_EW_loss: 0.0120 - val_NS_loss: 0.4285 - val_EW_accuracy: 0.9986 - val_NS_accuracy: 0.9240\n",
      "Epoch 66/75\n",
      "1/9 [==>...........................] - ETA: 0s - loss: 0.0019 - EW_loss: 6.6908e-04 - NS_loss: 0.0012 - EW_accuracy: 1.0000 - NS_accuracy: 1.0000\n",
      "Epoch 66: EW_accuracy did not improve from 0.99954\n",
      "9/9 [==============================] - 0s 9ms/step - loss: 0.0060 - EW_loss: 0.0021 - NS_loss: 0.0039 - EW_accuracy: 0.9995 - NS_accuracy: 0.9993 - val_loss: 0.4859 - val_EW_loss: 0.0123 - val_NS_loss: 0.4736 - val_EW_accuracy: 0.9986 - val_NS_accuracy: 0.9162\n",
      "Epoch 67/75\n",
      "1/9 [==>...........................] - ETA: 0s - loss: 0.0130 - EW_loss: 0.0056 - NS_loss: 0.0074 - EW_accuracy: 0.9980 - NS_accuracy: 0.9980\n",
      "Epoch 67: EW_accuracy did not improve from 0.99954\n",
      "9/9 [==============================] - 0s 9ms/step - loss: 0.0060 - EW_loss: 0.0018 - NS_loss: 0.0043 - EW_accuracy: 0.9995 - NS_accuracy: 0.9991 - val_loss: 0.5180 - val_EW_loss: 0.0150 - val_NS_loss: 0.5030 - val_EW_accuracy: 0.9982 - val_NS_accuracy: 0.9139\n",
      "Epoch 68/75\n",
      "1/9 [==>...........................] - ETA: 0s - loss: 0.0052 - EW_loss: 0.0014 - NS_loss: 0.0038 - EW_accuracy: 1.0000 - NS_accuracy: 1.0000\n",
      "Epoch 68: EW_accuracy did not improve from 0.99954\n",
      "9/9 [==============================] - 0s 9ms/step - loss: 0.0057 - EW_loss: 0.0021 - NS_loss: 0.0036 - EW_accuracy: 0.9995 - NS_accuracy: 0.9995 - val_loss: 0.5165 - val_EW_loss: 0.0135 - val_NS_loss: 0.5030 - val_EW_accuracy: 0.9982 - val_NS_accuracy: 0.9130\n",
      "Epoch 69/75\n",
      "1/9 [==>...........................] - ETA: 0s - loss: 0.0036 - EW_loss: 6.6328e-04 - NS_loss: 0.0029 - EW_accuracy: 1.0000 - NS_accuracy: 1.0000\n",
      "Epoch 69: EW_accuracy did not improve from 0.99954\n",
      "9/9 [==============================] - 0s 8ms/step - loss: 0.0056 - EW_loss: 0.0020 - NS_loss: 0.0036 - EW_accuracy: 0.9993 - NS_accuracy: 0.9995 - val_loss: 0.4960 - val_EW_loss: 0.0129 - val_NS_loss: 0.4831 - val_EW_accuracy: 0.9986 - val_NS_accuracy: 0.9194\n",
      "Epoch 70/75\n",
      "1/9 [==>...........................] - ETA: 0s - loss: 0.0034 - EW_loss: 6.9014e-04 - NS_loss: 0.0027 - EW_accuracy: 1.0000 - NS_accuracy: 0.9980\n",
      "Epoch 70: EW_accuracy did not improve from 0.99954\n",
      "9/9 [==============================] - 0s 9ms/step - loss: 0.0048 - EW_loss: 0.0017 - NS_loss: 0.0031 - EW_accuracy: 0.9995 - NS_accuracy: 0.9993 - val_loss: 0.5294 - val_EW_loss: 0.0128 - val_NS_loss: 0.5166 - val_EW_accuracy: 0.9986 - val_NS_accuracy: 0.9116\n",
      "Epoch 71/75\n",
      "1/9 [==>...........................] - ETA: 0s - loss: 0.0031 - EW_loss: 9.6289e-04 - NS_loss: 0.0022 - EW_accuracy: 1.0000 - NS_accuracy: 1.0000\n",
      "Epoch 71: EW_accuracy did not improve from 0.99954\n",
      "9/9 [==============================] - 0s 8ms/step - loss: 0.0050 - EW_loss: 0.0019 - NS_loss: 0.0030 - EW_accuracy: 0.9995 - NS_accuracy: 0.9993 - val_loss: 0.5405 - val_EW_loss: 0.0144 - val_NS_loss: 0.5261 - val_EW_accuracy: 0.9986 - val_NS_accuracy: 0.9130\n",
      "Epoch 72/75\n",
      "1/9 [==>...........................] - ETA: 0s - loss: 0.0014 - EW_loss: 7.9422e-05 - NS_loss: 0.0013 - EW_accuracy: 1.0000 - NS_accuracy: 1.0000\n",
      "Epoch 72: EW_accuracy did not improve from 0.99954\n",
      "9/9 [==============================] - 0s 9ms/step - loss: 0.0048 - EW_loss: 0.0017 - NS_loss: 0.0031 - EW_accuracy: 0.9995 - NS_accuracy: 0.9995 - val_loss: 0.5261 - val_EW_loss: 0.0134 - val_NS_loss: 0.5126 - val_EW_accuracy: 0.9982 - val_NS_accuracy: 0.9180\n",
      "Epoch 73/75\n",
      "1/9 [==>...........................] - ETA: 0s - loss: 0.0041 - EW_loss: 3.0730e-04 - NS_loss: 0.0038 - EW_accuracy: 1.0000 - NS_accuracy: 1.0000\n",
      "Epoch 73: EW_accuracy improved from 0.99954 to 1.00000, saving model to best_model.hdf5\n",
      "9/9 [==============================] - 0s 10ms/step - loss: 0.0046 - EW_loss: 0.0016 - NS_loss: 0.0030 - EW_accuracy: 1.0000 - NS_accuracy: 0.9995 - val_loss: 0.5646 - val_EW_loss: 0.0132 - val_NS_loss: 0.5514 - val_EW_accuracy: 0.9991 - val_NS_accuracy: 0.9098\n",
      "Epoch 74/75\n",
      "1/9 [==>...........................] - ETA: 0s - loss: 0.0020 - EW_loss: 3.4681e-04 - NS_loss: 0.0017 - EW_accuracy: 1.0000 - NS_accuracy: 1.0000\n",
      "Epoch 74: EW_accuracy did not improve from 1.00000\n",
      "9/9 [==============================] - 0s 9ms/step - loss: 0.0046 - EW_loss: 0.0017 - NS_loss: 0.0029 - EW_accuracy: 1.0000 - NS_accuracy: 0.9993 - val_loss: 0.5842 - val_EW_loss: 0.0147 - val_NS_loss: 0.5695 - val_EW_accuracy: 0.9972 - val_NS_accuracy: 0.9107\n",
      "Epoch 75/75\n",
      "1/9 [==>...........................] - ETA: 0s - loss: 0.0019 - EW_loss: 2.6188e-04 - NS_loss: 0.0017 - EW_accuracy: 1.0000 - NS_accuracy: 1.0000\n",
      "Epoch 75: EW_accuracy did not improve from 1.00000\n",
      "9/9 [==============================] - 0s 9ms/step - loss: 0.0045 - EW_loss: 0.0017 - NS_loss: 0.0027 - EW_accuracy: 1.0000 - NS_accuracy: 0.9995 - val_loss: 0.5535 - val_EW_loss: 0.0130 - val_NS_loss: 0.5405 - val_EW_accuracy: 0.9991 - val_NS_accuracy: 0.9121\n",
      "Finished training after 75 epochs.\n",
      "Evaluating model:\n",
      "9/9 [==============================] - 0s 3ms/step - loss: 0.0043 - EW_loss: 0.0016 - NS_loss: 0.0027 - EW_accuracy: 1.0000 - NS_accuracy: 0.9995    \n",
      "5/5 [==============================] - 0s 3ms/step - loss: 0.5646 - EW_loss: 0.0132 - NS_loss: 0.5514 - EW_accuracy: 0.9991 - NS_accuracy: 0.9098\n"
     ]
    },
    {
     "name": "stderr",
     "output_type": "stream",
     "text": [
      "/home/user/Code/splid-challenge/base/prediction_models.py:69: UserWarning: FigureCanvasAgg is non-interactive, and thus cannot be shown\n",
      "  \n"
     ]
    },
    {
     "data": {
      "image/png": "[encoded data removed]",
      "text/plain": [
       "<Figure size 400x300 with 1 Axes>"
      ]
     },
     "metadata": {},
     "output_type": "display_data"
    },
    {
     "data": {
      "image/png": "[encoded data removed]",
      "text/plain": [
       "<Figure size 400x300 with 1 Axes>"
      ]
     },
     "metadata": {},
     "output_type": "display_data"
    }
   ],
   "source": [
    "#dense_combined_model = prediction_models.Dense_NN(train_combined, dense_layers=[256,128,64], l2_reg=0.001, mixed_dropout=0.15, lr_scheduler=[20000,0.8], seed=0)\n",
    "#dense_combined_model = prediction_models.CNN(train_combined, conv_layers=[128,128,128], l2_reg=0.001, mixed_dropout=0.15, lr_scheduler=[20000,0.8], seed=0)\n",
    "dense_combined_model = prediction_models.Dense_NN(train_combined, dense_layers=[256,128,64], l2_reg=0.0, mixed_dropout=0.0, lr_scheduler=[20000,0.8], seed=0)\n",
    "\n",
    "dense_combined_model.summary()\n",
    "hist = dense_combined_model.fit(train_combined, val_ds=val_combined, target_metric='EW_accuracy', epochs=75, verbose=1, plot_hist=False, callbacks=[], save_best_only=True)\n",
    "dense_combined_model.plot_hist(hist, [k for k in hist.history.keys() if 'loss' in k])\n",
    "dense_combined_model.plot_hist(hist, [k for k in hist.history.keys() if 'accuracy' in k])"
   ]
  },
  {
   "cell_type": "code",
   "execution_count": null,
   "metadata": {},
   "outputs": [],
   "source": []
  },
  {
   "cell_type": "code",
   "execution_count": 14,
   "metadata": {},
   "outputs": [],
   "source": [
    "def prepare_submission_df(ds, model, model_output_features, label_decoders, smoothing=False, smoothing_past_steps=3, smoothing_fut_steps=10):\n",
    "    '''Prepare dataframes for submission based on models predictions. The output_labels need to be in the same order as they were when creating the dataset!'''\n",
    "    assert(len(model_output_features) == len(label_decoders))\n",
    "    inputs = np.concatenate([element for element in ds.map(lambda x,y,z: x).as_numpy_iterator()])\n",
    "    identifiers = np.concatenate([element for element in ds.map(lambda x,y,z: z).as_numpy_iterator()])\n",
    "    \n",
    "    df = pd.DataFrame(np.concatenate([identifiers.reshape(-1,2)], axis=1), columns=['ObjectID', 'TimeIndex'], dtype=np.int32)\n",
    "\n",
    "    preds = model.predict(inputs)\n",
    "    for ft_idx, feature in enumerate(model_output_features):\n",
    "        labels = np.concatenate([element[feature] for element in ds.map(lambda x,y,z: y).as_numpy_iterator()])\n",
    "        labels_decoded = label_decoders[ft_idx].inverse_transform(labels)\n",
    "        preds_argmax = np.argmax(preds[ft_idx], axis=1) if len(model_output_features)>1 else np.argmax(preds, axis=1)\n",
    "        preds_decoded = label_decoders[ft_idx].inverse_transform(preds_argmax)\n",
    "        df[f'{feature}'] = labels_decoded\n",
    "        df[f'Predicted_{feature}'] = preds_decoded\n",
    "    if smoothing:\n",
    "        df = utils.smooth_predictions(df, past_steps=smoothing_past_steps, fut_steps=smoothing_fut_steps)\n",
    "    return df\n"
   ]
  },
  {
   "cell_type": "code",
   "execution_count": 32,
   "metadata": {},
   "outputs": [],
   "source": [
    "def evaluate_submission_df(prepared_df, ground_truth):\n",
    "    results = utils.convert_classifier_output(prepared_df).sort_values(['ObjectID']).reset_index(drop=True)\n",
    "    evaluator = evaluation.NodeDetectionEvaluator(ground_truth, results)\n",
    "    precision, recall, f2, rmse = evaluator.score()\n",
    "    print(f'Precision: {precision:.2f}')\n",
    "    print(f'Recall: {recall:.2f}')\n",
    "    print(f'F2: {f2:.2f}')\n",
    "    print(f'RMSE: {rmse:.2f}')"
   ]
  },
  {
   "cell_type": "code",
   "execution_count": 35,
   "metadata": {},
   "outputs": [],
   "source": [
    "ground_truth = pd.read_csv(challenge_data_dir / 'train_labels.csv')\n",
    "ground_truth_train = ground_truth[ground_truth['ObjectID'].isin(map(int, ds_gen.train_keys))].copy()\n",
    "ground_truth_val = ground_truth[ground_truth['ObjectID'].isin(map(int, ds_gen.val_keys))].copy()\n",
    "\n",
    "train_EW, val_EW = ds_gen.get_datasets(256, label_features=['EW', 'NS'], shuffle=False, keep_identifier=True)"
   ]
  },
  {
   "cell_type": "code",
   "execution_count": 36,
   "metadata": {},
   "outputs": [
    {
     "name": "stdout",
     "output_type": "stream",
     "text": [
      "136/136 [==============================] - 0s 661us/step\n"
     ]
    },
    {
     "name": "stderr",
     "output_type": "stream",
     "text": [
      "Smoothing: 100%|██████████| 3/3 [00:00<00:00,  4.11it/s]"
     ]
    },
    {
     "name": "stdout",
     "output_type": "stream",
     "text": [
      "Precision: 1.00\n",
      "Recall: 0.67\n",
      "F2: 0.71\n",
      "RMSE: 3.10\n"
     ]
    },
    {
     "name": "stderr",
     "output_type": "stream",
     "text": [
      "\n"
     ]
    }
   ],
   "source": [
    "df_train=prepare_submission_df(ds=train_EW, model=dense_combined_model.model, model_output_features=['EW', 'NS'],\n",
    "                               label_decoders=[ds_gen.combined_label_encoder, ds_gen.combined_label_encoder],\n",
    "                               smoothing=True, smoothing_past_steps=3, smoothing_fut_steps=10)\n",
    "evaluate_submission_df(df_train, ground_truth_train)\n",
    "\n",
    "\n",
    "# Dense result: F2 0.49/0.32 (t/v)\n",
    "# Dense result(w/ future): F2 0.46/0.45 (t/v) (256/128/54)\n",
    "\n",
    "# Conv result (no future): F2 0.53/0.37\n",
    "# Conv result (w/ future): F2 0.51/0.38"
   ]
  },
  {
   "cell_type": "code",
   "execution_count": 37,
   "metadata": {},
   "outputs": [
    {
     "name": "stdout",
     "output_type": "stream",
     "text": [
      "68/68 [==============================] - 0s 828us/step\n"
     ]
    },
    {
     "name": "stderr",
     "output_type": "stream",
     "text": [
      "Smoothing: 100%|██████████| 2/2 [00:00<00:00,  5.51it/s]"
     ]
    },
    {
     "name": "stdout",
     "output_type": "stream",
     "text": [
      "Precision: 0.20\n",
      "Recall: 0.40\n",
      "F2: 0.33\n",
      "RMSE: 4.24\n"
     ]
    },
    {
     "name": "stderr",
     "output_type": "stream",
     "text": [
      "\n"
     ]
    }
   ],
   "source": [
    "train_EW, val_EW = ds_gen.get_datasets(256, label_features=['EW', 'NS'], shuffle=False, keep_identifier=True)\n",
    "df_val=prepare_submission_df(ds=val_EW, model=dense_combined_model.model, model_output_features=['EW', 'NS'],\n",
    "                                label_decoders=[ds_gen.combined_label_encoder, ds_gen.combined_label_encoder],\n",
    "                               smoothing=True, smoothing_past_steps=3, smoothing_fut_steps=10)\n",
    "evaluate_submission_df(df_val, ground_truth_val)\n"
   ]
  },
  {
   "cell_type": "code",
   "execution_count": null,
   "metadata": {},
   "outputs": [],
   "source": []
  }
 ],
 "metadata": {
  "kernelspec": {
   "display_name": "splid",
   "language": "python",
   "name": "python3"
  },
  "language_info": {
   "codemirror_mode": {
    "name": "ipython",
    "version": 3
   },
   "file_extension": ".py",
   "mimetype": "text/x-python",
   "name": "python",
   "nbconvert_exporter": "python",
   "pygments_lexer": "ipython3",
   "version": "3.10.13"
  }
 },
 "nbformat": 4,
 "nbformat_minor": 2
}
