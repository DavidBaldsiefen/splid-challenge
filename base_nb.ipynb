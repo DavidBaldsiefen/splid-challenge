{
 "cells": [
  {
   "cell_type": "code",
   "execution_count": 1,
   "metadata": {},
   "outputs": [
    {
     "name": "stderr",
     "output_type": "stream",
     "text": [
      "2023-12-25 12:19:39.352240: I tensorflow/core/util/port.cc:113] oneDNN custom operations are on. You may see slightly different numerical results due to floating-point round-off errors from different computation orders. To turn them off, set the environment variable `TF_ENABLE_ONEDNN_OPTS=0`.\n",
      "2023-12-25 12:19:39.380217: E external/local_xla/xla/stream_executor/cuda/cuda_dnn.cc:9261] Unable to register cuDNN factory: Attempting to register factory for plugin cuDNN when one has already been registered\n",
      "2023-12-25 12:19:39.380251: E external/local_xla/xla/stream_executor/cuda/cuda_fft.cc:607] Unable to register cuFFT factory: Attempting to register factory for plugin cuFFT when one has already been registered\n",
      "2023-12-25 12:19:39.381120: E external/local_xla/xla/stream_executor/cuda/cuda_blas.cc:1515] Unable to register cuBLAS factory: Attempting to register factory for plugin cuBLAS when one has already been registered\n",
      "2023-12-25 12:19:39.386412: I tensorflow/core/platform/cpu_feature_guard.cc:182] This TensorFlow binary is optimized to use available CPU instructions in performance-critical operations.\n",
      "To enable the following instructions: AVX2 AVX_VNNI FMA, in other operations, rebuild TensorFlow with the appropriate compiler flags.\n",
      "2023-12-25 12:19:39.850374: W tensorflow/compiler/tf2tensorrt/utils/py_utils.cc:38] TF-TRT Warning: Could not find TensorRT\n"
     ]
    }
   ],
   "source": [
    "import pandas as pd\n",
    "import numpy as np\n",
    "import tensorflow as tf\n",
    "from pathlib import Path\n",
    "from tqdm import tqdm\n",
    "import random"
   ]
  },
  {
   "cell_type": "code",
   "execution_count": 2,
   "metadata": {},
   "outputs": [],
   "source": [
    "%load_ext autoreload\n",
    "%autoreload 2\n",
    "from base import utils, datahandler, prediction_models, evaluation"
   ]
  },
  {
   "cell_type": "code",
   "execution_count": 3,
   "metadata": {},
   "outputs": [],
   "source": [
    "# Define the directory paths\n",
    "challenge_data_dir = Path('dataset/phase_1/')\n",
    "data_dir = challenge_data_dir / \"train\"\n",
    "labels_dir = challenge_data_dir / 'train_labels.csv'\n",
    "\n",
    "split_dataframes = datahandler.load_and_prepare_dataframes(data_dir, labels_dir)"
   ]
  },
  {
   "cell_type": "code",
   "execution_count": 4,
   "metadata": {},
   "outputs": [],
   "source": [
    "input_features = ['Eccentricity', 'Semimajor Axis (m)', 'Inclination (deg)', 'RAAN (deg)',\n",
    "       'Argument of Periapsis (deg)', 'True Anomaly (deg)', 'Latitude (deg)',\n",
    "       'Longitude (deg)', 'Altitude (m)', 'X (m)', 'Y (m)', 'Z (m)',\n",
    "       'Vx (m/s)', 'Vy (m/s)', 'Vz (m/s)']"
   ]
  },
  {
   "cell_type": "code",
   "execution_count": 5,
   "metadata": {},
   "outputs": [
    {
     "name": "stdout",
     "output_type": "stream",
     "text": [
      "['SS-CK', 'SS-NK', 'AD-NK', 'IK-CK', 'SS-HK', 'ID-NK', 'SS-EK', 'IK-HK', 'IK-EK']\n",
      "['SS-HK', 'ID-NK', 'SS-CK', 'SS-NK', 'AD-NK', 'IK-CK', 'IK-HK', 'SS-EK']\n",
      "['SS-CK', 'SS-NK', 'IK-CK', 'SS-HK', 'ID-NK', 'IK-EK', 'IK-HK', 'SS-EK']\n",
      "['SS-HK', 'ID-NK', 'SS-CK', 'SS-NK', 'IK-CK', 'IK-HK', 'SS-EK']\n"
     ]
    }
   ],
   "source": [
    "# get all labels in the dataframes\n",
    "keys_list = list(split_dataframes.keys())\n",
    "random.Random(69).shuffle(keys_list) # shuffle, but with a seed for reproducability\n",
    "split_idx = int(len(keys_list) * 0.8)\n",
    "train_keys = keys_list[:split_idx]\n",
    "train_labels_EW = []\n",
    "train_labels_NS = []\n",
    "val_keys = keys_list[split_idx:]\n",
    "val_labels_EW = []\n",
    "val_labels_NS = []\n",
    "for key in train_keys:\n",
    "    train_labels_EW += list(split_dataframes[key]['EW'].unique())\n",
    "    train_labels_NS += list(split_dataframes[key]['NS'].unique())\n",
    "for key in val_keys:\n",
    "    val_labels_EW += list(split_dataframes[key]['EW'].unique())\n",
    "    val_labels_NS += list(split_dataframes[key]['NS'].unique())\n",
    "train_labels_EW = list(dict.fromkeys(train_labels_EW))\n",
    "train_labels_NS = list(dict.fromkeys(train_labels_NS))\n",
    "val_labels_EW = list(dict.fromkeys(val_labels_EW))\n",
    "val_labels_NS = list(dict.fromkeys(val_labels_NS))\n",
    "print(train_labels_EW)\n",
    "print(val_labels_EW)\n",
    "print(train_labels_NS)\n",
    "print(val_labels_NS)\n"
   ]
  },
  {
   "cell_type": "code",
   "execution_count": 6,
   "metadata": {},
   "outputs": [],
   "source": [
    "some_dataframes = {}\n",
    "for df_k in ['121', '108', '124']:#list(split_dataframes.keys())[:3]:\n",
    "    some_dataframes[df_k] = split_dataframes[df_k]"
   ]
  },
  {
   "cell_type": "code",
   "execution_count": 7,
   "metadata": {},
   "outputs": [
    {
     "name": "stdout",
     "output_type": "stream",
     "text": [
      "Creating dataset from 2 train and 1 val objects\n",
      "Creating datasets with labels ['EW', 'EW_Node', 'EW_Type', 'NS', 'NS_Node', 'NS_Type']\n"
     ]
    },
    {
     "name": "stderr",
     "output_type": "stream",
     "text": [
      "2023-12-25 12:19:45.284808: I external/local_xla/xla/stream_executor/cuda/cuda_executor.cc:901] successful NUMA node read from SysFS had negative value (-1), but there must be at least one NUMA node, so returning NUMA node zero. See more at https://github.com/torvalds/linux/blob/v6.0/Documentation/ABI/testing/sysfs-bus-pci#L344-L355\n",
      "2023-12-25 12:19:45.314960: I external/local_xla/xla/stream_executor/cuda/cuda_executor.cc:901] successful NUMA node read from SysFS had negative value (-1), but there must be at least one NUMA node, so returning NUMA node zero. See more at https://github.com/torvalds/linux/blob/v6.0/Documentation/ABI/testing/sysfs-bus-pci#L344-L355\n",
      "2023-12-25 12:19:45.315132: I external/local_xla/xla/stream_executor/cuda/cuda_executor.cc:901] successful NUMA node read from SysFS had negative value (-1), but there must be at least one NUMA node, so returning NUMA node zero. See more at https://github.com/torvalds/linux/blob/v6.0/Documentation/ABI/testing/sysfs-bus-pci#L344-L355\n",
      "2023-12-25 12:19:45.316077: I external/local_xla/xla/stream_executor/cuda/cuda_executor.cc:901] successful NUMA node read from SysFS had negative value (-1), but there must be at least one NUMA node, so returning NUMA node zero. See more at https://github.com/torvalds/linux/blob/v6.0/Documentation/ABI/testing/sysfs-bus-pci#L344-L355\n",
      "2023-12-25 12:19:45.316188: I external/local_xla/xla/stream_executor/cuda/cuda_executor.cc:901] successful NUMA node read from SysFS had negative value (-1), but there must be at least one NUMA node, so returning NUMA node zero. See more at https://github.com/torvalds/linux/blob/v6.0/Documentation/ABI/testing/sysfs-bus-pci#L344-L355\n",
      "2023-12-25 12:19:45.316254: I external/local_xla/xla/stream_executor/cuda/cuda_executor.cc:901] successful NUMA node read from SysFS had negative value (-1), but there must be at least one NUMA node, so returning NUMA node zero. See more at https://github.com/torvalds/linux/blob/v6.0/Documentation/ABI/testing/sysfs-bus-pci#L344-L355\n",
      "2023-12-25 12:19:45.356287: I external/local_xla/xla/stream_executor/cuda/cuda_executor.cc:901] successful NUMA node read from SysFS had negative value (-1), but there must be at least one NUMA node, so returning NUMA node zero. See more at https://github.com/torvalds/linux/blob/v6.0/Documentation/ABI/testing/sysfs-bus-pci#L344-L355\n",
      "2023-12-25 12:19:45.356429: I external/local_xla/xla/stream_executor/cuda/cuda_executor.cc:901] successful NUMA node read from SysFS had negative value (-1), but there must be at least one NUMA node, so returning NUMA node zero. See more at https://github.com/torvalds/linux/blob/v6.0/Documentation/ABI/testing/sysfs-bus-pci#L344-L355\n",
      "2023-12-25 12:19:45.356509: I external/local_xla/xla/stream_executor/cuda/cuda_executor.cc:901] successful NUMA node read from SysFS had negative value (-1), but there must be at least one NUMA node, so returning NUMA node zero. See more at https://github.com/torvalds/linux/blob/v6.0/Documentation/ABI/testing/sysfs-bus-pci#L344-L355\n",
      "2023-12-25 12:19:45.356574: I tensorflow/core/common_runtime/gpu/gpu_device.cc:1929] Created device /job:localhost/replica:0/task:0/device:GPU:0 with 2272 MB memory:  -> device: 0, name: NVIDIA GeForce RTX 3050 Ti Laptop GPU, pci bus id: 0000:01:00.0, compute capability: 8.6\n"
     ]
    },
    {
     "name": "stdout",
     "output_type": "stream",
     "text": [
      "Created datasets with seed 69\n"
     ]
    }
   ],
   "source": [
    "ds_gen = datahandler.DatasetGenerator(split_df=some_dataframes, input_features=input_features,\n",
    "                                      train_val_split=0.85, stride=1,\n",
    "                                      input_history_steps=8, input_future_steps=8, seed=69)"
   ]
  },
  {
   "cell_type": "code",
   "execution_count": 8,
   "metadata": {},
   "outputs": [
    {
     "name": "stderr",
     "output_type": "stream",
     "text": [
      "2023-12-25 12:19:46.578940: I external/local_tsl/tsl/platform/default/subprocess.cc:304] Start cannot spawn child process: No such file or directory\n"
     ]
    },
    {
     "name": "stdout",
     "output_type": "stream",
     "text": [
      "(TensorSpec(shape=(None, 16, 15), dtype=tf.float64, name=None), {'EW': TensorSpec(shape=(None,), dtype=tf.int32, name=None), 'NS': TensorSpec(shape=(None,), dtype=tf.int32, name=None)})\n"
     ]
    }
   ],
   "source": [
    "train_combined, val_combined = ds_gen.get_datasets(512, label_features=['EW', 'NS'], shuffle=True)\n",
    "print(train_combined.element_spec)\n"
   ]
  },
  {
   "cell_type": "code",
   "execution_count": 13,
   "metadata": {},
   "outputs": [
    {
     "name": "stdout",
     "output_type": "stream",
     "text": [
      "Model: \"model_4\"\n",
      "__________________________________________________________________________________________________\n",
      " Layer (type)                Output Shape                 Param #   Connected to                  \n",
      "==================================================================================================\n",
      " Input (InputLayer)          [(None, 16, 15)]             0         []                            \n",
      "                                                                                                  \n",
      " flatten_4 (Flatten)         (None, 240)                  0         ['Input[0][0]']               \n",
      "                                                                                                  \n",
      " dense_12 (Dense)            (None, 256)                  61696     ['flatten_4[0][0]']           \n",
      "                                                                                                  \n",
      " dense_13 (Dense)            (None, 128)                  32896     ['dense_12[0][0]']            \n",
      "                                                                                                  \n",
      " dense_14 (Dense)            (None, 64)                   8256      ['dense_13[0][0]']            \n",
      "                                                                                                  \n",
      " EW (Dense)                  (None, 20)                   1300      ['dense_14[0][0]']            \n",
      "                                                                                                  \n",
      " NS (Dense)                  (None, 20)                   1300      ['dense_14[0][0]']            \n",
      "                                                                                                  \n",
      "==================================================================================================\n",
      "Total params: 105448 (411.91 KB)\n",
      "Trainable params: 105448 (411.91 KB)\n",
      "Non-trainable params: 0 (0.00 Byte)\n",
      "__________________________________________________________________________________________________\n",
      "Starting training. Optimizing \"EW_accuracy\"\n",
      "Epoch 1/75\n",
      "1/9 [==>...........................] - ETA: 5s - loss: 7.0169 - EW_loss: 3.2699 - NS_loss: 3.7470 - EW_accuracy: 0.0000e+00 - NS_accuracy: 0.0000e+00\n",
      "Epoch 1: EW_accuracy improved from -inf to 0.46455, saving model to best_model.hdf5\n",
      "9/9 [==============================] - 1s 21ms/step - loss: 4.3905 - EW_loss: 2.0546 - NS_loss: 2.3359 - EW_accuracy: 0.4645 - NS_accuracy: 0.4314 - val_loss: 0.7136 - val_EW_loss: 0.6635 - val_NS_loss: 0.0501 - val_EW_accuracy: 0.8310 - val_NS_accuracy: 0.9995\n",
      "Epoch 2/75\n",
      "1/9 [==>...........................] - ETA: 0s - loss: 2.0753 - EW_loss: 0.8123 - NS_loss: 1.2630 - EW_accuracy: 0.9277 - NS_accuracy: 0.7051\n",
      "Epoch 2: EW_accuracy improved from 0.46455 to 0.91529, saving model to best_model.hdf5\n",
      "9/9 [==============================] - 0s 10ms/step - loss: 1.1633 - EW_loss: 0.4509 - NS_loss: 0.7124 - EW_accuracy: 0.9153 - NS_accuracy: 0.8027 - val_loss: 0.3918 - val_EW_loss: 0.3828 - val_NS_loss: 0.0090 - val_EW_accuracy: 0.8356 - val_NS_accuracy: 0.9995\n",
      "Epoch 3/75\n",
      "1/9 [==>...........................] - ETA: 0s - loss: 0.3574 - EW_loss: 0.1485 - NS_loss: 0.2089 - EW_accuracy: 0.9648 - NS_accuracy: 0.9473\n",
      "Epoch 3: EW_accuracy improved from 0.91529 to 0.97790, saving model to best_model.hdf5\n",
      "9/9 [==============================] - 0s 9ms/step - loss: 0.2846 - EW_loss: 0.0907 - NS_loss: 0.1939 - EW_accuracy: 0.9779 - NS_accuracy: 0.9376 - val_loss: 0.1836 - val_EW_loss: 0.1816 - val_NS_loss: 0.0020 - val_EW_accuracy: 0.9038 - val_NS_accuracy: 0.9995\n",
      "Epoch 4/75\n",
      "1/9 [==>...........................] - ETA: 0s - loss: 0.1308 - EW_loss: 0.0278 - NS_loss: 0.1030 - EW_accuracy: 0.9961 - NS_accuracy: 0.9727\n",
      "Epoch 4: EW_accuracy improved from 0.97790 to 0.99286, saving model to best_model.hdf5\n",
      "9/9 [==============================] - 0s 9ms/step - loss: 0.1297 - EW_loss: 0.0305 - NS_loss: 0.0992 - EW_accuracy: 0.9929 - NS_accuracy: 0.9724 - val_loss: 0.1299 - val_EW_loss: 0.1280 - val_NS_loss: 0.0019 - val_EW_accuracy: 0.9332 - val_NS_accuracy: 0.9995\n",
      "Epoch 5/75\n",
      "1/9 [==>...........................] - ETA: 0s - loss: 0.0997 - EW_loss: 0.0113 - NS_loss: 0.0884 - EW_accuracy: 1.0000 - NS_accuracy: 0.9707\n",
      "Epoch 5: EW_accuracy improved from 0.99286 to 0.99494, saving model to best_model.hdf5\n",
      "9/9 [==============================] - 0s 10ms/step - loss: 0.1002 - EW_loss: 0.0212 - NS_loss: 0.0790 - EW_accuracy: 0.9949 - NS_accuracy: 0.9692 - val_loss: 0.0812 - val_EW_loss: 0.0796 - val_NS_loss: 0.0015 - val_EW_accuracy: 0.9609 - val_NS_accuracy: 0.9995\n",
      "Epoch 6/75\n",
      "1/9 [==>...........................] - ETA: 0s - loss: 0.0824 - EW_loss: 0.0252 - NS_loss: 0.0572 - EW_accuracy: 0.9883 - NS_accuracy: 0.9824\n",
      "Epoch 6: EW_accuracy did not improve from 0.99494\n",
      "9/9 [==============================] - 0s 9ms/step - loss: 0.0869 - EW_loss: 0.0188 - NS_loss: 0.0681 - EW_accuracy: 0.9938 - NS_accuracy: 0.9710 - val_loss: 0.0677 - val_EW_loss: 0.0662 - val_NS_loss: 0.0015 - val_EW_accuracy: 0.9728 - val_NS_accuracy: 0.9995\n",
      "Epoch 7/75\n",
      "1/9 [==>...........................] - ETA: 0s - loss: 0.0986 - EW_loss: 0.0257 - NS_loss: 0.0730 - EW_accuracy: 0.9941 - NS_accuracy: 0.9707\n",
      "Epoch 7: EW_accuracy improved from 0.99494 to 0.99540, saving model to best_model.hdf5\n",
      "9/9 [==============================] - 0s 10ms/step - loss: 0.0760 - EW_loss: 0.0163 - NS_loss: 0.0597 - EW_accuracy: 0.9954 - NS_accuracy: 0.9721 - val_loss: 0.0557 - val_EW_loss: 0.0542 - val_NS_loss: 0.0015 - val_EW_accuracy: 0.9802 - val_NS_accuracy: 0.9995\n",
      "Epoch 8/75\n",
      "1/9 [==>...........................] - ETA: 0s - loss: 0.0736 - EW_loss: 0.0169 - NS_loss: 0.0567 - EW_accuracy: 0.9941 - NS_accuracy: 0.9766\n",
      "Epoch 8: EW_accuracy improved from 0.99540 to 0.99563, saving model to best_model.hdf5\n",
      "9/9 [==============================] - 0s 9ms/step - loss: 0.0717 - EW_loss: 0.0152 - NS_loss: 0.0565 - EW_accuracy: 0.9956 - NS_accuracy: 0.9765 - val_loss: 0.0531 - val_EW_loss: 0.0517 - val_NS_loss: 0.0015 - val_EW_accuracy: 0.9816 - val_NS_accuracy: 0.9995\n",
      "Epoch 9/75\n",
      "1/9 [==>...........................] - ETA: 0s - loss: 0.0644 - EW_loss: 0.0129 - NS_loss: 0.0516 - EW_accuracy: 0.9980 - NS_accuracy: 0.9727\n",
      "Epoch 9: EW_accuracy did not improve from 0.99563\n",
      "9/9 [==============================] - 0s 9ms/step - loss: 0.0689 - EW_loss: 0.0141 - NS_loss: 0.0547 - EW_accuracy: 0.9956 - NS_accuracy: 0.9738 - val_loss: 0.0482 - val_EW_loss: 0.0467 - val_NS_loss: 0.0015 - val_EW_accuracy: 0.9848 - val_NS_accuracy: 0.9995\n",
      "Epoch 10/75\n",
      "1/9 [==>...........................] - ETA: 0s - loss: 0.0719 - EW_loss: 0.0174 - NS_loss: 0.0546 - EW_accuracy: 0.9941 - NS_accuracy: 0.9727\n",
      "Epoch 10: EW_accuracy improved from 0.99563 to 0.99678, saving model to best_model.hdf5\n",
      "9/9 [==============================] - 0s 10ms/step - loss: 0.0672 - EW_loss: 0.0139 - NS_loss: 0.0533 - EW_accuracy: 0.9968 - NS_accuracy: 0.9728 - val_loss: 0.0394 - val_EW_loss: 0.0378 - val_NS_loss: 0.0016 - val_EW_accuracy: 0.9894 - val_NS_accuracy: 0.9995\n",
      "Epoch 11/75\n",
      "1/9 [==>...........................] - ETA: 0s - loss: 0.0820 - EW_loss: 0.0214 - NS_loss: 0.0606 - EW_accuracy: 0.9941 - NS_accuracy: 0.9746\n",
      "Epoch 11: EW_accuracy did not improve from 0.99678\n",
      "9/9 [==============================] - 0s 9ms/step - loss: 0.0654 - EW_loss: 0.0134 - NS_loss: 0.0520 - EW_accuracy: 0.9961 - NS_accuracy: 0.9772 - val_loss: 0.0432 - val_EW_loss: 0.0418 - val_NS_loss: 0.0015 - val_EW_accuracy: 0.9871 - val_NS_accuracy: 0.9995\n",
      "Epoch 12/75\n",
      "1/9 [==>...........................] - ETA: 0s - loss: 0.0600 - EW_loss: 0.0092 - NS_loss: 0.0508 - EW_accuracy: 0.9980 - NS_accuracy: 0.9727\n",
      "Epoch 12: EW_accuracy improved from 0.99678 to 0.99701, saving model to best_model.hdf5\n",
      "9/9 [==============================] - 0s 9ms/step - loss: 0.0610 - EW_loss: 0.0124 - NS_loss: 0.0486 - EW_accuracy: 0.9970 - NS_accuracy: 0.9774 - val_loss: 0.0367 - val_EW_loss: 0.0352 - val_NS_loss: 0.0015 - val_EW_accuracy: 0.9899 - val_NS_accuracy: 0.9995\n",
      "Epoch 13/75\n",
      "1/9 [==>...........................] - ETA: 0s - loss: 0.0529 - EW_loss: 0.0147 - NS_loss: 0.0382 - EW_accuracy: 0.9961 - NS_accuracy: 0.9824\n",
      "Epoch 13: EW_accuracy did not improve from 0.99701\n",
      "9/9 [==============================] - 0s 9ms/step - loss: 0.0590 - EW_loss: 0.0121 - NS_loss: 0.0469 - EW_accuracy: 0.9970 - NS_accuracy: 0.9791 - val_loss: 0.0328 - val_EW_loss: 0.0313 - val_NS_loss: 0.0015 - val_EW_accuracy: 0.9908 - val_NS_accuracy: 0.9995\n",
      "Epoch 14/75\n",
      "1/9 [==>...........................] - ETA: 0s - loss: 0.0795 - EW_loss: 0.0207 - NS_loss: 0.0588 - EW_accuracy: 0.9941 - NS_accuracy: 0.9688\n",
      "Epoch 14: EW_accuracy did not improve from 0.99701\n",
      "9/9 [==============================] - 0s 9ms/step - loss: 0.0566 - EW_loss: 0.0112 - NS_loss: 0.0453 - EW_accuracy: 0.9968 - NS_accuracy: 0.9786 - val_loss: 0.0355 - val_EW_loss: 0.0340 - val_NS_loss: 0.0015 - val_EW_accuracy: 0.9903 - val_NS_accuracy: 0.9995\n",
      "Epoch 15/75\n",
      "1/9 [==>...........................] - ETA: 0s - loss: 0.0547 - EW_loss: 0.0137 - NS_loss: 0.0410 - EW_accuracy: 0.9961 - NS_accuracy: 0.9844\n",
      "Epoch 15: EW_accuracy improved from 0.99701 to 0.99724, saving model to best_model.hdf5\n",
      "9/9 [==============================] - 0s 9ms/step - loss: 0.0551 - EW_loss: 0.0108 - NS_loss: 0.0443 - EW_accuracy: 0.9972 - NS_accuracy: 0.9804 - val_loss: 0.0333 - val_EW_loss: 0.0317 - val_NS_loss: 0.0015 - val_EW_accuracy: 0.9908 - val_NS_accuracy: 0.9995\n",
      "Epoch 16/75\n",
      "1/9 [==>...........................] - ETA: 0s - loss: 0.0710 - EW_loss: 0.0163 - NS_loss: 0.0547 - EW_accuracy: 0.9941 - NS_accuracy: 0.9707\n",
      "Epoch 16: EW_accuracy improved from 0.99724 to 0.99747, saving model to best_model.hdf5\n",
      "9/9 [==============================] - 0s 9ms/step - loss: 0.0545 - EW_loss: 0.0107 - NS_loss: 0.0438 - EW_accuracy: 0.9975 - NS_accuracy: 0.9797 - val_loss: 0.0288 - val_EW_loss: 0.0273 - val_NS_loss: 0.0015 - val_EW_accuracy: 0.9940 - val_NS_accuracy: 0.9995\n",
      "Epoch 17/75\n",
      "1/9 [==>...........................] - ETA: 0s - loss: 0.0332 - EW_loss: 0.0045 - NS_loss: 0.0288 - EW_accuracy: 1.0000 - NS_accuracy: 0.9883\n",
      "Epoch 17: EW_accuracy did not improve from 0.99747\n",
      "9/9 [==============================] - 0s 9ms/step - loss: 0.0531 - EW_loss: 0.0102 - NS_loss: 0.0428 - EW_accuracy: 0.9975 - NS_accuracy: 0.9811 - val_loss: 0.0285 - val_EW_loss: 0.0270 - val_NS_loss: 0.0015 - val_EW_accuracy: 0.9945 - val_NS_accuracy: 0.9995\n",
      "Epoch 18/75\n",
      "1/9 [==>...........................] - ETA: 0s - loss: 0.0601 - EW_loss: 0.0094 - NS_loss: 0.0506 - EW_accuracy: 0.9980 - NS_accuracy: 0.9727\n",
      "Epoch 18: EW_accuracy improved from 0.99747 to 0.99770, saving model to best_model.hdf5\n",
      "9/9 [==============================] - 0s 9ms/step - loss: 0.0539 - EW_loss: 0.0097 - NS_loss: 0.0441 - EW_accuracy: 0.9977 - NS_accuracy: 0.9797 - val_loss: 0.0274 - val_EW_loss: 0.0258 - val_NS_loss: 0.0016 - val_EW_accuracy: 0.9940 - val_NS_accuracy: 0.9995\n",
      "Epoch 19/75\n",
      "1/9 [==>...........................] - ETA: 0s - loss: 0.0564 - EW_loss: 0.0096 - NS_loss: 0.0468 - EW_accuracy: 0.9980 - NS_accuracy: 0.9844\n",
      "Epoch 19: EW_accuracy did not improve from 0.99770\n",
      "9/9 [==============================] - 0s 8ms/step - loss: 0.0499 - EW_loss: 0.0093 - NS_loss: 0.0406 - EW_accuracy: 0.9977 - NS_accuracy: 0.9811 - val_loss: 0.0268 - val_EW_loss: 0.0253 - val_NS_loss: 0.0016 - val_EW_accuracy: 0.9949 - val_NS_accuracy: 0.9995\n",
      "Epoch 20/75\n",
      "1/9 [==>...........................] - ETA: 0s - loss: 0.0430 - EW_loss: 0.0079 - NS_loss: 0.0351 - EW_accuracy: 0.9980 - NS_accuracy: 0.9844\n",
      "Epoch 20: EW_accuracy improved from 0.99770 to 0.99793, saving model to best_model.hdf5\n",
      "9/9 [==============================] - 0s 9ms/step - loss: 0.0512 - EW_loss: 0.0091 - NS_loss: 0.0421 - EW_accuracy: 0.9979 - NS_accuracy: 0.9795 - val_loss: 0.0243 - val_EW_loss: 0.0228 - val_NS_loss: 0.0016 - val_EW_accuracy: 0.9959 - val_NS_accuracy: 0.9995\n",
      "Epoch 21/75\n",
      "1/9 [==>...........................] - ETA: 0s - loss: 0.0306 - EW_loss: 0.0021 - NS_loss: 0.0285 - EW_accuracy: 1.0000 - NS_accuracy: 0.9902\n",
      "Epoch 21: EW_accuracy did not improve from 0.99793\n",
      "9/9 [==============================] - 0s 8ms/step - loss: 0.0483 - EW_loss: 0.0089 - NS_loss: 0.0394 - EW_accuracy: 0.9975 - NS_accuracy: 0.9820 - val_loss: 0.0243 - val_EW_loss: 0.0227 - val_NS_loss: 0.0016 - val_EW_accuracy: 0.9959 - val_NS_accuracy: 0.9995\n",
      "Epoch 22/75\n",
      "1/9 [==>...........................] - ETA: 0s - loss: 0.0511 - EW_loss: 0.0129 - NS_loss: 0.0381 - EW_accuracy: 0.9961 - NS_accuracy: 0.9805\n",
      "Epoch 22: EW_accuracy did not improve from 0.99793\n",
      "9/9 [==============================] - 0s 8ms/step - loss: 0.0449 - EW_loss: 0.0081 - NS_loss: 0.0367 - EW_accuracy: 0.9977 - NS_accuracy: 0.9825 - val_loss: 0.0224 - val_EW_loss: 0.0208 - val_NS_loss: 0.0016 - val_EW_accuracy: 0.9959 - val_NS_accuracy: 0.9995\n",
      "Epoch 23/75\n",
      "1/9 [==>...........................] - ETA: 0s - loss: 0.0706 - EW_loss: 0.0256 - NS_loss: 0.0450 - EW_accuracy: 0.9922 - NS_accuracy: 0.9785\n",
      "Epoch 23: EW_accuracy did not improve from 0.99793\n",
      "9/9 [==============================] - 0s 8ms/step - loss: 0.0437 - EW_loss: 0.0081 - NS_loss: 0.0356 - EW_accuracy: 0.9979 - NS_accuracy: 0.9830 - val_loss: 0.0228 - val_EW_loss: 0.0211 - val_NS_loss: 0.0016 - val_EW_accuracy: 0.9959 - val_NS_accuracy: 0.9995\n",
      "Epoch 24/75\n",
      "1/9 [==>...........................] - ETA: 0s - loss: 0.0403 - EW_loss: 0.0083 - NS_loss: 0.0319 - EW_accuracy: 0.9961 - NS_accuracy: 0.9883\n",
      "Epoch 24: EW_accuracy did not improve from 0.99793\n",
      "9/9 [==============================] - 0s 8ms/step - loss: 0.0437 - EW_loss: 0.0079 - NS_loss: 0.0358 - EW_accuracy: 0.9977 - NS_accuracy: 0.9830 - val_loss: 0.0211 - val_EW_loss: 0.0193 - val_NS_loss: 0.0017 - val_EW_accuracy: 0.9963 - val_NS_accuracy: 0.9995\n",
      "Epoch 25/75\n",
      "1/9 [==>...........................] - ETA: 0s - loss: 0.0354 - EW_loss: 0.0038 - NS_loss: 0.0316 - EW_accuracy: 1.0000 - NS_accuracy: 0.9863\n",
      "Epoch 25: EW_accuracy improved from 0.99793 to 0.99839, saving model to best_model.hdf5\n",
      "9/9 [==============================] - 0s 9ms/step - loss: 0.0438 - EW_loss: 0.0081 - NS_loss: 0.0357 - EW_accuracy: 0.9984 - NS_accuracy: 0.9832 - val_loss: 0.0217 - val_EW_loss: 0.0198 - val_NS_loss: 0.0019 - val_EW_accuracy: 0.9963 - val_NS_accuracy: 0.9995\n",
      "Epoch 26/75\n",
      "1/9 [==>...........................] - ETA: 0s - loss: 0.0314 - EW_loss: 0.0020 - NS_loss: 0.0294 - EW_accuracy: 1.0000 - NS_accuracy: 0.9863\n",
      "Epoch 26: EW_accuracy did not improve from 0.99839\n",
      "9/9 [==============================] - 0s 8ms/step - loss: 0.0435 - EW_loss: 0.0081 - NS_loss: 0.0354 - EW_accuracy: 0.9972 - NS_accuracy: 0.9848 - val_loss: 0.0217 - val_EW_loss: 0.0200 - val_NS_loss: 0.0017 - val_EW_accuracy: 0.9963 - val_NS_accuracy: 0.9995\n",
      "Epoch 27/75\n",
      "1/9 [==>...........................] - ETA: 0s - loss: 0.0315 - EW_loss: 0.0029 - NS_loss: 0.0286 - EW_accuracy: 1.0000 - NS_accuracy: 0.9902\n",
      "Epoch 27: EW_accuracy did not improve from 0.99839\n",
      "9/9 [==============================] - 0s 8ms/step - loss: 0.0396 - EW_loss: 0.0069 - NS_loss: 0.0326 - EW_accuracy: 0.9977 - NS_accuracy: 0.9862 - val_loss: 0.0189 - val_EW_loss: 0.0169 - val_NS_loss: 0.0020 - val_EW_accuracy: 0.9972 - val_NS_accuracy: 0.9995\n",
      "Epoch 28/75\n",
      "1/9 [==>...........................] - ETA: 0s - loss: 0.0255 - EW_loss: 0.0039 - NS_loss: 0.0216 - EW_accuracy: 0.9980 - NS_accuracy: 0.9902\n",
      "Epoch 28: EW_accuracy did not improve from 0.99839\n",
      "9/9 [==============================] - 0s 8ms/step - loss: 0.0365 - EW_loss: 0.0065 - NS_loss: 0.0300 - EW_accuracy: 0.9977 - NS_accuracy: 0.9864 - val_loss: 0.0205 - val_EW_loss: 0.0185 - val_NS_loss: 0.0019 - val_EW_accuracy: 0.9968 - val_NS_accuracy: 0.9995\n",
      "Epoch 29/75\n",
      "1/9 [==>...........................] - ETA: 0s - loss: 0.0408 - EW_loss: 0.0036 - NS_loss: 0.0372 - EW_accuracy: 1.0000 - NS_accuracy: 0.9902\n",
      "Epoch 29: EW_accuracy did not improve from 0.99839\n",
      "9/9 [==============================] - 0s 9ms/step - loss: 0.0336 - EW_loss: 0.0064 - NS_loss: 0.0273 - EW_accuracy: 0.9982 - NS_accuracy: 0.9896 - val_loss: 0.0199 - val_EW_loss: 0.0175 - val_NS_loss: 0.0024 - val_EW_accuracy: 0.9972 - val_NS_accuracy: 0.9995\n",
      "Epoch 30/75\n",
      "1/9 [==>...........................] - ETA: 0s - loss: 0.0371 - EW_loss: 0.0068 - NS_loss: 0.0302 - EW_accuracy: 0.9980 - NS_accuracy: 0.9883\n",
      "Epoch 30: EW_accuracy did not improve from 0.99839\n",
      "9/9 [==============================] - 0s 9ms/step - loss: 0.0342 - EW_loss: 0.0063 - NS_loss: 0.0279 - EW_accuracy: 0.9979 - NS_accuracy: 0.9890 - val_loss: 0.0195 - val_EW_loss: 0.0166 - val_NS_loss: 0.0030 - val_EW_accuracy: 0.9972 - val_NS_accuracy: 0.9995\n",
      "Epoch 31/75\n",
      "1/9 [==>...........................] - ETA: 0s - loss: 0.0379 - EW_loss: 0.0052 - NS_loss: 0.0327 - EW_accuracy: 0.9980 - NS_accuracy: 0.9844\n",
      "Epoch 31: EW_accuracy improved from 0.99839 to 0.99862, saving model to best_model.hdf5\n",
      "9/9 [==============================] - 0s 9ms/step - loss: 0.0325 - EW_loss: 0.0061 - NS_loss: 0.0264 - EW_accuracy: 0.9986 - NS_accuracy: 0.9908 - val_loss: 0.0171 - val_EW_loss: 0.0135 - val_NS_loss: 0.0035 - val_EW_accuracy: 0.9972 - val_NS_accuracy: 0.9995\n",
      "Epoch 32/75\n",
      "1/9 [==>...........................] - ETA: 0s - loss: 0.0471 - EW_loss: 0.0024 - NS_loss: 0.0447 - EW_accuracy: 0.9980 - NS_accuracy: 0.9785\n",
      "Epoch 32: EW_accuracy did not improve from 0.99862\n",
      "9/9 [==============================] - 0s 8ms/step - loss: 0.0344 - EW_loss: 0.0063 - NS_loss: 0.0281 - EW_accuracy: 0.9984 - NS_accuracy: 0.9892 - val_loss: 0.0202 - val_EW_loss: 0.0144 - val_NS_loss: 0.0058 - val_EW_accuracy: 0.9972 - val_NS_accuracy: 0.9995\n",
      "Epoch 33/75\n",
      "1/9 [==>...........................] - ETA: 0s - loss: 0.0095 - EW_loss: 9.3996e-04 - NS_loss: 0.0085 - EW_accuracy: 1.0000 - NS_accuracy: 0.9980\n",
      "Epoch 33: EW_accuracy did not improve from 0.99862\n",
      "9/9 [==============================] - 0s 8ms/step - loss: 0.0293 - EW_loss: 0.0059 - NS_loss: 0.0234 - EW_accuracy: 0.9979 - NS_accuracy: 0.9910 - val_loss: 0.0196 - val_EW_loss: 0.0146 - val_NS_loss: 0.0049 - val_EW_accuracy: 0.9972 - val_NS_accuracy: 0.9995\n",
      "Epoch 34/75\n",
      "1/9 [==>...........................] - ETA: 0s - loss: 0.0302 - EW_loss: 0.0040 - NS_loss: 0.0262 - EW_accuracy: 0.9980 - NS_accuracy: 0.9902\n",
      "Epoch 34: EW_accuracy did not improve from 0.99862\n",
      "9/9 [==============================] - 0s 8ms/step - loss: 0.0283 - EW_loss: 0.0052 - NS_loss: 0.0231 - EW_accuracy: 0.9986 - NS_accuracy: 0.9908 - val_loss: 0.0241 - val_EW_loss: 0.0159 - val_NS_loss: 0.0082 - val_EW_accuracy: 0.9972 - val_NS_accuracy: 0.9963\n",
      "Epoch 35/75\n",
      "1/9 [==>...........................] - ETA: 0s - loss: 0.0212 - EW_loss: 0.0029 - NS_loss: 0.0182 - EW_accuracy: 1.0000 - NS_accuracy: 0.9922\n",
      "Epoch 35: EW_accuracy did not improve from 0.99862\n",
      "9/9 [==============================] - 0s 8ms/step - loss: 0.0268 - EW_loss: 0.0050 - NS_loss: 0.0218 - EW_accuracy: 0.9986 - NS_accuracy: 0.9919 - val_loss: 0.0272 - val_EW_loss: 0.0149 - val_NS_loss: 0.0122 - val_EW_accuracy: 0.9972 - val_NS_accuracy: 0.9945\n",
      "Epoch 36/75\n",
      "1/9 [==>...........................] - ETA: 0s - loss: 0.0234 - EW_loss: 0.0033 - NS_loss: 0.0201 - EW_accuracy: 1.0000 - NS_accuracy: 0.9922\n",
      "Epoch 36: EW_accuracy did not improve from 0.99862\n",
      "9/9 [==============================] - 0s 8ms/step - loss: 0.0259 - EW_loss: 0.0050 - NS_loss: 0.0209 - EW_accuracy: 0.9986 - NS_accuracy: 0.9929 - val_loss: 0.0332 - val_EW_loss: 0.0140 - val_NS_loss: 0.0192 - val_EW_accuracy: 0.9972 - val_NS_accuracy: 0.9899\n",
      "Epoch 37/75\n",
      "1/9 [==>...........................] - ETA: 0s - loss: 0.0227 - EW_loss: 0.0060 - NS_loss: 0.0167 - EW_accuracy: 0.9980 - NS_accuracy: 0.9922\n",
      "Epoch 37: EW_accuracy did not improve from 0.99862\n",
      "9/9 [==============================] - 0s 9ms/step - loss: 0.0244 - EW_loss: 0.0047 - NS_loss: 0.0197 - EW_accuracy: 0.9986 - NS_accuracy: 0.9931 - val_loss: 0.0504 - val_EW_loss: 0.0137 - val_NS_loss: 0.0367 - val_EW_accuracy: 0.9972 - val_NS_accuracy: 0.9843\n",
      "Epoch 38/75\n",
      "1/9 [==>...........................] - ETA: 0s - loss: 0.0254 - EW_loss: 0.0055 - NS_loss: 0.0199 - EW_accuracy: 0.9980 - NS_accuracy: 0.9902\n",
      "Epoch 38: EW_accuracy did not improve from 0.99862\n",
      "9/9 [==============================] - 0s 9ms/step - loss: 0.0229 - EW_loss: 0.0051 - NS_loss: 0.0178 - EW_accuracy: 0.9986 - NS_accuracy: 0.9956 - val_loss: 0.0583 - val_EW_loss: 0.0135 - val_NS_loss: 0.0448 - val_EW_accuracy: 0.9972 - val_NS_accuracy: 0.9825\n",
      "Epoch 39/75\n",
      "1/9 [==>...........................] - ETA: 0s - loss: 0.0272 - EW_loss: 0.0085 - NS_loss: 0.0187 - EW_accuracy: 0.9961 - NS_accuracy: 0.9941\n",
      "Epoch 39: EW_accuracy did not improve from 0.99862\n",
      "9/9 [==============================] - 0s 8ms/step - loss: 0.0202 - EW_loss: 0.0044 - NS_loss: 0.0158 - EW_accuracy: 0.9986 - NS_accuracy: 0.9954 - val_loss: 0.0576 - val_EW_loss: 0.0132 - val_NS_loss: 0.0444 - val_EW_accuracy: 0.9972 - val_NS_accuracy: 0.9830\n",
      "Epoch 40/75\n",
      "1/9 [==>...........................] - ETA: 0s - loss: 0.0073 - EW_loss: 0.0011 - NS_loss: 0.0062 - EW_accuracy: 1.0000 - NS_accuracy: 1.0000\n",
      "Epoch 40: EW_accuracy improved from 0.99862 to 0.99885, saving model to best_model.hdf5\n",
      "9/9 [==============================] - 0s 9ms/step - loss: 0.0176 - EW_loss: 0.0041 - NS_loss: 0.0135 - EW_accuracy: 0.9988 - NS_accuracy: 0.9959 - val_loss: 0.0755 - val_EW_loss: 0.0140 - val_NS_loss: 0.0615 - val_EW_accuracy: 0.9972 - val_NS_accuracy: 0.9788\n",
      "Epoch 41/75\n",
      "1/9 [==>...........................] - ETA: 0s - loss: 0.0157 - EW_loss: 0.0029 - NS_loss: 0.0129 - EW_accuracy: 1.0000 - NS_accuracy: 0.9941\n",
      "Epoch 41: EW_accuracy improved from 0.99885 to 0.99931, saving model to best_model.hdf5\n",
      "9/9 [==============================] - 0s 10ms/step - loss: 0.0168 - EW_loss: 0.0041 - NS_loss: 0.0127 - EW_accuracy: 0.9993 - NS_accuracy: 0.9970 - val_loss: 0.0841 - val_EW_loss: 0.0129 - val_NS_loss: 0.0712 - val_EW_accuracy: 0.9972 - val_NS_accuracy: 0.9733\n",
      "Epoch 42/75\n",
      "1/9 [==>...........................] - ETA: 0s - loss: 0.0081 - EW_loss: 7.7635e-04 - NS_loss: 0.0074 - EW_accuracy: 1.0000 - NS_accuracy: 0.9980\n",
      "Epoch 42: EW_accuracy did not improve from 0.99931\n",
      "9/9 [==============================] - 0s 9ms/step - loss: 0.0167 - EW_loss: 0.0041 - NS_loss: 0.0126 - EW_accuracy: 0.9988 - NS_accuracy: 0.9959 - val_loss: 0.0954 - val_EW_loss: 0.0130 - val_NS_loss: 0.0825 - val_EW_accuracy: 0.9972 - val_NS_accuracy: 0.9715\n",
      "Epoch 43/75\n",
      "1/9 [==>...........................] - ETA: 0s - loss: 0.0180 - EW_loss: 0.0024 - NS_loss: 0.0156 - EW_accuracy: 1.0000 - NS_accuracy: 0.9922\n",
      "Epoch 43: EW_accuracy did not improve from 0.99931\n",
      "9/9 [==============================] - 0s 8ms/step - loss: 0.0152 - EW_loss: 0.0036 - NS_loss: 0.0116 - EW_accuracy: 0.9988 - NS_accuracy: 0.9961 - val_loss: 0.1201 - val_EW_loss: 0.0156 - val_NS_loss: 0.1045 - val_EW_accuracy: 0.9968 - val_NS_accuracy: 0.9655\n",
      "Epoch 44/75\n",
      "1/9 [==>...........................] - ETA: 0s - loss: 0.0202 - EW_loss: 0.0067 - NS_loss: 0.0136 - EW_accuracy: 0.9980 - NS_accuracy: 0.9980\n",
      "Epoch 44: EW_accuracy did not improve from 0.99931\n",
      "9/9 [==============================] - 0s 8ms/step - loss: 0.0143 - EW_loss: 0.0037 - NS_loss: 0.0106 - EW_accuracy: 0.9991 - NS_accuracy: 0.9972 - val_loss: 0.1195 - val_EW_loss: 0.0147 - val_NS_loss: 0.1049 - val_EW_accuracy: 0.9968 - val_NS_accuracy: 0.9627\n",
      "Epoch 45/75\n",
      "1/9 [==>...........................] - ETA: 0s - loss: 0.0199 - EW_loss: 0.0072 - NS_loss: 0.0127 - EW_accuracy: 0.9980 - NS_accuracy: 0.9980\n",
      "Epoch 45: EW_accuracy did not improve from 0.99931\n",
      "9/9 [==============================] - 0s 9ms/step - loss: 0.0151 - EW_loss: 0.0040 - NS_loss: 0.0110 - EW_accuracy: 0.9991 - NS_accuracy: 0.9972 - val_loss: 0.1393 - val_EW_loss: 0.0142 - val_NS_loss: 0.1251 - val_EW_accuracy: 0.9968 - val_NS_accuracy: 0.9563\n",
      "Epoch 46/75\n",
      "1/9 [==>...........................] - ETA: 0s - loss: 0.0105 - EW_loss: 9.8419e-04 - NS_loss: 0.0095 - EW_accuracy: 1.0000 - NS_accuracy: 0.9961\n",
      "Epoch 46: EW_accuracy did not improve from 0.99931\n",
      "9/9 [==============================] - 0s 8ms/step - loss: 0.0120 - EW_loss: 0.0030 - NS_loss: 0.0090 - EW_accuracy: 0.9993 - NS_accuracy: 0.9982 - val_loss: 0.1333 - val_EW_loss: 0.0142 - val_NS_loss: 0.1191 - val_EW_accuracy: 0.9968 - val_NS_accuracy: 0.9590\n",
      "Epoch 47/75\n",
      "1/9 [==>...........................] - ETA: 0s - loss: 0.0110 - EW_loss: 0.0036 - NS_loss: 0.0074 - EW_accuracy: 0.9980 - NS_accuracy: 0.9980\n",
      "Epoch 47: EW_accuracy did not improve from 0.99931\n",
      "9/9 [==============================] - 0s 8ms/step - loss: 0.0118 - EW_loss: 0.0030 - NS_loss: 0.0089 - EW_accuracy: 0.9993 - NS_accuracy: 0.9977 - val_loss: 0.1385 - val_EW_loss: 0.0125 - val_NS_loss: 0.1260 - val_EW_accuracy: 0.9982 - val_NS_accuracy: 0.9567\n",
      "Epoch 48/75\n",
      "1/9 [==>...........................] - ETA: 0s - loss: 0.0072 - EW_loss: 6.3478e-04 - NS_loss: 0.0066 - EW_accuracy: 1.0000 - NS_accuracy: 0.9980\n",
      "Epoch 48: EW_accuracy did not improve from 0.99931\n",
      "9/9 [==============================] - 0s 8ms/step - loss: 0.0139 - EW_loss: 0.0035 - NS_loss: 0.0104 - EW_accuracy: 0.9988 - NS_accuracy: 0.9977 - val_loss: 0.1871 - val_EW_loss: 0.0190 - val_NS_loss: 0.1681 - val_EW_accuracy: 0.9945 - val_NS_accuracy: 0.9484\n",
      "Epoch 49/75\n",
      "1/9 [==>...........................] - ETA: 0s - loss: 0.0141 - EW_loss: 8.1208e-04 - NS_loss: 0.0133 - EW_accuracy: 1.0000 - NS_accuracy: 0.9961\n",
      "Epoch 49: EW_accuracy did not improve from 0.99931\n",
      "9/9 [==============================] - 0s 8ms/step - loss: 0.0127 - EW_loss: 0.0034 - NS_loss: 0.0093 - EW_accuracy: 0.9993 - NS_accuracy: 0.9975 - val_loss: 0.1768 - val_EW_loss: 0.0135 - val_NS_loss: 0.1632 - val_EW_accuracy: 0.9972 - val_NS_accuracy: 0.9503\n",
      "Epoch 50/75\n",
      "1/9 [==>...........................] - ETA: 0s - loss: 0.0104 - EW_loss: 0.0045 - NS_loss: 0.0058 - EW_accuracy: 0.9980 - NS_accuracy: 1.0000\n",
      "Epoch 50: EW_accuracy did not improve from 0.99931\n",
      "9/9 [==============================] - 0s 9ms/step - loss: 0.0105 - EW_loss: 0.0030 - NS_loss: 0.0075 - EW_accuracy: 0.9993 - NS_accuracy: 0.9991 - val_loss: 0.1878 - val_EW_loss: 0.0159 - val_NS_loss: 0.1720 - val_EW_accuracy: 0.9963 - val_NS_accuracy: 0.9503\n",
      "Epoch 51/75\n",
      "1/9 [==>...........................] - ETA: 0s - loss: 0.0092 - EW_loss: 0.0014 - NS_loss: 0.0078 - EW_accuracy: 1.0000 - NS_accuracy: 0.9961\n",
      "Epoch 51: EW_accuracy did not improve from 0.99931\n",
      "9/9 [==============================] - 0s 8ms/step - loss: 0.0094 - EW_loss: 0.0027 - NS_loss: 0.0067 - EW_accuracy: 0.9993 - NS_accuracy: 0.9986 - val_loss: 0.1963 - val_EW_loss: 0.0154 - val_NS_loss: 0.1809 - val_EW_accuracy: 0.9972 - val_NS_accuracy: 0.9494\n",
      "Epoch 52/75\n",
      "1/9 [==>...........................] - ETA: 0s - loss: 0.0100 - EW_loss: 0.0015 - NS_loss: 0.0085 - EW_accuracy: 1.0000 - NS_accuracy: 0.9961\n",
      "Epoch 52: EW_accuracy improved from 0.99931 to 0.99954, saving model to best_model.hdf5\n",
      "9/9 [==============================] - 0s 9ms/step - loss: 0.0090 - EW_loss: 0.0025 - NS_loss: 0.0065 - EW_accuracy: 0.9995 - NS_accuracy: 0.9986 - val_loss: 0.2087 - val_EW_loss: 0.0136 - val_NS_loss: 0.1951 - val_EW_accuracy: 0.9972 - val_NS_accuracy: 0.9484\n",
      "Epoch 53/75\n",
      "1/9 [==>...........................] - ETA: 0s - loss: 0.0050 - EW_loss: 5.8753e-04 - NS_loss: 0.0044 - EW_accuracy: 1.0000 - NS_accuracy: 1.0000\n",
      "Epoch 53: EW_accuracy did not improve from 0.99954\n",
      "9/9 [==============================] - 0s 9ms/step - loss: 0.0086 - EW_loss: 0.0028 - NS_loss: 0.0058 - EW_accuracy: 0.9993 - NS_accuracy: 0.9988 - val_loss: 0.2418 - val_EW_loss: 0.0177 - val_NS_loss: 0.2241 - val_EW_accuracy: 0.9949 - val_NS_accuracy: 0.9429\n",
      "Epoch 54/75\n",
      "1/9 [==>...........................] - ETA: 0s - loss: 0.0058 - EW_loss: 6.0570e-04 - NS_loss: 0.0052 - EW_accuracy: 1.0000 - NS_accuracy: 1.0000\n",
      "Epoch 54: EW_accuracy did not improve from 0.99954\n",
      "9/9 [==============================] - 0s 9ms/step - loss: 0.0105 - EW_loss: 0.0023 - NS_loss: 0.0082 - EW_accuracy: 0.9993 - NS_accuracy: 0.9977 - val_loss: 0.2150 - val_EW_loss: 0.0134 - val_NS_loss: 0.2016 - val_EW_accuracy: 0.9972 - val_NS_accuracy: 0.9480\n",
      "Epoch 55/75\n",
      "1/9 [==>...........................] - ETA: 0s - loss: 0.0078 - EW_loss: 9.2816e-04 - NS_loss: 0.0069 - EW_accuracy: 1.0000 - NS_accuracy: 1.0000\n",
      "Epoch 55: EW_accuracy did not improve from 0.99954\n",
      "9/9 [==============================] - 0s 8ms/step - loss: 0.0105 - EW_loss: 0.0027 - NS_loss: 0.0077 - EW_accuracy: 0.9991 - NS_accuracy: 0.9982 - val_loss: 0.2621 - val_EW_loss: 0.0175 - val_NS_loss: 0.2446 - val_EW_accuracy: 0.9945 - val_NS_accuracy: 0.9406\n",
      "Epoch 56/75\n",
      "1/9 [==>...........................] - ETA: 0s - loss: 0.0071 - EW_loss: 0.0015 - NS_loss: 0.0055 - EW_accuracy: 1.0000 - NS_accuracy: 1.0000\n",
      "Epoch 56: EW_accuracy did not improve from 0.99954\n",
      "9/9 [==============================] - 0s 8ms/step - loss: 0.0094 - EW_loss: 0.0026 - NS_loss: 0.0068 - EW_accuracy: 0.9993 - NS_accuracy: 0.9977 - val_loss: 0.2577 - val_EW_loss: 0.0152 - val_NS_loss: 0.2425 - val_EW_accuracy: 0.9963 - val_NS_accuracy: 0.9443\n",
      "Epoch 57/75\n",
      "1/9 [==>...........................] - ETA: 0s - loss: 0.0147 - EW_loss: 0.0059 - NS_loss: 0.0088 - EW_accuracy: 0.9980 - NS_accuracy: 0.9980\n",
      "Epoch 57: EW_accuracy did not improve from 0.99954\n",
      "9/9 [==============================] - 0s 8ms/step - loss: 0.0097 - EW_loss: 0.0032 - NS_loss: 0.0065 - EW_accuracy: 0.9988 - NS_accuracy: 0.9991 - val_loss: 0.3219 - val_EW_loss: 0.0181 - val_NS_loss: 0.3038 - val_EW_accuracy: 0.9940 - val_NS_accuracy: 0.9351\n",
      "Epoch 58/75\n",
      "1/9 [==>...........................] - ETA: 0s - loss: 0.0060 - EW_loss: 5.3151e-04 - NS_loss: 0.0055 - EW_accuracy: 1.0000 - NS_accuracy: 1.0000\n",
      "Epoch 58: EW_accuracy did not improve from 0.99954\n",
      "9/9 [==============================] - 0s 8ms/step - loss: 0.0086 - EW_loss: 0.0023 - NS_loss: 0.0063 - EW_accuracy: 0.9993 - NS_accuracy: 0.9982 - val_loss: 0.2707 - val_EW_loss: 0.0148 - val_NS_loss: 0.2560 - val_EW_accuracy: 0.9959 - val_NS_accuracy: 0.9420\n",
      "Epoch 59/75\n",
      "1/9 [==>...........................] - ETA: 0s - loss: 0.0060 - EW_loss: 9.1560e-04 - NS_loss: 0.0051 - EW_accuracy: 1.0000 - NS_accuracy: 0.9980\n",
      "Epoch 59: EW_accuracy did not improve from 0.99954\n",
      "9/9 [==============================] - 0s 8ms/step - loss: 0.0074 - EW_loss: 0.0022 - NS_loss: 0.0052 - EW_accuracy: 0.9993 - NS_accuracy: 0.9991 - val_loss: 0.3142 - val_EW_loss: 0.0168 - val_NS_loss: 0.2974 - val_EW_accuracy: 0.9940 - val_NS_accuracy: 0.9374\n",
      "Epoch 60/75\n",
      "1/9 [==>...........................] - ETA: 0s - loss: 0.0135 - EW_loss: 0.0058 - NS_loss: 0.0077 - EW_accuracy: 0.9980 - NS_accuracy: 0.9980\n",
      "Epoch 60: EW_accuracy did not improve from 0.99954\n",
      "9/9 [==============================] - 0s 9ms/step - loss: 0.0065 - EW_loss: 0.0020 - NS_loss: 0.0045 - EW_accuracy: 0.9995 - NS_accuracy: 0.9995 - val_loss: 0.3200 - val_EW_loss: 0.0182 - val_NS_loss: 0.3018 - val_EW_accuracy: 0.9936 - val_NS_accuracy: 0.9374\n",
      "Epoch 61/75\n",
      "1/9 [==>...........................] - ETA: 0s - loss: 0.0028 - EW_loss: 5.4788e-04 - NS_loss: 0.0023 - EW_accuracy: 1.0000 - NS_accuracy: 1.0000\n",
      "Epoch 61: EW_accuracy did not improve from 0.99954\n",
      "9/9 [==============================] - 0s 9ms/step - loss: 0.0066 - EW_loss: 0.0020 - NS_loss: 0.0046 - EW_accuracy: 0.9995 - NS_accuracy: 0.9995 - val_loss: 0.3057 - val_EW_loss: 0.0147 - val_NS_loss: 0.2910 - val_EW_accuracy: 0.9963 - val_NS_accuracy: 0.9406\n",
      "Epoch 62/75\n",
      "1/9 [==>...........................] - ETA: 0s - loss: 0.0024 - EW_loss: 5.9044e-04 - NS_loss: 0.0018 - EW_accuracy: 1.0000 - NS_accuracy: 1.0000\n",
      "Epoch 62: EW_accuracy did not improve from 0.99954\n",
      "9/9 [==============================] - 0s 9ms/step - loss: 0.0066 - EW_loss: 0.0020 - NS_loss: 0.0047 - EW_accuracy: 0.9995 - NS_accuracy: 0.9993 - val_loss: 0.3570 - val_EW_loss: 0.0197 - val_NS_loss: 0.3373 - val_EW_accuracy: 0.9922 - val_NS_accuracy: 0.9351\n",
      "Epoch 63/75\n",
      "1/9 [==>...........................] - ETA: 0s - loss: 0.0027 - EW_loss: 8.3161e-04 - NS_loss: 0.0019 - EW_accuracy: 1.0000 - NS_accuracy: 1.0000\n",
      "Epoch 63: EW_accuracy did not improve from 0.99954\n",
      "9/9 [==============================] - 0s 8ms/step - loss: 0.0061 - EW_loss: 0.0020 - NS_loss: 0.0040 - EW_accuracy: 0.9993 - NS_accuracy: 0.9993 - val_loss: 0.3440 - val_EW_loss: 0.0189 - val_NS_loss: 0.3251 - val_EW_accuracy: 0.9926 - val_NS_accuracy: 0.9378\n",
      "Epoch 64/75\n",
      "1/9 [==>...........................] - ETA: 0s - loss: 0.0021 - EW_loss: 3.6121e-04 - NS_loss: 0.0018 - EW_accuracy: 1.0000 - NS_accuracy: 1.0000\n",
      "Epoch 64: EW_accuracy did not improve from 0.99954\n",
      "9/9 [==============================] - 0s 8ms/step - loss: 0.0054 - EW_loss: 0.0019 - NS_loss: 0.0036 - EW_accuracy: 0.9995 - NS_accuracy: 0.9995 - val_loss: 0.3601 - val_EW_loss: 0.0182 - val_NS_loss: 0.3419 - val_EW_accuracy: 0.9931 - val_NS_accuracy: 0.9351\n",
      "Epoch 65/75\n",
      "1/9 [==>...........................] - ETA: 0s - loss: 0.0122 - EW_loss: 0.0059 - NS_loss: 0.0063 - EW_accuracy: 0.9980 - NS_accuracy: 0.9980\n",
      "Epoch 65: EW_accuracy did not improve from 0.99954\n",
      "9/9 [==============================] - 0s 9ms/step - loss: 0.0052 - EW_loss: 0.0018 - NS_loss: 0.0034 - EW_accuracy: 0.9995 - NS_accuracy: 0.9993 - val_loss: 0.3751 - val_EW_loss: 0.0198 - val_NS_loss: 0.3553 - val_EW_accuracy: 0.9926 - val_NS_accuracy: 0.9342\n",
      "Epoch 66/75\n",
      "1/9 [==>...........................] - ETA: 0s - loss: 0.0022 - EW_loss: 7.3361e-04 - NS_loss: 0.0014 - EW_accuracy: 1.0000 - NS_accuracy: 1.0000\n",
      "Epoch 66: EW_accuracy did not improve from 0.99954\n",
      "9/9 [==============================] - 0s 8ms/step - loss: 0.0050 - EW_loss: 0.0018 - NS_loss: 0.0032 - EW_accuracy: 0.9995 - NS_accuracy: 0.9995 - val_loss: 0.3877 - val_EW_loss: 0.0199 - val_NS_loss: 0.3678 - val_EW_accuracy: 0.9926 - val_NS_accuracy: 0.9328\n",
      "Epoch 67/75\n",
      "1/9 [==>...........................] - ETA: 0s - loss: 0.0036 - EW_loss: 0.0016 - NS_loss: 0.0020 - EW_accuracy: 0.9980 - NS_accuracy: 1.0000\n",
      "Epoch 67: EW_accuracy did not improve from 0.99954\n",
      "9/9 [==============================] - 0s 8ms/step - loss: 0.0049 - EW_loss: 0.0018 - NS_loss: 0.0031 - EW_accuracy: 0.9993 - NS_accuracy: 0.9995 - val_loss: 0.3723 - val_EW_loss: 0.0172 - val_NS_loss: 0.3551 - val_EW_accuracy: 0.9936 - val_NS_accuracy: 0.9351\n",
      "Epoch 68/75\n",
      "1/9 [==>...........................] - ETA: 0s - loss: 0.0023 - EW_loss: 4.6119e-04 - NS_loss: 0.0018 - EW_accuracy: 1.0000 - NS_accuracy: 1.0000\n",
      "Epoch 68: EW_accuracy did not improve from 0.99954\n",
      "9/9 [==============================] - 0s 9ms/step - loss: 0.0049 - EW_loss: 0.0018 - NS_loss: 0.0031 - EW_accuracy: 0.9995 - NS_accuracy: 0.9995 - val_loss: 0.4010 - val_EW_loss: 0.0197 - val_NS_loss: 0.3813 - val_EW_accuracy: 0.9917 - val_NS_accuracy: 0.9332\n",
      "Epoch 69/75\n",
      "1/9 [==>...........................] - ETA: 0s - loss: 0.0126 - EW_loss: 0.0058 - NS_loss: 0.0068 - EW_accuracy: 0.9980 - NS_accuracy: 0.9980\n",
      "Epoch 69: EW_accuracy did not improve from 0.99954\n",
      "9/9 [==============================] - 0s 8ms/step - loss: 0.0050 - EW_loss: 0.0018 - NS_loss: 0.0032 - EW_accuracy: 0.9993 - NS_accuracy: 0.9993 - val_loss: 0.3958 - val_EW_loss: 0.0180 - val_NS_loss: 0.3778 - val_EW_accuracy: 0.9936 - val_NS_accuracy: 0.9337\n",
      "Epoch 70/75\n",
      "1/9 [==>...........................] - ETA: 0s - loss: 0.0014 - EW_loss: 2.8423e-04 - NS_loss: 0.0011 - EW_accuracy: 1.0000 - NS_accuracy: 1.0000\n",
      "Epoch 70: EW_accuracy did not improve from 0.99954\n",
      "9/9 [==============================] - 0s 8ms/step - loss: 0.0051 - EW_loss: 0.0018 - NS_loss: 0.0034 - EW_accuracy: 0.9995 - NS_accuracy: 0.9995 - val_loss: 0.4277 - val_EW_loss: 0.0192 - val_NS_loss: 0.4085 - val_EW_accuracy: 0.9926 - val_NS_accuracy: 0.9296\n",
      "Epoch 71/75\n",
      "1/9 [==>...........................] - ETA: 0s - loss: 0.0124 - EW_loss: 0.0055 - NS_loss: 0.0068 - EW_accuracy: 0.9980 - NS_accuracy: 0.9980\n",
      "Epoch 71: EW_accuracy improved from 0.99954 to 0.99977, saving model to best_model.hdf5\n",
      "9/9 [==============================] - 0s 9ms/step - loss: 0.0044 - EW_loss: 0.0017 - NS_loss: 0.0028 - EW_accuracy: 0.9998 - NS_accuracy: 0.9995 - val_loss: 0.4221 - val_EW_loss: 0.0196 - val_NS_loss: 0.4026 - val_EW_accuracy: 0.9926 - val_NS_accuracy: 0.9328\n",
      "Epoch 72/75\n",
      "1/9 [==>...........................] - ETA: 0s - loss: 0.0117 - EW_loss: 0.0054 - NS_loss: 0.0063 - EW_accuracy: 1.0000 - NS_accuracy: 0.9980\n",
      "Epoch 72: EW_accuracy improved from 0.99977 to 1.00000, saving model to best_model.hdf5\n",
      "9/9 [==============================] - 0s 9ms/step - loss: 0.0042 - EW_loss: 0.0016 - NS_loss: 0.0025 - EW_accuracy: 1.0000 - NS_accuracy: 0.9995 - val_loss: 0.4351 - val_EW_loss: 0.0188 - val_NS_loss: 0.4163 - val_EW_accuracy: 0.9936 - val_NS_accuracy: 0.9309\n",
      "Epoch 73/75\n",
      "1/9 [==>...........................] - ETA: 0s - loss: 0.0013 - EW_loss: 3.2378e-04 - NS_loss: 9.5977e-04 - EW_accuracy: 1.0000 - NS_accuracy: 1.0000\n",
      "Epoch 73: EW_accuracy did not improve from 1.00000\n",
      "9/9 [==============================] - 0s 9ms/step - loss: 0.0041 - EW_loss: 0.0016 - NS_loss: 0.0025 - EW_accuracy: 1.0000 - NS_accuracy: 0.9995 - val_loss: 0.4462 - val_EW_loss: 0.0202 - val_NS_loss: 0.4260 - val_EW_accuracy: 0.9922 - val_NS_accuracy: 0.9323\n",
      "Epoch 74/75\n",
      "1/9 [==>...........................] - ETA: 0s - loss: 8.5644e-04 - EW_loss: 1.9697e-04 - NS_loss: 6.5947e-04 - EW_accuracy: 1.0000 - NS_accuracy: 1.0000\n",
      "Epoch 74: EW_accuracy did not improve from 1.00000\n",
      "9/9 [==============================] - 0s 8ms/step - loss: 0.0041 - EW_loss: 0.0016 - NS_loss: 0.0025 - EW_accuracy: 1.0000 - NS_accuracy: 0.9995 - val_loss: 0.4351 - val_EW_loss: 0.0175 - val_NS_loss: 0.4176 - val_EW_accuracy: 0.9945 - val_NS_accuracy: 0.9314\n",
      "Epoch 75/75\n",
      "1/9 [==>...........................] - ETA: 0s - loss: 0.0216 - EW_loss: 0.0102 - NS_loss: 0.0114 - EW_accuracy: 1.0000 - NS_accuracy: 0.9961\n",
      "Epoch 75: EW_accuracy did not improve from 1.00000\n",
      "9/9 [==============================] - 0s 8ms/step - loss: 0.0041 - EW_loss: 0.0016 - NS_loss: 0.0025 - EW_accuracy: 1.0000 - NS_accuracy: 0.9995 - val_loss: 0.4851 - val_EW_loss: 0.0223 - val_NS_loss: 0.4628 - val_EW_accuracy: 0.9908 - val_NS_accuracy: 0.9291\n",
      "Finished training after 75 epochs.Lowest EW_accuracy: 0.4645  (epoch 1)\n",
      "9/9 [==============================] - 0s 3ms/step - loss: 0.0040 - EW_loss: 0.0016 - NS_loss: 0.0024 - EW_accuracy: 1.0000 - NS_accuracy: 0.9995\n",
      "5/5 [==============================] - 0s 3ms/step - loss: 0.4351 - EW_loss: 0.0188 - NS_loss: 0.4163 - EW_accuracy: 0.9936 - NS_accuracy: 0.9309\n"
     ]
    },
    {
     "data": {
      "text/plain": [
       "[0.435072660446167,\n",
       " 0.018757283687591553,\n",
       " 0.4163154363632202,\n",
       " 0.9935543537139893,\n",
       " 0.9309391975402832]"
      ]
     },
     "execution_count": 13,
     "metadata": {},
     "output_type": "execute_result"
    },
    {
     "data": {
      "image/png": "[encoded data removed]",
      "text/plain": [
       "<Figure size 400x300 with 1 Axes>"
      ]
     },
     "metadata": {},
     "output_type": "display_data"
    },
    {
     "data": {
      "image/png": "[encoded data removed]",
      "text/plain": [
       "<Figure size 400x300 with 1 Axes>"
      ]
     },
     "metadata": {},
     "output_type": "display_data"
    }
   ],
   "source": [
    "#dense_combined_model = prediction_models.Dense_NN(train_combined, dense_layers=[256,128,64], l2_reg=0.001, mixed_dropout=0.15, lr_scheduler=[20000,0.8], seed=0)\n",
    "#dense_combined_model = prediction_models.CNN(train_combined, conv_layers=[128,128,128], l2_reg=0.001, mixed_dropout=0.15, lr_scheduler=[20000,0.8], seed=0)\n",
    "dense_combined_model = prediction_models.Dense_NN(train_combined, dense_layers=[256,128,64], l2_reg=0.0, mixed_dropout=0.0, lr_scheduler=[20000,0.8], seed=0)\n",
    "\n",
    "dense_combined_model.summary()\n",
    "hist = dense_combined_model.fit(train_combined, val_ds=val_combined, target_metric='EW_accuracy', epochs=75, verbose=1, plot_hist=False, callbacks=[], save_best_only=True)\n",
    "dense_combined_model.plot_hist(hist, [k for k in hist.history.keys() if 'loss' in k])\n",
    "dense_combined_model.plot_hist(hist, [k for k in hist.history.keys() if 'accuracy' in k])\n",
    "dense_combined_model.evaluate(train_combined)\n",
    "dense_combined_model.evaluate(val_combined)"
   ]
  },
  {
   "cell_type": "code",
   "execution_count": null,
   "metadata": {},
   "outputs": [],
   "source": [
    "# TODO: find out if we can directly train for precision/challenge metrics\n",
    "# TODO: maybe it makes sense to look at values before and after the node? Given that we are trying to detect changes...\n",
    "# TODO: check if train_NS even contains all the labels in val_NS... in general, train should contain all labels\n",
    "# TODO: Make sure labelencoder gets saved\n",
    "# TODO: some of the features cross sign boundaries -> feature engineering necessary!?\n",
    "# TODO: there is some kind of bug in the prediction_models where callbacks get maintained even when changed"
   ]
  },
  {
   "cell_type": "code",
   "execution_count": 14,
   "metadata": {},
   "outputs": [],
   "source": [
    "def prepare_submission_df(ds, model, model_output_features, label_decoders, smoothing=False, smoothing_past_steps=3, smoothing_fut_steps=10):\n",
    "    '''Prepare dataframes for submission based on models predictions. The output_labels need to be in the same order as they were when creating the dataset!'''\n",
    "    assert(len(model_output_features) == len(label_decoders))\n",
    "    inputs = np.concatenate([element for element in ds.map(lambda x,y,z: x).as_numpy_iterator()])\n",
    "    identifiers = np.concatenate([element for element in ds.map(lambda x,y,z: z).as_numpy_iterator()])\n",
    "    \n",
    "    df = pd.DataFrame(np.concatenate([identifiers.reshape(-1,2)], axis=1), columns=['ObjectID', 'TimeIndex'], dtype=np.int32)\n",
    "\n",
    "    preds = model.predict(inputs)\n",
    "    for ft_idx, feature in enumerate(model_output_features):\n",
    "        labels = np.concatenate([element[feature] for element in ds.map(lambda x,y,z: y).as_numpy_iterator()])\n",
    "        labels_decoded = label_decoders[ft_idx].inverse_transform(labels)\n",
    "        preds_argmax = np.argmax(preds[ft_idx], axis=1) if len(model_output_features)>1 else np.argmax(preds, axis=1)\n",
    "        preds_decoded = label_decoders[ft_idx].inverse_transform(preds_argmax)\n",
    "        df[f'{feature}'] = labels_decoded\n",
    "        df[f'Predicted_{feature}'] = preds_decoded\n",
    "    if smoothing:\n",
    "        df = utils.smooth_predictions(df, past_steps=smoothing_past_steps, fut_steps=smoothing_fut_steps)\n",
    "    return df\n"
   ]
  },
  {
   "cell_type": "code",
   "execution_count": 32,
   "metadata": {},
   "outputs": [],
   "source": [
    "def evaluate_submission_df(prepared_df, ground_truth):\n",
    "    results = utils.convert_classifier_output(prepared_df).sort_values(['ObjectID']).reset_index(drop=True)\n",
    "    evaluator = evaluation.NodeDetectionEvaluator(ground_truth, results)\n",
    "    precision, recall, f2, rmse = evaluator.score()\n",
    "    print(f'Precision: {precision:.2f}')\n",
    "    print(f'Recall: {recall:.2f}')\n",
    "    print(f'F2: {f2:.2f}')\n",
    "    print(f'RMSE: {rmse:.2f}')"
   ]
  },
  {
   "cell_type": "code",
   "execution_count": 35,
   "metadata": {},
   "outputs": [],
   "source": [
    "ground_truth = pd.read_csv(challenge_data_dir / 'train_labels.csv')\n",
    "ground_truth_train = ground_truth[ground_truth['ObjectID'].isin(map(int, ds_gen.train_keys))].copy()\n",
    "ground_truth_val = ground_truth[ground_truth['ObjectID'].isin(map(int, ds_gen.val_keys))].copy()\n",
    "\n",
    "train_EW, val_EW = ds_gen.get_datasets(256, label_features=['EW', 'NS'], shuffle=False, keep_identifier=True)"
   ]
  },
  {
   "cell_type": "code",
   "execution_count": 36,
   "metadata": {},
   "outputs": [
    {
     "name": "stdout",
     "output_type": "stream",
     "text": [
      "136/136 [==============================] - 0s 661us/step\n"
     ]
    },
    {
     "name": "stderr",
     "output_type": "stream",
     "text": [
      "Smoothing: 100%|██████████| 3/3 [00:00<00:00,  4.11it/s]"
     ]
    },
    {
     "name": "stdout",
     "output_type": "stream",
     "text": [
      "Precision: 1.00\n",
      "Recall: 0.67\n",
      "F2: 0.71\n",
      "RMSE: 3.10\n"
     ]
    },
    {
     "name": "stderr",
     "output_type": "stream",
     "text": [
      "\n"
     ]
    }
   ],
   "source": [
    "df_train=prepare_submission_df(ds=train_EW, model=dense_combined_model.model, model_output_features=['EW', 'NS'],\n",
    "                               label_decoders=[ds_gen.combined_label_encoder, ds_gen.combined_label_encoder],\n",
    "                               smoothing=True, smoothing_past_steps=3, smoothing_fut_steps=10)\n",
    "evaluate_submission_df(df_train, ground_truth_train)\n",
    "\n",
    "\n",
    "# Dense result: F2 0.49/0.32 (t/v)\n",
    "# Dense result(w/ future): F2 0.46/0.45 (t/v) (256/128/54)\n",
    "\n",
    "# Conv result (no future): F2 0.53/0.37\n",
    "# Conv result (w/ future): F2 0.51/0.38"
   ]
  },
  {
   "cell_type": "code",
   "execution_count": 37,
   "metadata": {},
   "outputs": [
    {
     "name": "stdout",
     "output_type": "stream",
     "text": [
      "68/68 [==============================] - 0s 828us/step\n"
     ]
    },
    {
     "name": "stderr",
     "output_type": "stream",
     "text": [
      "Smoothing: 100%|██████████| 2/2 [00:00<00:00,  5.51it/s]"
     ]
    },
    {
     "name": "stdout",
     "output_type": "stream",
     "text": [
      "Precision: 0.20\n",
      "Recall: 0.40\n",
      "F2: 0.33\n",
      "RMSE: 4.24\n"
     ]
    },
    {
     "name": "stderr",
     "output_type": "stream",
     "text": [
      "\n"
     ]
    }
   ],
   "source": [
    "train_EW, val_EW = ds_gen.get_datasets(256, label_features=['EW', 'NS'], shuffle=False, keep_identifier=True)\n",
    "df_val=prepare_submission_df(ds=val_EW, model=dense_combined_model.model, model_output_features=['EW', 'NS'],\n",
    "                                label_decoders=[ds_gen.combined_label_encoder, ds_gen.combined_label_encoder],\n",
    "                               smoothing=True, smoothing_past_steps=3, smoothing_fut_steps=10)\n",
    "evaluate_submission_df(df_val, ground_truth_val)\n"
   ]
  }
 ],
 "metadata": {
  "kernelspec": {
   "display_name": "splid",
   "language": "python",
   "name": "python3"
  },
  "language_info": {
   "codemirror_mode": {
    "name": "ipython",
    "version": 3
   },
   "file_extension": ".py",
   "mimetype": "text/x-python",
   "name": "python",
   "nbconvert_exporter": "python",
   "pygments_lexer": "ipython3",
   "version": "3.10.13"
  }
 },
 "nbformat": 4,
 "nbformat_minor": 2
}
