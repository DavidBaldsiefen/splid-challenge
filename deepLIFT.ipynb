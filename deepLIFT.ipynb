{
 "cells": [
  {
   "cell_type": "code",
   "execution_count": 1,
   "metadata": {},
   "outputs": [
    {
     "name": "stderr",
     "output_type": "stream",
     "text": [
      "2024-02-28 20:31:20.496746: E external/local_xla/xla/stream_executor/cuda/cuda_dnn.cc:9261] Unable to register cuDNN factory: Attempting to register factory for plugin cuDNN when one has already been registered\n",
      "2024-02-28 20:31:20.496826: E external/local_xla/xla/stream_executor/cuda/cuda_fft.cc:607] Unable to register cuFFT factory: Attempting to register factory for plugin cuFFT when one has already been registered\n",
      "2024-02-28 20:31:20.497627: E external/local_xla/xla/stream_executor/cuda/cuda_blas.cc:1515] Unable to register cuBLAS factory: Attempting to register factory for plugin cuBLAS when one has already been registered\n",
      "2024-02-28 20:31:20.504242: I tensorflow/core/platform/cpu_feature_guard.cc:182] This TensorFlow binary is optimized to use available CPU instructions in performance-critical operations.\n",
      "To enable the following instructions: AVX2 FMA, in other operations, rebuild TensorFlow with the appropriate compiler flags.\n",
      "2024-02-28 20:31:21.435858: W tensorflow/compiler/tf2tensorrt/utils/py_utils.cc:38] TF-TRT Warning: Could not find TensorRT\n",
      "IProgress not found. Please update jupyter and ipywidgets. See https://ipywidgets.readthedocs.io/en/stable/user_install.html\n"
     ]
    }
   ],
   "source": [
    "import pandas as pd\n",
    "import numpy as np\n",
    "import pickle\n",
    "import gc\n",
    "from pathlib import Path\n",
    "import tensorflow as tf\n",
    "import shap\n",
    "import matplotlib.pyplot as plt\n",
    "\n",
    "%load_ext autoreload\n",
    "%autoreload 2\n",
    "from base import datahandler, prediction_models, evaluation, utils, localizer"
   ]
  },
  {
   "cell_type": "code",
   "execution_count": 2,
   "metadata": {},
   "outputs": [],
   "source": [
    "# Define the directory paths\n",
    "challenge_data_dir = Path('dataset/phase_1_v2/')\n",
    "data_dir = challenge_data_dir / \"train\"\n",
    "labels_dir = challenge_data_dir / 'train_labels.csv'\n",
    "\n",
    "# challenge_data_dir = Path('submission/dataset/')\n",
    "# data_dir = challenge_data_dir / \"test\"\n",
    "# labels_dir = challenge_data_dir / 'test_labels.csv'\n",
    "\n",
    "split_dataframes = datahandler.load_and_prepare_dataframes(data_dir, labels_dir, dtype=np.float32)\n",
    "\n",
    "#some_dataframes = {df_k : split_dataframes[df_k] for df_k in list(split_dataframes.keys())[:900]}"
   ]
  },
  {
   "cell_type": "code",
   "execution_count": 3,
   "metadata": {},
   "outputs": [
    {
     "name": "stdout",
     "output_type": "stream",
     "text": [
      "=========================Creating Generator=======================\n",
      "Seed: 181\n",
      "nTrain: 1520 nVal: 380 (0.80)\n",
      "Padding: none\n",
      "Horizons: 256-256 @ stride 4\n",
      "Scaling: True  \n",
      "Limiting True Anomaly to [0.0, 360.0] and Longitude to [-180.0, 180.0]\n",
      "Diff Transforming features: ['RAAN (deg)', 'Argument of Periapsis (deg)', 'True Anomaly (deg)', 'Longitude (deg)', 'Latitude (deg)']\n",
      "Padding node locations in non-binary fashion ([110.0])\n",
      "Final 11 input features: ['Argument of Periapsis (deg)', 'Argument of Periapsis (deg) (diff)', 'Eccentricity', 'Inclination (deg)', 'Latitude (deg)', 'Latitude (deg) (diff)', 'Longitude (deg) (diff)', 'RAAN (deg)', 'RAAN (deg) (diff)', 'Semimajor Axis (m)', 'True Anomaly (deg) (diff)'] + overview of [] (mean) and [] (std)\n",
      "=========================Finished Generator=======================\n"
     ]
    }
   ],
   "source": [
    "ds_gen = datahandler.DatasetGenerator(split_df=split_dataframes,\n",
    "                                      non_transform_features=['Eccentricity',\n",
    "                                                              'Semimajor Axis (m)',\n",
    "                                                              'Inclination (deg)',\n",
    "                                                              'RAAN (deg)',\n",
    "                                                              'Argument of Periapsis (deg)',\n",
    "                                                              #'True Anomaly (deg)',\n",
    "                                                              #'Longitude (deg)',\n",
    "                                                              'Latitude (deg)'],\n",
    "                                      diff_transform_features=[#'Eccentricity',\n",
    "                                                              #'Semimajor Axis (m)',\n",
    "                                                              #'Inclination (deg)',\n",
    "                                                              'RAAN (deg)',\n",
    "                                                              'Argument of Periapsis (deg)',\n",
    "                                                              'True Anomaly (deg)',\n",
    "                                                              'Longitude (deg)',\n",
    "                                                              'Latitude (deg)'\n",
    "                                                              ],\n",
    "                                      sin_transform_features=[#'Eccentricity',\n",
    "                                                              #'Semimajor Axis (m)',\n",
    "                                                              #'Inclination (deg)',\n",
    "                                                              #'RAAN (deg)',\n",
    "                                                              #'Argument of Periapsis (deg)',\n",
    "                                                              #'True Anomaly (deg)',\n",
    "                                                              #'Longitude (deg)',\n",
    "                                                              #'Latitude (deg)'\n",
    "                                                              ],\n",
    "                                      sin_cos_transform_features=[],\n",
    "                                      overview_features_mean=[#'Longitude (sin)',\n",
    "                                                              #'RAAN (deg)'\n",
    "                                                               ],\n",
    "                                      overview_features_std=[#'Latitude (deg)'\n",
    "                                                             ],\n",
    "                                      add_daytime_feature=False,\n",
    "                                      add_yeartime_feature=False,\n",
    "                                      add_linear_timeindex=False,\n",
    "                                      with_labels=True,\n",
    "                                      nonbinary_padding=[110.0],\n",
    "                                      train_val_split=0.8,\n",
    "                                      input_stride=4,\n",
    "                                      padding='none',\n",
    "                                      input_history_steps=256,\n",
    "                                      input_future_steps=256,\n",
    "                                      per_object_scaling=False,\n",
    "                                      scale=True,\n",
    "                                      custom_scaler=None,\n",
    "                                      unify_value_ranges=True,\n",
    "                                      input_dtype=np.float32,\n",
    "                                      sort_inputs=True,\n",
    "                                      seed=181)"
   ]
  },
  {
   "cell_type": "code",
   "execution_count": 4,
   "metadata": {},
   "outputs": [
    {
     "name": "stderr",
     "output_type": "stream",
     "text": [
      "  0%|          | 0/1520 [00:00<?, ?it/s]"
     ]
    },
    {
     "name": "stderr",
     "output_type": "stream",
     "text": [
      "100%|██████████| 1520/1520 [00:03<00:00, 444.59it/s]\n",
      "2024-02-28 20:32:46.037229: I external/local_xla/xla/stream_executor/cuda/cuda_executor.cc:887] could not open file to read NUMA node: /sys/bus/pci/devices/0000:1c:00.0/numa_node\n",
      "Your kernel may have been built without NUMA support.\n",
      "2024-02-28 20:32:46.057364: I external/local_xla/xla/stream_executor/cuda/cuda_executor.cc:887] could not open file to read NUMA node: /sys/bus/pci/devices/0000:1c:00.0/numa_node\n",
      "Your kernel may have been built without NUMA support.\n",
      "2024-02-28 20:32:46.057451: I external/local_xla/xla/stream_executor/cuda/cuda_executor.cc:887] could not open file to read NUMA node: /sys/bus/pci/devices/0000:1c:00.0/numa_node\n",
      "Your kernel may have been built without NUMA support.\n",
      "2024-02-28 20:32:46.059541: I external/local_xla/xla/stream_executor/cuda/cuda_executor.cc:887] could not open file to read NUMA node: /sys/bus/pci/devices/0000:1c:00.0/numa_node\n",
      "Your kernel may have been built without NUMA support.\n",
      "2024-02-28 20:32:46.059633: I external/local_xla/xla/stream_executor/cuda/cuda_executor.cc:887] could not open file to read NUMA node: /sys/bus/pci/devices/0000:1c:00.0/numa_node\n",
      "Your kernel may have been built without NUMA support.\n",
      "2024-02-28 20:32:46.059725: I external/local_xla/xla/stream_executor/cuda/cuda_executor.cc:887] could not open file to read NUMA node: /sys/bus/pci/devices/0000:1c:00.0/numa_node\n",
      "Your kernel may have been built without NUMA support.\n",
      "2024-02-28 20:32:47.229370: I external/local_xla/xla/stream_executor/cuda/cuda_executor.cc:887] could not open file to read NUMA node: /sys/bus/pci/devices/0000:1c:00.0/numa_node\n",
      "Your kernel may have been built without NUMA support.\n",
      "2024-02-28 20:32:47.229488: I external/local_xla/xla/stream_executor/cuda/cuda_executor.cc:887] could not open file to read NUMA node: /sys/bus/pci/devices/0000:1c:00.0/numa_node\n",
      "Your kernel may have been built without NUMA support.\n",
      "2024-02-28 20:32:47.229502: I tensorflow/core/common_runtime/gpu/gpu_device.cc:2022] Could not identify NUMA node of platform GPU id 0, defaulting to 0.  Your kernel may not have been built with NUMA support.\n",
      "2024-02-28 20:32:47.229580: I external/local_xla/xla/stream_executor/cuda/cuda_executor.cc:887] could not open file to read NUMA node: /sys/bus/pci/devices/0000:1c:00.0/numa_node\n",
      "Your kernel may have been built without NUMA support.\n",
      "2024-02-28 20:32:47.229602: I tensorflow/core/common_runtime/gpu/gpu_device.cc:1929] Created device /job:localhost/replica:0/task:0/device:GPU:0 with 4575 MB memory:  -> device: 0, name: NVIDIA GeForce GTX 1060 6GB, pci bus id: 0000:1c:00.0, compute capability: 6.1\n",
      "100%|██████████| 380/380 [00:00<00:00, 455.44it/s]\n"
     ]
    },
    {
     "name": "stdout",
     "output_type": "stream",
     "text": [
      "(TensorSpec(shape=(None, 128, 11), dtype=tf.float32, name=None), {'EW_Node_Location_nb': TensorSpec(shape=(None,), dtype=tf.float32, name=None), 'NS_Node_Location_nb': TensorSpec(shape=(None,), dtype=tf.float32, name=None)})\n"
     ]
    }
   ],
   "source": [
    "train_ds, val_ds = ds_gen.get_datasets(2048,\n",
    "                                          label_features=['EW_Node_Location_nb', 'NS_Node_Location_nb'],\n",
    "                                          shuffle=False,\n",
    "                                          only_ew_sk=False,\n",
    "                                          stride=1,\n",
    "                                          keep_label_stride=500,\n",
    "                                          verbose=1)\n",
    "print(train_ds.element_spec) # 673786"
   ]
  },
  {
   "cell_type": "code",
   "execution_count": 5,
   "metadata": {},
   "outputs": [],
   "source": [
    "X_t = np.concatenate([element for element in train_ds.map(lambda x,y:x).as_numpy_iterator()])\n",
    "y_t_ew = np.concatenate([element for element in train_ds.map(lambda x,y:y['EW_Node_Location_nb']).as_numpy_iterator()])\n",
    "\n",
    "X_v = np.concatenate([element for element in val_ds.map(lambda x,y:x).as_numpy_iterator()])"
   ]
  },
  {
   "cell_type": "code",
   "execution_count": 6,
   "metadata": {},
   "outputs": [],
   "source": [
    "import tensorflow.compat.v1.keras.backend as K\n",
    "#tf.compat.v1.disable_v2_behavior()\n",
    "tf.compat.v1.disable_eager_execution()"
   ]
  },
  {
   "cell_type": "code",
   "execution_count": 7,
   "metadata": {},
   "outputs": [
    {
     "name": "stdout",
     "output_type": "stream",
     "text": [
      "WARNING:tensorflow:From /home/david/miniconda3/envs/splid-gpu/lib/python3.10/site-packages/keras/src/layers/normalization/batch_normalization.py:883: _colocate_with (from tensorflow.python.framework.ops) is deprecated and will be removed in a future version.\n",
      "Instructions for updating:\n",
      "Colocations handled automatically by placer.\n"
     ]
    },
    {
     "name": "stderr",
     "output_type": "stream",
     "text": [
      "2024-02-28 20:32:50.285083: I external/local_xla/xla/stream_executor/cuda/cuda_executor.cc:887] could not open file to read NUMA node: /sys/bus/pci/devices/0000:1c:00.0/numa_node\n",
      "Your kernel may have been built without NUMA support.\n",
      "2024-02-28 20:32:50.285220: I external/local_xla/xla/stream_executor/cuda/cuda_executor.cc:887] could not open file to read NUMA node: /sys/bus/pci/devices/0000:1c:00.0/numa_node\n",
      "Your kernel may have been built without NUMA support.\n",
      "2024-02-28 20:32:50.285292: I external/local_xla/xla/stream_executor/cuda/cuda_executor.cc:887] could not open file to read NUMA node: /sys/bus/pci/devices/0000:1c:00.0/numa_node\n",
      "Your kernel may have been built without NUMA support.\n",
      "2024-02-28 20:32:50.285615: I external/local_xla/xla/stream_executor/cuda/cuda_executor.cc:887] could not open file to read NUMA node: /sys/bus/pci/devices/0000:1c:00.0/numa_node\n",
      "Your kernel may have been built without NUMA support.\n",
      "2024-02-28 20:32:50.285629: I tensorflow/core/common_runtime/gpu/gpu_device.cc:2022] Could not identify NUMA node of platform GPU id 0, defaulting to 0.  Your kernel may not have been built with NUMA support.\n",
      "2024-02-28 20:32:50.285704: I external/local_xla/xla/stream_executor/cuda/cuda_executor.cc:887] could not open file to read NUMA node: /sys/bus/pci/devices/0000:1c:00.0/numa_node\n",
      "Your kernel may have been built without NUMA support.\n",
      "2024-02-28 20:32:50.285721: I tensorflow/core/common_runtime/gpu/gpu_device.cc:1929] Created device /job:localhost/replica:0/task:0/device:GPU:0 with 4575 MB memory:  -> device: 0, name: NVIDIA GeForce GTX 1060 6GB, pci bus id: 0000:1c:00.0, compute capability: 6.1\n",
      "2024-02-28 20:32:50.299168: I tensorflow/compiler/mlir/mlir_graph_optimization_pass.cc:388] MLIR V1 optimization pass is not enabled\n",
      "2024-02-28 20:32:50.338697: W tensorflow/c/c_api.cc:305] Operation '{name:'NS_Node_Location_nb/bias/Assign' id:389 op device:{requested: '', assigned: ''} def:{{{node NS_Node_Location_nb/bias/Assign}} = AssignVariableOp[_has_manual_control_dependencies=true, dtype=DT_FLOAT, validate_shape=false](NS_Node_Location_nb/bias, NS_Node_Location_nb/bias/Initializer/zeros)}}' was changed by setting attribute after it was run by a session. This mutation will have no effect, and will trigger an error in the future. Either don't modify nodes after running them or create a new session.\n"
     ]
    }
   ],
   "source": [
    "model = tf.keras.models.load_model(\"submission/models/ID_localizer_cnn.hdf5\", compile=False)"
   ]
  },
  {
   "cell_type": "code",
   "execution_count": 8,
   "metadata": {},
   "outputs": [
    {
     "name": "stdout",
     "output_type": "stream",
     "text": [
      "Model: \"model\"\n",
      "_________________________________________________________________\n",
      " Layer (type)                Output Shape              Param #   \n",
      "=================================================================\n",
      " Input (InputLayer)          [(None, 128, 11)]         0         \n",
      "                                                                 \n",
      " conv1d (Conv1D)             (None, 122, 64)           4992      \n",
      "                                                                 \n",
      " batch_normalization (Batch  (None, 122, 64)           256       \n",
      " Normalization)                                                  \n",
      "                                                                 \n",
      " activation (Activation)     (None, 122, 64)           0         \n",
      "                                                                 \n",
      " dropout (Dropout)           (None, 122, 64)           0         \n",
      "                                                                 \n",
      " conv1d_1 (Conv1D)           (None, 116, 64)           28736     \n",
      "                                                                 \n",
      " batch_normalization_1 (Bat  (None, 116, 64)           256       \n",
      " chNormalization)                                                \n",
      "                                                                 \n",
      " activation_1 (Activation)   (None, 116, 64)           0         \n",
      "                                                                 \n",
      " dropout_1 (Dropout)         (None, 116, 64)           0         \n",
      "                                                                 \n",
      " conv1d_2 (Conv1D)           (None, 55, 48)            21552     \n",
      "                                                                 \n",
      " batch_normalization_2 (Bat  (None, 55, 48)            192       \n",
      " chNormalization)                                                \n",
      "                                                                 \n",
      " activation_2 (Activation)   (None, 55, 48)            0         \n",
      "                                                                 \n",
      " dropout_2 (Dropout)         (None, 55, 48)            0         \n",
      "                                                                 \n",
      " flatten (Flatten)           (None, 2640)              0         \n",
      "                                                                 \n",
      " dense (Dense)               (None, 64)                169024    \n",
      "                                                                 \n",
      " activation_3 (Activation)   (None, 64)                0         \n",
      "                                                                 \n",
      " dropout_3 (Dropout)         (None, 64)                0         \n",
      "                                                                 \n",
      " dense_1 (Dense)             (None, 32)                2080      \n",
      "                                                                 \n",
      " activation_4 (Activation)   (None, 32)                0         \n",
      "                                                                 \n",
      " dropout_4 (Dropout)         (None, 32)                0         \n",
      "                                                                 \n",
      " EW_Node_Location_nb (Dense  (None, 1)                 33        \n",
      " )                                                               \n",
      "                                                                 \n"
     ]
    },
    {
     "name": "stdout",
     "output_type": "stream",
     "text": [
      "=================================================================\n",
      "Total params: 227121 (887.19 KB)\n",
      "Trainable params: 226769 (885.82 KB)\n",
      "Non-trainable params: 352 (1.38 KB)\n",
      "_________________________________________________________________\n",
      "None\n",
      "Model: \"model_1\"\n",
      "_________________________________________________________________\n",
      " Layer (type)                Output Shape              Param #   \n",
      "=================================================================\n",
      " Input (InputLayer)          [(None, 128, 11)]         0         \n",
      "                                                                 \n",
      " conv1d (Conv1D)             (None, 122, 64)           4992      \n",
      "                                                                 \n",
      " batch_normalization (Batch  (None, 122, 64)           256       \n",
      " Normalization)                                                  \n",
      "                                                                 \n",
      " activation (Activation)     (None, 122, 64)           0         \n",
      "                                                                 \n",
      " dropout (Dropout)           (None, 122, 64)           0         \n",
      "                                                                 \n",
      " conv1d_1 (Conv1D)           (None, 116, 64)           28736     \n",
      "                                                                 \n",
      " batch_normalization_1 (Bat  (None, 116, 64)           256       \n",
      " chNormalization)                                                \n",
      "                                                                 \n",
      " activation_1 (Activation)   (None, 116, 64)           0         \n",
      "                                                                 \n",
      " dropout_1 (Dropout)         (None, 116, 64)           0         \n",
      "                                                                 \n",
      " conv1d_2 (Conv1D)           (None, 55, 48)            21552     \n",
      "                                                                 \n",
      " batch_normalization_2 (Bat  (None, 55, 48)            192       \n",
      " chNormalization)                                                \n",
      "                                                                 \n",
      " activation_2 (Activation)   (None, 55, 48)            0         \n",
      "                                                                 \n",
      " dropout_2 (Dropout)         (None, 55, 48)            0         \n",
      "                                                                 \n",
      " flatten (Flatten)           (None, 2640)              0         \n",
      "                                                                 \n",
      " dense (Dense)               (None, 64)                169024    \n",
      "                                                                 \n",
      " activation_3 (Activation)   (None, 64)                0         \n",
      "                                                                 \n",
      " dropout_3 (Dropout)         (None, 64)                0         \n",
      "                                                                 \n",
      " dense_1 (Dense)             (None, 32)                2080      \n",
      "                                                                 \n",
      " activation_4 (Activation)   (None, 32)                0         \n",
      "                                                                 \n",
      " dropout_4 (Dropout)         (None, 32)                0         \n",
      "                                                                 \n",
      " NS_Node_Location_nb (Dense  (None, 1)                 33        \n",
      " )                                                               \n",
      "                                                                 \n",
      "=================================================================\n",
      "Total params: 227121 (887.19 KB)\n",
      "Trainable params: 226769 (885.82 KB)\n",
      "Non-trainable params: 352 (1.38 KB)\n",
      "_________________________________________________________________\n",
      "None\n"
     ]
    }
   ],
   "source": [
    "ew_model = tf.keras.Model(model.input, model.layers[-2].output)\n",
    "ns_model = tf.keras.Model(model.input, model.layers[-1].output)\n",
    "print(ew_model.summary())\n",
    "print(ns_model.summary())"
   ]
  },
  {
   "cell_type": "code",
   "execution_count": 9,
   "metadata": {},
   "outputs": [
    {
     "name": "stderr",
     "output_type": "stream",
     "text": [
      "2024-02-28 20:32:51.634481: I external/local_xla/xla/stream_executor/cuda/cuda_dnn.cc:454] Loaded cuDNN version 8904\n"
     ]
    }
   ],
   "source": [
    "ew_explainer = shap.GradientExplainer(ew_model, X_t[200:1000])\n",
    "shap_values_ew = ew_explainer.shap_values(X_v[1000:1400])\n",
    "shap_values_ew = np.abs(shap_values_ew)\n",
    "shap_values_ew = np.mean(shap_values_ew, axis=1)\n",
    "\n",
    "ns_explainer = shap.GradientExplainer(ns_model, X_t[200:1000])\n",
    "shap_values_ns = ns_explainer.shap_values(X_v[1000:1400])\n",
    "shap_values_ns = np.abs(shap_values_ns)\n",
    "shap_values_ns = np.mean(shap_values_ns, axis=1)"
   ]
  },
  {
   "cell_type": "code",
   "execution_count": 13,
   "metadata": {},
   "outputs": [
    {
     "data": {
      "text/plain": [
       "(1, 128, 11)"
      ]
     },
     "execution_count": 13,
     "metadata": {},
     "output_type": "execute_result"
    }
   ],
   "source": [
    "shap_values_ew.shape"
   ]
  },
  {
   "cell_type": "code",
   "execution_count": 11,
   "metadata": {},
   "outputs": [
    {
     "ename": "ValueError",
     "evalue": "cannot reshape array of size 1408 into shape (80,11)",
     "output_type": "error",
     "traceback": [
      "\u001b[0;31m---------------------------------------------------------------------------\u001b[0m",
      "\u001b[0;31mValueError\u001b[0m                                Traceback (most recent call last)",
      "Cell \u001b[0;32mIn[11], line 1\u001b[0m\n\u001b[0;32m----> 1\u001b[0m df_ew \u001b[38;5;241m=\u001b[39m pd\u001b[38;5;241m.\u001b[39mDataFrame(\u001b[43mshap_values_ew\u001b[49m\u001b[38;5;241;43m.\u001b[39;49m\u001b[43mreshape\u001b[49m\u001b[43m(\u001b[49m\u001b[43m(\u001b[49m\u001b[38;5;241;43m80\u001b[39;49m\u001b[43m,\u001b[49m\u001b[38;5;241;43m11\u001b[39;49m\u001b[43m)\u001b[49m\u001b[43m)\u001b[49m, columns\u001b[38;5;241m=\u001b[39mds_gen\u001b[38;5;241m.\u001b[39m_input_features)\n\u001b[1;32m      2\u001b[0m df_ew[\u001b[38;5;124m'\u001b[39m\u001b[38;5;124mTIME\u001b[39m\u001b[38;5;124m'\u001b[39m] \u001b[38;5;241m=\u001b[39m \u001b[38;5;28mrange\u001b[39m(\u001b[38;5;241m-\u001b[39m\u001b[38;5;241m256\u001b[39m,\u001b[38;5;241m256\u001b[39m,\u001b[38;5;241m4\u001b[39m)\n\u001b[1;32m      4\u001b[0m df_ns \u001b[38;5;241m=\u001b[39m pd\u001b[38;5;241m.\u001b[39mDataFrame(shap_values_ns\u001b[38;5;241m.\u001b[39mreshape((\u001b[38;5;241m80\u001b[39m,\u001b[38;5;241m11\u001b[39m)), columns\u001b[38;5;241m=\u001b[39mds_gen\u001b[38;5;241m.\u001b[39m_input_features)\n",
      "\u001b[0;31mValueError\u001b[0m: cannot reshape array of size 1408 into shape (80,11)"
     ]
    }
   ],
   "source": [
    "df_ew = pd.DataFrame(shap_values_ew[0,:,:], columns=ds_gen._input_features)\n",
    "df_ew['TIME'] = range(-256,256,4)\n",
    "\n",
    "df_ns = pd.DataFrame(shap_values_ns[0,:,:], columns=ds_gen._input_features)\n",
    "df_ns['TIME'] = range(-256,256,4)\n",
    "df_ns.head(5)"
   ]
  },
  {
   "cell_type": "code",
   "execution_count": 12,
   "metadata": {},
   "outputs": [
    {
     "ename": "NameError",
     "evalue": "name 'df_ew' is not defined",
     "output_type": "error",
     "traceback": [
      "\u001b[0;31m---------------------------------------------------------------------------\u001b[0m",
      "\u001b[0;31mNameError\u001b[0m                                 Traceback (most recent call last)",
      "Cell \u001b[0;32mIn[12], line 1\u001b[0m\n\u001b[0;32m----> 1\u001b[0m \u001b[43mdf_ew\u001b[49m\u001b[38;5;241m.\u001b[39mplot\u001b[38;5;241m.\u001b[39marea(x\u001b[38;5;241m=\u001b[39m\u001b[38;5;124m'\u001b[39m\u001b[38;5;124mTIME\u001b[39m\u001b[38;5;124m'\u001b[39m,figsize\u001b[38;5;241m=\u001b[39m(\u001b[38;5;241m10\u001b[39m, \u001b[38;5;241m6\u001b[39m), cmap\u001b[38;5;241m=\u001b[39m\u001b[38;5;124m'\u001b[39m\u001b[38;5;124mviridis\u001b[39m\u001b[38;5;124m'\u001b[39m)\n\u001b[1;32m      2\u001b[0m plt\u001b[38;5;241m.\u001b[39mtitle(\u001b[38;5;124m\"\u001b[39m\u001b[38;5;124mDeep SHAP - Feature Importance [EW]\u001b[39m\u001b[38;5;124m\"\u001b[39m)\n\u001b[1;32m      3\u001b[0m plt\u001b[38;5;241m.\u001b[39mshow()\n",
      "\u001b[0;31mNameError\u001b[0m: name 'df_ew' is not defined"
     ]
    }
   ],
   "source": [
    "df_ew.plot.area(x='TIME',figsize=(10, 6), cmap='viridis')\n",
    "plt.title(\"Deep SHAP - Feature Importance [EW]\")\n",
    "plt.show()\n",
    "\n",
    "df_ns.plot.area(x='TIME',figsize=(10, 6), cmap='viridis')\n",
    "plt.title(\"Deep SHAP - Feature Importance [NS]\")\n",
    "plt.show()"
   ]
  },
  {
   "cell_type": "code",
   "execution_count": null,
   "metadata": {},
   "outputs": [
    {
     "name": "stdout",
     "output_type": "stream",
     "text": [
      "Argument of Periapsis (deg)           12.379852\n",
      "Argument of Periapsis (deg) (diff)     2.923424\n",
      "Eccentricity                          50.990516\n",
      "Inclination (deg)                     12.537496\n",
      "Latitude (deg)                        13.439379\n",
      "dtype: float64\n",
      "Argument of Periapsis (deg)           0.315681\n",
      "Argument of Periapsis (deg) (diff)    0.148079\n",
      "Eccentricity                          1.000000\n",
      "Inclination (deg)                     0.318475\n",
      "Latitude (deg)                        0.334460\n",
      "dtype: float64\n"
     ]
    },
    {
     "data": {
      "image/png": "[encoded data removed]",
      "text/plain": [
       "<Figure size 1000x600 with 1 Axes>"
      ]
     },
     "metadata": {},
     "output_type": "display_data"
    }
   ],
   "source": [
    "# sum up values of columns for a feature importance overview\n",
    "from sklearn.preprocessing import MinMaxScaler\n",
    "scaler=MinMaxScaler((0.1,1.0))\n",
    "fig, ax  = plt.subplots(figsize=(10,6))\n",
    "sum_of_columns_ew = df_ew[ds_gen._input_features].sum()\n",
    "print(sum_of_columns_ew.head())\n",
    "scaled_data_ew = scaler.fit_transform(sum_of_columns_ew.values.reshape(-1,1))\n",
    "sum_of_columns_ew.update(pd.Series(scaled_data_ew[:,0], index=sum_of_columns_ew.index))\n",
    "print(sum_of_columns_ew.head())\n",
    "sum_of_columns_ew.plot(kind='barh', color='blue', ax=ax, position=0.8, label='EW-feature sums')\n",
    "\n",
    "sum_of_columns_ns = df_ns[ds_gen._input_features].sum()\n",
    "scaled_data_ns = scaler.fit_transform(sum_of_columns_ns.values.reshape(-1,1))\n",
    "sum_of_columns_ns.update(pd.Series(scaled_data_ns[:,0], index=sum_of_columns_ns.index))\n",
    "sum_of_columns_ns.plot(kind='barh', color='orange', ax=ax, position=0.2, label='NS-feature sums')\n",
    "\n",
    "# Customize the plot\n",
    "ax.set_title('Overall relative feature importance')\n",
    "ax.legend()\n",
    "plt.show()"
   ]
  },
  {
   "cell_type": "code",
   "execution_count": null,
   "metadata": {},
   "outputs": [],
   "source": []
  }
 ],
 "metadata": {
  "kernelspec": {
   "display_name": "splid-gpu",
   "language": "python",
   "name": "python3"
  },
  "language_info": {
   "codemirror_mode": {
    "name": "ipython",
    "version": 3
   },
   "file_extension": ".py",
   "mimetype": "text/x-python",
   "name": "python",
   "nbconvert_exporter": "python",
   "pygments_lexer": "ipython3",
   "version": "3.10.13"
  }
 },
 "nbformat": 4,
 "nbformat_minor": 2
}
